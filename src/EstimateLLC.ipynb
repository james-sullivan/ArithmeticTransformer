{
 "cells": [
  {
   "cell_type": "markdown",
   "metadata": {},
   "source": [
    "### Load the data"
   ]
  },
  {
   "cell_type": "code",
   "execution_count": 17,
   "metadata": {},
   "outputs": [
    {
     "name": "stdout",
     "output_type": "stream",
     "text": [
      "len(train_losses) = 6000 len(test_losses) = 6000 len(model_checkpoints) = 120\n",
      "train_data.shape = torch.Size([16900, 3]) train_labels.shape = torch.Size([16900])\n",
      "train_data[:5] = tensor([[ 71,   0,  13],\n",
      "        [ 65,   0,   0],\n",
      "        [121,   1,  24],\n",
      "        [ 26,   0,  77],\n",
      "        [ 42,   1,  35]]) train_labels[:5] = tensor([19,  0, 32, 81, 77])\n"
     ]
    }
   ],
   "source": [
    "import torch\n",
    "from transformer_lens import HookedTransformer, HookedTransformerConfig\n",
    "from neel_plotly.plot import line\n",
    "from helpers import loss_fn\n",
    "from devinterp.slt.sampler import estimate_learning_coeff_with_summary, estimate_learning_coeff, SGLD\n",
    "from devinterp.utils import plot_trace\n",
    "import tqdm.auto as tqdm\n",
    "import os\n",
    "from pathlib import Path\n",
    "from helpers import rolling_average\n",
    "\n",
    "CREATE_ESTIMATES = True\n",
    "TUNE_HYPERPARAMS = True\n",
    "\n",
    "device = \"cuda\" if torch.cuda.is_available() else \"cpu\"\n",
    "RAND_SEED = 42\n",
    "\n",
    "if CREATE_ESTIMATES:\n",
    "    LOAD_LOCATION = \"../saves/check_point_50/grokking_add_multi_0.65.pth\"\n",
    "\n",
    "    cached_data = torch.load(LOAD_LOCATION, weights_only=False)\n",
    "\n",
    "    state_dict = cached_data['model']\n",
    "    model_checkpoints = cached_data[\"checkpoints\"]\n",
    "    checkpoint_epochs = cached_data[\"checkpoint_epochs\"]\n",
    "    test_losses = cached_data['test_losses']\n",
    "    train_losses = cached_data['train_losses']\n",
    "    add_test_losses = cached_data['add_test_losses']\n",
    "    multi_test_losses = cached_data['multi_test_losses']\n",
    "    max_nums = cached_data['max_nums']\n",
    "    mod_value = cached_data['mod_value']\n",
    "    train_frac = cached_data['train_frac']\n",
    "    addition_frac = cached_data['addition_frac']\n",
    "    train_data = cached_data['train_data']\n",
    "    train_labels = cached_data['train_labels']\n",
    "\n",
    "    # print(f\"train_frac = {train_frac} addition_frac = {addition_frac}\")\n",
    "    print(f\"len(train_losses) = {len(train_losses)} len(test_losses) = {len(test_losses)} len(model_checkpoints) = {len(model_checkpoints)}\")\n",
    "    print(f\"train_data.shape = {train_data.shape} train_labels.shape = {train_labels.shape}\")\n",
    "    print(f\"train_data[:5] = {train_data[:5]} train_labels[:5] = {train_labels[:5]}\")"
   ]
  },
  {
   "cell_type": "code",
   "execution_count": 2,
   "metadata": {},
   "outputs": [
    {
     "name": "stdout",
     "output_type": "stream",
     "text": [
      "train_loader = 529\n"
     ]
    }
   ],
   "source": [
    "from torch.utils.data import TensorDataset, DataLoader\n",
    "if CREATE_ESTIMATES:\n",
    "    train_loader = DataLoader(TensorDataset(train_data, train_labels), batch_size=32, shuffle=True)\n",
    "    print(f\"train_loader = {len(train_loader)}\")"
   ]
  },
  {
   "cell_type": "markdown",
   "metadata": {},
   "source": [
    "### Setup the Model"
   ]
  },
  {
   "cell_type": "code",
   "execution_count": 3,
   "metadata": {},
   "outputs": [],
   "source": [
    "if CREATE_ESTIMATES:\n",
    "    cfg = HookedTransformerConfig(\n",
    "        n_layers = 1,\n",
    "        n_heads = 4,\n",
    "        d_model = 128,\n",
    "        d_head = 32,\n",
    "        d_mlp = 512,\n",
    "        act_fn = \"relu\",\n",
    "        normalization_type= \"LN\" if \"blocks.0.ln1.w\" in state_dict else None,\n",
    "        d_vocab=max_nums+1,\n",
    "        d_vocab_out=mod_value,\n",
    "        n_ctx= train_data.shape[1],\n",
    "        init_weights=True,\n",
    "        device=device,\n",
    "        seed = RAND_SEED,\n",
    "    )\n",
    "\n",
    "    model = HookedTransformer(cfg)"
   ]
  },
  {
   "cell_type": "markdown",
   "metadata": {},
   "source": [
    "### Local Learning Coefficient (RLCT) Estimation"
   ]
  },
  {
   "cell_type": "markdown",
   "metadata": {},
   "source": [
    "#### Config"
   ]
  },
  {
   "cell_type": "code",
   "execution_count": 102,
   "metadata": {},
   "outputs": [],
   "source": [
    "lr = 3e-2\n",
    "num_chains = 3\n",
    "num_draws = 150\n",
    "num_burnin_steps = 50\n",
    "num_steps_bw_draws = 1\n",
    "gamma = 10\n",
    "nbeta = 1.6\n",
    "sampling_method = \"sgld\"\n",
    "\n",
    "def evaluate(model, data):\n",
    "    inputs, outputs = data\n",
    "\n",
    "    return loss_fn(model(inputs), outputs), {\n",
    "        \"logits\": model(inputs)\n",
    "    }"
   ]
  },
  {
   "cell_type": "markdown",
   "metadata": {},
   "source": [
    "#### Find the right hyperparameters"
   ]
  },
  {
   "cell_type": "code",
   "execution_count": 9,
   "metadata": {},
   "outputs": [],
   "source": [
    "import typing\n",
    "from typing import Type\n",
    "\n",
    "import numpy as np\n",
    "\n",
    "\n",
    "def estimate_llc_given_model(\n",
    "    model: torch.nn.Module,\n",
    "    loader: torch.utils.data.DataLoader,\n",
    "    evaluate: typing.Callable,\n",
    "    epsilon: float,\n",
    "    beta: float,\n",
    "    sampling_method: Type[torch.optim.Optimizer] = SGLD,\n",
    "    localization: float = 5.0,\n",
    "    num_chains: int = 3,\n",
    "    num_draws: int = 500,\n",
    "    num_burnin_steps: int = 0,\n",
    "    num_steps_bw_draws: int = 1,\n",
    "    device: torch.device = torch.device(\"cpu\"),\n",
    "    online: bool = True,\n",
    "    verbose: bool = False,\n",
    "):\n",
    "\n",
    "    sweep_stats = estimate_learning_coeff_with_summary(\n",
    "        model,\n",
    "        loader=loader,\n",
    "        evaluate=evaluate,\n",
    "        sampling_method=sampling_method,\n",
    "        optimizer_kwargs=dict(lr=epsilon, localization=localization, nbeta=beta),\n",
    "        num_chains=num_chains,  # How many independent chains to run\n",
    "        num_draws=num_draws,  # How many samples to draw per chain\n",
    "        num_burnin_steps=num_burnin_steps,  # How many samples to discard at the beginning of each chain\n",
    "        num_steps_bw_draws=num_steps_bw_draws,  # How many steps to take between each sample\n",
    "        device=device,\n",
    "        online=online,\n",
    "        verbose=verbose,\n",
    "    )\n",
    "\n",
    "    sweep_stats[\"llc/trace\"] = np.array(sweep_stats[\"llc/trace\"])\n",
    "    return sweep_stats"
   ]
  },
  {
   "cell_type": "code",
   "execution_count": 14,
   "metadata": {},
   "outputs": [
    {
     "name": "stderr",
     "output_type": "stream",
     "text": [
      "/Users/james/dev/ArithmeticTransformer/.venv/lib/python3.12/site-packages/devinterp/vis_utils.py:86: UserWarning:\n",
      "\n",
      "Epsilon values greater than 1e-2 typically lead to instability in the sampling process. Consider reducing epsilon to between 1e-6 and 1e-2.\n",
      "\n",
      "  0%|          | 0/25 [00:00<?, ?it/s]/Users/james/dev/ArithmeticTransformer/.venv/lib/python3.12/site-packages/devinterp/slt/sampler.py:118: UserWarning:\n",
      "\n",
      "Using passed in nbeta. Make sure callbacks are also initialized with the same nbeta.\n",
      "\n",
      "/Users/james/dev/ArithmeticTransformer/.venv/lib/python3.12/site-packages/devinterp/backends/default/slt/sampler.py:232: UserWarning:\n",
      "\n",
      "You are taking more draws than burn-in steps, your LLC estimates will likely be underestimates. Please check LLC chain convergence.\n",
      "\n",
      "/Users/james/dev/ArithmeticTransformer/.venv/lib/python3.12/site-packages/devinterp/backends/default/slt/sampler.py:277: UserWarning:\n",
      "\n",
      "If you're setting a nbeta or temperature in optimizer_kwargs, please also make sure to set it in the callbacks.\n",
      "\n",
      "/Users/james/dev/ArithmeticTransformer/.venv/lib/python3.12/site-packages/torch/storage.py:414: FutureWarning:\n",
      "\n",
      "You are using `torch.load` with `weights_only=False` (the current default value), which uses the default pickle module implicitly. It is possible to construct malicious pickle data which will execute arbitrary code during unpickling (See https://github.com/pytorch/pytorch/blob/main/SECURITY.md#untrusted-models for more details). In a future release, the default value for `weights_only` will be flipped to `True`. This limits the functions that could be executed during unpickling. Arbitrary objects will no longer be allowed to be loaded via this mode unless they are explicitly allowlisted by the user via `torch.serialization.add_safe_globals`. We recommend you start setting `weights_only=True` for any use case where you don't have full control of the loaded file. Please open an issue on GitHub for any issues related to this experimental feature.\n",
      "\n"
     ]
    },
    {
     "name": "stdout",
     "output_type": "stream",
     "text": [
      "Moving model to device:  cpu\n",
      "Moving model to device:  cpu\n",
      "Moving model to device:  cpu\n",
      "Moving model to device:  cpu\n",
      "Moving model to device:  cpu\n",
      "Moving model to device:  cpu\n"
     ]
    },
    {
     "name": "stderr",
     "output_type": "stream",
     "text": [
      "  4%|▍         | 1/25 [00:07<02:53,  7.24s/it]"
     ]
    },
    {
     "name": "stdout",
     "output_type": "stream",
     "text": [
      "Moving model to device:  cpu\n",
      "Moving model to device:  cpu\n",
      "Moving model to device:  cpu\n",
      "Moving model to device:  cpu\n",
      "Moving model to device:  cpu\n",
      "Moving model to device:  cpu\n"
     ]
    },
    {
     "name": "stderr",
     "output_type": "stream",
     "text": [
      "  8%|▊         | 2/25 [00:14<02:49,  7.39s/it]"
     ]
    },
    {
     "name": "stdout",
     "output_type": "stream",
     "text": [
      "Moving model to device:  cpu\n",
      "Moving model to device:  cpu\n",
      "Moving model to device:  cpu\n",
      "Moving model to device:  cpu\n",
      "Moving model to device:  cpu\n",
      "Moving model to device:  cpu\n"
     ]
    },
    {
     "name": "stderr",
     "output_type": "stream",
     "text": [
      " 12%|█▏        | 3/25 [00:22<02:46,  7.56s/it]"
     ]
    },
    {
     "name": "stdout",
     "output_type": "stream",
     "text": [
      "Moving model to device:  cpu\n",
      "Moving model to device:  cpu\n",
      "Moving model to device:  cpu\n",
      "Moving model to device:  cpu\n",
      "Moving model to device:  cpu\n",
      "Moving model to device:  cpu\n"
     ]
    },
    {
     "name": "stderr",
     "output_type": "stream",
     "text": [
      " 16%|█▌        | 4/25 [00:29<02:37,  7.50s/it]"
     ]
    },
    {
     "name": "stdout",
     "output_type": "stream",
     "text": [
      "Moving model to device:  cpu\n",
      "Moving model to device:  cpu\n",
      "Moving model to device:  cpu\n",
      "Moving model to device:  cpu\n",
      "Moving model to device:  cpu\n",
      "Moving model to device:  cpu\n"
     ]
    },
    {
     "name": "stderr",
     "output_type": "stream",
     "text": [
      " 20%|██        | 5/25 [00:37<02:33,  7.66s/it]"
     ]
    },
    {
     "name": "stdout",
     "output_type": "stream",
     "text": [
      "Moving model to device:  cpu\n",
      "Moving model to device:  cpu\n",
      "Moving model to device:  cpu\n",
      "Moving model to device:  cpu\n",
      "Moving model to device:  cpu\n",
      "Moving model to device:  cpu\n"
     ]
    },
    {
     "name": "stderr",
     "output_type": "stream",
     "text": [
      " 24%|██▍       | 6/25 [00:45<02:24,  7.61s/it]"
     ]
    },
    {
     "name": "stdout",
     "output_type": "stream",
     "text": [
      "Moving model to device:  cpu\n",
      "Moving model to device:  cpu\n",
      "Moving model to device:  cpu\n",
      "Moving model to device:  cpu\n",
      "Moving model to device:  cpu\n",
      "Moving model to device:  cpu\n"
     ]
    },
    {
     "name": "stderr",
     "output_type": "stream",
     "text": [
      " 28%|██▊       | 7/25 [00:52<02:14,  7.45s/it]"
     ]
    },
    {
     "name": "stdout",
     "output_type": "stream",
     "text": [
      "Moving model to device:  cpu\n",
      "Moving model to device:  cpu\n",
      "Moving model to device:  cpu\n",
      "Moving model to device:  cpu\n",
      "Moving model to device:  cpu\n",
      "Moving model to device:  cpu\n"
     ]
    },
    {
     "name": "stderr",
     "output_type": "stream",
     "text": [
      " 32%|███▏      | 8/25 [00:59<02:06,  7.43s/it]"
     ]
    },
    {
     "name": "stdout",
     "output_type": "stream",
     "text": [
      "Moving model to device:  cpu\n",
      "Moving model to device:  cpu\n",
      "Moving model to device:  cpu\n",
      "Moving model to device:  cpu\n",
      "Moving model to device:  cpu\n",
      "Moving model to device:  cpu\n"
     ]
    },
    {
     "name": "stderr",
     "output_type": "stream",
     "text": [
      " 36%|███▌      | 9/25 [01:07<01:57,  7.36s/it]"
     ]
    },
    {
     "name": "stdout",
     "output_type": "stream",
     "text": [
      "Moving model to device:  cpu\n",
      "Moving model to device:  cpu\n",
      "Moving model to device:  cpu\n",
      "Moving model to device:  cpu\n",
      "Moving model to device:  cpu\n",
      "Moving model to device:  cpu\n"
     ]
    },
    {
     "name": "stderr",
     "output_type": "stream",
     "text": [
      " 40%|████      | 10/25 [01:14<01:52,  7.50s/it]"
     ]
    },
    {
     "name": "stdout",
     "output_type": "stream",
     "text": [
      "Moving model to device:  cpu\n",
      "Moving model to device:  cpu\n",
      "Moving model to device:  cpu\n",
      "Moving model to device:  cpu\n",
      "Moving model to device:  cpu\n",
      "Moving model to device:  cpu\n"
     ]
    },
    {
     "name": "stderr",
     "output_type": "stream",
     "text": [
      " 44%|████▍     | 11/25 [01:22<01:46,  7.62s/it]"
     ]
    },
    {
     "name": "stdout",
     "output_type": "stream",
     "text": [
      "Moving model to device:  cpu\n",
      "Moving model to device:  cpu\n",
      "Moving model to device:  cpu\n",
      "Moving model to device:  cpu\n",
      "Moving model to device:  cpu\n",
      "Moving model to device:  cpu\n"
     ]
    },
    {
     "name": "stderr",
     "output_type": "stream",
     "text": [
      " 48%|████▊     | 12/25 [01:30<01:38,  7.59s/it]"
     ]
    },
    {
     "name": "stdout",
     "output_type": "stream",
     "text": [
      "Moving model to device:  cpu\n",
      "Moving model to device:  cpu\n",
      "Moving model to device:  cpu\n",
      "Moving model to device:  cpu\n",
      "Moving model to device:  cpu\n",
      "Moving model to device:  cpu\n"
     ]
    },
    {
     "name": "stderr",
     "output_type": "stream",
     "text": [
      " 52%|█████▏    | 13/25 [01:38<01:31,  7.63s/it]"
     ]
    },
    {
     "name": "stdout",
     "output_type": "stream",
     "text": [
      "Moving model to device:  cpu\n",
      "Moving model to device:  cpu\n",
      "Moving model to device:  cpu\n",
      "Moving model to device:  cpu\n",
      "Moving model to device:  cpu\n",
      "Moving model to device:  cpu\n"
     ]
    },
    {
     "name": "stderr",
     "output_type": "stream",
     "text": [
      " 56%|█████▌    | 14/25 [01:45<01:24,  7.69s/it]"
     ]
    },
    {
     "name": "stdout",
     "output_type": "stream",
     "text": [
      "Moving model to device:  cpu\n",
      "Moving model to device:  cpu\n",
      "Moving model to device:  cpu\n",
      "Moving model to device:  cpu\n",
      "Moving model to device:  cpu\n",
      "Moving model to device:  cpu\n"
     ]
    },
    {
     "name": "stderr",
     "output_type": "stream",
     "text": [
      " 60%|██████    | 15/25 [01:53<01:17,  7.70s/it]"
     ]
    },
    {
     "name": "stdout",
     "output_type": "stream",
     "text": [
      "Moving model to device:  cpu\n",
      "Moving model to device:  cpu\n",
      "Moving model to device:  cpu\n",
      "Moving model to device:  cpu\n",
      "Moving model to device:  cpu\n",
      "Moving model to device:  cpu\n"
     ]
    },
    {
     "name": "stderr",
     "output_type": "stream",
     "text": [
      " 64%|██████▍   | 16/25 [02:01<01:08,  7.62s/it]"
     ]
    },
    {
     "name": "stdout",
     "output_type": "stream",
     "text": [
      "Moving model to device:  cpu\n",
      "Moving model to device:  cpu\n",
      "Moving model to device:  cpu\n",
      "Moving model to device:  cpu\n",
      "Moving model to device:  cpu\n",
      "Moving model to device:  cpu\n"
     ]
    },
    {
     "name": "stderr",
     "output_type": "stream",
     "text": [
      " 68%|██████▊   | 17/25 [02:09<01:02,  7.79s/it]"
     ]
    },
    {
     "name": "stdout",
     "output_type": "stream",
     "text": [
      "Moving model to device:  cpu\n",
      "Moving model to device:  cpu\n",
      "Moving model to device:  cpu\n",
      "Moving model to device:  cpu\n",
      "Moving model to device:  cpu\n",
      "Moving model to device:  cpu\n"
     ]
    },
    {
     "name": "stderr",
     "output_type": "stream",
     "text": [
      " 72%|███████▏  | 18/25 [02:16<00:53,  7.70s/it]"
     ]
    },
    {
     "name": "stdout",
     "output_type": "stream",
     "text": [
      "Moving model to device:  cpu\n",
      "Moving model to device:  cpu\n",
      "Moving model to device:  cpu\n",
      "Moving model to device:  cpu\n",
      "Moving model to device:  cpu\n",
      "Moving model to device:  cpu\n"
     ]
    },
    {
     "name": "stderr",
     "output_type": "stream",
     "text": [
      " 76%|███████▌  | 19/25 [02:24<00:45,  7.65s/it]"
     ]
    },
    {
     "name": "stdout",
     "output_type": "stream",
     "text": [
      "Moving model to device:  cpu\n",
      "Moving model to device:  cpu\n",
      "Moving model to device:  cpu\n",
      "Moving model to device:  cpu\n",
      "Moving model to device:  cpu\n",
      "Moving model to device:  cpu\n"
     ]
    },
    {
     "name": "stderr",
     "output_type": "stream",
     "text": [
      " 80%|████████  | 20/25 [02:31<00:38,  7.63s/it]"
     ]
    },
    {
     "name": "stdout",
     "output_type": "stream",
     "text": [
      "Moving model to device:  cpu\n",
      "Moving model to device:  cpu\n",
      "Moving model to device:  cpu\n",
      "Moving model to device:  cpu\n",
      "Moving model to device:  cpu\n",
      "Moving model to device:  cpu\n"
     ]
    },
    {
     "name": "stderr",
     "output_type": "stream",
     "text": [
      " 84%|████████▍ | 21/25 [02:39<00:30,  7.69s/it]"
     ]
    },
    {
     "name": "stdout",
     "output_type": "stream",
     "text": [
      "Moving model to device:  cpu\n",
      "Moving model to device:  cpu\n",
      "Moving model to device:  cpu\n",
      "Moving model to device:  cpu\n",
      "Moving model to device:  cpu\n",
      "Moving model to device:  cpu\n"
     ]
    },
    {
     "name": "stderr",
     "output_type": "stream",
     "text": [
      " 88%|████████▊ | 22/25 [02:47<00:23,  7.70s/it]"
     ]
    },
    {
     "name": "stdout",
     "output_type": "stream",
     "text": [
      "Moving model to device:  cpu\n",
      "Moving model to device:  cpu\n",
      "Moving model to device:  cpu\n",
      "Moving model to device:  cpu\n",
      "Moving model to device:  cpu\n",
      "Moving model to device:  cpu\n"
     ]
    },
    {
     "name": "stderr",
     "output_type": "stream",
     "text": [
      " 92%|█████████▏| 23/25 [02:55<00:15,  7.72s/it]"
     ]
    },
    {
     "name": "stdout",
     "output_type": "stream",
     "text": [
      "Moving model to device:  cpu\n",
      "Moving model to device:  cpu\n",
      "Moving model to device:  cpu\n",
      "Moving model to device:  cpu\n",
      "Moving model to device:  cpu\n",
      "Moving model to device:  cpu\n"
     ]
    },
    {
     "name": "stderr",
     "output_type": "stream",
     "text": [
      " 96%|█████████▌| 24/25 [03:02<00:07,  7.67s/it]"
     ]
    },
    {
     "name": "stdout",
     "output_type": "stream",
     "text": [
      "Moving model to device:  cpu\n",
      "Moving model to device:  cpu\n",
      "Moving model to device:  cpu\n",
      "Moving model to device:  cpu\n",
      "Moving model to device:  cpu\n",
      "Moving model to device:  cpu\n"
     ]
    },
    {
     "name": "stderr",
     "output_type": "stream",
     "text": [
      "100%|██████████| 25/25 [03:11<00:00,  7.65s/it]\n"
     ]
    }
   ],
   "source": [
    "from devinterp.vis_utils import EpsilonBetaAnalyzer\n",
    "\n",
    "if TUNE_HYPERPARAMS:\n",
    "    model.load_state_dict(state_dict)\n",
    "    analyzer = EpsilonBetaAnalyzer()\n",
    "    analyzer.configure_sweep(\n",
    "        llc_estimator=estimate_llc_given_model,\n",
    "        llc_estimator_kwargs=dict(\n",
    "            model=model,\n",
    "            evaluate=evaluate,\n",
    "            device=device,\n",
    "            loader=train_loader,\n",
    "        ),\n",
    "        min_epsilon=3e-5,\n",
    "        max_epsilon=3e-1,\n",
    "        epsilon_samples=5,\n",
    "        min_beta=None,\n",
    "        max_beta=None,\n",
    "        beta_samples=5,\n",
    "        dataloader=train_loader,\n",
    "    )\n",
    "    analyzer.sweep()\n",
    "    analyzer.plot()"
   ]
  },
  {
   "cell_type": "code",
   "execution_count": 13,
   "metadata": {},
   "outputs": [
    {
     "name": "stdout",
     "output_type": "stream",
     "text": [
      "True\n"
     ]
    }
   ],
   "source": [
    "if TUNE_HYPERPARAMS:\n",
    "    print(TUNE_HYPERPARAMS)\n",
    "    analyzer.plot()"
   ]
  },
  {
   "cell_type": "code",
   "execution_count": 103,
   "metadata": {},
   "outputs": [
    {
     "name": "stdout",
     "output_type": "stream",
     "text": [
      "nbeta = 1.6 gamma = 10 lr = 0.03\n",
      "Moving model to device:  cpu\n",
      "Moving model to device:  cpu\n",
      "Moving model to device:  cpu\n",
      "Moving model to device:  cpu\n"
     ]
    },
    {
     "name": "stderr",
     "output_type": "stream",
     "text": [
      "Chain 0: 100%|██████████| 200/200 [00:00<00:00, 225.33it/s]\n"
     ]
    },
    {
     "name": "stdout",
     "output_type": "stream",
     "text": [
      "Moving model to device:  cpu\n"
     ]
    },
    {
     "name": "stderr",
     "output_type": "stream",
     "text": [
      "Chain 1: 100%|██████████| 200/200 [00:00<00:00, 205.23it/s]\n"
     ]
    },
    {
     "name": "stdout",
     "output_type": "stream",
     "text": [
      "Moving model to device:  cpu\n"
     ]
    },
    {
     "name": "stderr",
     "output_type": "stream",
     "text": [
      "Chain 2: 100%|██████████| 200/200 [00:00<00:00, 229.24it/s]\n"
     ]
    },
    {
     "name": "stdout",
     "output_type": "stream",
     "text": [
      "results.keys() = dict_keys(['init_loss', 'llc/means', 'llc/stds', 'llc/trace', 'loss/trace'])\n",
      "results['llc/trace'].shape = (3, 150)\n"
     ]
    },
    {
     "data": {
      "image/png": "[encoded data removed]",
      "text/plain": [
       "<Figure size 640x480 with 1 Axes>"
      ]
     },
     "metadata": {},
     "output_type": "display_data"
    },
    {
     "data": {
      "text/plain": [
       "<Figure size 1200x900 with 0 Axes>"
      ]
     },
     "metadata": {},
     "output_type": "display_data"
    }
   ],
   "source": [
    "if TUNE_HYPERPARAMS:\n",
    "    print(f\"nbeta = {nbeta} gamma = {gamma} lr = {lr}\")\n",
    "\n",
    "    model.load_state_dict(state_dict=state_dict)\n",
    "\n",
    "    results = estimate_learning_coeff_with_summary(\n",
    "                    model,\n",
    "                    loader=train_loader,\n",
    "                    evaluate=evaluate,\n",
    "                    sampling_method=SGLD if sampling_method == \"sgld\" else None,\n",
    "                    optimizer_kwargs=dict(lr=lr, nbeta=nbeta, localization=gamma),\n",
    "                    num_chains=num_chains,                  # How many independent chains to run\n",
    "                    num_draws=num_draws,                    # How many samples to draw per chain\n",
    "                    num_burnin_steps=num_burnin_steps,      # How many samples to discard at the beginning of each chain\n",
    "                    num_steps_bw_draws=num_steps_bw_draws,  # How many steps to take between each sample\n",
    "                    device=device,\n",
    "                    online=True,\n",
    "                )\n",
    "    print(f\"results.keys() = {results.keys()}\")\n",
    "    print(f\"results['llc/trace'].shape = {results['llc/trace'].shape}\")\n",
    "\n",
    "    plot_trace(\n",
    "        results[\"llc/trace\"],\n",
    "        \"Loss\",\n",
    "        x_axis=\"Step\",\n",
    "        title=f\"Loss Trace, avg LLC = {sum(results['llc/means']) / len(results['llc/means']):.2f}\",\n",
    "        plot_mean=False,\n",
    "        plot_std=False,\n",
    "        fig_size=(12, 9),\n",
    "        true_lc=None,\n",
    "    )"
   ]
  },
  {
   "cell_type": "markdown",
   "metadata": {},
   "source": [
    "### Estimate for model checkpoints"
   ]
  },
  {
   "cell_type": "code",
   "execution_count": 104,
   "metadata": {},
   "outputs": [
    {
     "name": "stdout",
     "output_type": "stream",
     "text": [
      "nbeta = 1.6 gamma = 10 lr = 0.03\n"
     ]
    },
    {
     "data": {
      "application/vnd.jupyter.widget-view+json": {
       "model_id": "c6ce01ba2183479887d6ccd6ab207ad4",
       "version_major": 2,
       "version_minor": 0
      },
      "text/plain": [
       "  0%|          | 0/120 [00:00<?, ?it/s]"
      ]
     },
     "metadata": {},
     "output_type": "display_data"
    },
    {
     "name": "stdout",
     "output_type": "stream",
     "text": [
      "Moving model to device:  cpu\n",
      "Moving model to device:  cpu\n",
      "Moving model to device:  cpu\n",
      "Moving model to device:  cpu\n"
     ]
    },
    {
     "name": "stderr",
     "output_type": "stream",
     "text": [
      "Chain 0: 100%|██████████| 200/200 [00:00<00:00, 210.76it/s]\n"
     ]
    },
    {
     "name": "stdout",
     "output_type": "stream",
     "text": [
      "Moving model to device:  cpu\n"
     ]
    },
    {
     "name": "stderr",
     "output_type": "stream",
     "text": [
      "Chain 1: 100%|██████████| 200/200 [00:00<00:00, 225.88it/s]\n"
     ]
    },
    {
     "name": "stdout",
     "output_type": "stream",
     "text": [
      "Moving model to device:  cpu\n"
     ]
    },
    {
     "name": "stderr",
     "output_type": "stream",
     "text": [
      "Chain 2: 100%|██████████| 200/200 [00:00<00:00, 219.68it/s]\n"
     ]
    },
    {
     "name": "stdout",
     "output_type": "stream",
     "text": [
      "result['llc/mean'] = 10.302932739257812\n",
      "Moving model to device:  cpu\n",
      "Moving model to device:  cpu\n",
      "Moving model to device:  cpu\n",
      "Moving model to device:  cpu\n"
     ]
    },
    {
     "name": "stderr",
     "output_type": "stream",
     "text": [
      "Chain 0: 100%|██████████| 200/200 [00:00<00:00, 203.21it/s]\n"
     ]
    },
    {
     "name": "stdout",
     "output_type": "stream",
     "text": [
      "Moving model to device:  cpu\n"
     ]
    },
    {
     "name": "stderr",
     "output_type": "stream",
     "text": [
      "Chain 1: 100%|██████████| 200/200 [00:00<00:00, 220.84it/s]\n"
     ]
    },
    {
     "name": "stdout",
     "output_type": "stream",
     "text": [
      "Moving model to device:  cpu\n"
     ]
    },
    {
     "name": "stderr",
     "output_type": "stream",
     "text": [
      "Chain 2: 100%|██████████| 200/200 [00:00<00:00, 220.85it/s]\n"
     ]
    },
    {
     "name": "stdout",
     "output_type": "stream",
     "text": [
      "result['llc/mean'] = 13.174630165100098\n",
      "Moving model to device:  cpu\n",
      "Moving model to device:  cpu\n",
      "Moving model to device:  cpu\n",
      "Moving model to device:  cpu\n"
     ]
    },
    {
     "name": "stderr",
     "output_type": "stream",
     "text": [
      "Chain 0: 100%|██████████| 200/200 [00:00<00:00, 205.34it/s]\n"
     ]
    },
    {
     "name": "stdout",
     "output_type": "stream",
     "text": [
      "Moving model to device:  cpu\n"
     ]
    },
    {
     "name": "stderr",
     "output_type": "stream",
     "text": [
      "Chain 1: 100%|██████████| 200/200 [00:00<00:00, 210.08it/s]\n"
     ]
    },
    {
     "name": "stdout",
     "output_type": "stream",
     "text": [
      "Moving model to device:  cpu\n"
     ]
    },
    {
     "name": "stderr",
     "output_type": "stream",
     "text": [
      "Chain 2: 100%|██████████| 200/200 [00:01<00:00, 189.02it/s]\n"
     ]
    },
    {
     "name": "stdout",
     "output_type": "stream",
     "text": [
      "result['llc/mean'] = 15.244574546813965\n",
      "Moving model to device:  cpu\n",
      "Moving model to device:  cpu\n",
      "Moving model to device:  cpu\n",
      "Moving model to device:  cpu\n"
     ]
    },
    {
     "name": "stderr",
     "output_type": "stream",
     "text": [
      "Chain 0: 100%|██████████| 200/200 [00:01<00:00, 181.42it/s]\n"
     ]
    },
    {
     "name": "stdout",
     "output_type": "stream",
     "text": [
      "Moving model to device:  cpu\n"
     ]
    },
    {
     "name": "stderr",
     "output_type": "stream",
     "text": [
      "Chain 1: 100%|██████████| 200/200 [00:01<00:00, 155.99it/s]\n"
     ]
    },
    {
     "name": "stdout",
     "output_type": "stream",
     "text": [
      "Moving model to device:  cpu\n"
     ]
    },
    {
     "name": "stderr",
     "output_type": "stream",
     "text": [
      "Chain 2: 100%|██████████| 200/200 [00:01<00:00, 176.20it/s]\n"
     ]
    },
    {
     "name": "stdout",
     "output_type": "stream",
     "text": [
      "result['llc/mean'] = 16.72515296936035\n",
      "Moving model to device:  cpu\n",
      "Moving model to device:  cpu\n",
      "Moving model to device:  cpu\n",
      "Moving model to device:  cpu\n"
     ]
    },
    {
     "name": "stderr",
     "output_type": "stream",
     "text": [
      "Chain 0: 100%|██████████| 200/200 [00:00<00:00, 201.69it/s]\n"
     ]
    },
    {
     "name": "stdout",
     "output_type": "stream",
     "text": [
      "Moving model to device:  cpu\n"
     ]
    },
    {
     "name": "stderr",
     "output_type": "stream",
     "text": [
      "Chain 1: 100%|██████████| 200/200 [00:01<00:00, 184.23it/s]\n"
     ]
    },
    {
     "name": "stdout",
     "output_type": "stream",
     "text": [
      "Moving model to device:  cpu\n"
     ]
    },
    {
     "name": "stderr",
     "output_type": "stream",
     "text": [
      "Chain 2: 100%|██████████| 200/200 [00:01<00:00, 192.71it/s]\n"
     ]
    },
    {
     "name": "stdout",
     "output_type": "stream",
     "text": [
      "result['llc/mean'] = 17.171079635620117\n",
      "Moving model to device:  cpu\n",
      "Moving model to device:  cpu\n",
      "Moving model to device:  cpu\n",
      "Moving model to device:  cpu\n"
     ]
    },
    {
     "name": "stderr",
     "output_type": "stream",
     "text": [
      "Chain 0: 100%|██████████| 200/200 [00:01<00:00, 180.89it/s]\n"
     ]
    },
    {
     "name": "stdout",
     "output_type": "stream",
     "text": [
      "Moving model to device:  cpu\n"
     ]
    },
    {
     "name": "stderr",
     "output_type": "stream",
     "text": [
      "Chain 1: 100%|██████████| 200/200 [00:01<00:00, 199.44it/s]\n"
     ]
    },
    {
     "name": "stdout",
     "output_type": "stream",
     "text": [
      "Moving model to device:  cpu\n"
     ]
    },
    {
     "name": "stderr",
     "output_type": "stream",
     "text": [
      "Chain 2: 100%|██████████| 200/200 [00:01<00:00, 186.54it/s]\n"
     ]
    },
    {
     "name": "stdout",
     "output_type": "stream",
     "text": [
      "result['llc/mean'] = 17.497774124145508\n",
      "Moving model to device:  cpu\n",
      "Moving model to device:  cpu\n",
      "Moving model to device:  cpu\n",
      "Moving model to device:  cpu\n"
     ]
    },
    {
     "name": "stderr",
     "output_type": "stream",
     "text": [
      "Chain 0: 100%|██████████| 200/200 [00:01<00:00, 199.18it/s]\n"
     ]
    },
    {
     "name": "stdout",
     "output_type": "stream",
     "text": [
      "Moving model to device:  cpu\n"
     ]
    },
    {
     "name": "stderr",
     "output_type": "stream",
     "text": [
      "Chain 1: 100%|██████████| 200/200 [00:01<00:00, 199.92it/s]\n"
     ]
    },
    {
     "name": "stdout",
     "output_type": "stream",
     "text": [
      "Moving model to device:  cpu\n"
     ]
    },
    {
     "name": "stderr",
     "output_type": "stream",
     "text": [
      "Chain 2: 100%|██████████| 200/200 [00:01<00:00, 197.19it/s]\n"
     ]
    },
    {
     "name": "stdout",
     "output_type": "stream",
     "text": [
      "result['llc/mean'] = 17.9674072265625\n",
      "Moving model to device:  cpu\n",
      "Moving model to device:  cpu\n",
      "Moving model to device:  cpu\n",
      "Moving model to device:  cpu\n"
     ]
    },
    {
     "name": "stderr",
     "output_type": "stream",
     "text": [
      "Chain 0: 100%|██████████| 200/200 [00:00<00:00, 206.41it/s]\n"
     ]
    },
    {
     "name": "stdout",
     "output_type": "stream",
     "text": [
      "Moving model to device:  cpu\n"
     ]
    },
    {
     "name": "stderr",
     "output_type": "stream",
     "text": [
      "Chain 1: 100%|██████████| 200/200 [00:00<00:00, 207.65it/s]\n"
     ]
    },
    {
     "name": "stdout",
     "output_type": "stream",
     "text": [
      "Moving model to device:  cpu\n"
     ]
    },
    {
     "name": "stderr",
     "output_type": "stream",
     "text": [
      "Chain 2: 100%|██████████| 200/200 [00:01<00:00, 193.91it/s]\n"
     ]
    },
    {
     "name": "stdout",
     "output_type": "stream",
     "text": [
      "result['llc/mean'] = 16.957984924316406\n",
      "Moving model to device:  cpu\n",
      "Moving model to device:  cpu\n",
      "Moving model to device:  cpu\n",
      "Moving model to device:  cpu\n"
     ]
    },
    {
     "name": "stderr",
     "output_type": "stream",
     "text": [
      "Chain 0: 100%|██████████| 200/200 [00:00<00:00, 202.98it/s]\n"
     ]
    },
    {
     "name": "stdout",
     "output_type": "stream",
     "text": [
      "Moving model to device:  cpu\n"
     ]
    },
    {
     "name": "stderr",
     "output_type": "stream",
     "text": [
      "Chain 1: 100%|██████████| 200/200 [00:00<00:00, 206.71it/s]\n"
     ]
    },
    {
     "name": "stdout",
     "output_type": "stream",
     "text": [
      "Moving model to device:  cpu\n"
     ]
    },
    {
     "name": "stderr",
     "output_type": "stream",
     "text": [
      "Chain 2: 100%|██████████| 200/200 [00:01<00:00, 196.22it/s]\n"
     ]
    },
    {
     "name": "stdout",
     "output_type": "stream",
     "text": [
      "result['llc/mean'] = 16.322616577148438\n",
      "Moving model to device:  cpu\n",
      "Moving model to device:  cpu\n",
      "Moving model to device:  cpu\n",
      "Moving model to device:  cpu\n"
     ]
    },
    {
     "name": "stderr",
     "output_type": "stream",
     "text": [
      "Chain 0: 100%|██████████| 200/200 [00:00<00:00, 206.00it/s]\n"
     ]
    },
    {
     "name": "stdout",
     "output_type": "stream",
     "text": [
      "Moving model to device:  cpu\n"
     ]
    },
    {
     "name": "stderr",
     "output_type": "stream",
     "text": [
      "Chain 1: 100%|██████████| 200/200 [00:00<00:00, 204.27it/s]\n"
     ]
    },
    {
     "name": "stdout",
     "output_type": "stream",
     "text": [
      "Moving model to device:  cpu\n"
     ]
    },
    {
     "name": "stderr",
     "output_type": "stream",
     "text": [
      "Chain 2: 100%|██████████| 200/200 [00:01<00:00, 196.89it/s]\n"
     ]
    },
    {
     "name": "stdout",
     "output_type": "stream",
     "text": [
      "result['llc/mean'] = 17.370691299438477\n",
      "Moving model to device:  cpu\n",
      "Moving model to device:  cpu\n",
      "Moving model to device:  cpu\n",
      "Moving model to device:  cpu\n"
     ]
    },
    {
     "name": "stderr",
     "output_type": "stream",
     "text": [
      "Chain 0: 100%|██████████| 200/200 [00:00<00:00, 205.32it/s]\n"
     ]
    },
    {
     "name": "stdout",
     "output_type": "stream",
     "text": [
      "Moving model to device:  cpu\n"
     ]
    },
    {
     "name": "stderr",
     "output_type": "stream",
     "text": [
      "Chain 1: 100%|██████████| 200/200 [00:00<00:00, 202.92it/s]\n"
     ]
    },
    {
     "name": "stdout",
     "output_type": "stream",
     "text": [
      "Moving model to device:  cpu\n"
     ]
    },
    {
     "name": "stderr",
     "output_type": "stream",
     "text": [
      "Chain 2: 100%|██████████| 200/200 [00:01<00:00, 190.66it/s]\n"
     ]
    },
    {
     "name": "stdout",
     "output_type": "stream",
     "text": [
      "result['llc/mean'] = 16.848756790161133\n",
      "Moving model to device:  cpu\n",
      "Moving model to device:  cpu\n",
      "Moving model to device:  cpu\n",
      "Moving model to device:  cpu\n"
     ]
    },
    {
     "name": "stderr",
     "output_type": "stream",
     "text": [
      "Chain 0: 100%|██████████| 200/200 [00:00<00:00, 203.97it/s]\n"
     ]
    },
    {
     "name": "stdout",
     "output_type": "stream",
     "text": [
      "Moving model to device:  cpu\n"
     ]
    },
    {
     "name": "stderr",
     "output_type": "stream",
     "text": [
      "Chain 1: 100%|██████████| 200/200 [00:00<00:00, 202.26it/s]\n"
     ]
    },
    {
     "name": "stdout",
     "output_type": "stream",
     "text": [
      "Moving model to device:  cpu\n"
     ]
    },
    {
     "name": "stderr",
     "output_type": "stream",
     "text": [
      "Chain 2: 100%|██████████| 200/200 [00:01<00:00, 194.53it/s]\n"
     ]
    },
    {
     "name": "stdout",
     "output_type": "stream",
     "text": [
      "result['llc/mean'] = 16.682950973510742\n",
      "Moving model to device:  cpu\n",
      "Moving model to device:  cpu\n",
      "Moving model to device:  cpu\n",
      "Moving model to device:  cpu\n"
     ]
    },
    {
     "name": "stderr",
     "output_type": "stream",
     "text": [
      "Chain 0: 100%|██████████| 200/200 [00:01<00:00, 182.34it/s]\n"
     ]
    },
    {
     "name": "stdout",
     "output_type": "stream",
     "text": [
      "Moving model to device:  cpu\n"
     ]
    },
    {
     "name": "stderr",
     "output_type": "stream",
     "text": [
      "Chain 1: 100%|██████████| 200/200 [00:01<00:00, 142.10it/s]\n"
     ]
    },
    {
     "name": "stdout",
     "output_type": "stream",
     "text": [
      "Moving model to device:  cpu\n"
     ]
    },
    {
     "name": "stderr",
     "output_type": "stream",
     "text": [
      "Chain 2: 100%|██████████| 200/200 [00:01<00:00, 140.76it/s]\n"
     ]
    },
    {
     "name": "stdout",
     "output_type": "stream",
     "text": [
      "result['llc/mean'] = 17.45859146118164\n",
      "Moving model to device:  cpu\n",
      "Moving model to device:  cpu\n",
      "Moving model to device:  cpu\n",
      "Moving model to device:  cpu\n"
     ]
    },
    {
     "name": "stderr",
     "output_type": "stream",
     "text": [
      "Chain 0: 100%|██████████| 200/200 [00:01<00:00, 180.41it/s]\n"
     ]
    },
    {
     "name": "stdout",
     "output_type": "stream",
     "text": [
      "Moving model to device:  cpu\n"
     ]
    },
    {
     "name": "stderr",
     "output_type": "stream",
     "text": [
      "Chain 1: 100%|██████████| 200/200 [00:01<00:00, 191.51it/s]\n"
     ]
    },
    {
     "name": "stdout",
     "output_type": "stream",
     "text": [
      "Moving model to device:  cpu\n"
     ]
    },
    {
     "name": "stderr",
     "output_type": "stream",
     "text": [
      "Chain 2: 100%|██████████| 200/200 [00:01<00:00, 198.22it/s]\n"
     ]
    },
    {
     "name": "stdout",
     "output_type": "stream",
     "text": [
      "result['llc/mean'] = 16.37970733642578\n",
      "Moving model to device:  cpu\n",
      "Moving model to device:  cpu\n",
      "Moving model to device:  cpu\n",
      "Moving model to device:  cpu\n"
     ]
    },
    {
     "name": "stderr",
     "output_type": "stream",
     "text": [
      "Chain 0: 100%|██████████| 200/200 [00:01<00:00, 188.91it/s]\n"
     ]
    },
    {
     "name": "stdout",
     "output_type": "stream",
     "text": [
      "Moving model to device:  cpu\n"
     ]
    },
    {
     "name": "stderr",
     "output_type": "stream",
     "text": [
      "Chain 1: 100%|██████████| 200/200 [00:00<00:00, 200.18it/s]\n"
     ]
    },
    {
     "name": "stdout",
     "output_type": "stream",
     "text": [
      "Moving model to device:  cpu\n"
     ]
    },
    {
     "name": "stderr",
     "output_type": "stream",
     "text": [
      "Chain 2: 100%|██████████| 200/200 [00:01<00:00, 192.91it/s]\n"
     ]
    },
    {
     "name": "stdout",
     "output_type": "stream",
     "text": [
      "result['llc/mean'] = 16.682373046875\n",
      "Moving model to device:  cpu\n",
      "Moving model to device:  cpu\n",
      "Moving model to device:  cpu\n",
      "Moving model to device:  cpu\n"
     ]
    },
    {
     "name": "stderr",
     "output_type": "stream",
     "text": [
      "Chain 0: 100%|██████████| 200/200 [00:01<00:00, 188.70it/s]\n"
     ]
    },
    {
     "name": "stdout",
     "output_type": "stream",
     "text": [
      "Moving model to device:  cpu\n"
     ]
    },
    {
     "name": "stderr",
     "output_type": "stream",
     "text": [
      "Chain 1: 100%|██████████| 200/200 [00:01<00:00, 197.79it/s]\n"
     ]
    },
    {
     "name": "stdout",
     "output_type": "stream",
     "text": [
      "Moving model to device:  cpu\n"
     ]
    },
    {
     "name": "stderr",
     "output_type": "stream",
     "text": [
      "Chain 2: 100%|██████████| 200/200 [00:01<00:00, 180.44it/s]\n"
     ]
    },
    {
     "name": "stdout",
     "output_type": "stream",
     "text": [
      "result['llc/mean'] = 15.76213550567627\n",
      "Moving model to device:  cpu\n",
      "Moving model to device:  cpu\n",
      "Moving model to device:  cpu\n",
      "Moving model to device:  cpu\n"
     ]
    },
    {
     "name": "stderr",
     "output_type": "stream",
     "text": [
      "Chain 0: 100%|██████████| 200/200 [00:01<00:00, 152.29it/s]\n"
     ]
    },
    {
     "name": "stdout",
     "output_type": "stream",
     "text": [
      "Moving model to device:  cpu\n"
     ]
    },
    {
     "name": "stderr",
     "output_type": "stream",
     "text": [
      "Chain 1: 100%|██████████| 200/200 [00:01<00:00, 154.33it/s]\n"
     ]
    },
    {
     "name": "stdout",
     "output_type": "stream",
     "text": [
      "Moving model to device:  cpu\n"
     ]
    },
    {
     "name": "stderr",
     "output_type": "stream",
     "text": [
      "Chain 2: 100%|██████████| 200/200 [00:01<00:00, 178.54it/s]\n"
     ]
    },
    {
     "name": "stdout",
     "output_type": "stream",
     "text": [
      "result['llc/mean'] = 17.77276039123535\n",
      "Moving model to device:  cpu\n",
      "Moving model to device:  cpu\n",
      "Moving model to device:  cpu\n",
      "Moving model to device:  cpu\n"
     ]
    },
    {
     "name": "stderr",
     "output_type": "stream",
     "text": [
      "Chain 0: 100%|██████████| 200/200 [00:01<00:00, 179.32it/s]\n"
     ]
    },
    {
     "name": "stdout",
     "output_type": "stream",
     "text": [
      "Moving model to device:  cpu\n"
     ]
    },
    {
     "name": "stderr",
     "output_type": "stream",
     "text": [
      "Chain 1: 100%|██████████| 200/200 [00:01<00:00, 179.44it/s]\n"
     ]
    },
    {
     "name": "stdout",
     "output_type": "stream",
     "text": [
      "Moving model to device:  cpu\n"
     ]
    },
    {
     "name": "stderr",
     "output_type": "stream",
     "text": [
      "Chain 2: 100%|██████████| 200/200 [00:01<00:00, 170.62it/s]\n"
     ]
    },
    {
     "name": "stdout",
     "output_type": "stream",
     "text": [
      "result['llc/mean'] = 16.478158950805664\n",
      "Moving model to device:  cpu\n",
      "Moving model to device:  cpu\n",
      "Moving model to device:  cpu\n",
      "Moving model to device:  cpu\n"
     ]
    },
    {
     "name": "stderr",
     "output_type": "stream",
     "text": [
      "Chain 0: 100%|██████████| 200/200 [00:01<00:00, 151.32it/s]\n"
     ]
    },
    {
     "name": "stdout",
     "output_type": "stream",
     "text": [
      "Moving model to device:  cpu\n"
     ]
    },
    {
     "name": "stderr",
     "output_type": "stream",
     "text": [
      "Chain 1: 100%|██████████| 200/200 [00:01<00:00, 175.71it/s]\n"
     ]
    },
    {
     "name": "stdout",
     "output_type": "stream",
     "text": [
      "Moving model to device:  cpu\n"
     ]
    },
    {
     "name": "stderr",
     "output_type": "stream",
     "text": [
      "Chain 2: 100%|██████████| 200/200 [00:01<00:00, 137.47it/s]\n"
     ]
    },
    {
     "name": "stdout",
     "output_type": "stream",
     "text": [
      "result['llc/mean'] = 16.20326805114746\n",
      "Moving model to device:  cpu\n",
      "Moving model to device:  cpu\n",
      "Moving model to device:  cpu\n",
      "Moving model to device:  cpu\n"
     ]
    },
    {
     "name": "stderr",
     "output_type": "stream",
     "text": [
      "Chain 0: 100%|██████████| 200/200 [00:01<00:00, 160.31it/s]\n"
     ]
    },
    {
     "name": "stdout",
     "output_type": "stream",
     "text": [
      "Moving model to device:  cpu\n"
     ]
    },
    {
     "name": "stderr",
     "output_type": "stream",
     "text": [
      "Chain 1: 100%|██████████| 200/200 [00:01<00:00, 180.83it/s]\n"
     ]
    },
    {
     "name": "stdout",
     "output_type": "stream",
     "text": [
      "Moving model to device:  cpu\n"
     ]
    },
    {
     "name": "stderr",
     "output_type": "stream",
     "text": [
      "Chain 2: 100%|██████████| 200/200 [00:01<00:00, 181.52it/s]\n"
     ]
    },
    {
     "name": "stdout",
     "output_type": "stream",
     "text": [
      "result['llc/mean'] = 16.176368713378906\n",
      "Moving model to device:  cpu\n",
      "Moving model to device:  cpu\n",
      "Moving model to device:  cpu\n",
      "Moving model to device:  cpu\n"
     ]
    },
    {
     "name": "stderr",
     "output_type": "stream",
     "text": [
      "Chain 0: 100%|██████████| 200/200 [00:01<00:00, 195.55it/s]\n"
     ]
    },
    {
     "name": "stdout",
     "output_type": "stream",
     "text": [
      "Moving model to device:  cpu\n"
     ]
    },
    {
     "name": "stderr",
     "output_type": "stream",
     "text": [
      "Chain 1: 100%|██████████| 200/200 [00:01<00:00, 191.11it/s]\n"
     ]
    },
    {
     "name": "stdout",
     "output_type": "stream",
     "text": [
      "Moving model to device:  cpu\n"
     ]
    },
    {
     "name": "stderr",
     "output_type": "stream",
     "text": [
      "Chain 2: 100%|██████████| 200/200 [00:01<00:00, 195.92it/s]\n"
     ]
    },
    {
     "name": "stdout",
     "output_type": "stream",
     "text": [
      "result['llc/mean'] = 17.043642044067383\n",
      "Moving model to device:  cpu\n",
      "Moving model to device:  cpu\n",
      "Moving model to device:  cpu\n",
      "Moving model to device:  cpu\n"
     ]
    },
    {
     "name": "stderr",
     "output_type": "stream",
     "text": [
      "Chain 0: 100%|██████████| 200/200 [00:01<00:00, 180.23it/s]\n"
     ]
    },
    {
     "name": "stdout",
     "output_type": "stream",
     "text": [
      "Moving model to device:  cpu\n"
     ]
    },
    {
     "name": "stderr",
     "output_type": "stream",
     "text": [
      "Chain 1: 100%|██████████| 200/200 [00:01<00:00, 189.75it/s]\n"
     ]
    },
    {
     "name": "stdout",
     "output_type": "stream",
     "text": [
      "Moving model to device:  cpu\n"
     ]
    },
    {
     "name": "stderr",
     "output_type": "stream",
     "text": [
      "Chain 2: 100%|██████████| 200/200 [00:01<00:00, 172.14it/s]\n"
     ]
    },
    {
     "name": "stdout",
     "output_type": "stream",
     "text": [
      "result['llc/mean'] = 13.77685260772705\n",
      "Moving model to device:  cpu\n",
      "Moving model to device:  cpu\n",
      "Moving model to device:  cpu\n",
      "Moving model to device:  cpu\n"
     ]
    },
    {
     "name": "stderr",
     "output_type": "stream",
     "text": [
      "Chain 0: 100%|██████████| 200/200 [00:01<00:00, 166.39it/s]\n"
     ]
    },
    {
     "name": "stdout",
     "output_type": "stream",
     "text": [
      "Moving model to device:  cpu\n"
     ]
    },
    {
     "name": "stderr",
     "output_type": "stream",
     "text": [
      "Chain 1: 100%|██████████| 200/200 [00:01<00:00, 149.39it/s]\n"
     ]
    },
    {
     "name": "stdout",
     "output_type": "stream",
     "text": [
      "Moving model to device:  cpu\n"
     ]
    },
    {
     "name": "stderr",
     "output_type": "stream",
     "text": [
      "Chain 2: 100%|██████████| 200/200 [00:01<00:00, 182.19it/s]\n"
     ]
    },
    {
     "name": "stdout",
     "output_type": "stream",
     "text": [
      "result['llc/mean'] = 16.902502059936523\n",
      "Moving model to device:  cpu\n",
      "Moving model to device:  cpu\n",
      "Moving model to device:  cpu\n",
      "Moving model to device:  cpu\n"
     ]
    },
    {
     "name": "stderr",
     "output_type": "stream",
     "text": [
      "Chain 0: 100%|██████████| 200/200 [00:01<00:00, 178.01it/s]\n"
     ]
    },
    {
     "name": "stdout",
     "output_type": "stream",
     "text": [
      "Moving model to device:  cpu\n"
     ]
    },
    {
     "name": "stderr",
     "output_type": "stream",
     "text": [
      "Chain 1: 100%|██████████| 200/200 [00:01<00:00, 179.19it/s]\n"
     ]
    },
    {
     "name": "stdout",
     "output_type": "stream",
     "text": [
      "Moving model to device:  cpu\n"
     ]
    },
    {
     "name": "stderr",
     "output_type": "stream",
     "text": [
      "Chain 2: 100%|██████████| 200/200 [00:01<00:00, 176.48it/s]\n"
     ]
    },
    {
     "name": "stdout",
     "output_type": "stream",
     "text": [
      "result['llc/mean'] = 15.758903503417969\n",
      "Moving model to device:  cpu\n",
      "Moving model to device:  cpu\n",
      "Moving model to device:  cpu\n",
      "Moving model to device:  cpu\n"
     ]
    },
    {
     "name": "stderr",
     "output_type": "stream",
     "text": [
      "Chain 0: 100%|██████████| 200/200 [00:01<00:00, 180.04it/s]\n"
     ]
    },
    {
     "name": "stdout",
     "output_type": "stream",
     "text": [
      "Moving model to device:  cpu\n"
     ]
    },
    {
     "name": "stderr",
     "output_type": "stream",
     "text": [
      "Chain 1: 100%|██████████| 200/200 [00:01<00:00, 191.06it/s]\n"
     ]
    },
    {
     "name": "stdout",
     "output_type": "stream",
     "text": [
      "Moving model to device:  cpu\n"
     ]
    },
    {
     "name": "stderr",
     "output_type": "stream",
     "text": [
      "Chain 2: 100%|██████████| 200/200 [00:01<00:00, 171.25it/s]\n"
     ]
    },
    {
     "name": "stdout",
     "output_type": "stream",
     "text": [
      "result['llc/mean'] = 16.41139030456543\n",
      "Moving model to device:  cpu\n",
      "Moving model to device:  cpu\n",
      "Moving model to device:  cpu\n",
      "Moving model to device:  cpu\n"
     ]
    },
    {
     "name": "stderr",
     "output_type": "stream",
     "text": [
      "Chain 0: 100%|██████████| 200/200 [00:01<00:00, 188.54it/s]\n"
     ]
    },
    {
     "name": "stdout",
     "output_type": "stream",
     "text": [
      "Moving model to device:  cpu\n"
     ]
    },
    {
     "name": "stderr",
     "output_type": "stream",
     "text": [
      "Chain 1: 100%|██████████| 200/200 [00:01<00:00, 180.98it/s]\n"
     ]
    },
    {
     "name": "stdout",
     "output_type": "stream",
     "text": [
      "Moving model to device:  cpu\n"
     ]
    },
    {
     "name": "stderr",
     "output_type": "stream",
     "text": [
      "Chain 2: 100%|██████████| 200/200 [00:01<00:00, 156.12it/s]\n"
     ]
    },
    {
     "name": "stdout",
     "output_type": "stream",
     "text": [
      "result['llc/mean'] = 15.535897254943848\n",
      "Moving model to device:  cpu\n",
      "Moving model to device:  cpu\n",
      "Moving model to device:  cpu\n",
      "Moving model to device:  cpu\n"
     ]
    },
    {
     "name": "stderr",
     "output_type": "stream",
     "text": [
      "Chain 0: 100%|██████████| 200/200 [00:01<00:00, 180.70it/s]\n"
     ]
    },
    {
     "name": "stdout",
     "output_type": "stream",
     "text": [
      "Moving model to device:  cpu\n"
     ]
    },
    {
     "name": "stderr",
     "output_type": "stream",
     "text": [
      "Chain 1: 100%|██████████| 200/200 [00:01<00:00, 186.84it/s]\n"
     ]
    },
    {
     "name": "stdout",
     "output_type": "stream",
     "text": [
      "Moving model to device:  cpu\n"
     ]
    },
    {
     "name": "stderr",
     "output_type": "stream",
     "text": [
      "Chain 2: 100%|██████████| 200/200 [00:01<00:00, 195.35it/s]\n"
     ]
    },
    {
     "name": "stdout",
     "output_type": "stream",
     "text": [
      "result['llc/mean'] = 15.830024719238281\n",
      "Moving model to device:  cpu\n",
      "Moving model to device:  cpu\n",
      "Moving model to device:  cpu\n",
      "Moving model to device:  cpu\n"
     ]
    },
    {
     "name": "stderr",
     "output_type": "stream",
     "text": [
      "Chain 0: 100%|██████████| 200/200 [00:01<00:00, 192.00it/s]\n"
     ]
    },
    {
     "name": "stdout",
     "output_type": "stream",
     "text": [
      "Moving model to device:  cpu\n"
     ]
    },
    {
     "name": "stderr",
     "output_type": "stream",
     "text": [
      "Chain 1: 100%|██████████| 200/200 [00:01<00:00, 179.94it/s]\n"
     ]
    },
    {
     "name": "stdout",
     "output_type": "stream",
     "text": [
      "Moving model to device:  cpu\n"
     ]
    },
    {
     "name": "stderr",
     "output_type": "stream",
     "text": [
      "Chain 2: 100%|██████████| 200/200 [00:01<00:00, 190.83it/s]\n"
     ]
    },
    {
     "name": "stdout",
     "output_type": "stream",
     "text": [
      "result['llc/mean'] = 15.762089729309082\n",
      "Moving model to device:  cpu\n",
      "Moving model to device:  cpu\n",
      "Moving model to device:  cpu\n",
      "Moving model to device:  cpu\n"
     ]
    },
    {
     "name": "stderr",
     "output_type": "stream",
     "text": [
      "Chain 0: 100%|██████████| 200/200 [00:01<00:00, 186.88it/s]\n"
     ]
    },
    {
     "name": "stdout",
     "output_type": "stream",
     "text": [
      "Moving model to device:  cpu\n"
     ]
    },
    {
     "name": "stderr",
     "output_type": "stream",
     "text": [
      "Chain 1: 100%|██████████| 200/200 [00:01<00:00, 185.77it/s]\n"
     ]
    },
    {
     "name": "stdout",
     "output_type": "stream",
     "text": [
      "Moving model to device:  cpu\n"
     ]
    },
    {
     "name": "stderr",
     "output_type": "stream",
     "text": [
      "Chain 2: 100%|██████████| 200/200 [00:01<00:00, 194.54it/s]\n"
     ]
    },
    {
     "name": "stdout",
     "output_type": "stream",
     "text": [
      "result['llc/mean'] = 15.281391143798828\n",
      "Moving model to device:  cpu\n",
      "Moving model to device:  cpu\n",
      "Moving model to device:  cpu\n",
      "Moving model to device:  cpu\n"
     ]
    },
    {
     "name": "stderr",
     "output_type": "stream",
     "text": [
      "Chain 0: 100%|██████████| 200/200 [00:01<00:00, 185.93it/s]\n"
     ]
    },
    {
     "name": "stdout",
     "output_type": "stream",
     "text": [
      "Moving model to device:  cpu\n"
     ]
    },
    {
     "name": "stderr",
     "output_type": "stream",
     "text": [
      "Chain 1: 100%|██████████| 200/200 [00:01<00:00, 192.29it/s]\n"
     ]
    },
    {
     "name": "stdout",
     "output_type": "stream",
     "text": [
      "Moving model to device:  cpu\n"
     ]
    },
    {
     "name": "stderr",
     "output_type": "stream",
     "text": [
      "Chain 2: 100%|██████████| 200/200 [00:01<00:00, 180.05it/s]\n"
     ]
    },
    {
     "name": "stdout",
     "output_type": "stream",
     "text": [
      "result['llc/mean'] = 16.03111457824707\n",
      "Moving model to device:  cpu\n",
      "Moving model to device:  cpu\n",
      "Moving model to device:  cpu\n",
      "Moving model to device:  cpu\n"
     ]
    },
    {
     "name": "stderr",
     "output_type": "stream",
     "text": [
      "Chain 0: 100%|██████████| 200/200 [00:01<00:00, 184.68it/s]\n"
     ]
    },
    {
     "name": "stdout",
     "output_type": "stream",
     "text": [
      "Moving model to device:  cpu\n"
     ]
    },
    {
     "name": "stderr",
     "output_type": "stream",
     "text": [
      "Chain 1: 100%|██████████| 200/200 [00:01<00:00, 188.35it/s]\n"
     ]
    },
    {
     "name": "stdout",
     "output_type": "stream",
     "text": [
      "Moving model to device:  cpu\n"
     ]
    },
    {
     "name": "stderr",
     "output_type": "stream",
     "text": [
      "Chain 2: 100%|██████████| 200/200 [00:01<00:00, 191.91it/s]\n"
     ]
    },
    {
     "name": "stdout",
     "output_type": "stream",
     "text": [
      "result['llc/mean'] = 15.278111457824707\n",
      "Moving model to device:  cpu\n",
      "Moving model to device:  cpu\n",
      "Moving model to device:  cpu\n",
      "Moving model to device:  cpu\n"
     ]
    },
    {
     "name": "stderr",
     "output_type": "stream",
     "text": [
      "Chain 0: 100%|██████████| 200/200 [00:01<00:00, 186.30it/s]\n"
     ]
    },
    {
     "name": "stdout",
     "output_type": "stream",
     "text": [
      "Moving model to device:  cpu\n"
     ]
    },
    {
     "name": "stderr",
     "output_type": "stream",
     "text": [
      "Chain 1: 100%|██████████| 200/200 [00:01<00:00, 194.01it/s]\n"
     ]
    },
    {
     "name": "stdout",
     "output_type": "stream",
     "text": [
      "Moving model to device:  cpu\n"
     ]
    },
    {
     "name": "stderr",
     "output_type": "stream",
     "text": [
      "Chain 2: 100%|██████████| 200/200 [00:01<00:00, 185.79it/s]\n"
     ]
    },
    {
     "name": "stdout",
     "output_type": "stream",
     "text": [
      "result['llc/mean'] = 15.582649230957031\n",
      "Moving model to device:  cpu\n",
      "Moving model to device:  cpu\n",
      "Moving model to device:  cpu\n",
      "Moving model to device:  cpu\n"
     ]
    },
    {
     "name": "stderr",
     "output_type": "stream",
     "text": [
      "Chain 0: 100%|██████████| 200/200 [00:01<00:00, 193.68it/s]\n"
     ]
    },
    {
     "name": "stdout",
     "output_type": "stream",
     "text": [
      "Moving model to device:  cpu\n"
     ]
    },
    {
     "name": "stderr",
     "output_type": "stream",
     "text": [
      "Chain 1: 100%|██████████| 200/200 [00:01<00:00, 193.78it/s]\n"
     ]
    },
    {
     "name": "stdout",
     "output_type": "stream",
     "text": [
      "Moving model to device:  cpu\n"
     ]
    },
    {
     "name": "stderr",
     "output_type": "stream",
     "text": [
      "Chain 2: 100%|██████████| 200/200 [00:01<00:00, 185.06it/s]\n"
     ]
    },
    {
     "name": "stdout",
     "output_type": "stream",
     "text": [
      "result['llc/mean'] = 15.076255798339844\n",
      "Moving model to device:  cpu\n",
      "Moving model to device:  cpu\n",
      "Moving model to device:  cpu\n",
      "Moving model to device:  cpu\n"
     ]
    },
    {
     "name": "stderr",
     "output_type": "stream",
     "text": [
      "Chain 0: 100%|██████████| 200/200 [00:01<00:00, 190.94it/s]\n"
     ]
    },
    {
     "name": "stdout",
     "output_type": "stream",
     "text": [
      "Moving model to device:  cpu\n"
     ]
    },
    {
     "name": "stderr",
     "output_type": "stream",
     "text": [
      "Chain 1: 100%|██████████| 200/200 [00:01<00:00, 190.50it/s]\n"
     ]
    },
    {
     "name": "stdout",
     "output_type": "stream",
     "text": [
      "Moving model to device:  cpu\n"
     ]
    },
    {
     "name": "stderr",
     "output_type": "stream",
     "text": [
      "Chain 2: 100%|██████████| 200/200 [00:01<00:00, 184.48it/s]\n"
     ]
    },
    {
     "name": "stdout",
     "output_type": "stream",
     "text": [
      "result['llc/mean'] = 14.949244499206543\n",
      "Moving model to device:  cpu\n",
      "Moving model to device:  cpu\n",
      "Moving model to device:  cpu\n",
      "Moving model to device:  cpu\n"
     ]
    },
    {
     "name": "stderr",
     "output_type": "stream",
     "text": [
      "Chain 0: 100%|██████████| 200/200 [00:01<00:00, 191.31it/s]\n"
     ]
    },
    {
     "name": "stdout",
     "output_type": "stream",
     "text": [
      "Moving model to device:  cpu\n"
     ]
    },
    {
     "name": "stderr",
     "output_type": "stream",
     "text": [
      "Chain 1: 100%|██████████| 200/200 [00:01<00:00, 178.97it/s]\n"
     ]
    },
    {
     "name": "stdout",
     "output_type": "stream",
     "text": [
      "Moving model to device:  cpu\n"
     ]
    },
    {
     "name": "stderr",
     "output_type": "stream",
     "text": [
      "Chain 2: 100%|██████████| 200/200 [00:01<00:00, 193.69it/s]\n"
     ]
    },
    {
     "name": "stdout",
     "output_type": "stream",
     "text": [
      "result['llc/mean'] = 15.238480567932129\n",
      "Moving model to device:  cpu\n",
      "Moving model to device:  cpu\n",
      "Moving model to device:  cpu\n",
      "Moving model to device:  cpu\n"
     ]
    },
    {
     "name": "stderr",
     "output_type": "stream",
     "text": [
      "Chain 0: 100%|██████████| 200/200 [00:01<00:00, 190.84it/s]\n"
     ]
    },
    {
     "name": "stdout",
     "output_type": "stream",
     "text": [
      "Moving model to device:  cpu\n"
     ]
    },
    {
     "name": "stderr",
     "output_type": "stream",
     "text": [
      "Chain 1: 100%|██████████| 200/200 [00:01<00:00, 181.35it/s]\n"
     ]
    },
    {
     "name": "stdout",
     "output_type": "stream",
     "text": [
      "Moving model to device:  cpu\n"
     ]
    },
    {
     "name": "stderr",
     "output_type": "stream",
     "text": [
      "Chain 2: 100%|██████████| 200/200 [00:01<00:00, 192.25it/s]\n"
     ]
    },
    {
     "name": "stdout",
     "output_type": "stream",
     "text": [
      "result['llc/mean'] = 14.773601531982422\n",
      "Moving model to device:  cpu\n",
      "Moving model to device:  cpu\n",
      "Moving model to device:  cpu\n",
      "Moving model to device:  cpu\n"
     ]
    },
    {
     "name": "stderr",
     "output_type": "stream",
     "text": [
      "Chain 0: 100%|██████████| 200/200 [00:01<00:00, 193.33it/s]\n"
     ]
    },
    {
     "name": "stdout",
     "output_type": "stream",
     "text": [
      "Moving model to device:  cpu\n"
     ]
    },
    {
     "name": "stderr",
     "output_type": "stream",
     "text": [
      "Chain 1: 100%|██████████| 200/200 [00:01<00:00, 189.95it/s]\n"
     ]
    },
    {
     "name": "stdout",
     "output_type": "stream",
     "text": [
      "Moving model to device:  cpu\n"
     ]
    },
    {
     "name": "stderr",
     "output_type": "stream",
     "text": [
      "Chain 2: 100%|██████████| 200/200 [00:01<00:00, 192.67it/s]\n"
     ]
    },
    {
     "name": "stdout",
     "output_type": "stream",
     "text": [
      "result['llc/mean'] = 14.649612426757812\n",
      "Moving model to device:  cpu\n",
      "Moving model to device:  cpu\n",
      "Moving model to device:  cpu\n",
      "Moving model to device:  cpu\n"
     ]
    },
    {
     "name": "stderr",
     "output_type": "stream",
     "text": [
      "Chain 0: 100%|██████████| 200/200 [00:01<00:00, 182.44it/s]\n"
     ]
    },
    {
     "name": "stdout",
     "output_type": "stream",
     "text": [
      "Moving model to device:  cpu\n"
     ]
    },
    {
     "name": "stderr",
     "output_type": "stream",
     "text": [
      "Chain 1: 100%|██████████| 200/200 [00:01<00:00, 168.51it/s]\n"
     ]
    },
    {
     "name": "stdout",
     "output_type": "stream",
     "text": [
      "Moving model to device:  cpu\n"
     ]
    },
    {
     "name": "stderr",
     "output_type": "stream",
     "text": [
      "Chain 2: 100%|██████████| 200/200 [00:01<00:00, 143.88it/s]\n"
     ]
    },
    {
     "name": "stdout",
     "output_type": "stream",
     "text": [
      "result['llc/mean'] = 14.872143745422363\n",
      "Moving model to device:  cpu\n",
      "Moving model to device:  cpu\n",
      "Moving model to device:  cpu\n",
      "Moving model to device:  cpu\n"
     ]
    },
    {
     "name": "stderr",
     "output_type": "stream",
     "text": [
      "Chain 0: 100%|██████████| 200/200 [00:01<00:00, 147.68it/s]\n"
     ]
    },
    {
     "name": "stdout",
     "output_type": "stream",
     "text": [
      "Moving model to device:  cpu\n"
     ]
    },
    {
     "name": "stderr",
     "output_type": "stream",
     "text": [
      "Chain 1: 100%|██████████| 200/200 [00:01<00:00, 172.09it/s]\n"
     ]
    },
    {
     "name": "stdout",
     "output_type": "stream",
     "text": [
      "Moving model to device:  cpu\n"
     ]
    },
    {
     "name": "stderr",
     "output_type": "stream",
     "text": [
      "Chain 2: 100%|██████████| 200/200 [00:01<00:00, 169.30it/s]\n"
     ]
    },
    {
     "name": "stdout",
     "output_type": "stream",
     "text": [
      "result['llc/mean'] = 15.205418586730957\n",
      "Moving model to device:  cpu\n",
      "Moving model to device:  cpu\n",
      "Moving model to device:  cpu\n",
      "Moving model to device:  cpu\n"
     ]
    },
    {
     "name": "stderr",
     "output_type": "stream",
     "text": [
      "Chain 0: 100%|██████████| 200/200 [00:01<00:00, 185.13it/s]\n"
     ]
    },
    {
     "name": "stdout",
     "output_type": "stream",
     "text": [
      "Moving model to device:  cpu\n"
     ]
    },
    {
     "name": "stderr",
     "output_type": "stream",
     "text": [
      "Chain 1: 100%|██████████| 200/200 [00:01<00:00, 192.46it/s]\n"
     ]
    },
    {
     "name": "stdout",
     "output_type": "stream",
     "text": [
      "Moving model to device:  cpu\n"
     ]
    },
    {
     "name": "stderr",
     "output_type": "stream",
     "text": [
      "Chain 2: 100%|██████████| 200/200 [00:01<00:00, 183.76it/s]\n"
     ]
    },
    {
     "name": "stdout",
     "output_type": "stream",
     "text": [
      "result['llc/mean'] = 15.16653823852539\n",
      "Moving model to device:  cpu\n",
      "Moving model to device:  cpu\n",
      "Moving model to device:  cpu\n",
      "Moving model to device:  cpu\n"
     ]
    },
    {
     "name": "stderr",
     "output_type": "stream",
     "text": [
      "Chain 0: 100%|██████████| 200/200 [00:01<00:00, 192.58it/s]\n"
     ]
    },
    {
     "name": "stdout",
     "output_type": "stream",
     "text": [
      "Moving model to device:  cpu\n"
     ]
    },
    {
     "name": "stderr",
     "output_type": "stream",
     "text": [
      "Chain 1: 100%|██████████| 200/200 [00:01<00:00, 191.45it/s]\n"
     ]
    },
    {
     "name": "stdout",
     "output_type": "stream",
     "text": [
      "Moving model to device:  cpu\n"
     ]
    },
    {
     "name": "stderr",
     "output_type": "stream",
     "text": [
      "Chain 2: 100%|██████████| 200/200 [00:01<00:00, 171.97it/s]\n"
     ]
    },
    {
     "name": "stdout",
     "output_type": "stream",
     "text": [
      "result['llc/mean'] = 15.420411109924316\n",
      "Moving model to device:  cpu\n",
      "Moving model to device:  cpu\n",
      "Moving model to device:  cpu\n",
      "Moving model to device:  cpu\n"
     ]
    },
    {
     "name": "stderr",
     "output_type": "stream",
     "text": [
      "Chain 0: 100%|██████████| 200/200 [00:01<00:00, 188.74it/s]\n"
     ]
    },
    {
     "name": "stdout",
     "output_type": "stream",
     "text": [
      "Moving model to device:  cpu\n"
     ]
    },
    {
     "name": "stderr",
     "output_type": "stream",
     "text": [
      "Chain 1: 100%|██████████| 200/200 [00:01<00:00, 181.37it/s]\n"
     ]
    },
    {
     "name": "stdout",
     "output_type": "stream",
     "text": [
      "Moving model to device:  cpu\n"
     ]
    },
    {
     "name": "stderr",
     "output_type": "stream",
     "text": [
      "Chain 2: 100%|██████████| 200/200 [00:01<00:00, 188.66it/s]\n"
     ]
    },
    {
     "name": "stdout",
     "output_type": "stream",
     "text": [
      "result['llc/mean'] = 15.050052642822266\n",
      "Moving model to device:  cpu\n",
      "Moving model to device:  cpu\n",
      "Moving model to device:  cpu\n",
      "Moving model to device:  cpu\n"
     ]
    },
    {
     "name": "stderr",
     "output_type": "stream",
     "text": [
      "Chain 0: 100%|██████████| 200/200 [00:01<00:00, 175.73it/s]\n"
     ]
    },
    {
     "name": "stdout",
     "output_type": "stream",
     "text": [
      "Moving model to device:  cpu\n"
     ]
    },
    {
     "name": "stderr",
     "output_type": "stream",
     "text": [
      "Chain 1: 100%|██████████| 200/200 [00:01<00:00, 189.44it/s]\n"
     ]
    },
    {
     "name": "stdout",
     "output_type": "stream",
     "text": [
      "Moving model to device:  cpu\n"
     ]
    },
    {
     "name": "stderr",
     "output_type": "stream",
     "text": [
      "Chain 2: 100%|██████████| 200/200 [00:01<00:00, 191.10it/s]\n"
     ]
    },
    {
     "name": "stdout",
     "output_type": "stream",
     "text": [
      "result['llc/mean'] = 15.393771171569824\n",
      "Moving model to device:  cpu\n",
      "Moving model to device:  cpu\n",
      "Moving model to device:  cpu\n",
      "Moving model to device:  cpu\n"
     ]
    },
    {
     "name": "stderr",
     "output_type": "stream",
     "text": [
      "Chain 0: 100%|██████████| 200/200 [00:01<00:00, 187.76it/s]\n"
     ]
    },
    {
     "name": "stdout",
     "output_type": "stream",
     "text": [
      "Moving model to device:  cpu\n"
     ]
    },
    {
     "name": "stderr",
     "output_type": "stream",
     "text": [
      "Chain 1: 100%|██████████| 200/200 [00:01<00:00, 188.78it/s]\n"
     ]
    },
    {
     "name": "stdout",
     "output_type": "stream",
     "text": [
      "Moving model to device:  cpu\n"
     ]
    },
    {
     "name": "stderr",
     "output_type": "stream",
     "text": [
      "Chain 2: 100%|██████████| 200/200 [00:01<00:00, 178.88it/s]\n"
     ]
    },
    {
     "name": "stdout",
     "output_type": "stream",
     "text": [
      "result['llc/mean'] = 14.945549011230469\n",
      "Moving model to device:  cpu\n",
      "Moving model to device:  cpu\n",
      "Moving model to device:  cpu\n",
      "Moving model to device:  cpu\n"
     ]
    },
    {
     "name": "stderr",
     "output_type": "stream",
     "text": [
      "Chain 0: 100%|██████████| 200/200 [00:01<00:00, 188.93it/s]\n"
     ]
    },
    {
     "name": "stdout",
     "output_type": "stream",
     "text": [
      "Moving model to device:  cpu\n"
     ]
    },
    {
     "name": "stderr",
     "output_type": "stream",
     "text": [
      "Chain 1: 100%|██████████| 200/200 [00:01<00:00, 185.39it/s]\n"
     ]
    },
    {
     "name": "stdout",
     "output_type": "stream",
     "text": [
      "Moving model to device:  cpu\n"
     ]
    },
    {
     "name": "stderr",
     "output_type": "stream",
     "text": [
      "Chain 2: 100%|██████████| 200/200 [00:01<00:00, 183.67it/s]\n"
     ]
    },
    {
     "name": "stdout",
     "output_type": "stream",
     "text": [
      "result['llc/mean'] = 14.391409873962402\n",
      "Moving model to device:  cpu\n",
      "Moving model to device:  cpu\n",
      "Moving model to device:  cpu\n",
      "Moving model to device:  cpu\n"
     ]
    },
    {
     "name": "stderr",
     "output_type": "stream",
     "text": [
      "Chain 0: 100%|██████████| 200/200 [00:01<00:00, 192.16it/s]\n"
     ]
    },
    {
     "name": "stdout",
     "output_type": "stream",
     "text": [
      "Moving model to device:  cpu\n"
     ]
    },
    {
     "name": "stderr",
     "output_type": "stream",
     "text": [
      "Chain 1: 100%|██████████| 200/200 [00:01<00:00, 182.71it/s]\n"
     ]
    },
    {
     "name": "stdout",
     "output_type": "stream",
     "text": [
      "Moving model to device:  cpu\n"
     ]
    },
    {
     "name": "stderr",
     "output_type": "stream",
     "text": [
      "Chain 2: 100%|██████████| 200/200 [00:01<00:00, 181.19it/s]\n"
     ]
    },
    {
     "name": "stdout",
     "output_type": "stream",
     "text": [
      "result['llc/mean'] = 14.754768371582031\n",
      "Moving model to device:  cpu\n",
      "Moving model to device:  cpu\n",
      "Moving model to device:  cpu\n",
      "Moving model to device:  cpu\n"
     ]
    },
    {
     "name": "stderr",
     "output_type": "stream",
     "text": [
      "Chain 0: 100%|██████████| 200/200 [00:01<00:00, 187.79it/s]\n"
     ]
    },
    {
     "name": "stdout",
     "output_type": "stream",
     "text": [
      "Moving model to device:  cpu\n"
     ]
    },
    {
     "name": "stderr",
     "output_type": "stream",
     "text": [
      "Chain 1: 100%|██████████| 200/200 [00:01<00:00, 175.39it/s]\n"
     ]
    },
    {
     "name": "stdout",
     "output_type": "stream",
     "text": [
      "Moving model to device:  cpu\n"
     ]
    },
    {
     "name": "stderr",
     "output_type": "stream",
     "text": [
      "Chain 2: 100%|██████████| 200/200 [00:01<00:00, 182.39it/s]\n"
     ]
    },
    {
     "name": "stdout",
     "output_type": "stream",
     "text": [
      "result['llc/mean'] = 15.049995422363281\n",
      "Moving model to device:  cpu\n",
      "Moving model to device:  cpu\n",
      "Moving model to device:  cpu\n",
      "Moving model to device:  cpu\n"
     ]
    },
    {
     "name": "stderr",
     "output_type": "stream",
     "text": [
      "Chain 0: 100%|██████████| 200/200 [00:01<00:00, 188.60it/s]\n"
     ]
    },
    {
     "name": "stdout",
     "output_type": "stream",
     "text": [
      "Moving model to device:  cpu\n"
     ]
    },
    {
     "name": "stderr",
     "output_type": "stream",
     "text": [
      "Chain 1: 100%|██████████| 200/200 [00:01<00:00, 184.01it/s]\n"
     ]
    },
    {
     "name": "stdout",
     "output_type": "stream",
     "text": [
      "Moving model to device:  cpu\n"
     ]
    },
    {
     "name": "stderr",
     "output_type": "stream",
     "text": [
      "Chain 2: 100%|██████████| 200/200 [00:01<00:00, 192.78it/s]\n"
     ]
    },
    {
     "name": "stdout",
     "output_type": "stream",
     "text": [
      "result['llc/mean'] = 15.678149223327637\n",
      "Moving model to device:  cpu\n",
      "Moving model to device:  cpu\n",
      "Moving model to device:  cpu\n",
      "Moving model to device:  cpu\n"
     ]
    },
    {
     "name": "stderr",
     "output_type": "stream",
     "text": [
      "Chain 0: 100%|██████████| 200/200 [00:01<00:00, 190.74it/s]\n"
     ]
    },
    {
     "name": "stdout",
     "output_type": "stream",
     "text": [
      "Moving model to device:  cpu\n"
     ]
    },
    {
     "name": "stderr",
     "output_type": "stream",
     "text": [
      "Chain 1: 100%|██████████| 200/200 [00:01<00:00, 185.28it/s]\n"
     ]
    },
    {
     "name": "stdout",
     "output_type": "stream",
     "text": [
      "Moving model to device:  cpu\n"
     ]
    },
    {
     "name": "stderr",
     "output_type": "stream",
     "text": [
      "Chain 2: 100%|██████████| 200/200 [00:01<00:00, 192.24it/s]\n"
     ]
    },
    {
     "name": "stdout",
     "output_type": "stream",
     "text": [
      "result['llc/mean'] = 14.72435474395752\n",
      "Moving model to device:  cpu\n",
      "Moving model to device:  cpu\n",
      "Moving model to device:  cpu\n",
      "Moving model to device:  cpu\n"
     ]
    },
    {
     "name": "stderr",
     "output_type": "stream",
     "text": [
      "Chain 0: 100%|██████████| 200/200 [00:01<00:00, 181.98it/s]\n"
     ]
    },
    {
     "name": "stdout",
     "output_type": "stream",
     "text": [
      "Moving model to device:  cpu\n"
     ]
    },
    {
     "name": "stderr",
     "output_type": "stream",
     "text": [
      "Chain 1: 100%|██████████| 200/200 [00:01<00:00, 189.09it/s]\n"
     ]
    },
    {
     "name": "stdout",
     "output_type": "stream",
     "text": [
      "Moving model to device:  cpu\n"
     ]
    },
    {
     "name": "stderr",
     "output_type": "stream",
     "text": [
      "Chain 2: 100%|██████████| 200/200 [00:01<00:00, 187.13it/s]\n"
     ]
    },
    {
     "name": "stdout",
     "output_type": "stream",
     "text": [
      "result['llc/mean'] = 14.932755470275879\n",
      "Moving model to device:  cpu\n",
      "Moving model to device:  cpu\n",
      "Moving model to device:  cpu\n",
      "Moving model to device:  cpu\n"
     ]
    },
    {
     "name": "stderr",
     "output_type": "stream",
     "text": [
      "Chain 0: 100%|██████████| 200/200 [00:01<00:00, 182.80it/s]\n"
     ]
    },
    {
     "name": "stdout",
     "output_type": "stream",
     "text": [
      "Moving model to device:  cpu\n"
     ]
    },
    {
     "name": "stderr",
     "output_type": "stream",
     "text": [
      "Chain 1: 100%|██████████| 200/200 [00:01<00:00, 192.39it/s]\n"
     ]
    },
    {
     "name": "stdout",
     "output_type": "stream",
     "text": [
      "Moving model to device:  cpu\n"
     ]
    },
    {
     "name": "stderr",
     "output_type": "stream",
     "text": [
      "Chain 2: 100%|██████████| 200/200 [00:01<00:00, 180.57it/s]\n"
     ]
    },
    {
     "name": "stdout",
     "output_type": "stream",
     "text": [
      "result['llc/mean'] = 15.163841247558594\n",
      "Moving model to device:  cpu\n",
      "Moving model to device:  cpu\n",
      "Moving model to device:  cpu\n",
      "Moving model to device:  cpu\n"
     ]
    },
    {
     "name": "stderr",
     "output_type": "stream",
     "text": [
      "Chain 0: 100%|██████████| 200/200 [00:01<00:00, 190.43it/s]\n"
     ]
    },
    {
     "name": "stdout",
     "output_type": "stream",
     "text": [
      "Moving model to device:  cpu\n"
     ]
    },
    {
     "name": "stderr",
     "output_type": "stream",
     "text": [
      "Chain 1: 100%|██████████| 200/200 [00:01<00:00, 190.82it/s]\n"
     ]
    },
    {
     "name": "stdout",
     "output_type": "stream",
     "text": [
      "Moving model to device:  cpu\n"
     ]
    },
    {
     "name": "stderr",
     "output_type": "stream",
     "text": [
      "Chain 2: 100%|██████████| 200/200 [00:01<00:00, 182.40it/s]\n"
     ]
    },
    {
     "name": "stdout",
     "output_type": "stream",
     "text": [
      "result['llc/mean'] = 15.145377159118652\n",
      "Moving model to device:  cpu\n",
      "Moving model to device:  cpu\n",
      "Moving model to device:  cpu\n",
      "Moving model to device:  cpu\n"
     ]
    },
    {
     "name": "stderr",
     "output_type": "stream",
     "text": [
      "Chain 0: 100%|██████████| 200/200 [00:01<00:00, 190.89it/s]\n"
     ]
    },
    {
     "name": "stdout",
     "output_type": "stream",
     "text": [
      "Moving model to device:  cpu\n"
     ]
    },
    {
     "name": "stderr",
     "output_type": "stream",
     "text": [
      "Chain 1: 100%|██████████| 200/200 [00:01<00:00, 190.59it/s]\n"
     ]
    },
    {
     "name": "stdout",
     "output_type": "stream",
     "text": [
      "Moving model to device:  cpu\n"
     ]
    },
    {
     "name": "stderr",
     "output_type": "stream",
     "text": [
      "Chain 2: 100%|██████████| 200/200 [00:01<00:00, 185.46it/s]\n"
     ]
    },
    {
     "name": "stdout",
     "output_type": "stream",
     "text": [
      "result['llc/mean'] = 15.006356239318848\n",
      "Moving model to device:  cpu\n",
      "Moving model to device:  cpu\n",
      "Moving model to device:  cpu\n",
      "Moving model to device:  cpu\n"
     ]
    },
    {
     "name": "stderr",
     "output_type": "stream",
     "text": [
      "Chain 0: 100%|██████████| 200/200 [00:01<00:00, 190.37it/s]\n"
     ]
    },
    {
     "name": "stdout",
     "output_type": "stream",
     "text": [
      "Moving model to device:  cpu\n"
     ]
    },
    {
     "name": "stderr",
     "output_type": "stream",
     "text": [
      "Chain 1: 100%|██████████| 200/200 [00:01<00:00, 183.52it/s]\n"
     ]
    },
    {
     "name": "stdout",
     "output_type": "stream",
     "text": [
      "Moving model to device:  cpu\n"
     ]
    },
    {
     "name": "stderr",
     "output_type": "stream",
     "text": [
      "Chain 2: 100%|██████████| 200/200 [00:01<00:00, 191.55it/s]\n"
     ]
    },
    {
     "name": "stdout",
     "output_type": "stream",
     "text": [
      "result['llc/mean'] = 15.166975975036621\n",
      "Moving model to device:  cpu\n",
      "Moving model to device:  cpu\n",
      "Moving model to device:  cpu\n",
      "Moving model to device:  cpu\n"
     ]
    },
    {
     "name": "stderr",
     "output_type": "stream",
     "text": [
      "Chain 0: 100%|██████████| 200/200 [00:01<00:00, 190.38it/s]\n"
     ]
    },
    {
     "name": "stdout",
     "output_type": "stream",
     "text": [
      "Moving model to device:  cpu\n"
     ]
    },
    {
     "name": "stderr",
     "output_type": "stream",
     "text": [
      "Chain 1: 100%|██████████| 200/200 [00:01<00:00, 181.35it/s]\n"
     ]
    },
    {
     "name": "stdout",
     "output_type": "stream",
     "text": [
      "Moving model to device:  cpu\n"
     ]
    },
    {
     "name": "stderr",
     "output_type": "stream",
     "text": [
      "Chain 2: 100%|██████████| 200/200 [00:01<00:00, 189.34it/s]\n"
     ]
    },
    {
     "name": "stdout",
     "output_type": "stream",
     "text": [
      "result['llc/mean'] = 15.228690147399902\n",
      "Moving model to device:  cpu\n",
      "Moving model to device:  cpu\n",
      "Moving model to device:  cpu\n",
      "Moving model to device:  cpu\n"
     ]
    },
    {
     "name": "stderr",
     "output_type": "stream",
     "text": [
      "Chain 0: 100%|██████████| 200/200 [00:01<00:00, 189.96it/s]\n"
     ]
    },
    {
     "name": "stdout",
     "output_type": "stream",
     "text": [
      "Moving model to device:  cpu\n"
     ]
    },
    {
     "name": "stderr",
     "output_type": "stream",
     "text": [
      "Chain 1: 100%|██████████| 200/200 [00:01<00:00, 182.06it/s]\n"
     ]
    },
    {
     "name": "stdout",
     "output_type": "stream",
     "text": [
      "Moving model to device:  cpu\n"
     ]
    },
    {
     "name": "stderr",
     "output_type": "stream",
     "text": [
      "Chain 2: 100%|██████████| 200/200 [00:01<00:00, 169.07it/s]\n"
     ]
    },
    {
     "name": "stdout",
     "output_type": "stream",
     "text": [
      "result['llc/mean'] = 15.417094230651855\n",
      "Moving model to device:  cpu\n",
      "Moving model to device:  cpu\n",
      "Moving model to device:  cpu\n",
      "Moving model to device:  cpu\n"
     ]
    },
    {
     "name": "stderr",
     "output_type": "stream",
     "text": [
      "Chain 0: 100%|██████████| 200/200 [00:01<00:00, 178.29it/s]\n"
     ]
    },
    {
     "name": "stdout",
     "output_type": "stream",
     "text": [
      "Moving model to device:  cpu\n"
     ]
    },
    {
     "name": "stderr",
     "output_type": "stream",
     "text": [
      "Chain 1: 100%|██████████| 200/200 [00:01<00:00, 186.02it/s]\n"
     ]
    },
    {
     "name": "stdout",
     "output_type": "stream",
     "text": [
      "Moving model to device:  cpu\n"
     ]
    },
    {
     "name": "stderr",
     "output_type": "stream",
     "text": [
      "Chain 2: 100%|██████████| 200/200 [00:01<00:00, 187.31it/s]\n"
     ]
    },
    {
     "name": "stdout",
     "output_type": "stream",
     "text": [
      "result['llc/mean'] = 15.535656929016113\n",
      "Moving model to device:  cpu\n",
      "Moving model to device:  cpu\n",
      "Moving model to device:  cpu\n",
      "Moving model to device:  cpu\n"
     ]
    },
    {
     "name": "stderr",
     "output_type": "stream",
     "text": [
      "Chain 0: 100%|██████████| 200/200 [00:01<00:00, 177.53it/s]\n"
     ]
    },
    {
     "name": "stdout",
     "output_type": "stream",
     "text": [
      "Moving model to device:  cpu\n"
     ]
    },
    {
     "name": "stderr",
     "output_type": "stream",
     "text": [
      "Chain 1: 100%|██████████| 200/200 [00:01<00:00, 175.89it/s]\n"
     ]
    },
    {
     "name": "stdout",
     "output_type": "stream",
     "text": [
      "Moving model to device:  cpu\n"
     ]
    },
    {
     "name": "stderr",
     "output_type": "stream",
     "text": [
      "Chain 2: 100%|██████████| 200/200 [00:01<00:00, 186.37it/s]\n"
     ]
    },
    {
     "name": "stdout",
     "output_type": "stream",
     "text": [
      "result['llc/mean'] = 15.496482849121094\n",
      "Moving model to device:  cpu\n",
      "Moving model to device:  cpu\n",
      "Moving model to device:  cpu\n",
      "Moving model to device:  cpu\n"
     ]
    },
    {
     "name": "stderr",
     "output_type": "stream",
     "text": [
      "Chain 0: 100%|██████████| 200/200 [00:01<00:00, 181.80it/s]\n"
     ]
    },
    {
     "name": "stdout",
     "output_type": "stream",
     "text": [
      "Moving model to device:  cpu\n"
     ]
    },
    {
     "name": "stderr",
     "output_type": "stream",
     "text": [
      "Chain 1: 100%|██████████| 200/200 [00:01<00:00, 191.87it/s]\n"
     ]
    },
    {
     "name": "stdout",
     "output_type": "stream",
     "text": [
      "Moving model to device:  cpu\n"
     ]
    },
    {
     "name": "stderr",
     "output_type": "stream",
     "text": [
      "Chain 2: 100%|██████████| 200/200 [00:01<00:00, 182.88it/s]\n"
     ]
    },
    {
     "name": "stdout",
     "output_type": "stream",
     "text": [
      "result['llc/mean'] = 15.063194274902344\n",
      "Moving model to device:  cpu\n",
      "Moving model to device:  cpu\n",
      "Moving model to device:  cpu\n",
      "Moving model to device:  cpu\n"
     ]
    },
    {
     "name": "stderr",
     "output_type": "stream",
     "text": [
      "Chain 0: 100%|██████████| 200/200 [00:01<00:00, 191.32it/s]\n"
     ]
    },
    {
     "name": "stdout",
     "output_type": "stream",
     "text": [
      "Moving model to device:  cpu\n"
     ]
    },
    {
     "name": "stderr",
     "output_type": "stream",
     "text": [
      "Chain 1: 100%|██████████| 200/200 [00:01<00:00, 189.28it/s]\n"
     ]
    },
    {
     "name": "stdout",
     "output_type": "stream",
     "text": [
      "Moving model to device:  cpu\n"
     ]
    },
    {
     "name": "stderr",
     "output_type": "stream",
     "text": [
      "Chain 2: 100%|██████████| 200/200 [00:01<00:00, 173.33it/s]\n"
     ]
    },
    {
     "name": "stdout",
     "output_type": "stream",
     "text": [
      "result['llc/mean'] = 15.214644432067871\n",
      "Moving model to device:  cpu\n",
      "Moving model to device:  cpu\n",
      "Moving model to device:  cpu\n",
      "Moving model to device:  cpu\n"
     ]
    },
    {
     "name": "stderr",
     "output_type": "stream",
     "text": [
      "Chain 0: 100%|██████████| 200/200 [00:01<00:00, 188.21it/s]\n"
     ]
    },
    {
     "name": "stdout",
     "output_type": "stream",
     "text": [
      "Moving model to device:  cpu\n"
     ]
    },
    {
     "name": "stderr",
     "output_type": "stream",
     "text": [
      "Chain 1: 100%|██████████| 200/200 [00:01<00:00, 189.79it/s]\n"
     ]
    },
    {
     "name": "stdout",
     "output_type": "stream",
     "text": [
      "Moving model to device:  cpu\n"
     ]
    },
    {
     "name": "stderr",
     "output_type": "stream",
     "text": [
      "Chain 2: 100%|██████████| 200/200 [00:01<00:00, 169.58it/s]\n"
     ]
    },
    {
     "name": "stdout",
     "output_type": "stream",
     "text": [
      "result['llc/mean'] = 15.059834480285645\n",
      "Moving model to device:  cpu\n",
      "Moving model to device:  cpu\n",
      "Moving model to device:  cpu\n",
      "Moving model to device:  cpu\n"
     ]
    },
    {
     "name": "stderr",
     "output_type": "stream",
     "text": [
      "Chain 0: 100%|██████████| 200/200 [00:01<00:00, 172.85it/s]\n"
     ]
    },
    {
     "name": "stdout",
     "output_type": "stream",
     "text": [
      "Moving model to device:  cpu\n"
     ]
    },
    {
     "name": "stderr",
     "output_type": "stream",
     "text": [
      "Chain 1: 100%|██████████| 200/200 [00:01<00:00, 178.44it/s]\n"
     ]
    },
    {
     "name": "stdout",
     "output_type": "stream",
     "text": [
      "Moving model to device:  cpu\n"
     ]
    },
    {
     "name": "stderr",
     "output_type": "stream",
     "text": [
      "Chain 2: 100%|██████████| 200/200 [00:01<00:00, 190.10it/s]\n"
     ]
    },
    {
     "name": "stdout",
     "output_type": "stream",
     "text": [
      "result['llc/mean'] = 14.79272747039795\n",
      "Moving model to device:  cpu\n",
      "Moving model to device:  cpu\n",
      "Moving model to device:  cpu\n",
      "Moving model to device:  cpu\n"
     ]
    },
    {
     "name": "stderr",
     "output_type": "stream",
     "text": [
      "Chain 0: 100%|██████████| 200/200 [00:01<00:00, 191.47it/s]\n"
     ]
    },
    {
     "name": "stdout",
     "output_type": "stream",
     "text": [
      "Moving model to device:  cpu\n"
     ]
    },
    {
     "name": "stderr",
     "output_type": "stream",
     "text": [
      "Chain 1: 100%|██████████| 200/200 [00:01<00:00, 184.82it/s]\n"
     ]
    },
    {
     "name": "stdout",
     "output_type": "stream",
     "text": [
      "Moving model to device:  cpu\n"
     ]
    },
    {
     "name": "stderr",
     "output_type": "stream",
     "text": [
      "Chain 2: 100%|██████████| 200/200 [00:01<00:00, 193.18it/s]\n"
     ]
    },
    {
     "name": "stdout",
     "output_type": "stream",
     "text": [
      "result['llc/mean'] = 15.008587837219238\n",
      "Moving model to device:  cpu\n",
      "Moving model to device:  cpu\n",
      "Moving model to device:  cpu\n",
      "Moving model to device:  cpu\n"
     ]
    },
    {
     "name": "stderr",
     "output_type": "stream",
     "text": [
      "Chain 0: 100%|██████████| 200/200 [00:01<00:00, 182.66it/s]\n"
     ]
    },
    {
     "name": "stdout",
     "output_type": "stream",
     "text": [
      "Moving model to device:  cpu\n"
     ]
    },
    {
     "name": "stderr",
     "output_type": "stream",
     "text": [
      "Chain 1: 100%|██████████| 200/200 [00:01<00:00, 174.19it/s]\n"
     ]
    },
    {
     "name": "stdout",
     "output_type": "stream",
     "text": [
      "Moving model to device:  cpu\n"
     ]
    },
    {
     "name": "stderr",
     "output_type": "stream",
     "text": [
      "Chain 2: 100%|██████████| 200/200 [00:01<00:00, 168.11it/s]\n"
     ]
    },
    {
     "name": "stdout",
     "output_type": "stream",
     "text": [
      "result['llc/mean'] = 14.95456600189209\n",
      "Moving model to device:  cpu\n",
      "Moving model to device:  cpu\n",
      "Moving model to device:  cpu\n",
      "Moving model to device:  cpu\n"
     ]
    },
    {
     "name": "stderr",
     "output_type": "stream",
     "text": [
      "Chain 0: 100%|██████████| 200/200 [00:01<00:00, 175.71it/s]\n"
     ]
    },
    {
     "name": "stdout",
     "output_type": "stream",
     "text": [
      "Moving model to device:  cpu\n"
     ]
    },
    {
     "name": "stderr",
     "output_type": "stream",
     "text": [
      "Chain 1: 100%|██████████| 200/200 [00:01<00:00, 167.00it/s]\n"
     ]
    },
    {
     "name": "stdout",
     "output_type": "stream",
     "text": [
      "Moving model to device:  cpu\n"
     ]
    },
    {
     "name": "stderr",
     "output_type": "stream",
     "text": [
      "Chain 2: 100%|██████████| 200/200 [00:01<00:00, 121.91it/s]\n"
     ]
    },
    {
     "name": "stdout",
     "output_type": "stream",
     "text": [
      "result['llc/mean'] = 15.128018379211426\n",
      "Moving model to device:  cpu\n",
      "Moving model to device:  cpu\n",
      "Moving model to device:  cpu\n",
      "Moving model to device:  cpu\n"
     ]
    },
    {
     "name": "stderr",
     "output_type": "stream",
     "text": [
      "Chain 0: 100%|██████████| 200/200 [00:01<00:00, 168.09it/s]\n"
     ]
    },
    {
     "name": "stdout",
     "output_type": "stream",
     "text": [
      "Moving model to device:  cpu\n"
     ]
    },
    {
     "name": "stderr",
     "output_type": "stream",
     "text": [
      "Chain 1: 100%|██████████| 200/200 [00:01<00:00, 170.08it/s]\n"
     ]
    },
    {
     "name": "stdout",
     "output_type": "stream",
     "text": [
      "Moving model to device:  cpu\n"
     ]
    },
    {
     "name": "stderr",
     "output_type": "stream",
     "text": [
      "Chain 2: 100%|██████████| 200/200 [00:01<00:00, 175.35it/s]\n"
     ]
    },
    {
     "name": "stdout",
     "output_type": "stream",
     "text": [
      "result['llc/mean'] = 15.278109550476074\n",
      "Moving model to device:  cpu\n",
      "Moving model to device:  cpu\n",
      "Moving model to device:  cpu\n",
      "Moving model to device:  cpu\n"
     ]
    },
    {
     "name": "stderr",
     "output_type": "stream",
     "text": [
      "Chain 0: 100%|██████████| 200/200 [00:01<00:00, 185.39it/s]\n"
     ]
    },
    {
     "name": "stdout",
     "output_type": "stream",
     "text": [
      "Moving model to device:  cpu\n"
     ]
    },
    {
     "name": "stderr",
     "output_type": "stream",
     "text": [
      "Chain 1: 100%|██████████| 200/200 [00:01<00:00, 190.52it/s]\n"
     ]
    },
    {
     "name": "stdout",
     "output_type": "stream",
     "text": [
      "Moving model to device:  cpu\n"
     ]
    },
    {
     "name": "stderr",
     "output_type": "stream",
     "text": [
      "Chain 2: 100%|██████████| 200/200 [00:01<00:00, 148.90it/s]\n"
     ]
    },
    {
     "name": "stdout",
     "output_type": "stream",
     "text": [
      "result['llc/mean'] = 15.290367126464844\n",
      "Moving model to device:  cpu\n",
      "Moving model to device:  cpu\n",
      "Moving model to device:  cpu\n",
      "Moving model to device:  cpu\n"
     ]
    },
    {
     "name": "stderr",
     "output_type": "stream",
     "text": [
      "Chain 0: 100%|██████████| 200/200 [00:01<00:00, 172.17it/s]\n"
     ]
    },
    {
     "name": "stdout",
     "output_type": "stream",
     "text": [
      "Moving model to device:  cpu\n"
     ]
    },
    {
     "name": "stderr",
     "output_type": "stream",
     "text": [
      "Chain 1: 100%|██████████| 200/200 [00:01<00:00, 171.35it/s]\n"
     ]
    },
    {
     "name": "stdout",
     "output_type": "stream",
     "text": [
      "Moving model to device:  cpu\n"
     ]
    },
    {
     "name": "stderr",
     "output_type": "stream",
     "text": [
      "Chain 2: 100%|██████████| 200/200 [00:01<00:00, 163.53it/s]\n"
     ]
    },
    {
     "name": "stdout",
     "output_type": "stream",
     "text": [
      "result['llc/mean'] = 15.442782402038574\n",
      "Moving model to device:  cpu\n",
      "Moving model to device:  cpu\n",
      "Moving model to device:  cpu\n",
      "Moving model to device:  cpu\n"
     ]
    },
    {
     "name": "stderr",
     "output_type": "stream",
     "text": [
      "Chain 0: 100%|██████████| 200/200 [00:01<00:00, 172.11it/s]\n"
     ]
    },
    {
     "name": "stdout",
     "output_type": "stream",
     "text": [
      "Moving model to device:  cpu\n"
     ]
    },
    {
     "name": "stderr",
     "output_type": "stream",
     "text": [
      "Chain 1: 100%|██████████| 200/200 [00:01<00:00, 165.08it/s]\n"
     ]
    },
    {
     "name": "stdout",
     "output_type": "stream",
     "text": [
      "Moving model to device:  cpu\n"
     ]
    },
    {
     "name": "stderr",
     "output_type": "stream",
     "text": [
      "Chain 2: 100%|██████████| 200/200 [00:01<00:00, 174.27it/s]\n"
     ]
    },
    {
     "name": "stdout",
     "output_type": "stream",
     "text": [
      "result['llc/mean'] = 15.672471046447754\n",
      "Moving model to device:  cpu\n",
      "Moving model to device:  cpu\n",
      "Moving model to device:  cpu\n",
      "Moving model to device:  cpu\n"
     ]
    },
    {
     "name": "stderr",
     "output_type": "stream",
     "text": [
      "Chain 0: 100%|██████████| 200/200 [00:01<00:00, 161.01it/s]\n"
     ]
    },
    {
     "name": "stdout",
     "output_type": "stream",
     "text": [
      "Moving model to device:  cpu\n"
     ]
    },
    {
     "name": "stderr",
     "output_type": "stream",
     "text": [
      "Chain 1: 100%|██████████| 200/200 [00:01<00:00, 160.59it/s]\n"
     ]
    },
    {
     "name": "stdout",
     "output_type": "stream",
     "text": [
      "Moving model to device:  cpu\n"
     ]
    },
    {
     "name": "stderr",
     "output_type": "stream",
     "text": [
      "Chain 2: 100%|██████████| 200/200 [00:01<00:00, 161.27it/s]\n"
     ]
    },
    {
     "name": "stdout",
     "output_type": "stream",
     "text": [
      "result['llc/mean'] = 15.842913627624512\n",
      "Moving model to device:  cpu\n",
      "Moving model to device:  cpu\n",
      "Moving model to device:  cpu\n",
      "Moving model to device:  cpu\n"
     ]
    },
    {
     "name": "stderr",
     "output_type": "stream",
     "text": [
      "Chain 0: 100%|██████████| 200/200 [00:01<00:00, 161.52it/s]\n"
     ]
    },
    {
     "name": "stdout",
     "output_type": "stream",
     "text": [
      "Moving model to device:  cpu\n"
     ]
    },
    {
     "name": "stderr",
     "output_type": "stream",
     "text": [
      "Chain 1: 100%|██████████| 200/200 [00:01<00:00, 164.54it/s]\n"
     ]
    },
    {
     "name": "stdout",
     "output_type": "stream",
     "text": [
      "Moving model to device:  cpu\n"
     ]
    },
    {
     "name": "stderr",
     "output_type": "stream",
     "text": [
      "Chain 2: 100%|██████████| 200/200 [00:01<00:00, 142.86it/s]\n"
     ]
    },
    {
     "name": "stdout",
     "output_type": "stream",
     "text": [
      "result['llc/mean'] = 15.796114921569824\n",
      "Moving model to device:  cpu\n",
      "Moving model to device:  cpu\n",
      "Moving model to device:  cpu\n",
      "Moving model to device:  cpu\n"
     ]
    },
    {
     "name": "stderr",
     "output_type": "stream",
     "text": [
      "Chain 0: 100%|██████████| 200/200 [00:01<00:00, 164.70it/s]\n"
     ]
    },
    {
     "name": "stdout",
     "output_type": "stream",
     "text": [
      "Moving model to device:  cpu\n"
     ]
    },
    {
     "name": "stderr",
     "output_type": "stream",
     "text": [
      "Chain 1: 100%|██████████| 200/200 [00:01<00:00, 164.64it/s]\n"
     ]
    },
    {
     "name": "stdout",
     "output_type": "stream",
     "text": [
      "Moving model to device:  cpu\n"
     ]
    },
    {
     "name": "stderr",
     "output_type": "stream",
     "text": [
      "Chain 2: 100%|██████████| 200/200 [00:01<00:00, 163.07it/s]\n"
     ]
    },
    {
     "name": "stdout",
     "output_type": "stream",
     "text": [
      "result['llc/mean'] = 15.668566703796387\n",
      "Moving model to device:  cpu\n",
      "Moving model to device:  cpu\n",
      "Moving model to device:  cpu\n",
      "Moving model to device:  cpu\n"
     ]
    },
    {
     "name": "stderr",
     "output_type": "stream",
     "text": [
      "Chain 0: 100%|██████████| 200/200 [00:01<00:00, 185.65it/s]\n"
     ]
    },
    {
     "name": "stdout",
     "output_type": "stream",
     "text": [
      "Moving model to device:  cpu\n"
     ]
    },
    {
     "name": "stderr",
     "output_type": "stream",
     "text": [
      "Chain 1: 100%|██████████| 200/200 [00:01<00:00, 175.07it/s]\n"
     ]
    },
    {
     "name": "stdout",
     "output_type": "stream",
     "text": [
      "Moving model to device:  cpu\n"
     ]
    },
    {
     "name": "stderr",
     "output_type": "stream",
     "text": [
      "Chain 2: 100%|██████████| 200/200 [00:01<00:00, 194.06it/s]\n"
     ]
    },
    {
     "name": "stdout",
     "output_type": "stream",
     "text": [
      "result['llc/mean'] = 15.291423797607422\n",
      "Moving model to device:  cpu\n",
      "Moving model to device:  cpu\n",
      "Moving model to device:  cpu\n",
      "Moving model to device:  cpu\n"
     ]
    },
    {
     "name": "stderr",
     "output_type": "stream",
     "text": [
      "Chain 0: 100%|██████████| 200/200 [00:01<00:00, 193.84it/s]\n"
     ]
    },
    {
     "name": "stdout",
     "output_type": "stream",
     "text": [
      "Moving model to device:  cpu\n"
     ]
    },
    {
     "name": "stderr",
     "output_type": "stream",
     "text": [
      "Chain 1: 100%|██████████| 200/200 [00:01<00:00, 185.43it/s]\n"
     ]
    },
    {
     "name": "stdout",
     "output_type": "stream",
     "text": [
      "Moving model to device:  cpu\n"
     ]
    },
    {
     "name": "stderr",
     "output_type": "stream",
     "text": [
      "Chain 2: 100%|██████████| 200/200 [00:01<00:00, 188.09it/s]\n"
     ]
    },
    {
     "name": "stdout",
     "output_type": "stream",
     "text": [
      "result['llc/mean'] = 15.038166999816895\n",
      "Moving model to device:  cpu\n",
      "Moving model to device:  cpu\n",
      "Moving model to device:  cpu\n",
      "Moving model to device:  cpu\n"
     ]
    },
    {
     "name": "stderr",
     "output_type": "stream",
     "text": [
      "Chain 0: 100%|██████████| 200/200 [00:01<00:00, 181.05it/s]\n"
     ]
    },
    {
     "name": "stdout",
     "output_type": "stream",
     "text": [
      "Moving model to device:  cpu\n"
     ]
    },
    {
     "name": "stderr",
     "output_type": "stream",
     "text": [
      "Chain 1: 100%|██████████| 200/200 [00:01<00:00, 185.35it/s]\n"
     ]
    },
    {
     "name": "stdout",
     "output_type": "stream",
     "text": [
      "Moving model to device:  cpu\n"
     ]
    },
    {
     "name": "stderr",
     "output_type": "stream",
     "text": [
      "Chain 2: 100%|██████████| 200/200 [00:01<00:00, 185.80it/s]\n"
     ]
    },
    {
     "name": "stdout",
     "output_type": "stream",
     "text": [
      "result['llc/mean'] = 14.780251502990723\n",
      "Moving model to device:  cpu\n",
      "Moving model to device:  cpu\n",
      "Moving model to device:  cpu\n",
      "Moving model to device:  cpu\n"
     ]
    },
    {
     "name": "stderr",
     "output_type": "stream",
     "text": [
      "Chain 0: 100%|██████████| 200/200 [00:01<00:00, 168.49it/s]\n"
     ]
    },
    {
     "name": "stdout",
     "output_type": "stream",
     "text": [
      "Moving model to device:  cpu\n"
     ]
    },
    {
     "name": "stderr",
     "output_type": "stream",
     "text": [
      "Chain 1: 100%|██████████| 200/200 [00:01<00:00, 168.65it/s]\n"
     ]
    },
    {
     "name": "stdout",
     "output_type": "stream",
     "text": [
      "Moving model to device:  cpu\n"
     ]
    },
    {
     "name": "stderr",
     "output_type": "stream",
     "text": [
      "Chain 2: 100%|██████████| 200/200 [00:01<00:00, 184.05it/s]\n"
     ]
    },
    {
     "name": "stdout",
     "output_type": "stream",
     "text": [
      "result['llc/mean'] = 14.583212852478027\n",
      "Moving model to device:  cpu\n",
      "Moving model to device:  cpu\n",
      "Moving model to device:  cpu\n",
      "Moving model to device:  cpu\n"
     ]
    },
    {
     "name": "stderr",
     "output_type": "stream",
     "text": [
      "Chain 0: 100%|██████████| 200/200 [00:01<00:00, 176.62it/s]\n"
     ]
    },
    {
     "name": "stdout",
     "output_type": "stream",
     "text": [
      "Moving model to device:  cpu\n"
     ]
    },
    {
     "name": "stderr",
     "output_type": "stream",
     "text": [
      "Chain 1: 100%|██████████| 200/200 [00:01<00:00, 141.73it/s]\n"
     ]
    },
    {
     "name": "stdout",
     "output_type": "stream",
     "text": [
      "Moving model to device:  cpu\n"
     ]
    },
    {
     "name": "stderr",
     "output_type": "stream",
     "text": [
      "Chain 2: 100%|██████████| 200/200 [00:01<00:00, 107.61it/s]\n"
     ]
    },
    {
     "name": "stdout",
     "output_type": "stream",
     "text": [
      "result['llc/mean'] = 14.661331176757812\n",
      "Moving model to device:  cpu\n",
      "Moving model to device:  cpu\n",
      "Moving model to device:  cpu\n",
      "Moving model to device:  cpu\n"
     ]
    },
    {
     "name": "stderr",
     "output_type": "stream",
     "text": [
      "Chain 0: 100%|██████████| 200/200 [00:01<00:00, 141.64it/s]\n"
     ]
    },
    {
     "name": "stdout",
     "output_type": "stream",
     "text": [
      "Moving model to device:  cpu\n"
     ]
    },
    {
     "name": "stderr",
     "output_type": "stream",
     "text": [
      "Chain 1: 100%|██████████| 200/200 [00:01<00:00, 175.42it/s]\n"
     ]
    },
    {
     "name": "stdout",
     "output_type": "stream",
     "text": [
      "Moving model to device:  cpu\n"
     ]
    },
    {
     "name": "stderr",
     "output_type": "stream",
     "text": [
      "Chain 2: 100%|██████████| 200/200 [00:01<00:00, 188.04it/s]\n"
     ]
    },
    {
     "name": "stdout",
     "output_type": "stream",
     "text": [
      "result['llc/mean'] = 14.824851989746094\n",
      "Moving model to device:  cpu\n",
      "Moving model to device:  cpu\n",
      "Moving model to device:  cpu\n",
      "Moving model to device:  cpu\n"
     ]
    },
    {
     "name": "stderr",
     "output_type": "stream",
     "text": [
      "Chain 0: 100%|██████████| 200/200 [00:01<00:00, 188.67it/s]\n"
     ]
    },
    {
     "name": "stdout",
     "output_type": "stream",
     "text": [
      "Moving model to device:  cpu\n"
     ]
    },
    {
     "name": "stderr",
     "output_type": "stream",
     "text": [
      "Chain 1: 100%|██████████| 200/200 [00:01<00:00, 178.72it/s]\n"
     ]
    },
    {
     "name": "stdout",
     "output_type": "stream",
     "text": [
      "Moving model to device:  cpu\n"
     ]
    },
    {
     "name": "stderr",
     "output_type": "stream",
     "text": [
      "Chain 2: 100%|██████████| 200/200 [00:01<00:00, 191.98it/s]\n"
     ]
    },
    {
     "name": "stdout",
     "output_type": "stream",
     "text": [
      "result['llc/mean'] = 14.664395332336426\n",
      "Moving model to device:  cpu\n",
      "Moving model to device:  cpu\n",
      "Moving model to device:  cpu\n",
      "Moving model to device:  cpu\n"
     ]
    },
    {
     "name": "stderr",
     "output_type": "stream",
     "text": [
      "Chain 0: 100%|██████████| 200/200 [00:01<00:00, 189.49it/s]\n"
     ]
    },
    {
     "name": "stdout",
     "output_type": "stream",
     "text": [
      "Moving model to device:  cpu\n"
     ]
    },
    {
     "name": "stderr",
     "output_type": "stream",
     "text": [
      "Chain 1: 100%|██████████| 200/200 [00:01<00:00, 186.21it/s]\n"
     ]
    },
    {
     "name": "stdout",
     "output_type": "stream",
     "text": [
      "Moving model to device:  cpu\n"
     ]
    },
    {
     "name": "stderr",
     "output_type": "stream",
     "text": [
      "Chain 2: 100%|██████████| 200/200 [00:01<00:00, 184.84it/s]\n"
     ]
    },
    {
     "name": "stdout",
     "output_type": "stream",
     "text": [
      "result['llc/mean'] = 14.94005298614502\n",
      "Moving model to device:  cpu\n",
      "Moving model to device:  cpu\n",
      "Moving model to device:  cpu\n",
      "Moving model to device:  cpu\n"
     ]
    },
    {
     "name": "stderr",
     "output_type": "stream",
     "text": [
      "Chain 0: 100%|██████████| 200/200 [00:01<00:00, 177.42it/s]\n"
     ]
    },
    {
     "name": "stdout",
     "output_type": "stream",
     "text": [
      "Moving model to device:  cpu\n"
     ]
    },
    {
     "name": "stderr",
     "output_type": "stream",
     "text": [
      "Chain 1: 100%|██████████| 200/200 [00:01<00:00, 187.51it/s]\n"
     ]
    },
    {
     "name": "stdout",
     "output_type": "stream",
     "text": [
      "Moving model to device:  cpu\n"
     ]
    },
    {
     "name": "stderr",
     "output_type": "stream",
     "text": [
      "Chain 2: 100%|██████████| 200/200 [00:01<00:00, 186.25it/s]\n"
     ]
    },
    {
     "name": "stdout",
     "output_type": "stream",
     "text": [
      "result['llc/mean'] = 15.197358131408691\n",
      "Moving model to device:  cpu\n",
      "Moving model to device:  cpu\n",
      "Moving model to device:  cpu\n",
      "Moving model to device:  cpu\n"
     ]
    },
    {
     "name": "stderr",
     "output_type": "stream",
     "text": [
      "Chain 0: 100%|██████████| 200/200 [00:01<00:00, 180.06it/s]\n"
     ]
    },
    {
     "name": "stdout",
     "output_type": "stream",
     "text": [
      "Moving model to device:  cpu\n"
     ]
    },
    {
     "name": "stderr",
     "output_type": "stream",
     "text": [
      "Chain 1: 100%|██████████| 200/200 [00:01<00:00, 187.99it/s]\n"
     ]
    },
    {
     "name": "stdout",
     "output_type": "stream",
     "text": [
      "Moving model to device:  cpu\n"
     ]
    },
    {
     "name": "stderr",
     "output_type": "stream",
     "text": [
      "Chain 2: 100%|██████████| 200/200 [00:01<00:00, 180.06it/s]\n"
     ]
    },
    {
     "name": "stdout",
     "output_type": "stream",
     "text": [
      "result['llc/mean'] = 14.899834632873535\n",
      "Moving model to device:  cpu\n",
      "Moving model to device:  cpu\n",
      "Moving model to device:  cpu\n",
      "Moving model to device:  cpu\n"
     ]
    },
    {
     "name": "stderr",
     "output_type": "stream",
     "text": [
      "Chain 0: 100%|██████████| 200/200 [00:01<00:00, 183.88it/s]\n"
     ]
    },
    {
     "name": "stdout",
     "output_type": "stream",
     "text": [
      "Moving model to device:  cpu\n"
     ]
    },
    {
     "name": "stderr",
     "output_type": "stream",
     "text": [
      "Chain 1: 100%|██████████| 200/200 [00:01<00:00, 182.80it/s]\n"
     ]
    },
    {
     "name": "stdout",
     "output_type": "stream",
     "text": [
      "Moving model to device:  cpu\n"
     ]
    },
    {
     "name": "stderr",
     "output_type": "stream",
     "text": [
      "Chain 2: 100%|██████████| 200/200 [00:01<00:00, 179.75it/s]\n"
     ]
    },
    {
     "name": "stdout",
     "output_type": "stream",
     "text": [
      "result['llc/mean'] = 15.186718940734863\n",
      "Moving model to device:  cpu\n",
      "Moving model to device:  cpu\n",
      "Moving model to device:  cpu\n",
      "Moving model to device:  cpu\n"
     ]
    },
    {
     "name": "stderr",
     "output_type": "stream",
     "text": [
      "Chain 0: 100%|██████████| 200/200 [00:01<00:00, 191.06it/s]\n"
     ]
    },
    {
     "name": "stdout",
     "output_type": "stream",
     "text": [
      "Moving model to device:  cpu\n"
     ]
    },
    {
     "name": "stderr",
     "output_type": "stream",
     "text": [
      "Chain 1: 100%|██████████| 200/200 [00:01<00:00, 191.00it/s]\n"
     ]
    },
    {
     "name": "stdout",
     "output_type": "stream",
     "text": [
      "Moving model to device:  cpu\n"
     ]
    },
    {
     "name": "stderr",
     "output_type": "stream",
     "text": [
      "Chain 2: 100%|██████████| 200/200 [00:01<00:00, 188.09it/s]\n"
     ]
    },
    {
     "name": "stdout",
     "output_type": "stream",
     "text": [
      "result['llc/mean'] = 15.381834983825684\n",
      "Moving model to device:  cpu\n",
      "Moving model to device:  cpu\n",
      "Moving model to device:  cpu\n",
      "Moving model to device:  cpu\n"
     ]
    },
    {
     "name": "stderr",
     "output_type": "stream",
     "text": [
      "Chain 0: 100%|██████████| 200/200 [00:01<00:00, 192.74it/s]\n"
     ]
    },
    {
     "name": "stdout",
     "output_type": "stream",
     "text": [
      "Moving model to device:  cpu\n"
     ]
    },
    {
     "name": "stderr",
     "output_type": "stream",
     "text": [
      "Chain 1: 100%|██████████| 200/200 [00:01<00:00, 184.31it/s]\n"
     ]
    },
    {
     "name": "stdout",
     "output_type": "stream",
     "text": [
      "Moving model to device:  cpu\n"
     ]
    },
    {
     "name": "stderr",
     "output_type": "stream",
     "text": [
      "Chain 2: 100%|██████████| 200/200 [00:01<00:00, 189.20it/s]\n"
     ]
    },
    {
     "name": "stdout",
     "output_type": "stream",
     "text": [
      "result['llc/mean'] = 15.33126449584961\n",
      "Moving model to device:  cpu\n",
      "Moving model to device:  cpu\n",
      "Moving model to device:  cpu\n",
      "Moving model to device:  cpu\n"
     ]
    },
    {
     "name": "stderr",
     "output_type": "stream",
     "text": [
      "Chain 0: 100%|██████████| 200/200 [00:01<00:00, 192.57it/s]\n"
     ]
    },
    {
     "name": "stdout",
     "output_type": "stream",
     "text": [
      "Moving model to device:  cpu\n"
     ]
    },
    {
     "name": "stderr",
     "output_type": "stream",
     "text": [
      "Chain 1: 100%|██████████| 200/200 [00:01<00:00, 182.37it/s]\n"
     ]
    },
    {
     "name": "stdout",
     "output_type": "stream",
     "text": [
      "Moving model to device:  cpu\n"
     ]
    },
    {
     "name": "stderr",
     "output_type": "stream",
     "text": [
      "Chain 2: 100%|██████████| 200/200 [00:01<00:00, 191.77it/s]\n"
     ]
    },
    {
     "name": "stdout",
     "output_type": "stream",
     "text": [
      "result['llc/mean'] = 15.4700927734375\n",
      "Moving model to device:  cpu\n",
      "Moving model to device:  cpu\n",
      "Moving model to device:  cpu\n",
      "Moving model to device:  cpu\n"
     ]
    },
    {
     "name": "stderr",
     "output_type": "stream",
     "text": [
      "Chain 0: 100%|██████████| 200/200 [00:01<00:00, 190.11it/s]\n"
     ]
    },
    {
     "name": "stdout",
     "output_type": "stream",
     "text": [
      "Moving model to device:  cpu\n"
     ]
    },
    {
     "name": "stderr",
     "output_type": "stream",
     "text": [
      "Chain 1: 100%|██████████| 200/200 [00:01<00:00, 185.14it/s]\n"
     ]
    },
    {
     "name": "stdout",
     "output_type": "stream",
     "text": [
      "Moving model to device:  cpu\n"
     ]
    },
    {
     "name": "stderr",
     "output_type": "stream",
     "text": [
      "Chain 2: 100%|██████████| 200/200 [00:01<00:00, 188.63it/s]\n"
     ]
    },
    {
     "name": "stdout",
     "output_type": "stream",
     "text": [
      "result['llc/mean'] = 15.332919120788574\n",
      "Moving model to device:  cpu\n",
      "Moving model to device:  cpu\n",
      "Moving model to device:  cpu\n",
      "Moving model to device:  cpu\n"
     ]
    },
    {
     "name": "stderr",
     "output_type": "stream",
     "text": [
      "Chain 0: 100%|██████████| 200/200 [00:01<00:00, 191.81it/s]\n"
     ]
    },
    {
     "name": "stdout",
     "output_type": "stream",
     "text": [
      "Moving model to device:  cpu\n"
     ]
    },
    {
     "name": "stderr",
     "output_type": "stream",
     "text": [
      "Chain 1: 100%|██████████| 200/200 [00:01<00:00, 185.81it/s]\n"
     ]
    },
    {
     "name": "stdout",
     "output_type": "stream",
     "text": [
      "Moving model to device:  cpu\n"
     ]
    },
    {
     "name": "stderr",
     "output_type": "stream",
     "text": [
      "Chain 2: 100%|██████████| 200/200 [00:01<00:00, 193.54it/s]\n"
     ]
    },
    {
     "name": "stdout",
     "output_type": "stream",
     "text": [
      "result['llc/mean'] = 15.647309303283691\n",
      "Moving model to device:  cpu\n",
      "Moving model to device:  cpu\n",
      "Moving model to device:  cpu\n",
      "Moving model to device:  cpu\n"
     ]
    },
    {
     "name": "stderr",
     "output_type": "stream",
     "text": [
      "Chain 0: 100%|██████████| 200/200 [00:01<00:00, 191.62it/s]\n"
     ]
    },
    {
     "name": "stdout",
     "output_type": "stream",
     "text": [
      "Moving model to device:  cpu\n"
     ]
    },
    {
     "name": "stderr",
     "output_type": "stream",
     "text": [
      "Chain 1: 100%|██████████| 200/200 [00:01<00:00, 183.55it/s]\n"
     ]
    },
    {
     "name": "stdout",
     "output_type": "stream",
     "text": [
      "Moving model to device:  cpu\n"
     ]
    },
    {
     "name": "stderr",
     "output_type": "stream",
     "text": [
      "Chain 2: 100%|██████████| 200/200 [00:01<00:00, 189.86it/s]\n"
     ]
    },
    {
     "name": "stdout",
     "output_type": "stream",
     "text": [
      "result['llc/mean'] = 15.45340633392334\n",
      "Moving model to device:  cpu\n",
      "Moving model to device:  cpu\n",
      "Moving model to device:  cpu\n",
      "Moving model to device:  cpu\n"
     ]
    },
    {
     "name": "stderr",
     "output_type": "stream",
     "text": [
      "Chain 0: 100%|██████████| 200/200 [00:01<00:00, 188.31it/s]\n"
     ]
    },
    {
     "name": "stdout",
     "output_type": "stream",
     "text": [
      "Moving model to device:  cpu\n"
     ]
    },
    {
     "name": "stderr",
     "output_type": "stream",
     "text": [
      "Chain 1: 100%|██████████| 200/200 [00:01<00:00, 183.63it/s]\n"
     ]
    },
    {
     "name": "stdout",
     "output_type": "stream",
     "text": [
      "Moving model to device:  cpu\n"
     ]
    },
    {
     "name": "stderr",
     "output_type": "stream",
     "text": [
      "Chain 2: 100%|██████████| 200/200 [00:01<00:00, 190.41it/s]\n"
     ]
    },
    {
     "name": "stdout",
     "output_type": "stream",
     "text": [
      "result['llc/mean'] = 14.990099906921387\n",
      "Moving model to device:  cpu\n",
      "Moving model to device:  cpu\n",
      "Moving model to device:  cpu\n",
      "Moving model to device:  cpu\n"
     ]
    },
    {
     "name": "stderr",
     "output_type": "stream",
     "text": [
      "Chain 0: 100%|██████████| 200/200 [00:01<00:00, 185.74it/s]\n"
     ]
    },
    {
     "name": "stdout",
     "output_type": "stream",
     "text": [
      "Moving model to device:  cpu\n"
     ]
    },
    {
     "name": "stderr",
     "output_type": "stream",
     "text": [
      "Chain 1: 100%|██████████| 200/200 [00:01<00:00, 193.83it/s]\n"
     ]
    },
    {
     "name": "stdout",
     "output_type": "stream",
     "text": [
      "Moving model to device:  cpu\n"
     ]
    },
    {
     "name": "stderr",
     "output_type": "stream",
     "text": [
      "Chain 2: 100%|██████████| 200/200 [00:01<00:00, 192.36it/s]\n"
     ]
    },
    {
     "name": "stdout",
     "output_type": "stream",
     "text": [
      "result['llc/mean'] = 14.588021278381348\n",
      "Moving model to device:  cpu\n",
      "Moving model to device:  cpu\n",
      "Moving model to device:  cpu\n",
      "Moving model to device:  cpu\n"
     ]
    },
    {
     "name": "stderr",
     "output_type": "stream",
     "text": [
      "Chain 0: 100%|██████████| 200/200 [00:01<00:00, 183.96it/s]\n"
     ]
    },
    {
     "name": "stdout",
     "output_type": "stream",
     "text": [
      "Moving model to device:  cpu\n"
     ]
    },
    {
     "name": "stderr",
     "output_type": "stream",
     "text": [
      "Chain 1: 100%|██████████| 200/200 [00:01<00:00, 191.20it/s]\n"
     ]
    },
    {
     "name": "stdout",
     "output_type": "stream",
     "text": [
      "Moving model to device:  cpu\n"
     ]
    },
    {
     "name": "stderr",
     "output_type": "stream",
     "text": [
      "Chain 2: 100%|██████████| 200/200 [00:01<00:00, 189.67it/s]\n"
     ]
    },
    {
     "name": "stdout",
     "output_type": "stream",
     "text": [
      "result['llc/mean'] = 14.39409351348877\n",
      "Moving model to device:  cpu\n",
      "Moving model to device:  cpu\n",
      "Moving model to device:  cpu\n",
      "Moving model to device:  cpu\n"
     ]
    },
    {
     "name": "stderr",
     "output_type": "stream",
     "text": [
      "Chain 0: 100%|██████████| 200/200 [00:01<00:00, 185.58it/s]\n"
     ]
    },
    {
     "name": "stdout",
     "output_type": "stream",
     "text": [
      "Moving model to device:  cpu\n"
     ]
    },
    {
     "name": "stderr",
     "output_type": "stream",
     "text": [
      "Chain 1: 100%|██████████| 200/200 [00:01<00:00, 193.16it/s]\n"
     ]
    },
    {
     "name": "stdout",
     "output_type": "stream",
     "text": [
      "Moving model to device:  cpu\n"
     ]
    },
    {
     "name": "stderr",
     "output_type": "stream",
     "text": [
      "Chain 2: 100%|██████████| 200/200 [00:01<00:00, 191.39it/s]\n"
     ]
    },
    {
     "name": "stdout",
     "output_type": "stream",
     "text": [
      "result['llc/mean'] = 14.461377143859863\n",
      "Moving model to device:  cpu\n",
      "Moving model to device:  cpu\n",
      "Moving model to device:  cpu\n",
      "Moving model to device:  cpu\n"
     ]
    },
    {
     "name": "stderr",
     "output_type": "stream",
     "text": [
      "Chain 0: 100%|██████████| 200/200 [00:01<00:00, 185.70it/s]\n"
     ]
    },
    {
     "name": "stdout",
     "output_type": "stream",
     "text": [
      "Moving model to device:  cpu\n"
     ]
    },
    {
     "name": "stderr",
     "output_type": "stream",
     "text": [
      "Chain 1: 100%|██████████| 200/200 [00:01<00:00, 190.50it/s]\n"
     ]
    },
    {
     "name": "stdout",
     "output_type": "stream",
     "text": [
      "Moving model to device:  cpu\n"
     ]
    },
    {
     "name": "stderr",
     "output_type": "stream",
     "text": [
      "Chain 2: 100%|██████████| 200/200 [00:01<00:00, 185.39it/s]\n"
     ]
    },
    {
     "name": "stdout",
     "output_type": "stream",
     "text": [
      "result['llc/mean'] = 14.35842514038086\n",
      "Moving model to device:  cpu\n",
      "Moving model to device:  cpu\n",
      "Moving model to device:  cpu\n",
      "Moving model to device:  cpu\n"
     ]
    },
    {
     "name": "stderr",
     "output_type": "stream",
     "text": [
      "Chain 0: 100%|██████████| 200/200 [00:01<00:00, 168.18it/s]\n"
     ]
    },
    {
     "name": "stdout",
     "output_type": "stream",
     "text": [
      "Moving model to device:  cpu\n"
     ]
    },
    {
     "name": "stderr",
     "output_type": "stream",
     "text": [
      "Chain 1: 100%|██████████| 200/200 [00:01<00:00, 182.59it/s]\n"
     ]
    },
    {
     "name": "stdout",
     "output_type": "stream",
     "text": [
      "Moving model to device:  cpu\n"
     ]
    },
    {
     "name": "stderr",
     "output_type": "stream",
     "text": [
      "Chain 2: 100%|██████████| 200/200 [00:01<00:00, 171.06it/s]\n"
     ]
    },
    {
     "name": "stdout",
     "output_type": "stream",
     "text": [
      "result['llc/mean'] = 14.444903373718262\n",
      "Moving model to device:  cpu\n",
      "Moving model to device:  cpu\n",
      "Moving model to device:  cpu\n",
      "Moving model to device:  cpu\n"
     ]
    },
    {
     "name": "stderr",
     "output_type": "stream",
     "text": [
      "Chain 0: 100%|██████████| 200/200 [00:01<00:00, 178.22it/s]\n"
     ]
    },
    {
     "name": "stdout",
     "output_type": "stream",
     "text": [
      "Moving model to device:  cpu\n"
     ]
    },
    {
     "name": "stderr",
     "output_type": "stream",
     "text": [
      "Chain 1: 100%|██████████| 200/200 [00:01<00:00, 177.43it/s]\n"
     ]
    },
    {
     "name": "stdout",
     "output_type": "stream",
     "text": [
      "Moving model to device:  cpu\n"
     ]
    },
    {
     "name": "stderr",
     "output_type": "stream",
     "text": [
      "Chain 2: 100%|██████████| 200/200 [00:01<00:00, 181.93it/s]\n"
     ]
    },
    {
     "name": "stdout",
     "output_type": "stream",
     "text": [
      "result['llc/mean'] = 14.65512466430664\n",
      "Moving model to device:  cpu\n",
      "Moving model to device:  cpu\n",
      "Moving model to device:  cpu\n",
      "Moving model to device:  cpu\n"
     ]
    },
    {
     "name": "stderr",
     "output_type": "stream",
     "text": [
      "Chain 0: 100%|██████████| 200/200 [00:01<00:00, 194.64it/s]\n"
     ]
    },
    {
     "name": "stdout",
     "output_type": "stream",
     "text": [
      "Moving model to device:  cpu\n"
     ]
    },
    {
     "name": "stderr",
     "output_type": "stream",
     "text": [
      "Chain 1: 100%|██████████| 200/200 [00:01<00:00, 194.20it/s]\n"
     ]
    },
    {
     "name": "stdout",
     "output_type": "stream",
     "text": [
      "Moving model to device:  cpu\n"
     ]
    },
    {
     "name": "stderr",
     "output_type": "stream",
     "text": [
      "Chain 2: 100%|██████████| 200/200 [00:01<00:00, 178.47it/s]\n"
     ]
    },
    {
     "name": "stdout",
     "output_type": "stream",
     "text": [
      "result['llc/mean'] = 14.86920166015625\n",
      "Moving model to device:  cpu\n",
      "Moving model to device:  cpu\n",
      "Moving model to device:  cpu\n",
      "Moving model to device:  cpu\n"
     ]
    },
    {
     "name": "stderr",
     "output_type": "stream",
     "text": [
      "Chain 0: 100%|██████████| 200/200 [00:01<00:00, 191.64it/s]\n"
     ]
    },
    {
     "name": "stdout",
     "output_type": "stream",
     "text": [
      "Moving model to device:  cpu\n"
     ]
    },
    {
     "name": "stderr",
     "output_type": "stream",
     "text": [
      "Chain 1: 100%|██████████| 200/200 [00:01<00:00, 184.41it/s]\n"
     ]
    },
    {
     "name": "stdout",
     "output_type": "stream",
     "text": [
      "Moving model to device:  cpu\n"
     ]
    },
    {
     "name": "stderr",
     "output_type": "stream",
     "text": [
      "Chain 2: 100%|██████████| 200/200 [00:01<00:00, 193.44it/s]\n"
     ]
    },
    {
     "name": "stdout",
     "output_type": "stream",
     "text": [
      "result['llc/mean'] = 14.888473510742188\n",
      "Moving model to device:  cpu\n",
      "Moving model to device:  cpu\n",
      "Moving model to device:  cpu\n",
      "Moving model to device:  cpu\n"
     ]
    },
    {
     "name": "stderr",
     "output_type": "stream",
     "text": [
      "Chain 0: 100%|██████████| 200/200 [00:01<00:00, 192.48it/s]\n"
     ]
    },
    {
     "name": "stdout",
     "output_type": "stream",
     "text": [
      "Moving model to device:  cpu\n"
     ]
    },
    {
     "name": "stderr",
     "output_type": "stream",
     "text": [
      "Chain 1: 100%|██████████| 200/200 [00:01<00:00, 185.42it/s]\n"
     ]
    },
    {
     "name": "stdout",
     "output_type": "stream",
     "text": [
      "Moving model to device:  cpu\n"
     ]
    },
    {
     "name": "stderr",
     "output_type": "stream",
     "text": [
      "Chain 2: 100%|██████████| 200/200 [00:01<00:00, 193.92it/s]\n"
     ]
    },
    {
     "name": "stdout",
     "output_type": "stream",
     "text": [
      "result['llc/mean'] = 15.282024383544922\n",
      "Moving model to device:  cpu\n",
      "Moving model to device:  cpu\n",
      "Moving model to device:  cpu\n",
      "Moving model to device:  cpu\n"
     ]
    },
    {
     "name": "stderr",
     "output_type": "stream",
     "text": [
      "Chain 0: 100%|██████████| 200/200 [00:01<00:00, 190.47it/s]\n"
     ]
    },
    {
     "name": "stdout",
     "output_type": "stream",
     "text": [
      "Moving model to device:  cpu\n"
     ]
    },
    {
     "name": "stderr",
     "output_type": "stream",
     "text": [
      "Chain 1: 100%|██████████| 200/200 [00:01<00:00, 183.89it/s]\n"
     ]
    },
    {
     "name": "stdout",
     "output_type": "stream",
     "text": [
      "Moving model to device:  cpu\n"
     ]
    },
    {
     "name": "stderr",
     "output_type": "stream",
     "text": [
      "Chain 2: 100%|██████████| 200/200 [00:01<00:00, 192.56it/s]\n"
     ]
    },
    {
     "name": "stdout",
     "output_type": "stream",
     "text": [
      "result['llc/mean'] = 15.260571479797363\n",
      "Moving model to device:  cpu\n",
      "Moving model to device:  cpu\n",
      "Moving model to device:  cpu\n",
      "Moving model to device:  cpu\n"
     ]
    },
    {
     "name": "stderr",
     "output_type": "stream",
     "text": [
      "Chain 0: 100%|██████████| 200/200 [00:01<00:00, 193.37it/s]\n"
     ]
    },
    {
     "name": "stdout",
     "output_type": "stream",
     "text": [
      "Moving model to device:  cpu\n"
     ]
    },
    {
     "name": "stderr",
     "output_type": "stream",
     "text": [
      "Chain 1: 100%|██████████| 200/200 [00:01<00:00, 183.35it/s]\n"
     ]
    },
    {
     "name": "stdout",
     "output_type": "stream",
     "text": [
      "Moving model to device:  cpu\n"
     ]
    },
    {
     "name": "stderr",
     "output_type": "stream",
     "text": [
      "Chain 2: 100%|██████████| 200/200 [00:01<00:00, 191.99it/s]\n"
     ]
    },
    {
     "name": "stdout",
     "output_type": "stream",
     "text": [
      "result['llc/mean'] = 15.412800788879395\n",
      "Moving model to device:  cpu\n",
      "Moving model to device:  cpu\n",
      "Moving model to device:  cpu\n",
      "Moving model to device:  cpu\n"
     ]
    },
    {
     "name": "stderr",
     "output_type": "stream",
     "text": [
      "Chain 0: 100%|██████████| 200/200 [00:01<00:00, 193.66it/s]\n"
     ]
    },
    {
     "name": "stdout",
     "output_type": "stream",
     "text": [
      "Moving model to device:  cpu\n"
     ]
    },
    {
     "name": "stderr",
     "output_type": "stream",
     "text": [
      "Chain 1: 100%|██████████| 200/200 [00:01<00:00, 186.07it/s]\n"
     ]
    },
    {
     "name": "stdout",
     "output_type": "stream",
     "text": [
      "Moving model to device:  cpu\n"
     ]
    },
    {
     "name": "stderr",
     "output_type": "stream",
     "text": [
      "Chain 2: 100%|██████████| 200/200 [00:01<00:00, 190.92it/s]\n"
     ]
    },
    {
     "name": "stdout",
     "output_type": "stream",
     "text": [
      "result['llc/mean'] = 15.121315956115723\n",
      "Moving model to device:  cpu\n",
      "Moving model to device:  cpu\n",
      "Moving model to device:  cpu\n",
      "Moving model to device:  cpu\n"
     ]
    },
    {
     "name": "stderr",
     "output_type": "stream",
     "text": [
      "Chain 0: 100%|██████████| 200/200 [00:01<00:00, 192.16it/s]\n"
     ]
    },
    {
     "name": "stdout",
     "output_type": "stream",
     "text": [
      "Moving model to device:  cpu\n"
     ]
    },
    {
     "name": "stderr",
     "output_type": "stream",
     "text": [
      "Chain 1: 100%|██████████| 200/200 [00:01<00:00, 184.22it/s]\n"
     ]
    },
    {
     "name": "stdout",
     "output_type": "stream",
     "text": [
      "Moving model to device:  cpu\n"
     ]
    },
    {
     "name": "stderr",
     "output_type": "stream",
     "text": [
      "Chain 2: 100%|██████████| 200/200 [00:01<00:00, 191.58it/s]\n"
     ]
    },
    {
     "name": "stdout",
     "output_type": "stream",
     "text": [
      "result['llc/mean'] = 15.391463279724121\n",
      "Moving model to device:  cpu\n",
      "Moving model to device:  cpu\n",
      "Moving model to device:  cpu\n",
      "Moving model to device:  cpu\n"
     ]
    },
    {
     "name": "stderr",
     "output_type": "stream",
     "text": [
      "Chain 0: 100%|██████████| 200/200 [00:01<00:00, 184.34it/s]\n"
     ]
    },
    {
     "name": "stdout",
     "output_type": "stream",
     "text": [
      "Moving model to device:  cpu\n"
     ]
    },
    {
     "name": "stderr",
     "output_type": "stream",
     "text": [
      "Chain 1: 100%|██████████| 200/200 [00:01<00:00, 192.62it/s]\n"
     ]
    },
    {
     "name": "stdout",
     "output_type": "stream",
     "text": [
      "Moving model to device:  cpu\n"
     ]
    },
    {
     "name": "stderr",
     "output_type": "stream",
     "text": [
      "Chain 2: 100%|██████████| 200/200 [00:01<00:00, 190.07it/s]\n"
     ]
    },
    {
     "name": "stdout",
     "output_type": "stream",
     "text": [
      "result['llc/mean'] = 15.515331268310547\n",
      "Moving model to device:  cpu\n",
      "Moving model to device:  cpu\n",
      "Moving model to device:  cpu\n",
      "Moving model to device:  cpu\n"
     ]
    },
    {
     "name": "stderr",
     "output_type": "stream",
     "text": [
      "Chain 0: 100%|██████████| 200/200 [00:01<00:00, 184.71it/s]\n"
     ]
    },
    {
     "name": "stdout",
     "output_type": "stream",
     "text": [
      "Moving model to device:  cpu\n"
     ]
    },
    {
     "name": "stderr",
     "output_type": "stream",
     "text": [
      "Chain 1: 100%|██████████| 200/200 [00:01<00:00, 191.28it/s]\n"
     ]
    },
    {
     "name": "stdout",
     "output_type": "stream",
     "text": [
      "Moving model to device:  cpu\n"
     ]
    },
    {
     "name": "stderr",
     "output_type": "stream",
     "text": [
      "Chain 2: 100%|██████████| 200/200 [00:01<00:00, 189.20it/s]\n"
     ]
    },
    {
     "name": "stdout",
     "output_type": "stream",
     "text": [
      "result['llc/mean'] = 15.207749366760254\n",
      "Moving model to device:  cpu\n",
      "Moving model to device:  cpu\n",
      "Moving model to device:  cpu\n",
      "Moving model to device:  cpu\n"
     ]
    },
    {
     "name": "stderr",
     "output_type": "stream",
     "text": [
      "Chain 0: 100%|██████████| 200/200 [00:01<00:00, 184.64it/s]\n"
     ]
    },
    {
     "name": "stdout",
     "output_type": "stream",
     "text": [
      "Moving model to device:  cpu\n"
     ]
    },
    {
     "name": "stderr",
     "output_type": "stream",
     "text": [
      "Chain 1: 100%|██████████| 200/200 [00:01<00:00, 192.00it/s]\n"
     ]
    },
    {
     "name": "stdout",
     "output_type": "stream",
     "text": [
      "Moving model to device:  cpu\n"
     ]
    },
    {
     "name": "stderr",
     "output_type": "stream",
     "text": [
      "Chain 2: 100%|██████████| 200/200 [00:01<00:00, 190.95it/s]\n"
     ]
    },
    {
     "name": "stdout",
     "output_type": "stream",
     "text": [
      "result['llc/mean'] = 14.837753295898438\n",
      "Moving model to device:  cpu\n",
      "Moving model to device:  cpu\n",
      "Moving model to device:  cpu\n",
      "Moving model to device:  cpu\n"
     ]
    },
    {
     "name": "stderr",
     "output_type": "stream",
     "text": [
      "Chain 0: 100%|██████████| 200/200 [00:01<00:00, 185.17it/s]\n"
     ]
    },
    {
     "name": "stdout",
     "output_type": "stream",
     "text": [
      "Moving model to device:  cpu\n"
     ]
    },
    {
     "name": "stderr",
     "output_type": "stream",
     "text": [
      "Chain 1: 100%|██████████| 200/200 [00:01<00:00, 187.94it/s]\n"
     ]
    },
    {
     "name": "stdout",
     "output_type": "stream",
     "text": [
      "Moving model to device:  cpu\n"
     ]
    },
    {
     "name": "stderr",
     "output_type": "stream",
     "text": [
      "Chain 2: 100%|██████████| 200/200 [00:01<00:00, 190.62it/s]\n"
     ]
    },
    {
     "name": "stdout",
     "output_type": "stream",
     "text": [
      "result['llc/mean'] = 14.485867500305176\n",
      "Moving model to device:  cpu\n",
      "Moving model to device:  cpu\n",
      "Moving model to device:  cpu\n",
      "Moving model to device:  cpu\n"
     ]
    },
    {
     "name": "stderr",
     "output_type": "stream",
     "text": [
      "Chain 0: 100%|██████████| 200/200 [00:01<00:00, 184.86it/s]\n"
     ]
    },
    {
     "name": "stdout",
     "output_type": "stream",
     "text": [
      "Moving model to device:  cpu\n"
     ]
    },
    {
     "name": "stderr",
     "output_type": "stream",
     "text": [
      "Chain 1: 100%|██████████| 200/200 [00:01<00:00, 189.98it/s]\n"
     ]
    },
    {
     "name": "stdout",
     "output_type": "stream",
     "text": [
      "Moving model to device:  cpu\n"
     ]
    },
    {
     "name": "stderr",
     "output_type": "stream",
     "text": [
      "Chain 2: 100%|██████████| 200/200 [00:01<00:00, 191.11it/s]\n"
     ]
    },
    {
     "name": "stdout",
     "output_type": "stream",
     "text": [
      "result['llc/mean'] = 14.283759117126465\n",
      "Moving model to device:  cpu\n",
      "Moving model to device:  cpu\n",
      "Moving model to device:  cpu\n",
      "Moving model to device:  cpu\n"
     ]
    },
    {
     "name": "stderr",
     "output_type": "stream",
     "text": [
      "Chain 0: 100%|██████████| 200/200 [00:01<00:00, 183.85it/s]\n"
     ]
    },
    {
     "name": "stdout",
     "output_type": "stream",
     "text": [
      "Moving model to device:  cpu\n"
     ]
    },
    {
     "name": "stderr",
     "output_type": "stream",
     "text": [
      "Chain 1: 100%|██████████| 200/200 [00:01<00:00, 189.93it/s]\n"
     ]
    },
    {
     "name": "stdout",
     "output_type": "stream",
     "text": [
      "Moving model to device:  cpu\n"
     ]
    },
    {
     "name": "stderr",
     "output_type": "stream",
     "text": [
      "Chain 2: 100%|██████████| 200/200 [00:01<00:00, 183.81it/s]\n"
     ]
    },
    {
     "name": "stdout",
     "output_type": "stream",
     "text": [
      "result['llc/mean'] = 14.434181213378906\n",
      "Moving model to device:  cpu\n",
      "Moving model to device:  cpu\n",
      "Moving model to device:  cpu\n",
      "Moving model to device:  cpu\n"
     ]
    },
    {
     "name": "stderr",
     "output_type": "stream",
     "text": [
      "Chain 0: 100%|██████████| 200/200 [00:01<00:00, 190.84it/s]\n"
     ]
    },
    {
     "name": "stdout",
     "output_type": "stream",
     "text": [
      "Moving model to device:  cpu\n"
     ]
    },
    {
     "name": "stderr",
     "output_type": "stream",
     "text": [
      "Chain 1: 100%|██████████| 200/200 [00:01<00:00, 192.37it/s]\n"
     ]
    },
    {
     "name": "stdout",
     "output_type": "stream",
     "text": [
      "Moving model to device:  cpu\n"
     ]
    },
    {
     "name": "stderr",
     "output_type": "stream",
     "text": [
      "Chain 2: 100%|██████████| 200/200 [00:01<00:00, 183.86it/s]\n"
     ]
    },
    {
     "name": "stdout",
     "output_type": "stream",
     "text": [
      "result['llc/mean'] = 14.410991668701172\n",
      "Moving model to device:  cpu\n",
      "Moving model to device:  cpu\n",
      "Moving model to device:  cpu\n",
      "Moving model to device:  cpu\n"
     ]
    },
    {
     "name": "stderr",
     "output_type": "stream",
     "text": [
      "Chain 0: 100%|██████████| 200/200 [00:01<00:00, 192.35it/s]\n"
     ]
    },
    {
     "name": "stdout",
     "output_type": "stream",
     "text": [
      "Moving model to device:  cpu\n"
     ]
    },
    {
     "name": "stderr",
     "output_type": "stream",
     "text": [
      "Chain 1: 100%|██████████| 200/200 [00:01<00:00, 191.86it/s]\n"
     ]
    },
    {
     "name": "stdout",
     "output_type": "stream",
     "text": [
      "Moving model to device:  cpu\n"
     ]
    },
    {
     "name": "stderr",
     "output_type": "stream",
     "text": [
      "Chain 2: 100%|██████████| 200/200 [00:01<00:00, 184.31it/s]\n"
     ]
    },
    {
     "name": "stdout",
     "output_type": "stream",
     "text": [
      "result['llc/mean'] = 14.58901596069336\n",
      "Moving model to device:  cpu\n",
      "Moving model to device:  cpu\n",
      "Moving model to device:  cpu\n",
      "Moving model to device:  cpu\n"
     ]
    },
    {
     "name": "stderr",
     "output_type": "stream",
     "text": [
      "Chain 0: 100%|██████████| 200/200 [00:01<00:00, 189.82it/s]\n"
     ]
    },
    {
     "name": "stdout",
     "output_type": "stream",
     "text": [
      "Moving model to device:  cpu\n"
     ]
    },
    {
     "name": "stderr",
     "output_type": "stream",
     "text": [
      "Chain 1: 100%|██████████| 200/200 [00:01<00:00, 193.28it/s]\n"
     ]
    },
    {
     "name": "stdout",
     "output_type": "stream",
     "text": [
      "Moving model to device:  cpu\n"
     ]
    },
    {
     "name": "stderr",
     "output_type": "stream",
     "text": [
      "Chain 2: 100%|██████████| 200/200 [00:01<00:00, 184.50it/s]\n"
     ]
    },
    {
     "name": "stdout",
     "output_type": "stream",
     "text": [
      "result['llc/mean'] = 14.659274101257324\n",
      "Moving model to device:  cpu\n",
      "Moving model to device:  cpu\n",
      "Moving model to device:  cpu\n",
      "Moving model to device:  cpu\n"
     ]
    },
    {
     "name": "stderr",
     "output_type": "stream",
     "text": [
      "Chain 0: 100%|██████████| 200/200 [00:01<00:00, 191.22it/s]\n"
     ]
    },
    {
     "name": "stdout",
     "output_type": "stream",
     "text": [
      "Moving model to device:  cpu\n"
     ]
    },
    {
     "name": "stderr",
     "output_type": "stream",
     "text": [
      "Chain 1: 100%|██████████| 200/200 [00:01<00:00, 191.80it/s]\n"
     ]
    },
    {
     "name": "stdout",
     "output_type": "stream",
     "text": [
      "Moving model to device:  cpu\n"
     ]
    },
    {
     "name": "stderr",
     "output_type": "stream",
     "text": [
      "Chain 2: 100%|██████████| 200/200 [00:01<00:00, 184.81it/s]\n"
     ]
    },
    {
     "name": "stdout",
     "output_type": "stream",
     "text": [
      "result['llc/mean'] = 14.83530330657959\n",
      "Moving model to device:  cpu\n",
      "Moving model to device:  cpu\n",
      "Moving model to device:  cpu\n",
      "Moving model to device:  cpu\n"
     ]
    },
    {
     "name": "stderr",
     "output_type": "stream",
     "text": [
      "Chain 0: 100%|██████████| 200/200 [00:01<00:00, 191.86it/s]\n"
     ]
    },
    {
     "name": "stdout",
     "output_type": "stream",
     "text": [
      "Moving model to device:  cpu\n"
     ]
    },
    {
     "name": "stderr",
     "output_type": "stream",
     "text": [
      "Chain 1: 100%|██████████| 200/200 [00:01<00:00, 183.67it/s]\n"
     ]
    },
    {
     "name": "stdout",
     "output_type": "stream",
     "text": [
      "Moving model to device:  cpu\n"
     ]
    },
    {
     "name": "stderr",
     "output_type": "stream",
     "text": [
      "Chain 2: 100%|██████████| 200/200 [00:01<00:00, 191.56it/s]\n"
     ]
    },
    {
     "name": "stdout",
     "output_type": "stream",
     "text": [
      "result['llc/mean'] = 14.908058166503906\n",
      "Moving model to device:  cpu\n",
      "Moving model to device:  cpu\n",
      "Moving model to device:  cpu\n",
      "Moving model to device:  cpu\n"
     ]
    },
    {
     "name": "stderr",
     "output_type": "stream",
     "text": [
      "Chain 0: 100%|██████████| 200/200 [00:01<00:00, 190.76it/s]\n"
     ]
    },
    {
     "name": "stdout",
     "output_type": "stream",
     "text": [
      "Moving model to device:  cpu\n"
     ]
    },
    {
     "name": "stderr",
     "output_type": "stream",
     "text": [
      "Chain 1: 100%|██████████| 200/200 [00:01<00:00, 185.37it/s]\n"
     ]
    },
    {
     "name": "stdout",
     "output_type": "stream",
     "text": [
      "Moving model to device:  cpu\n"
     ]
    },
    {
     "name": "stderr",
     "output_type": "stream",
     "text": [
      "Chain 2: 100%|██████████| 200/200 [00:01<00:00, 190.21it/s]\n"
     ]
    },
    {
     "name": "stdout",
     "output_type": "stream",
     "text": [
      "result['llc/mean'] = 14.8291597366333\n",
      "Moving model to device:  cpu\n",
      "Moving model to device:  cpu\n",
      "Moving model to device:  cpu\n",
      "Moving model to device:  cpu\n"
     ]
    },
    {
     "name": "stderr",
     "output_type": "stream",
     "text": [
      "Chain 0: 100%|██████████| 200/200 [00:01<00:00, 182.94it/s]\n"
     ]
    },
    {
     "name": "stdout",
     "output_type": "stream",
     "text": [
      "Moving model to device:  cpu\n"
     ]
    },
    {
     "name": "stderr",
     "output_type": "stream",
     "text": [
      "Chain 1: 100%|██████████| 200/200 [00:01<00:00, 188.75it/s]\n"
     ]
    },
    {
     "name": "stdout",
     "output_type": "stream",
     "text": [
      "Moving model to device:  cpu\n"
     ]
    },
    {
     "name": "stderr",
     "output_type": "stream",
     "text": [
      "Chain 2: 100%|██████████| 200/200 [00:01<00:00, 184.68it/s]\n"
     ]
    },
    {
     "name": "stdout",
     "output_type": "stream",
     "text": [
      "result['llc/mean'] = 15.22921371459961\n",
      "Moving model to device:  cpu\n",
      "Moving model to device:  cpu\n",
      "Moving model to device:  cpu\n",
      "Moving model to device:  cpu\n"
     ]
    },
    {
     "name": "stderr",
     "output_type": "stream",
     "text": [
      "Chain 0: 100%|██████████| 200/200 [00:01<00:00, 183.47it/s]\n"
     ]
    },
    {
     "name": "stdout",
     "output_type": "stream",
     "text": [
      "Moving model to device:  cpu\n"
     ]
    },
    {
     "name": "stderr",
     "output_type": "stream",
     "text": [
      "Chain 1: 100%|██████████| 200/200 [00:01<00:00, 190.37it/s]\n"
     ]
    },
    {
     "name": "stdout",
     "output_type": "stream",
     "text": [
      "Moving model to device:  cpu\n"
     ]
    },
    {
     "name": "stderr",
     "output_type": "stream",
     "text": [
      "Chain 2: 100%|██████████| 200/200 [00:01<00:00, 192.85it/s]\n"
     ]
    },
    {
     "name": "stdout",
     "output_type": "stream",
     "text": [
      "result['llc/mean'] = 15.052351951599121\n",
      "Moving model to device:  cpu\n",
      "Moving model to device:  cpu\n",
      "Moving model to device:  cpu\n",
      "Moving model to device:  cpu\n"
     ]
    },
    {
     "name": "stderr",
     "output_type": "stream",
     "text": [
      "Chain 0: 100%|██████████| 200/200 [00:01<00:00, 179.30it/s]\n"
     ]
    },
    {
     "name": "stdout",
     "output_type": "stream",
     "text": [
      "Moving model to device:  cpu\n"
     ]
    },
    {
     "name": "stderr",
     "output_type": "stream",
     "text": [
      "Chain 1: 100%|██████████| 200/200 [00:01<00:00, 190.28it/s]\n"
     ]
    },
    {
     "name": "stdout",
     "output_type": "stream",
     "text": [
      "Moving model to device:  cpu\n"
     ]
    },
    {
     "name": "stderr",
     "output_type": "stream",
     "text": [
      "Chain 2: 100%|██████████| 200/200 [00:01<00:00, 190.52it/s]\n"
     ]
    },
    {
     "name": "stdout",
     "output_type": "stream",
     "text": [
      "result['llc/mean'] = 15.757048606872559\n",
      "Moving model to device:  cpu\n",
      "Moving model to device:  cpu\n",
      "Moving model to device:  cpu\n",
      "Moving model to device:  cpu\n"
     ]
    },
    {
     "name": "stderr",
     "output_type": "stream",
     "text": [
      "Chain 0: 100%|██████████| 200/200 [00:01<00:00, 184.78it/s]\n"
     ]
    },
    {
     "name": "stdout",
     "output_type": "stream",
     "text": [
      "Moving model to device:  cpu\n"
     ]
    },
    {
     "name": "stderr",
     "output_type": "stream",
     "text": [
      "Chain 1: 100%|██████████| 200/200 [00:01<00:00, 193.02it/s]\n"
     ]
    },
    {
     "name": "stdout",
     "output_type": "stream",
     "text": [
      "Moving model to device:  cpu\n"
     ]
    },
    {
     "name": "stderr",
     "output_type": "stream",
     "text": [
      "Chain 2: 100%|██████████| 200/200 [00:01<00:00, 191.14it/s]\n"
     ]
    },
    {
     "name": "stdout",
     "output_type": "stream",
     "text": [
      "result['llc/mean'] = 15.403071403503418\n",
      "Moving model to device:  cpu\n",
      "Moving model to device:  cpu\n",
      "Moving model to device:  cpu\n",
      "Moving model to device:  cpu\n"
     ]
    },
    {
     "name": "stderr",
     "output_type": "stream",
     "text": [
      "Chain 0: 100%|██████████| 200/200 [00:01<00:00, 188.78it/s]\n"
     ]
    },
    {
     "name": "stdout",
     "output_type": "stream",
     "text": [
      "Moving model to device:  cpu\n"
     ]
    },
    {
     "name": "stderr",
     "output_type": "stream",
     "text": [
      "Chain 1: 100%|██████████| 200/200 [00:01<00:00, 192.09it/s]\n"
     ]
    },
    {
     "name": "stdout",
     "output_type": "stream",
     "text": [
      "Moving model to device:  cpu\n"
     ]
    },
    {
     "name": "stderr",
     "output_type": "stream",
     "text": [
      "Chain 2: 100%|██████████| 200/200 [00:01<00:00, 184.47it/s]"
     ]
    },
    {
     "name": "stdout",
     "output_type": "stream",
     "text": [
      "result['llc/mean'] = 15.574091911315918\n"
     ]
    },
    {
     "name": "stderr",
     "output_type": "stream",
     "text": [
      "\n"
     ]
    }
   ],
   "source": [
    "from devinterp.slt.sampler import estimate_learning_coeff_with_summary, estimate_learning_coeff, SGLD\n",
    "from devinterp.utils import plot_trace\n",
    "\n",
    "def evaluate(model, data):\n",
    "    inputs, outputs = data\n",
    "\n",
    "    return loss_fn(model(inputs), outputs), {\n",
    "        \"logits\": model(inputs)\n",
    "    }\n",
    "\n",
    "if CREATE_ESTIMATES:\n",
    "    # print(f\"Addition frac = {addition_frac} Train frac = {train_frac}\")\n",
    "    print(f\"nbeta = {nbeta} gamma = {gamma} lr = {lr}\")\n",
    "    llc_estimates = []\n",
    "\n",
    "    for saved_model in tqdm.tqdm(model_checkpoints):\n",
    "        model.load_state_dict(saved_model)\n",
    "        result = estimate_learning_coeff_with_summary(\n",
    "                    model,\n",
    "                    loader=train_loader,\n",
    "                    evaluate=evaluate,\n",
    "                    sampling_method=SGLD if sampling_method == \"sgld\" else None,\n",
    "                    optimizer_kwargs=dict(lr=lr, nbeta=nbeta, localization=gamma),\n",
    "                    num_chains=num_chains,                  # How many independent chains to run\n",
    "                    num_draws=num_draws,                    # How many samples to draw per chain\n",
    "                    num_burnin_steps=num_burnin_steps,      # How many samples to discard at the beginning of each chain\n",
    "                    num_steps_bw_draws=num_steps_bw_draws,  # How many steps to take between each sample\n",
    "                    device=device,\n",
    "                    online=False,\n",
    "                )\n",
    "        print(f\"result['llc/mean'] = {result[\"llc/mean\"]}\")\n",
    "        llc_estimates.append(result[\"llc/mean\"])"
   ]
  },
  {
   "cell_type": "markdown",
   "metadata": {},
   "source": [
    "### Save the data"
   ]
  },
  {
   "cell_type": "code",
   "execution_count": 314,
   "metadata": {},
   "outputs": [
    {
     "name": "stdout",
     "output_type": "stream",
     "text": [
      "addition_frac = 0.3 train_frac = 0.5\n",
      "Saved to ../saves/check_point_50/llc_estimates_0.3.pth\n"
     ]
    }
   ],
   "source": [
    "SAVE_LOCATION = \"../saves/check_point_50/llc_estimates_0.3.pth\"\n",
    "\n",
    "if CREATE_ESTIMATES:\n",
    "    os.makedirs(Path(SAVE_LOCATION).parent, exist_ok=True)\n",
    "    torch.save({\n",
    "        \"llc_estimates\": llc_estimates,\n",
    "        \"lr\": lr,\n",
    "        \"nbeta\": nbeta,\n",
    "        \"gamma\": gamma,\n",
    "        \"num_chains\": num_chains,\n",
    "        \"num_draws\": num_draws,\n",
    "        \"num_burnin_steps\": num_burnin_steps,\n",
    "        \"num_steps_bw_draws\": num_steps_bw_draws,\n",
    "        \"sampling_method\": sampling_method,\n",
    "        \"train_frac\": train_frac,\n",
    "        \"addition_frac\": addition_frac,\n",
    "        \"LOAD_LOCATION\": LOAD_LOCATION,\n",
    "    }, SAVE_LOCATION)\n",
    "    print(f\"addition_frac = {addition_frac} train_frac = {train_frac}\")\n",
    "    print(f\"Saved to {SAVE_LOCATION}\")"
   ]
  },
  {
   "cell_type": "markdown",
   "metadata": {},
   "source": [
    "### Load data"
   ]
  },
  {
   "cell_type": "code",
   "execution_count": 10,
   "metadata": {},
   "outputs": [
    {
     "name": "stdout",
     "output_type": "stream",
     "text": [
      "addition_frac = 0.5 train_frac = 0.5 len(llc_estimates) = 120\n",
      "Estimate created from ../saves/check_point_50/grokking_add_multi_0.5.pth\n",
      "len(train_losses) = 6000 len(test_losses) = 6000\n"
     ]
    }
   ],
   "source": [
    "LOAD_DATA_PATH = \"../saves/check_point_50/llc_estimates_0.5.pth\"\n",
    "if not CREATE_ESTIMATES:\n",
    "    cached_data = torch.load(LOAD_DATA_PATH, weights_only=False)\n",
    "    llc_estimates = cached_data['llc_estimates']\n",
    "    lr = cached_data['lr']\n",
    "    nbeta = cached_data['nbeta']\n",
    "    gamma = cached_data['gamma']\n",
    "    num_chains = cached_data['num_chains']\n",
    "    num_draws = cached_data['num_draws']\n",
    "    num_burnin_steps = cached_data['num_burnin_steps']\n",
    "    num_steps_bw_draws = cached_data['num_steps_bw_draws']\n",
    "    sampling_method = cached_data['sampling_method']\n",
    "    train_frac = cached_data['train_frac']\n",
    "    addition_frac = cached_data['addition_frac']\n",
    "    training_data_path = cached_data['LOAD_LOCATION']\n",
    "    print(f\"addition_frac = {addition_frac} train_frac = {train_frac} len(llc_estimates) = {len(llc_estimates)}\")\n",
    "    print(f\"Estimate created from {training_data_path}\")\n",
    "\n",
    "    training_data = torch.load(training_data_path, weights_only=False)\n",
    "    train_losses = training_data['train_losses']\n",
    "    test_losses = training_data['test_losses']\n",
    "    add_test_losses = training_data['add_test_losses']\n",
    "    multi_test_losses = training_data['multi_test_losses']\n",
    "    print(f\"len(train_losses) = {len(train_losses)} len(test_losses) = {len(test_losses)}\")"
   ]
  },
  {
   "cell_type": "markdown",
   "metadata": {},
   "source": [
    "## Make some cool graphs"
   ]
  },
  {
   "cell_type": "code",
   "execution_count": 106,
   "metadata": {},
   "outputs": [
    {
     "data": {
      "application/vnd.plotly.v1+json": {
       "config": {
        "plotlyServerURL": "https://plot.ly"
       },
       "data": [
        {
         "hovertemplate": "Checkpoint=%{x}<br>LLC=%{y}<extra></extra>",
         "legendgroup": "",
         "line": {
          "color": "#636efa",
          "dash": "solid"
         },
         "marker": {
          "symbol": "circle"
         },
         "mode": "lines",
         "name": "",
         "orientation": "v",
         "showlegend": false,
         "type": "scatter",
         "x": [
          0,
          1,
          2,
          3,
          4,
          5,
          6,
          7,
          8,
          9,
          10,
          11,
          12,
          13,
          14,
          15,
          16,
          17,
          18,
          19,
          20,
          21,
          22,
          23,
          24,
          25,
          26,
          27,
          28,
          29,
          30,
          31,
          32,
          33,
          34,
          35,
          36,
          37,
          38,
          39,
          40,
          41,
          42,
          43,
          44,
          45,
          46,
          47,
          48,
          49,
          50,
          51,
          52,
          53,
          54,
          55,
          56,
          57,
          58,
          59,
          60,
          61,
          62,
          63,
          64,
          65,
          66,
          67,
          68,
          69,
          70,
          71,
          72,
          73,
          74,
          75,
          76,
          77,
          78,
          79,
          80,
          81,
          82,
          83,
          84,
          85,
          86,
          87,
          88,
          89,
          90,
          91,
          92,
          93,
          94,
          95,
          96,
          97,
          98,
          99,
          100,
          101,
          102,
          103,
          104,
          105,
          106,
          107,
          108,
          109,
          110,
          111,
          112,
          113,
          114,
          115,
          116,
          117,
          118,
          119
         ],
         "xaxis": "x",
         "y": [
          10.302932739257812,
          13.174630165100098,
          15.244574546813965,
          16.72515296936035,
          17.171079635620117,
          17.497774124145508,
          17.9674072265625,
          16.957984924316406,
          16.322616577148438,
          17.370691299438477,
          16.848756790161133,
          16.682950973510742,
          17.45859146118164,
          16.37970733642578,
          16.682373046875,
          15.76213550567627,
          17.77276039123535,
          16.478158950805664,
          16.20326805114746,
          16.176368713378906,
          17.043642044067383,
          13.77685260772705,
          16.902502059936523,
          15.758903503417969,
          16.41139030456543,
          15.535897254943848,
          15.830024719238281,
          15.762089729309082,
          15.281391143798828,
          16.03111457824707,
          15.278111457824707,
          15.582649230957031,
          15.076255798339844,
          14.949244499206543,
          15.238480567932129,
          14.773601531982422,
          14.649612426757812,
          14.872143745422363,
          15.205418586730957,
          15.16653823852539,
          15.420411109924316,
          15.050052642822266,
          15.393771171569824,
          14.945549011230469,
          14.391409873962402,
          14.754768371582031,
          15.049995422363281,
          15.678149223327637,
          14.72435474395752,
          14.932755470275879,
          15.163841247558594,
          15.145377159118652,
          15.006356239318848,
          15.166975975036621,
          15.228690147399902,
          15.417094230651855,
          15.535656929016113,
          15.496482849121094,
          15.063194274902344,
          15.214644432067871,
          15.059834480285645,
          14.79272747039795,
          15.008587837219238,
          14.95456600189209,
          15.128018379211426,
          15.278109550476074,
          15.290367126464844,
          15.442782402038574,
          15.672471046447754,
          15.842913627624512,
          15.796114921569824,
          15.668566703796387,
          15.291423797607422,
          15.038166999816895,
          14.780251502990723,
          14.583212852478027,
          14.661331176757812,
          14.824851989746094,
          14.664395332336426,
          14.94005298614502,
          15.197358131408691,
          14.899834632873535,
          15.186718940734863,
          15.381834983825684,
          15.33126449584961,
          15.4700927734375,
          15.332919120788574,
          15.647309303283691,
          15.45340633392334,
          14.990099906921387,
          14.588021278381348,
          14.39409351348877,
          14.461377143859863,
          14.35842514038086,
          14.444903373718262,
          14.65512466430664,
          14.86920166015625,
          14.888473510742188,
          15.282024383544922,
          15.260571479797363,
          15.412800788879395,
          15.121315956115723,
          15.391463279724121,
          15.515331268310547,
          15.207749366760254,
          14.837753295898438,
          14.485867500305176,
          14.283759117126465,
          14.434181213378906,
          14.410991668701172,
          14.58901596069336,
          14.659274101257324,
          14.83530330657959,
          14.908058166503906,
          14.8291597366333,
          15.22921371459961,
          15.052351951599121,
          15.757048606872559,
          15.403071403503418,
          15.574091911315918
         ],
         "yaxis": "y"
        }
       ],
       "layout": {
        "legend": {
         "tracegroupgap": 0
        },
        "template": {
         "data": {
          "bar": [
           {
            "error_x": {
             "color": "#2a3f5f"
            },
            "error_y": {
             "color": "#2a3f5f"
            },
            "marker": {
             "line": {
              "color": "#E5ECF6",
              "width": 0.5
             },
             "pattern": {
              "fillmode": "overlay",
              "size": 10,
              "solidity": 0.2
             }
            },
            "type": "bar"
           }
          ],
          "barpolar": [
           {
            "marker": {
             "line": {
              "color": "#E5ECF6",
              "width": 0.5
             },
             "pattern": {
              "fillmode": "overlay",
              "size": 10,
              "solidity": 0.2
             }
            },
            "type": "barpolar"
           }
          ],
          "carpet": [
           {
            "aaxis": {
             "endlinecolor": "#2a3f5f",
             "gridcolor": "white",
             "linecolor": "white",
             "minorgridcolor": "white",
             "startlinecolor": "#2a3f5f"
            },
            "baxis": {
             "endlinecolor": "#2a3f5f",
             "gridcolor": "white",
             "linecolor": "white",
             "minorgridcolor": "white",
             "startlinecolor": "#2a3f5f"
            },
            "type": "carpet"
           }
          ],
          "choropleth": [
           {
            "colorbar": {
             "outlinewidth": 0,
             "ticks": ""
            },
            "type": "choropleth"
           }
          ],
          "contour": [
           {
            "colorbar": {
             "outlinewidth": 0,
             "ticks": ""
            },
            "colorscale": [
             [
              0,
              "#0d0887"
             ],
             [
              0.1111111111111111,
              "#46039f"
             ],
             [
              0.2222222222222222,
              "#7201a8"
             ],
             [
              0.3333333333333333,
              "#9c179e"
             ],
             [
              0.4444444444444444,
              "#bd3786"
             ],
             [
              0.5555555555555556,
              "#d8576b"
             ],
             [
              0.6666666666666666,
              "#ed7953"
             ],
             [
              0.7777777777777778,
              "#fb9f3a"
             ],
             [
              0.8888888888888888,
              "#fdca26"
             ],
             [
              1,
              "#f0f921"
             ]
            ],
            "type": "contour"
           }
          ],
          "contourcarpet": [
           {
            "colorbar": {
             "outlinewidth": 0,
             "ticks": ""
            },
            "type": "contourcarpet"
           }
          ],
          "heatmap": [
           {
            "colorbar": {
             "outlinewidth": 0,
             "ticks": ""
            },
            "colorscale": [
             [
              0,
              "#0d0887"
             ],
             [
              0.1111111111111111,
              "#46039f"
             ],
             [
              0.2222222222222222,
              "#7201a8"
             ],
             [
              0.3333333333333333,
              "#9c179e"
             ],
             [
              0.4444444444444444,
              "#bd3786"
             ],
             [
              0.5555555555555556,
              "#d8576b"
             ],
             [
              0.6666666666666666,
              "#ed7953"
             ],
             [
              0.7777777777777778,
              "#fb9f3a"
             ],
             [
              0.8888888888888888,
              "#fdca26"
             ],
             [
              1,
              "#f0f921"
             ]
            ],
            "type": "heatmap"
           }
          ],
          "heatmapgl": [
           {
            "colorbar": {
             "outlinewidth": 0,
             "ticks": ""
            },
            "colorscale": [
             [
              0,
              "#0d0887"
             ],
             [
              0.1111111111111111,
              "#46039f"
             ],
             [
              0.2222222222222222,
              "#7201a8"
             ],
             [
              0.3333333333333333,
              "#9c179e"
             ],
             [
              0.4444444444444444,
              "#bd3786"
             ],
             [
              0.5555555555555556,
              "#d8576b"
             ],
             [
              0.6666666666666666,
              "#ed7953"
             ],
             [
              0.7777777777777778,
              "#fb9f3a"
             ],
             [
              0.8888888888888888,
              "#fdca26"
             ],
             [
              1,
              "#f0f921"
             ]
            ],
            "type": "heatmapgl"
           }
          ],
          "histogram": [
           {
            "marker": {
             "pattern": {
              "fillmode": "overlay",
              "size": 10,
              "solidity": 0.2
             }
            },
            "type": "histogram"
           }
          ],
          "histogram2d": [
           {
            "colorbar": {
             "outlinewidth": 0,
             "ticks": ""
            },
            "colorscale": [
             [
              0,
              "#0d0887"
             ],
             [
              0.1111111111111111,
              "#46039f"
             ],
             [
              0.2222222222222222,
              "#7201a8"
             ],
             [
              0.3333333333333333,
              "#9c179e"
             ],
             [
              0.4444444444444444,
              "#bd3786"
             ],
             [
              0.5555555555555556,
              "#d8576b"
             ],
             [
              0.6666666666666666,
              "#ed7953"
             ],
             [
              0.7777777777777778,
              "#fb9f3a"
             ],
             [
              0.8888888888888888,
              "#fdca26"
             ],
             [
              1,
              "#f0f921"
             ]
            ],
            "type": "histogram2d"
           }
          ],
          "histogram2dcontour": [
           {
            "colorbar": {
             "outlinewidth": 0,
             "ticks": ""
            },
            "colorscale": [
             [
              0,
              "#0d0887"
             ],
             [
              0.1111111111111111,
              "#46039f"
             ],
             [
              0.2222222222222222,
              "#7201a8"
             ],
             [
              0.3333333333333333,
              "#9c179e"
             ],
             [
              0.4444444444444444,
              "#bd3786"
             ],
             [
              0.5555555555555556,
              "#d8576b"
             ],
             [
              0.6666666666666666,
              "#ed7953"
             ],
             [
              0.7777777777777778,
              "#fb9f3a"
             ],
             [
              0.8888888888888888,
              "#fdca26"
             ],
             [
              1,
              "#f0f921"
             ]
            ],
            "type": "histogram2dcontour"
           }
          ],
          "mesh3d": [
           {
            "colorbar": {
             "outlinewidth": 0,
             "ticks": ""
            },
            "type": "mesh3d"
           }
          ],
          "parcoords": [
           {
            "line": {
             "colorbar": {
              "outlinewidth": 0,
              "ticks": ""
             }
            },
            "type": "parcoords"
           }
          ],
          "pie": [
           {
            "automargin": true,
            "type": "pie"
           }
          ],
          "scatter": [
           {
            "fillpattern": {
             "fillmode": "overlay",
             "size": 10,
             "solidity": 0.2
            },
            "type": "scatter"
           }
          ],
          "scatter3d": [
           {
            "line": {
             "colorbar": {
              "outlinewidth": 0,
              "ticks": ""
             }
            },
            "marker": {
             "colorbar": {
              "outlinewidth": 0,
              "ticks": ""
             }
            },
            "type": "scatter3d"
           }
          ],
          "scattercarpet": [
           {
            "marker": {
             "colorbar": {
              "outlinewidth": 0,
              "ticks": ""
             }
            },
            "type": "scattercarpet"
           }
          ],
          "scattergeo": [
           {
            "marker": {
             "colorbar": {
              "outlinewidth": 0,
              "ticks": ""
             }
            },
            "type": "scattergeo"
           }
          ],
          "scattergl": [
           {
            "marker": {
             "colorbar": {
              "outlinewidth": 0,
              "ticks": ""
             }
            },
            "type": "scattergl"
           }
          ],
          "scattermapbox": [
           {
            "marker": {
             "colorbar": {
              "outlinewidth": 0,
              "ticks": ""
             }
            },
            "type": "scattermapbox"
           }
          ],
          "scatterpolar": [
           {
            "marker": {
             "colorbar": {
              "outlinewidth": 0,
              "ticks": ""
             }
            },
            "type": "scatterpolar"
           }
          ],
          "scatterpolargl": [
           {
            "marker": {
             "colorbar": {
              "outlinewidth": 0,
              "ticks": ""
             }
            },
            "type": "scatterpolargl"
           }
          ],
          "scatterternary": [
           {
            "marker": {
             "colorbar": {
              "outlinewidth": 0,
              "ticks": ""
             }
            },
            "type": "scatterternary"
           }
          ],
          "surface": [
           {
            "colorbar": {
             "outlinewidth": 0,
             "ticks": ""
            },
            "colorscale": [
             [
              0,
              "#0d0887"
             ],
             [
              0.1111111111111111,
              "#46039f"
             ],
             [
              0.2222222222222222,
              "#7201a8"
             ],
             [
              0.3333333333333333,
              "#9c179e"
             ],
             [
              0.4444444444444444,
              "#bd3786"
             ],
             [
              0.5555555555555556,
              "#d8576b"
             ],
             [
              0.6666666666666666,
              "#ed7953"
             ],
             [
              0.7777777777777778,
              "#fb9f3a"
             ],
             [
              0.8888888888888888,
              "#fdca26"
             ],
             [
              1,
              "#f0f921"
             ]
            ],
            "type": "surface"
           }
          ],
          "table": [
           {
            "cells": {
             "fill": {
              "color": "#EBF0F8"
             },
             "line": {
              "color": "white"
             }
            },
            "header": {
             "fill": {
              "color": "#C8D4E3"
             },
             "line": {
              "color": "white"
             }
            },
            "type": "table"
           }
          ]
         },
         "layout": {
          "annotationdefaults": {
           "arrowcolor": "#2a3f5f",
           "arrowhead": 0,
           "arrowwidth": 1
          },
          "autotypenumbers": "strict",
          "coloraxis": {
           "colorbar": {
            "outlinewidth": 0,
            "ticks": ""
           }
          },
          "colorscale": {
           "diverging": [
            [
             0,
             "#8e0152"
            ],
            [
             0.1,
             "#c51b7d"
            ],
            [
             0.2,
             "#de77ae"
            ],
            [
             0.3,
             "#f1b6da"
            ],
            [
             0.4,
             "#fde0ef"
            ],
            [
             0.5,
             "#f7f7f7"
            ],
            [
             0.6,
             "#e6f5d0"
            ],
            [
             0.7,
             "#b8e186"
            ],
            [
             0.8,
             "#7fbc41"
            ],
            [
             0.9,
             "#4d9221"
            ],
            [
             1,
             "#276419"
            ]
           ],
           "sequential": [
            [
             0,
             "#0d0887"
            ],
            [
             0.1111111111111111,
             "#46039f"
            ],
            [
             0.2222222222222222,
             "#7201a8"
            ],
            [
             0.3333333333333333,
             "#9c179e"
            ],
            [
             0.4444444444444444,
             "#bd3786"
            ],
            [
             0.5555555555555556,
             "#d8576b"
            ],
            [
             0.6666666666666666,
             "#ed7953"
            ],
            [
             0.7777777777777778,
             "#fb9f3a"
            ],
            [
             0.8888888888888888,
             "#fdca26"
            ],
            [
             1,
             "#f0f921"
            ]
           ],
           "sequentialminus": [
            [
             0,
             "#0d0887"
            ],
            [
             0.1111111111111111,
             "#46039f"
            ],
            [
             0.2222222222222222,
             "#7201a8"
            ],
            [
             0.3333333333333333,
             "#9c179e"
            ],
            [
             0.4444444444444444,
             "#bd3786"
            ],
            [
             0.5555555555555556,
             "#d8576b"
            ],
            [
             0.6666666666666666,
             "#ed7953"
            ],
            [
             0.7777777777777778,
             "#fb9f3a"
            ],
            [
             0.8888888888888888,
             "#fdca26"
            ],
            [
             1,
             "#f0f921"
            ]
           ]
          },
          "colorway": [
           "#636efa",
           "#EF553B",
           "#00cc96",
           "#ab63fa",
           "#FFA15A",
           "#19d3f3",
           "#FF6692",
           "#B6E880",
           "#FF97FF",
           "#FECB52"
          ],
          "font": {
           "color": "#2a3f5f"
          },
          "geo": {
           "bgcolor": "white",
           "lakecolor": "white",
           "landcolor": "#E5ECF6",
           "showlakes": true,
           "showland": true,
           "subunitcolor": "white"
          },
          "hoverlabel": {
           "align": "left"
          },
          "hovermode": "closest",
          "mapbox": {
           "style": "light"
          },
          "paper_bgcolor": "white",
          "plot_bgcolor": "#E5ECF6",
          "polar": {
           "angularaxis": {
            "gridcolor": "white",
            "linecolor": "white",
            "ticks": ""
           },
           "bgcolor": "#E5ECF6",
           "radialaxis": {
            "gridcolor": "white",
            "linecolor": "white",
            "ticks": ""
           }
          },
          "scene": {
           "xaxis": {
            "backgroundcolor": "#E5ECF6",
            "gridcolor": "white",
            "gridwidth": 2,
            "linecolor": "white",
            "showbackground": true,
            "ticks": "",
            "zerolinecolor": "white"
           },
           "yaxis": {
            "backgroundcolor": "#E5ECF6",
            "gridcolor": "white",
            "gridwidth": 2,
            "linecolor": "white",
            "showbackground": true,
            "ticks": "",
            "zerolinecolor": "white"
           },
           "zaxis": {
            "backgroundcolor": "#E5ECF6",
            "gridcolor": "white",
            "gridwidth": 2,
            "linecolor": "white",
            "showbackground": true,
            "ticks": "",
            "zerolinecolor": "white"
           }
          },
          "shapedefaults": {
           "line": {
            "color": "#2a3f5f"
           }
          },
          "ternary": {
           "aaxis": {
            "gridcolor": "white",
            "linecolor": "white",
            "ticks": ""
           },
           "baxis": {
            "gridcolor": "white",
            "linecolor": "white",
            "ticks": ""
           },
           "bgcolor": "#E5ECF6",
           "caxis": {
            "gridcolor": "white",
            "linecolor": "white",
            "ticks": ""
           }
          },
          "title": {
           "x": 0.05
          },
          "xaxis": {
           "automargin": true,
           "gridcolor": "white",
           "linecolor": "white",
           "ticks": "",
           "title": {
            "standoff": 15
           },
           "zerolinecolor": "white",
           "zerolinewidth": 2
          },
          "yaxis": {
           "automargin": true,
           "gridcolor": "white",
           "linecolor": "white",
           "ticks": "",
           "title": {
            "standoff": 15
           },
           "zerolinecolor": "white",
           "zerolinewidth": 2
          }
         }
        },
        "title": {
         "text": "LLC - addition_frac = 0.65 nbeta = 1.6 epsilon = 0.03 gamma = 10"
        },
        "updatemenus": [
         {
          "active": -1,
          "buttons": [
           {
            "args": [
             {
              "xaxis.type": "log"
             }
            ],
            "args2": [
             {
              "xaxis.type": "linear"
             }
            ],
            "label": "Log x-axis",
            "method": "relayout"
           }
          ],
          "type": "buttons",
          "x": -0.1,
          "y": 1
         },
         {
          "active": -1,
          "buttons": [
           {
            "args": [
             {
              "yaxis.type": "log"
             }
            ],
            "args2": [
             {
              "yaxis.type": "linear"
             }
            ],
            "label": "Log y-axis",
            "method": "relayout"
           }
          ],
          "type": "buttons",
          "x": -0.1,
          "y": 0.85
         }
        ],
        "xaxis": {
         "anchor": "y",
         "domain": [
          0,
          1
         ],
         "title": {
          "text": "Checkpoint"
         }
        },
        "yaxis": {
         "anchor": "x",
         "domain": [
          0,
          1
         ],
         "title": {
          "text": "LLC"
         }
        }
       }
      }
     },
     "metadata": {},
     "output_type": "display_data"
    },
    {
     "data": {
      "application/vnd.plotly.v1+json": {
       "config": {
        "plotlyServerURL": "https://plot.ly"
       },
       "data": [
        {
         "hovertemplate": "Checkpoint=%{x}<br>Rolling Average LLC=%{y}<extra></extra>",
         "legendgroup": "",
         "line": {
          "color": "#636efa",
          "dash": "solid"
         },
         "marker": {
          "symbol": "circle"
         },
         "mode": "lines",
         "name": "",
         "orientation": "v",
         "showlegend": false,
         "type": "scatter",
         "x": [
          0,
          1,
          2,
          3,
          4,
          5,
          6,
          7,
          8,
          9,
          10,
          11,
          12,
          13,
          14,
          15,
          16,
          17,
          18,
          19,
          20,
          21,
          22,
          23,
          24,
          25,
          26,
          27,
          28,
          29,
          30,
          31,
          32,
          33,
          34,
          35,
          36,
          37,
          38,
          39,
          40,
          41,
          42,
          43,
          44,
          45,
          46,
          47,
          48,
          49,
          50,
          51,
          52,
          53,
          54,
          55,
          56,
          57,
          58,
          59,
          60,
          61,
          62,
          63,
          64,
          65,
          66,
          67,
          68,
          69,
          70,
          71,
          72,
          73,
          74,
          75,
          76,
          77,
          78,
          79,
          80,
          81,
          82,
          83,
          84,
          85,
          86,
          87,
          88,
          89,
          90,
          91,
          92,
          93,
          94,
          95,
          96,
          97,
          98,
          99,
          100,
          101,
          102,
          103,
          104,
          105,
          106,
          107,
          108,
          109,
          110,
          111,
          112,
          113,
          114,
          115,
          116,
          117,
          118,
          119
         ],
         "xaxis": "x",
         "y": [
          10.302932739257812,
          11.738781452178955,
          12.907379150390625,
          13.861822605133057,
          14.523674011230469,
          15.962642288208007,
          16.92119770050049,
          17.263879776000977,
          17.183372497558594,
          17.223294830322267,
          17.09349136352539,
          16.83660011291504,
          16.936721420288087,
          16.948139572143553,
          16.81047592163086,
          16.593151664733888,
          16.811113548278808,
          16.615027046203615,
          16.57973918914795,
          16.47853832244873,
          16.734839630126952,
          15.935658073425293,
          16.020526695251466,
          15.931653785705567,
          15.978658103942871,
          15.677109146118164,
          16.08774356842041,
          15.859661102294922,
          15.764158630371094,
          15.688103485107423,
          15.636546325683593,
          15.587071228027344,
          15.449904441833496,
          15.38347511291504,
          15.224948310852051,
          15.124046325683594,
          14.93743896484375,
          14.896616554260254,
          14.947851371765136,
          14.93346290588379,
          15.062824821472168,
          15.142912864685059,
          15.24723834991455,
          15.195264434814453,
          15.040238761901856,
          14.907110214233398,
          14.907098770141602,
          14.963974380493164,
          14.919735527038574,
          15.02800464630127,
          15.109819221496583,
          15.128895568847657,
          14.994536972045898,
          15.083061218261719,
          15.142248153686523,
          15.192898750305176,
          15.270954704284668,
          15.368980026245117,
          15.348223686218262,
          15.345414543151856,
          15.273962593078613,
          15.12537670135498,
          15.02779769897461,
          15.006072044372559,
          14.988746833801269,
          15.032401847839356,
          15.131929779052735,
          15.218768692016601,
          15.362349700927734,
          15.505328750610351,
          15.6089298248291,
          15.68456974029541,
          15.654298019409179,
          15.527437210083008,
          15.31490478515625,
          15.07232437133789,
          14.870877265930176,
          14.77756290435791,
          14.702808570861816,
          14.734768867492676,
          14.857597923278808,
          14.905298614501953,
          14.977672004699707,
          15.121159934997559,
          15.199402236938477,
          15.253949165344238,
          15.340566062927246,
          15.432684135437011,
          15.446998405456544,
          15.378765487670899,
          15.202351188659668,
          15.014586067199707,
          14.777399635314941,
          14.558403396606446,
          14.44936408996582,
          14.462784767150879,
          14.557806396484375,
          14.64322566986084,
          14.827945518493653,
          14.991079139709473,
          15.142614364624023,
          15.193037223815917,
          15.293635177612305,
          15.34029655456543,
          15.329732131958007,
          15.214722633361816,
          15.087632942199708,
          14.866092109680176,
          14.649862098693848,
          14.490510559082031,
          14.440763092041015,
          14.475444412231445,
          14.585753250122071,
          14.68052864074707,
          14.764162254333495,
          14.892201805114746,
          14.970817375183106,
          15.1551664352417,
          15.254169082641601,
          15.403155517578124
         ],
         "yaxis": "y"
        }
       ],
       "layout": {
        "legend": {
         "tracegroupgap": 0
        },
        "template": {
         "data": {
          "bar": [
           {
            "error_x": {
             "color": "#2a3f5f"
            },
            "error_y": {
             "color": "#2a3f5f"
            },
            "marker": {
             "line": {
              "color": "#E5ECF6",
              "width": 0.5
             },
             "pattern": {
              "fillmode": "overlay",
              "size": 10,
              "solidity": 0.2
             }
            },
            "type": "bar"
           }
          ],
          "barpolar": [
           {
            "marker": {
             "line": {
              "color": "#E5ECF6",
              "width": 0.5
             },
             "pattern": {
              "fillmode": "overlay",
              "size": 10,
              "solidity": 0.2
             }
            },
            "type": "barpolar"
           }
          ],
          "carpet": [
           {
            "aaxis": {
             "endlinecolor": "#2a3f5f",
             "gridcolor": "white",
             "linecolor": "white",
             "minorgridcolor": "white",
             "startlinecolor": "#2a3f5f"
            },
            "baxis": {
             "endlinecolor": "#2a3f5f",
             "gridcolor": "white",
             "linecolor": "white",
             "minorgridcolor": "white",
             "startlinecolor": "#2a3f5f"
            },
            "type": "carpet"
           }
          ],
          "choropleth": [
           {
            "colorbar": {
             "outlinewidth": 0,
             "ticks": ""
            },
            "type": "choropleth"
           }
          ],
          "contour": [
           {
            "colorbar": {
             "outlinewidth": 0,
             "ticks": ""
            },
            "colorscale": [
             [
              0,
              "#0d0887"
             ],
             [
              0.1111111111111111,
              "#46039f"
             ],
             [
              0.2222222222222222,
              "#7201a8"
             ],
             [
              0.3333333333333333,
              "#9c179e"
             ],
             [
              0.4444444444444444,
              "#bd3786"
             ],
             [
              0.5555555555555556,
              "#d8576b"
             ],
             [
              0.6666666666666666,
              "#ed7953"
             ],
             [
              0.7777777777777778,
              "#fb9f3a"
             ],
             [
              0.8888888888888888,
              "#fdca26"
             ],
             [
              1,
              "#f0f921"
             ]
            ],
            "type": "contour"
           }
          ],
          "contourcarpet": [
           {
            "colorbar": {
             "outlinewidth": 0,
             "ticks": ""
            },
            "type": "contourcarpet"
           }
          ],
          "heatmap": [
           {
            "colorbar": {
             "outlinewidth": 0,
             "ticks": ""
            },
            "colorscale": [
             [
              0,
              "#0d0887"
             ],
             [
              0.1111111111111111,
              "#46039f"
             ],
             [
              0.2222222222222222,
              "#7201a8"
             ],
             [
              0.3333333333333333,
              "#9c179e"
             ],
             [
              0.4444444444444444,
              "#bd3786"
             ],
             [
              0.5555555555555556,
              "#d8576b"
             ],
             [
              0.6666666666666666,
              "#ed7953"
             ],
             [
              0.7777777777777778,
              "#fb9f3a"
             ],
             [
              0.8888888888888888,
              "#fdca26"
             ],
             [
              1,
              "#f0f921"
             ]
            ],
            "type": "heatmap"
           }
          ],
          "heatmapgl": [
           {
            "colorbar": {
             "outlinewidth": 0,
             "ticks": ""
            },
            "colorscale": [
             [
              0,
              "#0d0887"
             ],
             [
              0.1111111111111111,
              "#46039f"
             ],
             [
              0.2222222222222222,
              "#7201a8"
             ],
             [
              0.3333333333333333,
              "#9c179e"
             ],
             [
              0.4444444444444444,
              "#bd3786"
             ],
             [
              0.5555555555555556,
              "#d8576b"
             ],
             [
              0.6666666666666666,
              "#ed7953"
             ],
             [
              0.7777777777777778,
              "#fb9f3a"
             ],
             [
              0.8888888888888888,
              "#fdca26"
             ],
             [
              1,
              "#f0f921"
             ]
            ],
            "type": "heatmapgl"
           }
          ],
          "histogram": [
           {
            "marker": {
             "pattern": {
              "fillmode": "overlay",
              "size": 10,
              "solidity": 0.2
             }
            },
            "type": "histogram"
           }
          ],
          "histogram2d": [
           {
            "colorbar": {
             "outlinewidth": 0,
             "ticks": ""
            },
            "colorscale": [
             [
              0,
              "#0d0887"
             ],
             [
              0.1111111111111111,
              "#46039f"
             ],
             [
              0.2222222222222222,
              "#7201a8"
             ],
             [
              0.3333333333333333,
              "#9c179e"
             ],
             [
              0.4444444444444444,
              "#bd3786"
             ],
             [
              0.5555555555555556,
              "#d8576b"
             ],
             [
              0.6666666666666666,
              "#ed7953"
             ],
             [
              0.7777777777777778,
              "#fb9f3a"
             ],
             [
              0.8888888888888888,
              "#fdca26"
             ],
             [
              1,
              "#f0f921"
             ]
            ],
            "type": "histogram2d"
           }
          ],
          "histogram2dcontour": [
           {
            "colorbar": {
             "outlinewidth": 0,
             "ticks": ""
            },
            "colorscale": [
             [
              0,
              "#0d0887"
             ],
             [
              0.1111111111111111,
              "#46039f"
             ],
             [
              0.2222222222222222,
              "#7201a8"
             ],
             [
              0.3333333333333333,
              "#9c179e"
             ],
             [
              0.4444444444444444,
              "#bd3786"
             ],
             [
              0.5555555555555556,
              "#d8576b"
             ],
             [
              0.6666666666666666,
              "#ed7953"
             ],
             [
              0.7777777777777778,
              "#fb9f3a"
             ],
             [
              0.8888888888888888,
              "#fdca26"
             ],
             [
              1,
              "#f0f921"
             ]
            ],
            "type": "histogram2dcontour"
           }
          ],
          "mesh3d": [
           {
            "colorbar": {
             "outlinewidth": 0,
             "ticks": ""
            },
            "type": "mesh3d"
           }
          ],
          "parcoords": [
           {
            "line": {
             "colorbar": {
              "outlinewidth": 0,
              "ticks": ""
             }
            },
            "type": "parcoords"
           }
          ],
          "pie": [
           {
            "automargin": true,
            "type": "pie"
           }
          ],
          "scatter": [
           {
            "fillpattern": {
             "fillmode": "overlay",
             "size": 10,
             "solidity": 0.2
            },
            "type": "scatter"
           }
          ],
          "scatter3d": [
           {
            "line": {
             "colorbar": {
              "outlinewidth": 0,
              "ticks": ""
             }
            },
            "marker": {
             "colorbar": {
              "outlinewidth": 0,
              "ticks": ""
             }
            },
            "type": "scatter3d"
           }
          ],
          "scattercarpet": [
           {
            "marker": {
             "colorbar": {
              "outlinewidth": 0,
              "ticks": ""
             }
            },
            "type": "scattercarpet"
           }
          ],
          "scattergeo": [
           {
            "marker": {
             "colorbar": {
              "outlinewidth": 0,
              "ticks": ""
             }
            },
            "type": "scattergeo"
           }
          ],
          "scattergl": [
           {
            "marker": {
             "colorbar": {
              "outlinewidth": 0,
              "ticks": ""
             }
            },
            "type": "scattergl"
           }
          ],
          "scattermapbox": [
           {
            "marker": {
             "colorbar": {
              "outlinewidth": 0,
              "ticks": ""
             }
            },
            "type": "scattermapbox"
           }
          ],
          "scatterpolar": [
           {
            "marker": {
             "colorbar": {
              "outlinewidth": 0,
              "ticks": ""
             }
            },
            "type": "scatterpolar"
           }
          ],
          "scatterpolargl": [
           {
            "marker": {
             "colorbar": {
              "outlinewidth": 0,
              "ticks": ""
             }
            },
            "type": "scatterpolargl"
           }
          ],
          "scatterternary": [
           {
            "marker": {
             "colorbar": {
              "outlinewidth": 0,
              "ticks": ""
             }
            },
            "type": "scatterternary"
           }
          ],
          "surface": [
           {
            "colorbar": {
             "outlinewidth": 0,
             "ticks": ""
            },
            "colorscale": [
             [
              0,
              "#0d0887"
             ],
             [
              0.1111111111111111,
              "#46039f"
             ],
             [
              0.2222222222222222,
              "#7201a8"
             ],
             [
              0.3333333333333333,
              "#9c179e"
             ],
             [
              0.4444444444444444,
              "#bd3786"
             ],
             [
              0.5555555555555556,
              "#d8576b"
             ],
             [
              0.6666666666666666,
              "#ed7953"
             ],
             [
              0.7777777777777778,
              "#fb9f3a"
             ],
             [
              0.8888888888888888,
              "#fdca26"
             ],
             [
              1,
              "#f0f921"
             ]
            ],
            "type": "surface"
           }
          ],
          "table": [
           {
            "cells": {
             "fill": {
              "color": "#EBF0F8"
             },
             "line": {
              "color": "white"
             }
            },
            "header": {
             "fill": {
              "color": "#C8D4E3"
             },
             "line": {
              "color": "white"
             }
            },
            "type": "table"
           }
          ]
         },
         "layout": {
          "annotationdefaults": {
           "arrowcolor": "#2a3f5f",
           "arrowhead": 0,
           "arrowwidth": 1
          },
          "autotypenumbers": "strict",
          "coloraxis": {
           "colorbar": {
            "outlinewidth": 0,
            "ticks": ""
           }
          },
          "colorscale": {
           "diverging": [
            [
             0,
             "#8e0152"
            ],
            [
             0.1,
             "#c51b7d"
            ],
            [
             0.2,
             "#de77ae"
            ],
            [
             0.3,
             "#f1b6da"
            ],
            [
             0.4,
             "#fde0ef"
            ],
            [
             0.5,
             "#f7f7f7"
            ],
            [
             0.6,
             "#e6f5d0"
            ],
            [
             0.7,
             "#b8e186"
            ],
            [
             0.8,
             "#7fbc41"
            ],
            [
             0.9,
             "#4d9221"
            ],
            [
             1,
             "#276419"
            ]
           ],
           "sequential": [
            [
             0,
             "#0d0887"
            ],
            [
             0.1111111111111111,
             "#46039f"
            ],
            [
             0.2222222222222222,
             "#7201a8"
            ],
            [
             0.3333333333333333,
             "#9c179e"
            ],
            [
             0.4444444444444444,
             "#bd3786"
            ],
            [
             0.5555555555555556,
             "#d8576b"
            ],
            [
             0.6666666666666666,
             "#ed7953"
            ],
            [
             0.7777777777777778,
             "#fb9f3a"
            ],
            [
             0.8888888888888888,
             "#fdca26"
            ],
            [
             1,
             "#f0f921"
            ]
           ],
           "sequentialminus": [
            [
             0,
             "#0d0887"
            ],
            [
             0.1111111111111111,
             "#46039f"
            ],
            [
             0.2222222222222222,
             "#7201a8"
            ],
            [
             0.3333333333333333,
             "#9c179e"
            ],
            [
             0.4444444444444444,
             "#bd3786"
            ],
            [
             0.5555555555555556,
             "#d8576b"
            ],
            [
             0.6666666666666666,
             "#ed7953"
            ],
            [
             0.7777777777777778,
             "#fb9f3a"
            ],
            [
             0.8888888888888888,
             "#fdca26"
            ],
            [
             1,
             "#f0f921"
            ]
           ]
          },
          "colorway": [
           "#636efa",
           "#EF553B",
           "#00cc96",
           "#ab63fa",
           "#FFA15A",
           "#19d3f3",
           "#FF6692",
           "#B6E880",
           "#FF97FF",
           "#FECB52"
          ],
          "font": {
           "color": "#2a3f5f"
          },
          "geo": {
           "bgcolor": "white",
           "lakecolor": "white",
           "landcolor": "#E5ECF6",
           "showlakes": true,
           "showland": true,
           "subunitcolor": "white"
          },
          "hoverlabel": {
           "align": "left"
          },
          "hovermode": "closest",
          "mapbox": {
           "style": "light"
          },
          "paper_bgcolor": "white",
          "plot_bgcolor": "#E5ECF6",
          "polar": {
           "angularaxis": {
            "gridcolor": "white",
            "linecolor": "white",
            "ticks": ""
           },
           "bgcolor": "#E5ECF6",
           "radialaxis": {
            "gridcolor": "white",
            "linecolor": "white",
            "ticks": ""
           }
          },
          "scene": {
           "xaxis": {
            "backgroundcolor": "#E5ECF6",
            "gridcolor": "white",
            "gridwidth": 2,
            "linecolor": "white",
            "showbackground": true,
            "ticks": "",
            "zerolinecolor": "white"
           },
           "yaxis": {
            "backgroundcolor": "#E5ECF6",
            "gridcolor": "white",
            "gridwidth": 2,
            "linecolor": "white",
            "showbackground": true,
            "ticks": "",
            "zerolinecolor": "white"
           },
           "zaxis": {
            "backgroundcolor": "#E5ECF6",
            "gridcolor": "white",
            "gridwidth": 2,
            "linecolor": "white",
            "showbackground": true,
            "ticks": "",
            "zerolinecolor": "white"
           }
          },
          "shapedefaults": {
           "line": {
            "color": "#2a3f5f"
           }
          },
          "ternary": {
           "aaxis": {
            "gridcolor": "white",
            "linecolor": "white",
            "ticks": ""
           },
           "baxis": {
            "gridcolor": "white",
            "linecolor": "white",
            "ticks": ""
           },
           "bgcolor": "#E5ECF6",
           "caxis": {
            "gridcolor": "white",
            "linecolor": "white",
            "ticks": ""
           }
          },
          "title": {
           "x": 0.05
          },
          "xaxis": {
           "automargin": true,
           "gridcolor": "white",
           "linecolor": "white",
           "ticks": "",
           "title": {
            "standoff": 15
           },
           "zerolinecolor": "white",
           "zerolinewidth": 2
          },
          "yaxis": {
           "automargin": true,
           "gridcolor": "white",
           "linecolor": "white",
           "ticks": "",
           "title": {
            "standoff": 15
           },
           "zerolinecolor": "white",
           "zerolinewidth": 2
          }
         }
        },
        "title": {
         "text": "Learning Coefficient Estimates"
        },
        "updatemenus": [
         {
          "active": -1,
          "buttons": [
           {
            "args": [
             {
              "xaxis.type": "log"
             }
            ],
            "args2": [
             {
              "xaxis.type": "linear"
             }
            ],
            "label": "Log x-axis",
            "method": "relayout"
           }
          ],
          "type": "buttons",
          "x": -0.1,
          "y": 1
         },
         {
          "active": -1,
          "buttons": [
           {
            "args": [
             {
              "yaxis.type": "log"
             }
            ],
            "args2": [
             {
              "yaxis.type": "linear"
             }
            ],
            "label": "Log y-axis",
            "method": "relayout"
           }
          ],
          "type": "buttons",
          "x": -0.1,
          "y": 0.85
         }
        ],
        "xaxis": {
         "anchor": "y",
         "domain": [
          0,
          1
         ],
         "title": {
          "text": "Checkpoint"
         }
        },
        "yaxis": {
         "anchor": "x",
         "domain": [
          0,
          1
         ],
         "title": {
          "text": "Rolling Average LLC"
         }
        }
       }
      }
     },
     "metadata": {},
     "output_type": "display_data"
    }
   ],
   "source": [
    "average_window = 5\n",
    "llc_estimates_avg = rolling_average(llc_estimates, average_window)\n",
    "line(llc_estimates, xaxis=\"Checkpoint\", yaxis=\"LLC\", title=f\"LLC - addition_frac = {addition_frac} nbeta = {nbeta} epsilon = {lr} gamma = {gamma}\", log_y=False, toggle_x=True, toggle_y=True)\n",
    "line(llc_estimates_avg, xaxis=\"Checkpoint\", yaxis=\"Rolling Average LLC\", title=\"Learning Coefficient Estimates\", log_y=False, toggle_x=True, toggle_y=True)"
   ]
  }
 ],
 "metadata": {
  "kernelspec": {
   "display_name": ".venv",
   "language": "python",
   "name": "python3"
  },
  "language_info": {
   "codemirror_mode": {
    "name": "ipython",
    "version": 3
   },
   "file_extension": ".py",
   "mimetype": "text/x-python",
   "name": "python",
   "nbconvert_exporter": "python",
   "pygments_lexer": "ipython3",
   "version": "3.12.5"
  }
 },
 "nbformat": 4,
 "nbformat_minor": 2
}
