{
  "cells": [
    {
      "cell_type": "markdown",
      "metadata": {
        "id": "2A9Wv1do2UV2"
      },
      "source": [
        "# Dev Interp - Grokking Modular Addition and Multiplication"
      ]
    },
    {
      "cell_type": "markdown",
      "metadata": {
        "id": "A13-7Mc62UV3"
      },
      "source": [
        "# Setup"
      ]
    },
    {
      "cell_type": "code",
      "execution_count": 169,
      "metadata": {
        "id": "Q998xCML2UV3"
      },
      "outputs": [],
      "source": [
        "TRAIN_MODEL = True"
      ]
    },
    {
      "cell_type": "code",
      "execution_count": 170,
      "metadata": {
        "id": "zUBTNnz62UV3",
        "outputId": "3658e07b-1cba-42b8-f23b-a319f209561a"
      },
      "outputs": [
        {
          "name": "stdout",
          "output_type": "stream",
          "text": [
            "Running as a Jupyter notebook - intended for development only!\n",
            "The autoreload extension is already loaded. To reload it, use:\n",
            "  %reload_ext autoreload\n"
          ]
        },
        {
          "name": "stderr",
          "output_type": "stream",
          "text": [
            "/var/folders/85/m4tlmmlj4w58khykxvwgvt980000gn/T/ipykernel_87282/2858945602.py:22: DeprecationWarning:\n",
            "\n",
            "`magic(...)` is deprecated since IPython 0.13 (warning added in 8.1), use run_line_magic(magic_name, parameter_s).\n",
            "\n",
            "/var/folders/85/m4tlmmlj4w58khykxvwgvt980000gn/T/ipykernel_87282/2858945602.py:23: DeprecationWarning:\n",
            "\n",
            "`magic(...)` is deprecated since IPython 0.13 (warning added in 8.1), use run_line_magic(magic_name, parameter_s).\n",
            "\n"
          ]
        }
      ],
      "source": [
        "# Janky code to do different setup when run in a Colab notebook vs VSCode\n",
        "import os\n",
        "\n",
        "DEVELOPMENT_MODE = True\n",
        "IN_GITHUB = os.getenv(\"GITHUB_ACTIONS\") == \"true\"\n",
        "try:\n",
        "    import google.colab\n",
        "    IN_COLAB = True\n",
        "    print(\"Running as a Colab notebook\")\n",
        "\n",
        "    # PySvelte is an unmaintained visualization library, use it as a backup if circuitsvis isn't working\n",
        "    # # Install another version of node that makes PySvelte work way faster\n",
        "    # !curl -fsSL https://deb.nodesource.com/setup_16.x | sudo -E bash -; sudo apt-get install -y nodejs\n",
        "    # %pip install git+https://github.com/neelnanda-io/PySvelte.git\n",
        "except:\n",
        "    IN_COLAB = False\n",
        "    print(\"Running as a Jupyter notebook - intended for development only!\")\n",
        "    from IPython import get_ipython\n",
        "\n",
        "    ipython = get_ipython()\n",
        "    # Code to automatically update the HookedTransformer code as its edited without restarting the kernel\n",
        "    ipython.magic(\"load_ext autoreload\")\n",
        "    ipython.magic(\"autoreload 2\")\n",
        "\n",
        "if IN_COLAB or IN_GITHUB:\n",
        "    %pip install transformer_lens\n",
        "    %pip install circuitsvis"
      ]
    },
    {
      "cell_type": "code",
      "execution_count": 171,
      "metadata": {
        "id": "I8nEQDlP2UV4",
        "outputId": "a46ab340-d447-407c-9e3d-36be3ef04ad3"
      },
      "outputs": [
        {
          "name": "stdout",
          "output_type": "stream",
          "text": [
            "Using renderer: notebook_connected\n"
          ]
        }
      ],
      "source": [
        "# Plotly needs a different renderer for VSCode/Notebooks vs Colab argh\n",
        "import plotly.io as pio\n",
        "if IN_COLAB or not DEVELOPMENT_MODE:\n",
        "    pio.renderers.default = \"colab\"\n",
        "else:\n",
        "    pio.renderers.default = \"notebook_connected\"\n",
        "print(f\"Using renderer: {pio.renderers.default}\")"
      ]
    },
    {
      "cell_type": "code",
      "execution_count": 172,
      "metadata": {
        "id": "rp4RGtCp2UV4"
      },
      "outputs": [],
      "source": [
        "pio.templates['plotly'].layout.xaxis.title.font.size = 20\n",
        "pio.templates['plotly'].layout.yaxis.title.font.size = 20\n",
        "pio.templates['plotly'].layout.title.font.size = 30"
      ]
    },
    {
      "cell_type": "code",
      "execution_count": 173,
      "metadata": {
        "id": "RpPUz36r2UV4"
      },
      "outputs": [],
      "source": [
        "# Import stuff\n",
        "import torch\n",
        "import torch.nn as nn\n",
        "import torch.nn.functional as F\n",
        "import torch.optim as optim\n",
        "import numpy as np\n",
        "import einops\n",
        "from fancy_einsum import einsum\n",
        "import os\n",
        "import tqdm.auto as tqdm\n",
        "import random\n",
        "from pathlib import Path\n",
        "import plotly.express as px\n",
        "from torch.utils.data import DataLoader\n",
        "\n",
        "from typing import List, Union, Optional\n",
        "from functools import partial\n",
        "import copy\n",
        "\n",
        "import itertools\n",
        "from transformers import AutoModelForCausalLM, AutoConfig, AutoTokenizer\n",
        "import dataclasses\n",
        "import datasets\n",
        "from IPython.display import HTML"
      ]
    },
    {
      "cell_type": "code",
      "execution_count": 174,
      "metadata": {
        "id": "NmIM5yWr2UV4"
      },
      "outputs": [
        {
          "name": "stdout",
          "output_type": "stream",
          "text": [
            "device: cpu\n"
          ]
        }
      ],
      "source": [
        "import transformer_lens.utils as utils\n",
        "from transformer_lens import HookedTransformer, HookedTransformerConfig\n",
        "\n",
        "device = \"cuda\" if torch.cuda.is_available() else \"cpu\"\n",
        "\n",
        "print(f\"device: {device}\")"
      ]
    },
    {
      "cell_type": "markdown",
      "metadata": {
        "id": "Q5bjmWrq2UV5"
      },
      "source": [
        "Plotting helper functions:"
      ]
    },
    {
      "cell_type": "code",
      "execution_count": 175,
      "metadata": {
        "id": "aZe03f--2UV5"
      },
      "outputs": [],
      "source": [
        "from collections import deque\n",
        "\n",
        "def rolling_average(values, window_size):\n",
        "    window = deque(maxlen=window_size)\n",
        "    averages = []\n",
        "    \n",
        "    for value in values:\n",
        "        window.append(value)\n",
        "        averages.append(sum(window) / len(window))\n",
        "    \n",
        "    return averages\n",
        "\n",
        "def imshow(tensor, renderer=None, xaxis=\"\", yaxis=\"\", **kwargs):\n",
        "    px.imshow(utils.to_numpy(tensor), color_continuous_midpoint=0.0, color_continuous_scale=\"RdBu\", labels={\"x\":xaxis, \"y\":yaxis}, **kwargs).show(renderer)\n",
        "\n",
        "def line(tensor, renderer=None, xaxis=\"\", yaxis=\"\", **kwargs):\n",
        "    px.line(utils.to_numpy(tensor), labels={\"x\":xaxis, \"y\":yaxis}, **kwargs).show(renderer)\n",
        "\n",
        "def scatter(x, y, xaxis=\"\", yaxis=\"\", caxis=\"\", renderer=None, **kwargs):\n",
        "    x = utils.to_numpy(x)\n",
        "    y = utils.to_numpy(y)\n",
        "    px.scatter(y=y, x=x, labels={\"x\":xaxis, \"y\":yaxis, \"color\":caxis}, **kwargs).show(renderer)"
      ]
    },
    {
      "cell_type": "markdown",
      "metadata": {
        "id": "6EE1YCCg2UV5"
      },
      "source": [
        "# Model Training"
      ]
    },
    {
      "cell_type": "code",
      "execution_count": 176,
      "metadata": {
        "id": "2-6AgR5N2UV5"
      },
      "outputs": [],
      "source": [
        "DATA_SEED = 598"
      ]
    },
    {
      "cell_type": "markdown",
      "metadata": {
        "id": "MqhvJcjT2UV5"
      },
      "source": [
        "## Create the dataset\n",
        "* Define modular addition and modular multiplication datasets\n",
        "* Combine the two data sets\n",
        "* We can vary the proportion of addition to multiplication in the training dataset"
      ]
    },
    {
      "cell_type": "code",
      "execution_count": 177,
      "metadata": {},
      "outputs": [
        {
          "name": "stdout",
          "output_type": "stream",
          "text": [
            "Addition dataset size = 16900\n",
            "Multiplication dataset size = 16900\n",
            "Total train size = 16900\n",
            "Addition train size = 5915\n",
            "Addition test size = 5915\n",
            "Multiplication train size = 10985\n",
            "Multiplication test size = 5915\n",
            "Addition: 35.0% Multiplication: 65.0%\n",
            "Combined dataset = 28730\n",
            "Train size = 16900\n",
            "Test size = 11830\n",
            "train_data.shape = torch.Size([16900, 3])\n",
            "train_labels.shape = torch.Size([16900])\n",
            "test_data.shape = torch.Size([11830, 3])\n",
            "test_labels.shape = torch.Size([11830])\n",
            "train_data[:10] = tensor([[102,   0,   1],\n",
            "        [117,   0, 125],\n",
            "        [121,   1,  24],\n",
            "        [ 88,   0, 100],\n",
            "        [ 42,   1,  35],\n",
            "        [  0,   0, 116],\n",
            "        [ 85,   1,   5],\n",
            "        [  6,   0,  79],\n",
            "        [120,   0,   0],\n",
            "        [ 14,   1,  32]])\n"
          ]
        }
      ],
      "source": [
        "import pandas as pd\n",
        "from helpers import get_dataloader\n",
        "\n",
        "max_nums = 130\n",
        "mod_value = 113\n",
        "\n",
        "# The fraction of the data that should be used for training (not all of the rest will be used for testing)\n",
        "train_frac = 0.5\n",
        "\n",
        "# The fraction of the training data that should be addition (the rest will be multiplication)\n",
        "addition_frac = 0.35\n",
        "\n",
        "def create_dataset(max_nums: int, addition: bool, mod_value: int):\n",
        "    data = list()\n",
        "    for a in range(max_nums):\n",
        "        for b in range(max_nums):\n",
        "            if addition:\n",
        "                label = (a + b) % mod_value\n",
        "            else:\n",
        "                label = (a * b) % mod_value\n",
        "            data.append([[a, int(addition), b], label])\n",
        "\n",
        "    return pd.DataFrame(data, columns=[\"input\", \"label\"])\n",
        "\n",
        "addition_df = create_dataset(max_nums, True, mod_value)\n",
        "multiplication_df = create_dataset(max_nums, False, mod_value)\n",
        "\n",
        "print(f\"Addition dataset size = {len(addition_df)}\")\n",
        "print(f\"Multiplication dataset size = {len(multiplication_df)}\")\n",
        "\n",
        "total_train_size = int((len(addition_df) + len(multiplication_df)) * train_frac)\n",
        "\n",
        "print(f\"Total train size = {total_train_size}\")\n",
        "# Calculate the sizes for train datasets based on the desired proportion\n",
        "add_train_size = int(total_train_size * addition_frac)\n",
        "multi_train_size = total_train_size - add_train_size\n",
        "\n",
        "# Determine the size for test datasets (use the remaining data, but ensure equal sizes)\n",
        "test_size = min(len(addition_df) - add_train_size, len(multiplication_df) - multi_train_size)\n",
        "\n",
        "# Create train datasets\n",
        "add_train_df = addition_df.sample(n=add_train_size, random_state=DATA_SEED)\n",
        "multi_train_df = multiplication_df.sample(n=multi_train_size, random_state=DATA_SEED)\n",
        "\n",
        "# Create test datasets with equal size\n",
        "add_test_df = addition_df.drop(add_train_df.index).sample(n=test_size, random_state=DATA_SEED)\n",
        "multi_test_df = multiplication_df.drop(multi_train_df.index).sample(n=test_size, random_state=DATA_SEED)\n",
        "\n",
        "# Print sizes for verification\n",
        "print(f\"Addition train size = {len(add_train_df)}\")\n",
        "print(f\"Addition test size = {len(add_test_df)}\")\n",
        "print(f\"Multiplication train size = {len(multi_train_df)}\")\n",
        "print(f\"Multiplication test size = {len(multi_test_df)}\")\n",
        "\n",
        "print(f\"Addition: {len(add_train_df)/(len(add_train_df) + len(multi_train_df))*100:0.1f}% \\\n",
        "Multiplication: {len(multi_train_df)/(len(add_train_df) + len(multi_train_df))*100:0.1f}%\")\n",
        "\n",
        "# Combine and shuffle the datasets\n",
        "train_df = pd.concat([add_train_df, multi_train_df], ignore_index=True).sample(frac=1, random_state=DATA_SEED).reset_index(drop=True)\n",
        "test_df = pd.concat([add_test_df, multi_test_df], ignore_index=True).sample(frac=1, random_state=DATA_SEED).reset_index(drop=True)\n",
        "\n",
        "print(f\"Combined dataset = {len(train_df) + len(test_df)}\")\n",
        "\n",
        "print(f\"Train size = {len(train_df)}\")\n",
        "print(f\"Test size = {len(test_df)}\")\n",
        "\n",
        "# Create the dataloaders\n",
        "train_loader = get_dataloader(train_df, 1024, shuffle=True)\n",
        "test_loader = get_dataloader(test_df, len(test_df), shuffle=False)\n",
        "\n",
        "train_data = torch.tensor(train_df['input'].tolist())\n",
        "train_labels = torch.tensor(train_df['label'].tolist())\n",
        "\n",
        "test_data = torch.tensor(test_df['input'].tolist())\n",
        "test_labels = torch.tensor(test_df['label'].tolist())\n",
        "\n",
        "add_test_data = torch.tensor(add_test_df['input'].tolist())\n",
        "add_test_labels = torch.tensor(add_test_df['label'].tolist())\n",
        "\n",
        "multi_test_data = torch.tensor(multi_test_df['input'].tolist())\n",
        "multi_test_labels = torch.tensor(multi_test_df['label'].tolist())\n",
        "\n",
        "print(f\"train_data.shape = {train_data.shape}\")\n",
        "print(f\"train_labels.shape = {train_labels.shape}\")\n",
        "print(f\"test_data.shape = {test_data.shape}\")\n",
        "print(f\"test_labels.shape = {test_labels.shape}\")\n",
        "print(f\"train_data[:10] = {train_data[:10]}\")\n"
      ]
    },
    {
      "cell_type": "markdown",
      "metadata": {
        "id": "Mcd2dy9x2UV6"
      },
      "source": [
        "## Define Model"
      ]
    },
    {
      "cell_type": "code",
      "execution_count": 178,
      "metadata": {
        "id": "GO7-UYjQ2UV6"
      },
      "outputs": [],
      "source": [
        "\n",
        "cfg = HookedTransformerConfig(\n",
        "    n_layers = 1,\n",
        "    n_heads = 4,\n",
        "    d_model = 128,\n",
        "    d_head = 32,\n",
        "    d_mlp = 512,\n",
        "    act_fn = \"relu\",\n",
        "    normalization_type=\"LN\",\n",
        "    d_vocab=max_nums+1,\n",
        "    d_vocab_out=mod_value,\n",
        "    n_ctx= train_data.shape[1],\n",
        "    init_weights=True,\n",
        "    device=device,\n",
        "    seed = 999,\n",
        ")\n",
        "\n",
        "model = HookedTransformer(cfg)"
      ]
    },
    {
      "cell_type": "markdown",
      "metadata": {
        "id": "5qNAf_pY2UV6"
      },
      "source": [
        "Disable the biases, as we don't need them for this task and it makes things easier to interpret."
      ]
    },
    {
      "cell_type": "code",
      "execution_count": 179,
      "metadata": {
        "id": "9Y6S95XF2UV6"
      },
      "outputs": [],
      "source": [
        "for name, param in model.named_parameters():\n",
        "    if \"b_\" in name:\n",
        "        param.requires_grad = False\n"
      ]
    },
    {
      "cell_type": "markdown",
      "metadata": {
        "id": "NQtU2xX02UV6"
      },
      "source": [
        "## Define Optimizer + Loss"
      ]
    },
    {
      "cell_type": "code",
      "execution_count": 180,
      "metadata": {
        "id": "kt9M_v7a2UV6"
      },
      "outputs": [],
      "source": [
        "# Optimizer config\n",
        "lr = 1e-3\n",
        "wd = 1.\n",
        "betas = (0.90, 0.98)\n",
        "optimizer = torch.optim.AdamW(model.parameters(), lr=lr, weight_decay=wd, betas=betas)"
      ]
    },
    {
      "cell_type": "code",
      "execution_count": 181,
      "metadata": {},
      "outputs": [
        {
          "name": "stdout",
          "output_type": "stream",
          "text": [
            "train_loss = 5.075778397120251\n",
            "test_loss = 5.074045973036783\n"
          ]
        }
      ],
      "source": [
        "from helpers import loss_fn\n",
        "\n",
        "train_logits = model(train_data)\n",
        "train_loss = loss_fn(train_logits, train_labels)\n",
        "print(f\"train_loss = {train_loss}\")\n",
        "test_logits = model(test_data)\n",
        "test_loss = loss_fn(test_logits, test_labels)\n",
        "print(f\"test_loss = {test_loss}\")"
      ]
    },
    {
      "cell_type": "markdown",
      "metadata": {
        "id": "GOuSwO1U2UV7"
      },
      "source": [
        "## Actually Train"
      ]
    },
    {
      "cell_type": "code",
      "execution_count": 182,
      "metadata": {
        "colab": {
          "referenced_widgets": [
            "c477d3a6463646deb7cf1de99bb0199a"
          ]
        },
        "id": "B78ji8Si2UV7",
        "outputId": "db8171c9-35a3-497a-aa61-a9b8efeee374"
      },
      "outputs": [
        {
          "name": "stdout",
          "output_type": "stream",
          "text": [
            "Addition frac = 0.35\n"
          ]
        },
        {
          "data": {
            "application/vnd.jupyter.widget-view+json": {
              "model_id": "541db761d83e4411bbaa01ff0bbab497",
              "version_major": 2,
              "version_minor": 0
            },
            "text/plain": [
              "  0%|          | 0/6000 [00:00<?, ?it/s]"
            ]
          },
          "metadata": {},
          "output_type": "display_data"
        },
        {
          "name": "stdout",
          "output_type": "stream",
          "text": [
            "Epoch 49 Train Loss 4.180023350389375 Test Loss 4.984136029476595 Add Test Loss 5.031707121122876 Multi Test Loss 4.936564937830313\n",
            "Epoch 99 Train Loss 2.336537656770346 Test Loss 4.8530209014986445 Add Test Loss 5.266121685974782 Multi Test Loss 4.439920117022506\n",
            "Epoch 149 Train Loss 0.9921773001665544 Test Loss 4.742722484939042 Add Test Loss 5.654913748233089 Multi Test Loss 3.830531221644996\n",
            "Epoch 199 Train Loss 0.3624111975712268 Test Loss 4.7802993209871945 Add Test Loss 6.054772697202312 Multi Test Loss 3.5058259447720763\n",
            "Epoch 249 Train Loss 0.14443425327748427 Test Loss 4.8482491328285535 Add Test Loss 6.378785258291778 Multi Test Loss 3.317713007365331\n",
            "Epoch 299 Train Loss 0.07204838637996222 Test Loss 4.8802827724475355 Add Test Loss 6.599388920319993 Multi Test Loss 3.161176624575078\n",
            "Epoch 349 Train Loss 0.04141174408689369 Test Loss 4.884845845919649 Add Test Loss 6.765306850270799 Multi Test Loss 3.0043848415684997\n",
            "Epoch 399 Train Loss 0.02537206212386411 Test Loss 4.8615957349619325 Add Test Loss 6.879362361899517 Multi Test Loss 2.8438291080243467\n",
            "Epoch 449 Train Loss 0.01633236878276461 Test Loss 4.843074055643226 Add Test Loss 7.006620128146222 Multi Test Loss 2.679527983140229\n",
            "Epoch 499 Train Loss 0.01068597393070496 Test Loss 4.815519159326982 Add Test Loss 7.119920600870349 Multi Test Loss 2.511117717783616\n",
            "Epoch 549 Train Loss 0.0068448768393613935 Test Loss 4.79772693785719 Add Test Loss 7.2427667198435595 Multi Test Loss 2.3526871558708202\n",
            "Epoch 599 Train Loss 0.13838685140401394 Test Loss 4.982884862032898 Add Test Loss 7.347711860492194 Multi Test Loss 2.6180578635736005\n",
            "Epoch 649 Train Loss 0.011337605246963393 Test Loss 4.567391260683439 Add Test Loss 7.1226980998338085 Multi Test Loss 2.0120844215330695\n",
            "Epoch 699 Train Loss 0.011638815195980617 Test Loss 4.466733653212569 Add Test Loss 6.9666421434729315 Multi Test Loss 1.966825162952208\n",
            "Epoch 749 Train Loss 0.01049863496180009 Test Loss 4.430103818054503 Add Test Loss 6.9555176342139 Multi Test Loss 1.9046900018951063\n",
            "Epoch 799 Train Loss 0.00803345142562678 Test Loss 4.428790011228705 Add Test Loss 7.039296192086673 Multi Test Loss 1.8182838303707378\n",
            "Epoch 849 Train Loss 0.0057430232705015846 Test Loss 4.43744008468715 Add Test Loss 7.161601319564291 Multi Test Loss 1.7132788498100118\n",
            "Epoch 899 Train Loss 0.0038464839286578953 Test Loss 4.442097889654875 Add Test Loss 7.292286402928539 Multi Test Loss 1.5919093763812107\n",
            "Epoch 949 Train Loss 0.0459821685590972 Test Loss 4.188575905520568 Add Test Loss 6.987494700888427 Multi Test Loss 1.3896571101527089\n",
            "Epoch 999 Train Loss 0.014337530197766053 Test Loss 3.993348302221706 Add Test Loss 6.781086708402586 Multi Test Loss 1.2056098960408246\n",
            "Epoch 1049 Train Loss 0.015046323699712993 Test Loss 3.8950755502782477 Add Test Loss 6.615454916657028 Multi Test Loss 1.1746961838994672\n",
            "Epoch 1099 Train Loss 0.013304289563685609 Test Loss 3.834167761464335 Add Test Loss 6.560630401282761 Multi Test Loss 1.1077051216459093\n",
            "Epoch 1149 Train Loss 0.010182122797130076 Test Loss 3.791497258293729 Add Test Loss 6.583072258757266 Multi Test Loss 0.9999222578301924\n",
            "Epoch 1199 Train Loss 0.007208857142977552 Test Loss 3.7517031504790457 Add Test Loss 6.629841371938981 Multi Test Loss 0.87356492901911\n",
            "Epoch 1249 Train Loss 1.1303883236184893 Test Loss 3.969062932312108 Add Test Loss 6.557395310806485 Multi Test Loss 1.3807305538177328\n",
            "Epoch 1299 Train Loss 0.027497139338110613 Test Loss 3.441174002244482 Add Test Loss 6.306355097839391 Multi Test Loss 0.5759929066495735\n",
            "Epoch 1349 Train Loss 0.022031929790234512 Test Loss 3.3133182419948337 Add Test Loss 6.0973377303428045 Multi Test Loss 0.5292987536468636\n",
            "Epoch 1399 Train Loss 0.019755432391760166 Test Loss 3.225575117893779 Add Test Loss 5.966141220437561 Multi Test Loss 0.4850090153499963\n",
            "Epoch 1449 Train Loss 0.015773473039126507 Test Loss 3.1611319018887505 Add Test Loss 5.907492046159815 Multi Test Loss 0.4147717576176858\n",
            "Epoch 1499 Train Loss 0.013179236210845642 Test Loss 3.133572234297672 Add Test Loss 5.924387122003148 Multi Test Loss 0.3427573465921959\n",
            "Epoch 1549 Train Loss 0.04201834931150356 Test Loss 3.021524737030201 Add Test Loss 5.7675190923697555 Multi Test Loss 0.27553038169064725\n",
            "Epoch 1599 Train Loss 0.02573296627233096 Test Loss 2.8953933411751858 Add Test Loss 5.57631361611281 Multi Test Loss 0.2144730662375625\n",
            "Epoch 1649 Train Loss 0.02193731495837613 Test Loss 2.8127753484383975 Add Test Loss 5.444473283393421 Multi Test Loss 0.1810774134833737\n",
            "Epoch 1699 Train Loss 0.017103740895347025 Test Loss 2.755286718780623 Add Test Loss 5.369261880659498 Multi Test Loss 0.14131155690174801\n",
            "Epoch 1749 Train Loss 0.1628639606834516 Test Loss 2.902518895864409 Add Test Loss 5.509167028095465 Multi Test Loss 0.2958707636333527\n",
            "Epoch 1799 Train Loss 0.021750523384834807 Test Loss 2.6666749660802593 Add Test Loss 5.2244476186615305 Multi Test Loss 0.1089023134989878\n",
            "Epoch 1849 Train Loss 0.019006296127278683 Test Loss 2.5753525002297355 Add Test Loss 5.062333280911205 Multi Test Loss 0.08837171954826603\n",
            "Epoch 1899 Train Loss 0.01518837056772347 Test Loss 2.516833889624008 Add Test Loss 4.967793575108352 Multi Test Loss 0.06587420413966341\n",
            "Epoch 1949 Train Loss 0.010845645103261083 Test Loss 2.4813647029288743 Add Test Loss 4.916449534332713 Multi Test Loss 0.046279871525034454\n",
            "Epoch 1999 Train Loss 0.47570841637567357 Test Loss 2.869303052710748 Add Test Loss 5.3847244408086965 Multi Test Loss 0.3538816646127996\n",
            "Epoch 2049 Train Loss 0.021988371432259173 Test Loss 2.3346733033681404 Add Test Loss 4.611351634267359 Multi Test Loss 0.05799497246892222\n",
            "Epoch 2099 Train Loss 0.01892970604422763 Test Loss 2.234022830803853 Add Test Loss 4.419805390722417 Multi Test Loss 0.04824027088528882\n",
            "Epoch 2149 Train Loss 0.01606738957240746 Test Loss 2.1556054777323963 Add Test Loss 4.272496227883996 Multi Test Loss 0.03871472758079664\n",
            "Epoch 2199 Train Loss 0.01203675468840016 Test Loss 2.097951062172869 Add Test Loss 4.167354209728923 Multi Test Loss 0.02854791461681581\n",
            "Epoch 2249 Train Loss 0.008483571867289978 Test Loss 2.0543608658142682 Add Test Loss 4.088478300700629 Multi Test Loss 0.020243430927906952\n",
            "Epoch 2299 Train Loss 0.00552753788876735 Test Loss 2.015215582449487 Add Test Loss 4.016388183634508 Multi Test Loss 0.014042981264467546\n",
            "Epoch 2349 Train Loss 0.058051439350753145 Test Loss 1.8827861792027216 Add Test Loss 3.687921083606863 Multi Test Loss 0.07765127479857946\n",
            "Epoch 2399 Train Loss 0.01682636448908423 Test Loss 1.7301523020709082 Add Test Loss 3.428254309159737 Multi Test Loss 0.03205029498207958\n",
            "Epoch 2449 Train Loss 0.01580936687629709 Test Loss 1.6648837792236864 Add Test Loss 3.301759383732174 Multi Test Loss 0.02800817471519899\n",
            "Epoch 2499 Train Loss 0.013037808490495703 Test Loss 1.6007312753207388 Add Test Loss 3.1791827729049773 Multi Test Loss 0.02227977773650046\n",
            "Epoch 2549 Train Loss 0.009631698985468985 Test Loss 1.5412166394265097 Add Test Loss 3.065891811586272 Multi Test Loss 0.01654146726674729\n",
            "Epoch 2599 Train Loss 0.006690143843159132 Test Loss 1.4893512591226978 Add Test Loss 2.966853553910137 Multi Test Loss 0.011848964335258236\n",
            "Epoch 2649 Train Loss 0.004713338664449917 Test Loss 1.4415926223121056 Add Test Loss 2.8747615970573692 Multi Test Loss 0.008423647566841289\n",
            "Epoch 2699 Train Loss 0.0029318380225254455 Test Loss 1.4151606104635488 Add Test Loss 2.8245928960472297 Multi Test Loss 0.005728324879868606\n",
            "Epoch 2749 Train Loss 0.0019090150137259763 Test Loss 1.382803866085413 Add Test Loss 2.7616289144586785 Multi Test Loss 0.003978817712147898\n",
            "Epoch 2799 Train Loss 0.12844370696597673 Test Loss 1.407809647836143 Add Test Loss 2.6923806133026087 Multi Test Loss 0.12323868236967728\n",
            "Epoch 2849 Train Loss 0.016155009230632754 Test Loss 1.0939445177889773 Add Test Loss 2.159945224685479 Multi Test Loss 0.027943810892475288\n",
            "Epoch 2899 Train Loss 0.01508850336482209 Test Loss 1.064764436417961 Add Test Loss 2.1054419050068947 Multi Test Loss 0.02408696782902737\n",
            "Epoch 2949 Train Loss 0.01328068559956282 Test Loss 1.025375645559536 Add Test Loss 2.030872935247274 Multi Test Loss 0.019878355871797572\n",
            "Epoch 2999 Train Loss 0.010461785625811654 Test Loss 0.9737608602587785 Add Test Loss 1.9322105051736473 Multi Test Loss 0.015311215343909631\n",
            "Epoch 3049 Train Loss 0.007614834780985549 Test Loss 0.9225029454361702 Add Test Loss 1.8336558183463876 Multi Test Loss 0.011350072525952633\n",
            "Epoch 3099 Train Loss 0.0052270733405523784 Test Loss 0.8773278056538013 Add Test Loss 1.746546556442314 Multi Test Loss 0.008109054865288482\n",
            "Epoch 3149 Train Loss 0.003493210197841564 Test Loss 0.8398248803642759 Add Test Loss 1.673965364512935 Multi Test Loss 0.005684396215616686\n",
            "Epoch 3199 Train Loss 0.04994521365686514 Test Loss 0.7854936507265657 Add Test Loss 1.5171166983270705 Multi Test Loss 0.05387060312606058\n",
            "Epoch 3249 Train Loss 0.015435652843436459 Test Loss 0.6274383232796436 Add Test Loss 1.233422191821637 Multi Test Loss 0.021454454737649894\n",
            "Epoch 3299 Train Loss 0.01460161219878228 Test Loss 0.617524917916305 Add Test Loss 1.2156898530107905 Multi Test Loss 0.01935998282181959\n",
            "Epoch 3349 Train Loss 0.012489092762516666 Test Loss 0.5869159860609462 Add Test Loss 1.1577004120272412 Multi Test Loss 0.01613156009465123\n",
            "Epoch 3399 Train Loss 0.009549166939794797 Test Loss 0.5453507459883065 Add Test Loss 1.0783196151022043 Multi Test Loss 0.01238187687440859\n",
            "Epoch 3449 Train Loss 0.006733135336454819 Test Loss 0.5004683573476458 Add Test Loss 0.9920332828057951 Multi Test Loss 0.00890343188949641\n",
            "Epoch 3499 Train Loss 0.004535441651786793 Test Loss 0.4613893118835973 Add Test Loss 0.9166277536021707 Multi Test Loss 0.006150870165023786\n",
            "Epoch 3549 Train Loss 0.003009855688441702 Test Loss 0.42691198177692347 Add Test Loss 0.8496168269348285 Multi Test Loss 0.004207136619018561\n",
            "Epoch 3599 Train Loss 0.0019806562435496274 Test Loss 0.3944742462795256 Add Test Loss 0.7860826748698613 Multi Test Loss 0.002865817689189737\n",
            "Epoch 3649 Train Loss 0.0013089184273544967 Test Loss 0.37015024603421093 Add Test Loss 0.7383577654680514 Multi Test Loss 0.001942726600370477\n",
            "Epoch 3699 Train Loss 0.02414540688211336 Test Loss 0.3772939811693443 Add Test Loss 0.7198504974416913 Multi Test Loss 0.03473746489699728\n",
            "Epoch 3749 Train Loss 0.013131064757498168 Test Loss 0.30115724692398815 Add Test Loss 0.5835687113972756 Multi Test Loss 0.018745782450700757\n",
            "Epoch 3799 Train Loss 0.012007704460948058 Test Loss 0.28906788462458816 Add Test Loss 0.5626612482860959 Multi Test Loss 0.015474520963080511\n",
            "Epoch 3849 Train Loss 0.010145873989921658 Test Loss 0.2670422284420703 Add Test Loss 0.5217105453821501 Multi Test Loss 0.012373911501990525\n",
            "Epoch 3899 Train Loss 0.007922325615279483 Test Loss 0.23675095563041418 Add Test Loss 0.46388571138187806 Multi Test Loss 0.00961619987895033\n",
            "Epoch 3949 Train Loss 0.0057345398215229255 Test Loss 0.20310248859570873 Add Test Loss 0.3991129092051965 Multi Test Loss 0.0070920679862209735\n",
            "Epoch 3999 Train Loss 0.003930453117598408 Test Loss 0.17229260510767222 Add Test Loss 0.33959501394242253 Multi Test Loss 0.00499019627292192\n",
            "Epoch 4049 Train Loss 0.002621380623779136 Test Loss 0.14651998116147347 Add Test Loss 0.2896134759950095 Multi Test Loss 0.0034264863279373932\n",
            "Epoch 4099 Train Loss 0.0017377841116629632 Test Loss 0.12687447938086507 Add Test Loss 0.25141376203924004 Multi Test Loss 0.0023351967224901037\n",
            "Epoch 4149 Train Loss 0.0011493366923310876 Test Loss 0.11114077702104454 Add Test Loss 0.22069416770760125 Multi Test Loss 0.001587386334487856\n",
            "Epoch 4199 Train Loss 0.0007609188485883788 Test Loss 0.09959311201578426 Add Test Loss 0.19810896891916155 Multi Test Loss 0.0010772551124069725\n",
            "Epoch 4249 Train Loss 0.0005074155391707895 Test Loss 0.09102006539568624 Add Test Loss 0.18130490147436742 Multi Test Loss 0.0007352293170050499\n",
            "Epoch 4299 Train Loss 0.00033246067333279645 Test Loss 0.08329220793912502 Add Test Loss 0.16609077517291534 Multi Test Loss 0.0004936407053346783\n",
            "Epoch 4349 Train Loss 0.023745865231413397 Test Loss 0.23745227615681513 Add Test Loss 0.4483012056472752 Multi Test Loss 0.026603346666355034\n",
            "Epoch 4399 Train Loss 0.005152573106711524 Test Loss 0.10150229430008505 Add Test Loss 0.19602721961039016 Multi Test Loss 0.006977368989779896\n",
            "Epoch 4449 Train Loss 0.005412882721639406 Test Loss 0.09485919869369447 Add Test Loss 0.18298559910640871 Multi Test Loss 0.006732798280980195\n",
            "Epoch 4499 Train Loss 0.005177812375489215 Test Loss 0.08475710319031857 Add Test Loss 0.1633341307706998 Multi Test Loss 0.006180075609937334\n",
            "Epoch 4549 Train Loss 0.004443527967822382 Test Loss 0.07236147110172204 Add Test Loss 0.13945720625819374 Multi Test Loss 0.005265735945250343\n",
            "Epoch 4599 Train Loss 0.0034162740902609046 Test Loss 0.05872424430879579 Add Test Loss 0.11335960810480983 Multi Test Loss 0.004088880512781755\n",
            "Epoch 4649 Train Loss 0.0024280555687567393 Test Loss 0.04650615401952021 Add Test Loss 0.0900658272732502 Multi Test Loss 0.002946480765790233\n",
            "Epoch 4699 Train Loss 0.0016562022510897584 Test Loss 0.03651900937474391 Add Test Loss 0.07098971089929405 Multi Test Loss 0.0020483078501937545\n",
            "Epoch 4749 Train Loss 0.0011103772786789396 Test Loss 0.02899517285736716 Add Test Loss 0.05659253314790006 Multi Test Loss 0.0013978125668342575\n",
            "Epoch 4799 Train Loss 0.0007415749106322366 Test Loss 0.023448302795235073 Add Test Loss 0.045946574397412655 Multi Test Loss 0.0009500311930574916\n",
            "Epoch 4849 Train Loss 0.0004949885445454361 Test Loss 0.019676321024716715 Add Test Loss 0.0387087055455416 Multi Test Loss 0.0006439365038918247\n",
            "Epoch 4899 Train Loss 0.0003303581695867922 Test Loss 0.016627111167528838 Add Test Loss 0.03281813538684019 Multi Test Loss 0.0004360869482174968\n",
            "Epoch 4949 Train Loss 0.0002197577885923428 Test Loss 0.014781238373985416 Add Test Loss 0.029266999031729416 Multi Test Loss 0.00029547771624141415\n",
            "Epoch 4999 Train Loss 0.00014653867321468594 Test Loss 0.01353940308646823 Add Test Loss 0.026877929953264806 Multi Test Loss 0.00020087621967165094\n",
            "Epoch 5049 Train Loss 9.957857472137652e-05 Test Loss 0.012464349034327363 Add Test Loss 0.024790114226028573 Multi Test Loss 0.00013858384262615379\n",
            "Epoch 5099 Train Loss 0.16981857201504963 Test Loss 0.4739643683700899 Add Test Loss 0.8210143298737859 Multi Test Loss 0.12691440686639413\n",
            "Epoch 5149 Train Loss 0.0031868935773076124 Test Loss 0.04741859014274667 Add Test Loss 0.09034796259124818 Multi Test Loss 0.004489217694245153\n",
            "Epoch 5199 Train Loss 0.0031329033611032123 Test Loss 0.04008309967952442 Add Test Loss 0.07618773567953448 Multi Test Loss 0.003978463679514357\n",
            "Epoch 5249 Train Loss 0.00325109322794616 Test Loss 0.03532791717418071 Add Test Loss 0.06681932232260272 Multi Test Loss 0.003836512025758699\n",
            "Epoch 5299 Train Loss 0.003133597795743821 Test Loss 0.030332747144533947 Add Test Loss 0.05703410816642434 Multi Test Loss 0.0036313861226435697\n",
            "Epoch 5349 Train Loss 0.002718087875551352 Test Loss 0.025437826293101044 Add Test Loss 0.047703590321698554 Multi Test Loss 0.0031720622645035456\n",
            "Epoch 5399 Train Loss 0.0020877938629209466 Test Loss 0.02044989923790502 Add Test Loss 0.03842388169674258 Multi Test Loss 0.0024759167790674606\n",
            "Epoch 5449 Train Loss 0.0014774718476716457 Test Loss 0.015996989799377002 Add Test Loss 0.03021141286440783 Multi Test Loss 0.0017825667343461821\n",
            "Epoch 5499 Train Loss 0.0010069155277662256 Test Loss 0.012411791700248335 Add Test Loss 0.023588270716131614 Multi Test Loss 0.0012353126843650504\n",
            "Epoch 5549 Train Loss 0.0006777972240498639 Test Loss 0.00966557654401403 Add Test Loss 0.018485065705457854 Multi Test Loss 0.0008460873825702098\n",
            "Epoch 5599 Train Loss 0.0004546733256882371 Test Loss 0.007564074741093267 Add Test Loss 0.014551800794916064 Multi Test Loss 0.0005763486872704686\n",
            "Epoch 5649 Train Loss 0.00030385279384546323 Test Loss 0.00616865267194416 Add Test Loss 0.011945402013456879 Multi Test Loss 0.000391903330431439\n",
            "Epoch 5699 Train Loss 0.00020407514598155897 Test Loss 0.0051789867391527624 Add Test Loss 0.010091248285698165 Multi Test Loss 0.0002667251926073609\n",
            "Epoch 5749 Train Loss 0.00013725920267661896 Test Loss 0.004471348300158228 Add Test Loss 0.008760534384058187 Multi Test Loss 0.00018216221625826865\n",
            "Epoch 5799 Train Loss 9.148028230853637e-05 Test Loss 0.003719452612926441 Add Test Loss 0.007314991188729577 Multi Test Loss 0.0001239140371233053\n",
            "Epoch 5849 Train Loss 6.17500168600698e-05 Test Loss 0.003470547976632188 Add Test Loss 0.006856632726757321 Multi Test Loss 8.446322650705573e-05\n",
            "Epoch 5899 Train Loss 0.031158685700421206 Test Loss 0.14206997579944217 Add Test Loss 0.2548797625232588 Multi Test Loss 0.02926018907562558\n",
            "Epoch 5949 Train Loss 0.002691554267656819 Test Loss 0.02628981587848805 Add Test Loss 0.049001351000530984 Multi Test Loss 0.0035782807564451193\n",
            "Epoch 5999 Train Loss 0.0030183802153522024 Test Loss 0.02392159658742128 Add Test Loss 0.044237582589481454 Multi Test Loss 0.00360561058536111\n"
          ]
        }
      ],
      "source": [
        "num_epochs = 6000\n",
        "checkpoint_every = 50\n",
        "train_losses = []\n",
        "test_losses = []\n",
        "add_test_losses = []\n",
        "multi_test_losses = []\n",
        "model_checkpoints = []\n",
        "checkpoint_epochs = []\n",
        "if TRAIN_MODEL:\n",
        "    print(f\"Addition frac = {addition_frac}\")\n",
        "    for epoch in tqdm.tqdm(range(num_epochs)):\n",
        "        model.train()\n",
        "        train_logits = model(train_data)\n",
        "        train_loss = loss_fn(train_logits, train_labels)\n",
        "        train_loss.backward()\n",
        "        train_losses.append(train_loss.item())\n",
        "        optimizer.step()\n",
        "        optimizer.zero_grad()\n",
        "\n",
        "        model.eval()\n",
        "        with torch.inference_mode():\n",
        "            # General test loss\n",
        "            test_logits = model(test_data)\n",
        "            test_loss = loss_fn(test_logits, test_labels)\n",
        "            test_losses.append(test_loss.item())\n",
        "\n",
        "            if (epoch+1) % 10 == 0:\n",
        "                # Addition test loss\n",
        "                add_test_logits = model(add_test_data)\n",
        "                add_test_loss = loss_fn(add_test_logits, add_test_labels)\n",
        "                add_test_losses.append(add_test_loss.item())\n",
        "\n",
        "                # Multiplication test loss\n",
        "                multi_test_logits = model(multi_test_data)\n",
        "                multi_test_loss = loss_fn(multi_test_logits, multi_test_labels)\n",
        "                multi_test_losses.append(multi_test_loss.item())\n",
        "\n",
        "        if ((epoch+1)%checkpoint_every)==0:\n",
        "            checkpoint_epochs.append(epoch)\n",
        "            model_checkpoints.append(copy.deepcopy(model.state_dict()))\n",
        "            print(f\"Epoch {epoch} Train Loss {train_loss.item()} Test Loss {test_loss.item()} Add Test Loss {add_test_loss.item()} Multi Test Loss {multi_test_loss.item()}\")"
      ]
    },
    {
      "cell_type": "code",
      "execution_count": 184,
      "metadata": {
        "id": "UrvOo2Qs2UV7"
      },
      "outputs": [
        {
          "name": "stdout",
          "output_type": "stream",
          "text": [
            "len(train_losses) = 6000 len(test_losses) = 6000 len(model_checkpoints) = 120\n"
          ]
        }
      ],
      "source": [
        "PTH_LOCATION = \"../saves/check_point_50/grokking_add_multi_0.35.pth\"\n",
        "if TRAIN_MODEL:\n",
        "    # Create the directory if it does not exist\n",
        "    os.makedirs(Path(PTH_LOCATION).parent, exist_ok=True)\n",
        "    \n",
        "    print(f\"len(train_losses) = {len(train_losses)} len(test_losses) = {len(test_losses)} len(model_checkpoints) = {len(model_checkpoints)}\")\n",
        "    torch.save(\n",
        "        {\n",
        "            \"model\":model.state_dict(),\n",
        "            \"config\": model.cfg,\n",
        "            \"checkpoints\": model_checkpoints,\n",
        "            \"checkpoint_epochs\": checkpoint_epochs,\n",
        "            \"test_losses\": test_losses,\n",
        "            \"train_losses\": train_losses,\n",
        "            \"add_test_losses\": add_test_losses,\n",
        "            \"multi_test_losses\": multi_test_losses,\n",
        "            \"max_nums\": max_nums,\n",
        "            \"mod_value\": mod_value,\n",
        "            \"train_frac\": train_frac,\n",
        "            \"addition_frac\": addition_frac,\n",
        "            \"learning_rate\": lr,\n",
        "            \"weight_decay\": wd,\n",
        "            \"betas\": betas,\n",
        "            \"train_data\": train_data,\n",
        "            \"train_labels\": train_labels,\n",
        "            \"test_data\": test_data,\n",
        "            \"test_labels\": test_labels,\n",
        "        },\n",
        "        PTH_LOCATION)"
      ]
    },
    {
      "cell_type": "code",
      "execution_count": 311,
      "metadata": {
        "id": "tx5DVueg2UV7"
      },
      "outputs": [
        {
          "name": "stdout",
          "output_type": "stream",
          "text": [
            "train_frac = 0.5 addition_frac = 0.5\n",
            "len(train_losses) = 4000 len(test_losses) = 4000 len(model_checkpoints) = 40\n"
          ]
        }
      ],
      "source": [
        "LOAD_LOCATION = \"../saves/grokking_add_multi_0.5.pth\"\n",
        "if not TRAIN_MODEL:\n",
        "    cached_data = torch.load(LOAD_LOCATION, weights_only=False)\n",
        "    model.load_state_dict(cached_data['model'])\n",
        "    model_checkpoints = cached_data[\"checkpoints\"]\n",
        "    checkpoint_epochs = cached_data[\"checkpoint_epochs\"]\n",
        "    test_losses = cached_data['test_losses']\n",
        "    train_losses = cached_data['train_losses']\n",
        "    add_test_losses = cached_data['add_test_losses']\n",
        "    multi_test_losses = cached_data['multi_test_losses']\n",
        "    max_nums = cached_data['max_nums']\n",
        "    mod_value = cached_data['mod_value']\n",
        "    train_frac = cached_data['train_frac']\n",
        "    addition_frac = cached_data['addition_frac']\n",
        "    print(f\"train_frac = {train_frac} addition_frac = {addition_frac}\")\n",
        "    print(f\"len(train_losses) = {len(train_losses)} len(test_losses) = {len(test_losses)} len(model_checkpoints) = {len(model_checkpoints)}\")"
      ]
    },
    {
      "cell_type": "code",
      "execution_count": 380,
      "metadata": {},
      "outputs": [
        {
          "name": "stdout",
          "output_type": "stream",
          "text": [
            "test_loss = 0.10750396571662794\n"
          ]
        }
      ],
      "source": [
        "test_logits = model(test_data)\n",
        "test_loss = loss_fn(test_logits, test_labels)\n",
        "print(f\"test_loss = {test_loss}\")"
      ]
    },
    {
      "cell_type": "markdown",
      "metadata": {
        "id": "rHA9-QD52UV7"
      },
      "source": [
        "## Show Model Training Statistics, Check that it groks!"
      ]
    },
    {
      "cell_type": "code",
      "execution_count": 183,
      "metadata": {
        "id": "mHu_Yz8i2UV7",
        "outputId": "ff53e647-20f1-4a7d-8dae-f680164305f0"
      },
      "outputs": [
        {
          "data": {
            "text/html": [
              "        <script type=\"text/javascript\">\n",
              "        window.PlotlyConfig = {MathJaxConfig: 'local'};\n",
              "        if (window.MathJax && window.MathJax.Hub && window.MathJax.Hub.Config) {window.MathJax.Hub.Config({SVG: {font: \"STIX-Web\"}});}\n",
              "        if (typeof require !== 'undefined') {\n",
              "        require.undef(\"plotly\");\n",
              "        requirejs.config({\n",
              "            paths: {\n",
              "                'plotly': ['https://cdn.plot.ly/plotly-2.35.0.min']\n",
              "            }\n",
              "        });\n",
              "        require(['plotly'], function(Plotly) {\n",
              "            window._Plotly = Plotly;\n",
              "        });\n",
              "        }\n",
              "        </script>\n",
              "        "
            ]
          },
          "metadata": {},
          "output_type": "display_data"
        },
        {
          "data": {
            "text/html": [
              "<div>                            <div id=\"ad256fba-2549-4d7f-9187-c2a86ab4768d\" class=\"plotly-graph-div\" style=\"height:525px; width:100%;\"></div>            <script type=\"text/javascript\">                require([\"plotly\"], function(Plotly) {                    window.PLOTLYENV=window.PLOTLYENV || {};                                    if (document.getElementById(\"ad256fba-2549-4d7f-9187-c2a86ab4768d\")) {                    Plotly.newPlot(                        \"ad256fba-2549-4d7f-9187-c2a86ab4768d\",                        [{\"hovertemplate\":\"Color=train loss\\u003cbr\\u003eEpoch=%{x}\\u003cbr\\u003eLoss=%{y}\\u003cextra\\u003e\\u003c\\u002fextra\\u003e\",\"legendgroup\":\"0\",\"line\":{\"color\":\"#636efa\",\"dash\":\"solid\"},\"marker\":{\"symbol\":\"circle\"},\"mode\":\"lines\",\"name\":\"train loss\",\"showlegend\":true,\"x\":[0,10,20,30,40,50,60,70,80,90,100,110,120,130,140,150,160,170,180,190,200,210,220,230,240,250,260,270,280,290,300,310,320,330,340,350,360,370,380,390,400,410,420,430,440,450,460,470,480,490,500,510,520,530,540,550,560,570,580,590,600,610,620,630,640,650,660,670,680,690,700,710,720,730,740,750,760,770,780,790,800,810,820,830,840,850,860,870,880,890,900,910,920,930,940,950,960,970,980,990,1000,1010,1020,1030,1040,1050,1060,1070,1080,1090,1100,1110,1120,1130,1140,1150,1160,1170,1180,1190,1200,1210,1220,1230,1240,1250,1260,1270,1280,1290,1300,1310,1320,1330,1340,1350,1360,1370,1380,1390,1400,1410,1420,1430,1440,1450,1460,1470,1480,1490,1500,1510,1520,1530,1540,1550,1560,1570,1580,1590,1600,1610,1620,1630,1640,1650,1660,1670,1680,1690,1700,1710,1720,1730,1740,1750,1760,1770,1780,1790,1800,1810,1820,1830,1840,1850,1860,1870,1880,1890,1900,1910,1920,1930,1940,1950,1960,1970,1980,1990,2000,2010,2020,2030,2040,2050,2060,2070,2080,2090,2100,2110,2120,2130,2140,2150,2160,2170,2180,2190,2200,2210,2220,2230,2240,2250,2260,2270,2280,2290,2300,2310,2320,2330,2340,2350,2360,2370,2380,2390,2400,2410,2420,2430,2440,2450,2460,2470,2480,2490,2500,2510,2520,2530,2540,2550,2560,2570,2580,2590,2600,2610,2620,2630,2640,2650,2660,2670,2680,2690,2700,2710,2720,2730,2740,2750,2760,2770,2780,2790,2800,2810,2820,2830,2840,2850,2860,2870,2880,2890,2900,2910,2920,2930,2940,2950,2960,2970,2980,2990,3000,3010,3020,3030,3040,3050,3060,3070,3080,3090,3100,3110,3120,3130,3140,3150,3160,3170,3180,3190,3200,3210,3220,3230,3240,3250,3260,3270,3280,3290,3300,3310,3320,3330,3340,3350,3360,3370,3380,3390,3400,3410,3420,3430,3440,3450,3460,3470,3480,3490,3500,3510,3520,3530,3540,3550,3560,3570,3580,3590,3600,3610,3620,3630,3640,3650,3660,3670,3680,3690,3700,3710,3720,3730,3740,3750,3760,3770,3780,3790,3800,3810,3820,3830,3840,3850,3860,3870,3880,3890,3900,3910,3920,3930,3940,3950,3960,3970,3980,3990,4000,4010,4020,4030,4040,4050,4060,4070,4080,4090,4100,4110,4120,4130,4140,4150,4160,4170,4180,4190,4200,4210,4220,4230,4240,4250,4260,4270,4280,4290,4300,4310,4320,4330,4340,4350,4360,4370,4380,4390,4400,4410,4420,4430,4440,4450,4460,4470,4480,4490,4500,4510,4520,4530,4540,4550,4560,4570,4580,4590,4600,4610,4620,4630,4640,4650,4660,4670,4680,4690,4700,4710,4720,4730,4740,4750,4760,4770,4780,4790,4800,4810,4820,4830,4840,4850,4860,4870,4880,4890,4900,4910,4920,4930,4940,4950,4960,4970,4980,4990,5000,5010,5020,5030,5040,5050,5060,5070,5080,5090,5100,5110,5120,5130,5140,5150,5160,5170,5180,5190,5200,5210,5220,5230,5240,5250,5260,5270,5280,5290,5300,5310,5320,5330,5340,5350,5360,5370,5380,5390,5400,5410,5420,5430,5440,5450,5460,5470,5480,5490,5500,5510,5520,5530,5540,5550,5560,5570,5580,5590,5600,5610,5620,5630,5640,5650,5660,5670,5680,5690,5700,5710,5720,5730,5740,5750,5760,5770,5780,5790,5800,5810,5820,5830,5840,5850,5860,5870,5880,5890,5900,5910,5920,5930,5940,5950,5960,5970,5980,5990],\"xaxis\":\"x\",\"y\":[5.075778397120251,4.6614931385026805,4.594571058495281,4.523762075174563,4.379269888263551,4.153821369216749,3.8412347426952835,3.4588802878588045,3.061864482435241,2.6689188264585315,2.29721201848172,1.9628027865967237,1.6598168216710394,1.4043993858628354,1.166468847421968,0.9725296612906651,0.8001359434515771,0.6586513066013033,0.5364000323182909,0.4390714143523918,0.35575779108504657,0.29330918199650896,0.23970601288613327,0.19925482239518688,0.16696196457489879,0.14254010628268993,0.12199794003834412,0.10541423184224728,0.0919532446860333,0.08137432944580855,0.07127103526578552,0.06335496390562727,0.057038456378930305,0.05055052101141234,0.045328156611815516,0.041251880948163525,0.03710564268384964,0.03323910323924435,0.030170386154824858,0.027675863966498453,0.025098944939982062,0.022806728572003474,0.021233928142084156,0.018900865707394833,0.017350921378641103,0.016077325054075307,0.014420249855532627,0.013335978469205523,0.01265641088089463,0.012799208745367616,0.010371433340873384,0.009382647773370825,0.008583529601575777,0.007955690657556627,0.007585176200336641,0.006835158473837471,0.0065026745014691795,0.0059530973067832525,0.0052738524472109,0.012735924979523788,0.1193507270038116,0.04425925214435598,0.022388817303522924,0.014933065482638754,0.012234372019309653,0.011292460905281713,0.011134951206752466,0.011252858793033569,0.011436151542078084,0.01158165208168857,0.011639980846515047,0.011594148661961793,0.011443046530254726,0.011191718212153895,0.010857150614715799,0.010455951341146574,0.010003585806274378,0.009520239404599222,0.00901252961823463,0.008499904251796291,0.007987688874553157,0.007490563170014318,0.006986276572210284,0.006557066073000685,0.006151843910894615,0.005652707458419728,0.005218166481154326,0.0049014121898255155,0.004587527542635169,0.0043947525320488685,0.0038725485942960945,0.0035271735455010005,0.0043001200108722295,0.3908440234076823,0.10776753663484857,0.04297891988534256,0.02382477787589696,0.017423349149335052,0.015110795124483508,0.014391599231401223,0.01434771247176495,0.014543401841586109,0.014785527484318257,0.014976773172465256,0.0150658554425387,0.015037930304172395,0.014888505260977864,0.014620129226206417,0.014247524021619428,0.01378383840870205,0.013247835101687035,0.01265738293771434,0.012032996307246888,0.011393596415636458,0.010743177132440105,0.010108014895931935,0.009459381622753203,0.008940661760190339,0.008326179908494801,0.00766628758510671,0.007245468389001656,0.006841406421951681,0.006442855804852637,0.005919344829458256,0.005693101843063466,1.0121125591401023,0.3041757991305735,0.1106450272051076,0.05260933213389806,0.03418551035525907,0.02704449815555027,0.02418810935101195,0.022994968153017423,0.022488044882553883,0.022233360354073608,0.02200838375663105,0.02173430219844421,0.02137209835501579,0.02090869609264035,0.020340926091012436,0.019686866947178725,0.018961517149653086,0.018186122099452202,0.017344118276526148,0.01654175303188051,0.015628537687180418,0.014734820664813434,0.014004704842480037,0.01345332111901571,0.012654929040326687,0.014074212461649558,0.851165584950167,0.3054567671293125,0.11733977677771024,0.060311074039826586,0.040723085905690765,0.03264139699846666,0.02907495412891848,0.027346259092219105,0.026376143386350057,0.02566673720987645,0.025013755129679207,0.02433210430572265,0.023578537890571027,0.022747555025444757,0.02184401592627713,0.020875428769673528,0.019871972961594885,0.018859709013589795,0.01780560070742809,0.017236095443813795,0.015922499592119145,0.015362735337741662,0.025830423063541764,0.44573281341608845,0.14403387249411656,0.062345580309839596,0.03713957267503121,0.027306949498628073,0.023324197432188176,0.02163561023393887,0.02083965660569384,0.020362036915333392,0.01994536798067136,0.0194908875736026,0.01894772165022656,0.018311418538274865,0.017578073229049307,0.016781773249542657,0.015930099481846864,0.01507898034547793,0.01420745161991174,0.013286884198066083,0.012477511222560527,0.011705319638351086,0.010886114601456156,0.010978847411880049,0.009277651248525897,0.008425103626476835,2.6563178705213653,0.41904021428851956,0.1388653409738801,0.05842460409337465,0.034117470027051365,0.025256393907871565,0.021757671379110027,0.020314975354270525,0.019727068616320228,0.019436085959841996,0.019196813424574192,0.0188957490612867,0.01849902477154096,0.01799804269266563,0.017405846605578916,0.01673369739550426,0.015992709747045454,0.01521579575352015,0.014397010170048552,0.01359073514925445,0.012752704764077225,0.011959029349190147,0.011187999985672903,0.010433162392774583,0.009678097636713222,0.008940822219603054,0.008285064086061025,0.007638349194696673,0.0072428677001947816,0.0065096018195001815,0.005996422623658271,0.005447522839790166,0.0051302894383798885,1.390295354036412,0.4422486447175522,0.13416759525430605,0.054136009151858955,0.030243617865701112,0.021852745108406783,0.018519892356467962,0.017252385652934726,0.016799122639883014,0.016627322529567647,0.016513207182562724,0.01635553082104974,0.016111680383363396,0.01577122520725596,0.015340393122948489,0.014828731456322046,0.014253329329633245,0.013628195635524745,0.012970976592397184,0.012294365547395776,0.01160619508139645,0.010921168965882052,0.010235902245688615,0.009566742559633041,0.008923647665630235,0.008304252406295912,0.007702717364205353,0.007154067556700852,0.006618140499198077,0.006130455879019074,0.0056791557303487745,0.005212998415119974,0.004786207083629907,0.004486109239325758,0.004039896208989973,0.003708483622508815,0.0035398672600557924,0.003161684015731548,0.002928038164631556,0.00270996252370169,0.002456725468306408,0.002370123973684824,0.002101822391310126,0.0018915375711900185,0.0017457345692496555,0.0016439481916204943,2.000513832584369,0.3855920053864076,0.1157801839419766,0.04741602351360367,0.02741185140430652,0.02010545524445634,0.017197384575433922,0.016082124517667874,0.01565428974784277,0.015478522832455896,0.015375539876263167,0.015250851886751822,0.015067524462104583,0.01482386427449826,0.014515589791999095,0.014140909521902395,0.013710352414838466,0.013230784060742143,0.012710297932145863,0.01215797881069682,0.011583035414685661,0.010995878982746565,0.01040242833951773,0.009812408338556436,0.009229721614937613,0.008654116416226463,0.008096632276726386,0.007560581676813521,0.007037105053410247,0.006537526292886063,0.006062406146405169,0.005613295939536714,0.005189940981394236,0.004806178443814251,0.004419149157077955,0.00408669738288085,0.0037529237550391298,0.0034633715829986474,0.0032261295023859704,1.739865779661388,0.3226610639670975,0.1067555147337924,0.04679377795820678,0.02660602287861767,0.01961313987579255,0.016928577654196947,0.01582553239391424,0.01540937047759905,0.015243048526301341,0.015138142866230357,0.01500824088302612,0.014823035452241687,0.014573877514483845,0.014260248021462796,0.013883459851409449,0.013446753543769093,0.01296061986737946,0.012435014898990432,0.011878978824476069,0.011297606030506831,0.010699033854514359,0.010093897113728779,0.009489069859811773,0.008893409705158757,0.008309827658797606,0.007744681611865841,0.007201375500125745,0.0066826341303782765,0.0061890685180334476,0.005725829069085261,0.005288042611968715,0.004880048950109969,0.004499981602545952,0.004149417884344699,0.003819506426252194,0.0035142419013761547,0.0032350599751969264,0.002980203105410929,0.002743301538395726,0.0025220484895614186,0.002320560733316189,0.002141646240522263,0.001962655890397876,0.0018021806381078647,0.0016641146497974287,0.001529122041657075,0.0014033785834402682,0.0013023157947786065,1.631956809867751,0.26799272420668063,0.09453771765173878,0.03822173750829224,0.023184923319490777,0.017056913609800394,0.0146765262687784,0.013710214147518919,0.01331400438751134,0.013114569964664433,0.01295404775313894,0.012768703935135567,0.01253987304424308,0.012275365866777955,0.011976258312659485,0.011646719643154222,0.01129183404120471,0.010914991815303744,0.010518506312424125,0.0101036495790819,0.009673893248760194,0.009234753272569247,0.008787227886084185,0.008332865903840546,0.007876773290249434,0.007422660491605333,0.006974082778638675,0.006534354658285079,0.006107186949358659,0.005693823836042242,0.005296490131296175,0.004917237756643339,0.004557836201193331,0.004218665245206006,0.0038994444509134665,0.003600119675348301,0.0033205799205872737,0.0030611858087064505,0.002821309881250833,0.0025998701975287718,0.0023949326826769144,0.002206851332835789,0.0020322571513464002,0.0018722271670366403,0.001723071767376243,0.0015870334806617936,0.0014617670711681418,0.0013447663104755965,0.001238006376832197,0.001140819298386118,0.0010489844316900815,0.0009666728985385954,0.000888782315746747,0.000822062540556994,0.0007575981422844987,0.000696825948048439,0.0006451634986979854,0.000595227645085866,0.0005440145375561222,0.000504331402877155,0.00046146269470037486,0.0004256450794963667,0.0004078426092690093,0.0003649492463454568,0.0003298378369473953,0.0003066039751132484,0.00029937921593030983,0.21564135839683884,0.06329587433792311,0.021556172059339008,0.01082646154575848,0.00712905110224344,0.005739784503051544,0.005249070631954656,0.005150254085083888,0.005184389385781397,0.005262618732543406,0.005337023261082778,0.005389463122129364,0.005414150759818384,0.0054120250350265684,0.005384480517984469,0.005333604418863351,0.00526155788301606,0.005167507407175181,0.005054336947241739,0.0049232924037718295,0.0047736338589191045,0.004606672420469748,0.0044247224504854596,0.0042305314258825315,0.004027466020520557,0.0038187457353487495,0.003607095680756538,0.003395151853207649,0.0031858245853712453,0.0029810787578622767,0.002782921808744117,0.0025923250467986296,0.002410277225434529,0.002237553018367807,0.0020745254346775863,0.001921095778285013,0.0017772892715190725,0.001643151407277919,0.0015181575606999563,0.0014018008443677226,0.0012939281511767878,0.0011941213693000153,0.0011014676528583874,0.0010163207421669993,0.000937228730466827,0.0008648275556429369,0.0007973912114432196,0.0007358226080226941,0.0006782210810920287,0.0006257134275065052,0.0005768301274160878,0.0005319128518322558,0.0004906102107055776,0.0004521360517750877,0.0004176222159476139,0.0003842224822024255,0.0003550132310831918,0.0003275415113165391,0.0003013098066568579,0.0002785958363287178,0.00025799444959250244,0.0002367645786123496,0.00021796230037841646,0.0002021858910106738,0.00018665999836695282,0.00017163203523871886,0.00015793415813050317,0.00014561225583420082,0.0001351810280874903,0.00012497923399342855,0.0001146796333531487,0.00010610443472587104,9.869645263449245e-05,9.070122709876789e-05,8.340877566362503e-05,7.897873463460962e-05,8.119164917362614e-05,0.15273409941598057,0.03165643766293879,0.010771841804941468,0.005516347994774816,0.003780103843117556,0.003147781249037078,0.0029427692120808585,0.00293914789597747,0.0030020613181464396,0.0030755954407118364,0.003138477264009254,0.003186248411362181,0.003219955095672186,0.003240531364929697,0.0032501407880203546,0.0032508061175552873,0.0032433452194001312,0.00322868716854643,0.0032061001217827023,0.0031733284442370634,0.0031285114215747287,0.0030707362567513248,0.002998963532565144,0.002913749623798833,0.002815759464508128,0.0027067559835374706,0.0025888729646729993,0.0024645987936965414,0.002336128790664798,0.002205488040144168,0.0020747560041380745,0.0019454689121763183,0.0018189251232662372,0.0016962821011495361,0.0015785690032789714,0.0014665366305504004,0.0013606084583918585,0.0012609349588259043,0.0011676239775748247,0.0010804929000220176,0.0009990674301926293,0.0009236140090263698,0.0008534471658173712,0.0007882994966738913,0.0007280884349664636,0.0006725769441781129,0.0006205704675003734,0.0005729790142517521,0.0005288342445758491,0.0004886188465955013,0.0004512593609992134,0.0004155835360129162,0.0003843748735097149,0.00035529885524766987,0.0003270737160933074,0.00030149604953788654,0.00027924847582836906,0.00025644175947728753,0.00023785149213806605,0.00022007433449019214,0.00020227897821656135,0.00018788010025474816,0.00017248542647057026,0.00015922841537362178,0.0001464504881810847,0.00013643781297785956,0.0001251700253497459,0.00011620279246569209,0.00010637203862568963,9.845916986564388e-05,9.09224692941797e-05,8.800983637185229e-05,7.707457769255564e-05,7.137392135787409e-05,6.57869147853042e-05,6.107254020922459e-05,5.6703188436215595e-05,5.261093045844081e-05,5.1369679128685426e-05,0.10740562146952558,0.02679005281197478,0.01021027354765126,0.004946005384971523,0.0033930912586220513,0.0028333514359407982,0.0026856994206048064,0.0026938519395046647,0.0027683263304567945,0.002860130449346778,0.0029478141149247438],\"yaxis\":\"y\",\"type\":\"scattergl\"},{\"hovertemplate\":\"Color=test loss\\u003cbr\\u003eEpoch=%{x}\\u003cbr\\u003eLoss=%{y}\\u003cextra\\u003e\\u003c\\u002fextra\\u003e\",\"legendgroup\":\"1\",\"line\":{\"color\":\"#EF553B\",\"dash\":\"solid\"},\"marker\":{\"symbol\":\"circle\"},\"mode\":\"lines\",\"name\":\"test loss\",\"showlegend\":true,\"x\":[0,10,20,30,40,50,60,70,80,90,100,110,120,130,140,150,160,170,180,190,200,210,220,230,240,250,260,270,280,290,300,310,320,330,340,350,360,370,380,390,400,410,420,430,440,450,460,470,480,490,500,510,520,530,540,550,560,570,580,590,600,610,620,630,640,650,660,670,680,690,700,710,720,730,740,750,760,770,780,790,800,810,820,830,840,850,860,870,880,890,900,910,920,930,940,950,960,970,980,990,1000,1010,1020,1030,1040,1050,1060,1070,1080,1090,1100,1110,1120,1130,1140,1150,1160,1170,1180,1190,1200,1210,1220,1230,1240,1250,1260,1270,1280,1290,1300,1310,1320,1330,1340,1350,1360,1370,1380,1390,1400,1410,1420,1430,1440,1450,1460,1470,1480,1490,1500,1510,1520,1530,1540,1550,1560,1570,1580,1590,1600,1610,1620,1630,1640,1650,1660,1670,1680,1690,1700,1710,1720,1730,1740,1750,1760,1770,1780,1790,1800,1810,1820,1830,1840,1850,1860,1870,1880,1890,1900,1910,1920,1930,1940,1950,1960,1970,1980,1990,2000,2010,2020,2030,2040,2050,2060,2070,2080,2090,2100,2110,2120,2130,2140,2150,2160,2170,2180,2190,2200,2210,2220,2230,2240,2250,2260,2270,2280,2290,2300,2310,2320,2330,2340,2350,2360,2370,2380,2390,2400,2410,2420,2430,2440,2450,2460,2470,2480,2490,2500,2510,2520,2530,2540,2550,2560,2570,2580,2590,2600,2610,2620,2630,2640,2650,2660,2670,2680,2690,2700,2710,2720,2730,2740,2750,2760,2770,2780,2790,2800,2810,2820,2830,2840,2850,2860,2870,2880,2890,2900,2910,2920,2930,2940,2950,2960,2970,2980,2990,3000,3010,3020,3030,3040,3050,3060,3070,3080,3090,3100,3110,3120,3130,3140,3150,3160,3170,3180,3190,3200,3210,3220,3230,3240,3250,3260,3270,3280,3290,3300,3310,3320,3330,3340,3350,3360,3370,3380,3390,3400,3410,3420,3430,3440,3450,3460,3470,3480,3490,3500,3510,3520,3530,3540,3550,3560,3570,3580,3590,3600,3610,3620,3630,3640,3650,3660,3670,3680,3690,3700,3710,3720,3730,3740,3750,3760,3770,3780,3790,3800,3810,3820,3830,3840,3850,3860,3870,3880,3890,3900,3910,3920,3930,3940,3950,3960,3970,3980,3990,4000,4010,4020,4030,4040,4050,4060,4070,4080,4090,4100,4110,4120,4130,4140,4150,4160,4170,4180,4190,4200,4210,4220,4230,4240,4250,4260,4270,4280,4290,4300,4310,4320,4330,4340,4350,4360,4370,4380,4390,4400,4410,4420,4430,4440,4450,4460,4470,4480,4490,4500,4510,4520,4530,4540,4550,4560,4570,4580,4590,4600,4610,4620,4630,4640,4650,4660,4670,4680,4690,4700,4710,4720,4730,4740,4750,4760,4770,4780,4790,4800,4810,4820,4830,4840,4850,4860,4870,4880,4890,4900,4910,4920,4930,4940,4950,4960,4970,4980,4990,5000,5010,5020,5030,5040,5050,5060,5070,5080,5090,5100,5110,5120,5130,5140,5150,5160,5170,5180,5190,5200,5210,5220,5230,5240,5250,5260,5270,5280,5290,5300,5310,5320,5330,5340,5350,5360,5370,5380,5390,5400,5410,5420,5430,5440,5450,5460,5470,5480,5490,5500,5510,5520,5530,5540,5550,5560,5570,5580,5590,5600,5610,5620,5630,5640,5650,5660,5670,5680,5690,5700,5710,5720,5730,5740,5750,5760,5770,5780,5790,5800,5810,5820,5830,5840,5850,5860,5870,5880,5890,5900,5910,5920,5930,5940,5950,5960,5970,5980,5990],\"xaxis\":\"x\",\"y\":[4.917083428397524,4.730989437063308,4.724476567808458,4.808627616216523,4.9163849517316764,4.991578413177005,5.015907714882274,4.992981386050652,4.948084182561389,4.896761646726625,4.847061665826453,4.807843483705645,4.776157083989077,4.757102612810812,4.745054115635495,4.740835872740391,4.742144563817443,4.750723004287774,4.7539800047587475,4.770355841723265,4.7817813101219055,4.797126700354116,4.808184246381529,4.826153319195952,4.837451671245922,4.851794096440766,4.859964343299814,4.86641008376538,4.871989840867021,4.877923008569584,4.881526288149874,4.8816693869102,4.884546641879261,4.882537411940142,4.882248682466711,4.8823027115002136,4.881366192364274,4.873301924099184,4.870869944562323,4.869078446374405,4.86657727131652,4.856807052506756,4.851568515517208,4.849724957535549,4.843718799484105,4.839042970812982,4.831615067422193,4.83114608635612,4.83046978679325,4.829769661560971,4.815739343097208,4.809546730890167,4.808080766195749,4.803156125202593,4.803126829142761,4.799177149441249,4.801638070392693,4.790638874782191,4.785641493196511,5.638610251283208,4.968112868007082,4.749329910340894,4.6882458202497554,4.640720451009849,4.600360575994358,4.564378861127027,4.536269414757858,4.515590932971286,4.49587962011233,4.478900121165967,4.465481962016933,4.454778881693859,4.445608491212761,4.438723157050856,4.433360039711756,4.4298650648281495,4.427363069861676,4.426531983746526,4.42700959743262,4.427380529747632,4.428443038122979,4.4303394354139245,4.431798133359241,4.432790139746521,4.435887479155568,4.43648376389321,4.437818656492912,4.442954640394479,4.440860543874932,4.447563595197411,4.4447808752433025,4.442886552739245,4.515536260410967,4.409004365774999,4.321478943908222,4.180039708648171,4.128032862427301,4.077748863139043,4.048280211070733,4.01796751151014,3.9907563182379366,3.967512821571704,3.9470127506902015,3.927277747995956,3.909302006554399,3.8934810820150014,3.878957355473846,3.8653829005127576,3.853616717441345,3.8430069816297756,3.8332344490702086,3.8234046215178914,3.8138861468159333,3.8059386756299403,3.798515188717079,3.7900734765687147,3.781720471349644,3.7768804367002007,3.7669074479997184,3.7597303366548913,3.757045425886133,3.745641297041886,3.7427100954141674,3.7400710886974604,3.741546169789837,3.849057383260547,3.726048210852354,3.5733948455204616,3.512187265987264,3.468324114585797,3.437845848483866,3.4067984513680662,3.3800028093853496,3.356654755569368,3.332950327466542,3.3111990192579084,3.2918552264678147,3.273079433071697,3.255930647626347,3.2391674100156727,3.224415232289555,3.2097704896838612,3.1951676758779355,3.1819020927256703,3.172053358885544,3.159365142062291,3.1470297196522496,3.143568773784572,3.125368831348052,3.1257698945654266,3.157005929960435,3.425383529716385,3.214248574767758,3.1219898951239164,3.0578326155645232,3.018185652018689,2.985263756605006,2.9582813946044233,2.9363732198855175,2.9134768751144793,2.8935043214801217,2.874042430130795,2.8568839455988218,2.841151596073457,2.825654873215071,2.812817238339024,2.7994295478392304,2.7871291711667596,2.7762341218340256,2.7665690970743206,2.7666572895813273,2.7540962922236067,2.7509418866280786,3.0159809417174133,3.1216403043509255,2.8980763746923643,2.79278747565254,2.7479772875623203,2.7142318785052515,2.688672576499991,2.6641494396460472,2.6437835828564196,2.6255425727355184,2.607314660976985,2.590004590379359,2.5741970115476764,2.558614194787512,2.545756090598594,2.534311120488266,2.525186307348637,2.51331350811664,2.5040384300089675,2.4970257976301573,2.485879786407342,2.481518741534213,2.4680800329320842,2.4590161539168167,2.4670589618230983,2.457508392854691,3.7056720443405378,2.8283569474649704,2.5538864314309153,2.452471077183716,2.3947285450147717,2.3620519404794997,2.3323937202450358,2.307955156478329,2.2874836479371283,2.2676656914198765,2.249946416478934,2.232236613052722,2.2151277028977607,2.199067406764429,2.18362545860645,2.1693742521724175,2.1550842022115275,2.1406986419477243,2.127474910396422,2.1177795228917766,2.106485891643639,2.093729155174402,2.088492492021386,2.07428263401198,2.0660215446111474,2.060016144431162,2.047264161764662,2.040258609066123,2.039374836488854,2.034230502113159,2.026185728512508,2.0214598216323654,2.0147056449157867,4.05356195579627,2.381502704452886,2.0396658244873382,1.8732218212713467,1.8041553108261785,1.7787020504280655,1.7583457494053174,1.7433487365870615,1.7286115450908877,1.714309338346118,1.701149867087033,1.688515454347724,1.6762207943222618,1.6635872234870175,1.6505167337470719,1.637138704529725,1.6244365099459377,1.611836144094096,1.5992829725139737,1.5877187595936664,1.5748837470155872,1.5626504686868796,1.5520419230424327,1.54158190985143,1.529119965041104,1.519402607064036,1.5062352159596228,1.4983925527852426,1.4880088589248814,1.4783575375302305,1.4704749394551722,1.4599959075440863,1.4528434396744099,1.4423993748250423,1.4346078355575256,1.4315480230729474,1.426099071493705,1.4133810064742427,1.4126720490414602,1.408199280248821,1.3996650983664198,1.4027758874230345,1.3843557774006325,1.3862064662131972,1.379097222788003,1.3784582696897052,3.2103428006480144,1.7297357496565147,1.3848180351538495,1.228158468507113,1.1644969660639355,1.1193068663843744,1.0979638835203644,1.0933018135383166,1.085964852738521,1.081121426584774,1.0758775526881323,1.0701472661238893,1.0641408680370357,1.057625051239232,1.050441106391375,1.042615283840682,1.0336348386510352,1.0244579247888215,1.0148646144999616,1.0048881663725457,0.9944603167092786,0.9838634557018874,0.9726536926346938,0.9617133638457256,0.9512637053462424,0.9403810715352842,0.9308313327043268,0.9207884593862995,0.9104504187357109,0.8998718949285401,0.8912553324764849,0.8832151050578546,0.8725716318076908,0.8663570525652019,0.8584205961853248,0.8514975463669051,0.8443878056861854,0.8406563341324513,0.8301626149814184,3.2968843114434803,1.2692417779124276,0.9382110217417913,0.7741245093774332,0.688144658727097,0.6503558665605392,0.6358022174228839,0.6290947025310251,0.627317491795827,0.6270674660907077,0.625851531589002,0.6236796064328207,0.6208480146703115,0.6171293653105498,0.6124492423824709,0.6070171133468024,0.6006753751993222,0.5936584809109979,0.586170524163306,0.5784116278948455,0.5702557383272363,0.5620423521472816,0.5536037544819075,0.5444558000037311,0.5350643748517112,0.5258965519640035,0.5171081250260372,0.5083770506972172,0.49976917076770466,0.49187637613232466,0.4837270395758002,0.47593038975577434,0.46838526012186127,0.4612449705223546,0.45309583332460457,0.4456813722236222,0.4388248200069763,0.4319636237150248,0.4251831232510076,0.41939733543294744,0.41214360698735353,0.4075959222170412,0.4018896575176725,0.3961485914365428,0.38899820215701536,0.3840449689176007,0.3790842228730967,0.37468541407460243,0.3707626157926032,3.638642666207852,0.9462911739441022,0.6136501283360799,0.44339161437741553,0.37101970173807863,0.32848117796499576,0.31311132669871394,0.30584148803090644,0.30281707322057694,0.30096092158945015,0.2993018680693372,0.29737845663410395,0.29485298148865674,0.29192278984945036,0.2887383628680511,0.2852387674194143,0.281277395857478,0.27671951392590893,0.271797066302507,0.2665065106014996,0.26081023673774634,0.254930135184923,0.24891550721840155,0.24249546484611306,0.2361140454742344,0.22955117608358008,0.22267413266224445,0.21577496236538143,0.20909329833589393,0.202481100040084,0.1959825083350572,0.18964218940471977,0.1834519203191982,0.17751671611679018,0.17170406715310849,0.16624407225905288,0.16099247709154024,0.1558420440089352,0.1507915932642696,0.1463018832588504,0.14187482808052354,0.13753179729533957,0.13389800088884254,0.12996180790091053,0.12640686178103575,0.12307095591033637,0.11984778565292273,0.11680732390175862,0.1138454837478607,0.11150441397971833,0.10880020642257698,0.10583684152481317,0.10358182733015309,0.10194184387175453,0.0999788851680605,0.0972746235324824,0.09574829518995959,0.09369165183527244,0.09149978246849878,0.08967261235380902,0.0890127730067333,0.08766578214909178,0.08891974577445043,0.08484568244789431,0.08246200516961037,0.0813104613633464,0.08779877559460876,0.7507886285566739,0.36769386421641165,0.22860598252231745,0.15910848367876448,0.12510579565781643,0.11110011498349656,0.10356139859575637,0.10130811987716258,0.09941221273809445,0.09867373667502287,0.09762217411647894,0.09628063250729997,0.09468861323055416,0.09289838840083495,0.0910019101533764,0.08893730367614103,0.08677340111755366,0.08452854965033102,0.08220604129892049,0.07975933681985294,0.0772936949532128,0.07476781477797706,0.07208029431680327,0.06926389492671246,0.06656494494654967,0.06383943544605411,0.06112383402790659,0.058465271336171645,0.05590469575588286,0.05341071578472863,0.050980476874641086,0.0485711062151004,0.04629481880336784,0.04408536523196982,0.04199734801940913,0.040001117554744774,0.03813393726594471,0.036370119142567034,0.03470618628888236,0.03310884215740788,0.031625388437218675,0.030164322663882772,0.02882783518006231,0.027629193880020952,0.02646961029734419,0.025326229163816764,0.024350868357664267,0.02348312278005612,0.022484623642044,0.02159707417465918,0.020906501790805943,0.020254655360858156,0.019479874461136287,0.01881223647965322,0.018384773200457474,0.017751154346748857,0.01707702331064085,0.016748522765742076,0.01627417101767886,0.01567825160431581,0.015567760458472803,0.015033790867211643,0.014587743971736315,0.014674121952625574,0.013931962784290255,0.013958451968658895,0.013643193651530869,0.0132102785099573,0.013504117565723608,0.012896271792452872,0.012805057456764708,0.01267276092798101,0.012739963609555453,0.012205767396565443,0.012541390165290756,0.012402565559784796,0.015484532772612528,0.4342565114676368,0.18811884652219898,0.1015117565830206,0.07009462083993487,0.05434076298677824,0.04690926825835425,0.043736027184851214,0.04225218841787288,0.041391991997131984,0.04074182184506884,0.04000779669732412,0.039158566068154925,0.038223355624653246,0.03725389709728796,0.03623888085450402,0.03522834238719217,0.034222026741446684,0.03322532333470104,0.03223217619498179,0.031219509449369097,0.030238965129632367,0.029310576786064132,0.028357051234251054,0.027375730775502587,0.026357073739556362,0.025338781262510303,0.024329317988074983,0.023330688521382283,0.022333294149988775,0.021331595212534533,0.020352675829011985,0.019418810490642743,0.018495506165194867,0.017605643078427758,0.016746427353407117,0.01591629753572936,0.015118212151749496,0.01438101873326673,0.013706024496598308,0.012965992297444131,0.012364933481541768,0.011767665795708177,0.011149541607602204,0.010695377666347398,0.010169479983365507,0.009723271092714755,0.009189099810736148,0.008810566167442744,0.008391553758419528,0.00791526041020589,0.007735980856277989,0.007250059474618982,0.006880639150401366,0.006855366888658411,0.006279114593345651,0.0061333863022471555,0.006039113189022068,0.0055956029062433806,0.0053853809925558434,0.005388212608586501,0.004994049664035065,0.005094809464272016,0.004646961246480269,0.0046851531503236616,0.004385301033430938,0.004225586948296617,0.004201094501782669,0.004268994507144259,0.0038444188684323972,0.0037930496721657633,0.003850193151612208,0.004173414360660394,0.003690921303226674,0.003632997917714519,0.003477617425483357,0.0034667222376575414,0.003470237397193049,0.0033623102616599575,0.003222174047339547,0.30812968901032495,0.1288472003512223,0.06992560383453147,0.04542572942797958,0.03388871479704865,0.02804947537341017,0.026189011871980576,0.02547685303523978,0.025010789727398203,0.024664987891012177,0.024278321851196154],\"yaxis\":\"y\",\"type\":\"scattergl\"},{\"hovertemplate\":\"Color=add loss\\u003cbr\\u003eEpoch=%{x}\\u003cbr\\u003eLoss=%{y}\\u003cextra\\u003e\\u003c\\u002fextra\\u003e\",\"legendgroup\":\"2\",\"line\":{\"color\":\"#00cc96\",\"dash\":\"solid\"},\"marker\":{\"symbol\":\"circle\"},\"mode\":\"lines\",\"name\":\"add loss\",\"showlegend\":true,\"x\":[0,10,20,30,40,50,60,70,80,90,100,110,120,130,140,150,160,170,180,190,200,210,220,230,240,250,260,270,280,290,300,310,320,330,340,350,360,370,380,390,400,410,420,430,440,450,460,470,480,490,500,510,520,530,540,550,560,570,580,590,600,610,620,630,640,650,660,670,680,690,700,710,720,730,740,750,760,770,780,790,800,810,820,830,840,850,860,870,880,890,900,910,920,930,940,950,960,970,980,990,1000,1010,1020,1030,1040,1050,1060,1070,1080,1090,1100,1110,1120,1130,1140,1150,1160,1170,1180,1190,1200,1210,1220,1230,1240,1250,1260,1270,1280,1290,1300,1310,1320,1330,1340,1350,1360,1370,1380,1390,1400,1410,1420,1430,1440,1450,1460,1470,1480,1490,1500,1510,1520,1530,1540,1550,1560,1570,1580,1590,1600,1610,1620,1630,1640,1650,1660,1670,1680,1690,1700,1710,1720,1730,1740,1750,1760,1770,1780,1790,1800,1810,1820,1830,1840,1850,1860,1870,1880,1890,1900,1910,1920,1930,1940,1950,1960,1970,1980,1990,2000,2010,2020,2030,2040,2050,2060,2070,2080,2090,2100,2110,2120,2130,2140,2150,2160,2170,2180,2190,2200,2210,2220,2230,2240,2250,2260,2270,2280,2290,2300,2310,2320,2330,2340,2350,2360,2370,2380,2390,2400,2410,2420,2430,2440,2450,2460,2470,2480,2490,2500,2510,2520,2530,2540,2550,2560,2570,2580,2590,2600,2610,2620,2630,2640,2650,2660,2670,2680,2690,2700,2710,2720,2730,2740,2750,2760,2770,2780,2790,2800,2810,2820,2830,2840,2850,2860,2870,2880,2890,2900,2910,2920,2930,2940,2950,2960,2970,2980,2990,3000,3010,3020,3030,3040,3050,3060,3070,3080,3090,3100,3110,3120,3130,3140,3150,3160,3170,3180,3190,3200,3210,3220,3230,3240,3250,3260,3270,3280,3290,3300,3310,3320,3330,3340,3350,3360,3370,3380,3390,3400,3410,3420,3430,3440,3450,3460,3470,3480,3490,3500,3510,3520,3530,3540,3550,3560,3570,3580,3590,3600,3610,3620,3630,3640,3650,3660,3670,3680,3690,3700,3710,3720,3730,3740,3750,3760,3770,3780,3790,3800,3810,3820,3830,3840,3850,3860,3870,3880,3890,3900,3910,3920,3930,3940,3950,3960,3970,3980,3990,4000,4010,4020,4030,4040,4050,4060,4070,4080,4090,4100,4110,4120,4130,4140,4150,4160,4170,4180,4190,4200,4210,4220,4230,4240,4250,4260,4270,4280,4290,4300,4310,4320,4330,4340,4350,4360,4370,4380,4390,4400,4410,4420,4430,4440,4450,4460,4470,4480,4490,4500,4510,4520,4530,4540,4550,4560,4570,4580,4590,4600,4610,4620,4630,4640,4650,4660,4670,4680,4690,4700,4710,4720,4730,4740,4750,4760,4770,4780,4790,4800,4810,4820,4830,4840,4850,4860,4870,4880,4890,4900,4910,4920,4930,4940,4950,4960,4970,4980,4990,5000,5010,5020,5030,5040,5050,5060,5070,5080,5090,5100,5110,5120,5130,5140,5150,5160,5170,5180,5190,5200,5210,5220,5230,5240,5250,5260,5270,5280,5290,5300,5310,5320,5330,5340,5350,5360,5370,5380,5390,5400,5410,5420,5430,5440,5450,5460,5470,5480,5490,5500,5510,5520,5530,5540,5550,5560,5570,5580,5590,5600,5610,5620,5630,5640,5650,5660,5670,5680,5690,5700,5710,5720,5730,5740,5750,5760,5770,5780,5790,5800,5810,5820,5830,5840,5850,5860,5870,5880,5890,5900,5910,5920,5930,5940,5950,5960,5970,5980,5990],\"xaxis\":\"x\",\"y\":[4.772045246325693,4.785239110098427,4.833431270380582,4.926513744613816,5.031707121122876,5.105680267440629,5.151673693623675,5.184537154094984,5.216854805751535,5.266121685974782,5.33050442965528,5.402357946245935,5.4900732019207386,5.57197855854845,5.654913748233089,5.737098547464509,5.816400827568779,5.89900379342018,5.977592716336678,6.054772697202312,6.128396852771202,6.198716769827308,6.260837793190577,6.324301919489177,6.378785258291778,6.4295253726152914,6.478580293448957,6.522339845552579,6.560027587280002,6.599388920319993,6.636088408413278,6.672196347282592,6.701820745068945,6.733546359684852,6.765306850270799,6.783411247073167,6.807991033029306,6.83470074048813,6.858440869721324,6.879362361899517,6.906695000840037,6.9350328832689065,6.954315688195536,6.979334815458306,7.006620128146222,7.02245062146536,7.041527572755038,7.073418923940718,7.0973945426947385,7.119920600870349,7.143960286775437,7.171571719558184,7.196292427357049,7.221134009601989,7.2427667198435595,7.2634054212011625,7.296632597569799,7.319727871486483,7.470724018265753,7.347711860492194,7.2718219337509,7.23695549856099,7.212821766388875,7.167211232280262,7.1226980998338085,7.0786432236147645,7.043839273484557,7.0115712871842675,6.985901034351407,6.9666421434729315,6.953732335736747,6.946335477925857,6.944910344111836,6.948084457775264,6.9555176342139,6.966294985855247,6.980408619889645,6.998361771017147,7.017838620642101,7.039296192086673,7.059487925239637,7.082889019664924,7.1105068742801585,7.130949682499122,7.161601319564291,7.186389711670649,7.212119913500005,7.246528248656719,7.265409153482349,7.292286402928539,7.325274868732067,7.385576156758099,6.8929214302472275,7.1213507725644725,6.987494700888427,6.953696135741805,6.909076459253884,6.875121833634623,6.826958579567327,6.781086708402586,6.740289910906797,6.703611691760637,6.669028623576075,6.639888829636677,6.615454916657028,6.595631420999249,6.5801861732951386,6.569481369596446,6.563333519347017,6.560630401282761,6.560217612162293,6.562975047036017,6.566265405436473,6.57226087360562,6.583072258757266,6.591579475296563,6.596203061481789,6.616671163390714,6.622935476293653,6.629841371938981,6.657738368504685,6.659892488605959,6.671238012784763,6.694227321351459,6.557395310806485,6.528366511635906,6.391301887088065,6.370007353261932,6.340586942967854,6.306355097839391,6.260059049112578,6.216374442434884,6.1769395320897065,6.135237367859423,6.0973377303428045,6.064443123182555,6.0341148558333595,6.007990474920228,5.984867506256984,5.966141220437561,5.948874769082929,5.9368205806342855,5.924158800657079,5.91013221594964,5.907492046159815,5.900385313095465,5.890050002562883,5.907395991967806,5.883829804272346,5.924387122003148,6.097359400230672,5.938612375767067,5.86793405467052,5.802741009404606,5.7675190923697555,5.727183314513736,5.685373613356988,5.650541507241094,5.611198642966335,5.57631361611281,5.5435680340997555,5.515313577670594,5.48914952465427,5.46682295901573,5.444473283393421,5.42682621674923,5.414019409695532,5.399711562083274,5.385938037706627,5.369261880659498,5.3601263480244645,5.360559382911081,5.442280066386761,5.7776256150835685,5.509167028095465,5.39550940471253,5.351740647715946,5.306122099523508,5.266148257814598,5.2244476186615305,5.18709163189297,5.154553285529075,5.121804017641107,5.090979363818417,5.062333280911205,5.039001700513873,5.016290524389258,4.994695121235407,4.977453068148016,4.967793575108352,4.951273424075259,4.939917105708891,4.929215130903508,4.916373340992058,4.916449534332713,4.933204892294515,4.89562409626702,4.877932528234948,7.592388585187964,5.3847244408086965,4.963106012813954,4.81226628402859,4.724010016261521,4.664948984914795,4.611351634267359,4.5662949201979375,4.526211744458206,4.488229508050375,4.453508005928764,4.419805390722417,4.387106372531137,4.3567439148423235,4.326830403106693,4.2987930266903005,4.272496227883996,4.2497223795939965,4.226075292293627,4.2006614849316755,4.183543560230036,4.167354209728923,4.142638229699964,4.132156199039903,4.110960131236757,4.094539235841729,4.088478300700629,4.076423628210271,4.06043912626528,4.039479004361218,4.03337652184697,4.016388183634508,4.01714622100798,6.300438275374566,4.480839891346459,3.967905093311928,3.687921083606863,3.5659542342278048,3.5209085851900177,3.4852893686362547,3.456447379662481,3.428254309159737,3.4001037129803326,3.3742532783314245,3.3496268484936085,3.32600143465888,3.301759383732174,3.276674321820747,3.251168064968738,3.226657330444186,3.2028079858738834,3.1791827729049773,3.1557297245953366,3.132471250808273,3.1113767995550417,3.08828134667766,3.065891811586272,3.0475023658198728,3.0231177468959602,3.006853369402891,2.984553229145747,2.966853553910137,2.9481533731043394,2.9298861098418123,2.915087899182428,2.8985318303537597,2.8747615970573692,2.8737287805874616,2.853230485313916,2.8416328182793906,2.8358063056076093,2.8245928960472297,2.801426502414232,2.7975860347359953,2.7844979295206667,2.7725656729718424,2.7616289144586785,2.7574161273276507,2.7542712236304876,5.6857976187659105,3.3306949855191244,2.6923806133026087,2.414138367701283,2.29633928963212,2.2095773495388844,2.169733887777977,2.159945224685479,2.1461218071026957,2.137425504574708,2.127456568109953,2.1166931992074134,2.1054419050068947,2.0932868893237844,2.0798429077510745,2.0650834305840533,2.0483842075878367,2.030872935247274,2.0128689479779402,1.99393654051013,1.974403245010185,1.953380547828345,1.9322105051736473,1.9119075154203478,1.8888731157971441,1.8699482101005054,1.8519737706956514,1.8336558183463876,1.814205222599761,1.7962833244899845,1.7758306308942424,1.7585221833893283,1.746546556442314,1.7294103980935425,1.7136382549188867,1.6985973045665737,1.687039161423977,1.673965364512935,1.6693354536005833,6.054788924757996,2.4088099394154283,1.8340096537737387,1.5171166983270705,1.3517874295019838,1.2781038724503482,1.2501205959979134,1.2365845348967,1.233422191821637,1.2332067640113697,1.2313173371328558,1.2276115869579853,1.2224813812987407,1.2156898530107905,1.2071639519934487,1.1970683223224183,1.1851057622052865,1.171863845550138,1.1577004120272412,1.142987275048299,1.1275000456792066,1.1118774456827827,1.095811581624527,1.0783196151022043,1.0602925144136646,1.042939322156525,1.0260646951220553,1.0092024685629344,0.9920332828057951,0.97666116009601,0.9607016000748184,0.9467748562640212,0.9315918012953238,0.9166277536021707,0.9023754581027478,0.8867336996669485,0.8737479578912546,0.8605526247096142,0.8496168269348285,0.8361479068049236,0.8253918349406939,0.8121514011650788,0.8016245772404952,0.7860826748698613,0.7803135115725526,0.7683101299993179,0.7577498047907335,0.7473957905031986,0.7383577654680514,4.896931077910154,1.7096075326099263,1.1704007216204977,0.8565439033276855,0.7198504974416913,0.6353910159765107,0.6066415743481066,0.5917093270458454,0.5865795560649136,0.5835687113972756,0.5808236790444512,0.5777339011998062,0.5734590582686176,0.568353968083748,0.5626612482860959,0.5563993456374665,0.5491666708271384,0.5408034098563159,0.5316768449283173,0.5217105453821501,0.5109964623282891,0.4998152750684054,0.48832044225268434,0.47614999765985966,0.46388571138187806,0.45141212474018644,0.43811727285550844,0.4248437026786526,0.4118864100149786,0.3991129092051965,0.3866597897927472,0.3742659858454432,0.3624934844657307,0.3508410151220673,0.33959501394242253,0.329073922943103,0.3185119738284721,0.30867767571907057,0.2993208816679941,0.2896134759950095,0.28150801381343443,0.27312137958301563,0.2655235362990642,0.25873189075519754,0.25141376203924004,0.24421459096989312,0.23821315884947722,0.2325345052359037,0.22699131887570717,0.22069416770760125,0.21632516113287947,0.21219143164652676,0.20662018240118676,0.20221486005695793,0.19810896891916155,0.19441289865353464,0.1903798867096736,0.18637416409858298,0.18259684707046403,0.18130490147436742,0.17599730396344715,0.17272086479359294,0.17233283516943126,0.1674436459290438,0.16609077517291534,0.16619660360419294,0.1645765841870946,1.2428566624209256,0.7389235137573862,0.4483012056472752,0.31306706787736593,0.2450117861096851,0.21590113823363577,0.20083305713238897,0.19602721961039016,0.19215875702619983,0.19063039671527465,0.18865151978741176,0.18608535735906306,0.18298559910640871,0.17949552479405734,0.17584989310807858,0.171843101202991,0.167672936808648,0.1633341307706998,0.15885710202727657,0.15415939542591472,0.1494044139992354,0.14457296973677666,0.13945720625819374,0.1340402398183066,0.12885098065013192,0.1236616130630389,0.11845058898899888,0.11335960810480983,0.10848059592293845,0.10371257124427541,0.09905864818300726,0.09444449724337993,0.0900658272732502,0.08586240100956222,0.08190067531068723,0.07809709429786013,0.07448241925465365,0.07098971089929405,0.06774326551802479,0.06477481537390475,0.06191224906690011,0.05924560589145157,0.05659253314790006,0.054053805320234044,0.0519088048805049,0.049975454714060404,0.04785587703766599,0.045946574397412655,0.04434791473522182,0.04279457264517623,0.041079234758653715,0.03967832662197206,0.0387087055455416,0.03737063473902014,0.03598419682859044,0.035065606656324994,0.03421530297803495,0.03281813538684019,0.0321387393957991,0.031475714422329736,0.030142065163527812,0.029897136238778575,0.029266999031729416,0.02828260652940435,0.028574470745384304,0.027206020595666753,0.027210616268131302,0.026877929953264806,0.02585022930095843,0.02636660426536196,0.025666146595890567,0.025674869482157553,0.024790114226028573,0.025378942596149735,0.0246121144493738,0.025562249161447958,0.024635483745902978,0.8210143298737859,0.3677763794866638,0.19847179468231094,0.13661455397662492,0.10555346857549575,0.09034796259124818,0.08375669251229254,0.08067386637875987,0.07891607489201617,0.07762539618931127,0.07618773567953448,0.074543413299408,0.07268987048210748,0.07080087898628319,0.06880758891726645,0.06681932232260272,0.06484775621409566,0.0628787678563227,0.060941449137565475,0.05896129074677313,0.05703410816642434,0.055241541825762304,0.05341596679202152,0.05155637216447717,0.049627819865406785,0.047703590321698554,0.0458112182635425,0.04395150398864386,0.04210299372651523,0.04024581254872702,0.03842388169674258,0.03669763587991474,0.03499160774480261,0.033336393383043866,0.031751952598558175,0.03021141286440783,0.028769605329944693,0.027411189199934804,0.02608571785510549,0.02488704248822833,0.023588270716131614,0.022402455671913634,0.021487932823965366,0.02037855360010816,0.01942998471776989,0.018485065705457854,0.017775863638132817,0.016937994186322018,0.01609036931728587,0.015624771586078924,0.014551800794916064,0.01412547800419602,0.013762303943176292,0.012725249391681468,0.012646688194879097,0.011945402013456879,0.011244340672365504,0.011093661227108156,0.010911044657627727,0.009907502118048153,0.010091248285698165,0.009251401306678978,0.009601590089850951,0.008795262275693582,0.008738186290451793,0.008760534384058187,0.008272396135198,0.0077616455480638115,0.007934091788860207,0.007804188157239434,0.007314991188729577,0.006970324402185751,0.007162634115672141,0.006914766214756984,0.00691424223645636,0.006856632726757321,0.006589705840955966,0.006773622604687564,0.007472157416218915,0.6377692893056176,0.2548797625232588,0.13452916224386408,0.08694217183607054,0.06480981717544079,0.05287110159071822,0.049001351000530984,0.04759143968097873,0.04659207462564753,0.04587126901518481,0.045059046586836335,0.044237582589481454],\"yaxis\":\"y\",\"type\":\"scattergl\"},{\"hovertemplate\":\"Color=multi loss\\u003cbr\\u003eEpoch=%{x}\\u003cbr\\u003eLoss=%{y}\\u003cextra\\u003e\\u003c\\u002fextra\\u003e\",\"legendgroup\":\"3\",\"line\":{\"color\":\"#ab63fa\",\"dash\":\"solid\"},\"marker\":{\"symbol\":\"circle\"},\"mode\":\"lines\",\"name\":\"multi loss\",\"showlegend\":true,\"x\":[0,10,20,30,40,50,60,70,80,90,100,110,120,130,140,150,160,170,180,190,200,210,220,230,240,250,260,270,280,290,300,310,320,330,340,350,360,370,380,390,400,410,420,430,440,450,460,470,480,490,500,510,520,530,540,550,560,570,580,590,600,610,620,630,640,650,660,670,680,690,700,710,720,730,740,750,760,770,780,790,800,810,820,830,840,850,860,870,880,890,900,910,920,930,940,950,960,970,980,990,1000,1010,1020,1030,1040,1050,1060,1070,1080,1090,1100,1110,1120,1130,1140,1150,1160,1170,1180,1190,1200,1210,1220,1230,1240,1250,1260,1270,1280,1290,1300,1310,1320,1330,1340,1350,1360,1370,1380,1390,1400,1410,1420,1430,1440,1450,1460,1470,1480,1490,1500,1510,1520,1530,1540,1550,1560,1570,1580,1590,1600,1610,1620,1630,1640,1650,1660,1670,1680,1690,1700,1710,1720,1730,1740,1750,1760,1770,1780,1790,1800,1810,1820,1830,1840,1850,1860,1870,1880,1890,1900,1910,1920,1930,1940,1950,1960,1970,1980,1990,2000,2010,2020,2030,2040,2050,2060,2070,2080,2090,2100,2110,2120,2130,2140,2150,2160,2170,2180,2190,2200,2210,2220,2230,2240,2250,2260,2270,2280,2290,2300,2310,2320,2330,2340,2350,2360,2370,2380,2390,2400,2410,2420,2430,2440,2450,2460,2470,2480,2490,2500,2510,2520,2530,2540,2550,2560,2570,2580,2590,2600,2610,2620,2630,2640,2650,2660,2670,2680,2690,2700,2710,2720,2730,2740,2750,2760,2770,2780,2790,2800,2810,2820,2830,2840,2850,2860,2870,2880,2890,2900,2910,2920,2930,2940,2950,2960,2970,2980,2990,3000,3010,3020,3030,3040,3050,3060,3070,3080,3090,3100,3110,3120,3130,3140,3150,3160,3170,3180,3190,3200,3210,3220,3230,3240,3250,3260,3270,3280,3290,3300,3310,3320,3330,3340,3350,3360,3370,3380,3390,3400,3410,3420,3430,3440,3450,3460,3470,3480,3490,3500,3510,3520,3530,3540,3550,3560,3570,3580,3590,3600,3610,3620,3630,3640,3650,3660,3670,3680,3690,3700,3710,3720,3730,3740,3750,3760,3770,3780,3790,3800,3810,3820,3830,3840,3850,3860,3870,3880,3890,3900,3910,3920,3930,3940,3950,3960,3970,3980,3990,4000,4010,4020,4030,4040,4050,4060,4070,4080,4090,4100,4110,4120,4130,4140,4150,4160,4170,4180,4190,4200,4210,4220,4230,4240,4250,4260,4270,4280,4290,4300,4310,4320,4330,4340,4350,4360,4370,4380,4390,4400,4410,4420,4430,4440,4450,4460,4470,4480,4490,4500,4510,4520,4530,4540,4550,4560,4570,4580,4590,4600,4610,4620,4630,4640,4650,4660,4670,4680,4690,4700,4710,4720,4730,4740,4750,4760,4770,4780,4790,4800,4810,4820,4830,4840,4850,4860,4870,4880,4890,4900,4910,4920,4930,4940,4950,4960,4970,4980,4990,5000,5010,5020,5030,5040,5050,5060,5070,5080,5090,5100,5110,5120,5130,5140,5150,5160,5170,5180,5190,5200,5210,5220,5230,5240,5250,5260,5270,5280,5290,5300,5310,5320,5330,5340,5350,5360,5370,5380,5390,5400,5410,5420,5430,5440,5450,5460,5470,5480,5490,5500,5510,5520,5530,5540,5550,5560,5570,5580,5590,5600,5610,5620,5630,5640,5650,5660,5670,5680,5690,5700,5710,5720,5730,5740,5750,5760,5770,5780,5790,5800,5810,5820,5830,5840,5850,5860,5870,5880,5890,5900,5910,5920,5930,5940,5950,5960,5970,5980,5990],\"xaxis\":\"x\",\"y\":[4.696414783400215,4.662413825714229,4.762015618185295,4.8893225321440905,4.936564937830313,4.918987855966722,4.847780957468754,4.725372010596524,4.5916143059216745,4.439920117022506,4.296336670728992,4.159303497430223,4.035616118565034,3.9217178857230146,3.830531221644996,3.748780758964897,3.6715680127698893,3.6072547936622037,3.5533673377787687,3.5058259447720763,3.4596222721258933,3.4222593792504177,3.3852267974901533,3.3496217954264456,3.317713007365331,3.285445967560767,3.255401605028726,3.2214344985830103,3.194948990056797,3.161176624575078,3.130257031653742,3.0991573393767875,3.0663335641008596,3.0353092138046316,3.0043848415684997,2.9712397954996077,2.9397012028156326,2.908108738388191,2.8774661533839083,2.8438291080243467,2.813867024881864,2.7803870389711447,2.7421814836992517,2.7131366586383843,2.679527983140229,2.644594719949983,2.6088646750049467,2.579850089126226,2.5628016639200246,2.511117717783616,2.476244873326799,2.4466456710180373,2.4139845190999494,2.3843609162899497,2.3526871558708202,2.323617610343894,2.2905078975951825,2.251461460439582,2.251751988000741,2.6180578635736005,2.250894076095466,2.1482109282666584,2.0763645121265033,2.041075254001859,2.0120844215330695,1.9985298144806576,1.9913836686899726,1.9839044429727752,1.9748583193965163,1.966825162952208,1.957767040421851,1.9465522475047718,1.933695475451717,1.9194712708043205,1.9046900018951063,1.8888771762483922,1.8725153132361492,1.8553891986320317,1.837226125925917,1.8182838303707378,1.7999845901812228,1.779163447127167,1.757627152087157,1.737357382340602,1.7132788498100118,1.690039289164501,1.6674693407094812,1.640441278336101,1.6223439310797936,1.5919093763812107,1.5616142003954205,1.5400175637631548,1.9549995257273187,1.5702840545638206,1.3896571101527089,1.3144852889500251,1.2536983327971223,1.2275806703686363,1.2146323918549033,1.2056098960408246,1.1991219891702154,1.1944668744972016,1.1894093399227181,1.1821370806251472,1.1746961838994672,1.1650782972374472,1.1531452726705227,1.139933571466815,1.1248617713907292,1.1077051216459093,1.0882322293106776,1.0672499289932864,1.0464384807153058,1.0237780371748575,0.9999222578301924,0.9760419112815475,0.9528296649557663,0.9250963531916251,0.8998714047388781,0.87356492901911,0.8447619776235684,0.8234496030534638,0.7912502200796606,0.7612847781628297,1.3807305538177328,0.9417805179306115,0.774596906652588,0.670110146705642,0.6046775588515008,0.5759929066495735,0.5589135277064816,0.5486407125684076,0.5409015456182431,0.5352416686269252,0.5292987536468636,0.5230249302735137,0.5157446632092291,0.5070715685686038,0.4966197864213904,0.4850090153499963,0.47252993050168424,0.4588741391194819,0.4447732864102399,0.43033518233994017,0.4147717576176858,0.39906987500203167,0.3834754663544517,0.3667903821499479,0.35174654790838217,0.3427573465921959,0.8471816700926127,0.5353918002794201,0.4003606157434774,0.3216062119223089,0.27553038169064725,0.24998951290827756,0.23579062126478792,0.22649143222738227,0.22001216601168988,0.2144730662375625,0.2085038362507808,0.20228497316687216,0.1956043768298343,0.18847170469655675,0.1810774134833737,0.1734187623447272,0.16527332407046175,0.15717928718024138,0.14891116120724454,0.14131155690174801,0.13387001533096654,0.1263113048183117,0.1275178136888081,0.5716972831330205,0.2958707636333527,0.19751003215536692,0.15161658363026992,0.12866968612676602,0.11648982643213966,0.1089023134989878,0.10436077033393394,0.10052917722640428,0.09655978919117289,0.0925738642382688,0.08837171954826603,0.08407012158300887,0.07955105174041228,0.07499469878961715,0.07040505898052296,0.06587420413966341,0.06158233972366894,0.05743821888905874,0.05339623600613712,0.04985585681463152,0.046279871525034454,0.04385015610355608,0.04050065651306021,0.036887951839874186,1.8243624720108458,0.3538816646127996,0.18550960124258403,0.11394653829659339,0.08121823539382098,0.0655470699030802,0.05799497246892222,0.05453190351512959,0.052695745956274825,0.05123319030415981,0.049838666576301996,0.04824027088528882,0.04653840526855526,0.04470325645460973,0.04277624702077204,0.04075941029484092,0.03871472758079664,0.03660451498743388,0.03452074056436732,0.03247779004937285,0.030457230048912397,0.02854791461681581,0.026686829102631773,0.024914006860664726,0.023225677030284834,0.021635658015128654,0.020243430927906952,0.018846504492771515,0.017637839453108522,0.016305047575905496,0.015240325658395622,0.014042981264467546,0.013028355956136274,0.7412089911303521,0.3439272637782394,0.1546648647072368,0.07765127479857946,0.05203290114511983,0.040587342244638946,0.03554662355071302,0.03319926265394757,0.03205029498207958,0.031299049740256435,0.030624153524742875,0.029874015977442377,0.02897441666527678,0.02800817471519899,0.026949284524692207,0.025820082966933885,0.024651892090512058,0.02346463066225184,0.02227977773650046,0.021079747342835718,0.019920215780380713,0.018770930172064933,0.017649672899439806,0.01654146726674729,0.015486246711240235,0.014496459118425859,0.013552227745656181,0.012660277674658634,0.011848964335258236,0.011016418240517505,0.010263015067934443,0.009568855552656767,0.008905369475401903,0.008423647566841289,0.007775659326339309,0.007149226825191017,0.006688422806061303,0.006189894522396048,0.005728324879868606,0.005360371161587313,0.004949453164274525,0.004641211770289617,0.004331851221608987,0.003978817712147898,0.003667637727057536,0.0034218392045161916,1.5117009694453487,0.29971301453881705,0.12323868236967728,0.06476912839597684,0.043802179175621,0.0345191580062983,0.0302253020250242,0.027943810892475288,0.026633815675395207,0.02593752440188191,0.02536848321242052,0.02478447433727075,0.02408696782902737,0.0233298591362806,0.02251802532149946,0.021684031788062327,0.020783919590454267,0.019878355871797572,0.018930383002644054,0.018003256204274398,0.01708358568979345,0.01619925763469831,0.015311215343909631,0.014473571984435734,0.013664636905783411,0.012863174078714986,0.012093322854973282,0.011350072525952633,0.010645584936069503,0.00995783713400034,0.009315293862091043,0.00869538222153525,0.008109054865288482,0.00755723502625043,0.0070513421024771825,0.006580172721809114,0.006124063327035166,0.005684396215616686,0.005316326199966657,0.6147798146508782,0.22827475834971786,0.10391864920115446,0.05387060312606058,0.034791720231641766,0.027370232709558562,0.02384618533416261,0.022240815168374388,0.021454454737649894,0.021005992319613274,0.020660354734914333,0.02028940808840857,0.019859898308808178,0.01935998282181959,0.018791064394908952,0.018178084385264328,0.017518118823037797,0.016828617171288238,0.01613156009465123,0.015394528840714827,0.01465072761560704,0.013886327489392584,0.01312675599471228,0.01238187687440859,0.011650011471865193,0.01092810537520315,0.010227034091477516,0.00954328747496759,0.00890343188949641,0.008290244890907955,0.007705706481172295,0.007153185696784909,0.006633325585478104,0.006150870165023786,0.005705221967581806,0.005294426728302244,0.004907723002250148,0.0045483837173905615,0.004207136619018561,0.0039052649961787526,0.0036073025967999404,0.0033353763326426436,0.003094300701270403,0.002865817689189737,0.002641629396930329,0.0024418955565954775,0.002265397497043663,0.00209004224462492,0.001942726600370477,0.889997880420014,0.24847932489780017,0.09887656243916519,0.05360709485880023,0.03473746489699728,0.02626417869470803,0.022363067205167023,0.02060056111706072,0.01954606844451266,0.018745782450700757,0.01808368268195386,0.017444453290587955,0.01678606025330883,0.01612405430717772,0.015474520963080511,0.014841487862101417,0.014208484859338236,0.01357999086299524,0.012965592721185502,0.012373911501990525,0.011805370904527525,0.011253671272231291,0.010703048913930232,0.010155023618844933,0.00961619987895033,0.009086338948720948,0.008563540140438315,0.008057604344245548,0.007570618201667602,0.0070920679862209735,0.006628423699263804,0.006188337972486257,0.005767023131612156,0.005369807379058444,0.00499019627292192,0.004631277211092102,0.004295621500063235,0.003985637296455362,0.0036965945682788407,0.0034264863279373932,0.0031741618613202933,0.0029398738399630192,0.002722793802860529,0.0025221386580939822,0.0023351967224901037,0.002163433499473733,0.002002220295368565,0.0018532743130404428,0.0017157702603704363,0.001587386334487856,0.0014698110726009885,0.0013609059104664968,0.001256516371553969,0.0011632103246978069,0.0010772551124069725,0.000998362650874084,0.0009243370835457206,0.0008600100803226228,0.0007912825753333213,0.0007352293170050499,0.0006761224057366757,0.0006253041614177398,0.0005965553862715049,0.0005408317404548883,0.0004936407053346783,0.00045892680247608343,0.00043595495396075924,0.20004314069995371,0.05517526701110222,0.026603346666355034,0.01515734729476361,0.010193265435584813,0.008133947425192849,0.007259788940957251,0.006977368989779896,0.006906489703334377,0.006858200609923262,0.006832903960343633,0.006793605536442612,0.006732798280980195,0.006650062879078756,0.006556205912758195,0.0064487660175833175,0.006320774728884626,0.006180075609937334,0.00602888501547654,0.005858993534093534,0.005673456103957344,0.005476347718790105,0.005265735945250343,0.00504322868748907,0.004808586920746094,0.004568606506536116,0.004327859380382388,0.004088880512781755,0.003846270701175454,0.003608780528566702,0.003379450937820972,0.0031575013337711666,0.002946480765790233,0.0027457206331813863,0.002555176845533153,0.0023754635564454127,0.0022068637619950425,0.0020483078501937545,0.001899114460694393,0.0017594616365632406,0.001630219708244657,0.0015098594894554058,0.0013978125668342575,0.0012943081949135554,0.001197927431228636,0.0011092755178289408,0.0010261945593141642,0.0009500311930574916,0.0008787993393575637,0.0008133190676203792,0.0007516703030943986,0.0006958301342477051,0.0006439365038918247,0.0005954372006570569,0.0005514195729232929,0.0005091351838382343,0.00047207581960219424,0.0004360869482174968,0.00040283584243114724,0.000374093838682879,0.000347044596420252,0.00031959514153967423,0.00029547771624141415,0.0002749230595771741,0.00025508315305522233,0.0002343196212677629,0.00021654415091415492,0.00020087621967165094,0.00018674600839472478,0.0001733844793985038,0.00015938328064615012,0.00014793002280560314,0.00013858384262615379,0.00012742150546098346,0.00011735992922782378,0.0001110821890429161,0.00011447171099118998,0.12691440686639413,0.03636596110623359,0.015297046763358253,0.00789054376016594,0.005416551656897009,0.004489217694245153,0.00413770235946391,0.004039763704076898,0.004012304934410629,0.003992629471425003,0.003978463679514357,0.0039604172382317485,0.003937852097129415,0.003909740577717511,0.0038736879426080864,0.003836512025758699,0.0038009973479481824,0.0037652095875613315,0.0037267621030390215,0.003683685378909308,0.0036313861226435697,0.003567135827375908,0.0034901749444882163,0.0033986344389278765,0.0032916305457401677,0.0031720622645035456,0.0030439143597410776,0.002908250942458785,0.0027668193670782257,0.0026221714635727123,0.0024759167790674606,0.0023285810229500136,0.0021855330609793335,0.0020454571500928146,0.0019115172025254926,0.0017825667343461821,0.001659919437108791,0.0015435523285436401,0.0014335766877088287,0.0013312852325257612,0.0012353126843650504,0.0011457842622697157,0.0010622358475047438,0.0009846013455329192,0.0009126211899853928,0.0008460873825702098,0.0007831377193146766,0.0007248881031994968,0.0006716348931670388,0.0006223454507906792,0.0005763486872704686,0.0005330454489037856,0.0004943292625433771,0.00045827900101568327,0.0004234414947741382,0.000391903330431439,0.0003639891831451948,0.0003354315933378843,0.00031157794065298763,0.0002890585522079956,0.0002667251926073609,0.00024836097020455893,0.00022887905982305623,0.0002119908697836768,0.0001955965442565103,0.00018216221625826865,0.00016796230885818156,0.00015679157288945694,0.00014387381666597005,0.0001335050695804283,0.0001239140371233053,0.00011950293980477877,0.00010568695158734685,9.835346782655881e-05,9.069522681358309e-05,8.446322650705573e-05,7.882520969636378e-05,7.331358086757582e-05,7.116343811333205e-05,0.0613216438840791,0.02926018907562558,0.014146360784941693,0.006940729860009156,0.004754778867491868,0.003932779342296883,0.0035782807564451193,0.00348765143820568,0.003495805080679141,0.00353136973523872,0.003573236229589965,0.00360561058536111],\"yaxis\":\"y\",\"type\":\"scattergl\"}],                        {\"template\":{\"data\":{\"histogram2dcontour\":[{\"type\":\"histogram2dcontour\",\"colorbar\":{\"outlinewidth\":0,\"ticks\":\"\"},\"colorscale\":[[0.0,\"#0d0887\"],[0.1111111111111111,\"#46039f\"],[0.2222222222222222,\"#7201a8\"],[0.3333333333333333,\"#9c179e\"],[0.4444444444444444,\"#bd3786\"],[0.5555555555555556,\"#d8576b\"],[0.6666666666666666,\"#ed7953\"],[0.7777777777777778,\"#fb9f3a\"],[0.8888888888888888,\"#fdca26\"],[1.0,\"#f0f921\"]]}],\"choropleth\":[{\"type\":\"choropleth\",\"colorbar\":{\"outlinewidth\":0,\"ticks\":\"\"}}],\"histogram2d\":[{\"type\":\"histogram2d\",\"colorbar\":{\"outlinewidth\":0,\"ticks\":\"\"},\"colorscale\":[[0.0,\"#0d0887\"],[0.1111111111111111,\"#46039f\"],[0.2222222222222222,\"#7201a8\"],[0.3333333333333333,\"#9c179e\"],[0.4444444444444444,\"#bd3786\"],[0.5555555555555556,\"#d8576b\"],[0.6666666666666666,\"#ed7953\"],[0.7777777777777778,\"#fb9f3a\"],[0.8888888888888888,\"#fdca26\"],[1.0,\"#f0f921\"]]}],\"heatmap\":[{\"type\":\"heatmap\",\"colorbar\":{\"outlinewidth\":0,\"ticks\":\"\"},\"colorscale\":[[0.0,\"#0d0887\"],[0.1111111111111111,\"#46039f\"],[0.2222222222222222,\"#7201a8\"],[0.3333333333333333,\"#9c179e\"],[0.4444444444444444,\"#bd3786\"],[0.5555555555555556,\"#d8576b\"],[0.6666666666666666,\"#ed7953\"],[0.7777777777777778,\"#fb9f3a\"],[0.8888888888888888,\"#fdca26\"],[1.0,\"#f0f921\"]]}],\"heatmapgl\":[{\"type\":\"heatmapgl\",\"colorbar\":{\"outlinewidth\":0,\"ticks\":\"\"},\"colorscale\":[[0.0,\"#0d0887\"],[0.1111111111111111,\"#46039f\"],[0.2222222222222222,\"#7201a8\"],[0.3333333333333333,\"#9c179e\"],[0.4444444444444444,\"#bd3786\"],[0.5555555555555556,\"#d8576b\"],[0.6666666666666666,\"#ed7953\"],[0.7777777777777778,\"#fb9f3a\"],[0.8888888888888888,\"#fdca26\"],[1.0,\"#f0f921\"]]}],\"contourcarpet\":[{\"type\":\"contourcarpet\",\"colorbar\":{\"outlinewidth\":0,\"ticks\":\"\"}}],\"contour\":[{\"type\":\"contour\",\"colorbar\":{\"outlinewidth\":0,\"ticks\":\"\"},\"colorscale\":[[0.0,\"#0d0887\"],[0.1111111111111111,\"#46039f\"],[0.2222222222222222,\"#7201a8\"],[0.3333333333333333,\"#9c179e\"],[0.4444444444444444,\"#bd3786\"],[0.5555555555555556,\"#d8576b\"],[0.6666666666666666,\"#ed7953\"],[0.7777777777777778,\"#fb9f3a\"],[0.8888888888888888,\"#fdca26\"],[1.0,\"#f0f921\"]]}],\"surface\":[{\"type\":\"surface\",\"colorbar\":{\"outlinewidth\":0,\"ticks\":\"\"},\"colorscale\":[[0.0,\"#0d0887\"],[0.1111111111111111,\"#46039f\"],[0.2222222222222222,\"#7201a8\"],[0.3333333333333333,\"#9c179e\"],[0.4444444444444444,\"#bd3786\"],[0.5555555555555556,\"#d8576b\"],[0.6666666666666666,\"#ed7953\"],[0.7777777777777778,\"#fb9f3a\"],[0.8888888888888888,\"#fdca26\"],[1.0,\"#f0f921\"]]}],\"mesh3d\":[{\"type\":\"mesh3d\",\"colorbar\":{\"outlinewidth\":0,\"ticks\":\"\"}}],\"scatter\":[{\"fillpattern\":{\"fillmode\":\"overlay\",\"size\":10,\"solidity\":0.2},\"type\":\"scatter\"}],\"parcoords\":[{\"type\":\"parcoords\",\"line\":{\"colorbar\":{\"outlinewidth\":0,\"ticks\":\"\"}}}],\"scatterpolargl\":[{\"type\":\"scatterpolargl\",\"marker\":{\"colorbar\":{\"outlinewidth\":0,\"ticks\":\"\"}}}],\"bar\":[{\"error_x\":{\"color\":\"#2a3f5f\"},\"error_y\":{\"color\":\"#2a3f5f\"},\"marker\":{\"line\":{\"color\":\"#E5ECF6\",\"width\":0.5},\"pattern\":{\"fillmode\":\"overlay\",\"size\":10,\"solidity\":0.2}},\"type\":\"bar\"}],\"scattergeo\":[{\"type\":\"scattergeo\",\"marker\":{\"colorbar\":{\"outlinewidth\":0,\"ticks\":\"\"}}}],\"scatterpolar\":[{\"type\":\"scatterpolar\",\"marker\":{\"colorbar\":{\"outlinewidth\":0,\"ticks\":\"\"}}}],\"histogram\":[{\"marker\":{\"pattern\":{\"fillmode\":\"overlay\",\"size\":10,\"solidity\":0.2}},\"type\":\"histogram\"}],\"scattergl\":[{\"type\":\"scattergl\",\"marker\":{\"colorbar\":{\"outlinewidth\":0,\"ticks\":\"\"}}}],\"scatter3d\":[{\"type\":\"scatter3d\",\"line\":{\"colorbar\":{\"outlinewidth\":0,\"ticks\":\"\"}},\"marker\":{\"colorbar\":{\"outlinewidth\":0,\"ticks\":\"\"}}}],\"scattermapbox\":[{\"type\":\"scattermapbox\",\"marker\":{\"colorbar\":{\"outlinewidth\":0,\"ticks\":\"\"}}}],\"scatterternary\":[{\"type\":\"scatterternary\",\"marker\":{\"colorbar\":{\"outlinewidth\":0,\"ticks\":\"\"}}}],\"scattercarpet\":[{\"type\":\"scattercarpet\",\"marker\":{\"colorbar\":{\"outlinewidth\":0,\"ticks\":\"\"}}}],\"carpet\":[{\"aaxis\":{\"endlinecolor\":\"#2a3f5f\",\"gridcolor\":\"white\",\"linecolor\":\"white\",\"minorgridcolor\":\"white\",\"startlinecolor\":\"#2a3f5f\"},\"baxis\":{\"endlinecolor\":\"#2a3f5f\",\"gridcolor\":\"white\",\"linecolor\":\"white\",\"minorgridcolor\":\"white\",\"startlinecolor\":\"#2a3f5f\"},\"type\":\"carpet\"}],\"table\":[{\"cells\":{\"fill\":{\"color\":\"#EBF0F8\"},\"line\":{\"color\":\"white\"}},\"header\":{\"fill\":{\"color\":\"#C8D4E3\"},\"line\":{\"color\":\"white\"}},\"type\":\"table\"}],\"barpolar\":[{\"marker\":{\"line\":{\"color\":\"#E5ECF6\",\"width\":0.5},\"pattern\":{\"fillmode\":\"overlay\",\"size\":10,\"solidity\":0.2}},\"type\":\"barpolar\"}],\"pie\":[{\"automargin\":true,\"type\":\"pie\"}]},\"layout\":{\"autotypenumbers\":\"strict\",\"colorway\":[\"#636efa\",\"#EF553B\",\"#00cc96\",\"#ab63fa\",\"#FFA15A\",\"#19d3f3\",\"#FF6692\",\"#B6E880\",\"#FF97FF\",\"#FECB52\"],\"font\":{\"color\":\"#2a3f5f\"},\"hovermode\":\"closest\",\"hoverlabel\":{\"align\":\"left\"},\"paper_bgcolor\":\"white\",\"plot_bgcolor\":\"#E5ECF6\",\"polar\":{\"bgcolor\":\"#E5ECF6\",\"angularaxis\":{\"gridcolor\":\"white\",\"linecolor\":\"white\",\"ticks\":\"\"},\"radialaxis\":{\"gridcolor\":\"white\",\"linecolor\":\"white\",\"ticks\":\"\"}},\"ternary\":{\"bgcolor\":\"#E5ECF6\",\"aaxis\":{\"gridcolor\":\"white\",\"linecolor\":\"white\",\"ticks\":\"\"},\"baxis\":{\"gridcolor\":\"white\",\"linecolor\":\"white\",\"ticks\":\"\"},\"caxis\":{\"gridcolor\":\"white\",\"linecolor\":\"white\",\"ticks\":\"\"}},\"coloraxis\":{\"colorbar\":{\"outlinewidth\":0,\"ticks\":\"\"}},\"colorscale\":{\"sequential\":[[0.0,\"#0d0887\"],[0.1111111111111111,\"#46039f\"],[0.2222222222222222,\"#7201a8\"],[0.3333333333333333,\"#9c179e\"],[0.4444444444444444,\"#bd3786\"],[0.5555555555555556,\"#d8576b\"],[0.6666666666666666,\"#ed7953\"],[0.7777777777777778,\"#fb9f3a\"],[0.8888888888888888,\"#fdca26\"],[1.0,\"#f0f921\"]],\"sequentialminus\":[[0.0,\"#0d0887\"],[0.1111111111111111,\"#46039f\"],[0.2222222222222222,\"#7201a8\"],[0.3333333333333333,\"#9c179e\"],[0.4444444444444444,\"#bd3786\"],[0.5555555555555556,\"#d8576b\"],[0.6666666666666666,\"#ed7953\"],[0.7777777777777778,\"#fb9f3a\"],[0.8888888888888888,\"#fdca26\"],[1.0,\"#f0f921\"]],\"diverging\":[[0,\"#8e0152\"],[0.1,\"#c51b7d\"],[0.2,\"#de77ae\"],[0.3,\"#f1b6da\"],[0.4,\"#fde0ef\"],[0.5,\"#f7f7f7\"],[0.6,\"#e6f5d0\"],[0.7,\"#b8e186\"],[0.8,\"#7fbc41\"],[0.9,\"#4d9221\"],[1,\"#276419\"]]},\"xaxis\":{\"gridcolor\":\"white\",\"linecolor\":\"white\",\"ticks\":\"\",\"title\":{\"standoff\":15,\"font\":{\"size\":20}},\"zerolinecolor\":\"white\",\"automargin\":true,\"zerolinewidth\":2},\"yaxis\":{\"gridcolor\":\"white\",\"linecolor\":\"white\",\"ticks\":\"\",\"title\":{\"standoff\":15,\"font\":{\"size\":20}},\"zerolinecolor\":\"white\",\"automargin\":true,\"zerolinewidth\":2},\"scene\":{\"xaxis\":{\"backgroundcolor\":\"#E5ECF6\",\"gridcolor\":\"white\",\"linecolor\":\"white\",\"showbackground\":true,\"ticks\":\"\",\"zerolinecolor\":\"white\",\"gridwidth\":2},\"yaxis\":{\"backgroundcolor\":\"#E5ECF6\",\"gridcolor\":\"white\",\"linecolor\":\"white\",\"showbackground\":true,\"ticks\":\"\",\"zerolinecolor\":\"white\",\"gridwidth\":2},\"zaxis\":{\"backgroundcolor\":\"#E5ECF6\",\"gridcolor\":\"white\",\"linecolor\":\"white\",\"showbackground\":true,\"ticks\":\"\",\"zerolinecolor\":\"white\",\"gridwidth\":2}},\"shapedefaults\":{\"line\":{\"color\":\"#2a3f5f\"}},\"annotationdefaults\":{\"arrowcolor\":\"#2a3f5f\",\"arrowhead\":0,\"arrowwidth\":1},\"geo\":{\"bgcolor\":\"white\",\"landcolor\":\"#E5ECF6\",\"subunitcolor\":\"white\",\"showland\":true,\"showlakes\":true,\"lakecolor\":\"white\"},\"title\":{\"x\":0.05,\"font\":{\"size\":30}},\"mapbox\":{\"style\":\"light\"}}},\"xaxis\":{\"anchor\":\"y\",\"domain\":[0.0,1.0],\"title\":{\"text\":\"Epoch\"}},\"yaxis\":{\"anchor\":\"x\",\"domain\":[0.0,1.0],\"title\":{\"text\":\"Loss\"}},\"legend\":{\"title\":{\"text\":\"Color\"},\"tracegroupgap\":0},\"title\":{\"text\":\"Training Curve for Modular Arithmetic - 35% Addition\"},\"updatemenus\":[{\"active\":-1,\"buttons\":[{\"args\":[{\"xaxis.type\":\"log\"}],\"args2\":[{\"xaxis.type\":\"linear\"}],\"label\":\"Log x-axis\",\"method\":\"relayout\"}],\"type\":\"buttons\",\"x\":-0.1,\"y\":1.0},{\"active\":-1,\"buttons\":[{\"args\":[{\"yaxis.type\":\"log\"}],\"args2\":[{\"yaxis.type\":\"linear\"}],\"label\":\"Log y-axis\",\"method\":\"relayout\"}],\"type\":\"buttons\",\"x\":-0.1,\"y\":0.85}]},                        {\"responsive\": true}                    ).then(function(){\n",
              "                            \n",
              "var gd = document.getElementById('ad256fba-2549-4d7f-9187-c2a86ab4768d');\n",
              "var x = new MutationObserver(function (mutations, observer) {{\n",
              "        var display = window.getComputedStyle(gd).display;\n",
              "        if (!display || display === 'none') {{\n",
              "            console.log([gd, 'removed!']);\n",
              "            Plotly.purge(gd);\n",
              "            observer.disconnect();\n",
              "        }}\n",
              "}});\n",
              "\n",
              "// Listen for the removal of the full notebook cells\n",
              "var notebookContainer = gd.closest('#notebook-container');\n",
              "if (notebookContainer) {{\n",
              "    x.observe(notebookContainer, {childList: true});\n",
              "}}\n",
              "\n",
              "// Listen for the clearing of the current output cell\n",
              "var outputEl = gd.closest('.output');\n",
              "if (outputEl) {{\n",
              "    x.observe(outputEl, {childList: true});\n",
              "}}\n",
              "\n",
              "                        })                };                });            </script>        </div>"
            ]
          },
          "metadata": {},
          "output_type": "display_data"
        },
        {
          "data": {
            "text/html": [
              "<div>                            <div id=\"9b8e738a-4158-4f7c-82c3-183ace8d849e\" class=\"plotly-graph-div\" style=\"height:525px; width:100%;\"></div>            <script type=\"text/javascript\">                require([\"plotly\"], function(Plotly) {                    window.PLOTLYENV=window.PLOTLYENV || {};                                    if (document.getElementById(\"9b8e738a-4158-4f7c-82c3-183ace8d849e\")) {                    Plotly.newPlot(                        \"9b8e738a-4158-4f7c-82c3-183ace8d849e\",                        [{\"hovertemplate\":\"Color=train\\u003cbr\\u003eEpoch=%{x}\\u003cbr\\u003eRolling Avg Loss=%{y}\\u003cextra\\u003e\\u003c\\u002fextra\\u003e\",\"legendgroup\":\"0\",\"line\":{\"color\":\"#636efa\",\"dash\":\"solid\"},\"marker\":{\"symbol\":\"circle\"},\"mode\":\"lines\",\"name\":\"train\",\"showlegend\":true,\"x\":[0,10,20,30,40,50,60,70,80,90,100,110,120,130,140,150,160,170,180,190,200,210,220,230,240,250,260,270,280,290,300,310,320,330,340,350,360,370,380,390,400,410,420,430,440,450,460,470,480,490,500,510,520,530,540,550,560,570,580,590,600,610,620,630,640,650,660,670,680,690,700,710,720,730,740,750,760,770,780,790,800,810,820,830,840,850,860,870,880,890,900,910,920,930,940,950,960,970,980,990,1000,1010,1020,1030,1040,1050,1060,1070,1080,1090,1100,1110,1120,1130,1140,1150,1160,1170,1180,1190,1200,1210,1220,1230,1240,1250,1260,1270,1280,1290,1300,1310,1320,1330,1340,1350,1360,1370,1380,1390,1400,1410,1420,1430,1440,1450,1460,1470,1480,1490,1500,1510,1520,1530,1540,1550,1560,1570,1580,1590,1600,1610,1620,1630,1640,1650,1660,1670,1680,1690,1700,1710,1720,1730,1740,1750,1760,1770,1780,1790,1800,1810,1820,1830,1840,1850,1860,1870,1880,1890,1900,1910,1920,1930,1940,1950,1960,1970,1980,1990,2000,2010,2020,2030,2040,2050,2060,2070,2080,2090,2100,2110,2120,2130,2140,2150,2160,2170,2180,2190,2200,2210,2220,2230,2240,2250,2260,2270,2280,2290,2300,2310,2320,2330,2340,2350,2360,2370,2380,2390,2400,2410,2420,2430,2440,2450,2460,2470,2480,2490,2500,2510,2520,2530,2540,2550,2560,2570,2580,2590,2600,2610,2620,2630,2640,2650,2660,2670,2680,2690,2700,2710,2720,2730,2740,2750,2760,2770,2780,2790,2800,2810,2820,2830,2840,2850,2860,2870,2880,2890,2900,2910,2920,2930,2940,2950,2960,2970,2980,2990,3000,3010,3020,3030,3040,3050,3060,3070,3080,3090,3100,3110,3120,3130,3140,3150,3160,3170,3180,3190,3200,3210,3220,3230,3240,3250,3260,3270,3280,3290,3300,3310,3320,3330,3340,3350,3360,3370,3380,3390,3400,3410,3420,3430,3440,3450,3460,3470,3480,3490,3500,3510,3520,3530,3540,3550,3560,3570,3580,3590,3600,3610,3620,3630,3640,3650,3660,3670,3680,3690,3700,3710,3720,3730,3740,3750,3760,3770,3780,3790,3800,3810,3820,3830,3840,3850,3860,3870,3880,3890,3900,3910,3920,3930,3940,3950,3960,3970,3980,3990,4000,4010,4020,4030,4040,4050,4060,4070,4080,4090,4100,4110,4120,4130,4140,4150,4160,4170,4180,4190,4200,4210,4220,4230,4240,4250,4260,4270,4280,4290,4300,4310,4320,4330,4340,4350,4360,4370,4380,4390,4400,4410,4420,4430,4440,4450,4460,4470,4480,4490,4500,4510,4520,4530,4540,4550,4560,4570,4580,4590,4600,4610,4620,4630,4640,4650,4660,4670,4680,4690,4700,4710,4720,4730,4740,4750,4760,4770,4780,4790,4800,4810,4820,4830,4840,4850,4860,4870,4880,4890,4900,4910,4920,4930,4940,4950,4960,4970,4980,4990,5000,5010,5020,5030,5040,5050,5060,5070,5080,5090,5100,5110,5120,5130,5140,5150,5160,5170,5180,5190,5200,5210,5220,5230,5240,5250,5260,5270,5280,5290,5300,5310,5320,5330,5340,5350,5360,5370,5380,5390,5400,5410,5420,5430,5440,5450,5460,5470,5480,5490,5500,5510,5520,5530,5540,5550,5560,5570,5580,5590,5600,5610,5620,5630,5640,5650,5660,5670,5680,5690,5700,5710,5720,5730,5740,5750,5760,5770,5780,5790,5800,5810,5820,5830,5840,5850,5860,5870,5880,5890,5900,5910,5920,5930,5940,5950,5960,5970,5980,5990],\"xaxis\":\"x\",\"y\":[5.075778397120251,4.76400211594195,4.696230907565606,4.652349606270372,4.6033357390607925,4.5363208024247115,4.446679060338524,4.332353532420213,4.197564567370391,4.048981461686762,3.892142816050518,3.73170661292503,3.571404950252978,3.414146260327855,3.261951013961502,3.1160280244410115,2.9769243979900475,2.8451404650827747,2.720547474651619,2.6033235771867935,2.4803637237528564,2.25974619020733,2.0417619149628456,1.8245905021736704,1.6110842826336056,1.405672923371528,1.2127443117291505,1.036635712715996,0.8795069454316169,0.7415254112002816,0.6220662557209137,0.5198408976473466,0.43322989569791814,0.3603225183593041,0.2992903108345345,0.24850139689982825,0.20667203491082667,0.1722506782227861,0.1443226516723103,0.12168741559912659,0.10342957026554181,0.08859689150355338,0.07659333207215265,0.0667473718572723,0.05859031401137768,0.05175536794708172,0.04596850012855535,0.04101995956852071,0.03675894841639789,0.03311712286708039,0.02988864552665936,0.027039758067220542,0.024493624282751977,0.022246949695147636,0.0202537973164068,0.01847372644195953,0.016809511174225914,0.01536743992419475,0.014071409340566905,0.012931288480829771,0.027930630410560084,0.030351841698552408,0.030779505149320194,0.030671310350067406,0.030424944065919345,0.030173741420207397,0.029972296447493784,0.029840490327034064,0.02976980842060866,0.029696365806436854,0.02971954511860751,0.029809916494748463,0.02994021964894533,0.030094089507211957,0.03026047331296219,0.030435833328202114,0.03061696966707536,0.030796430323018046,0.03098224700058232,0.031115681603854757,0.015216415464028202,0.011989882280783258,0.010826705955389117,0.010279599468628721,0.009934781982642403,0.009647839575288131,0.009362298562080255,0.009056449475377086,0.008725178997296523,0.008367932053647678,0.007991683914733231,0.007595807265064006,0.007197607864584531,0.043952152653245286,0.05317637423850598,0.055869193089155146,0.05688399789580102,0.0573829045352891,0.05771782767341187,0.058012509886028706,0.058318516269550764,0.058655099673992704,0.059028178296082735,0.05943578478295406,0.05987237301968237,0.0603318642075121,0.06080729381625625,0.06129121989412343,0.06177596439942792,0.06225706549459186,0.06272692652407469,0.06318798731247405,0.06362602191213779,0.026890022984585978,0.01766684984444142,0.01496167028502647,0.013924120644962758,0.013396100694773436,0.013028024089762147,0.01269824369899513,0.012355696391489469,0.011985297755967881,0.011578784478131177,0.01113792618996974,0.010662486805203793,0.07037512512540785,0.09759311837195879,0.10567326205428239,0.1085681144502182,0.10991833629081608,0.11072694286101382,0.11134435557346178,0.11190093884344778,0.1124509067370271,0.1130161929612102,0.11360202374657147,0.11420739667641128,0.11482667666495397,0.11545399443032858,0.11608268276135078,0.11670776242076465,0.11732046247405498,0.1179197234292681,0.11850195030473445,0.11907056390849143,0.05940761380188835,0.032201929937367584,0.024106745358673635,0.021176037362127996,0.0197699632350018,0.018917658788454892,0.07817711181327958,0.1023167047612982,0.1102866337829407,0.11322727884429996,0.11453074929049865,0.11522328963804206,0.11566932500049239,0.11601471298783302,0.116323343033793,0.11662269424688837,0.11692349169178141,0.11722906191983552,0.11753902221771391,0.11785044410097782,0.118160392797035,0.11846544061001409,0.11875940950739867,0.11903971285271667,0.11931118245133533,0.11954792018686289,0.059849503484487664,0.03530731846334148,0.027045023301234927,0.06258973395488265,0.07242501894142314,0.07518479813253688,0.07598109420449074,0.07612343065961574,0.07602574164503245,0.07584145072740195,0.07563391084108494,0.07542995754065229,0.07524040131325344,0.07506911390917483,0.07491647752765203,0.07478102076173114,0.07466035054639719,0.07455222450913887,0.07445269854744209,0.07435844745295571,0.07426331611955668,0.07418043778022333,0.07398275148266781,0.034983649182179215,0.023302440252751532,0.019290831121106466,0.01747040352687453,0.016367119489740036,0.03877438387873989,0.08009879266670422,0.09075668961954728,0.09401212327723185,0.09515782862691241,0.09560178049526852,0.09579524355604109,0.09590800945729575,0.09600974225743306,0.0961300516066828,0.09627929991452806,0.09645771566537405,0.09666236770932268,0.09688702283842217,0.09712693124647821,0.0973757000720949,0.09762910522098987,0.09787368782306446,0.09811300256166254,0.09836999594858822,0.07537823178992113,0.03355527141719528,0.02241577651864648,0.01866987936430634,0.017018017290880472,0.016053833939655815,0.01533374933778874,0.014688957467117928,0.014064314955200623,0.013426918920265145,0.012781926508430456,0.012114755358055413,0.011443269460584143,0.019676893633607064,0.06956729609710947,0.08074237479557878,0.08400755245065424,0.08518374427489867,0.08569680017765081,0.0859867768363713,0.08621620126166858,0.08644856029717093,0.08670696273224845,0.08699746263326981,0.08731858732715979,0.08766522367406364,0.08802843349510249,0.08840736786665569,0.08878774997732737,0.08917320805220118,0.08954853262365653,0.08992722558263042,0.09029440261808296,0.08174503959551854,0.03153209918672408,0.02003215872990803,0.01644388575159869,0.014949753845672603,0.014127211095671381,0.01353805340763829,0.013021839754195498,0.012516450414325957,0.011998705393746851,0.011463322685296668,0.010912735120513108,0.0103496996178529,0.009789495063347557,0.009224472695627997,0.008663215979115207,0.00811688581392008,0.0075853497222421185,0.007072282473864944,0.00658268521630356,0.006114951363268436,0.005672426873334976,0.0052569144383287835,0.004862486922786093,0.004492348804312651,0.0041481920879715565,0.0445571996343552,0.0852508967771221,0.09487793208476462,0.09811796305874312,0.09958254746669479,0.10045366834552938,0.10112036914855267,0.10170914371051923,0.10228752835162722,0.1028728437054766,0.1034643740164046,0.1040658173494856,0.10467318800565631,0.10527969498391983,0.10588457708244743,0.10648137090302573,0.10706512379199318,0.10763867020627098,0.1081956679521006,0.10873136704689335,0.06851597215291692,0.02801544424707645,0.018579049649776275,0.01552600276384466,0.014243089290655682,0.013546572047195116,0.013048744230199758,0.01261342740535468,0.012186361737287417,0.011747011969832109,0.011289745338453965,0.010815067870585105,0.010326384536795408,0.009828288335661555,0.009324736183505556,0.008822132414584238,0.00832217882998906,0.00782949556658688,0.007348764525800333,0.015673289458938092,0.058691316967008855,0.06734346669896747,0.07017093720424883,0.07136066415170458,0.07199860847462031,0.07244883453453402,0.0728435558278879,0.07323204203137461,0.07363403405849513,0.07405529843806608,0.07449502347420826,0.07494972957279043,0.07541523188684249,0.07588672519098401,0.07636018026148708,0.0768294568768587,0.07729313220297683,0.077747023642058,0.07818694971009765,0.06982004614403002,0.026758336942888226,0.01806146367615614,0.015188545167229745,0.013952972948861561,0.013269037493630835,0.012773044299797344,0.012333212640376219,0.011900556533570639,0.011455631608502236,0.01099300736117094,0.010513624346310311,0.010021095527726589,0.009519966304856348,0.00901480266814992,0.008510092524582484,0.008010192990731602,0.007519060646367482,0.007040102164095102,0.0065759057662138605,0.006128878857999238,0.005700803296644335,0.005293279514364946,0.0049078036750679005,0.0045434937051589495,0.0042010272299267395,0.0038806209247094904,0.003581624906126814,0.0033032213820203622,0.012989574206746958,0.0592372552630807,0.06688996148532969,0.06951226787649571,0.07071567618764776,0.0714681070540942,0.07204760289808992,0.07256913550746318,0.07307445155447401,0.07357949875911601,0.07408845485698622,0.07460021994894081,0.07511212474747297,0.07562119040754117,0.07612431198307439,0.07662045813886913,0.07710703199127997,0.07758188820084169,0.07804360502297789,0.07849090643331562,0.0689775212366328,0.022904891248367767,0.015427524101093423,0.012979055916103866,0.011946308827329078,0.011360054886521634,0.010941128867036859,0.01057366444257853,0.010215250058448564,0.009849371039941544,0.009471727804862126,0.009083251667561371,0.008686842976708043,0.008285462790169913,0.007881850402765251,0.0074786528301242884,0.007078219086277414,0.00668271418647652,0.0062941755337331375,0.005914491525197196,0.005545375476994702,0.005188236476897792,0.004844247609912122,0.004514525675092617,0.004199885855131951,0.0039009250074564174,0.003618001601968705,0.003351260329818917,0.0031006309418977786,0.002865886710331802,0.0026466792547158204,0.002442576351770734,0.002252914065583209,0.002076972418215871,0.0019142156036814153,0.0017637436163933326,0.001624799849485087,0.0014970923470472566,0.0013789764995675354,0.0012700819443310948,0.0011698210043034128,0.001077447127758329,0.0009927463214252324,0.0009147563503248255,0.0008425083252399826,0.0007759341401243358,0.0007149640841575068,0.019505096812141375,0.026335734857606576,0.028087403628615174,0.028781308632828673,0.029154081484952733,0.029420827107605376,0.029649133079810937,0.029868679661013062,0.030090618061243767,0.030318658244959464,0.030552793112622174,0.03079292529606514,0.03103717653136363,0.03128390014375024,0.03153170260023652,0.0317788395715502,0.03202445731671115,0.03226782316788661,0.03250735901058585,0.03274167081880404,0.014123837739860296,0.00746307084810448,0.005877600472992181,0.0053451479411306966,0.005128138008933939,0.005010808211510137,0.004925089442763501,0.004840747858264307,0.004746598288277091,0.004638905877482341,0.004517244236897314,0.004382712334482878,0.004237023244881155,0.004081989009223722,0.003919400895231334,0.0037509513662248254,0.0035782231606104166,0.00340278672832601,0.0032261280407437465,0.0030496157439200743,0.002874586382218894,0.002702348904876094,0.0025340904950798297,0.002370857196988659,0.0022135000572178305,0.0020626973445076334,0.0019189387418552517,0.0017825709300929608,0.001653772591252013,0.0015325860905210595,0.0014189381400131942,0.0013126559516147612,0.0012135333586002315,0.001121267255680623,0.001035557548156196,0.0009560451193181464,0.0008823855672870492,0.0008142290690364988,0.0007512005492827476,0.0006929727518692144,0.0006392151233238136,0.0005895900639227868,0.0005437984786730649,0.0005015597749723587,0.00046260282130737443,0.00042666495217518087,0.00039351251045129055,0.00036294247496637905,0.00033476816010643645,0.000308784165777659,0.00028482988924370174,0.0002627438995471456,0.00024238372865626652,0.00022365326987773684,0.00020634361830401,0.00019040175295239939,0.00017587205073486462,0.015131493584388858,0.018475861765640582,0.01933902920940282,0.01969331012393859,0.0199028731358821,0.020060467311751245,0.020200477732145103,0.02033736191650824,0.020477036572019866,0.02062097088325218,0.020768957714983105,0.020920241536092968,0.02107407333120432,0.02122971519217095,0.02138654242131874,0.021544011745858314,0.0217016506833748,0.02185910914114026,0.022015949522507006,0.02217152561699698,0.00735640991469365,0.00415127946008136,0.003425288183131905,0.003205329147010018,0.003126515980512438,0.003095416732815075,0.0030770676525578183,0.0030565702637496534,0.0030276971962682818,0.0029887688705119643,0.002939874893265592,0.0028817502608471037,0.0028152340728810937,0.0027411729826520136,0.002660397820554714,0.002573662306126694,0.0024816819992466033,0.002385152876723332,0.0022847573210723806,0.0021812670367185177,0.002075540073852482,0.00196850584255211,0.0018611102202267659,0.0017543135194799631,0.0016490119176330626,0.001546036494373091,0.0014460935547891494,0.0013497676926831697,0.0012574949089109615,0.0011696023619148111,0.001086295563680187,0.0010076878376712398,0.0009338336092243718,0.0008646558722641092,0.0008000607441780448,0.0007398959600243758,0.0006839511183837168,0.0006320168448127819,0.0005839064141477441,0.0005393185185894034,0.0004980344416808203,0.0004598557604586723,0.0004245622760173411,0.00039193561044800903,0.0003617928553119385,0.0003339741884107609,0.00030829997317428264,0.0002845737168631499,0.0002626939515740635,0.00024247293531577647,0.00022380665983692667,0.00020667741789102064,0.0001908445820663634,0.0001761687266255047,0.00016261600809402898,0.00015011893862158036,0.00013860677916854524,0.00012800326717091567,0.00011821452352093406,0.01844240673624187,0.021447092755012064,0.022198371760193195,0.022520143102149982,0.022710900980342705,0.022854796531277727,0.02298448233717869,0.02311203362668352,0.023242643389646624,0.023378012011313832,0.023518363004782213],\"yaxis\":\"y\",\"type\":\"scattergl\"},{\"hovertemplate\":\"Color=test\\u003cbr\\u003eEpoch=%{x}\\u003cbr\\u003eRolling Avg Loss=%{y}\\u003cextra\\u003e\\u003c\\u002fextra\\u003e\",\"legendgroup\":\"1\",\"line\":{\"color\":\"#EF553B\",\"dash\":\"solid\"},\"marker\":{\"symbol\":\"circle\"},\"mode\":\"lines\",\"name\":\"test\",\"showlegend\":true,\"x\":[0,10,20,30,40,50,60,70,80,90,100,110,120,130,140,150,160,170,180,190,200,210,220,230,240,250,260,270,280,290,300,310,320,330,340,350,360,370,380,390,400,410,420,430,440,450,460,470,480,490,500,510,520,530,540,550,560,570,580,590,600,610,620,630,640,650,660,670,680,690,700,710,720,730,740,750,760,770,780,790,800,810,820,830,840,850,860,870,880,890,900,910,920,930,940,950,960,970,980,990,1000,1010,1020,1030,1040,1050,1060,1070,1080,1090,1100,1110,1120,1130,1140,1150,1160,1170,1180,1190,1200,1210,1220,1230,1240,1250,1260,1270,1280,1290,1300,1310,1320,1330,1340,1350,1360,1370,1380,1390,1400,1410,1420,1430,1440,1450,1460,1470,1480,1490,1500,1510,1520,1530,1540,1550,1560,1570,1580,1590,1600,1610,1620,1630,1640,1650,1660,1670,1680,1690,1700,1710,1720,1730,1740,1750,1760,1770,1780,1790,1800,1810,1820,1830,1840,1850,1860,1870,1880,1890,1900,1910,1920,1930,1940,1950,1960,1970,1980,1990,2000,2010,2020,2030,2040,2050,2060,2070,2080,2090,2100,2110,2120,2130,2140,2150,2160,2170,2180,2190,2200,2210,2220,2230,2240,2250,2260,2270,2280,2290,2300,2310,2320,2330,2340,2350,2360,2370,2380,2390,2400,2410,2420,2430,2440,2450,2460,2470,2480,2490,2500,2510,2520,2530,2540,2550,2560,2570,2580,2590,2600,2610,2620,2630,2640,2650,2660,2670,2680,2690,2700,2710,2720,2730,2740,2750,2760,2770,2780,2790,2800,2810,2820,2830,2840,2850,2860,2870,2880,2890,2900,2910,2920,2930,2940,2950,2960,2970,2980,2990,3000,3010,3020,3030,3040,3050,3060,3070,3080,3090,3100,3110,3120,3130,3140,3150,3160,3170,3180,3190,3200,3210,3220,3230,3240,3250,3260,3270,3280,3290,3300,3310,3320,3330,3340,3350,3360,3370,3380,3390,3400,3410,3420,3430,3440,3450,3460,3470,3480,3490,3500,3510,3520,3530,3540,3550,3560,3570,3580,3590,3600,3610,3620,3630,3640,3650,3660,3670,3680,3690,3700,3710,3720,3730,3740,3750,3760,3770,3780,3790,3800,3810,3820,3830,3840,3850,3860,3870,3880,3890,3900,3910,3920,3930,3940,3950,3960,3970,3980,3990,4000,4010,4020,4030,4040,4050,4060,4070,4080,4090,4100,4110,4120,4130,4140,4150,4160,4170,4180,4190,4200,4210,4220,4230,4240,4250,4260,4270,4280,4290,4300,4310,4320,4330,4340,4350,4360,4370,4380,4390,4400,4410,4420,4430,4440,4450,4460,4470,4480,4490,4500,4510,4520,4530,4540,4550,4560,4570,4580,4590,4600,4610,4620,4630,4640,4650,4660,4670,4680,4690,4700,4710,4720,4730,4740,4750,4760,4770,4780,4790,4800,4810,4820,4830,4840,4850,4860,4870,4880,4890,4900,4910,4920,4930,4940,4950,4960,4970,4980,4990,5000,5010,5020,5030,5040,5050,5060,5070,5080,5090,5100,5110,5120,5130,5140,5150,5160,5170,5180,5190,5200,5210,5220,5230,5240,5250,5260,5270,5280,5290,5300,5310,5320,5330,5340,5350,5360,5370,5380,5390,5400,5410,5420,5430,5440,5450,5460,5470,5480,5490,5500,5510,5520,5530,5540,5550,5560,5570,5580,5590,5600,5610,5620,5630,5640,5650,5660,5670,5680,5690,5700,5710,5720,5730,5740,5750,5760,5770,5780,5790,5800,5810,5820,5830,5840,5850,5860,5870,5880,5890,5900,5910,5920,5930,5940,5950,5960,5970,5980,5990],\"xaxis\":\"x\",\"y\":[4.917083428397524,4.777982279873541,4.753526808248326,4.756604201553533,4.784029195669004,4.818511850262275,4.849505226473005,4.8717443827241205,4.8838161404371885,4.88774041560479,4.885980269757712,4.880590477157637,4.873109137783714,4.8647950934864035,4.856525111377491,4.849068696909065,4.8424617718464305,4.836877627764911,4.832089882313295,4.828358621260235,4.825233858032078,4.82650890271911,4.830328764648151,4.833129016870663,4.831331315288092,4.825609143364457,4.81799863078608,4.810826531920068,4.80586488785074,4.80366846482541,4.80414327072824,4.806905634526444,4.811641263902135,4.817609882395283,4.824339724402548,4.831248506203045,4.838319505417837,4.844708729111033,4.850771099438747,4.856212271578346,4.860789744037947,4.864334170499412,4.866988787540424,4.868611962894002,4.869312638612804,4.869170854548212,4.868226437696038,4.866532367425929,4.864303913921044,4.862207163558202,4.85925165723855,4.855790384722927,4.852030009950247,4.848153906224,4.8441642778685186,4.840016431638186,4.8356301468148715,4.831542343440157,4.827318655744292,4.8278666717538234,4.837789600914106,4.836730549636231,4.829355154860592,4.819782554292234,4.808330867712083,4.795184281460906,4.78078057198088,4.76551981183253,4.749466607936172,4.732093749772343,4.714642020413719,4.697002503551215,4.679001009007278,4.660779941310701,4.642411928625903,4.624016798774138,4.605614604112206,4.587299512709296,4.569289351508135,4.546623837074381,4.514789627672502,4.494304579903993,4.480418923346135,4.469038267736501,4.459848693686625,4.4526760570546395,4.447167642743829,4.442935442328547,4.43978209973992,4.437629656143027,4.436263730769605,4.435456808706922,4.4356401570059,4.4566581276179384,4.454938982524407,4.444789503093604,4.4308731490696855,4.414442377578144,4.3961746077548955,4.37637152060058,4.355109524151461,4.332512994441379,4.308771330335071,4.283951732019188,4.258100712722478,4.231317689193373,4.20367204572661,4.175230504835106,4.146091379838839,4.116326183442324,4.086000270189261,4.055223340615028,4.02346834560589,3.970848493308899,3.9408472816713567,3.9191127508103687,3.9009062606051463,3.8849335174114943,3.870423205038744,3.8570806169476737,3.8448220208849966,3.833466051739707,3.822895749064062,3.813037929863337,3.8037177483332805,3.8339049187211076,3.8263346126505406,3.814239708193974,3.7983599327352544,3.780219579307034,3.760902891695857,3.740514026666826,3.7192109880796154,3.6971010863612968,3.674225973786448,3.6505911259984356,3.626316326951076,3.601459734744846,3.576070628380851,3.550186702090546,3.5238535747356194,3.4971349247178143,3.4699932588476696,3.4424678967769595,3.4147261034039995,3.347723070474339,3.3186839879281838,3.294389498531602,3.274014299824512,3.2560788461202446,3.2398394181010506,3.2676121943297702,3.263317006249534,3.252878374280852,3.2397592288247448,3.2254796553747926,3.2104536154776087,3.194874761950268,3.178987268189997,3.162839809390634,3.146402795817861,3.12973439280847,3.1128696917969463,3.0958528364023756,3.078678214168934,3.061379784562709,3.043968277746525,3.026426068902751,3.0088240999476654,2.9910784360139013,2.972898239468389,2.9118296159670134,2.8838576870840136,2.8648678613445857,2.8840967201787913,2.8809817649319602,2.872476194004601,2.862164742965234,2.851270786381286,2.8399848865275095,2.828643529700699,2.8171319303547984,2.805607275751306,2.7939772374365806,2.7822371822974907,2.7703757644738154,2.758419613074196,2.7463863581681545,2.7342867689749677,2.722140717498039,2.709912436974379,2.69765342407153,2.6853366986366596,2.670977575957532,2.6219159543484136,2.597126692175556,2.5793006131676233,2.56455317467597,2.551197009303896,2.5672818774820034,2.585018599417003,2.5847999996360858,2.577732188423083,2.5679559465137523,2.5567681675388254,2.544924193823734,2.5325682286492297,2.519786131430502,2.506645224730153,2.4931088520787035,2.4792080748576892,2.4649042126323932,2.4501967928220045,2.43514482387245,2.4196818341213757,2.403868387203241,2.3875517903722594,2.3708148248677245,2.3538795057384365,2.308429599760187,2.261923059608269,2.2340256603478204,2.2133786073053927,2.195915629262533,2.180322394451318,2.16582641041928,2.152210407075781,2.139422716964189,2.12721630785712,2.115723814580618,2.104747535748871,2.094423598419442,2.106694385286797,2.134798395881889,2.134399704210716,2.1232102535624646,2.1074926664348426,2.090221133917848,2.0725216057797677,2.054472317870391,2.0362335936331113,2.0177443377156665,1.9991074260790505,1.9802769757257124,1.9612605072093523,1.9420126009484298,1.922519075405953,1.9026398706544847,1.8825117316870654,1.8619860596995486,1.841204113628786,1.820031222593959,1.7764717517199284,1.7172548310579747,1.686742314614205,1.6671771403990556,1.6522774918053402,1.6390331350037277,1.6262650032103805,1.6139029278920105,1.601775359646716,1.5898861485909634,1.5782158724933095,1.5667505666759305,1.5554745796512213,1.5446034286499235,1.533825027132178,1.5233329330198537,1.5132082018935826,1.503319741244878,1.4938032600517033,1.4845955215737618,1.4756939731953762,1.467211812450297,1.4589510291698975,1.4509872650201336,1.443326352637165,1.4360325834367849,1.486066762993368,1.517685369737593,1.5191691058052408,1.509524691576511,1.4953730029355774,1.478977339484225,1.461570199304978,1.4437082394665035,1.4261014802598597,1.408619862241438,1.3911498066144403,1.3738052292083927,1.3564137114333783,1.3390090306385605,1.3215732066373973,1.3039493466865424,1.2862389448131353,1.2683386557997056,1.2502310059607296,1.2318098839709342,1.1561075732380763,1.0987996363597814,1.0715651374534674,1.0554146800627635,1.0436728701623061,1.0340790528325285,1.025423844400248,1.0169590901033962,1.0082927972226958,0.9993880696742646,0.9902801419357655,0.9810008071690416,0.9715759844156097,0.9620884271134769,0.952545921716977,0.9430338319006046,0.9335725742644744,0.9242730271983264,0.9151475220115531,0.9330572512945673,0.9729771497412831,0.9779163055879918,0.9703549066924738,0.9580054212115698,0.9434793360730034,0.9283150126330397,0.9131359765212176,0.898272550584391,0.8838569975350589,0.8699015217720856,0.8563317957375834,0.8430815061842959,0.830109320859362,0.8173011207008404,0.8046363140251762,0.792014555918264,0.7794286159284407,0.7667797323007645,0.7540404950596433,0.7143568278020018,0.6527629106639078,0.6262587816079388,0.6123694153454817,0.6033441887929092,0.5965873487405232,0.5905606632271606,0.5846098038468868,0.5783879972855123,0.5717965069784922,0.5648377932390596,0.5575696943339151,0.5500535828059926,0.5423255502982323,0.5344196046636736,0.5263905584674419,0.5183048162959838,0.5102146043994227,0.5021630531000134,0.4941865462542941,0.4862907034180092,0.47849086663506557,0.4708091248137994,0.4632962482785217,0.45593689760497647,0.44876509249985375,0.4417896552914856,0.43499911086283416,0.4284116613737076,0.4574103290404076,0.5084180048364051,0.5214915653504443,0.5235022741046106,0.5202177358275208,0.5145942447496856,0.5081367105684688,0.5014589518214081,0.494913604508161,0.48857513738454617,0.48245645950191124,0.4765713833289365,0.47088317218162146,0.4653577367539227,0.45994595903540664,0.4546836999050817,0.44950687370986986,0.4443644457109725,0.439236547439818,0.4340865730247599,0.393494543444532,0.33100322289164696,0.3065430555214594,0.29321219230814977,0.2852280658192397,0.2796519689615009,0.27495003675094964,0.2704799970013713,0.2658757802939793,0.26105850589056095,0.2560031237173073,0.2507127935864304,0.24522268321197166,0.23956781743262823,0.23377515357049508,0.227868536443548,0.221879141064699,0.21584290030894449,0.20979586864858007,0.20376569849783713,0.1977844142261879,0.1918800912660365,0.18607435770967243,0.18038754235279295,0.17484123299415322,0.1694430261677737,0.16421525441091525,0.1591778623688562,0.1543364317462127,0.1496873753529103,0.14523214742569068,0.14096910119065126,0.13690225625906524,0.13302630875043772,0.1293332487872342,0.12580880073438538,0.12245679713050625,0.11929147832528676,0.1162522469723045,0.11337944756118168,0.11065183350247353,0.10806666237419885,0.10564993676835367,0.10333725924225524,0.10110831100937409,0.0990072372094686,0.09709037195371309,0.1359802271422095,0.15547189197946862,0.16420297937134984,0.1679964490803628,0.1695931934614527,0.17015616376780915,0.1703477237224093,0.1704314147684137,0.1705299907226454,0.17066573845103764,0.17083356750255543,0.1710637785012128,0.17129301096547883,0.17151532795177876,0.17171937766285084,0.17185392998715016,0.1719696084863255,0.17207355026752702,0.17210854852685548,0.17200744284401304,0.1311314156380625,0.10967507232236592,0.09898670651589611,0.09323054092917862,0.08966118246646229,0.08710697507475308,0.08489917019341417,0.08277525519347106,0.0806182879582526,0.07839570767770529,0.07609216279956338,0.07372824534196173,0.07132342733391067,0.06889201956188708,0.06644482308864186,0.06399668327675348,0.061558694846641365,0.05913953188417101,0.056747885043831145,0.05439466358633532,0.05208857268985482,0.04983390341615221,0.04764059841878837,0.04552215699328685,0.043481328583585936,0.04152053677283685,0.03964418858035066,0.037853945637379,0.036146476094033306,0.0345219070424026,0.032980997303483986,0.0315233843845863,0.03014841449493341,0.028853638168682548,0.027635910371824054,0.026490130714232896,0.025411373919689725,0.024399074482140754,0.023448727404239908,0.022557321807607406,0.021722393893036828,0.02094030602135584,0.020210767780365152,0.019531948652431293,0.018896450532809125,0.018305112662148734,0.017752442629429925,0.017235054856369482,0.016755692837136488,0.016309361258445395,0.01589587284076882,0.015513327861868577,0.015158542248613382,0.014830044798125433,0.014527852975779989,0.01425050013336447,0.014023837028287077,0.04530602548904687,0.057784328906168615,0.06363687679312711,0.06696661743362527,0.06924215685796815,0.07098806383418371,0.0725052363591226,0.07393459815885324,0.07532113542426161,0.0766849013709022,0.07802704907686092,0.07933902869708756,0.08061549110699616,0.08185171319590187,0.08304446448431425,0.08419262926748063,0.08529628932387215,0.086352851061116,0.08736488013462815,0.08830425114608627,0.057709870709491407,0.04589697292422414,0.04068507908853048,0.037967413262869586,0.03627376742940123,0.03507476155142616,0.034067673441596925,0.033115069250318444,0.03216636577840919,0.031203978185299016,0.03022624661250723,0.02924009034463304,0.028253704489706034,0.02726873052999478,0.02629054849348559,0.025320741346693,0.024360515975457107,0.023413260828324286,0.022479463880659103,0.021561138582039948,0.020659712713474564,0.019774063389864382,0.01890602372376089,0.01805989355830678,0.0172376890512375,0.016442169664941726,0.01567369884083397,0.014933964070986763,0.014222953524175854,0.013542200379253118,0.012892472133001442,0.01227207268238969,0.011682292813005484,0.011123214918829685,0.010591989249566652,0.010090816060227279,0.009617595750443275,0.009169245412043201,0.008746948406183886,0.008348938429887303,0.007973332078045615,0.0076219579821315345,0.007290739806029635,0.00697898938257819,0.006685173032939485,0.006410079644514719,0.006152426553745285,0.0059100971314785,0.005682508540934928,0.0054698287293264425,0.005271366662596078,0.005092239104149531,0.004920064920792996,0.004758142180099164,0.004608964578079823,0.004470125868319036,0.004341309108141366,0.004223224191770905,0.00411411131708923,0.034636014051161935,0.044419430156077216,0.048848294730196466,0.051318341561399666,0.053010862862980804,0.05429776669990101,0.05542056817599549,0.05649618656750289,0.05754896334494829,0.05858970297123554,0.05961648619479986],\"yaxis\":\"y\",\"type\":\"scattergl\"},{\"hovertemplate\":\"Color=add loss\\u003cbr\\u003eEpoch=%{x}\\u003cbr\\u003eRolling Avg Loss=%{y}\\u003cextra\\u003e\\u003c\\u002fextra\\u003e\",\"legendgroup\":\"2\",\"line\":{\"color\":\"#00cc96\",\"dash\":\"solid\"},\"marker\":{\"symbol\":\"circle\"},\"mode\":\"lines\",\"name\":\"add loss\",\"showlegend\":true,\"x\":[0,10,20,30,40,50,60,70,80,90,100,110,120,130,140,150,160,170,180,190,200,210,220,230,240,250,260,270,280,290,300,310,320,330,340,350,360,370,380,390,400,410,420,430,440,450,460,470,480,490,500,510,520,530,540,550,560,570,580,590,600,610,620,630,640,650,660,670,680,690,700,710,720,730,740,750,760,770,780,790,800,810,820,830,840,850,860,870,880,890,900,910,920,930,940,950,960,970,980,990,1000,1010,1020,1030,1040,1050,1060,1070,1080,1090,1100,1110,1120,1130,1140,1150,1160,1170,1180,1190,1200,1210,1220,1230,1240,1250,1260,1270,1280,1290,1300,1310,1320,1330,1340,1350,1360,1370,1380,1390,1400,1410,1420,1430,1440,1450,1460,1470,1480,1490,1500,1510,1520,1530,1540,1550,1560,1570,1580,1590,1600,1610,1620,1630,1640,1650,1660,1670,1680,1690,1700,1710,1720,1730,1740,1750,1760,1770,1780,1790,1800,1810,1820,1830,1840,1850,1860,1870,1880,1890,1900,1910,1920,1930,1940,1950,1960,1970,1980,1990,2000,2010,2020,2030,2040,2050,2060,2070,2080,2090,2100,2110,2120,2130,2140,2150,2160,2170,2180,2190,2200,2210,2220,2230,2240,2250,2260,2270,2280,2290,2300,2310,2320,2330,2340,2350,2360,2370,2380,2390,2400,2410,2420,2430,2440,2450,2460,2470,2480,2490,2500,2510,2520,2530,2540,2550,2560,2570,2580,2590,2600,2610,2620,2630,2640,2650,2660,2670,2680,2690,2700,2710,2720,2730,2740,2750,2760,2770,2780,2790,2800,2810,2820,2830,2840,2850,2860,2870,2880,2890,2900,2910,2920,2930,2940,2950,2960,2970,2980,2990,3000,3010,3020,3030,3040,3050,3060,3070,3080,3090,3100,3110,3120,3130,3140,3150,3160,3170,3180,3190,3200,3210,3220,3230,3240,3250,3260,3270,3280,3290,3300,3310,3320,3330,3340,3350,3360,3370,3380,3390,3400,3410,3420,3430,3440,3450,3460,3470,3480,3490,3500,3510,3520,3530,3540,3550,3560,3570,3580,3590,3600,3610,3620,3630,3640,3650,3660,3670,3680,3690,3700,3710,3720,3730,3740,3750,3760,3770,3780,3790,3800,3810,3820,3830,3840,3850,3860,3870,3880,3890,3900,3910,3920,3930,3940,3950,3960,3970,3980,3990,4000,4010,4020,4030,4040,4050,4060,4070,4080,4090,4100,4110,4120,4130,4140,4150,4160,4170,4180,4190,4200,4210,4220,4230,4240,4250,4260,4270,4280,4290,4300,4310,4320,4330,4340,4350,4360,4370,4380,4390,4400,4410,4420,4430,4440,4450,4460,4470,4480,4490,4500,4510,4520,4530,4540,4550,4560,4570,4580,4590,4600,4610,4620,4630,4640,4650,4660,4670,4680,4690,4700,4710,4720,4730,4740,4750,4760,4770,4780,4790,4800,4810,4820,4830,4840,4850,4860,4870,4880,4890,4900,4910,4920,4930,4940,4950,4960,4970,4980,4990,5000,5010,5020,5030,5040,5050,5060,5070,5080,5090,5100,5110,5120,5130,5140,5150,5160,5170,5180,5190,5200,5210,5220,5230,5240,5250,5260,5270,5280,5290,5300,5310,5320,5330,5340,5350,5360,5370,5380,5390,5400,5410,5420,5430,5440,5450,5460,5470,5480,5490,5500,5510,5520,5530,5540,5550,5560,5570,5580,5590,5600,5610,5620,5630,5640,5650,5660,5670,5680,5690,5700,5710,5720,5730,5740,5750,5760,5770,5780,5790,5800,5810,5820,5830,5840,5850,5860,5870,5880,5890,5900,5910,5920,5930,5940,5950,5960,5970,5980,5990],\"xaxis\":\"x\",\"y\":[4.772045246325693,4.77864217821206,4.796905208934901,4.829307342854629,4.869787298508279,4.909102793330337,4.943755779086528,4.973853450962585,5.000853601494691,5.027380409942699,5.054937139007479,5.083888872944018,5.115133821326842,5.147765588271243,5.181575465602033,5.216295658218438,5.251595962297869,5.287563064026887,5.323880414148455,5.360425028301147,5.428242608623423,5.498916491609867,5.570286817750366,5.640176226494135,5.70753013335258,5.773722388611313,5.840067718602577,5.906957853175457,5.97411649225188,6.04077985396914,6.106059052907041,6.169550972958874,6.230138350116284,6.2882167401731035,6.3437363952749894,6.396052030255422,6.445631540528448,6.492416387881846,6.536458795551079,6.577688278785939,6.61660318618938,6.65341899186146,6.688092886611709,6.720844531410165,6.752236274902887,6.781882537345391,6.810029901310695,6.837583855230102,6.864452203000839,6.890478787028355,6.915872380946465,6.940841149560244,6.965564733674649,6.989944116170506,7.0138171096491435,7.037816818355543,7.0622488965825685,7.0865002531324865,7.117114410559708,7.140531885489341,7.158788232134884,7.173884362899488,7.186809666809156,7.196203487650253,7.202007386234632,7.204817016342102,7.204932601378578,7.201840219540756,7.196265544123589,7.188601621253719,7.179090223701785,7.167828411620168,7.155259307457906,7.1416068298665705,7.127244375585088,7.112388853817793,7.0965776549337845,7.080509349910318,7.057865080029136,7.042444296608859,7.0318275961832954,7.024124272238493,7.019008527633057,7.0171954501439995,7.019140611130524,7.024527935533318,7.03294196753409,7.044689815607713,7.05866522156426,7.07494743453704,7.093524561186807,7.115486595128418,7.112887149435188,7.121550465174648,7.123149318508375,7.122519376002702,7.118952767970915,7.112790771101788,7.1032467690480505,7.090336294863846,7.074376394147204,7.055412527751988,7.033338615216785,7.008785572573663,6.981478252428299,6.95194033789473,6.920343650884486,6.886491306931473,6.851387525224706,6.814804725142418,6.776551862313928,6.735421806827825,6.719089005587287,6.691634510639344,6.671413388532786,6.6533075555105246,6.637663885621919,6.624741352109723,6.61454019694604,6.606977930122859,6.602850353002753,6.600664392845021,6.600774862305454,6.603491786891193,6.600588806598667,6.597225561130498,6.587781346820146,6.57780764600342,6.566670317184462,6.553956552012293,6.538948623859808,6.521618593629751,6.502152299962413,6.480301124675103,6.456014398254379,6.42965758064868,6.401553170366258,6.371119135942734,6.339215737440901,6.30603072986583,6.270587549894741,6.234433954496158,6.197079993889774,6.157875238619683,6.1253800753873495,6.0939810154603276,6.068918421234068,6.045787853169362,6.022949996234586,6.0038515974427735,5.995716614998679,5.981828511665288,5.966378237794329,5.949753419871588,5.933262487972935,5.916399497539494,5.898962435415676,5.881089987031719,5.862406543867186,5.842915163650948,5.82264982690179,5.801574476753606,5.7798240129534655,5.75765855010677,5.73450761196845,5.710829657151138,5.687028127507771,5.661643906013544,5.6367493176852586,5.608993055618076,5.572131403007765,5.543228753364966,5.521946053950778,5.5206902842347265,5.507772681021011,5.491188985530951,5.4745073372489,5.45728636686302,5.440033847605433,5.42244054773287,5.40461672762253,5.386578713015454,5.368211437664796,5.3494192579049304,5.33031225778082,5.310921031969052,5.291034587703738,5.270783765661344,5.250359517183414,5.230286101905857,5.209843455708397,5.188811341848287,5.163158095074125,5.120095481369549,5.090459606681411,5.06734438106051,5.0445385534880645,5.023129074923636,5.139441091292304,5.147454932399663,5.136255651445712,5.1191413013706875,5.099251601301708,5.077950082356527,5.055401000024334,5.031765661008538,5.007261722011985,4.9819384413527334,4.955741188241771,4.928341779022475,4.900133426445268,4.87097476690194,4.8408555305120995,4.809976514797012,4.777778849474576,4.74360472383955,4.7101272836408805,4.676263731475716,4.50582148022782,4.444952968673832,4.403929579518132,4.369924075268697,4.339271581017459,4.310751093563806,4.2846074268854695,4.260113862286086,4.23682523137644,4.2143877061919826,4.193381131987892,4.173210271633497,4.1547122640573395,4.2518969820839505,4.259597456495939,4.243053059827021,4.213824302613164,4.1796358953448545,4.144377559989674,4.108608954174903,4.072254145146525,4.035299150118066,3.9981724242820844,3.96027727824666,3.9222106141095034,3.8837837240503603,3.8444477782019377,3.804460312882462,3.7639967598176347,3.7233556761217828,3.6818272493231285,3.639966978786652,3.59689615396602,3.438497802737705,3.370024648148134,3.326043460816421,3.2949419972153913,3.269019403794995,3.2441298618802916,3.220208061918624,3.1966133543927873,3.1735433166303073,3.1509457996365073,3.128727441212027,3.107000493746468,3.085627013531212,3.0642771241974716,3.0441298471358076,3.024232968153066,3.0049817425448264,2.9866316585315125,2.9689021646886253,2.9511870035795704,2.934442742775956,2.9180987992742375,2.9023130155889465,2.887099870732567,2.872595558807956,2.8591532326446822,2.993100445112833,3.010407532931502,2.9966838859011258,2.969983135630973,2.9383057946204882,2.9030302671383112,2.8665903700095217,2.8308495513909273,2.794469202716689,2.7586789536797287,2.722970141171257,2.6870144858512472,2.6510569362992302,2.615649955644708,2.5797627992954615,2.543792074348631,2.507583001079431,2.471045202118861,2.433817843151375,2.3958011089953573,2.210231390307571,2.141365668423032,2.1033571630165837,2.0782456204025372,2.0578723117107884,2.0408908547388696,2.025002848884753,2.0086883785677987,1.992092549342652,1.9750354403384158,1.95745414347763,1.9395455926867258,1.9216008252584966,1.9034070006969848,1.8850967680553754,1.8667724617545012,1.8487052094463086,1.8308598309095914,1.8136831561907236,2.016725775403117,2.038446110123379,2.0324775654206486,2.01172287507832,1.9837168707824016,1.9531784086150619,1.9221870279099325,1.8914175661199848,1.8614058847937471,1.8323559618643277,1.8041076624964714,1.7766967102996585,1.749894670195129,1.7233518350235528,1.6972395127185482,1.6714110160887248,1.6457364389706606,1.6199776731769684,1.5941644255526837,1.5678470166250693,1.3214825726711301,1.2566359479844977,1.2197260443770372,1.1977861902157938,1.183211444461378,1.1714532169466867,1.160250421902894,1.1488813185862055,1.1368118731354133,1.1239845929396455,1.1104538060867435,1.0964119695520453,1.0818674905518746,1.0669143855814436,1.0516749608869085,1.036158229754135,1.0205903395384335,1.0050247784964073,0.9896205992417866,0.9742786308296179,0.9591732202926921,0.944186918066807,0.9294775678476054,0.9148657208359883,0.9008667706939326,0.8871353110860722,0.8737195665695061,0.8606292326665195,0.8479454567996323,1.0439589526903394,1.0814042493170948,1.0925855425849187,1.0888331476865367,1.0789942848785128,1.065645062772201,1.051640456506259,1.0375385249639884,1.0238398715317534,1.0105374657548756,0.997771254366852,0.9853883576798077,0.9734537405349846,0.9617902100771472,0.9506191387479589,0.9394234304512047,0.9284662574925957,0.9176189377458748,0.9068329904671307,0.8960006294628358,0.6767038986837425,0.6162142858066664,0.5821102718382758,0.5630905765548844,0.5502923372518937,0.5410933926900776,0.5326671776154477,0.524323896397088,0.5155892390945913,0.5063664489849873,0.49665825452240214,0.486484858754684,0.4759365800645396,0.4650609324164556,0.45390762069927193,0.44254134956455377,0.4310086147146205,0.4194023280077581,0.40778452984474195,0.396179676375385,0.3847052539496422,0.37337055917537276,0.36223071387769173,0.35135980853245863,0.34073621106532676,0.3303763343768121,0.3203811286765105,0.31076566880437306,0.30152091424740946,0.2925999771725297,0.2840832457395363,0.27597951802959053,0.2681858529263633,0.2607545451731078,0.2536802429219448,0.24694719170746637,0.24054058735152645,0.23442541177050208,0.22858921004062557,0.22317378131459348,0.2178982458220941,0.21287822008262297,0.20821868502614133,0.20365427278483367,0.1993881234415174,0.1954872240732324,0.19180539534011326,0.24232150319936435,0.2679181129434483,0.279298464840432,0.28413556017765634,0.28577657790081423,0.2862406256924367,0.2861715355462083,0.28606744808076967,0.28595474099940293,0.28596726649968296,0.2860811342841244,0.2862555597985544,0.28633959468015646,0.28651450572168696,0.28667095713741125,0.28664647043908925,0.28665793498306946,0.28652010276295864,0.28615312768411283,0.2856322682460538,0.23095965582496936,0.20124212862393884,0.18579992865448478,0.17684858725153182,0.17104054697855417,0.16642857072002432,0.16230944731285482,0.1581760667375758,0.15399215868241273,0.14964626740886278,0.14516662382864254,0.14058458082285838,0.13593859223120047,0.1312569360419757,0.12655947515210614,0.1218721748068496,0.11721264892914987,0.1125954279355796,0.108039736110117,0.1035705071075165,0.09919589886089973,0.09492953066863348,0.0907862970131188,0.08678697528821518,0.08293986649973381,0.07925555858228489,0.07572582298471825,0.07235517129934839,0.06914853723996256,0.06610263731000761,0.06320366663878993,0.060465358107719525,0.057897502021334105,0.05547291370780699,0.053177089783702156,0.0510255154016254,0.049012159587794465,0.047103580812171766,0.04532335450606049,0.04365839945848173,0.04206989026331312,0.04060246678067947,0.03923619007487093,0.03794763013532945,0.036780913428573425,0.03564244172265374,0.034610178684177005,0.03365674646196962,0.03273186219025644,0.03191046377126573,0.031139809363127574,0.030439636506136847,0.029743706940161197,0.029144122333017674,0.028575518214056843,0.028100350339312997,0.027621359377706396,0.06703116910205367,0.08381305110659691,0.09216285511959597,0.09748647956025083,0.10126929617708669,0.10432334435506263,0.10709704865420704,0.10970201843587582,0.11228752115069329,0.11480826014675227,0.11727375043306576,0.11970840963298826,0.12202457294382552,0.12428130956334515,0.1264379455351006,0.1285394059399293,0.1305128466208266,0.13242617929117403,0.13419513928997992,0.13591142964002342,0.09771241855465536,0.08208567667161028,0.0748328852770958,0.07057997618648842,0.06778369375098398,0.0656514751375065,0.06375420142506899,0.061918083305563185,0.060077429247288136,0.05820845006525893,0.05632025736611933,0.054427968495144675,0.052543055358279425,0.050669831078117455,0.04881704926218204,0.046986653789272304,0.045182746245064756,0.04340936731224536,0.041666580748122364,0.03996286833519512,0.038290576462680484,0.03664862215498805,0.035052220456585244,0.0334933295283668,0.031983437770984946,0.030522511540172916,0.02912074380890243,0.027770068318786333,0.026469437098324868,0.025238385050192463,0.024044781005101136,0.0229161731113152,0.021854707921233885,0.020824150721665765,0.019868887501481813,0.018955586958934265,0.018079323726055304,0.017263447327413972,0.016504713667540083,0.015755736649031078,0.015080885527509403,0.014423332809247671,0.01382901567254195,0.01324985110632122,0.012715261184955315,0.012229034618885333,0.011753861243738593,0.01129504381182568,0.010887229935404398,0.010496200763962424,0.0101343602836531,0.009776602603552585,0.009446619112177378,0.009156094953331154,0.008869472655410018,0.00861503419107504,0.008382302449504563,0.008166300518383534,0.007994356156313092,0.039387445515691566,0.05162687122756959,0.05789075927442885,0.06175778836173983,0.06455851610672719,0.0667651618717405,0.06877720270256416,0.07074315487985319,0.07268467633373238,0.0745815351950486,0.07644427811652846,0.07829040768656605],\"yaxis\":\"y\",\"type\":\"scattergl\"},{\"hovertemplate\":\"Color=multi loss\\u003cbr\\u003eEpoch=%{x}\\u003cbr\\u003eRolling Avg Loss=%{y}\\u003cextra\\u003e\\u003c\\u002fextra\\u003e\",\"legendgroup\":\"3\",\"line\":{\"color\":\"#ab63fa\",\"dash\":\"solid\"},\"marker\":{\"symbol\":\"circle\"},\"mode\":\"lines\",\"name\":\"multi loss\",\"showlegend\":true,\"x\":[0,10,20,30,40,50,60,70,80,90,100,110,120,130,140,150,160,170,180,190,200,210,220,230,240,250,260,270,280,290,300,310,320,330,340,350,360,370,380,390,400,410,420,430,440,450,460,470,480,490,500,510,520,530,540,550,560,570,580,590,600,610,620,630,640,650,660,670,680,690,700,710,720,730,740,750,760,770,780,790,800,810,820,830,840,850,860,870,880,890,900,910,920,930,940,950,960,970,980,990,1000,1010,1020,1030,1040,1050,1060,1070,1080,1090,1100,1110,1120,1130,1140,1150,1160,1170,1180,1190,1200,1210,1220,1230,1240,1250,1260,1270,1280,1290,1300,1310,1320,1330,1340,1350,1360,1370,1380,1390,1400,1410,1420,1430,1440,1450,1460,1470,1480,1490,1500,1510,1520,1530,1540,1550,1560,1570,1580,1590,1600,1610,1620,1630,1640,1650,1660,1670,1680,1690,1700,1710,1720,1730,1740,1750,1760,1770,1780,1790,1800,1810,1820,1830,1840,1850,1860,1870,1880,1890,1900,1910,1920,1930,1940,1950,1960,1970,1980,1990,2000,2010,2020,2030,2040,2050,2060,2070,2080,2090,2100,2110,2120,2130,2140,2150,2160,2170,2180,2190,2200,2210,2220,2230,2240,2250,2260,2270,2280,2290,2300,2310,2320,2330,2340,2350,2360,2370,2380,2390,2400,2410,2420,2430,2440,2450,2460,2470,2480,2490,2500,2510,2520,2530,2540,2550,2560,2570,2580,2590,2600,2610,2620,2630,2640,2650,2660,2670,2680,2690,2700,2710,2720,2730,2740,2750,2760,2770,2780,2790,2800,2810,2820,2830,2840,2850,2860,2870,2880,2890,2900,2910,2920,2930,2940,2950,2960,2970,2980,2990,3000,3010,3020,3030,3040,3050,3060,3070,3080,3090,3100,3110,3120,3130,3140,3150,3160,3170,3180,3190,3200,3210,3220,3230,3240,3250,3260,3270,3280,3290,3300,3310,3320,3330,3340,3350,3360,3370,3380,3390,3400,3410,3420,3430,3440,3450,3460,3470,3480,3490,3500,3510,3520,3530,3540,3550,3560,3570,3580,3590,3600,3610,3620,3630,3640,3650,3660,3670,3680,3690,3700,3710,3720,3730,3740,3750,3760,3770,3780,3790,3800,3810,3820,3830,3840,3850,3860,3870,3880,3890,3900,3910,3920,3930,3940,3950,3960,3970,3980,3990,4000,4010,4020,4030,4040,4050,4060,4070,4080,4090,4100,4110,4120,4130,4140,4150,4160,4170,4180,4190,4200,4210,4220,4230,4240,4250,4260,4270,4280,4290,4300,4310,4320,4330,4340,4350,4360,4370,4380,4390,4400,4410,4420,4430,4440,4450,4460,4470,4480,4490,4500,4510,4520,4530,4540,4550,4560,4570,4580,4590,4600,4610,4620,4630,4640,4650,4660,4670,4680,4690,4700,4710,4720,4730,4740,4750,4760,4770,4780,4790,4800,4810,4820,4830,4840,4850,4860,4870,4880,4890,4900,4910,4920,4930,4940,4950,4960,4970,4980,4990,5000,5010,5020,5030,5040,5050,5060,5070,5080,5090,5100,5110,5120,5130,5140,5150,5160,5170,5180,5190,5200,5210,5220,5230,5240,5250,5260,5270,5280,5290,5300,5310,5320,5330,5340,5350,5360,5370,5380,5390,5400,5410,5420,5430,5440,5450,5460,5470,5480,5490,5500,5510,5520,5530,5540,5550,5560,5570,5580,5590,5600,5610,5620,5630,5640,5650,5660,5670,5680,5690,5700,5710,5720,5730,5740,5750,5760,5770,5780,5790,5800,5810,5820,5830,5840,5850,5860,5870,5880,5890,5900,5910,5920,5930,5940,5950,5960,5970,5980,5990],\"xaxis\":\"x\",\"y\":[4.696414783400215,4.679414304557222,4.706948075766579,4.752541689860958,4.789346339454829,4.810953258873478,4.816214358672803,4.804859065163268,4.781165203025314,4.747040694425032,4.706067601361756,4.660503926034128,4.6124356331518905,4.563098651192685,4.514260822556172,4.4664183185817175,4.419662418239845,4.374528661318865,4.331309644290439,4.290035459314521,4.228195833750805,4.166188111427614,4.097348670392857,4.020363633556975,3.9394210370337257,3.8577439426134283,3.7781249749914267,3.702928099390751,3.6330948335975073,3.5691576589751355,3.510853677021373,3.457846369118701,3.4093822413954924,3.3650618077995738,3.323754488795749,3.284877440622484,3.2482841001247715,3.213326797361071,3.1795317381413275,3.1464318963039415,3.11414413394174,3.0820505169277763,3.0498982512382313,3.018073994398828,2.9861647431875733,2.9541221808070337,2.9217953343058447,2.8897161138330056,2.858108747526167,2.825605802186594,2.7929051942702467,2.760279610852309,2.7276621586022634,2.6951147437265295,2.6625298594416456,2.63014875018386,2.5976890849228376,2.5648567210254067,2.5335710127562487,2.5222824505337114,2.4941338030943916,2.462524997559167,2.4292341489805294,2.3956310787487034,2.3622589006683454,2.329955655394879,2.2990816050791305,2.269284322771458,2.2398871555452824,2.2126725278037123,2.1867486361584647,2.1617439649828016,2.13772951280039,2.1144850305261085,2.0920851728273226,2.0703481511225474,2.049448521904596,2.0296449088142183,2.008918615710477,1.968929914050334,1.9463844397546217,1.9279320656976473,1.91199519769568,1.896809304112617,1.881869025526464,1.8664444992606566,1.8502487828616316,1.8330756246297981,1.815449905213962,1.7967041158854122,1.7768964738840907,1.7565697396970097,1.75763494221079,1.740175581398765,1.7144239368116447,1.6857043424467268,1.6547634934247752,1.6233730670116056,1.5922433803080547,1.5616096835915592,1.5315665535410088,1.5023317249095105,1.4739208343012886,1.4461598192155158,1.4192306859199886,1.392982636323636,1.3672664329216881,1.3422410475782236,1.3173669395937704,1.2931567268570054,1.2694876283027683,1.245849246564275,1.2004211943136742,1.173095893444226,1.1536091508281001,1.1366869819446763,1.1216435485526086,1.106519332693758,1.0907812833379569,1.074179034986871,1.0564610344095386,1.0379101708373517,1.018002214845199,0.996959599722083,1.0072613182179961,0.9960964292526544,0.9771690109517577,0.9536778397136991,0.9276686290867376,0.9010830183369208,0.8746170832567112,0.8486866224354671,0.823409775680614,0.7989829572532174,0.775451782044051,0.7528009329936493,0.7309466829063224,0.7100454436751713,0.689882862759297,0.6704550670758412,0.6518434647197471,0.633614691523048,0.616290844839577,0.5997433650484324,0.5514454252384301,0.5243098930920012,0.5047538210770943,0.48958783284930957,0.4769412823021536,0.4652795042992848,0.4796929114185914,0.47903046580414194,0.4720034193104037,0.46132164647517293,0.44863322787736204,0.43498145700910024,0.42098375491187817,0.40695474809481713,0.39312436707433207,0.3795975696187104,0.3663962649061652,0.35356680660853473,0.3411083611295144,0.3290151872473453,0.3173304700406297,0.30604791440776447,0.295137807293565,0.2846572525450796,0.2745154832100228,0.26444319372550035,0.22877761098741806,0.20832358621436264,0.19468144611162916,0.20718599967216472,0.20820301876930003,0.20557904473165448,0.20137034284992858,0.19647925554489776,0.19130313856592024,0.1860246009289915,0.18081744763314916,0.17572965783612576,0.1707774284541927,0.1659825364312783,0.16134725173452294,0.156879819696437,0.15259370607993455,0.14848447666040335,0.14455917154906725,0.140787303910963,0.13717292013059815,0.1337292658341355,0.13002318695000195,0.1039311156340825,0.09145157102866659,0.08376857722607604,0.07821278087021556,0.07362369415587097,0.1590173264348063,0.17126629399049687,0.17532373553592936,0.1759946035894388,0.17522752589957122,0.1738761861828118,0.17235734882884463,0.17088043792545066,0.16953767263624378,0.1683495972119709,0.16732127759175985,0.16643958092904113,0.16568738420628543,0.165050636084563,0.16451963663529473,0.1640648143093052,0.16368655711209332,0.1633242750562872,0.16302527925885255,0.1628047711693275,0.07310950907123083,0.05684282157143163,0.04890168296443402,0.04445005639263759,0.041550428474460784,0.0393548578800632,0.03746728080301244,0.035683010851894535,0.03393011552673622,0.03218370839032351,0.030453791344428188,0.028743926863387125,0.02706842439776618,0.0618937111315533,0.07695126196942667,0.08264653469004646,0.0845933620509356,0.08536478135881989,0.08566811144283347,0.08582155311790049,0.08595865474815224,0.08613377376641543,0.08636438479829667,0.08664989213150057,0.08698230907885844,0.08734924701136586,0.08773748420073045,0.08814262320232649,0.08855173537801776,0.08896907760374809,0.0893802928539409,0.08979213267754255,0.0901947022468775,0.05413026347937895,0.037872446799070224,0.031021687208680378,0.027966196832088765,0.02613886411039479,0.02483431995408413,0.02373460016383129,0.02270765091486684,0.021697584382525774,0.02068345280753883,0.019665395884698407,0.018650137863459128,0.017646685503965386,0.0166674591465475,0.015708777886629853,0.014775235079542709,0.013877061615320171,0.01301332480832738,0.01218575216549579,0.011399783356433369,0.01065124522562806,0.009944759305539294,0.009278868221647753,0.008650735743917785,0.008059805294708648,0.0075060742990131655,0.0824135113839978,0.09676614822720572,0.10233563412892666,0.10502326963669964,0.10670022784208395,0.10794774296476603,0.10901373959224717,0.10998974775852885,0.11093265557598164,0.1118720704548162,0.11280607347513416,0.11373580246587789,0.11465373461333583,0.11555220901207049,0.11643063761993173,0.11728277862082037,0.11810538203926264,0.11890035894724511,0.11966349621102443,0.12039256706101235,0.04566169787323459,0.03148601002802866,0.026089636676740274,0.023574858856163217,0.022067981742671338,0.020985182546292173,0.020078583587789627,0.019248896669463493,0.01844948513249721,0.01765050076910313,0.016847841301586654,0.01604338669579988,0.015244491047612937,0.014455859842111429,0.013682525681160315,0.012927332727847653,0.012194339914676697,0.011484641931867653,0.010803939091733784,0.040642767014063975,0.0512023256470602,0.055588295225383,0.05751626461449055,0.05853217202685085,0.059217451817039614,0.05976660237981198,0.06027397699548205,0.0607791961060669,0.061297216475244096,0.061832342355289796,0.062381048066605674,0.06293927387096931,0.06350182026879587,0.0640635117372288,0.06461984885136815,0.06516674615642959,0.06570197384864225,0.06622433204259397,0.06672824217463139,0.03672178782286782,0.026002366279851558,0.02146277161952945,0.019388335306946853,0.01823124986895802,0.01740914350224025,0.016728185940105996,0.01609330955543566,0.015465758413027983,0.014829971041592718,0.014182238628905617,0.013525427509324433,0.012864098873157929,0.012203643240318139,0.011549351118951782,0.010905168236103676,0.010274648445064295,0.009660636772369412,0.009064415598587778,0.008489952406360973,0.007937781155420619,0.0074102335975831215,0.006908610832911027,0.006432807873650086,0.005982388769903342,0.005558078278972959,0.005159996449251266,0.004787334187734133,0.004439298923277836,0.04852468069973314,0.06056336162056454,0.06514953045768354,0.06749821892134965,0.06892754865794834,0.06995549649430463,0.07080892851814788,0.0715935704238884,0.07234345466024451,0.07307038695182863,0.07377930783611739,0.07447116537080678,0.07514369956684008,0.07579518724713545,0.07642562241083,0.07703561533408855,0.07762394479922569,0.07818967446752326,0.07873345199135129,0.07925501123643229,0.035345385760657974,0.023484103079379526,0.019075427403117778,0.01690282384112001,0.015646760590217666,0.014787868602918312,0.014097892249681877,0.013470744411041116,0.012871971898898864,0.012289286175674876,0.011716523226540373,0.011153717460635287,0.010602765604550453,0.01006505325814449,0.00954083702363656,0.009030326491086094,0.008534683323122344,0.00805496564479535,0.007591515737150017,0.0071441444784473606,0.006712584026286999,0.0062968941546735855,0.0058978813991201005,0.005516237151082553,0.005152186993259542,0.004806041720797181,0.004477975728543694,0.004167759226983437,0.0038750168299185794,0.0035997827473319235,0.003341852115998783,0.003100480512897795,0.0028749551748948857,0.0026646253221768537,0.0024689782641511065,0.0022873325361402056,0.00211876831531433,0.0019624869545076928,0.0018172213548604168,0.0016826585043137998,0.0015577565315346188,0.0014420280476073548,0.0013357161267779035,0.0012366507808959488,0.0011445729800381777,0.0010593476451882951,0.0009810343781179048,0.010890527697463568,0.013563502535000157,0.014814300551593518,0.015498677362701649,0.015940295338957564,0.016284166891639508,0.01658899582245248,0.016884001516321127,0.01717940786894414,0.017476101045263016,0.017774745739264068,0.01807486188731953,0.018374740335518287,0.018673437359185394,0.018969982446752416,0.01926259297831801,0.019551590127739493,0.01983591187296963,0.020114409783619648,0.020385561712626288,0.01066707748282647,0.008182131518210864,0.0071152509821556294,0.006609545051791903,0.006340311126049966,0.00616204408011713,0.006015447602088387,0.00587102317823848,0.005718012228130534,0.005555541224062706,0.005382868572936573,0.005201063362803,0.005011747487043502,0.0048165303747486335,0.004616478921387382,0.004412813798330487,0.004207118249986008,0.004000529861998828,0.0037940413342597208,0.003589064739383206,0.0033869029195975715,0.003188578508130837,0.0029951823392100328,0.002807736314581257,0.002627203340105384,0.0024542367906700254,0.002289153549616614,0.002132211083630401,0.0019838375155395065,0.0018440644424921903,0.0017126754107558615,0.0015895918507796887,0.0014744646376847683,0.0013669504660585516,0.0012667626024280587,0.0011734461837976996,0.0010867067866780573,0.0010060957415792444,0.0009312818106660822,0.0008620134207720641,0.0007978546651808439,0.0007383414477850572,0.0006832247052554151,0.000632255448488596,0.0005851132345799253,0.0005413654397518665,0.0005008829193318659,0.000463425170662574,0.00042882250411443193,0.0003968257747033382,0.00036721142358092575,0.0003398164180088207,0.0003145487849455371,0.00029114800018573345,0.00026944501800096,0.0002495423682611941,0.00023166216283064387,0.006555578158739475,0.008353734421929597,0.009099882068163366,0.009477057026350651,0.009731904852118518,0.009941591851018703,0.01013473081601304,0.010323964843564125,0.010512864109221268,0.01070166837524681,0.010890547748238947,0.011079231309730797,0.011267454690617342,0.01145497255547091,0.011641260451461034,0.011826156860617661,0.012009835652742022,0.012192228135658697,0.012373012131358503,0.012551472814754407,0.00638732177756688,0.0047473805136239965,0.004157036922680495,0.003932441456618592,0.0038261954010607494,0.003760337629573669,0.0037056482295875276,0.003649072591506622,0.0035867983131400013,0.0035182754127473874,0.003443148067725042,0.0033615562569609555,0.0032739403051534515,0.0031807261337722164,0.003082617596768087,0.0029799203321974614,0.0028728664366554917,0.002761783573704607,0.0026471243029380976,0.00252950429561892,0.002409700623704994,0.002288633045449685,0.002167236090600511,0.002046534435930763,0.0019275839681430242,0.0018112852240463576,0.0016982463920250375,0.001589078250062073,0.0014843190263665138,0.001384327725727412,0.0012893493211375625,0.001199572542435251,0.0011150123525134532,0.0010356534450595967,0.000961249659672029,0.0008917164894762918,0.0008269199767781119,0.0007665139400178241,0.0007104140026650321,0.0006583026686491439,0.0006098732940612594,0.0005650021294580016,0.0005233342900739172,0.0004847037662864551,0.0004488525340000109,0.00041565627568441386,0.0003848975051615891,0.0003564926786460871,0.0003301046248210337,0.0003056626057605211,0.000283040873253163,0.0002623637477982126,0.0002429316322504111,0.00022493535559095488,0.00020829804219292715,0.000192926036996708,0.00017866783832426643,0.000165561937700751,0.00015354121257376823,0.0032051704791673232,0.004654843673318234,0.005349743664055091,0.005685336204064396,0.0059124756039498055,0.0060993347438518235,0.006269140670861166,0.006435125127328542,0.0066020758027180255,0.0067714505986466635,0.006943437156647141,0.00711752198405903],\"yaxis\":\"y\",\"type\":\"scattergl\"}],                        {\"template\":{\"data\":{\"histogram2dcontour\":[{\"type\":\"histogram2dcontour\",\"colorbar\":{\"outlinewidth\":0,\"ticks\":\"\"},\"colorscale\":[[0.0,\"#0d0887\"],[0.1111111111111111,\"#46039f\"],[0.2222222222222222,\"#7201a8\"],[0.3333333333333333,\"#9c179e\"],[0.4444444444444444,\"#bd3786\"],[0.5555555555555556,\"#d8576b\"],[0.6666666666666666,\"#ed7953\"],[0.7777777777777778,\"#fb9f3a\"],[0.8888888888888888,\"#fdca26\"],[1.0,\"#f0f921\"]]}],\"choropleth\":[{\"type\":\"choropleth\",\"colorbar\":{\"outlinewidth\":0,\"ticks\":\"\"}}],\"histogram2d\":[{\"type\":\"histogram2d\",\"colorbar\":{\"outlinewidth\":0,\"ticks\":\"\"},\"colorscale\":[[0.0,\"#0d0887\"],[0.1111111111111111,\"#46039f\"],[0.2222222222222222,\"#7201a8\"],[0.3333333333333333,\"#9c179e\"],[0.4444444444444444,\"#bd3786\"],[0.5555555555555556,\"#d8576b\"],[0.6666666666666666,\"#ed7953\"],[0.7777777777777778,\"#fb9f3a\"],[0.8888888888888888,\"#fdca26\"],[1.0,\"#f0f921\"]]}],\"heatmap\":[{\"type\":\"heatmap\",\"colorbar\":{\"outlinewidth\":0,\"ticks\":\"\"},\"colorscale\":[[0.0,\"#0d0887\"],[0.1111111111111111,\"#46039f\"],[0.2222222222222222,\"#7201a8\"],[0.3333333333333333,\"#9c179e\"],[0.4444444444444444,\"#bd3786\"],[0.5555555555555556,\"#d8576b\"],[0.6666666666666666,\"#ed7953\"],[0.7777777777777778,\"#fb9f3a\"],[0.8888888888888888,\"#fdca26\"],[1.0,\"#f0f921\"]]}],\"heatmapgl\":[{\"type\":\"heatmapgl\",\"colorbar\":{\"outlinewidth\":0,\"ticks\":\"\"},\"colorscale\":[[0.0,\"#0d0887\"],[0.1111111111111111,\"#46039f\"],[0.2222222222222222,\"#7201a8\"],[0.3333333333333333,\"#9c179e\"],[0.4444444444444444,\"#bd3786\"],[0.5555555555555556,\"#d8576b\"],[0.6666666666666666,\"#ed7953\"],[0.7777777777777778,\"#fb9f3a\"],[0.8888888888888888,\"#fdca26\"],[1.0,\"#f0f921\"]]}],\"contourcarpet\":[{\"type\":\"contourcarpet\",\"colorbar\":{\"outlinewidth\":0,\"ticks\":\"\"}}],\"contour\":[{\"type\":\"contour\",\"colorbar\":{\"outlinewidth\":0,\"ticks\":\"\"},\"colorscale\":[[0.0,\"#0d0887\"],[0.1111111111111111,\"#46039f\"],[0.2222222222222222,\"#7201a8\"],[0.3333333333333333,\"#9c179e\"],[0.4444444444444444,\"#bd3786\"],[0.5555555555555556,\"#d8576b\"],[0.6666666666666666,\"#ed7953\"],[0.7777777777777778,\"#fb9f3a\"],[0.8888888888888888,\"#fdca26\"],[1.0,\"#f0f921\"]]}],\"surface\":[{\"type\":\"surface\",\"colorbar\":{\"outlinewidth\":0,\"ticks\":\"\"},\"colorscale\":[[0.0,\"#0d0887\"],[0.1111111111111111,\"#46039f\"],[0.2222222222222222,\"#7201a8\"],[0.3333333333333333,\"#9c179e\"],[0.4444444444444444,\"#bd3786\"],[0.5555555555555556,\"#d8576b\"],[0.6666666666666666,\"#ed7953\"],[0.7777777777777778,\"#fb9f3a\"],[0.8888888888888888,\"#fdca26\"],[1.0,\"#f0f921\"]]}],\"mesh3d\":[{\"type\":\"mesh3d\",\"colorbar\":{\"outlinewidth\":0,\"ticks\":\"\"}}],\"scatter\":[{\"fillpattern\":{\"fillmode\":\"overlay\",\"size\":10,\"solidity\":0.2},\"type\":\"scatter\"}],\"parcoords\":[{\"type\":\"parcoords\",\"line\":{\"colorbar\":{\"outlinewidth\":0,\"ticks\":\"\"}}}],\"scatterpolargl\":[{\"type\":\"scatterpolargl\",\"marker\":{\"colorbar\":{\"outlinewidth\":0,\"ticks\":\"\"}}}],\"bar\":[{\"error_x\":{\"color\":\"#2a3f5f\"},\"error_y\":{\"color\":\"#2a3f5f\"},\"marker\":{\"line\":{\"color\":\"#E5ECF6\",\"width\":0.5},\"pattern\":{\"fillmode\":\"overlay\",\"size\":10,\"solidity\":0.2}},\"type\":\"bar\"}],\"scattergeo\":[{\"type\":\"scattergeo\",\"marker\":{\"colorbar\":{\"outlinewidth\":0,\"ticks\":\"\"}}}],\"scatterpolar\":[{\"type\":\"scatterpolar\",\"marker\":{\"colorbar\":{\"outlinewidth\":0,\"ticks\":\"\"}}}],\"histogram\":[{\"marker\":{\"pattern\":{\"fillmode\":\"overlay\",\"size\":10,\"solidity\":0.2}},\"type\":\"histogram\"}],\"scattergl\":[{\"type\":\"scattergl\",\"marker\":{\"colorbar\":{\"outlinewidth\":0,\"ticks\":\"\"}}}],\"scatter3d\":[{\"type\":\"scatter3d\",\"line\":{\"colorbar\":{\"outlinewidth\":0,\"ticks\":\"\"}},\"marker\":{\"colorbar\":{\"outlinewidth\":0,\"ticks\":\"\"}}}],\"scattermapbox\":[{\"type\":\"scattermapbox\",\"marker\":{\"colorbar\":{\"outlinewidth\":0,\"ticks\":\"\"}}}],\"scatterternary\":[{\"type\":\"scatterternary\",\"marker\":{\"colorbar\":{\"outlinewidth\":0,\"ticks\":\"\"}}}],\"scattercarpet\":[{\"type\":\"scattercarpet\",\"marker\":{\"colorbar\":{\"outlinewidth\":0,\"ticks\":\"\"}}}],\"carpet\":[{\"aaxis\":{\"endlinecolor\":\"#2a3f5f\",\"gridcolor\":\"white\",\"linecolor\":\"white\",\"minorgridcolor\":\"white\",\"startlinecolor\":\"#2a3f5f\"},\"baxis\":{\"endlinecolor\":\"#2a3f5f\",\"gridcolor\":\"white\",\"linecolor\":\"white\",\"minorgridcolor\":\"white\",\"startlinecolor\":\"#2a3f5f\"},\"type\":\"carpet\"}],\"table\":[{\"cells\":{\"fill\":{\"color\":\"#EBF0F8\"},\"line\":{\"color\":\"white\"}},\"header\":{\"fill\":{\"color\":\"#C8D4E3\"},\"line\":{\"color\":\"white\"}},\"type\":\"table\"}],\"barpolar\":[{\"marker\":{\"line\":{\"color\":\"#E5ECF6\",\"width\":0.5},\"pattern\":{\"fillmode\":\"overlay\",\"size\":10,\"solidity\":0.2}},\"type\":\"barpolar\"}],\"pie\":[{\"automargin\":true,\"type\":\"pie\"}]},\"layout\":{\"autotypenumbers\":\"strict\",\"colorway\":[\"#636efa\",\"#EF553B\",\"#00cc96\",\"#ab63fa\",\"#FFA15A\",\"#19d3f3\",\"#FF6692\",\"#B6E880\",\"#FF97FF\",\"#FECB52\"],\"font\":{\"color\":\"#2a3f5f\"},\"hovermode\":\"closest\",\"hoverlabel\":{\"align\":\"left\"},\"paper_bgcolor\":\"white\",\"plot_bgcolor\":\"#E5ECF6\",\"polar\":{\"bgcolor\":\"#E5ECF6\",\"angularaxis\":{\"gridcolor\":\"white\",\"linecolor\":\"white\",\"ticks\":\"\"},\"radialaxis\":{\"gridcolor\":\"white\",\"linecolor\":\"white\",\"ticks\":\"\"}},\"ternary\":{\"bgcolor\":\"#E5ECF6\",\"aaxis\":{\"gridcolor\":\"white\",\"linecolor\":\"white\",\"ticks\":\"\"},\"baxis\":{\"gridcolor\":\"white\",\"linecolor\":\"white\",\"ticks\":\"\"},\"caxis\":{\"gridcolor\":\"white\",\"linecolor\":\"white\",\"ticks\":\"\"}},\"coloraxis\":{\"colorbar\":{\"outlinewidth\":0,\"ticks\":\"\"}},\"colorscale\":{\"sequential\":[[0.0,\"#0d0887\"],[0.1111111111111111,\"#46039f\"],[0.2222222222222222,\"#7201a8\"],[0.3333333333333333,\"#9c179e\"],[0.4444444444444444,\"#bd3786\"],[0.5555555555555556,\"#d8576b\"],[0.6666666666666666,\"#ed7953\"],[0.7777777777777778,\"#fb9f3a\"],[0.8888888888888888,\"#fdca26\"],[1.0,\"#f0f921\"]],\"sequentialminus\":[[0.0,\"#0d0887\"],[0.1111111111111111,\"#46039f\"],[0.2222222222222222,\"#7201a8\"],[0.3333333333333333,\"#9c179e\"],[0.4444444444444444,\"#bd3786\"],[0.5555555555555556,\"#d8576b\"],[0.6666666666666666,\"#ed7953\"],[0.7777777777777778,\"#fb9f3a\"],[0.8888888888888888,\"#fdca26\"],[1.0,\"#f0f921\"]],\"diverging\":[[0,\"#8e0152\"],[0.1,\"#c51b7d\"],[0.2,\"#de77ae\"],[0.3,\"#f1b6da\"],[0.4,\"#fde0ef\"],[0.5,\"#f7f7f7\"],[0.6,\"#e6f5d0\"],[0.7,\"#b8e186\"],[0.8,\"#7fbc41\"],[0.9,\"#4d9221\"],[1,\"#276419\"]]},\"xaxis\":{\"gridcolor\":\"white\",\"linecolor\":\"white\",\"ticks\":\"\",\"title\":{\"standoff\":15,\"font\":{\"size\":20}},\"zerolinecolor\":\"white\",\"automargin\":true,\"zerolinewidth\":2},\"yaxis\":{\"gridcolor\":\"white\",\"linecolor\":\"white\",\"ticks\":\"\",\"title\":{\"standoff\":15,\"font\":{\"size\":20}},\"zerolinecolor\":\"white\",\"automargin\":true,\"zerolinewidth\":2},\"scene\":{\"xaxis\":{\"backgroundcolor\":\"#E5ECF6\",\"gridcolor\":\"white\",\"linecolor\":\"white\",\"showbackground\":true,\"ticks\":\"\",\"zerolinecolor\":\"white\",\"gridwidth\":2},\"yaxis\":{\"backgroundcolor\":\"#E5ECF6\",\"gridcolor\":\"white\",\"linecolor\":\"white\",\"showbackground\":true,\"ticks\":\"\",\"zerolinecolor\":\"white\",\"gridwidth\":2},\"zaxis\":{\"backgroundcolor\":\"#E5ECF6\",\"gridcolor\":\"white\",\"linecolor\":\"white\",\"showbackground\":true,\"ticks\":\"\",\"zerolinecolor\":\"white\",\"gridwidth\":2}},\"shapedefaults\":{\"line\":{\"color\":\"#2a3f5f\"}},\"annotationdefaults\":{\"arrowcolor\":\"#2a3f5f\",\"arrowhead\":0,\"arrowwidth\":1},\"geo\":{\"bgcolor\":\"white\",\"landcolor\":\"#E5ECF6\",\"subunitcolor\":\"white\",\"showland\":true,\"showlakes\":true,\"lakecolor\":\"white\"},\"title\":{\"x\":0.05,\"font\":{\"size\":30}},\"mapbox\":{\"style\":\"light\"}}},\"xaxis\":{\"anchor\":\"y\",\"domain\":[0.0,1.0],\"title\":{\"text\":\"Epoch\"}},\"yaxis\":{\"anchor\":\"x\",\"domain\":[0.0,1.0],\"title\":{\"text\":\"Rolling Avg Loss\"}},\"legend\":{\"title\":{\"text\":\"Color\"},\"tracegroupgap\":0},\"title\":{\"text\":\"Training Curve for Modular Arithmetic - 35% Addition\"},\"updatemenus\":[{\"active\":-1,\"buttons\":[{\"args\":[{\"xaxis.type\":\"log\"}],\"args2\":[{\"xaxis.type\":\"linear\"}],\"label\":\"Log x-axis\",\"method\":\"relayout\"}],\"type\":\"buttons\",\"x\":-0.1,\"y\":1.0},{\"active\":-1,\"buttons\":[{\"args\":[{\"yaxis.type\":\"log\"}],\"args2\":[{\"yaxis.type\":\"linear\"}],\"label\":\"Log y-axis\",\"method\":\"relayout\"}],\"type\":\"buttons\",\"x\":-0.1,\"y\":0.85}]},                        {\"responsive\": true}                    ).then(function(){\n",
              "                            \n",
              "var gd = document.getElementById('9b8e738a-4158-4f7c-82c3-183ace8d849e');\n",
              "var x = new MutationObserver(function (mutations, observer) {{\n",
              "        var display = window.getComputedStyle(gd).display;\n",
              "        if (!display || display === 'none') {{\n",
              "            console.log([gd, 'removed!']);\n",
              "            Plotly.purge(gd);\n",
              "            observer.disconnect();\n",
              "        }}\n",
              "}});\n",
              "\n",
              "// Listen for the removal of the full notebook cells\n",
              "var notebookContainer = gd.closest('#notebook-container');\n",
              "if (notebookContainer) {{\n",
              "    x.observe(notebookContainer, {childList: true});\n",
              "}}\n",
              "\n",
              "// Listen for the clearing of the current output cell\n",
              "var outputEl = gd.closest('.output');\n",
              "if (outputEl) {{\n",
              "    x.observe(outputEl, {childList: true});\n",
              "}}\n",
              "\n",
              "                        })                };                });            </script>        </div>"
            ]
          },
          "metadata": {},
          "output_type": "display_data"
        }
      ],
      "source": [
        "from neel_plotly.plot import line\n",
        "step = 10\n",
        "average_window = 200\n",
        "train_losses_avg = rolling_average(train_losses, average_window)\n",
        "test_losses_avg = rolling_average(test_losses, average_window)\n",
        "add_test_losses_avg = rolling_average(add_test_losses, average_window//10)\n",
        "multi_test_losses_avg = rolling_average(multi_test_losses, average_window//10)\n",
        "\n",
        "line([train_losses[::step], test_losses[::step], add_test_losses, multi_test_losses], x=np.arange(0, len(train_losses_avg), step), xaxis=\"Epoch\", yaxis=\"Loss\", log_y=False, title=f\"Training Curve for Modular Arithmetic - {addition_frac*100:.0f}% Addition\", line_labels=['train loss', 'test loss', 'add loss', 'multi loss'], toggle_x=True, toggle_y=True)\n",
        "line([train_losses_avg[::step], test_losses_avg[::step], add_test_losses_avg, multi_test_losses_avg], x=np.arange(0, len(train_losses_avg), step), xaxis=\"Epoch\", yaxis=\"Rolling Avg Loss\", log_y=False, title=f\"Training Curve for Modular Arithmetic - {addition_frac*100:.0f}% Addition\", line_labels=['train', 'test', 'add loss', 'multi loss'], toggle_x=True, toggle_y=True)"
      ]
    }
  ],
  "metadata": {
    "colab": {
      "provenance": [],
      "toc_visible": true
    },
    "kernelspec": {
      "display_name": "base",
      "language": "python",
      "name": "python3"
    },
    "language_info": {
      "codemirror_mode": {
        "name": "ipython",
        "version": 3
      },
      "file_extension": ".py",
      "mimetype": "text/x-python",
      "name": "python",
      "nbconvert_exporter": "python",
      "pygments_lexer": "ipython3",
      "version": "3.12.5"
    },
    "orig_nbformat": 4,
    "vscode": {
      "interpreter": {
        "hash": "8859a5491331dba93123a91c2831400aced845b502848170e05fcb48b2c144be"
      }
    }
  },
  "nbformat": 4,
  "nbformat_minor": 0
}
