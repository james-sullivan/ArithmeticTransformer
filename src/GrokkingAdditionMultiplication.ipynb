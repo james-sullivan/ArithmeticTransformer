{
  "cells": [
    {
      "cell_type": "markdown",
      "metadata": {
        "id": "2A9Wv1do2UV2"
      },
      "source": [
        "# Dev Interp - Grokking Modular Addition and Multiplication"
      ]
    },
    {
      "cell_type": "markdown",
      "metadata": {
        "id": "A13-7Mc62UV3"
      },
      "source": [
        "# Setup"
      ]
    },
    {
      "cell_type": "code",
      "execution_count": 131,
      "metadata": {
        "id": "Q998xCML2UV3"
      },
      "outputs": [],
      "source": [
        "TRAIN_MODEL = False"
      ]
    },
    {
      "cell_type": "code",
      "execution_count": 132,
      "metadata": {
        "id": "zUBTNnz62UV3",
        "outputId": "3658e07b-1cba-42b8-f23b-a319f209561a"
      },
      "outputs": [
        {
          "name": "stdout",
          "output_type": "stream",
          "text": [
            "Running as a Jupyter notebook - intended for development only!\n",
            "The autoreload extension is already loaded. To reload it, use:\n",
            "  %reload_ext autoreload\n"
          ]
        },
        {
          "name": "stderr",
          "output_type": "stream",
          "text": [
            "/var/folders/85/m4tlmmlj4w58khykxvwgvt980000gn/T/ipykernel_905/2858945602.py:22: DeprecationWarning:\n",
            "\n",
            "`magic(...)` is deprecated since IPython 0.13 (warning added in 8.1), use run_line_magic(magic_name, parameter_s).\n",
            "\n",
            "/var/folders/85/m4tlmmlj4w58khykxvwgvt980000gn/T/ipykernel_905/2858945602.py:23: DeprecationWarning:\n",
            "\n",
            "`magic(...)` is deprecated since IPython 0.13 (warning added in 8.1), use run_line_magic(magic_name, parameter_s).\n",
            "\n"
          ]
        }
      ],
      "source": [
        "# Janky code to do different setup when run in a Colab notebook vs VSCode\n",
        "import os\n",
        "\n",
        "DEVELOPMENT_MODE = True\n",
        "IN_GITHUB = os.getenv(\"GITHUB_ACTIONS\") == \"true\"\n",
        "try:\n",
        "    import google.colab\n",
        "    IN_COLAB = True\n",
        "    print(\"Running as a Colab notebook\")\n",
        "\n",
        "    # PySvelte is an unmaintained visualization library, use it as a backup if circuitsvis isn't working\n",
        "    # # Install another version of node that makes PySvelte work way faster\n",
        "    # !curl -fsSL https://deb.nodesource.com/setup_16.x | sudo -E bash -; sudo apt-get install -y nodejs\n",
        "    # %pip install git+https://github.com/neelnanda-io/PySvelte.git\n",
        "except:\n",
        "    IN_COLAB = False\n",
        "    print(\"Running as a Jupyter notebook - intended for development only!\")\n",
        "    from IPython import get_ipython\n",
        "\n",
        "    ipython = get_ipython()\n",
        "    # Code to automatically update the HookedTransformer code as its edited without restarting the kernel\n",
        "    ipython.magic(\"load_ext autoreload\")\n",
        "    ipython.magic(\"autoreload 2\")\n",
        "\n",
        "if IN_COLAB or IN_GITHUB:\n",
        "    %pip install transformer_lens\n",
        "    %pip install circuitsvis"
      ]
    },
    {
      "cell_type": "code",
      "execution_count": 133,
      "metadata": {
        "id": "I8nEQDlP2UV4",
        "outputId": "a46ab340-d447-407c-9e3d-36be3ef04ad3"
      },
      "outputs": [
        {
          "name": "stdout",
          "output_type": "stream",
          "text": [
            "Using renderer: notebook_connected\n"
          ]
        }
      ],
      "source": [
        "# Plotly needs a different renderer for VSCode/Notebooks vs Colab argh\n",
        "import plotly.io as pio\n",
        "if IN_COLAB or not DEVELOPMENT_MODE:\n",
        "    pio.renderers.default = \"colab\"\n",
        "else:\n",
        "    pio.renderers.default = \"notebook_connected\"\n",
        "print(f\"Using renderer: {pio.renderers.default}\")"
      ]
    },
    {
      "cell_type": "code",
      "execution_count": 134,
      "metadata": {
        "id": "rp4RGtCp2UV4"
      },
      "outputs": [],
      "source": [
        "pio.templates['plotly'].layout.xaxis.title.font.size = 20\n",
        "pio.templates['plotly'].layout.yaxis.title.font.size = 20\n",
        "pio.templates['plotly'].layout.title.font.size = 30"
      ]
    },
    {
      "cell_type": "code",
      "execution_count": 135,
      "metadata": {
        "id": "RpPUz36r2UV4"
      },
      "outputs": [],
      "source": [
        "# Import stuff\n",
        "import torch\n",
        "import torch.nn as nn\n",
        "import torch.nn.functional as F\n",
        "import torch.optim as optim\n",
        "import numpy as np\n",
        "import einops\n",
        "from fancy_einsum import einsum\n",
        "import os\n",
        "import tqdm.auto as tqdm\n",
        "import random\n",
        "from pathlib import Path\n",
        "import plotly.express as px\n",
        "from torch.utils.data import DataLoader\n",
        "\n",
        "from typing import List, Union, Optional\n",
        "from functools import partial\n",
        "import copy\n",
        "\n",
        "import itertools\n",
        "from transformers import AutoModelForCausalLM, AutoConfig, AutoTokenizer\n",
        "import dataclasses\n",
        "import datasets\n",
        "from IPython.display import HTML"
      ]
    },
    {
      "cell_type": "code",
      "execution_count": 136,
      "metadata": {
        "id": "NmIM5yWr2UV4"
      },
      "outputs": [
        {
          "name": "stdout",
          "output_type": "stream",
          "text": [
            "device: cpu\n"
          ]
        }
      ],
      "source": [
        "import transformer_lens.utils as utils\n",
        "from transformer_lens import HookedTransformer, HookedTransformerConfig\n",
        "\n",
        "device = \"cuda\" if torch.cuda.is_available() else \"cpu\"\n",
        "\n",
        "print(f\"device: {device}\")"
      ]
    },
    {
      "cell_type": "markdown",
      "metadata": {
        "id": "Q5bjmWrq2UV5"
      },
      "source": [
        "Plotting helper functions:"
      ]
    },
    {
      "cell_type": "code",
      "execution_count": 137,
      "metadata": {
        "id": "aZe03f--2UV5"
      },
      "outputs": [],
      "source": [
        "from collections import deque\n",
        "\n",
        "def rolling_average(values, window_size):\n",
        "    window = deque(maxlen=window_size)\n",
        "    averages = []\n",
        "    \n",
        "    for value in values:\n",
        "        window.append(value)\n",
        "        averages.append(sum(window) / len(window))\n",
        "    \n",
        "    return averages\n",
        "\n",
        "def imshow(tensor, renderer=None, xaxis=\"\", yaxis=\"\", **kwargs):\n",
        "    px.imshow(utils.to_numpy(tensor), color_continuous_midpoint=0.0, color_continuous_scale=\"RdBu\", labels={\"x\":xaxis, \"y\":yaxis}, **kwargs).show(renderer)\n",
        "\n",
        "def line(tensor, renderer=None, xaxis=\"\", yaxis=\"\", **kwargs):\n",
        "    px.line(utils.to_numpy(tensor), labels={\"x\":xaxis, \"y\":yaxis}, **kwargs).show(renderer)\n",
        "\n",
        "def scatter(x, y, xaxis=\"\", yaxis=\"\", caxis=\"\", renderer=None, **kwargs):\n",
        "    x = utils.to_numpy(x)\n",
        "    y = utils.to_numpy(y)\n",
        "    px.scatter(y=y, x=x, labels={\"x\":xaxis, \"y\":yaxis, \"color\":caxis}, **kwargs).show(renderer)"
      ]
    },
    {
      "cell_type": "markdown",
      "metadata": {
        "id": "6EE1YCCg2UV5"
      },
      "source": [
        "# Model Training"
      ]
    },
    {
      "cell_type": "code",
      "execution_count": 138,
      "metadata": {
        "id": "2-6AgR5N2UV5"
      },
      "outputs": [],
      "source": [
        "DATA_SEED = 598"
      ]
    },
    {
      "cell_type": "markdown",
      "metadata": {
        "id": "MqhvJcjT2UV5"
      },
      "source": [
        "## Create the dataset\n",
        "* Define modular addition and modular multiplication datasets\n",
        "* Combine the two data sets\n",
        "* We can vary the proportion of addition to multiplication in the training dataset"
      ]
    },
    {
      "cell_type": "code",
      "execution_count": 139,
      "metadata": {},
      "outputs": [
        {
          "name": "stdout",
          "output_type": "stream",
          "text": [
            "Addition dataset size = 16900\n",
            "Multiplication dataset size = 16900\n",
            "Total train size = 16055\n",
            "Addition train size = 10981\n",
            "Addition test size = 5919\n",
            "Multiplication train size = 5074\n",
            "Multiplication test size = 5919\n",
            "Addition: 68.4% Multiplication: 31.6%\n",
            "Combined dataset = 27893\n",
            "Train size = 16055\n",
            "Test size = 11838\n",
            "train_data.shape = torch.Size([16055, 3])\n",
            "train_labels.shape = torch.Size([16055])\n",
            "test_data.shape = torch.Size([11838, 3])\n",
            "test_labels.shape = torch.Size([11838])\n",
            "train_data[:10] = tensor([[ 63,   1,  53],\n",
            "        [ 58,   0,  22],\n",
            "        [ 37,   1,   6],\n",
            "        [ 58,   1, 103],\n",
            "        [ 70,   1,  58],\n",
            "        [120,   1, 119],\n",
            "        [ 28,   1, 111],\n",
            "        [ 49,   0,  80],\n",
            "        [118,   1,  96],\n",
            "        [ 44,   1,   2]])\n"
          ]
        }
      ],
      "source": [
        "import pandas as pd\n",
        "from torch.utils.data import TensorDataset\n",
        "\n",
        "max_nums = 130\n",
        "mod_value = 113\n",
        "\n",
        "# The fraction of the data that should be used for training (not all of the rest will be used for testing)\n",
        "train_frac = 0.475\n",
        "\n",
        "# The fraction of the training data that should be addition (the rest will be multiplication)\n",
        "addition_frac = 0.684\n",
        "\n",
        "def create_dataset(max_nums: int, addition: bool, mod_value: int):\n",
        "    data = list()\n",
        "    for a in range(max_nums):\n",
        "        for b in range(max_nums):\n",
        "            if addition:\n",
        "                label = (a + b) % mod_value\n",
        "            else:\n",
        "                label = (a * b) % mod_value\n",
        "            data.append([[a, int(addition), b], label])\n",
        "\n",
        "    return pd.DataFrame(data, columns=[\"input\", \"label\"])\n",
        "\n",
        "addition_df = create_dataset(max_nums, True, mod_value)\n",
        "multiplication_df = create_dataset(max_nums, False, mod_value)\n",
        "\n",
        "print(f\"Addition dataset size = {len(addition_df)}\")\n",
        "print(f\"Multiplication dataset size = {len(multiplication_df)}\")\n",
        "\n",
        "total_train_size = int((len(addition_df) + len(multiplication_df)) * train_frac)\n",
        "\n",
        "print(f\"Total train size = {total_train_size}\")\n",
        "# Calculate the sizes for train datasets based on the desired proportion\n",
        "add_train_size = int(total_train_size * addition_frac)\n",
        "multi_train_size = total_train_size - add_train_size\n",
        "\n",
        "# Determine the size for test datasets (use the remaining data, but ensure equal sizes)\n",
        "test_size = min(len(addition_df) - add_train_size, len(multiplication_df) - multi_train_size)\n",
        "\n",
        "# Create train datasets\n",
        "add_train_df = addition_df.sample(n=add_train_size, random_state=DATA_SEED)\n",
        "multi_train_df = multiplication_df.sample(n=multi_train_size, random_state=DATA_SEED)\n",
        "\n",
        "# Create test datasets with equal size\n",
        "add_test_df = addition_df.drop(add_train_df.index).sample(n=test_size, random_state=DATA_SEED)\n",
        "multi_test_df = multiplication_df.drop(multi_train_df.index).sample(n=test_size, random_state=DATA_SEED)\n",
        "\n",
        "# Print sizes for verification\n",
        "print(f\"Addition train size = {len(add_train_df)}\")\n",
        "print(f\"Addition test size = {len(add_test_df)}\")\n",
        "print(f\"Multiplication train size = {len(multi_train_df)}\")\n",
        "print(f\"Multiplication test size = {len(multi_test_df)}\")\n",
        "\n",
        "print(f\"Addition: {len(add_train_df)/(len(add_train_df) + len(multi_train_df))*100:0.1f}% \\\n",
        "Multiplication: {len(multi_train_df)/(len(add_train_df) + len(multi_train_df))*100:0.1f}%\")\n",
        "\n",
        "# Combine and shuffle the datasets\n",
        "train_df = pd.concat([add_train_df, multi_train_df], ignore_index=True).sample(frac=1, random_state=DATA_SEED).reset_index(drop=True)\n",
        "test_df = pd.concat([add_test_df, multi_test_df], ignore_index=True).sample(frac=1, random_state=DATA_SEED).reset_index(drop=True)\n",
        "\n",
        "print(f\"Combined dataset = {len(train_df) + len(test_df)}\")\n",
        "\n",
        "print(f\"Train size = {len(train_df)}\")\n",
        "print(f\"Test size = {len(test_df)}\")\n",
        "\n",
        "# Create the dataloaders\n",
        "def get_dataloader(df, batch_size, shuffle):\n",
        "    inputs = torch.tensor(df['input'].tolist())\n",
        "    labels = torch.tensor(df['label'].tolist())\n",
        "    dataset = TensorDataset(inputs, labels)\n",
        "    return DataLoader(dataset, batch_size=batch_size, shuffle=shuffle)\n",
        "\n",
        "train_loader = get_dataloader(train_df, 1024, shuffle=True)\n",
        "test_loader = get_dataloader(test_df, len(test_df), shuffle=False)\n",
        "\n",
        "train_data = torch.tensor(train_df['input'].tolist())\n",
        "train_labels = torch.tensor(train_df['label'].tolist())\n",
        "\n",
        "test_data = torch.tensor(test_df['input'].tolist())\n",
        "test_labels = torch.tensor(test_df['label'].tolist())\n",
        "\n",
        "add_test_data = torch.tensor(add_test_df['input'].tolist())\n",
        "add_test_labels = torch.tensor(add_test_df['label'].tolist())\n",
        "\n",
        "multi_test_data = torch.tensor(multi_test_df['input'].tolist())\n",
        "multi_test_labels = torch.tensor(multi_test_df['label'].tolist())\n",
        "\n",
        "print(f\"train_data.shape = {train_data.shape}\")\n",
        "print(f\"train_labels.shape = {train_labels.shape}\")\n",
        "print(f\"test_data.shape = {test_data.shape}\")\n",
        "print(f\"test_labels.shape = {test_labels.shape}\")\n",
        "print(f\"train_data[:10] = {train_data[:10]}\")\n"
      ]
    },
    {
      "cell_type": "markdown",
      "metadata": {
        "id": "Mcd2dy9x2UV6"
      },
      "source": [
        "## Define Model"
      ]
    },
    {
      "cell_type": "code",
      "execution_count": 140,
      "metadata": {
        "id": "GO7-UYjQ2UV6"
      },
      "outputs": [],
      "source": [
        "\n",
        "cfg = HookedTransformerConfig(\n",
        "    n_layers = 1,\n",
        "    n_heads = 4,\n",
        "    d_model = 128,\n",
        "    d_head = 32,\n",
        "    d_mlp = 512,\n",
        "    act_fn = \"relu\",\n",
        "    normalization_type=\"LN\",\n",
        "    d_vocab=max_nums+1,\n",
        "    d_vocab_out=mod_value,\n",
        "    n_ctx= train_data.shape[1],\n",
        "    init_weights=True,\n",
        "    device=device,\n",
        "    seed = 999,\n",
        ")\n",
        "\n",
        "model = HookedTransformer(cfg)"
      ]
    },
    {
      "cell_type": "markdown",
      "metadata": {
        "id": "5qNAf_pY2UV6"
      },
      "source": [
        "Disable the biases, as we don't need them for this task and it makes things easier to interpret."
      ]
    },
    {
      "cell_type": "code",
      "execution_count": 141,
      "metadata": {
        "id": "9Y6S95XF2UV6"
      },
      "outputs": [],
      "source": [
        "for name, param in model.named_parameters():\n",
        "    if \"b_\" in name:\n",
        "        param.requires_grad = False\n"
      ]
    },
    {
      "cell_type": "markdown",
      "metadata": {
        "id": "NQtU2xX02UV6"
      },
      "source": [
        "## Define Optimizer + Loss"
      ]
    },
    {
      "cell_type": "code",
      "execution_count": 142,
      "metadata": {
        "id": "kt9M_v7a2UV6"
      },
      "outputs": [],
      "source": [
        "# Optimizer config\n",
        "lr = 1e-3\n",
        "wd = 1.\n",
        "betas = (0.90, 0.98)\n",
        "optimizer = torch.optim.AdamW(model.parameters(), lr=lr, weight_decay=wd, betas=betas)"
      ]
    },
    {
      "cell_type": "code",
      "execution_count": 143,
      "metadata": {},
      "outputs": [
        {
          "name": "stdout",
          "output_type": "stream",
          "text": [
            "train_loss = 5.047642391787601\n",
            "test_loss = 5.06579144378938\n"
          ]
        }
      ],
      "source": [
        "def loss_fn(logits, labels):\n",
        "    if len(logits.shape)==3:\n",
        "        logits = logits[:, -1]\n",
        "    logits = logits.to(torch.float64)\n",
        "    log_probs = logits.log_softmax(dim=-1)\n",
        "    correct_log_probs = log_probs.gather(dim=-1, index=labels[:, None])[:, 0]\n",
        "    return -correct_log_probs.mean()\n",
        "\n",
        "train_logits = model(train_data)\n",
        "train_loss = loss_fn(train_logits, train_labels)\n",
        "print(f\"train_loss = {train_loss}\")\n",
        "test_logits = model(test_data)\n",
        "test_loss = loss_fn(test_logits, test_labels)\n",
        "print(f\"test_loss = {test_loss}\")"
      ]
    },
    {
      "cell_type": "markdown",
      "metadata": {
        "id": "GOuSwO1U2UV7"
      },
      "source": [
        "## Actually Train"
      ]
    },
    {
      "cell_type": "code",
      "execution_count": 144,
      "metadata": {
        "colab": {
          "referenced_widgets": [
            "c477d3a6463646deb7cf1de99bb0199a"
          ]
        },
        "id": "B78ji8Si2UV7",
        "outputId": "db8171c9-35a3-497a-aa61-a9b8efeee374"
      },
      "outputs": [],
      "source": [
        "num_epochs = 6000\n",
        "checkpoint_every = 100\n",
        "train_losses = []\n",
        "test_losses = []\n",
        "add_test_losses = []\n",
        "multi_test_losses = []\n",
        "model_checkpoints = []\n",
        "checkpoint_epochs = []\n",
        "if TRAIN_MODEL:\n",
        "    for epoch in tqdm.tqdm(range(num_epochs)):\n",
        "        model.train()\n",
        "        train_logits = model(train_data)\n",
        "        train_loss = loss_fn(train_logits, train_labels)\n",
        "        train_loss.backward()\n",
        "        train_losses.append(train_loss.item())\n",
        "        optimizer.step()\n",
        "        optimizer.zero_grad()\n",
        "\n",
        "        model.eval()\n",
        "        with torch.inference_mode():\n",
        "            # General test loss\n",
        "            test_logits = model(test_data)\n",
        "            test_loss = loss_fn(test_logits, test_labels)\n",
        "            test_losses.append(test_loss.item())\n",
        "\n",
        "            if (epoch+1) % 10 == 0:\n",
        "                # Addition test loss\n",
        "                add_test_logits = model(add_test_data)\n",
        "                add_test_loss = loss_fn(add_test_logits, add_test_labels)\n",
        "                add_test_losses.append(add_test_loss.item())\n",
        "\n",
        "                # Multiplication test loss\n",
        "                multi_test_logits = model(multi_test_data)\n",
        "                multi_test_loss = loss_fn(multi_test_logits, multi_test_labels)\n",
        "                multi_test_losses.append(multi_test_loss.item())\n",
        "\n",
        "        if ((epoch+1)%checkpoint_every)==0:\n",
        "            checkpoint_epochs.append(epoch)\n",
        "            model_checkpoints.append(copy.deepcopy(model.state_dict()))\n",
        "            print(f\"Epoch {epoch} Train Loss {train_loss.item()} Test Loss {test_loss.item()} Add Test Loss {add_test_loss.item()} Multi Test Loss {multi_test_loss.item()}\")"
      ]
    },
    {
      "cell_type": "code",
      "execution_count": 145,
      "metadata": {
        "id": "UrvOo2Qs2UV7"
      },
      "outputs": [],
      "source": [
        "PTH_LOCATION = \"../saves/grokking_add_multi_68%_addition_47.5%_train.pth\"\n",
        "if TRAIN_MODEL:\n",
        "    # Create the directory if it does not exist\n",
        "    os.makedirs(Path(PTH_LOCATION).parent, exist_ok=True)\n",
        "    \n",
        "    print(f\"len(train_losses) = {len(train_losses)} len(test_losses) = {len(test_losses)} len(model_checkpoints) = {len(model_checkpoints)}\")\n",
        "    torch.save(\n",
        "        {\n",
        "            \"model\":model.state_dict(),\n",
        "            \"config\": model.cfg,\n",
        "            \"checkpoints\": model_checkpoints,\n",
        "            \"checkpoint_epochs\": checkpoint_epochs,\n",
        "            \"test_losses\": test_losses,\n",
        "            \"train_losses\": train_losses,\n",
        "            \"add_test_losses\": add_test_losses,\n",
        "            \"multi_test_losses\": multi_test_losses,\n",
        "            \"max_nums\": max_nums,\n",
        "            \"mod_value\": mod_value,\n",
        "            \"train_frac\": train_frac,\n",
        "            \"addition_frac\": addition_frac,\n",
        "        },\n",
        "        PTH_LOCATION)"
      ]
    },
    {
      "cell_type": "code",
      "execution_count": 146,
      "metadata": {
        "id": "tx5DVueg2UV7"
      },
      "outputs": [
        {
          "name": "stdout",
          "output_type": "stream",
          "text": [
            "train_frac = 0.5 addition_frac = 0.7\n",
            "len(train_losses) = 5000 len(test_losses) = 5000 len(model_checkpoints) = 50\n"
          ]
        }
      ],
      "source": [
        "LOAD_LOCATION = \"../saves/grokking_add_multi_0.7.pth\"\n",
        "if not TRAIN_MODEL:\n",
        "    cached_data = torch.load(LOAD_LOCATION, weights_only=False)\n",
        "    model.load_state_dict(cached_data['model'])\n",
        "    model_checkpoints = cached_data[\"checkpoints\"]\n",
        "    checkpoint_epochs = cached_data[\"checkpoint_epochs\"]\n",
        "    test_losses = cached_data['test_losses']\n",
        "    train_losses = cached_data['train_losses']\n",
        "    add_test_losses = cached_data['add_test_losses']\n",
        "    multi_test_losses = cached_data['multi_test_losses']\n",
        "    max_nums = cached_data['max_nums']\n",
        "    mod_value = cached_data['mod_value']\n",
        "    train_frac = cached_data['train_frac']\n",
        "    addition_frac = cached_data['addition_frac']\n",
        "    print(f\"train_frac = {train_frac} addition_frac = {addition_frac}\")\n",
        "    print(f\"len(train_losses) = {len(train_losses)} len(test_losses) = {len(test_losses)} len(model_checkpoints) = {len(model_checkpoints)}\")"
      ]
    },
    {
      "cell_type": "code",
      "execution_count": 147,
      "metadata": {},
      "outputs": [
        {
          "name": "stdout",
          "output_type": "stream",
          "text": [
            "test_loss = 0.30149553907995896\n"
          ]
        }
      ],
      "source": [
        "test_logits = model(test_data)\n",
        "test_loss = loss_fn(test_logits, test_labels)\n",
        "print(f\"test_loss = {test_loss}\")"
      ]
    },
    {
      "cell_type": "markdown",
      "metadata": {
        "id": "rHA9-QD52UV7"
      },
      "source": [
        "## Show Model Training Statistics, Check that it groks!"
      ]
    },
    {
      "cell_type": "code",
      "execution_count": 148,
      "metadata": {
        "id": "mHu_Yz8i2UV7",
        "outputId": "ff53e647-20f1-4a7d-8dae-f680164305f0"
      },
      "outputs": [
        {
          "data": {
            "text/html": [
              "        <script type=\"text/javascript\">\n",
              "        window.PlotlyConfig = {MathJaxConfig: 'local'};\n",
              "        if (window.MathJax && window.MathJax.Hub && window.MathJax.Hub.Config) {window.MathJax.Hub.Config({SVG: {font: \"STIX-Web\"}});}\n",
              "        if (typeof require !== 'undefined') {\n",
              "        require.undef(\"plotly\");\n",
              "        requirejs.config({\n",
              "            paths: {\n",
              "                'plotly': ['https://cdn.plot.ly/plotly-2.35.0.min']\n",
              "            }\n",
              "        });\n",
              "        require(['plotly'], function(Plotly) {\n",
              "            window._Plotly = Plotly;\n",
              "        });\n",
              "        }\n",
              "        </script>\n",
              "        "
            ]
          },
          "metadata": {},
          "output_type": "display_data"
        },
        {
          "data": {
            "text/html": [
              "<div>                            <div id=\"556944e0-00d9-423a-aca1-7c34a5fd76c6\" class=\"plotly-graph-div\" style=\"height:525px; width:100%;\"></div>            <script type=\"text/javascript\">                require([\"plotly\"], function(Plotly) {                    window.PLOTLYENV=window.PLOTLYENV || {};                                    if (document.getElementById(\"556944e0-00d9-423a-aca1-7c34a5fd76c6\")) {                    Plotly.newPlot(                        \"556944e0-00d9-423a-aca1-7c34a5fd76c6\",                        [{\"hovertemplate\":\"Color=train loss\\u003cbr\\u003eEpoch=%{x}\\u003cbr\\u003eLoss=%{y}\\u003cextra\\u003e\\u003c\\u002fextra\\u003e\",\"legendgroup\":\"0\",\"line\":{\"color\":\"#636efa\",\"dash\":\"solid\"},\"marker\":{\"symbol\":\"circle\"},\"mode\":\"lines\",\"name\":\"train loss\",\"showlegend\":true,\"x\":[0,10,20,30,40,50,60,70,80,90,100,110,120,130,140,150,160,170,180,190,200,210,220,230,240,250,260,270,280,290,300,310,320,330,340,350,360,370,380,390,400,410,420,430,440,450,460,470,480,490,500,510,520,530,540,550,560,570,580,590,600,610,620,630,640,650,660,670,680,690,700,710,720,730,740,750,760,770,780,790,800,810,820,830,840,850,860,870,880,890,900,910,920,930,940,950,960,970,980,990,1000,1010,1020,1030,1040,1050,1060,1070,1080,1090,1100,1110,1120,1130,1140,1150,1160,1170,1180,1190,1200,1210,1220,1230,1240,1250,1260,1270,1280,1290,1300,1310,1320,1330,1340,1350,1360,1370,1380,1390,1400,1410,1420,1430,1440,1450,1460,1470,1480,1490,1500,1510,1520,1530,1540,1550,1560,1570,1580,1590,1600,1610,1620,1630,1640,1650,1660,1670,1680,1690,1700,1710,1720,1730,1740,1750,1760,1770,1780,1790,1800,1810,1820,1830,1840,1850,1860,1870,1880,1890,1900,1910,1920,1930,1940,1950,1960,1970,1980,1990,2000,2010,2020,2030,2040,2050,2060,2070,2080,2090,2100,2110,2120,2130,2140,2150,2160,2170,2180,2190,2200,2210,2220,2230,2240,2250,2260,2270,2280,2290,2300,2310,2320,2330,2340,2350,2360,2370,2380,2390,2400,2410,2420,2430,2440,2450,2460,2470,2480,2490,2500,2510,2520,2530,2540,2550,2560,2570,2580,2590,2600,2610,2620,2630,2640,2650,2660,2670,2680,2690,2700,2710,2720,2730,2740,2750,2760,2770,2780,2790,2800,2810,2820,2830,2840,2850,2860,2870,2880,2890,2900,2910,2920,2930,2940,2950,2960,2970,2980,2990,3000,3010,3020,3030,3040,3050,3060,3070,3080,3090,3100,3110,3120,3130,3140,3150,3160,3170,3180,3190,3200,3210,3220,3230,3240,3250,3260,3270,3280,3290,3300,3310,3320,3330,3340,3350,3360,3370,3380,3390,3400,3410,3420,3430,3440,3450,3460,3470,3480,3490,3500,3510,3520,3530,3540,3550,3560,3570,3580,3590,3600,3610,3620,3630,3640,3650,3660,3670,3680,3690,3700,3710,3720,3730,3740,3750,3760,3770,3780,3790,3800,3810,3820,3830,3840,3850,3860,3870,3880,3890,3900,3910,3920,3930,3940,3950,3960,3970,3980,3990,4000,4010,4020,4030,4040,4050,4060,4070,4080,4090,4100,4110,4120,4130,4140,4150,4160,4170,4180,4190,4200,4210,4220,4230,4240,4250,4260,4270,4280,4290,4300,4310,4320,4330,4340,4350,4360,4370,4380,4390,4400,4410,4420,4430,4440,4450,4460,4470,4480,4490,4500,4510,4520,4530,4540,4550,4560,4570,4580,4590,4600,4610,4620,4630,4640,4650,4660,4670,4680,4690,4700,4710,4720,4730,4740,4750,4760,4770,4780,4790,4800,4810,4820,4830,4840,4850,4860,4870,4880,4890,4900,4910,4920,4930,4940,4950,4960,4970,4980,4990],\"xaxis\":\"x\",\"y\":[5.046054775218921,4.701941728606955,4.655276113553953,4.588210968214286,4.454214097662265,4.253911502369257,3.967448342203477,3.592933942212994,3.157284283182121,2.715970223997908,2.2849257257766125,1.9198795525872903,1.60121488070511,1.3306882380630907,1.089488047379832,0.8893881925722463,0.7242772202250342,0.5842427941182871,0.47465638465610094,0.3777326581865567,0.3089416636455519,0.2488704040139109,0.20406126525542845,0.16862431675047407,0.14204114952192098,0.12046656260787626,0.10382529388521364,0.089338741363381,0.07807475059239868,0.06832601459837871,0.06065161948250773,0.05388058683463623,0.048420962366214244,0.04281309464060682,0.03866359842568834,0.03496574889068877,0.03165329632519238,0.028527455390712542,0.02628216026841411,0.023365008329737893,0.0213722766822992,0.0195272613285816,0.017821763487953134,0.01603480729917671,0.015407246142064207,0.01351622617532725,0.012243405058825341,0.02355563115452566,0.05945581437562614,0.030379186851666948,0.01881611157588902,0.01439742969669679,0.012737786087723278,0.012137014378372406,0.011911055384020942,0.011771134037703183,0.011603517004414605,0.011357132310153093,0.01102195329376736,0.010605854582882355,0.010125166321021369,0.009600801684410621,0.00905097684908693,0.008491756546168582,0.007933810724700877,0.007392652596009782,0.006866243068937117,0.006364246160591283,0.005902612520097659,0.005436109464378639,0.005030278304284559,0.004663689779839909,0.004282794468118025,0.003911121953639037,0.0035939078936290396,0.0033343587783391045,0.003111830113186112,0.0028401236749696266,0.002676183536123356,0.0023484006073293605,0.002218567149438201,0.0020073707441720734,0.45176654826824136,0.23828888212888483,0.06409333413423672,0.027901131970142972,0.01698732737553644,0.012955196245357762,0.011604012001032058,0.011281183021368683,0.011396445330371027,0.011671355959269446,0.01196652537685159,0.012218717398516906,0.012394467282193853,0.012476746341866624,0.012454752686871972,0.012328732957420976,0.012106341265459565,0.011800140287643947,0.011418884138881152,0.010977436140181115,0.010491217781616931,0.00997171465519525,0.009437676225307558,0.008901076364695264,0.008373501440069311,0.007812964076924335,0.007312694661291316,0.006893266992618385,0.006511755754701881,0.006073345160599205,0.005570673869531891,0.006089163527181777,0.2912495658352796,0.08568888568117973,0.03687654694862339,0.022332648393015162,0.016585443390666223,0.01455726894601461,0.013823257614048916,0.013630356872976812,0.013604180330916557,0.013600648514142648,0.013543155710254289,0.013404559512557706,0.01317241218967048,0.012850845630708657,0.01244749047710621,0.011976143945515083,0.011459805078906291,0.010899940105168518,0.01033209729366301,0.009733915087124425,0.009199066106260697,0.008732524106714788,0.008304070561650037,0.0075878287750656215,0.025522160502113752,0.55849199841483,0.17744156895615562,0.06854767189935605,0.03780635199633979,0.0266133942553812,0.02213383983505235,0.020278466872489142,0.019460285063786005,0.019045079948233606,0.018746731793988804,0.018432366675120514,0.018053771926797697,0.017590127772673197,0.01704511108696444,0.016430729252325377,0.015755141345219346,0.015040397608218405,0.014311133489410143,0.01353034870423945,0.012767576588228625,0.012095573015888173,0.011525835391275977,0.010884781825380649,0.010875896851210654,0.904537670876388,0.28069263613283124,0.1025572630347315,0.050713771457111055,0.03299796470236744,0.02595290081531399,0.02294954839512803,0.02159392870256054,0.020885178102776573,0.02039885454018695,0.01994875860871033,0.019456793128810598,0.018892173320111384,0.01825449400372641,0.017546845709615407,0.016796028666453477,0.015990024318367598,0.015209377419286628,0.014288402184828752,0.013469383207437518,0.012850682719734139,0.01180987277873774,0.011325541813485291,0.010736070669477538,0.009572209032231455,0.03995552390803857,0.6841631553705395,0.21365877672958836,0.08527128981420651,0.043793546263905095,0.029805722827213423,0.024119601249711083,0.021725879779445983,0.02067600986606315,0.020122650201291416,0.0197323927314098,0.019336147810193566,0.018876809292494735,0.018333642520330234,0.017708548685865386,0.0170121686797563,0.01625779132142482,0.015456785234795052,0.014626773154299822,0.013811779911915565,0.012952164989454678,0.012092423339563568,0.011283769271420985,0.010534081846090077,0.009753620669969173,0.009068654714870098,0.00842252940240674,0.007776579388859259,2.4159409438173856,0.5518729065432418,0.1821948987125251,0.0724156176663384,0.0387819629184371,0.02727853364951932,0.02252395195547171,0.020564210656766675,0.019697305275750455,0.019236616008949492,0.018888990276588694,0.018519946453796496,0.018072485661582788,0.017538031411453638,0.01692541417268329,0.016243657508161126,0.015500227205487088,0.014725850563046046,0.0139364642945984,0.013119042015139653,0.012315306875327087,0.011524996548258514,0.010764315332018534,0.009959360773112354,0.009330823125392108,0.008595828265818003,0.008148158702523807,0.007264558085817146,0.007209454980531126,1.1023758609450658,0.3348080585829493,0.11572780628149013,0.052856277631631005,0.03258247983795022,0.024931455663648985,0.021791436612920174,0.020461523181136303,0.019838096368542328,0.019453808082786316,0.019093213093062826,0.018678383848279197,0.01818189065323018,0.01759835755918901,0.01693396022882501,0.016202907496420293,0.015430759975874208,0.01462216352349392,0.013789519839641292,0.012972428943339115,0.012135523738430612,0.011347931143337028,0.010578147124299742,0.009823168933797451,0.009069525945983928,0.008456405367962523,0.007864476687189193,0.007119921662495506,0.006671432417925641,0.006071547712751357,0.005630465512952261,0.005195368956032366,0.0047006592774185944,0.0046712574689594276,0.003973456461083148,0.0035855474286255727,0.0036746713695061483,0.0031199795605326,0.0028095113940034434,0.002582566559000348,0.0024540410678956007,0.9560118553743866,0.2425415812121404,0.08086307677839175,0.03548619452991699,0.02148179551585971,0.016382279992394697,0.014448503163318242,0.013721432341939215,0.013473807903739242,0.013386860830172735,0.013309810286350835,0.013189636277744585,0.01300199981824745,0.012740196053452071,0.012414951622017409,0.012035786800466011,0.011608650951232589,0.011139552577222824,0.010640383816142612,0.010117590269780251,0.009580754500942673,0.009035671560654,0.008490253591676319,0.007960665084887882,0.007432454862195295,0.006925349874280464,0.006441579324173025,0.005970374740423386,0.00554473158105121,0.005121042257173824,0.004707727082038006,0.004361109168235285,0.004045368870184272,0.0037019111888097647,0.0034055516544522677,0.0031351453715069036,0.0029305607707971024,0.002646176546378494,0.0024393522968244315,0.00226165049881969,0.0020575588498355844,0.0019000595820544905,0.001763623733076035,0.0018859101326020034,0.8332969277172859,0.2131642560938036,0.0797791228377622,0.03587455906778694,0.022447715496669452,0.017152821482974086,0.01521019920396723,0.014450980146883967,0.014198680906844575,0.014113045482173367,0.014057686841759924,0.013971569907858668,0.013834759853627518,0.013637493107267395,0.013379520138288439,0.013060194062300036,0.01268310419392578,0.012254959488858384,0.011782373817677442,0.011274413767364901,0.010740253762056468,0.010186609637568978,0.009620856159348594,0.00905462854007974,0.008491961708124215,0.007940955264117224,0.0074101488461079815,0.0068889725386794,0.006405289752355731,0.005926918267008987,0.005488622530343703,0.005064953071435504,0.004686433602242114,0.004311749469786666,0.003974056565303411,0.003683021132588297,0.003375610534163529,0.003102402991876895,0.002858798987049095,0.0026503960237809023,0.002414929774208667,0.0022263507261244962,0.002055958982036078,0.001883528968715558,0.0017434483607750518,0.0016104424587161617,0.0014712268968385366,0.0013985524456641887,0.001243125300488298,0.0011591235141894397,0.0010482444414389568,0.000989976778384299,0.0008904564822939956,0.0008201150538386106,0.0007560075403852289,0.0006919293502741742,0.0011795580894482854,0.5836210026626655,0.14533982808521487,0.05247541881215464,0.027131830541411606,0.018391457175750504,0.014980068886122785,0.013714985797534869,0.013286003184235352,0.013172723777552867,0.013158700212231445,0.013136004914606418,0.01307197987817468,0.012950868423256294,0.012769218061654243,0.012526917627594697,0.012226428548369724,0.011870652122206836,0.011466482943928609,0.011021411949721194,0.010543122387081147,0.010040069984116355,0.009520833472025534,0.008992520288735631,0.00846116130536142,0.007939729849267248,0.007429495806463507,0.006944539481713854,0.006470997611076677,0.006030668886044819,0.005596243609463375,0.005203492476143358,0.004817414598520356,0.004444165632747299,0.004114977400118627,0.0038116293318561653,0.003508834166688971,0.0032353334626389566,0.00297044369480596,0.002748153050986695,0.0025432421874995326,0.002325196518902824,0.0021523741525676936,0.0019874102781485426,0.0018458438993052264,0.00167417162485384,0.0015446551217468138,0.0014327375833203752,0.0013236767759156906,0.0012172188459903311,0.0011885625763809727,0.0010344778540103794,0.0009391374481689117,0.0009223207650789551,0.0008178175280557241,0.0007408578739743232,0.0007005176261422141,0.0006326181953224664,0.0006092848127762124,0.0005351483508507912,0.0005202456216346492,0.0004610922268107912,0.0004794051525714429,0.0003909948894748486,0.0003536879820392586,0.0003300696955041893,0.0003183735578114978,1.003038181729588,0.1680293799293482,0.04770250143763953,0.019350499297449406,0.011050729823772748,0.008032678659275757,0.00692150637776806,0.0065532193697904655,0.006480359784001255,0.006496699825128598,0.006520405070799349,0.006515633047841509,0.006481960985078752,0.00642181918440843,0.006338307435872298,0.006236246479114156,0.006118112165176192,0.005984119633185479,0.005833578854586082,0.005667029748050401,0.005482337586150172,0.0052805570731550636,0.005065855421327932,0.004841877728740362,0.0046101328344470074,0.004373749870593361,0.004135290257511046,0.0038976004249649606,0.0036630172541187076,0.0034329092585952525,0.003208874415262756,0.002993160372354801,0.0027869203263915622,0.0025890359762027037,0.0024031780210152652,0.002225871027581367,0.0020599271482106335,0.0019030086508406644,0.0017616893110691393,0.00162101459742957,0.0015001252860640673,0.001381271556137959,0.0012704752530112527,0.0011731163979572903,0.0010859315695170351,0.0009995319737721668,0.0009171831051653694],\"yaxis\":\"y\",\"type\":\"scattergl\"},{\"hovertemplate\":\"Color=test loss\\u003cbr\\u003eEpoch=%{x}\\u003cbr\\u003eLoss=%{y}\\u003cextra\\u003e\\u003c\\u002fextra\\u003e\",\"legendgroup\":\"1\",\"line\":{\"color\":\"#EF553B\",\"dash\":\"solid\"},\"marker\":{\"symbol\":\"circle\"},\"mode\":\"lines\",\"name\":\"test loss\",\"showlegend\":true,\"x\":[0,10,20,30,40,50,60,70,80,90,100,110,120,130,140,150,160,170,180,190,200,210,220,230,240,250,260,270,280,290,300,310,320,330,340,350,360,370,380,390,400,410,420,430,440,450,460,470,480,490,500,510,520,530,540,550,560,570,580,590,600,610,620,630,640,650,660,670,680,690,700,710,720,730,740,750,760,770,780,790,800,810,820,830,840,850,860,870,880,890,900,910,920,930,940,950,960,970,980,990,1000,1010,1020,1030,1040,1050,1060,1070,1080,1090,1100,1110,1120,1130,1140,1150,1160,1170,1180,1190,1200,1210,1220,1230,1240,1250,1260,1270,1280,1290,1300,1310,1320,1330,1340,1350,1360,1370,1380,1390,1400,1410,1420,1430,1440,1450,1460,1470,1480,1490,1500,1510,1520,1530,1540,1550,1560,1570,1580,1590,1600,1610,1620,1630,1640,1650,1660,1670,1680,1690,1700,1710,1720,1730,1740,1750,1760,1770,1780,1790,1800,1810,1820,1830,1840,1850,1860,1870,1880,1890,1900,1910,1920,1930,1940,1950,1960,1970,1980,1990,2000,2010,2020,2030,2040,2050,2060,2070,2080,2090,2100,2110,2120,2130,2140,2150,2160,2170,2180,2190,2200,2210,2220,2230,2240,2250,2260,2270,2280,2290,2300,2310,2320,2330,2340,2350,2360,2370,2380,2390,2400,2410,2420,2430,2440,2450,2460,2470,2480,2490,2500,2510,2520,2530,2540,2550,2560,2570,2580,2590,2600,2610,2620,2630,2640,2650,2660,2670,2680,2690,2700,2710,2720,2730,2740,2750,2760,2770,2780,2790,2800,2810,2820,2830,2840,2850,2860,2870,2880,2890,2900,2910,2920,2930,2940,2950,2960,2970,2980,2990,3000,3010,3020,3030,3040,3050,3060,3070,3080,3090,3100,3110,3120,3130,3140,3150,3160,3170,3180,3190,3200,3210,3220,3230,3240,3250,3260,3270,3280,3290,3300,3310,3320,3330,3340,3350,3360,3370,3380,3390,3400,3410,3420,3430,3440,3450,3460,3470,3480,3490,3500,3510,3520,3530,3540,3550,3560,3570,3580,3590,3600,3610,3620,3630,3640,3650,3660,3670,3680,3690,3700,3710,3720,3730,3740,3750,3760,3770,3780,3790,3800,3810,3820,3830,3840,3850,3860,3870,3880,3890,3900,3910,3920,3930,3940,3950,3960,3970,3980,3990,4000,4010,4020,4030,4040,4050,4060,4070,4080,4090,4100,4110,4120,4130,4140,4150,4160,4170,4180,4190,4200,4210,4220,4230,4240,4250,4260,4270,4280,4290,4300,4310,4320,4330,4340,4350,4360,4370,4380,4390,4400,4410,4420,4430,4440,4450,4460,4470,4480,4490,4500,4510,4520,4530,4540,4550,4560,4570,4580,4590,4600,4610,4620,4630,4640,4650,4660,4670,4680,4690,4700,4710,4720,4730,4740,4750,4760,4770,4780,4790,4800,4810,4820,4830,4840,4850,4860,4870,4880,4890,4900,4910,4920,4930,4940,4950,4960,4970,4980,4990],\"xaxis\":\"x\",\"y\":[4.903952655034201,4.729077263974157,4.718740880485145,4.8185480420290885,4.937145497538741,4.995294792856148,5.023538191339242,5.007484003093777,4.914497898411238,4.785087239471139,4.6685192620678935,4.591539383596442,4.530982423718286,4.498051006092669,4.4796764289174495,4.47897425106623,4.485110477693247,4.498160186830786,4.517168018631423,4.529205569291537,4.553752887353214,4.570379855699995,4.587423892346031,4.605593157451217,4.620201741241783,4.630721245791406,4.642542229555175,4.648441574145253,4.648459975364694,4.650281663097238,4.652804521571386,4.652695144526787,4.654278469694451,4.649695879400307,4.65169425344768,4.653103057639093,4.645292189775785,4.644792967884698,4.639802614037798,4.635197833935403,4.635310854641796,4.635224760678697,4.63036140932899,4.627333855207371,4.631157299806619,4.624433435954029,4.622749944050467,4.903165417425409,4.777275702150032,4.654614154435506,4.616364308191096,4.604580548283796,4.59399507268698,4.586529915641198,4.579808800865142,4.576305443915179,4.574890592706495,4.57682778019497,4.581109493124753,4.588165312707366,4.597127372527153,4.607679922702581,4.618744323568305,4.630620317310822,4.643388966856108,4.656220832539921,4.668269246799457,4.679524230145942,4.692190681712627,4.702790755391048,4.71111418301733,4.723563590962233,4.729223468678995,4.737134149316252,4.745641075880798,4.748541471111691,4.760216402236211,4.757686298741441,4.768320356566364,4.768864219025985,4.76624550715892,4.770175485883443,5.883977447997656,4.634552490575685,4.608316129523514,4.5091093773486195,4.433646374598974,4.391687625282901,4.346167927515012,4.306346817362321,4.2656230524962195,4.23120894513823,4.200060312012578,4.171753018678515,4.145371527826701,4.122160799116078,4.101611020962603,4.083189212811973,4.066498315382953,4.052557650723147,4.040698243232106,4.029953685810871,4.020343480118563,4.0115300279343655,4.004368629674631,3.998490033084611,3.9897757500461988,3.983739406931449,3.9834874294539553,3.97091678940817,3.97895527507941,3.9616849503208953,3.9629303401718547,3.988692131342793,4.074617552807279,3.907539499419315,3.842188773684304,3.807919989889793,3.7567683585831153,3.7237820363876404,3.6981613211937514,3.6723324520269536,3.6473662269472857,3.625470282762151,3.604507899536043,3.5853388575092717,3.567863360523148,3.5521459887766573,3.538539788025256,3.5262480178955844,3.515992381909412,3.5069765607821144,3.4985992253737046,3.491583461194079,3.487652152384942,3.480298623605542,3.4817171624644923,3.4746268241435034,4.725271643341401,3.685883296362286,3.535960152145358,3.4698310200432063,3.4287373714461253,3.3856683549216284,3.3582671226989738,3.3354469260813517,3.3088883635879034,3.285523467567933,3.263400961660237,3.2440844266518476,3.2270785292809014,3.211085450505552,3.1968799758447766,3.184667548244568,3.174499986329868,3.164813043263006,3.1578891270456935,3.152021034616329,3.146129351457977,3.1447002091029526,3.1386949911051456,3.1397133725880657,3.1524831699133014,3.3808548764049093,3.3107558419340326,3.218927782035678,3.180486667502497,3.1502150540407388,3.126306751858329,3.1069524307295957,3.0819414587949536,3.0588704928296204,3.039140806404206,3.019732890503145,3.002508638673107,2.987817119111045,2.974624964962949,2.9639288251605205,2.9538654932413158,2.9462573127281004,2.9388694256556143,2.93486844799433,2.93378048895413,2.9343508165377994,2.931980760339313,2.930942347268994,2.9384006810459367,2.9397325100360736,3.999834688496904,3.288130734226857,3.124236891367626,3.0366352478549516,3.0130866265642027,2.9840341468591243,2.963177039613603,2.9380042301377607,2.9172489468968457,2.895268316465955,2.8758654887033934,2.858782547721491,2.8424411058033012,2.828629115691118,2.8173328158515174,2.8079525307492683,2.800704332898182,2.7949439691515066,2.7905435791099698,2.7898977839405625,2.788804264655196,2.789077593065432,2.7919110124892073,2.7911385498995056,2.7992146858705036,2.799800394741348,2.808616260417953,2.8106332281144475,4.442186985660173,3.1362114574272155,2.986288328637168,2.928408626233867,2.8923221805318713,2.8685872035023383,2.838459329668021,2.8165020627972877,2.7951073382846636,2.773763417357551,2.753429824517767,2.735324215909719,2.718747176833739,2.7049479838905057,2.693370942211216,2.6832864613832514,2.674358434822749,2.6671120840438944,2.662486538465775,2.6589432176104753,2.6559590900546324,2.65509284180119,2.655309918766443,2.657087423957631,2.6563863269303574,2.65906193519016,2.664816558547252,2.6676606740575752,2.685318363256806,3.3212374055155727,2.942955138258468,2.8019254108727356,2.7191443390067698,2.6754583105683305,2.6460980350772845,2.6194141141569944,2.5967592139685762,2.5739548010684272,2.5528219508318974,2.533003328122179,2.515291920916658,2.499017081426271,2.4838758782265713,2.470809872060588,2.4590988233362454,2.448937362457809,2.4409187569026245,2.4326689032721434,2.425852894497338,2.420036364760948,2.417516525053611,2.4116943443381973,2.4096316786821594,2.4080677435552276,2.404606060018684,2.4021685038296385,2.4020224827047687,2.403897420793461,2.4026477426725856,2.401983098485425,2.4078432293412777,2.4045589383806005,2.4174924064054517,2.4088547716255047,2.4101801517571046,2.415427627996051,2.4139310526536963,2.4134785131319365,2.4191340414880935,2.4228210267576795,3.2858965234208575,2.6011750203990216,2.391119521534025,2.317789361046421,2.2617439677019884,2.2324260165407814,2.207892495247306,2.18655636946042,2.1669481931716463,2.148942467047398,2.1308292884925186,2.1140264325206326,2.0982806004215244,2.0830996387031866,2.0683433651534444,2.055389265308156,2.0426265338402345,2.0303131874400013,2.0186971926031343,2.007883756389353,1.9973508480283362,1.986748178228874,1.9778425001472788,1.9692918443596041,1.9603028163072151,1.9510718090717818,1.9430435781266315,1.9357843133058,1.9268413300003182,1.9195157137617667,1.9134933999859227,1.9059260446538961,1.9023322683515236,1.893743053449384,1.8893309655922614,1.8847694163351556,1.8778546605844535,1.8739679842811745,1.869929453621817,1.8657234321848006,1.8603344583372032,1.8577043371103612,1.8571098797444856,1.9051016082131902,2.5368818375726447,1.9590640940708794,1.7290974021456107,1.6335094147808622,1.5913151960589862,1.55948981334231,1.5405747303758082,1.528637645673877,1.5195900359444303,1.5097941034522455,1.5005116682720225,1.4906885197471234,1.4808013140302474,1.4701653789914249,1.459009073131499,1.4472688899083166,1.4354552068532214,1.4234578480424553,1.411257597851258,1.3986243904285431,1.3859277494259912,1.3728729229578065,1.360474489618638,1.347967257682577,1.334923916873007,1.3228791541830114,1.3120462596436582,1.3004217133345097,1.2880129418612527,1.276414370389467,1.2666330955269702,1.2566598953595634,1.244955642965258,1.2365967645571192,1.2272409063196548,1.2208537105789194,1.2105013992774452,1.20309997575095,1.198410983107199,1.188304479314316,1.1815156864130452,1.177728300076814,1.1693787161355522,1.1652041484146733,1.159868612291939,1.1504002456465952,1.1481073423862176,1.1422240073613679,1.139508980764609,1.1330520573452296,1.130064144655762,1.1328822132012368,1.1271095239513818,1.122247770090126,1.1214265405544648,1.1186577572719592,1.7455122198781527,1.8437149300925892,1.2584684636667705,1.032320922922124,0.916230092328429,0.8662872114021899,0.8377515435880472,0.8260047183238007,0.8206385088619605,0.8180399743512056,0.8157095207225624,0.8140895589876396,0.8123091342104093,0.8100185631386171,0.8076049617082536,0.8044378288068247,0.8011436880758168,0.7976800864663178,0.7936017881324517,0.7891530666041171,0.7847374573373189,0.7791601095523255,0.7733303143385362,0.7667822072718063,0.7592209534730222,0.7516162465990239,0.7442338318290523,0.7367031769152401,0.728967264224813,0.7208797991964906,0.7129386462793769,0.7053791980763355,0.6970967674612097,0.689248439481815,0.6832919332836449,0.6759406216347319,0.6700361049520391,0.6623084574179322,0.6567040474444726,0.6524474522353617,0.6460821890733269,0.6419287227549318,0.6397995553607342,0.633179601097961,0.6318748121175326,0.6264369559089272,0.6228713485200552,0.6223096981177717,0.6185236939589623,0.6179414537019112,0.6142420187039506,0.6128141135668518,0.6133282376593222,0.6249785663438173,0.6105553793179272,0.6129407057113819,0.6174474519008377,0.6159879447641281,0.6190278421809184,0.6195438505391185,0.6295846275748912,0.6230716645810637,0.6252299830311626,0.6237342379214728,0.6307372160875782,0.6334517658742301,0.6408531317636056,2.907217623928834,1.043279903979839,0.7509354282813654,0.6072174846980677,0.5351151541435224,0.496264921499422,0.4775029608619995,0.46951176296980274,0.46472851270591187,0.4623643875778911,0.45981215167746026,0.45686892196996814,0.4547180841230869,0.45219764000635054,0.44960143177566547,0.44700198641115974,0.44441583367263826,0.44172102524233775,0.43835584051372356,0.43478403996987325,0.4308375802910469,0.426638759642077,0.4220503352129887,0.4168449135535361,0.4115510620371697,0.405723627707981,0.39987272462268497,0.39350949953658654,0.38731548620238526,0.3812697946375647,0.37575421340072473,0.3696154751336152,0.3635577350433439,0.35803863908417644,0.35327783212971386,0.34877391904935384,0.34337757849744227,0.33844524512951374,0.3355260706398109,0.3307544170287626,0.32576344644831245,0.32333686996769373,0.3191480637492003,0.3146604873333861,0.3138543709913814,0.30821718508076645,0.30618565174115264],\"yaxis\":\"y\",\"type\":\"scattergl\"},{\"hovertemplate\":\"Color=add loss\\u003cbr\\u003eEpoch=%{x}\\u003cbr\\u003eLoss=%{y}\\u003cextra\\u003e\\u003c\\u002fextra\\u003e\",\"legendgroup\":\"2\",\"line\":{\"color\":\"#00cc96\",\"dash\":\"solid\"},\"marker\":{\"symbol\":\"circle\"},\"mode\":\"lines\",\"name\":\"add loss\",\"showlegend\":true,\"x\":[0,10,20,30,40,50,60,70,80,90,100,110,120,130,140,150,160,170,180,190,200,210,220,230,240,250,260,270,280,290,300,310,320,330,340,350,360,370,380,390,400,410,420,430,440,450,460,470,480,490,500,510,520,530,540,550,560,570,580,590,600,610,620,630,640,650,660,670,680,690,700,710,720,730,740,750,760,770,780,790,800,810,820,830,840,850,860,870,880,890,900,910,920,930,940,950,960,970,980,990,1000,1010,1020,1030,1040,1050,1060,1070,1080,1090,1100,1110,1120,1130,1140,1150,1160,1170,1180,1190,1200,1210,1220,1230,1240,1250,1260,1270,1280,1290,1300,1310,1320,1330,1340,1350,1360,1370,1380,1390,1400,1410,1420,1430,1440,1450,1460,1470,1480,1490,1500,1510,1520,1530,1540,1550,1560,1570,1580,1590,1600,1610,1620,1630,1640,1650,1660,1670,1680,1690,1700,1710,1720,1730,1740,1750,1760,1770,1780,1790,1800,1810,1820,1830,1840,1850,1860,1870,1880,1890,1900,1910,1920,1930,1940,1950,1960,1970,1980,1990,2000,2010,2020,2030,2040,2050,2060,2070,2080,2090,2100,2110,2120,2130,2140,2150,2160,2170,2180,2190,2200,2210,2220,2230,2240,2250,2260,2270,2280,2290,2300,2310,2320,2330,2340,2350,2360,2370,2380,2390,2400,2410,2420,2430,2440,2450,2460,2470,2480,2490,2500,2510,2520,2530,2540,2550,2560,2570,2580,2590,2600,2610,2620,2630,2640,2650,2660,2670,2680,2690,2700,2710,2720,2730,2740,2750,2760,2770,2780,2790,2800,2810,2820,2830,2840,2850,2860,2870,2880,2890,2900,2910,2920,2930,2940,2950,2960,2970,2980,2990,3000,3010,3020,3030,3040,3050,3060,3070,3080,3090,3100,3110,3120,3130,3140,3150,3160,3170,3180,3190,3200,3210,3220,3230,3240,3250,3260,3270,3280,3290,3300,3310,3320,3330,3340,3350,3360,3370,3380,3390,3400,3410,3420,3430,3440,3450,3460,3470,3480,3490,3500,3510,3520,3530,3540,3550,3560,3570,3580,3590,3600,3610,3620,3630,3640,3650,3660,3670,3680,3690,3700,3710,3720,3730,3740,3750,3760,3770,3780,3790,3800,3810,3820,3830,3840,3850,3860,3870,3880,3890,3900,3910,3920,3930,3940,3950,3960,3970,3980,3990,4000,4010,4020,4030,4040,4050,4060,4070,4080,4090,4100,4110,4120,4130,4140,4150,4160,4170,4180,4190,4200,4210,4220,4230,4240,4250,4260,4270,4280,4290,4300,4310,4320,4330,4340,4350,4360,4370,4380,4390,4400,4410,4420,4430,4440,4450,4460,4470,4480,4490,4500,4510,4520,4530,4540,4550,4560,4570,4580,4590,4600,4610,4620,4630,4640,4650,4660,4670,4680,4690,4700,4710,4720,4730,4740,4750,4760,4770,4780,4790,4800,4810,4820,4830,4840,4850,4860,4870,4880,4890,4900,4910,4920,4930,4940,4950,4960,4970,4980,4990],\"xaxis\":\"x\",\"y\":[4.753764206627752,4.770117105970807,4.818922728184628,4.891195981592336,4.969073182376873,4.999749793987521,4.957830315223992,4.7560401866297735,4.417548326619542,4.069230493292609,3.796657684086978,3.5893962672845126,3.425203542023789,3.292909409121357,3.1797622788354,3.096231891611541,3.022807030001137,2.9619782484168344,2.8958305590864524,2.848536382936925,2.7964210390479045,2.750387980192066,2.704205006121389,2.662941661112203,2.624411278097519,2.5829388606477433,2.5443310530715584,2.5063764806494575,2.4649261659398314,2.4287113748556486,2.393762548013648,2.354311491872954,2.317741997164109,2.2825095689718444,2.2472748578594284,2.212875727474509,2.1785123966651714,2.1462110638752474,2.1097253236727225,2.076342635387659,2.047255934993789,2.0150907723832128,1.9812939782879597,1.956944968253968,1.9213332366579126,1.8875711843325627,1.9343970268772934,2.155506349327478,1.8743655743657426,1.7909188069739796,1.7668217048723076,1.7429389362027767,1.7368980962564777,1.7281074444011568,1.7237613056843906,1.7173376591071219,1.7103557654896706,1.7022608022721013,1.6931853599817666,1.682979258270012,1.6721282284997467,1.6599584644231016,1.647556630303802,1.6340892454988618,1.6195917953039751,1.6053302723221599,1.5893116233614466,1.571670180436961,1.5537799252882418,1.5351547716374576,1.514426220065172,1.4938756767997372,1.469628751098227,1.4458507414609476,1.4232619505690216,1.3954756110411117,1.371126589182898,1.3418231442996078,1.3108725536368877,1.2888520676802346,1.2534133328686916,2.0926047311487324,1.534031403667631,1.2228042642944161,1.1058502462552988,1.03058107621686,0.9934702979261001,0.973366015081618,0.9647277493026997,0.956046050673977,0.9526836815833766,0.9498815588489213,0.9466801869637023,0.942367846208633,0.9370640685578896,0.9297820477176845,0.9206179609344188,0.908855151176205,0.8951853460098391,0.8804770094552105,0.8639123303522026,0.8453323046897935,0.8259116161359862,0.8051923759414178,0.7840651162977281,0.7625041988094063,0.7384249257652072,0.7137899214320466,0.6920653333935807,0.6655689845165699,0.6438964122452723,0.615675305324883,0.598394352262218,1.040322131729548,0.6765499099696104,0.5493409174654998,0.492528400785073,0.4513075507777067,0.4313602720507895,0.4218736061935138,0.41513809418466757,0.40962065393473596,0.4047788781072076,0.39787364434623684,0.38989412301577314,0.38008108042322314,0.3693859393325398,0.35749229986354203,0.34472524823391293,0.33160328000152234,0.31757691656375314,0.3032708133280898,0.28846080927884415,0.27352488201130737,0.25976577947016566,0.24545024190085954,0.23117239039418871,0.23621885651201693,0.7410501409682438,0.4117068589329299,0.303419580310351,0.24506011101035421,0.20403848279756007,0.18373806333188808,0.1756894414142285,0.16887778501367798,0.1642779622977466,0.16003919048600862,0.1556902310457962,0.15090426901699203,0.14562738126551586,0.13977111914944815,0.13358709449680645,0.12720132689138888,0.12056595392998094,0.1139206079055849,0.10728693612153019,0.10070940404872013,0.09415207290638777,0.08804870957082084,0.08221719617553656,0.0768325056742518,0.6037532057266157,0.2738423592722755,0.1721442005748199,0.1200583391414613,0.09329442101547049,0.08065913217821297,0.07399616880060245,0.07026714615967167,0.06731965714034337,0.06492206458163159,0.06249193967208767,0.06002918688543474,0.05745068281810455,0.054736868148747966,0.05187127434463954,0.04890727661424753,0.04595211992273422,0.04304530783021395,0.040177444512777515,0.037483759461760316,0.035073333481169366,0.03258811271821549,0.030578077513813483,0.02850383426076256,0.02624792322356351,0.028658931907634654,0.4002692574343398,0.20374496150986274,0.1143977084861603,0.0712038098203809,0.055327201596773,0.04660782474079441,0.04270389617760484,0.04048144995820388,0.03890857720534155,0.037564447192933594,0.036247381595050324,0.034849923673857426,0.0333637154443648,0.03178281669449438,0.030148522189779047,0.028504161831434626,0.026865561458633936,0.025241121223862163,0.023621184995009797,0.022068086082675045,0.02055173940557195,0.01914012143959549,0.017842378463813424,0.016570096888318946,0.015414788445714804,0.014313156797023751,0.013287049467903747,2.13014257958006,0.33145467184723,0.14775109833193648,0.07767271329352876,0.05076948120511553,0.039824848716353285,0.034653359435963725,0.032029001796493484,0.03029543165171122,0.02919074292095358,0.028272277807501866,0.027288812195282217,0.026268388383034223,0.025230383361062574,0.02412496794485993,0.02297686484025005,0.02176078213375113,0.020537648001385685,0.019348520471578916,0.018199041113671714,0.017111468877274726,0.016038084532852173,0.01504874948896557,0.014095621104962342,0.01321672266217309,0.012351217508601648,0.011563461124445652,0.010792529431085562,0.010064683806179772,0.7273730396194548,0.23133950473751255,0.11898825495679628,0.06451271972140639,0.04556157568176313,0.03664223038064145,0.0324261060281699,0.030449097779275406,0.029089199156409385,0.027954447252068415,0.026925715067086547,0.02588903646830662,0.024752746699738367,0.0235896051954584,0.022373254295557254,0.021117975757828686,0.019853240060636317,0.018622413349389577,0.017480857176304175,0.01636839142451192,0.015292699303875492,0.01423340715109742,0.013266484105901522,0.012342297570964311,0.011461079132769043,0.010671729209437915,0.00992887968436459,0.009183687890179917,0.008538064201865678,0.007901378055268827,0.0073332221108821935,0.006793921437769326,0.006271787150958107,0.005864816747361051,0.005427181266732219,0.004940060145729543,0.0047113835724719765,0.004280317141494594,0.003934049574767169,0.0036494460121322928,0.0033632993576679154,0.702982341459698,0.16927622849934598,0.08082331822947558,0.04336477396033806,0.030171401400639376,0.02414862303928091,0.021322020886072802,0.02014144950813297,0.01948267129557959,0.018987375607682117,0.018411063829052315,0.01781099680543045,0.01713353761854481,0.01640040645416928,0.015642803515517285,0.014869712574773574,0.014092994414176193,0.013293370069847963,0.012520576644081462,0.011776297810161977,0.011060102328735218,0.01035462065862111,0.0096841378479925,0.009043937480111602,0.008434980938619874,0.007860842184003963,0.007311610411809024,0.006791908857770169,0.006315590440068876,0.005867739575138434,0.005437570074997836,0.005041093779081566,0.004670425330155401,0.004328928959922013,0.0040102966368198685,0.003708148783270243,0.003443617520462223,0.0031765434585248466,0.0029300304297151226,0.0027207731483077074,0.002502676633886807,0.00232467332460473,0.002148656541657362,0.0020708743584985593,0.3862854951447887,0.11815840506737638,0.06305231395255421,0.03314663455734395,0.022251512873523262,0.01805700643359733,0.01623488462723591,0.015459472924773811,0.01509313879403062,0.014868917016367158,0.014680344694420427,0.014423776433889719,0.01413983921125797,0.013803476949059765,0.013429730190521476,0.01302752753378141,0.01256748973155899,0.01207058126798553,0.011553281241783137,0.011021883113839266,0.010476032183902438,0.009931472283116917,0.009388152785306659,0.008846312127880965,0.00832434190761946,0.007819855207265473,0.007335529063584332,0.006869258330157346,0.0064190825881104375,0.0059956024247112966,0.005584823189498859,0.005196347446046462,0.00482852844458573,0.00448333191835469,0.004163881103577778,0.0038620243058138607,0.0035846932884415796,0.0033219027576249184,0.0030772850677775396,0.002857626381860371,0.0026466730245196224,0.0024457743619826756,0.0022697650323733765,0.0021018767548352415,0.0019472164316603677,0.0018070423205526587,0.001664889479135135,0.0015601164463401778,0.0014289158846647468,0.001319562147126509,0.0012183043065615697,0.0011281617109911623,0.0010432388305483696,0.0009688581679099837,0.0008957904061209539,0.0008231643151264067,0.0008634601935564018,0.31745946365595396,0.10664455004630834,0.04912333963597645,0.031173130820040126,0.022562774992391565,0.018827137366038596,0.01749239344252079,0.016984732408318225,0.016786366715178108,0.01668220199322536,0.016573537068849273,0.016387147167419548,0.016125024066626165,0.01579207322057893,0.015376678001342967,0.014892282056915482,0.014336493649385242,0.013722136806502753,0.013068986280219528,0.012367123042593943,0.011653848397277506,0.01093706121173522,0.010215619601834966,0.00950900335548474,0.00883352401961473,0.008188755903484574,0.007590844298580654,0.007035462840187901,0.0065202457883713864,0.006034143036370485,0.005580321421091704,0.005162255669081518,0.004765891877089018,0.004395078659220375,0.004058312444710553,0.0037399808516470606,0.003453565441815576,0.0031833511616424456,0.0029359511036893566,0.002721125812467067,0.0025104291492504737,0.0023159317667780337,0.0021461830636770604,0.0019830701695176616,0.001836688749807831,0.001698954708027062,0.0015707125056204118,0.0014577277915584065,0.001347783171833239,0.0012629413744283725,0.0011630904584150536,0.0010635863892149411,0.0009977809878748754,0.0009226166045597213,0.0008458223053639887,0.0007828364073155513,0.0007248939512373242,0.0006812743711775955,0.0006217703214030701,0.0005767604742220544,0.0005342344691926159,0.0005492574966447853,0.00046003535750137965,0.000417181990445456,0.00038533059684839316,0.00036455822968997035,0.13038943596320135,0.08858056016435682,0.040710242331615014,0.017670135737163917,0.010539982362876869,0.007991608497303421,0.007037718814934041,0.0066405259887980786,0.006526255438184149,0.006504595840134626,0.0064928246499286555,0.006454938620231614,0.006387928142762098,0.006295858229853558,0.006191610789391741,0.006071191026942756,0.005940601174920306,0.00579708137215893,0.005639764241027835,0.0054688626263106185,0.005286704058752988,0.005089368917647917,0.004881119452835584,0.0046635362303441685,0.004439154238090467,0.004212158440786004,0.0039844345474120664,0.0037602670789550967,0.0035390984392635076,0.003323381224988235,0.0031107342828434106,0.0029071417389390252,0.0027133417765024233,0.0025278757635248442,0.0023520480777585936,0.0021867607705467113,0.0020308156671874455,0.001884844653068439,0.0017476529558648323,0.001619343428615144,0.001500206231839361,0.0013883489866067008,0.0012850499692122967,0.0011901598750268512,0.0011016126578818344,0.0010197377990934795,0.0009421051451983986,0.0008708735360578688],\"yaxis\":\"y\",\"type\":\"scattergl\"},{\"hovertemplate\":\"Color=multi loss\\u003cbr\\u003eEpoch=%{x}\\u003cbr\\u003eLoss=%{y}\\u003cextra\\u003e\\u003c\\u002fextra\\u003e\",\"legendgroup\":\"3\",\"line\":{\"color\":\"#ab63fa\",\"dash\":\"solid\"},\"marker\":{\"symbol\":\"circle\"},\"mode\":\"lines\",\"name\":\"multi loss\",\"showlegend\":true,\"x\":[0,10,20,30,40,50,60,70,80,90,100,110,120,130,140,150,160,170,180,190,200,210,220,230,240,250,260,270,280,290,300,310,320,330,340,350,360,370,380,390,400,410,420,430,440,450,460,470,480,490,500,510,520,530,540,550,560,570,580,590,600,610,620,630,640,650,660,670,680,690,700,710,720,730,740,750,760,770,780,790,800,810,820,830,840,850,860,870,880,890,900,910,920,930,940,950,960,970,980,990,1000,1010,1020,1030,1040,1050,1060,1070,1080,1090,1100,1110,1120,1130,1140,1150,1160,1170,1180,1190,1200,1210,1220,1230,1240,1250,1260,1270,1280,1290,1300,1310,1320,1330,1340,1350,1360,1370,1380,1390,1400,1410,1420,1430,1440,1450,1460,1470,1480,1490,1500,1510,1520,1530,1540,1550,1560,1570,1580,1590,1600,1610,1620,1630,1640,1650,1660,1670,1680,1690,1700,1710,1720,1730,1740,1750,1760,1770,1780,1790,1800,1810,1820,1830,1840,1850,1860,1870,1880,1890,1900,1910,1920,1930,1940,1950,1960,1970,1980,1990,2000,2010,2020,2030,2040,2050,2060,2070,2080,2090,2100,2110,2120,2130,2140,2150,2160,2170,2180,2190,2200,2210,2220,2230,2240,2250,2260,2270,2280,2290,2300,2310,2320,2330,2340,2350,2360,2370,2380,2390,2400,2410,2420,2430,2440,2450,2460,2470,2480,2490,2500,2510,2520,2530,2540,2550,2560,2570,2580,2590,2600,2610,2620,2630,2640,2650,2660,2670,2680,2690,2700,2710,2720,2730,2740,2750,2760,2770,2780,2790,2800,2810,2820,2830,2840,2850,2860,2870,2880,2890,2900,2910,2920,2930,2940,2950,2960,2970,2980,2990,3000,3010,3020,3030,3040,3050,3060,3070,3080,3090,3100,3110,3120,3130,3140,3150,3160,3170,3180,3190,3200,3210,3220,3230,3240,3250,3260,3270,3280,3290,3300,3310,3320,3330,3340,3350,3360,3370,3380,3390,3400,3410,3420,3430,3440,3450,3460,3470,3480,3490,3500,3510,3520,3530,3540,3550,3560,3570,3580,3590,3600,3610,3620,3630,3640,3650,3660,3670,3680,3690,3700,3710,3720,3730,3740,3750,3760,3770,3780,3790,3800,3810,3820,3830,3840,3850,3860,3870,3880,3890,3900,3910,3920,3930,3940,3950,3960,3970,3980,3990,4000,4010,4020,4030,4040,4050,4060,4070,4080,4090,4100,4110,4120,4130,4140,4150,4160,4170,4180,4190,4200,4210,4220,4230,4240,4250,4260,4270,4280,4290,4300,4310,4320,4330,4340,4350,4360,4370,4380,4390,4400,4410,4420,4430,4440,4450,4460,4470,4480,4490,4500,4510,4520,4530,4540,4550,4560,4570,4580,4590,4600,4610,4620,4630,4640,4650,4660,4670,4680,4690,4700,4710,4720,4730,4740,4750,4760,4770,4780,4790,4800,4810,4820,4830,4840,4850,4860,4870,4880,4890,4900,4910,4920,4930,4940,4950,4960,4970,4980,4990],\"xaxis\":\"x\",\"y\":[4.7077671398049015,4.663226277668552,4.79438485265172,4.962955506019486,5.017157160422642,5.04912383271445,5.06247591122357,5.097829761994124,5.181514339682299,5.288784567071089,5.390320599018744,5.48253877988925,5.580484287247372,5.681083819024752,5.77271542401887,5.874964842751493,5.969367585136524,6.068326128461183,6.159336454362658,6.2548023504658214,6.3424127493965194,6.4299952213522165,6.503120075401321,6.573483222963056,6.641422214824728,6.69727198429498,6.745576797644848,6.794810676352156,6.837718361016855,6.875370128941447,6.915608028538998,6.956341714208385,6.985880522583203,7.02331261930018,7.051468418516068,7.087222210318794,7.111999994951198,7.148866361731283,7.1643322417010795,7.18527996237362,7.2144794756275,7.246786032914414,7.268842492719132,7.299403622771823,7.325311920007587,7.360473055326004,7.5267668742624885,7.450819302732093,7.448801998326318,7.444605718078441,7.44200619747322,7.4473721613795885,7.4366736761529,7.432601695573003,7.42953525066925,7.432414947036346,7.44271263857842,7.458869670261469,7.48167767945992,7.50923879327546,7.541032277849924,7.575187720932722,7.611896207864893,7.65014857241416,7.689001050791856,7.729570218213286,7.76930007525216,7.807464110111696,7.848994484552431,7.889559863335477,7.924680847650579,7.96790801195863,8.002634840570634,8.039168585115526,8.079816846826086,8.110542033795982,8.154113275695378,8.181867636422146,8.216716904305718,8.259864444309745,8.279509778090967,8.663376021667949,7.716305848387863,8.005146802297723,7.93692097257976,7.847380696121731,7.798675784324815,7.727499075521521,7.656230558710358,7.582587509241333,7.516380889877585,7.456090550335815,7.402411491441388,7.3533067432168915,7.311665907302549,7.277319319776781,7.24924595527573,7.2273224493153405,7.212423313212572,7.203158821681807,7.198578357230658,7.197738129647041,7.200311449719021,7.204039637538859,7.210419287794682,7.224217331732409,7.233129614061123,7.243694052853532,7.27045264763273,7.266619659955555,7.307842096102855,7.312408975969116,7.371060774512844,7.201261730660325,7.1603526660377,7.148014740720823,7.131992915843548,7.0701298697463235,7.0211294243145055,6.979818334040393,6.934433871094725,6.889828410592628,6.8505532600063095,6.8151530359959285,6.784561217453547,6.758905820810403,6.737905830239542,6.722133068855382,6.7103842299503444,6.701278055066468,6.697276990882452,6.696593329789328,6.697487568108,6.697286739219964,6.709692909269001,6.708999772321419,6.724462812967961,6.850046325368104,6.728595361419807,6.685167102688748,6.650655582383055,6.6210276853884285,6.572598352427408,6.5385465210090175,6.50046658488161,6.454155101597272,6.411199576135233,6.370931774284238,6.336039700018739,6.306538430568911,6.279592553019287,6.2566224251811295,6.237985633351379,6.22335511340825,6.2114129241445415,6.202192333516037,6.198386034598251,6.193976524465086,6.190603201261637,6.196599191097485,6.191927333392246,6.213145021639526,6.369268777557234,6.368098849430275,6.274072334401415,6.245582287841611,6.214366446154298,6.175137994167064,6.144181921329587,6.098987841058495,6.054536326212572,6.017471200302208,5.980647724604281,5.948252774046995,5.92103335869169,5.89751767151967,5.87731564815103,5.862529626546571,5.848529960393031,5.839434145866711,5.831567170988264,5.824960937386801,5.825576332569828,5.830393922319622,5.843491484732315,5.8568902446656255,5.851121781847913,6.0405109945401625,6.233606489454612,6.0652082969073735,5.967137680252379,5.963621467425093,5.917972951255073,5.88411915130912,5.838336961917572,5.797961334567341,5.756163375110188,5.717834745659698,5.684779125728714,5.6532870728480304,5.626259458552706,5.604796603867958,5.5872159251730675,5.573433917709285,5.563660041201084,5.557408517076965,5.552964142011753,5.556099143450476,5.5558304920132295,5.561852938197447,5.571659844976061,5.57196865984473,5.591415226529737,5.601020763711063,5.62114824087612,7.379256689915677,5.945185585920501,5.840690362763572,5.7900791328206465,5.741986970962231,5.704214213289874,5.647587854087352,5.60501751935833,5.564086485459816,5.5224638457635775,5.482355468853444,5.44680117217701,5.414328347838801,5.387177323945439,5.364929569399889,5.3456359162945635,5.328878585892344,5.3159789710458165,5.30524918834582,5.300484988893683,5.296510172308738,5.293547215965107,5.294672540893072,5.296505157113918,5.307098532481735,5.3156946286540006,5.326444006482776,5.3309396391380774,5.359039890467122,6.2827896542594175,5.722772056677042,5.500274937010603,5.388008005359642,5.312250229975009,5.260005587514389,5.210913559983175,5.167449536725423,5.1230484677653685,5.081896015726013,5.042890812232744,5.008025384492793,4.976324189892045,4.947243883119202,4.921658736061212,4.899667728024221,4.878878620490655,4.862693680346866,4.848873358764488,4.839028192930045,4.826480347641874,4.816936405252998,4.814576706620586,4.805432130533333,4.803041075776736,4.802623166903388,4.805012637547135,4.796533443826207,4.8000363035598905,4.799073180763066,4.804861368053742,4.801291976780005,4.807015955952415,4.808817289740787,4.814033723286226,4.808762291082668,4.830362642388255,4.831354528524051,4.826045400598305,4.828813457630949,4.83878643855494,6.084509445163956,5.07724062332427,4.737123417140693,4.60984323014316,4.499129869434433,4.445416683793666,4.398919705851815,4.357202079495467,4.3179909993416805,4.2828068582954675,4.246649574172863,4.213501686953772,4.182436386815029,4.152886982078561,4.123651716390506,4.098340929334252,4.073738585960593,4.04961220941883,4.027262174646485,4.00609481307356,3.986255307324632,3.9661460306671157,3.9477522666761202,3.9301957387306854,3.913501462422889,3.897449563971911,3.879580789456469,3.8642443812677634,3.8527594189264027,3.8348159015511234,3.8216023275885003,3.812606796418223,3.7972395996116712,3.788384782632927,3.773766253708828,3.76333873729807,3.758154201400477,3.7487638298644597,3.7365595944719834,3.729844025792004,3.7219270905467434,3.715346298169565,3.7045400211451542,3.7293245668889092,5.016306998824841,3.8449879424369766,3.4227778971029537,3.2472881145227017,3.166974572879325,3.105614861358301,3.0682609511987615,3.043850063681891,3.0257810057610826,3.006579110701824,2.9882735788972825,2.968876487826224,2.949488066843395,2.928678592145446,2.906898698881744,2.8838113865985204,2.86077192188785,2.8373150560190883,2.8134730250484314,2.788669653596048,2.764117213123163,2.738474202657766,2.713762619210737,2.689061700317992,2.6646527723818534,2.64079190136017,2.617611012926408,2.5949734745291884,2.574605009162459,2.550863314913551,2.527627208027061,2.508594386637028,2.4917323263999958,2.469047386158566,2.452177913179312,2.434419534403701,2.4210892044205536,2.405619649806064,2.390456342481069,2.3829152857908356,2.3647913471348088,2.35013676559596,2.3427307061930995,2.3258155559684894,2.3168810720295636,2.310564515391991,2.293719603609878,2.2911078826666595,2.2784719642662106,2.2769510725877757,2.2645760388683156,2.25572152812243,2.2485262577587943,2.240875061671327,2.2434456489049013,2.239162822649676,2.3790380594101403,3.710265432028312,2.4766460696092816,2.0467169290135754,1.8171083809262756,1.718082002423356,1.6600911539585983,1.636323634516632,1.6249492236992953,1.6198749757752349,1.6151181563923103,1.611878829088096,1.6086317817550697,1.6043903264578108,1.5999787341825589,1.5941724104987705,1.5880424525377195,1.5817467510253962,1.574259043293745,1.56612962659218,1.5580752255938826,1.54775363098397,1.5370023698127655,1.5246657381391224,1.5105077317087816,1.4959171753077698,1.481734006115746,1.467551526495057,1.4524795874116545,1.437151882105336,1.4213956090598678,1.4063272771694515,1.3916111667127578,1.375478006061416,1.361565754190681,1.3513365343661945,1.335645689308606,1.3258441958388256,1.312655629410034,1.3003348576757128,1.295660619989912,1.2839681191341665,1.273172916510088,1.2697413582947183,1.2589062385848968,1.250192129798134,1.2461482566777249,1.2396159851560122,1.2395487106345164,1.2323337911224048,1.2375657018425799,1.228325174276285,1.227105932637364,1.2350860876141716,1.2231417239482816,1.227937697663583,1.2315091564868383,1.2311905721911527,1.2438581865982514,1.2358435605137756,1.252121936382632,1.245321239023752,1.2648428280512403,1.247405833279989,1.2549578159844463,1.2653646139978607,1.2805349745658177,5.321555544573053,2.1335715564136204,1.4908890641414576,1.2183907239867202,1.0713309838419227,0.9910098546434669,0.9500252097019923,0.9339477378648023,0.9233274855219111,0.9188020398959897,0.9135735940946064,0.9078220903190124,0.9034798093605031,0.8986227651781874,0.8935335730446244,0.8884347295892786,0.8833738757461715,0.8782382704777362,0.8717365068325119,0.8648068540976998,0.8572068219581152,0.8490036475490844,0.8402250938610858,0.830024010030862,0.819832603557125,0.8084639869510556,0.796919096020571,0.7845438634867264,0.7725093367950295,0.760228739891957,0.7493357316557813,0.737669568575133,0.7267254896912972,0.7153328434591232,0.7041571774656705,0.6945397319069749,0.6868225954796596,0.6773726338678484,0.66717612367908,0.6600617219523343,0.6546833007079326,0.6438529991433002,0.6374108657235714,0.6319142658143547,0.6223416259986247,0.6207589421264205,0.6101909580267139,0.6059685660682579],\"yaxis\":\"y\",\"type\":\"scattergl\"}],                        {\"template\":{\"data\":{\"histogram2dcontour\":[{\"type\":\"histogram2dcontour\",\"colorbar\":{\"outlinewidth\":0,\"ticks\":\"\"},\"colorscale\":[[0.0,\"#0d0887\"],[0.1111111111111111,\"#46039f\"],[0.2222222222222222,\"#7201a8\"],[0.3333333333333333,\"#9c179e\"],[0.4444444444444444,\"#bd3786\"],[0.5555555555555556,\"#d8576b\"],[0.6666666666666666,\"#ed7953\"],[0.7777777777777778,\"#fb9f3a\"],[0.8888888888888888,\"#fdca26\"],[1.0,\"#f0f921\"]]}],\"choropleth\":[{\"type\":\"choropleth\",\"colorbar\":{\"outlinewidth\":0,\"ticks\":\"\"}}],\"histogram2d\":[{\"type\":\"histogram2d\",\"colorbar\":{\"outlinewidth\":0,\"ticks\":\"\"},\"colorscale\":[[0.0,\"#0d0887\"],[0.1111111111111111,\"#46039f\"],[0.2222222222222222,\"#7201a8\"],[0.3333333333333333,\"#9c179e\"],[0.4444444444444444,\"#bd3786\"],[0.5555555555555556,\"#d8576b\"],[0.6666666666666666,\"#ed7953\"],[0.7777777777777778,\"#fb9f3a\"],[0.8888888888888888,\"#fdca26\"],[1.0,\"#f0f921\"]]}],\"heatmap\":[{\"type\":\"heatmap\",\"colorbar\":{\"outlinewidth\":0,\"ticks\":\"\"},\"colorscale\":[[0.0,\"#0d0887\"],[0.1111111111111111,\"#46039f\"],[0.2222222222222222,\"#7201a8\"],[0.3333333333333333,\"#9c179e\"],[0.4444444444444444,\"#bd3786\"],[0.5555555555555556,\"#d8576b\"],[0.6666666666666666,\"#ed7953\"],[0.7777777777777778,\"#fb9f3a\"],[0.8888888888888888,\"#fdca26\"],[1.0,\"#f0f921\"]]}],\"heatmapgl\":[{\"type\":\"heatmapgl\",\"colorbar\":{\"outlinewidth\":0,\"ticks\":\"\"},\"colorscale\":[[0.0,\"#0d0887\"],[0.1111111111111111,\"#46039f\"],[0.2222222222222222,\"#7201a8\"],[0.3333333333333333,\"#9c179e\"],[0.4444444444444444,\"#bd3786\"],[0.5555555555555556,\"#d8576b\"],[0.6666666666666666,\"#ed7953\"],[0.7777777777777778,\"#fb9f3a\"],[0.8888888888888888,\"#fdca26\"],[1.0,\"#f0f921\"]]}],\"contourcarpet\":[{\"type\":\"contourcarpet\",\"colorbar\":{\"outlinewidth\":0,\"ticks\":\"\"}}],\"contour\":[{\"type\":\"contour\",\"colorbar\":{\"outlinewidth\":0,\"ticks\":\"\"},\"colorscale\":[[0.0,\"#0d0887\"],[0.1111111111111111,\"#46039f\"],[0.2222222222222222,\"#7201a8\"],[0.3333333333333333,\"#9c179e\"],[0.4444444444444444,\"#bd3786\"],[0.5555555555555556,\"#d8576b\"],[0.6666666666666666,\"#ed7953\"],[0.7777777777777778,\"#fb9f3a\"],[0.8888888888888888,\"#fdca26\"],[1.0,\"#f0f921\"]]}],\"surface\":[{\"type\":\"surface\",\"colorbar\":{\"outlinewidth\":0,\"ticks\":\"\"},\"colorscale\":[[0.0,\"#0d0887\"],[0.1111111111111111,\"#46039f\"],[0.2222222222222222,\"#7201a8\"],[0.3333333333333333,\"#9c179e\"],[0.4444444444444444,\"#bd3786\"],[0.5555555555555556,\"#d8576b\"],[0.6666666666666666,\"#ed7953\"],[0.7777777777777778,\"#fb9f3a\"],[0.8888888888888888,\"#fdca26\"],[1.0,\"#f0f921\"]]}],\"mesh3d\":[{\"type\":\"mesh3d\",\"colorbar\":{\"outlinewidth\":0,\"ticks\":\"\"}}],\"scatter\":[{\"fillpattern\":{\"fillmode\":\"overlay\",\"size\":10,\"solidity\":0.2},\"type\":\"scatter\"}],\"parcoords\":[{\"type\":\"parcoords\",\"line\":{\"colorbar\":{\"outlinewidth\":0,\"ticks\":\"\"}}}],\"scatterpolargl\":[{\"type\":\"scatterpolargl\",\"marker\":{\"colorbar\":{\"outlinewidth\":0,\"ticks\":\"\"}}}],\"bar\":[{\"error_x\":{\"color\":\"#2a3f5f\"},\"error_y\":{\"color\":\"#2a3f5f\"},\"marker\":{\"line\":{\"color\":\"#E5ECF6\",\"width\":0.5},\"pattern\":{\"fillmode\":\"overlay\",\"size\":10,\"solidity\":0.2}},\"type\":\"bar\"}],\"scattergeo\":[{\"type\":\"scattergeo\",\"marker\":{\"colorbar\":{\"outlinewidth\":0,\"ticks\":\"\"}}}],\"scatterpolar\":[{\"type\":\"scatterpolar\",\"marker\":{\"colorbar\":{\"outlinewidth\":0,\"ticks\":\"\"}}}],\"histogram\":[{\"marker\":{\"pattern\":{\"fillmode\":\"overlay\",\"size\":10,\"solidity\":0.2}},\"type\":\"histogram\"}],\"scattergl\":[{\"type\":\"scattergl\",\"marker\":{\"colorbar\":{\"outlinewidth\":0,\"ticks\":\"\"}}}],\"scatter3d\":[{\"type\":\"scatter3d\",\"line\":{\"colorbar\":{\"outlinewidth\":0,\"ticks\":\"\"}},\"marker\":{\"colorbar\":{\"outlinewidth\":0,\"ticks\":\"\"}}}],\"scattermapbox\":[{\"type\":\"scattermapbox\",\"marker\":{\"colorbar\":{\"outlinewidth\":0,\"ticks\":\"\"}}}],\"scatterternary\":[{\"type\":\"scatterternary\",\"marker\":{\"colorbar\":{\"outlinewidth\":0,\"ticks\":\"\"}}}],\"scattercarpet\":[{\"type\":\"scattercarpet\",\"marker\":{\"colorbar\":{\"outlinewidth\":0,\"ticks\":\"\"}}}],\"carpet\":[{\"aaxis\":{\"endlinecolor\":\"#2a3f5f\",\"gridcolor\":\"white\",\"linecolor\":\"white\",\"minorgridcolor\":\"white\",\"startlinecolor\":\"#2a3f5f\"},\"baxis\":{\"endlinecolor\":\"#2a3f5f\",\"gridcolor\":\"white\",\"linecolor\":\"white\",\"minorgridcolor\":\"white\",\"startlinecolor\":\"#2a3f5f\"},\"type\":\"carpet\"}],\"table\":[{\"cells\":{\"fill\":{\"color\":\"#EBF0F8\"},\"line\":{\"color\":\"white\"}},\"header\":{\"fill\":{\"color\":\"#C8D4E3\"},\"line\":{\"color\":\"white\"}},\"type\":\"table\"}],\"barpolar\":[{\"marker\":{\"line\":{\"color\":\"#E5ECF6\",\"width\":0.5},\"pattern\":{\"fillmode\":\"overlay\",\"size\":10,\"solidity\":0.2}},\"type\":\"barpolar\"}],\"pie\":[{\"automargin\":true,\"type\":\"pie\"}]},\"layout\":{\"autotypenumbers\":\"strict\",\"colorway\":[\"#636efa\",\"#EF553B\",\"#00cc96\",\"#ab63fa\",\"#FFA15A\",\"#19d3f3\",\"#FF6692\",\"#B6E880\",\"#FF97FF\",\"#FECB52\"],\"font\":{\"color\":\"#2a3f5f\"},\"hovermode\":\"closest\",\"hoverlabel\":{\"align\":\"left\"},\"paper_bgcolor\":\"white\",\"plot_bgcolor\":\"#E5ECF6\",\"polar\":{\"bgcolor\":\"#E5ECF6\",\"angularaxis\":{\"gridcolor\":\"white\",\"linecolor\":\"white\",\"ticks\":\"\"},\"radialaxis\":{\"gridcolor\":\"white\",\"linecolor\":\"white\",\"ticks\":\"\"}},\"ternary\":{\"bgcolor\":\"#E5ECF6\",\"aaxis\":{\"gridcolor\":\"white\",\"linecolor\":\"white\",\"ticks\":\"\"},\"baxis\":{\"gridcolor\":\"white\",\"linecolor\":\"white\",\"ticks\":\"\"},\"caxis\":{\"gridcolor\":\"white\",\"linecolor\":\"white\",\"ticks\":\"\"}},\"coloraxis\":{\"colorbar\":{\"outlinewidth\":0,\"ticks\":\"\"}},\"colorscale\":{\"sequential\":[[0.0,\"#0d0887\"],[0.1111111111111111,\"#46039f\"],[0.2222222222222222,\"#7201a8\"],[0.3333333333333333,\"#9c179e\"],[0.4444444444444444,\"#bd3786\"],[0.5555555555555556,\"#d8576b\"],[0.6666666666666666,\"#ed7953\"],[0.7777777777777778,\"#fb9f3a\"],[0.8888888888888888,\"#fdca26\"],[1.0,\"#f0f921\"]],\"sequentialminus\":[[0.0,\"#0d0887\"],[0.1111111111111111,\"#46039f\"],[0.2222222222222222,\"#7201a8\"],[0.3333333333333333,\"#9c179e\"],[0.4444444444444444,\"#bd3786\"],[0.5555555555555556,\"#d8576b\"],[0.6666666666666666,\"#ed7953\"],[0.7777777777777778,\"#fb9f3a\"],[0.8888888888888888,\"#fdca26\"],[1.0,\"#f0f921\"]],\"diverging\":[[0,\"#8e0152\"],[0.1,\"#c51b7d\"],[0.2,\"#de77ae\"],[0.3,\"#f1b6da\"],[0.4,\"#fde0ef\"],[0.5,\"#f7f7f7\"],[0.6,\"#e6f5d0\"],[0.7,\"#b8e186\"],[0.8,\"#7fbc41\"],[0.9,\"#4d9221\"],[1,\"#276419\"]]},\"xaxis\":{\"gridcolor\":\"white\",\"linecolor\":\"white\",\"ticks\":\"\",\"title\":{\"standoff\":15,\"font\":{\"size\":20}},\"zerolinecolor\":\"white\",\"automargin\":true,\"zerolinewidth\":2},\"yaxis\":{\"gridcolor\":\"white\",\"linecolor\":\"white\",\"ticks\":\"\",\"title\":{\"standoff\":15,\"font\":{\"size\":20}},\"zerolinecolor\":\"white\",\"automargin\":true,\"zerolinewidth\":2},\"scene\":{\"xaxis\":{\"backgroundcolor\":\"#E5ECF6\",\"gridcolor\":\"white\",\"linecolor\":\"white\",\"showbackground\":true,\"ticks\":\"\",\"zerolinecolor\":\"white\",\"gridwidth\":2},\"yaxis\":{\"backgroundcolor\":\"#E5ECF6\",\"gridcolor\":\"white\",\"linecolor\":\"white\",\"showbackground\":true,\"ticks\":\"\",\"zerolinecolor\":\"white\",\"gridwidth\":2},\"zaxis\":{\"backgroundcolor\":\"#E5ECF6\",\"gridcolor\":\"white\",\"linecolor\":\"white\",\"showbackground\":true,\"ticks\":\"\",\"zerolinecolor\":\"white\",\"gridwidth\":2}},\"shapedefaults\":{\"line\":{\"color\":\"#2a3f5f\"}},\"annotationdefaults\":{\"arrowcolor\":\"#2a3f5f\",\"arrowhead\":0,\"arrowwidth\":1},\"geo\":{\"bgcolor\":\"white\",\"landcolor\":\"#E5ECF6\",\"subunitcolor\":\"white\",\"showland\":true,\"showlakes\":true,\"lakecolor\":\"white\"},\"title\":{\"x\":0.05,\"font\":{\"size\":30}},\"mapbox\":{\"style\":\"light\"}}},\"xaxis\":{\"anchor\":\"y\",\"domain\":[0.0,1.0],\"title\":{\"text\":\"Epoch\"}},\"yaxis\":{\"anchor\":\"x\",\"domain\":[0.0,1.0],\"title\":{\"text\":\"Loss\"}},\"legend\":{\"title\":{\"text\":\"Color\"},\"tracegroupgap\":0},\"title\":{\"text\":\"Training Curve for Modular Arithmetic - 70% Addition\"},\"updatemenus\":[{\"active\":-1,\"buttons\":[{\"args\":[{\"xaxis.type\":\"log\"}],\"args2\":[{\"xaxis.type\":\"linear\"}],\"label\":\"Log x-axis\",\"method\":\"relayout\"}],\"type\":\"buttons\",\"x\":-0.1,\"y\":1.0},{\"active\":-1,\"buttons\":[{\"args\":[{\"yaxis.type\":\"log\"}],\"args2\":[{\"yaxis.type\":\"linear\"}],\"label\":\"Log y-axis\",\"method\":\"relayout\"}],\"type\":\"buttons\",\"x\":-0.1,\"y\":0.85}]},                        {\"responsive\": true}                    ).then(function(){\n",
              "                            \n",
              "var gd = document.getElementById('556944e0-00d9-423a-aca1-7c34a5fd76c6');\n",
              "var x = new MutationObserver(function (mutations, observer) {{\n",
              "        var display = window.getComputedStyle(gd).display;\n",
              "        if (!display || display === 'none') {{\n",
              "            console.log([gd, 'removed!']);\n",
              "            Plotly.purge(gd);\n",
              "            observer.disconnect();\n",
              "        }}\n",
              "}});\n",
              "\n",
              "// Listen for the removal of the full notebook cells\n",
              "var notebookContainer = gd.closest('#notebook-container');\n",
              "if (notebookContainer) {{\n",
              "    x.observe(notebookContainer, {childList: true});\n",
              "}}\n",
              "\n",
              "// Listen for the clearing of the current output cell\n",
              "var outputEl = gd.closest('.output');\n",
              "if (outputEl) {{\n",
              "    x.observe(outputEl, {childList: true});\n",
              "}}\n",
              "\n",
              "                        })                };                });            </script>        </div>"
            ]
          },
          "metadata": {},
          "output_type": "display_data"
        },
        {
          "data": {
            "text/html": [
              "<div>                            <div id=\"f90ddd2f-cdd1-44a9-8697-b5acb5d3ba78\" class=\"plotly-graph-div\" style=\"height:525px; width:100%;\"></div>            <script type=\"text/javascript\">                require([\"plotly\"], function(Plotly) {                    window.PLOTLYENV=window.PLOTLYENV || {};                                    if (document.getElementById(\"f90ddd2f-cdd1-44a9-8697-b5acb5d3ba78\")) {                    Plotly.newPlot(                        \"f90ddd2f-cdd1-44a9-8697-b5acb5d3ba78\",                        [{\"hovertemplate\":\"Color=train\\u003cbr\\u003eEpoch=%{x}\\u003cbr\\u003eRolling Avg Loss=%{y}\\u003cextra\\u003e\\u003c\\u002fextra\\u003e\",\"legendgroup\":\"0\",\"line\":{\"color\":\"#636efa\",\"dash\":\"solid\"},\"marker\":{\"symbol\":\"circle\"},\"mode\":\"lines\",\"name\":\"train\",\"showlegend\":true,\"x\":[0,10,20,30,40,50,60,70,80,90,100,110,120,130,140,150,160,170,180,190,200,210,220,230,240,250,260,270,280,290,300,310,320,330,340,350,360,370,380,390,400,410,420,430,440,450,460,470,480,490,500,510,520,530,540,550,560,570,580,590,600,610,620,630,640,650,660,670,680,690,700,710,720,730,740,750,760,770,780,790,800,810,820,830,840,850,860,870,880,890,900,910,920,930,940,950,960,970,980,990,1000,1010,1020,1030,1040,1050,1060,1070,1080,1090,1100,1110,1120,1130,1140,1150,1160,1170,1180,1190,1200,1210,1220,1230,1240,1250,1260,1270,1280,1290,1300,1310,1320,1330,1340,1350,1360,1370,1380,1390,1400,1410,1420,1430,1440,1450,1460,1470,1480,1490,1500,1510,1520,1530,1540,1550,1560,1570,1580,1590,1600,1610,1620,1630,1640,1650,1660,1670,1680,1690,1700,1710,1720,1730,1740,1750,1760,1770,1780,1790,1800,1810,1820,1830,1840,1850,1860,1870,1880,1890,1900,1910,1920,1930,1940,1950,1960,1970,1980,1990,2000,2010,2020,2030,2040,2050,2060,2070,2080,2090,2100,2110,2120,2130,2140,2150,2160,2170,2180,2190,2200,2210,2220,2230,2240,2250,2260,2270,2280,2290,2300,2310,2320,2330,2340,2350,2360,2370,2380,2390,2400,2410,2420,2430,2440,2450,2460,2470,2480,2490,2500,2510,2520,2530,2540,2550,2560,2570,2580,2590,2600,2610,2620,2630,2640,2650,2660,2670,2680,2690,2700,2710,2720,2730,2740,2750,2760,2770,2780,2790,2800,2810,2820,2830,2840,2850,2860,2870,2880,2890,2900,2910,2920,2930,2940,2950,2960,2970,2980,2990,3000,3010,3020,3030,3040,3050,3060,3070,3080,3090,3100,3110,3120,3130,3140,3150,3160,3170,3180,3190,3200,3210,3220,3230,3240,3250,3260,3270,3280,3290,3300,3310,3320,3330,3340,3350,3360,3370,3380,3390,3400,3410,3420,3430,3440,3450,3460,3470,3480,3490,3500,3510,3520,3530,3540,3550,3560,3570,3580,3590,3600,3610,3620,3630,3640,3650,3660,3670,3680,3690,3700,3710,3720,3730,3740,3750,3760,3770,3780,3790,3800,3810,3820,3830,3840,3850,3860,3870,3880,3890,3900,3910,3920,3930,3940,3950,3960,3970,3980,3990,4000,4010,4020,4030,4040,4050,4060,4070,4080,4090,4100,4110,4120,4130,4140,4150,4160,4170,4180,4190,4200,4210,4220,4230,4240,4250,4260,4270,4280,4290,4300,4310,4320,4330,4340,4350,4360,4370,4380,4390,4400,4410,4420,4430,4440,4450,4460,4470,4480,4490,4500,4510,4520,4530,4540,4550,4560,4570,4580,4590,4600,4610,4620,4630,4640,4650,4660,4670,4680,4690,4700,4710,4720,4730,4740,4750,4760,4770,4780,4790,4800,4810,4820,4830,4840,4850,4860,4870,4880,4890,4900,4910,4920,4930,4940,4950,4960,4970,4980,4990],\"xaxis\":\"x\",\"y\":[5.046054775218921,4.77444535364744,4.72766241470282,4.693705437109825,4.651298344466017,4.592345091426577,4.512318614096559,4.407229902660088,4.277722066171608,4.127677420384991,3.9639527098481904,3.7943188695510175,3.624563743146186,3.4583019601656737,3.297611792008623,3.143966888296962,2.9982099812335368,2.860559048027378,2.7312985625242696,2.610217876556044,2.4843833790126335,2.2607089968710783,2.0380556508970646,1.8161313306109617,1.5978203650484812,1.3867745700657372,1.1871050754312784,1.0035691039965173,0.8398058917212456,0.6978225320524438,0.5773220978143652,0.47610239438622015,0.3916203617665145,0.3215549549427951,0.26395201006091223,0.21690473783774739,0.17868700104027277,0.14795476790567075,0.12326440114698822,0.10355963192465475,0.08782059453203633,0.07514377863781246,0.06491927271184869,0.0565684525351827,0.049669999281262485,0.04389450949449047,0.03899364701303383,0.03491728754731916,0.03701824674846483,0.03550268890310083,0.033437883510236396,0.031405491604681285,0.029541774062612127,0.027898759355100767,0.026473029080114646,0.02523320677544817,0.024171099717391887,0.023258147274972208,0.022460307722548912,0.02177216628198804,0.021172924947131938,0.020651878655751608,0.020184670770064816,0.01977720067748361,0.019404038651524166,0.019075211366467577,0.01879144942025363,0.018423735463437195,0.012480362807589997,0.010645700652677116,0.009768651429230299,0.009210665769953769,0.00876439097661171,0.008350465817064546,0.007938846760092464,0.007520654730085909,0.007096309160603724,0.006669407326394138,0.0062458318290688755,0.005828978070233345,0.005424828459398953,0.005038882537444027,0.015302636723042044,0.043345290619698204,0.048730948063756795,0.050402221396365146,0.05109492887198594,0.051486102644337735,0.05178540048350182,0.052071803195985186,0.05237731638709617,0.05271361656274835,0.0530833292640094,0.05348448261995025,0.05391237961614632,0.054361382961991736,0.05482520670136567,0.05529802857789866,0.05577328892565141,0.056247406997746975,0.05671405709623109,0.05716703804119017,0.04697393957747311,0.019004486609520966,0.013693637129057126,0.01209772430360955,0.011480217166907421,0.011163099794810272,0.010936413824350889,0.010721842347512183,0.010488120472792135,0.010220326913485536,0.0099145178715474,0.00957978560814144,0.03975910858030038,0.04677517661753752,0.04885500466168776,0.04961789172108198,0.04994282961298037,0.05011118723390127,0.05023545996092251,0.050361073417822776,0.05050588721602381,0.05067576471936901,0.05087047070131732,0.051087103100189483,0.05132107162106136,0.051567750386984156,0.05182170553007,0.05207733073994895,0.05232966134519848,0.052578056108253265,0.05282153873476507,0.053051051785656486,0.02272732770559519,0.015533164723963344,0.013248764418193181,0.01225815034931352,0.011796025238277498,0.06358239419979778,0.07812007089408,0.08267640561077597,0.08445636607749613,0.0853127094000881,0.08582702419049153,0.08620266166773971,0.08652712882457561,0.08683772185947575,0.08714993379234864,0.08746916564072617,0.0877959520236515,0.08812858350749332,0.0884639475451718,0.08879931058881128,0.08913079863083544,0.08945475834917907,0.08976744367426791,0.09006972624067114,0.09025310045096913,0.03832149717728924,0.02366669461460145,0.01898353706372271,0.01704634004903157,0.06821039714755212,0.09214786906044982,0.09941837955907758,0.1018814277982271,0.10288934070914019,0.10337428346357587,0.10365020503180876,0.10384479707968192,0.10401323291175149,0.10417884425129662,0.10435082403507959,0.10453177251534625,0.10472112449416635,0.10491670954155177,0.10511591675510185,0.10531571860480488,0.1055130297912222,0.1057032352035675,0.10588177980253588,0.1060544037092381,0.054012347690391496,0.029498596771625675,0.021770465676525293,0.018863918113679563,0.017399792005529092,0.016604951993634275,0.07463479765944205,0.09220654344493628,0.0976959337307593,0.09959858764320381,0.10033702568415112,0.1006650266299254,0.10083922998346177,0.1009660876692505,0.1010900361591619,0.10122855943136083,0.10138680739408246,0.10156414709821701,0.10175705274315666,0.10196100873030826,0.10216895834803502,0.1023822588894661,0.10258160927437684,0.10278654487032228,0.10299078381215625,0.10302335385868772,0.04441344284806241,0.026320138469704206,0.020316793913639167,0.017890252698403056,0.01661603629624208,0.015738585965288536,0.015008640240351987,0.0345757257466216,0.08550921529454024,0.10013073906732035,0.10471092611517514,0.1063164632225649,0.10696646679997203,0.10728230071962759,0.10748138938679591,0.107652960786769,0.107833143813825,0.10803517129335298,0.10826097590220311,0.10850837476480094,0.10877289967817008,0.10904872081477514,0.10933174884519631,0.10961716969655164,0.10989920126670435,0.11017899329460734,0.11045154123838358,0.09046418777053318,0.039107707478145584,0.0240471872490716,0.019009095955491277,0.01693282641415841,0.01580044882756395,0.015002050512224646,0.014318875352472506,0.013672468374434565,0.06271540491832421,0.09154794755396439,0.10025771526127558,0.10310119204897954,0.10420991494859494,0.10473824884804082,0.10505913398635014,0.10531575754361622,0.10556612971823308,0.10583260323677526,0.10612108928899872,0.10643069366284114,0.10675690071814076,0.10709408988185538,0.10743804625776054,0.10778114447329809,0.10812331935709847,0.10845536315213768,0.10878133464199001,0.10909319141698798,0.059704692238372194,0.03050496217988462,0.02140666040861934,0.018157231896112548,0.01663029180962249,0.01567882177397677,0.014935536262615103,0.014259982298313226,0.013602111553535735,0.012937343818336736,0.012267187131167156,0.01159374517485084,0.01091771136236257,0.010255847903010791,0.009607071628122521,0.008967683765768293,0.008357047894371016,0.007771264951506635,0.007209201928361103,0.006677463093714487,0.0061763897925290355,0.04266905644031995,0.06637596018617352,0.07258721287209219,0.07464498193425807,0.07553565839366724,0.07604613288894572,0.07643179178500445,0.07678455747926206,0.07714644140614513,0.07752475887694624,0.07792197631727737,0.07833983173880574,0.07876293113486682,0.07919293023637436,0.07963376625448247,0.08006586682975389,0.08049258904214836,0.08091390335417613,0.08132188857364854,0.08171498206250169,0.045128507744816505,0.02133961932047447,0.015057118565021788,0.012938221846543509,0.011993794609893298,0.011435608189911205,0.011010108026987663,0.01062006416452904,0.010228483300630777,0.009822668620117986,0.00940022932368812,0.008963916829223656,0.00851779171405213,0.008067273809460545,0.00761580123071328,0.007168291906024471,0.006728844224778319,0.006299036232144712,0.005882052648735909,0.005482118574337856,0.005097835689190811,0.004732326683627716,0.004386316396233836,0.0040636490248004585,0.064696600964084,0.0855781145477723,0.09154844906741857,0.09378762904752959,0.09487286258447888,0.09556367997534437,0.09611551003784582,0.09662566811831921,0.09713166468134854,0.09764620828527176,0.09817357812097988,0.09871124311092633,0.09925552470983429,0.0998042227689076,0.10035287607253617,0.10089551856127597,0.10143150926193226,0.1019555582324782,0.10246463824243303,0.10295264742644797,0.04248534357490934,0.021767973981386312,0.01595825409571887,0.013875408391532224,0.012940876178090976,0.012394217789557592,0.011979864826650427,0.011599674630369412,0.011216091003211106,0.010815802081234487,0.010395843917010079,0.009957935134829194,0.009505544481504044,0.009042923004080187,0.00857427384756832,0.008104109870903238,0.007636757862675261,0.007175534909110516,0.00672419966578847,0.00628596410492331,0.005862808046116712,0.005456490385592618,0.0050695253614391365,0.00470261024219965,0.004355857450307622,0.004029759163266056,0.0037238226191261443,0.0034391321679449614,0.00317315206385103,0.0029256798527830218,0.0026962093783142057,0.0024842390420162204,0.0022879914330333293,0.0021073632992570867,0.0019405641304243316,0.001786307392961598,0.0016482516302962187,0.07322848760805412,0.08699497157913451,0.09100077436230557,0.09271074612918902,0.09367472877742884,0.09438026292504459,0.09499056890930381,0.09557213432717868,0.09614923223538781,0.09673091360283406,0.09731696472117772,0.09790728298237258,0.09849835923034828,0.09908638199354225,0.09966763226040407,0.10023951787697985,0.10079794942707761,0.10134097429767001,0.10186620200191003,0.10236677811958293,0.03113859231437892,0.017711301070404164,0.014030004666862385,0.012629069786807856,0.011958211934387689,0.01152873320584239,0.011177902364815315,0.01083997618100567,0.010490916919752609,0.010122326136271714,0.009733783732018959,0.009327875766511179,0.008908050860556656,0.008478563661585593,0.008043522664184049,0.0076071041397846465,0.007173151316190416,0.00674481804758342,0.006326258220218808,0.005919631693005906,0.005527036939948544,0.005150745619911954,0.0047919898936373394,0.004451884970796711,0.004130560142264522,0.003828109186333833,0.0035443806724590266,0.0032786730176789162,0.0030304720702431943,0.002800860624938189,0.0025860014030585766,0.0023855657203791843,0.002200323129102251,0.002030041404120682,0.0018715172947988707,0.0017252771556867462,0.0015904264072915098,0.00146706451625026,0.0013524873385401517,0.001247064958142602,0.0011504959452034592,0.0010621190387082415,0.000980234401622085,0.0009037841044619572,0.000833476228986698,0.0007689738921410221,0.011252782474610307,0.038089985857718146,0.042514125132767255,0.04390793370309575,0.04455690860248986,0.044965272965996644,0.04528655096968842,0.04557743151169568,0.04586398718652969,0.046152666790816935,0.04644527393866659,0.04674037074047912,0.04703723111304207,0.0473337906207253,0.04762843246828062,0.04791950757321483,0.04820722301393241,0.04849105992873343,0.0487691692475915,0.049040396722178095,0.03876064231074812,0.01212367227077907,0.007894545735480034,0.006687986731063523,0.0062207073284008905,0.005987450725332154,0.005832847731558094,0.0056991554136020485,0.005562535383934664,0.005415012131038194,0.005254908631369979,0.0050833955892431336,0.004902370299139077,0.004713713446649502,0.004519148981449396,0.004320188432200241,0.004118274293911722,0.0039146447725703646,0.00371070736833236,0.0035077076481628638,0.003307045361487077,0.0031100892190008746,0.002917981619379803,0.002731707181213158,0.0025521330497149243,0.00237989228052536,0.002215434146852515],\"yaxis\":\"y\",\"type\":\"scattergl\"},{\"hovertemplate\":\"Color=test\\u003cbr\\u003eEpoch=%{x}\\u003cbr\\u003eRolling Avg Loss=%{y}\\u003cextra\\u003e\\u003c\\u002fextra\\u003e\",\"legendgroup\":\"1\",\"line\":{\"color\":\"#EF553B\",\"dash\":\"solid\"},\"marker\":{\"symbol\":\"circle\"},\"mode\":\"lines\",\"name\":\"test\",\"showlegend\":true,\"x\":[0,10,20,30,40,50,60,70,80,90,100,110,120,130,140,150,160,170,180,190,200,210,220,230,240,250,260,270,280,290,300,310,320,330,340,350,360,370,380,390,400,410,420,430,440,450,460,470,480,490,500,510,520,530,540,550,560,570,580,590,600,610,620,630,640,650,660,670,680,690,700,710,720,730,740,750,760,770,780,790,800,810,820,830,840,850,860,870,880,890,900,910,920,930,940,950,960,970,980,990,1000,1010,1020,1030,1040,1050,1060,1070,1080,1090,1100,1110,1120,1130,1140,1150,1160,1170,1180,1190,1200,1210,1220,1230,1240,1250,1260,1270,1280,1290,1300,1310,1320,1330,1340,1350,1360,1370,1380,1390,1400,1410,1420,1430,1440,1450,1460,1470,1480,1490,1500,1510,1520,1530,1540,1550,1560,1570,1580,1590,1600,1610,1620,1630,1640,1650,1660,1670,1680,1690,1700,1710,1720,1730,1740,1750,1760,1770,1780,1790,1800,1810,1820,1830,1840,1850,1860,1870,1880,1890,1900,1910,1920,1930,1940,1950,1960,1970,1980,1990,2000,2010,2020,2030,2040,2050,2060,2070,2080,2090,2100,2110,2120,2130,2140,2150,2160,2170,2180,2190,2200,2210,2220,2230,2240,2250,2260,2270,2280,2290,2300,2310,2320,2330,2340,2350,2360,2370,2380,2390,2400,2410,2420,2430,2440,2450,2460,2470,2480,2490,2500,2510,2520,2530,2540,2550,2560,2570,2580,2590,2600,2610,2620,2630,2640,2650,2660,2670,2680,2690,2700,2710,2720,2730,2740,2750,2760,2770,2780,2790,2800,2810,2820,2830,2840,2850,2860,2870,2880,2890,2900,2910,2920,2930,2940,2950,2960,2970,2980,2990,3000,3010,3020,3030,3040,3050,3060,3070,3080,3090,3100,3110,3120,3130,3140,3150,3160,3170,3180,3190,3200,3210,3220,3230,3240,3250,3260,3270,3280,3290,3300,3310,3320,3330,3340,3350,3360,3370,3380,3390,3400,3410,3420,3430,3440,3450,3460,3470,3480,3490,3500,3510,3520,3530,3540,3550,3560,3570,3580,3590,3600,3610,3620,3630,3640,3650,3660,3670,3680,3690,3700,3710,3720,3730,3740,3750,3760,3770,3780,3790,3800,3810,3820,3830,3840,3850,3860,3870,3880,3890,3900,3910,3920,3930,3940,3950,3960,3970,3980,3990,4000,4010,4020,4030,4040,4050,4060,4070,4080,4090,4100,4110,4120,4130,4140,4150,4160,4170,4180,4190,4200,4210,4220,4230,4240,4250,4260,4270,4280,4290,4300,4310,4320,4330,4340,4350,4360,4370,4380,4390,4400,4410,4420,4430,4440,4450,4460,4470,4480,4490,4500,4510,4520,4530,4540,4550,4560,4570,4580,4590,4600,4610,4620,4630,4640,4650,4660,4670,4680,4690,4700,4710,4720,4730,4740,4750,4760,4770,4780,4790,4800,4810,4820,4830,4840,4850,4860,4870,4880,4890,4900,4910,4920,4930,4940,4950,4960,4970,4980,4990],\"xaxis\":\"x\",\"y\":[4.903952655034201,4.770245469446028,4.746137662217242,4.752257226452566,4.785297499671912,4.8220448525534065,4.853627896666595,4.87693320008714,4.88727910516081,4.882771573766987,4.866536636745884,4.844427425974025,4.82055412210184,4.7971216430864905,4.775197834097492,4.755614937246382,4.738634861778732,4.724152416204446,4.712160403875091,4.7022512270141785,4.693201015186632,4.683424491260136,4.676513343033342,4.6681848573057865,4.654480243275825,4.637179939031608,4.618325175900558,4.599608280386121,4.583980425220416,4.574200026922175,4.570857752525169,4.572440004302707,4.57737780872188,4.584320671105264,4.592511751795913,4.6011055094265405,4.609411996274197,4.6171831038777205,4.624013914552583,4.629826387253862,4.634522190965271,4.638116396640525,4.640602582075285,4.642072348336078,4.642828800715716,4.6427394200179775,4.642021820808069,4.643392665177575,4.6556379820119345,4.658403016631274,4.657475994478973,4.6553379419533165,4.652644573840686,4.649485869894748,4.646055797302939,4.642385401068636,4.638740841139345,4.635208983533378,4.63197156548675,4.629259024288682,4.627136460558181,4.625615599843001,4.624743347182188,4.624607997036377,4.625055529109982,4.626322087587591,4.62830566373257,4.628441554755443,4.61810734666154,4.617684067886724,4.621410198188208,4.626795500072462,4.63309524338072,4.640351357427758,4.648272048559364,4.6567514561581,4.665677645819952,4.674776730974177,4.683986309583039,4.692975648841221,4.701702752766891,4.710077300634048,4.736960050775101,4.742308527750026,4.7426808780991605,4.738249783564211,4.728252568585697,4.715012966681731,4.699014547878041,4.680353036694674,4.659128314021681,4.635565635182496,4.609931329645408,4.58243074363416,4.553196254306511,4.5224386697909065,4.490268990874735,4.456949921737968,4.422488254967643,4.387182240515706,4.351106915289008,4.314336758934134,4.258005070385965,4.222179222178365,4.190316144543731,4.162260224670249,4.13879204951368,4.117661528942878,4.098471753227641,4.081140981585326,4.065681259427684,4.051788658318126,4.039347192097995,4.0284065382506595,4.042412229040919,4.034497551337076,4.022549161479641,4.0090463137154995,3.9942640196757306,3.978192511207058,3.961397839364543,3.9438371946523545,3.9255242868632494,3.9065010681739665,3.8867970895088986,3.866468020496407,3.845565895457387,3.8241452283960853,3.8022377113826837,3.7799428747167383,3.757252074258259,3.7343524078055124,3.7112183362970224,3.687696301148922,3.640280676883832,3.615750526640284,3.5961919661201756,3.5789608498109873,3.570545510454752,3.5929123159656626,3.587328895031147,3.578242282217189,3.5676932066574745,3.5561056349083704,3.543958724146719,3.5315274926780686,3.518783332652951,3.5056171077483635,3.4920499321368386,3.4780880606550175,3.4637942756050286,3.4491698400356667,3.434214225931294,3.418957316305958,3.4034680499023047,3.3877428994076633,3.3717660485077636,3.355652626928767,3.3326104318607532,3.280630375726835,3.2577769020360465,3.2396628402431342,3.224279287080847,3.2448746896284644,3.2423743695998275,3.237544152288626,3.231246933752158,3.224739969366354,3.217875466975513,3.211058162068101,3.204000661077803,3.196532727138954,3.188776069849546,3.1806819049796995,3.1722353956385616,3.1635020048615576,3.1544787684611424,3.14518418159032,3.135648822274356,3.125900992276819,3.1159716823843637,3.1058644095464234,3.0955853003987,3.051466778915818,3.0320049947445993,3.0162770164572508,3.003395396471273,2.9921243031053057,2.9883650500402585,3.0200232591755496,3.0255869154601966,3.0256860432368864,3.024674917213159,3.023088699160603,3.021213156134497,3.018993710186422,3.016294433658424,3.013137942117386,3.0094340617871818,3.0052566887488057,3.000608283474674,2.9954576389461884,2.9898623535884234,2.9838064753256397,2.9774105440806067,2.970565692264099,2.9633403577332085,2.9558166714216116,2.9422208845998457,2.894188792050506,2.873453427175491,2.859512039818659,2.8479038057781505,2.8380692643260157,2.829732203047501,2.822837767186178,2.844302455294567,2.8688417454878565,2.876953741793936,2.8815593578370584,2.8846025717406407,2.8868821338668944,2.888329889095604,2.8890279176704916,2.8890796195709028,2.8883839424827884,2.886878953527206,2.8845646393022757,2.8814263189518448,2.877538018053861,2.872964714565561,2.86775745392832,2.8618948696474997,2.8554252780284424,2.8483617671449615,2.8407699759414617,2.8058524474292756,2.768824875339612,2.7492560925263643,2.7341209772176613,2.7214610459769797,2.7104626691781597,2.701145086477227,2.6932988464330236,2.6868625943996944,2.729027382499001,2.7442750279852537,2.7498624178896125,2.7512566485154197,2.7503217166428517,2.748284496760426,2.7454521545043633,2.741879993368942,2.737575020327884,2.732462407265042,2.726537633829825,2.7198214517459185,2.7123462821398436,2.704120341922127,2.6951607591966624,2.6855061800032765,2.6751682675490787,2.6641232112619146,2.6524714378531935,2.6401134985969965,2.5799340199464256,2.547463001829885,2.5254042870029094,2.508251416567296,2.494052978739254,2.4814800680468023,2.4701840463903615,2.46000770859759,2.4510169555398758,2.443072067744927,2.4361970966198006,2.4303016175970713,2.425254965586314,2.4212108687999105,2.4178634748177545,2.4151067288451555,2.41308742971416,2.41161260835955,2.410538261471005,2.4099124517689576,2.409691451822041,2.4519263712923363,2.471741488662528,2.474676774955144,2.471747710566483,2.4656028253134252,2.4575963276405868,2.4483397929333366,2.437907782494441,2.4265033842377064,2.4141575749072435,2.4008394650982057,2.38665316732497,2.371427395188562,2.3554439268622733,2.3387241513302994,2.321132437538341,2.302826497297274,2.283892343175862,2.2642692972587857,2.243975413701579,2.1809444510730636,2.140014214728895,2.1156300323726613,2.0967920890880003,2.080825992800125,2.0663334487768656,2.0527625035980765,2.0399118446192883,2.027680743949229,2.01597935341751,2.0048449947411826,1.9942425841295266,1.984152341881408,1.9745087878838985,1.9653548503674398,1.9566198800466907,1.9482977307330598,1.9403584212004898,1.9327708074675913,1.9255576470117461,1.9186164196837459,1.9120266878679066,1.9057456617990198,1.9002032486037115,1.9649604067706457,1.9727846202073196,1.9657924634395585,1.9523985582929533,1.9362555401093007,1.9187237372697081,1.9003553337136065,1.8815606651722072,1.862561894300499,1.8434218175052968,1.8240775056137306,1.8045111231673394,1.7846767673810744,1.7645813509984825,1.7441762342461453,1.7233787219417382,1.7022543680110005,1.6807044354639116,1.6587347325535802,1.635845941722416,1.5424726843243326,1.505819894262826,1.4837726932619182,1.4679060490661415,1.4545480460773705,1.4423301322678443,1.4307391668415432,1.419324538113308,1.407829414306903,1.3962257983634294,1.3845333995130775,1.3728082319755786,1.3610667326103874,1.3493596572920532,1.337732172189884,1.3262624024037377,1.3149515328652377,1.3038664286478268,1.2930431634627404,1.2824932351696623,1.2722022474354664,1.2622315398284323,1.252596984525941,1.243276787325189,1.2343343720243434,1.2256959605998017,1.2173686549668208,1.209474191735628,1.2018057437477356,1.194548853231139,1.1876859865667304,1.181225923261276,1.1750533936805334,1.1692666125546218,1.1638288213977896,1.158668175678957,1.1576288243631818,1.24915476616568,1.2625136938431576,1.2586278337392014,1.247410342854212,1.2327499723909712,1.216485454701193,1.1996733075849626,1.182715730349733,1.1658993455657374,1.1492114227999801,1.132582227452863,1.1162282663578156,1.0999285636722154,1.083679962447691,1.0674052140049928,1.0511867688870487,1.0348932755996227,1.0185290970589724,1.0020936418157997,0.9817415511267161,0.8689409156423623,0.8343660111798004,0.8170756023448466,0.807130537090501,0.80058024511092,0.7955557544672189,0.7910165111681073,0.7865091659065897,0.7817788129004252,0.7767696959516619,0.7714675039844364,0.7658494232028032,0.7599479887795043,0.7538049328799921,0.7474582392985221,0.740954483103888,0.7343006903716295,0.7275087559535816,0.720668630553711,0.7138042692138267,0.7069211681653995,0.7001307406558164,0.6934237541578185,0.6868983034675601,0.6805510549118382,0.6744122930008465,0.6685366374069927,0.6629052661499162,0.6575939761425461,0.6527513263413067,0.6479964562159638,0.6436542042127046,0.6397923041294304,0.6361385626247668,0.6328470316143736,0.6299889012627236,0.6274383829406776,0.6254489553469625,0.6236310795783954,0.6222955728678816,0.6212183500707431,0.6206450659996899,0.6200989438332788,0.6198837552119066,0.6200842200292217,0.6206932690291039,0.6571413962192021,0.6994720630496495,0.7112362154194232,0.7134027935637468,0.7109785938097006,0.7059179545907658,0.6993315485309757,0.6923495392072924,0.6850070545453167,0.6774163952081448,0.6697014487176801,0.6616227392343522,0.6535038766808787,0.6450346411687718,0.6364495230058165,0.6274206277525294,0.6184634039600981,0.6092193330417472,0.5996093419811771,0.589580153326304,0.5436362589479738,0.49173873983453265,0.4702666228908507,0.4580795016035203,0.4505216217451747,0.4453011628071816,0.44122444269750993,0.43738602233593504,0.4335764324639995,0.4296015065899674,0.425466027346245,0.42116811142300753,0.4167087744749164,0.4120812843556538,0.40731239372488454,0.4024274628000355,0.39742933498047206,0.3923267699559914,0.38716349072407463,0.38196128895672316,0.3767427137793624,0.37154838096047804,0.3663780367009315,0.3612703794106559,0.3562652160717358,0.3513738258167695,0.3466252778986794],\"yaxis\":\"y\",\"type\":\"scattergl\"},{\"hovertemplate\":\"Color=add loss\\u003cbr\\u003eEpoch=%{x}\\u003cbr\\u003eRolling Avg Loss=%{y}\\u003cextra\\u003e\\u003c\\u002fextra\\u003e\",\"legendgroup\":\"2\",\"line\":{\"color\":\"#00cc96\",\"dash\":\"solid\"},\"marker\":{\"symbol\":\"circle\"},\"mode\":\"lines\",\"name\":\"add loss\",\"showlegend\":true,\"x\":[0,10,20,30,40,50,60,70,80,90,100,110,120,130,140,150,160,170,180,190,200,210,220,230,240,250,260,270,280,290,300,310,320,330,340,350,360,370,380,390,400,410,420,430,440,450,460,470,480,490,500,510,520,530,540,550,560,570,580,590,600,610,620,630,640,650,660,670,680,690,700,710,720,730,740,750,760,770,780,790,800,810,820,830,840,850,860,870,880,890,900,910,920,930,940,950,960,970,980,990,1000,1010,1020,1030,1040,1050,1060,1070,1080,1090,1100,1110,1120,1130,1140,1150,1160,1170,1180,1190,1200,1210,1220,1230,1240,1250,1260,1270,1280,1290,1300,1310,1320,1330,1340,1350,1360,1370,1380,1390,1400,1410,1420,1430,1440,1450,1460,1470,1480,1490,1500,1510,1520,1530,1540,1550,1560,1570,1580,1590,1600,1610,1620,1630,1640,1650,1660,1670,1680,1690,1700,1710,1720,1730,1740,1750,1760,1770,1780,1790,1800,1810,1820,1830,1840,1850,1860,1870,1880,1890,1900,1910,1920,1930,1940,1950,1960,1970,1980,1990,2000,2010,2020,2030,2040,2050,2060,2070,2080,2090,2100,2110,2120,2130,2140,2150,2160,2170,2180,2190,2200,2210,2220,2230,2240,2250,2260,2270,2280,2290,2300,2310,2320,2330,2340,2350,2360,2370,2380,2390,2400,2410,2420,2430,2440,2450,2460,2470,2480,2490,2500,2510,2520,2530,2540,2550,2560,2570,2580,2590,2600,2610,2620,2630,2640,2650,2660,2670,2680,2690,2700,2710,2720,2730,2740,2750,2760,2770,2780,2790,2800,2810,2820,2830,2840,2850,2860,2870,2880,2890,2900,2910,2920,2930,2940,2950,2960,2970,2980,2990,3000,3010,3020,3030,3040,3050,3060,3070,3080,3090,3100,3110,3120,3130,3140,3150,3160,3170,3180,3190,3200,3210,3220,3230,3240,3250,3260,3270,3280,3290,3300,3310,3320,3330,3340,3350,3360,3370,3380,3390,3400,3410,3420,3430,3440,3450,3460,3470,3480,3490,3500,3510,3520,3530,3540,3550,3560,3570,3580,3590,3600,3610,3620,3630,3640,3650,3660,3670,3680,3690,3700,3710,3720,3730,3740,3750,3760,3770,3780,3790,3800,3810,3820,3830,3840,3850,3860,3870,3880,3890,3900,3910,3920,3930,3940,3950,3960,3970,3980,3990,4000,4010,4020,4030,4040,4050,4060,4070,4080,4090,4100,4110,4120,4130,4140,4150,4160,4170,4180,4190,4200,4210,4220,4230,4240,4250,4260,4270,4280,4290,4300,4310,4320,4330,4340,4350,4360,4370,4380,4390,4400,4410,4420,4430,4440,4450,4460,4470,4480,4490,4500,4510,4520,4530,4540,4550,4560,4570,4580,4590,4600,4610,4620,4630,4640,4650,4660,4670,4680,4690,4700,4710,4720,4730,4740,4750,4760,4770,4780,4790,4800,4810,4820,4830,4840,4850,4860,4870,4880,4890,4900,4910,4920,4930,4940,4950,4960,4970,4980,4990],\"xaxis\":\"x\",\"y\":[4.753764206627752,4.761940656299279,4.780934680261062,4.8085000055938805,4.840614640950479,4.8671371664566525,4.880093330566273,4.86458668757421,4.8149157585792475,4.740347232050583,4.654557273144801,4.565793855989777,4.478056139530855,4.393402801644462,4.312493433457191,4.2364770870918385,4.165084730792385,4.098245481771521,4.034960485840728,3.975639280695538,3.8777721223165456,3.776785666027609,3.6710497799244464,3.55963706390044,3.4424039686864725,3.3215634220194836,3.2008884589118614,3.088405273612846,2.9907741655788604,2.9087482096570123,2.838603452853346,2.776849214082768,2.721476136839784,2.6709561448323083,2.62433177378351,2.5801639655766584,2.5379492339098597,2.4971608746827805,2.457855612912094,2.419245925534631,2.381787670331925,2.345022809941482,2.3088772585498107,2.2735774239068993,2.2384235218349184,2.2036551380191596,2.1731584367094463,2.1556149301433476,2.1260869005646432,2.0941972721705597,2.0628502300134928,2.0322816022299834,2.0032394071846022,1.9755193009560679,1.9493436233473158,1.9245667199289465,1.9011588883701716,1.878961375290014,1.8581343771054661,1.838466208249584,1.819709822924882,1.8019532075268763,1.7852663401276687,1.7691235539899133,1.7540364819222163,1.7399244363216961,1.7226701661459038,1.693478357701378,1.6774490752475029,1.664660873480677,1.65204109924032,1.6395879362701682,1.6262244690122554,1.6121116338652448,1.5970866661094765,1.580993563706176,1.5640321048908374,1.5460102219922127,1.5268945816749688,1.50718822214548,1.4862524773639272,1.5078847907002086,1.5022085293684002,1.481644280308178,1.4559572028557441,1.4272197430504792,1.3974276767787117,1.3675124685109448,1.3380598597116675,1.3091044236634937,1.2810172967394036,1.253817590841863,1.2276701626351367,1.2024960178725208,1.1781861237719644,1.154901445605793,1.132376014193369,1.110727614537199,1.0899432541558465,1.069524501244595,1.0500494511187708,0.9876858297958238,0.9522798404192416,0.9313992460015917,0.9153099895037131,0.9019061456333406,0.8891538770252959,0.8761750723428173,0.8625419515473614,0.8480180982394909,0.8325787347725857,0.8158684220963839,0.7984541303613096,0.8033518446373554,0.7903261367079415,0.7713040801953321,0.7498996021878649,0.72702222216794,0.7038309684699875,0.6809007983069026,0.658462086498526,0.636676503960773,0.615619867059334,0.595253930479575,0.5755453808154773,0.5564242248961682,0.5379722755745349,0.5201573944961095,0.5027903902381261,0.48609210501237377,0.4697761302282978,0.4541559056284582,0.43865922847928945,0.4003193659933775,0.37948015946840524,0.3642856256901732,0.351217825170629,0.34046339045734453,0.3559478839032172,0.355439546540188,0.3498536208464722,0.34162559370025314,0.3315885739347707,0.32088179488405333,0.31017156080397607,0.2996113960334988,0.28935599718175914,0.27948334171288247,0.2700315908534766,0.2609966403042501,0.2523991635393382,0.24422417883040617,0.2364804930913043,0.22916431533530837,0.2222043240582991,0.21562784235853538,0.20943356964490248,0.20265809702173762,0.17031319361864483,0.15413028615053936,0.14307016694379865,0.13465878667699355,0.15464452282344632,0.1591497376204657,0.15897247557849525,0.1565315032848844,0.15298232622077063,0.14901332330538083,0.14492862019312114,0.14089676405025514,0.1369813778439965,0.13323892511560567,0.12968416737436975,0.12632556037407203,0.12316979681847821,0.12021060983063636,0.11743982674179183,0.1148497203700682,0.11243972272088551,0.11018955263385517,0.10808756505071722,0.10612012774009265,0.07768613412782033,0.06562342180011733,0.058545115647067006,0.05396739040303207,0.05061506551343672,0.048015055499907804,0.06432870993159467,0.07100260069910422,0.07335650326639506,0.07367059052833254,0.07331235362456681,0.07264128551733479,0.07190394618530979,0.0711911752757826,0.0705430404188177,0.069975898947752,0.0694906620313678,0.06908089282354998,0.06874020637012934,0.06845515923176605,0.06820891866719653,0.06800472112285749,0.06781909532009851,0.0676559596682535,0.0675246227568258,0.06719508046557783,0.048209204564139435,0.03897896256062607,0.034151196059508726,0.03141951041290563,0.029423889755352723,0.027809156358164187,0.02633831402267913,0.13082137050377193,0.14544867523586638,0.1509580077928165,0.15302927437774044,0.15382525225430335,0.15414830891790277,0.15429183605497623,0.15438586003531196,0.15447542352632576,0.15459168259944175,0.15474324042862375,0.15492662178863736,0.15513663690365534,0.15537056910142985,0.15561981142669307,0.1558765357455149,0.15613607000778654,0.15639221298557007,0.15664398116929784,0.15688958075158624,0.05123802521644696,0.035467195850728064,0.02883207840857952,0.0256532237991512,0.023775585872004075,0.022401904311616493,0.02124740939604059,0.020185585777770194,0.019174048385493622,0.05408316322041869,0.06423652456691922,0.06882149670499492,0.07073371327191352,0.07175027288794855,0.07237613600973763,0.07284859806913362,0.07328301385140984,0.07371059140916102,0.07414088774818549,0.07457722144585624,0.07501609982540783,0.07545183293375214,0.07587887571907678,0.07629275737860652,0.07668782003338931,0.07706292116099103,0.07741586877223824,0.07775028515949917,0.07806547054041578,0.04246145352463681,0.03160614864531606,0.02632006010277132,0.023711538995249214,0.022006514167799508,0.020707989109239332,0.019583127792049067,0.018519857297594294,0.017492300549867106,0.016489647090027128,0.01551002244221691,0.014555266690690048,0.013631218713251033,0.012744979290846167,0.011897675639404914,0.011088779858799958,0.01033168703439174,0.009614582223996991,0.00893724184392014,0.008301294573301159,0.00770482457599078,0.042142271291420806,0.04994275851109303,0.05336680954401859,0.05496199428539704,0.05593697789495712,0.056647965062702935,0.057254881712497575,0.05783505097781094,0.05841411563982648,0.05899682331466648,0.05957768043423063,0.06015464091695424,0.060718076960513435,0.061266738219885285,0.06180187538837467,0.062309791838489746,0.06280042570212382,0.06326839172687787,0.06371194825847533,0.06413259818110004,0.029536486224551895,0.021590405832515654,0.018033446813441496,0.016317404989430177,0.0152305839663292,0.014416194923565353,0.013715674399852162,0.013048197367334025,0.012389843324558489,0.011733861522931304,0.011085186835228581,0.010446691683911135,0.009823536069491667,0.009219962194779302,0.008638336850844431,0.008080258661269265,0.0075477898165835665,0.0070419484860174105,0.0065624211752990935,0.00610964494220638,0.005681773657463959,0.0052802762907631405,0.0049035022254463835,0.004554849069365731,0.023447374779674172,0.028962252923842795,0.031749288100880055,0.03306702438585874,0.033863820507531464,0.03447328385045441,0.03501314957806631,0.03553406853535092,0.03605520420854468,0.036582203611366944,0.03711570601424697,0.03765148739677794,0.03818629848131773,0.03871764515584448,0.039242630143884794,0.03975796786315848,0.04026120851804209,0.04074850391521113,0.041218735150217414,0.04166628558798445,0.02287581243994014,0.017464465800727167,0.014781257742364787,0.01356624162089164,0.012869883072596447,0.012358025511279855,0.011913057733097277,0.011483547003366453,0.011049844193070443,0.01060617846348765,0.010151402388241571,0.009690030938849408,0.009224465400515799,0.008758458148980543,0.00829516569463336,0.007836890533234981,0.007387750711079111,0.006950316785561081,0.006526516976860801,0.006118304140261856,0.005726836182292715,0.0053525512862360024,0.004996631898589338,0.0046594101299370526,0.004340553856139098,0.004039913211803458,0.003756381232580997,0.003490924138390139,0.0032414158032178543,0.003007613789338615,0.0027892878451917505,0.0025858785584389854,0.0023966140777371176,0.002220890390214882,0.0020574858553420406,0.001905542855807668,0.0017694812010634095,0.017476359245979862,0.022654722494906403,0.024968008157612204,0.026394331047388232,0.027400181078908674,0.028228049695591933,0.02899757552997621,0.029749451328809108,0.03049841754854038,0.031249283174244892,0.03199995420537034,0.03274786576950808,0.03348813886548307,0.03421682731118393,0.034929253125701526,0.035621705287019884,0.03629008706109364,0.03693140438111273,0.03754369547936739,0.03811887862181927,0.022828597858885444,0.01804322341715679,0.016097837415449713,0.015014631042221945,0.014328168493583104,0.013796249420455403,0.013301171963258395,0.012803708484851881,0.012290402438511544,0.011757999490668799,0.011208338708280922,0.01064709413336402,0.010079137523887161,0.009509287795819235,0.008943369517987614,0.008385754457724192,0.007841608047345709,0.007314668765102695,0.006808017006276186,0.006325717144769842,0.00586854618236849,0.005437489710120631,0.005034017883212736,0.004657721223914382,0.004307879460424037,0.003983389400651161,0.003682382811003149,0.003403496058571674,0.0031448729277447672,0.002906312844647661,0.0026854512965138284,0.0024805178325205,0.002292112288059793,0.00211848918532676,0.001957864678359432,0.0018100074561428563,0.0016735738816139438,0.0015484700420907013,0.001432761002976387,0.0013255427360641364,0.0012267330020612436,0.001138399288554581,0.001054091903245797,0.0009757974942921869,0.0009032295866442148,0.0008365097627273603,0.007277445935606407,0.011633587554246327,0.013601710512235415,0.014422070230372194,0.014890914825595283,0.01523731593099971,0.015539312822352666,0.015825208291564585,0.016109229948205593,0.016395317919846546,0.01668371445478111,0.016972397667233814,0.017260705558301764,0.01754666044608334,0.017829529262093295,0.018105625938608195,0.018379654229479143,0.018648649198564814,0.018911370880773788,0.019166586100604822,0.012911449505382403,0.008736889943046956,0.006945433799107985,0.006295103823766998,0.005990062417527678,0.005801089914701807,0.005648425701325708,0.005504412755833559,0.005355054905887527,0.005195994175130207,0.005026889656775945,0.004849499812711316,0.004665770494398332,0.004477371371081897,0.004285393235500238,0.0040911717226804365,0.0038956824472937933,0.0037000706113392693,0.0035054650470811187,0.0033129890871963453,0.0031236641958506638,0.002938613199298603,0.0027588097251174384,0.002585140907351573,0.0024182638283411413,0.0022586427962565147,0.0021065263261458313,0.0019620566490009704],\"yaxis\":\"y\",\"type\":\"scattergl\"},{\"hovertemplate\":\"Color=multi loss\\u003cbr\\u003eEpoch=%{x}\\u003cbr\\u003eRolling Avg Loss=%{y}\\u003cextra\\u003e\\u003c\\u002fextra\\u003e\",\"legendgroup\":\"3\",\"line\":{\"color\":\"#ab63fa\",\"dash\":\"solid\"},\"marker\":{\"symbol\":\"circle\"},\"mode\":\"lines\",\"name\":\"multi loss\",\"showlegend\":true,\"x\":[0,10,20,30,40,50,60,70,80,90,100,110,120,130,140,150,160,170,180,190,200,210,220,230,240,250,260,270,280,290,300,310,320,330,340,350,360,370,380,390,400,410,420,430,440,450,460,470,480,490,500,510,520,530,540,550,560,570,580,590,600,610,620,630,640,650,660,670,680,690,700,710,720,730,740,750,760,770,780,790,800,810,820,830,840,850,860,870,880,890,900,910,920,930,940,950,960,970,980,990,1000,1010,1020,1030,1040,1050,1060,1070,1080,1090,1100,1110,1120,1130,1140,1150,1160,1170,1180,1190,1200,1210,1220,1230,1240,1250,1260,1270,1280,1290,1300,1310,1320,1330,1340,1350,1360,1370,1380,1390,1400,1410,1420,1430,1440,1450,1460,1470,1480,1490,1500,1510,1520,1530,1540,1550,1560,1570,1580,1590,1600,1610,1620,1630,1640,1650,1660,1670,1680,1690,1700,1710,1720,1730,1740,1750,1760,1770,1780,1790,1800,1810,1820,1830,1840,1850,1860,1870,1880,1890,1900,1910,1920,1930,1940,1950,1960,1970,1980,1990,2000,2010,2020,2030,2040,2050,2060,2070,2080,2090,2100,2110,2120,2130,2140,2150,2160,2170,2180,2190,2200,2210,2220,2230,2240,2250,2260,2270,2280,2290,2300,2310,2320,2330,2340,2350,2360,2370,2380,2390,2400,2410,2420,2430,2440,2450,2460,2470,2480,2490,2500,2510,2520,2530,2540,2550,2560,2570,2580,2590,2600,2610,2620,2630,2640,2650,2660,2670,2680,2690,2700,2710,2720,2730,2740,2750,2760,2770,2780,2790,2800,2810,2820,2830,2840,2850,2860,2870,2880,2890,2900,2910,2920,2930,2940,2950,2960,2970,2980,2990,3000,3010,3020,3030,3040,3050,3060,3070,3080,3090,3100,3110,3120,3130,3140,3150,3160,3170,3180,3190,3200,3210,3220,3230,3240,3250,3260,3270,3280,3290,3300,3310,3320,3330,3340,3350,3360,3370,3380,3390,3400,3410,3420,3430,3440,3450,3460,3470,3480,3490,3500,3510,3520,3530,3540,3550,3560,3570,3580,3590,3600,3610,3620,3630,3640,3650,3660,3670,3680,3690,3700,3710,3720,3730,3740,3750,3760,3770,3780,3790,3800,3810,3820,3830,3840,3850,3860,3870,3880,3890,3900,3910,3920,3930,3940,3950,3960,3970,3980,3990,4000,4010,4020,4030,4040,4050,4060,4070,4080,4090,4100,4110,4120,4130,4140,4150,4160,4170,4180,4190,4200,4210,4220,4230,4240,4250,4260,4270,4280,4290,4300,4310,4320,4330,4340,4350,4360,4370,4380,4390,4400,4410,4420,4430,4440,4450,4460,4470,4480,4490,4500,4510,4520,4530,4540,4550,4560,4570,4580,4590,4600,4610,4620,4630,4640,4650,4660,4670,4680,4690,4700,4710,4720,4730,4740,4750,4760,4770,4780,4790,4800,4810,4820,4830,4840,4850,4860,4870,4880,4890,4900,4910,4920,4930,4940,4950,4960,4970,4980,4990],\"xaxis\":\"x\",\"y\":[4.7077671398049015,4.685496708736727,4.721792756708392,4.782083444036164,4.829098187313461,4.865769128213626,4.8938700972150455,4.919365055312431,4.948492753575749,4.982521934925283,5.019594540751961,5.058173227346736,5.098351001185246,5.139974773888069,5.182157483896788,5.225457943825207,5.269217334490579,5.313612267488946,5.358124066798088,5.4029579809814745,5.484690261461056,5.573028708645239,5.658465469782719,5.738991855629898,5.820205108350002,5.902612515929029,5.986767560250092,6.071616605967995,6.154426807034722,6.23375608512824,6.310020456604252,6.383710603320209,6.453980415087001,6.521091855100773,6.5850295048256315,6.645642373203996,6.7027739936947315,6.756801005358236,6.807050794725157,6.853574675320547,6.8971780116320955,6.938017552210205,6.976303673076096,7.0125996930665355,7.046794178325678,7.079954231877228,7.119013735708111,7.151814167027108,7.182368348892581,7.21083012834943,7.237150036796142,7.261701559154702,7.284241216833186,7.304705670646828,7.323609012254487,7.340868649090365,7.357404281271725,7.372904446698234,7.388771718586177,7.404969660131269,7.421297300242389,7.437717384643305,7.4548700704005935,7.47240731788271,7.490591774421924,7.509046632566287,7.521173292615771,7.539005532984751,7.5590151572960576,7.581262864558909,7.605396597067776,7.631423389596729,7.659721447817615,7.690049792294742,7.722563872102583,7.756470226440565,7.792040258296413,7.828190156604447,7.864942117846738,7.902473400398452,7.939397275410504,7.993806690447265,7.999027172473413,8.016777083967591,8.029173080056987,8.035063603952409,8.036532389406043,8.032534137676533,8.02289594138443,8.007547323679722,7.987132325791073,7.961541452709932,7.93153028525347,7.897237193158537,7.85882964618236,7.8171685104814,7.771925144460418,7.724197885105079,7.673983205550421,7.6211479244190246,7.5671013533760085,7.493819458774963,7.468019738841521,7.427964380603578,7.391639296364323,7.360481128144857,7.332203819631673,7.308013568498273,7.288724672944392,7.272926280480104,7.262499340791367,7.255315262073031,7.253747726226605,7.246145475598776,7.238579813535535,7.232114584582736,7.226251932611127,7.218392303632676,7.208827609187773,7.197660584805702,7.184453360498905,7.169057874546185,7.15156996506055,7.132125634983403,7.1108327314663455,7.0875671559202456,7.062805966729167,7.03672791752926,7.008724496645139,6.980457416400685,6.949929161139666,6.919138378830676,6.885459718510434,6.860260968938415,6.837727981099981,6.81577723268001,6.795400727536231,6.784396550317321,6.769769847172586,6.755037285605003,6.74084837116942,6.727408334909209,6.713510589530264,6.69968026378092,6.6854755321523225,6.670237996191666,6.65390268348645,6.636342618757892,6.617625392261313,6.597888411036434,6.577004189143277,6.5550056439128666,6.532030547175036,6.508333965884449,6.483419966628228,6.458079594687957,6.431775755769472,6.398972265724321,6.372072657716413,6.34764426213685,6.324707849687309,6.304313716499864,6.294147237756356,6.285624854177419,6.274305141653409,6.263876500965625,6.254034844466579,6.24424515546072,6.234652266526263,6.224274737050742,6.213021925710406,6.201064364466459,6.188197469029105,6.1744423520610425,6.1599233737884,6.144689640688581,6.12863612136622,6.112063776470295,6.094960114426864,6.077101862165326,6.059083854045126,6.03967464983249,6.01249002758312,5.985604781227588,5.964075738744133,5.944641136585333,5.926478903370014,5.919747553388669,5.92421878179492,5.922529804587364,5.918159872289354,5.915467385645498,5.9123336469780385,5.9091269658411445,5.904992146002439,5.900014329154822,5.89395671550278,5.886721971458437,5.87853442972522,5.869227076074287,5.858961690452508,5.847953473776566,5.836035453406728,5.823187453176212,5.80919588099965,5.794221794620217,5.7793139126284085,5.755093320073924,5.721204520201855,5.696036752266359,5.676262860502543,5.6566802201235244,5.640352333887258,5.626197414507355,5.615337978455282,5.6944027462227,5.7038538567632155,5.709996637618408,5.715261637973006,5.7196966328787155,5.723594370615574,5.725733933126543,5.726624012835806,5.726156641223334,5.724096831451458,5.720344179040282,5.715036030548545,5.707947490767961,5.699514832364572,5.689668663924694,5.678367467490618,5.666212963792999,5.652441151018803,5.637652572250541,5.621619409651419,5.517482083771073,5.484900165273303,5.457599274179778,5.432920575394442,5.411176153470416,5.391750174238623,5.3756929818583945,5.361989087847381,5.351736758097746,5.389753048522539,5.401773877913718,5.404447566155398,5.403131549031441,5.399385194332919,5.394138995238643,5.387402877423074,5.379331424964728,5.369684899800705,5.358517241169716,5.345637532336669,5.331213292945871,5.315352141642218,5.297980708753525,5.2792383877008895,5.258866847478013,5.237026047069846,5.21383853076305,5.1897352167443715,5.163734631867518,5.090919166536641,5.045627383965439,5.0113424724459374,4.982213678704622,4.956753220994708,4.933884099964159,4.913589053842356,4.895043249197395,4.878892640987122,4.864751499238975,4.8528500270300245,4.8425133566443845,4.834047944947403,4.827126615278482,4.8217453646397335,4.817200092792655,4.8147742938875355,4.813207336296395,4.812065938388086,4.811555201623131,4.812170506168784,4.875549158164332,4.888682353999516,4.885266918329885,4.875607026048206,4.860432361174757,4.842452563487084,4.8225718765883645,4.800430165385143,4.776376056314074,4.75027333082616,4.722541210695804,4.6928654972458705,4.661546452099584,4.6284891150392,4.5942335863045916,4.557632500651892,4.519751703523719,4.4809300439647455,4.440852479815522,4.399217898541453,4.294305191649487,4.238750462016629,4.1992819044934,4.165299529922777,4.136018109572199,4.108619753581111,4.082652807761344,4.058004922849959,4.034743343829195,4.0123437959919785,3.99109143366276,3.9710466891359824,3.9517868497758144,3.933561739803533,3.916067466669449,3.89931735706764,3.883538137839634,3.868495718861916,3.85396058985319,3.8401480504891126,3.826931639650218,3.8143916530253406,3.8022310407487923,3.7921874821567036,3.847327758976801,3.8447046779000544,3.821864533282379,3.7910167199451257,3.7567274776427717,3.7202674256331307,3.6826003568136434,3.6441625201768266,3.6055895904842976,3.566499306887742,3.5272246731471655,3.487501560673573,3.4470682539457185,3.406063992059768,3.364580947280256,3.322279315320582,3.279221556887637,3.235319994780114,3.1907666449752776,3.1437338993106345,3.0311244100255506,2.97579872303659,2.940347959141979,2.9124366384317435,2.88732054840687,2.864079400406964,2.841546903493346,2.8191030740357106,2.79654427420578,2.773758484416366,2.750726165872855,2.7277120608133947,2.704824273791225,2.681842713491881,2.6591066742067593,2.6366370815970184,2.6146529457236536,2.5930681754130025,2.5719173412846343,2.5516296228943736,2.531663329594956,2.512246457741866,2.493694862090984,2.4755325548735088,2.458143969855894,2.4416326005574853,2.4254380300916587,2.4102447504985323,2.39543809825372,2.381742486137431,2.3685899276794937,2.355946284753764,2.343785981321704,2.332377365097342,2.3219407518836213,2.31217791629592,2.3100753590453995,2.375307648156512,2.3796171345129222,2.3628072166740592,2.3354230683636326,2.3038203302050024,2.2696883525932776,2.2352137565206847,2.2006171641041714,2.1660826871233336,2.1321526147624548,2.098191162083527,2.06469915295797,2.031071115651472,1.9978412504171839,1.9647637945360006,1.9317396042749473,1.8987831887426505,1.8653238584620926,1.8316721986592177,1.790624056968405,1.6824984669161878,1.6355162819263622,1.6094137223826395,1.5940836899217647,1.5829754485659855,1.5740575911738428,1.565618985772764,1.556995503958382,1.547859349274887,1.538173221908265,1.5278956443123328,1.5170446135602171,1.5055989975403974,1.4936783485408036,1.4815365547341748,1.468916716572719,1.4561215888133905,1.4430414181192048,1.4297516796733816,1.416630949393183,1.403441673800693,1.390250201135559,1.3775039821433388,1.3649239074871446,1.3526376552116628,1.3408583677397616,1.3294615906728096,1.3188150468339526,1.308574142284806,1.2993826469239416,1.2904825417792833,1.2822572800755137,1.2752376841531514,1.2683164826410314,1.262146540805901,1.2569397141648124,1.2522070329824289,1.2487671608418398,1.245542595983743,1.2433656618033788,1.241433317797858,1.2410168133749158,1.2399000371241793,1.2397026159941569,1.240461240204143,1.2421805760985478,1.4462775540694,1.490978696358355,1.5039064600093075,1.5029477111165146,1.4950980015947966,1.4832931976951016,1.4690401537994926,1.4545804544953187,1.4393499438882351,1.4237145880586928,1.4078337391538653,1.3910319343399036,1.3744137467822397,1.3567387882220177,1.3391494049230612,1.3203289999999632,1.3021274021232723,1.2832914248479368,1.2636100194896693,1.2428236134662636,1.0196061773355165,0.9553777818922897,0.9228445833782711,0.9034262476804782,0.8908513286662384,0.8817240352816178,0.8740687295975468,0.8665985358786429,0.8590576284422988,0.8511289634420972,0.8429170703201561,0.834409444232962,0.8255717282495016,0.8164072321635485,0.8069384123846006,0.7972436625004856,0.78741609848716,0.7773728166566656,0.767144797498994,0.7569075408917257,0.7467813648292166,0.7365238324089274,0.7263831210020516,0.7164776337912263,0.7066030849133013,0.6972178326720695,0.6878814257723767,0.6789526609014532],\"yaxis\":\"y\",\"type\":\"scattergl\"}],                        {\"template\":{\"data\":{\"histogram2dcontour\":[{\"type\":\"histogram2dcontour\",\"colorbar\":{\"outlinewidth\":0,\"ticks\":\"\"},\"colorscale\":[[0.0,\"#0d0887\"],[0.1111111111111111,\"#46039f\"],[0.2222222222222222,\"#7201a8\"],[0.3333333333333333,\"#9c179e\"],[0.4444444444444444,\"#bd3786\"],[0.5555555555555556,\"#d8576b\"],[0.6666666666666666,\"#ed7953\"],[0.7777777777777778,\"#fb9f3a\"],[0.8888888888888888,\"#fdca26\"],[1.0,\"#f0f921\"]]}],\"choropleth\":[{\"type\":\"choropleth\",\"colorbar\":{\"outlinewidth\":0,\"ticks\":\"\"}}],\"histogram2d\":[{\"type\":\"histogram2d\",\"colorbar\":{\"outlinewidth\":0,\"ticks\":\"\"},\"colorscale\":[[0.0,\"#0d0887\"],[0.1111111111111111,\"#46039f\"],[0.2222222222222222,\"#7201a8\"],[0.3333333333333333,\"#9c179e\"],[0.4444444444444444,\"#bd3786\"],[0.5555555555555556,\"#d8576b\"],[0.6666666666666666,\"#ed7953\"],[0.7777777777777778,\"#fb9f3a\"],[0.8888888888888888,\"#fdca26\"],[1.0,\"#f0f921\"]]}],\"heatmap\":[{\"type\":\"heatmap\",\"colorbar\":{\"outlinewidth\":0,\"ticks\":\"\"},\"colorscale\":[[0.0,\"#0d0887\"],[0.1111111111111111,\"#46039f\"],[0.2222222222222222,\"#7201a8\"],[0.3333333333333333,\"#9c179e\"],[0.4444444444444444,\"#bd3786\"],[0.5555555555555556,\"#d8576b\"],[0.6666666666666666,\"#ed7953\"],[0.7777777777777778,\"#fb9f3a\"],[0.8888888888888888,\"#fdca26\"],[1.0,\"#f0f921\"]]}],\"heatmapgl\":[{\"type\":\"heatmapgl\",\"colorbar\":{\"outlinewidth\":0,\"ticks\":\"\"},\"colorscale\":[[0.0,\"#0d0887\"],[0.1111111111111111,\"#46039f\"],[0.2222222222222222,\"#7201a8\"],[0.3333333333333333,\"#9c179e\"],[0.4444444444444444,\"#bd3786\"],[0.5555555555555556,\"#d8576b\"],[0.6666666666666666,\"#ed7953\"],[0.7777777777777778,\"#fb9f3a\"],[0.8888888888888888,\"#fdca26\"],[1.0,\"#f0f921\"]]}],\"contourcarpet\":[{\"type\":\"contourcarpet\",\"colorbar\":{\"outlinewidth\":0,\"ticks\":\"\"}}],\"contour\":[{\"type\":\"contour\",\"colorbar\":{\"outlinewidth\":0,\"ticks\":\"\"},\"colorscale\":[[0.0,\"#0d0887\"],[0.1111111111111111,\"#46039f\"],[0.2222222222222222,\"#7201a8\"],[0.3333333333333333,\"#9c179e\"],[0.4444444444444444,\"#bd3786\"],[0.5555555555555556,\"#d8576b\"],[0.6666666666666666,\"#ed7953\"],[0.7777777777777778,\"#fb9f3a\"],[0.8888888888888888,\"#fdca26\"],[1.0,\"#f0f921\"]]}],\"surface\":[{\"type\":\"surface\",\"colorbar\":{\"outlinewidth\":0,\"ticks\":\"\"},\"colorscale\":[[0.0,\"#0d0887\"],[0.1111111111111111,\"#46039f\"],[0.2222222222222222,\"#7201a8\"],[0.3333333333333333,\"#9c179e\"],[0.4444444444444444,\"#bd3786\"],[0.5555555555555556,\"#d8576b\"],[0.6666666666666666,\"#ed7953\"],[0.7777777777777778,\"#fb9f3a\"],[0.8888888888888888,\"#fdca26\"],[1.0,\"#f0f921\"]]}],\"mesh3d\":[{\"type\":\"mesh3d\",\"colorbar\":{\"outlinewidth\":0,\"ticks\":\"\"}}],\"scatter\":[{\"fillpattern\":{\"fillmode\":\"overlay\",\"size\":10,\"solidity\":0.2},\"type\":\"scatter\"}],\"parcoords\":[{\"type\":\"parcoords\",\"line\":{\"colorbar\":{\"outlinewidth\":0,\"ticks\":\"\"}}}],\"scatterpolargl\":[{\"type\":\"scatterpolargl\",\"marker\":{\"colorbar\":{\"outlinewidth\":0,\"ticks\":\"\"}}}],\"bar\":[{\"error_x\":{\"color\":\"#2a3f5f\"},\"error_y\":{\"color\":\"#2a3f5f\"},\"marker\":{\"line\":{\"color\":\"#E5ECF6\",\"width\":0.5},\"pattern\":{\"fillmode\":\"overlay\",\"size\":10,\"solidity\":0.2}},\"type\":\"bar\"}],\"scattergeo\":[{\"type\":\"scattergeo\",\"marker\":{\"colorbar\":{\"outlinewidth\":0,\"ticks\":\"\"}}}],\"scatterpolar\":[{\"type\":\"scatterpolar\",\"marker\":{\"colorbar\":{\"outlinewidth\":0,\"ticks\":\"\"}}}],\"histogram\":[{\"marker\":{\"pattern\":{\"fillmode\":\"overlay\",\"size\":10,\"solidity\":0.2}},\"type\":\"histogram\"}],\"scattergl\":[{\"type\":\"scattergl\",\"marker\":{\"colorbar\":{\"outlinewidth\":0,\"ticks\":\"\"}}}],\"scatter3d\":[{\"type\":\"scatter3d\",\"line\":{\"colorbar\":{\"outlinewidth\":0,\"ticks\":\"\"}},\"marker\":{\"colorbar\":{\"outlinewidth\":0,\"ticks\":\"\"}}}],\"scattermapbox\":[{\"type\":\"scattermapbox\",\"marker\":{\"colorbar\":{\"outlinewidth\":0,\"ticks\":\"\"}}}],\"scatterternary\":[{\"type\":\"scatterternary\",\"marker\":{\"colorbar\":{\"outlinewidth\":0,\"ticks\":\"\"}}}],\"scattercarpet\":[{\"type\":\"scattercarpet\",\"marker\":{\"colorbar\":{\"outlinewidth\":0,\"ticks\":\"\"}}}],\"carpet\":[{\"aaxis\":{\"endlinecolor\":\"#2a3f5f\",\"gridcolor\":\"white\",\"linecolor\":\"white\",\"minorgridcolor\":\"white\",\"startlinecolor\":\"#2a3f5f\"},\"baxis\":{\"endlinecolor\":\"#2a3f5f\",\"gridcolor\":\"white\",\"linecolor\":\"white\",\"minorgridcolor\":\"white\",\"startlinecolor\":\"#2a3f5f\"},\"type\":\"carpet\"}],\"table\":[{\"cells\":{\"fill\":{\"color\":\"#EBF0F8\"},\"line\":{\"color\":\"white\"}},\"header\":{\"fill\":{\"color\":\"#C8D4E3\"},\"line\":{\"color\":\"white\"}},\"type\":\"table\"}],\"barpolar\":[{\"marker\":{\"line\":{\"color\":\"#E5ECF6\",\"width\":0.5},\"pattern\":{\"fillmode\":\"overlay\",\"size\":10,\"solidity\":0.2}},\"type\":\"barpolar\"}],\"pie\":[{\"automargin\":true,\"type\":\"pie\"}]},\"layout\":{\"autotypenumbers\":\"strict\",\"colorway\":[\"#636efa\",\"#EF553B\",\"#00cc96\",\"#ab63fa\",\"#FFA15A\",\"#19d3f3\",\"#FF6692\",\"#B6E880\",\"#FF97FF\",\"#FECB52\"],\"font\":{\"color\":\"#2a3f5f\"},\"hovermode\":\"closest\",\"hoverlabel\":{\"align\":\"left\"},\"paper_bgcolor\":\"white\",\"plot_bgcolor\":\"#E5ECF6\",\"polar\":{\"bgcolor\":\"#E5ECF6\",\"angularaxis\":{\"gridcolor\":\"white\",\"linecolor\":\"white\",\"ticks\":\"\"},\"radialaxis\":{\"gridcolor\":\"white\",\"linecolor\":\"white\",\"ticks\":\"\"}},\"ternary\":{\"bgcolor\":\"#E5ECF6\",\"aaxis\":{\"gridcolor\":\"white\",\"linecolor\":\"white\",\"ticks\":\"\"},\"baxis\":{\"gridcolor\":\"white\",\"linecolor\":\"white\",\"ticks\":\"\"},\"caxis\":{\"gridcolor\":\"white\",\"linecolor\":\"white\",\"ticks\":\"\"}},\"coloraxis\":{\"colorbar\":{\"outlinewidth\":0,\"ticks\":\"\"}},\"colorscale\":{\"sequential\":[[0.0,\"#0d0887\"],[0.1111111111111111,\"#46039f\"],[0.2222222222222222,\"#7201a8\"],[0.3333333333333333,\"#9c179e\"],[0.4444444444444444,\"#bd3786\"],[0.5555555555555556,\"#d8576b\"],[0.6666666666666666,\"#ed7953\"],[0.7777777777777778,\"#fb9f3a\"],[0.8888888888888888,\"#fdca26\"],[1.0,\"#f0f921\"]],\"sequentialminus\":[[0.0,\"#0d0887\"],[0.1111111111111111,\"#46039f\"],[0.2222222222222222,\"#7201a8\"],[0.3333333333333333,\"#9c179e\"],[0.4444444444444444,\"#bd3786\"],[0.5555555555555556,\"#d8576b\"],[0.6666666666666666,\"#ed7953\"],[0.7777777777777778,\"#fb9f3a\"],[0.8888888888888888,\"#fdca26\"],[1.0,\"#f0f921\"]],\"diverging\":[[0,\"#8e0152\"],[0.1,\"#c51b7d\"],[0.2,\"#de77ae\"],[0.3,\"#f1b6da\"],[0.4,\"#fde0ef\"],[0.5,\"#f7f7f7\"],[0.6,\"#e6f5d0\"],[0.7,\"#b8e186\"],[0.8,\"#7fbc41\"],[0.9,\"#4d9221\"],[1,\"#276419\"]]},\"xaxis\":{\"gridcolor\":\"white\",\"linecolor\":\"white\",\"ticks\":\"\",\"title\":{\"standoff\":15,\"font\":{\"size\":20}},\"zerolinecolor\":\"white\",\"automargin\":true,\"zerolinewidth\":2},\"yaxis\":{\"gridcolor\":\"white\",\"linecolor\":\"white\",\"ticks\":\"\",\"title\":{\"standoff\":15,\"font\":{\"size\":20}},\"zerolinecolor\":\"white\",\"automargin\":true,\"zerolinewidth\":2},\"scene\":{\"xaxis\":{\"backgroundcolor\":\"#E5ECF6\",\"gridcolor\":\"white\",\"linecolor\":\"white\",\"showbackground\":true,\"ticks\":\"\",\"zerolinecolor\":\"white\",\"gridwidth\":2},\"yaxis\":{\"backgroundcolor\":\"#E5ECF6\",\"gridcolor\":\"white\",\"linecolor\":\"white\",\"showbackground\":true,\"ticks\":\"\",\"zerolinecolor\":\"white\",\"gridwidth\":2},\"zaxis\":{\"backgroundcolor\":\"#E5ECF6\",\"gridcolor\":\"white\",\"linecolor\":\"white\",\"showbackground\":true,\"ticks\":\"\",\"zerolinecolor\":\"white\",\"gridwidth\":2}},\"shapedefaults\":{\"line\":{\"color\":\"#2a3f5f\"}},\"annotationdefaults\":{\"arrowcolor\":\"#2a3f5f\",\"arrowhead\":0,\"arrowwidth\":1},\"geo\":{\"bgcolor\":\"white\",\"landcolor\":\"#E5ECF6\",\"subunitcolor\":\"white\",\"showland\":true,\"showlakes\":true,\"lakecolor\":\"white\"},\"title\":{\"x\":0.05,\"font\":{\"size\":30}},\"mapbox\":{\"style\":\"light\"}}},\"xaxis\":{\"anchor\":\"y\",\"domain\":[0.0,1.0],\"title\":{\"text\":\"Epoch\"}},\"yaxis\":{\"anchor\":\"x\",\"domain\":[0.0,1.0],\"title\":{\"text\":\"Rolling Avg Loss\"}},\"legend\":{\"title\":{\"text\":\"Color\"},\"tracegroupgap\":0},\"title\":{\"text\":\"Training Curve for Modular Arithmetic - 70% Addition\"},\"updatemenus\":[{\"active\":-1,\"buttons\":[{\"args\":[{\"xaxis.type\":\"log\"}],\"args2\":[{\"xaxis.type\":\"linear\"}],\"label\":\"Log x-axis\",\"method\":\"relayout\"}],\"type\":\"buttons\",\"x\":-0.1,\"y\":1.0},{\"active\":-1,\"buttons\":[{\"args\":[{\"yaxis.type\":\"log\"}],\"args2\":[{\"yaxis.type\":\"linear\"}],\"label\":\"Log y-axis\",\"method\":\"relayout\"}],\"type\":\"buttons\",\"x\":-0.1,\"y\":0.85}]},                        {\"responsive\": true}                    ).then(function(){\n",
              "                            \n",
              "var gd = document.getElementById('f90ddd2f-cdd1-44a9-8697-b5acb5d3ba78');\n",
              "var x = new MutationObserver(function (mutations, observer) {{\n",
              "        var display = window.getComputedStyle(gd).display;\n",
              "        if (!display || display === 'none') {{\n",
              "            console.log([gd, 'removed!']);\n",
              "            Plotly.purge(gd);\n",
              "            observer.disconnect();\n",
              "        }}\n",
              "}});\n",
              "\n",
              "// Listen for the removal of the full notebook cells\n",
              "var notebookContainer = gd.closest('#notebook-container');\n",
              "if (notebookContainer) {{\n",
              "    x.observe(notebookContainer, {childList: true});\n",
              "}}\n",
              "\n",
              "// Listen for the clearing of the current output cell\n",
              "var outputEl = gd.closest('.output');\n",
              "if (outputEl) {{\n",
              "    x.observe(outputEl, {childList: true});\n",
              "}}\n",
              "\n",
              "                        })                };                });            </script>        </div>"
            ]
          },
          "metadata": {},
          "output_type": "display_data"
        }
      ],
      "source": [
        "from neel_plotly.plot import line\n",
        "step = 10\n",
        "average_window = 200\n",
        "train_losses_avg = rolling_average(train_losses, average_window)\n",
        "test_losses_avg = rolling_average(test_losses, average_window)\n",
        "add_test_losses_avg = rolling_average(add_test_losses, average_window//10)\n",
        "multi_test_losses_avg = rolling_average(multi_test_losses, average_window//10)\n",
        "\n",
        "line([train_losses[::step], test_losses[::step], add_test_losses, multi_test_losses], x=np.arange(0, len(train_losses_avg), step), xaxis=\"Epoch\", yaxis=\"Loss\", log_y=False, title=f\"Training Curve for Modular Arithmetic - {addition_frac*100:.0f}% Addition\", line_labels=['train loss', 'test loss', 'add loss', 'multi loss'], toggle_x=True, toggle_y=True)\n",
        "line([train_losses_avg[::step], test_losses_avg[::step], add_test_losses_avg, multi_test_losses_avg], x=np.arange(0, len(train_losses_avg), step), xaxis=\"Epoch\", yaxis=\"Rolling Avg Loss\", log_y=False, title=f\"Training Curve for Modular Arithmetic - {addition_frac*100:.0f}% Addition\", line_labels=['train', 'test', 'add loss', 'multi loss'], toggle_x=True, toggle_y=True)"
      ]
    },
    {
      "cell_type": "markdown",
      "metadata": {},
      "source": [
        "### Estiamtating Local Learning Coefficient (RLCT)"
      ]
    },
    {
      "cell_type": "code",
      "execution_count": 206,
      "metadata": {},
      "outputs": [
        {
          "data": {
            "application/vnd.jupyter.widget-view+json": {
              "model_id": "d34eb947bf0a4e8c9abfda87f5009134",
              "version_major": 2,
              "version_minor": 0
            },
            "text/plain": [
              "  0%|          | 0/50 [00:00<?, ?it/s]"
            ]
          },
          "metadata": {},
          "output_type": "display_data"
        },
        {
          "name": "stderr",
          "output_type": "stream",
          "text": [
            "/Users/james/dev/ArithmeticTransformer/.venv/lib/python3.12/site-packages/devinterp/slt/sampler.py:54: UserWarning:\n",
            "\n",
            "nbeta not set - using default nbeta.\n",
            "\n"
          ]
        },
        {
          "name": "stdout",
          "output_type": "stream",
          "text": [
            "Moving model to device:  cpu\n",
            "Moving model to device:  cpu\n"
          ]
        },
        {
          "name": "stderr",
          "output_type": "stream",
          "text": [
            "/Users/james/dev/ArithmeticTransformer/.venv/lib/python3.12/site-packages/devinterp/backends/default/slt/sampler.py:234: UserWarning:\n",
            "\n",
            "If you're setting a nbeta in optimizer_kwargs, please also make sure to set it in the callbacks.\n",
            "\n"
          ]
        },
        {
          "name": "stdout",
          "output_type": "stream",
          "text": [
            "Moving model to device:  cpu\n"
          ]
        },
        {
          "name": "stderr",
          "output_type": "stream",
          "text": [
            "Chain 0: 100%|██████████| 25/25 [00:00<00:00, 41.78it/s]\n"
          ]
        },
        {
          "name": "stdout",
          "output_type": "stream",
          "text": [
            "Moving model to device:  cpu\n"
          ]
        },
        {
          "name": "stderr",
          "output_type": "stream",
          "text": [
            "Chain 1: 100%|██████████| 25/25 [00:00<00:00, 34.44it/s]\n"
          ]
        },
        {
          "name": "stdout",
          "output_type": "stream",
          "text": [
            "Moving model to device:  cpu\n"
          ]
        },
        {
          "name": "stderr",
          "output_type": "stream",
          "text": [
            "Chain 2: 100%|██████████| 25/25 [00:00<00:00, 36.99it/s]\n"
          ]
        },
        {
          "name": "stdout",
          "output_type": "stream",
          "text": [
            "Moving model to device:  cpu\n"
          ]
        },
        {
          "name": "stderr",
          "output_type": "stream",
          "text": [
            "Chain 3: 100%|██████████| 25/25 [00:00<00:00, 41.57it/s]\n"
          ]
        },
        {
          "name": "stdout",
          "output_type": "stream",
          "text": [
            "Moving model to device:  cpu\n"
          ]
        },
        {
          "name": "stderr",
          "output_type": "stream",
          "text": [
            "Chain 4: 100%|██████████| 25/25 [00:00<00:00, 42.17it/s]\n"
          ]
        },
        {
          "name": "stdout",
          "output_type": "stream",
          "text": [
            "Moving model to device:  cpu\n"
          ]
        },
        {
          "name": "stderr",
          "output_type": "stream",
          "text": [
            "Chain 5: 100%|██████████| 25/25 [00:00<00:00, 39.61it/s]\n"
          ]
        },
        {
          "name": "stdout",
          "output_type": "stream",
          "text": [
            "Moving model to device:  cpu\n"
          ]
        },
        {
          "name": "stderr",
          "output_type": "stream",
          "text": [
            "Chain 6: 100%|██████████| 25/25 [00:00<00:00, 42.29it/s]\n"
          ]
        },
        {
          "name": "stdout",
          "output_type": "stream",
          "text": [
            "Moving model to device:  cpu\n"
          ]
        },
        {
          "name": "stderr",
          "output_type": "stream",
          "text": [
            "Chain 7: 100%|██████████| 25/25 [00:00<00:00, 42.46it/s]\n"
          ]
        },
        {
          "name": "stdout",
          "output_type": "stream",
          "text": [
            "Moving model to device:  cpu\n"
          ]
        },
        {
          "name": "stderr",
          "output_type": "stream",
          "text": [
            "Chain 8: 100%|██████████| 25/25 [00:00<00:00, 41.81it/s]\n"
          ]
        },
        {
          "name": "stdout",
          "output_type": "stream",
          "text": [
            "Moving model to device:  cpu\n"
          ]
        },
        {
          "name": "stderr",
          "output_type": "stream",
          "text": [
            "Chain 9: 100%|██████████| 25/25 [00:00<00:00, 36.19it/s]\n"
          ]
        },
        {
          "name": "stdout",
          "output_type": "stream",
          "text": [
            "Moving model to device:  cpu\n"
          ]
        },
        {
          "name": "stderr",
          "output_type": "stream",
          "text": [
            "Chain 10: 100%|██████████| 25/25 [00:00<00:00, 35.58it/s]\n"
          ]
        },
        {
          "name": "stdout",
          "output_type": "stream",
          "text": [
            "Moving model to device:  cpu\n"
          ]
        },
        {
          "name": "stderr",
          "output_type": "stream",
          "text": [
            "Chain 11: 100%|██████████| 25/25 [00:00<00:00, 38.80it/s]\n"
          ]
        },
        {
          "name": "stdout",
          "output_type": "stream",
          "text": [
            "Moving model to device:  cpu\n"
          ]
        },
        {
          "name": "stderr",
          "output_type": "stream",
          "text": [
            "Chain 12: 100%|██████████| 25/25 [00:00<00:00, 35.01it/s]\n"
          ]
        },
        {
          "name": "stdout",
          "output_type": "stream",
          "text": [
            "Moving model to device:  cpu\n"
          ]
        },
        {
          "name": "stderr",
          "output_type": "stream",
          "text": [
            "Chain 13: 100%|██████████| 25/25 [00:00<00:00, 32.18it/s]\n"
          ]
        },
        {
          "name": "stdout",
          "output_type": "stream",
          "text": [
            "Moving model to device:  cpu\n"
          ]
        },
        {
          "name": "stderr",
          "output_type": "stream",
          "text": [
            "Chain 14: 100%|██████████| 25/25 [00:00<00:00, 39.16it/s]\n"
          ]
        },
        {
          "name": "stdout",
          "output_type": "stream",
          "text": [
            "result = 454.82647705078125\n",
            "Moving model to device:  cpu\n",
            "Moving model to device:  cpu\n",
            "Moving model to device:  cpu\n"
          ]
        },
        {
          "name": "stderr",
          "output_type": "stream",
          "text": [
            "Chain 0: 100%|██████████| 25/25 [00:00<00:00, 41.18it/s]\n"
          ]
        },
        {
          "name": "stdout",
          "output_type": "stream",
          "text": [
            "Moving model to device:  cpu\n"
          ]
        },
        {
          "name": "stderr",
          "output_type": "stream",
          "text": [
            "Chain 1: 100%|██████████| 25/25 [00:00<00:00, 41.48it/s]\n"
          ]
        },
        {
          "name": "stdout",
          "output_type": "stream",
          "text": [
            "Moving model to device:  cpu\n"
          ]
        },
        {
          "name": "stderr",
          "output_type": "stream",
          "text": [
            "Chain 2: 100%|██████████| 25/25 [00:00<00:00, 41.25it/s]\n"
          ]
        },
        {
          "name": "stdout",
          "output_type": "stream",
          "text": [
            "Moving model to device:  cpu\n"
          ]
        },
        {
          "name": "stderr",
          "output_type": "stream",
          "text": [
            "Chain 3: 100%|██████████| 25/25 [00:00<00:00, 38.91it/s]\n"
          ]
        },
        {
          "name": "stdout",
          "output_type": "stream",
          "text": [
            "Moving model to device:  cpu\n"
          ]
        },
        {
          "name": "stderr",
          "output_type": "stream",
          "text": [
            "Chain 4: 100%|██████████| 25/25 [00:00<00:00, 35.24it/s]\n"
          ]
        },
        {
          "name": "stdout",
          "output_type": "stream",
          "text": [
            "Moving model to device:  cpu\n"
          ]
        },
        {
          "name": "stderr",
          "output_type": "stream",
          "text": [
            "Chain 5: 100%|██████████| 25/25 [00:00<00:00, 40.76it/s]\n"
          ]
        },
        {
          "name": "stdout",
          "output_type": "stream",
          "text": [
            "Moving model to device:  cpu\n"
          ]
        },
        {
          "name": "stderr",
          "output_type": "stream",
          "text": [
            "Chain 6: 100%|██████████| 25/25 [00:00<00:00, 39.26it/s]\n"
          ]
        },
        {
          "name": "stdout",
          "output_type": "stream",
          "text": [
            "Moving model to device:  cpu\n"
          ]
        },
        {
          "name": "stderr",
          "output_type": "stream",
          "text": [
            "Chain 7: 100%|██████████| 25/25 [00:00<00:00, 40.94it/s]\n"
          ]
        },
        {
          "name": "stdout",
          "output_type": "stream",
          "text": [
            "Moving model to device:  cpu\n"
          ]
        },
        {
          "name": "stderr",
          "output_type": "stream",
          "text": [
            "Chain 8: 100%|██████████| 25/25 [00:00<00:00, 38.24it/s]\n"
          ]
        },
        {
          "name": "stdout",
          "output_type": "stream",
          "text": [
            "Moving model to device:  cpu\n"
          ]
        },
        {
          "name": "stderr",
          "output_type": "stream",
          "text": [
            "Chain 9: 100%|██████████| 25/25 [00:00<00:00, 41.27it/s]\n"
          ]
        },
        {
          "name": "stdout",
          "output_type": "stream",
          "text": [
            "Moving model to device:  cpu\n"
          ]
        },
        {
          "name": "stderr",
          "output_type": "stream",
          "text": [
            "Chain 10: 100%|██████████| 25/25 [00:00<00:00, 41.08it/s]\n"
          ]
        },
        {
          "name": "stdout",
          "output_type": "stream",
          "text": [
            "Moving model to device:  cpu\n"
          ]
        },
        {
          "name": "stderr",
          "output_type": "stream",
          "text": [
            "Chain 11: 100%|██████████| 25/25 [00:00<00:00, 40.60it/s]\n"
          ]
        },
        {
          "name": "stdout",
          "output_type": "stream",
          "text": [
            "Moving model to device:  cpu\n"
          ]
        },
        {
          "name": "stderr",
          "output_type": "stream",
          "text": [
            "Chain 12: 100%|██████████| 25/25 [00:00<00:00, 39.38it/s]\n"
          ]
        },
        {
          "name": "stdout",
          "output_type": "stream",
          "text": [
            "Moving model to device:  cpu\n"
          ]
        },
        {
          "name": "stderr",
          "output_type": "stream",
          "text": [
            "Chain 13: 100%|██████████| 25/25 [00:00<00:00, 36.74it/s]\n"
          ]
        },
        {
          "name": "stdout",
          "output_type": "stream",
          "text": [
            "Moving model to device:  cpu\n"
          ]
        },
        {
          "name": "stderr",
          "output_type": "stream",
          "text": [
            "Chain 14: 100%|██████████| 25/25 [00:00<00:00, 39.06it/s]\n"
          ]
        },
        {
          "name": "stdout",
          "output_type": "stream",
          "text": [
            "result = 773.5372314453125\n",
            "Moving model to device:  cpu\n",
            "Moving model to device:  cpu\n",
            "Moving model to device:  cpu\n"
          ]
        },
        {
          "name": "stderr",
          "output_type": "stream",
          "text": [
            "Chain 0: 100%|██████████| 25/25 [00:00<00:00, 38.48it/s]\n"
          ]
        },
        {
          "name": "stdout",
          "output_type": "stream",
          "text": [
            "Moving model to device:  cpu\n"
          ]
        },
        {
          "name": "stderr",
          "output_type": "stream",
          "text": [
            "Chain 1: 100%|██████████| 25/25 [00:00<00:00, 40.32it/s]\n"
          ]
        },
        {
          "name": "stdout",
          "output_type": "stream",
          "text": [
            "Moving model to device:  cpu\n"
          ]
        },
        {
          "name": "stderr",
          "output_type": "stream",
          "text": [
            "Chain 2: 100%|██████████| 25/25 [00:00<00:00, 39.11it/s]\n"
          ]
        },
        {
          "name": "stdout",
          "output_type": "stream",
          "text": [
            "Moving model to device:  cpu\n"
          ]
        },
        {
          "name": "stderr",
          "output_type": "stream",
          "text": [
            "Chain 3: 100%|██████████| 25/25 [00:00<00:00, 40.89it/s]\n"
          ]
        },
        {
          "name": "stdout",
          "output_type": "stream",
          "text": [
            "Moving model to device:  cpu\n"
          ]
        },
        {
          "name": "stderr",
          "output_type": "stream",
          "text": [
            "Chain 4: 100%|██████████| 25/25 [00:00<00:00, 40.78it/s]\n"
          ]
        },
        {
          "name": "stdout",
          "output_type": "stream",
          "text": [
            "Moving model to device:  cpu\n"
          ]
        },
        {
          "name": "stderr",
          "output_type": "stream",
          "text": [
            "Chain 5: 100%|██████████| 25/25 [00:00<00:00, 40.61it/s]\n"
          ]
        },
        {
          "name": "stdout",
          "output_type": "stream",
          "text": [
            "Moving model to device:  cpu\n"
          ]
        },
        {
          "name": "stderr",
          "output_type": "stream",
          "text": [
            "Chain 6: 100%|██████████| 25/25 [00:00<00:00, 41.24it/s]\n"
          ]
        },
        {
          "name": "stdout",
          "output_type": "stream",
          "text": [
            "Moving model to device:  cpu\n"
          ]
        },
        {
          "name": "stderr",
          "output_type": "stream",
          "text": [
            "Chain 7: 100%|██████████| 25/25 [00:00<00:00, 38.36it/s]\n"
          ]
        },
        {
          "name": "stdout",
          "output_type": "stream",
          "text": [
            "Moving model to device:  cpu\n"
          ]
        },
        {
          "name": "stderr",
          "output_type": "stream",
          "text": [
            "Chain 8: 100%|██████████| 25/25 [00:00<00:00, 40.05it/s]\n"
          ]
        },
        {
          "name": "stdout",
          "output_type": "stream",
          "text": [
            "Moving model to device:  cpu\n"
          ]
        },
        {
          "name": "stderr",
          "output_type": "stream",
          "text": [
            "Chain 9: 100%|██████████| 25/25 [00:01<00:00, 14.13it/s]\n"
          ]
        },
        {
          "name": "stdout",
          "output_type": "stream",
          "text": [
            "Moving model to device:  cpu\n"
          ]
        },
        {
          "name": "stderr",
          "output_type": "stream",
          "text": [
            "Chain 10: 100%|██████████| 25/25 [00:00<00:00, 32.96it/s]\n"
          ]
        },
        {
          "name": "stdout",
          "output_type": "stream",
          "text": [
            "Moving model to device:  cpu\n"
          ]
        },
        {
          "name": "stderr",
          "output_type": "stream",
          "text": [
            "Chain 11: 100%|██████████| 25/25 [00:00<00:00, 27.54it/s]\n"
          ]
        },
        {
          "name": "stdout",
          "output_type": "stream",
          "text": [
            "Moving model to device:  cpu\n"
          ]
        },
        {
          "name": "stderr",
          "output_type": "stream",
          "text": [
            "Chain 12: 100%|██████████| 25/25 [00:00<00:00, 37.54it/s]\n"
          ]
        },
        {
          "name": "stdout",
          "output_type": "stream",
          "text": [
            "Moving model to device:  cpu\n"
          ]
        },
        {
          "name": "stderr",
          "output_type": "stream",
          "text": [
            "Chain 13: 100%|██████████| 25/25 [00:00<00:00, 38.73it/s]\n"
          ]
        },
        {
          "name": "stdout",
          "output_type": "stream",
          "text": [
            "Moving model to device:  cpu\n"
          ]
        },
        {
          "name": "stderr",
          "output_type": "stream",
          "text": [
            "Chain 14: 100%|██████████| 25/25 [00:00<00:00, 36.63it/s]\n"
          ]
        },
        {
          "name": "stdout",
          "output_type": "stream",
          "text": [
            "result = 811.586669921875\n",
            "Moving model to device:  cpu\n",
            "Moving model to device:  cpu\n",
            "Moving model to device:  cpu\n"
          ]
        },
        {
          "name": "stderr",
          "output_type": "stream",
          "text": [
            "Chain 0: 100%|██████████| 25/25 [00:00<00:00, 36.08it/s]\n"
          ]
        },
        {
          "name": "stdout",
          "output_type": "stream",
          "text": [
            "Moving model to device:  cpu\n"
          ]
        },
        {
          "name": "stderr",
          "output_type": "stream",
          "text": [
            "Chain 1: 100%|██████████| 25/25 [00:00<00:00, 39.13it/s]\n"
          ]
        },
        {
          "name": "stdout",
          "output_type": "stream",
          "text": [
            "Moving model to device:  cpu\n"
          ]
        },
        {
          "name": "stderr",
          "output_type": "stream",
          "text": [
            "Chain 2: 100%|██████████| 25/25 [00:00<00:00, 38.05it/s]\n"
          ]
        },
        {
          "name": "stdout",
          "output_type": "stream",
          "text": [
            "Moving model to device:  cpu\n"
          ]
        },
        {
          "name": "stderr",
          "output_type": "stream",
          "text": [
            "Chain 3: 100%|██████████| 25/25 [00:00<00:00, 37.76it/s]\n"
          ]
        },
        {
          "name": "stdout",
          "output_type": "stream",
          "text": [
            "Moving model to device:  cpu\n"
          ]
        },
        {
          "name": "stderr",
          "output_type": "stream",
          "text": [
            "Chain 4: 100%|██████████| 25/25 [00:00<00:00, 36.89it/s]\n"
          ]
        },
        {
          "name": "stdout",
          "output_type": "stream",
          "text": [
            "Moving model to device:  cpu\n"
          ]
        },
        {
          "name": "stderr",
          "output_type": "stream",
          "text": [
            "Chain 5: 100%|██████████| 25/25 [00:00<00:00, 33.47it/s]\n"
          ]
        },
        {
          "name": "stdout",
          "output_type": "stream",
          "text": [
            "Moving model to device:  cpu\n"
          ]
        },
        {
          "name": "stderr",
          "output_type": "stream",
          "text": [
            "Chain 6: 100%|██████████| 25/25 [00:00<00:00, 39.34it/s]\n"
          ]
        },
        {
          "name": "stdout",
          "output_type": "stream",
          "text": [
            "Moving model to device:  cpu\n"
          ]
        },
        {
          "name": "stderr",
          "output_type": "stream",
          "text": [
            "Chain 7: 100%|██████████| 25/25 [00:00<00:00, 38.59it/s]\n"
          ]
        },
        {
          "name": "stdout",
          "output_type": "stream",
          "text": [
            "Moving model to device:  cpu\n"
          ]
        },
        {
          "name": "stderr",
          "output_type": "stream",
          "text": [
            "Chain 8: 100%|██████████| 25/25 [00:00<00:00, 37.77it/s]\n"
          ]
        },
        {
          "name": "stdout",
          "output_type": "stream",
          "text": [
            "Moving model to device:  cpu\n"
          ]
        },
        {
          "name": "stderr",
          "output_type": "stream",
          "text": [
            "Chain 9: 100%|██████████| 25/25 [00:00<00:00, 32.93it/s]\n"
          ]
        },
        {
          "name": "stdout",
          "output_type": "stream",
          "text": [
            "Moving model to device:  cpu\n"
          ]
        },
        {
          "name": "stderr",
          "output_type": "stream",
          "text": [
            "Chain 10: 100%|██████████| 25/25 [00:00<00:00, 38.07it/s]\n"
          ]
        },
        {
          "name": "stdout",
          "output_type": "stream",
          "text": [
            "Moving model to device:  cpu\n"
          ]
        },
        {
          "name": "stderr",
          "output_type": "stream",
          "text": [
            "Chain 11: 100%|██████████| 25/25 [00:00<00:00, 38.78it/s]\n"
          ]
        },
        {
          "name": "stdout",
          "output_type": "stream",
          "text": [
            "Moving model to device:  cpu\n"
          ]
        },
        {
          "name": "stderr",
          "output_type": "stream",
          "text": [
            "Chain 12: 100%|██████████| 25/25 [00:00<00:00, 38.38it/s]\n"
          ]
        },
        {
          "name": "stdout",
          "output_type": "stream",
          "text": [
            "Moving model to device:  cpu\n"
          ]
        },
        {
          "name": "stderr",
          "output_type": "stream",
          "text": [
            "Chain 13: 100%|██████████| 25/25 [00:00<00:00, 36.66it/s]\n"
          ]
        },
        {
          "name": "stdout",
          "output_type": "stream",
          "text": [
            "Moving model to device:  cpu\n"
          ]
        },
        {
          "name": "stderr",
          "output_type": "stream",
          "text": [
            "Chain 14: 100%|██████████| 25/25 [00:00<00:00, 38.01it/s]\n"
          ]
        },
        {
          "name": "stdout",
          "output_type": "stream",
          "text": [
            "result = 821.6535034179688\n",
            "Moving model to device:  cpu\n",
            "Moving model to device:  cpu\n",
            "Moving model to device:  cpu\n"
          ]
        },
        {
          "name": "stderr",
          "output_type": "stream",
          "text": [
            "Chain 0: 100%|██████████| 25/25 [00:00<00:00, 32.96it/s]\n"
          ]
        },
        {
          "name": "stdout",
          "output_type": "stream",
          "text": [
            "Moving model to device:  cpu\n"
          ]
        },
        {
          "name": "stderr",
          "output_type": "stream",
          "text": [
            "Chain 1: 100%|██████████| 25/25 [00:00<00:00, 38.50it/s]\n"
          ]
        },
        {
          "name": "stdout",
          "output_type": "stream",
          "text": [
            "Moving model to device:  cpu\n"
          ]
        },
        {
          "name": "stderr",
          "output_type": "stream",
          "text": [
            "Chain 2: 100%|██████████| 25/25 [00:00<00:00, 36.85it/s]\n"
          ]
        },
        {
          "name": "stdout",
          "output_type": "stream",
          "text": [
            "Moving model to device:  cpu\n"
          ]
        },
        {
          "name": "stderr",
          "output_type": "stream",
          "text": [
            "Chain 3: 100%|██████████| 25/25 [00:00<00:00, 38.19it/s]\n"
          ]
        },
        {
          "name": "stdout",
          "output_type": "stream",
          "text": [
            "Moving model to device:  cpu\n"
          ]
        },
        {
          "name": "stderr",
          "output_type": "stream",
          "text": [
            "Chain 4: 100%|██████████| 25/25 [00:00<00:00, 37.40it/s]\n"
          ]
        },
        {
          "name": "stdout",
          "output_type": "stream",
          "text": [
            "Moving model to device:  cpu\n"
          ]
        },
        {
          "name": "stderr",
          "output_type": "stream",
          "text": [
            "Chain 5: 100%|██████████| 25/25 [00:00<00:00, 38.62it/s]\n"
          ]
        },
        {
          "name": "stdout",
          "output_type": "stream",
          "text": [
            "Moving model to device:  cpu\n"
          ]
        },
        {
          "name": "stderr",
          "output_type": "stream",
          "text": [
            "Chain 6: 100%|██████████| 25/25 [00:00<00:00, 38.45it/s]\n"
          ]
        },
        {
          "name": "stdout",
          "output_type": "stream",
          "text": [
            "Moving model to device:  cpu\n"
          ]
        },
        {
          "name": "stderr",
          "output_type": "stream",
          "text": [
            "Chain 7: 100%|██████████| 25/25 [00:00<00:00, 36.37it/s]\n"
          ]
        },
        {
          "name": "stdout",
          "output_type": "stream",
          "text": [
            "Moving model to device:  cpu\n"
          ]
        },
        {
          "name": "stderr",
          "output_type": "stream",
          "text": [
            "Chain 8: 100%|██████████| 25/25 [00:00<00:00, 38.27it/s]\n"
          ]
        },
        {
          "name": "stdout",
          "output_type": "stream",
          "text": [
            "Moving model to device:  cpu\n"
          ]
        },
        {
          "name": "stderr",
          "output_type": "stream",
          "text": [
            "Chain 9: 100%|██████████| 25/25 [00:00<00:00, 37.91it/s]\n"
          ]
        },
        {
          "name": "stdout",
          "output_type": "stream",
          "text": [
            "Moving model to device:  cpu\n"
          ]
        },
        {
          "name": "stderr",
          "output_type": "stream",
          "text": [
            "Chain 10: 100%|██████████| 25/25 [00:00<00:00, 37.63it/s]\n"
          ]
        },
        {
          "name": "stdout",
          "output_type": "stream",
          "text": [
            "Moving model to device:  cpu\n"
          ]
        },
        {
          "name": "stderr",
          "output_type": "stream",
          "text": [
            "Chain 11: 100%|██████████| 25/25 [00:00<00:00, 30.68it/s]\n"
          ]
        },
        {
          "name": "stdout",
          "output_type": "stream",
          "text": [
            "Moving model to device:  cpu\n"
          ]
        },
        {
          "name": "stderr",
          "output_type": "stream",
          "text": [
            "Chain 12: 100%|██████████| 25/25 [00:00<00:00, 38.75it/s]\n"
          ]
        },
        {
          "name": "stdout",
          "output_type": "stream",
          "text": [
            "Moving model to device:  cpu\n"
          ]
        },
        {
          "name": "stderr",
          "output_type": "stream",
          "text": [
            "Chain 13: 100%|██████████| 25/25 [00:00<00:00, 37.73it/s]\n"
          ]
        },
        {
          "name": "stdout",
          "output_type": "stream",
          "text": [
            "Moving model to device:  cpu\n"
          ]
        },
        {
          "name": "stderr",
          "output_type": "stream",
          "text": [
            "Chain 14: 100%|██████████| 25/25 [00:00<00:00, 37.68it/s]\n"
          ]
        },
        {
          "name": "stdout",
          "output_type": "stream",
          "text": [
            "result = 820.9591674804688\n",
            "Moving model to device:  cpu\n",
            "Moving model to device:  cpu\n",
            "Moving model to device:  cpu\n"
          ]
        },
        {
          "name": "stderr",
          "output_type": "stream",
          "text": [
            "Chain 0: 100%|██████████| 25/25 [00:00<00:00, 35.99it/s]\n"
          ]
        },
        {
          "name": "stdout",
          "output_type": "stream",
          "text": [
            "Moving model to device:  cpu\n"
          ]
        },
        {
          "name": "stderr",
          "output_type": "stream",
          "text": [
            "Chain 1: 100%|██████████| 25/25 [00:00<00:00, 38.06it/s]\n"
          ]
        },
        {
          "name": "stdout",
          "output_type": "stream",
          "text": [
            "Moving model to device:  cpu\n"
          ]
        },
        {
          "name": "stderr",
          "output_type": "stream",
          "text": [
            "Chain 2: 100%|██████████| 25/25 [00:00<00:00, 39.20it/s]\n"
          ]
        },
        {
          "name": "stdout",
          "output_type": "stream",
          "text": [
            "Moving model to device:  cpu\n"
          ]
        },
        {
          "name": "stderr",
          "output_type": "stream",
          "text": [
            "Chain 3: 100%|██████████| 25/25 [00:00<00:00, 38.68it/s]\n"
          ]
        },
        {
          "name": "stdout",
          "output_type": "stream",
          "text": [
            "Moving model to device:  cpu\n"
          ]
        },
        {
          "name": "stderr",
          "output_type": "stream",
          "text": [
            "Chain 4: 100%|██████████| 25/25 [00:00<00:00, 38.18it/s]\n"
          ]
        },
        {
          "name": "stdout",
          "output_type": "stream",
          "text": [
            "Moving model to device:  cpu\n"
          ]
        },
        {
          "name": "stderr",
          "output_type": "stream",
          "text": [
            "Chain 5: 100%|██████████| 25/25 [00:00<00:00, 35.11it/s]\n"
          ]
        },
        {
          "name": "stdout",
          "output_type": "stream",
          "text": [
            "Moving model to device:  cpu\n"
          ]
        },
        {
          "name": "stderr",
          "output_type": "stream",
          "text": [
            "Chain 6: 100%|██████████| 25/25 [00:00<00:00, 37.91it/s]\n"
          ]
        },
        {
          "name": "stdout",
          "output_type": "stream",
          "text": [
            "Moving model to device:  cpu\n"
          ]
        },
        {
          "name": "stderr",
          "output_type": "stream",
          "text": [
            "Chain 7: 100%|██████████| 25/25 [00:00<00:00, 37.46it/s]\n"
          ]
        },
        {
          "name": "stdout",
          "output_type": "stream",
          "text": [
            "Moving model to device:  cpu\n"
          ]
        },
        {
          "name": "stderr",
          "output_type": "stream",
          "text": [
            "Chain 8: 100%|██████████| 25/25 [00:00<00:00, 37.01it/s]\n"
          ]
        },
        {
          "name": "stdout",
          "output_type": "stream",
          "text": [
            "Moving model to device:  cpu\n"
          ]
        },
        {
          "name": "stderr",
          "output_type": "stream",
          "text": [
            "Chain 9: 100%|██████████| 25/25 [00:00<00:00, 35.00it/s]\n"
          ]
        },
        {
          "name": "stdout",
          "output_type": "stream",
          "text": [
            "Moving model to device:  cpu\n"
          ]
        },
        {
          "name": "stderr",
          "output_type": "stream",
          "text": [
            "Chain 10: 100%|██████████| 25/25 [00:00<00:00, 37.09it/s]\n"
          ]
        },
        {
          "name": "stdout",
          "output_type": "stream",
          "text": [
            "Moving model to device:  cpu\n"
          ]
        },
        {
          "name": "stderr",
          "output_type": "stream",
          "text": [
            "Chain 11: 100%|██████████| 25/25 [00:00<00:00, 36.98it/s]\n"
          ]
        },
        {
          "name": "stdout",
          "output_type": "stream",
          "text": [
            "Moving model to device:  cpu\n"
          ]
        },
        {
          "name": "stderr",
          "output_type": "stream",
          "text": [
            "Chain 12: 100%|██████████| 25/25 [00:00<00:00, 37.50it/s]\n"
          ]
        },
        {
          "name": "stdout",
          "output_type": "stream",
          "text": [
            "Moving model to device:  cpu\n"
          ]
        },
        {
          "name": "stderr",
          "output_type": "stream",
          "text": [
            "Chain 13: 100%|██████████| 25/25 [00:00<00:00, 35.05it/s]\n"
          ]
        },
        {
          "name": "stdout",
          "output_type": "stream",
          "text": [
            "Moving model to device:  cpu\n"
          ]
        },
        {
          "name": "stderr",
          "output_type": "stream",
          "text": [
            "Chain 14: 100%|██████████| 25/25 [00:00<00:00, 35.95it/s]\n"
          ]
        },
        {
          "name": "stdout",
          "output_type": "stream",
          "text": [
            "result = 825.1616821289062\n",
            "Moving model to device:  cpu\n",
            "Moving model to device:  cpu\n",
            "Moving model to device:  cpu\n"
          ]
        },
        {
          "name": "stderr",
          "output_type": "stream",
          "text": [
            "Chain 0: 100%|██████████| 25/25 [00:00<00:00, 30.94it/s]\n"
          ]
        },
        {
          "name": "stdout",
          "output_type": "stream",
          "text": [
            "Moving model to device:  cpu\n"
          ]
        },
        {
          "name": "stderr",
          "output_type": "stream",
          "text": [
            "Chain 1: 100%|██████████| 25/25 [00:00<00:00, 37.42it/s]\n"
          ]
        },
        {
          "name": "stdout",
          "output_type": "stream",
          "text": [
            "Moving model to device:  cpu\n"
          ]
        },
        {
          "name": "stderr",
          "output_type": "stream",
          "text": [
            "Chain 2: 100%|██████████| 25/25 [00:00<00:00, 34.48it/s]\n"
          ]
        },
        {
          "name": "stdout",
          "output_type": "stream",
          "text": [
            "Moving model to device:  cpu\n"
          ]
        },
        {
          "name": "stderr",
          "output_type": "stream",
          "text": [
            "Chain 3: 100%|██████████| 25/25 [00:00<00:00, 35.57it/s]\n"
          ]
        },
        {
          "name": "stdout",
          "output_type": "stream",
          "text": [
            "Moving model to device:  cpu\n"
          ]
        },
        {
          "name": "stderr",
          "output_type": "stream",
          "text": [
            "Chain 4: 100%|██████████| 25/25 [00:00<00:00, 36.19it/s]\n"
          ]
        },
        {
          "name": "stdout",
          "output_type": "stream",
          "text": [
            "Moving model to device:  cpu\n"
          ]
        },
        {
          "name": "stderr",
          "output_type": "stream",
          "text": [
            "Chain 5: 100%|██████████| 25/25 [00:00<00:00, 36.60it/s]\n"
          ]
        },
        {
          "name": "stdout",
          "output_type": "stream",
          "text": [
            "Moving model to device:  cpu\n"
          ]
        },
        {
          "name": "stderr",
          "output_type": "stream",
          "text": [
            "Chain 6: 100%|██████████| 25/25 [00:00<00:00, 34.30it/s]\n"
          ]
        },
        {
          "name": "stdout",
          "output_type": "stream",
          "text": [
            "Moving model to device:  cpu\n"
          ]
        },
        {
          "name": "stderr",
          "output_type": "stream",
          "text": [
            "Chain 7: 100%|██████████| 25/25 [00:00<00:00, 34.94it/s]\n"
          ]
        },
        {
          "name": "stdout",
          "output_type": "stream",
          "text": [
            "Moving model to device:  cpu\n"
          ]
        },
        {
          "name": "stderr",
          "output_type": "stream",
          "text": [
            "Chain 8: 100%|██████████| 25/25 [00:00<00:00, 36.17it/s]\n"
          ]
        },
        {
          "name": "stdout",
          "output_type": "stream",
          "text": [
            "Moving model to device:  cpu\n"
          ]
        },
        {
          "name": "stderr",
          "output_type": "stream",
          "text": [
            "Chain 9: 100%|██████████| 25/25 [00:00<00:00, 36.95it/s]\n"
          ]
        },
        {
          "name": "stdout",
          "output_type": "stream",
          "text": [
            "Moving model to device:  cpu\n"
          ]
        },
        {
          "name": "stderr",
          "output_type": "stream",
          "text": [
            "Chain 10: 100%|██████████| 25/25 [00:00<00:00, 35.24it/s]\n"
          ]
        },
        {
          "name": "stdout",
          "output_type": "stream",
          "text": [
            "Moving model to device:  cpu\n"
          ]
        },
        {
          "name": "stderr",
          "output_type": "stream",
          "text": [
            "Chain 11: 100%|██████████| 25/25 [00:00<00:00, 30.49it/s]\n"
          ]
        },
        {
          "name": "stdout",
          "output_type": "stream",
          "text": [
            "Moving model to device:  cpu\n"
          ]
        },
        {
          "name": "stderr",
          "output_type": "stream",
          "text": [
            "Chain 12: 100%|██████████| 25/25 [00:00<00:00, 36.69it/s]\n"
          ]
        },
        {
          "name": "stdout",
          "output_type": "stream",
          "text": [
            "Moving model to device:  cpu\n"
          ]
        },
        {
          "name": "stderr",
          "output_type": "stream",
          "text": [
            "Chain 13: 100%|██████████| 25/25 [00:00<00:00, 36.64it/s]\n"
          ]
        },
        {
          "name": "stdout",
          "output_type": "stream",
          "text": [
            "Moving model to device:  cpu\n"
          ]
        },
        {
          "name": "stderr",
          "output_type": "stream",
          "text": [
            "Chain 14: 100%|██████████| 25/25 [00:00<00:00, 34.43it/s]\n"
          ]
        },
        {
          "name": "stdout",
          "output_type": "stream",
          "text": [
            "result = 827.345458984375\n",
            "Moving model to device:  cpu\n",
            "Moving model to device:  cpu\n",
            "Moving model to device:  cpu\n"
          ]
        },
        {
          "name": "stderr",
          "output_type": "stream",
          "text": [
            "Chain 0: 100%|██████████| 25/25 [00:00<00:00, 35.27it/s]\n"
          ]
        },
        {
          "name": "stdout",
          "output_type": "stream",
          "text": [
            "Moving model to device:  cpu\n"
          ]
        },
        {
          "name": "stderr",
          "output_type": "stream",
          "text": [
            "Chain 1: 100%|██████████| 25/25 [00:00<00:00, 34.40it/s]\n"
          ]
        },
        {
          "name": "stdout",
          "output_type": "stream",
          "text": [
            "Moving model to device:  cpu\n"
          ]
        },
        {
          "name": "stderr",
          "output_type": "stream",
          "text": [
            "Chain 2: 100%|██████████| 25/25 [00:00<00:00, 34.21it/s]\n"
          ]
        },
        {
          "name": "stdout",
          "output_type": "stream",
          "text": [
            "Moving model to device:  cpu\n"
          ]
        },
        {
          "name": "stderr",
          "output_type": "stream",
          "text": [
            "Chain 3: 100%|██████████| 25/25 [00:00<00:00, 32.56it/s]\n"
          ]
        },
        {
          "name": "stdout",
          "output_type": "stream",
          "text": [
            "Moving model to device:  cpu\n"
          ]
        },
        {
          "name": "stderr",
          "output_type": "stream",
          "text": [
            "Chain 4: 100%|██████████| 25/25 [00:00<00:00, 34.57it/s]\n"
          ]
        },
        {
          "name": "stdout",
          "output_type": "stream",
          "text": [
            "Moving model to device:  cpu\n"
          ]
        },
        {
          "name": "stderr",
          "output_type": "stream",
          "text": [
            "Chain 5: 100%|██████████| 25/25 [00:00<00:00, 35.32it/s]\n"
          ]
        },
        {
          "name": "stdout",
          "output_type": "stream",
          "text": [
            "Moving model to device:  cpu\n"
          ]
        },
        {
          "name": "stderr",
          "output_type": "stream",
          "text": [
            "Chain 6: 100%|██████████| 25/25 [00:00<00:00, 29.36it/s]\n"
          ]
        },
        {
          "name": "stdout",
          "output_type": "stream",
          "text": [
            "Moving model to device:  cpu\n"
          ]
        },
        {
          "name": "stderr",
          "output_type": "stream",
          "text": [
            "Chain 7: 100%|██████████| 25/25 [00:00<00:00, 33.01it/s]\n"
          ]
        },
        {
          "name": "stdout",
          "output_type": "stream",
          "text": [
            "Moving model to device:  cpu\n"
          ]
        },
        {
          "name": "stderr",
          "output_type": "stream",
          "text": [
            "Chain 8: 100%|██████████| 25/25 [00:00<00:00, 34.25it/s]\n"
          ]
        },
        {
          "name": "stdout",
          "output_type": "stream",
          "text": [
            "Moving model to device:  cpu\n"
          ]
        },
        {
          "name": "stderr",
          "output_type": "stream",
          "text": [
            "Chain 9: 100%|██████████| 25/25 [00:00<00:00, 34.91it/s]\n"
          ]
        },
        {
          "name": "stdout",
          "output_type": "stream",
          "text": [
            "Moving model to device:  cpu\n"
          ]
        },
        {
          "name": "stderr",
          "output_type": "stream",
          "text": [
            "Chain 10: 100%|██████████| 25/25 [00:00<00:00, 34.59it/s]\n"
          ]
        },
        {
          "name": "stdout",
          "output_type": "stream",
          "text": [
            "Moving model to device:  cpu\n"
          ]
        },
        {
          "name": "stderr",
          "output_type": "stream",
          "text": [
            "Chain 11: 100%|██████████| 25/25 [00:00<00:00, 32.67it/s]\n"
          ]
        },
        {
          "name": "stdout",
          "output_type": "stream",
          "text": [
            "Moving model to device:  cpu\n"
          ]
        },
        {
          "name": "stderr",
          "output_type": "stream",
          "text": [
            "Chain 12: 100%|██████████| 25/25 [00:00<00:00, 34.58it/s]\n"
          ]
        },
        {
          "name": "stdout",
          "output_type": "stream",
          "text": [
            "Moving model to device:  cpu\n"
          ]
        },
        {
          "name": "stderr",
          "output_type": "stream",
          "text": [
            "Chain 13: 100%|██████████| 25/25 [00:00<00:00, 34.31it/s]\n"
          ]
        },
        {
          "name": "stdout",
          "output_type": "stream",
          "text": [
            "Moving model to device:  cpu\n"
          ]
        },
        {
          "name": "stderr",
          "output_type": "stream",
          "text": [
            "Chain 14: 100%|██████████| 25/25 [00:00<00:00, 35.11it/s]\n"
          ]
        },
        {
          "name": "stdout",
          "output_type": "stream",
          "text": [
            "result = 825.9927368164062\n",
            "Moving model to device:  cpu\n",
            "Moving model to device:  cpu\n",
            "Moving model to device:  cpu\n"
          ]
        },
        {
          "name": "stderr",
          "output_type": "stream",
          "text": [
            "Chain 0: 100%|██████████| 25/25 [00:00<00:00, 32.35it/s]\n"
          ]
        },
        {
          "name": "stdout",
          "output_type": "stream",
          "text": [
            "Moving model to device:  cpu\n"
          ]
        },
        {
          "name": "stderr",
          "output_type": "stream",
          "text": [
            "Chain 1: 100%|██████████| 25/25 [00:00<00:00, 29.26it/s]\n"
          ]
        },
        {
          "name": "stdout",
          "output_type": "stream",
          "text": [
            "Moving model to device:  cpu\n"
          ]
        },
        {
          "name": "stderr",
          "output_type": "stream",
          "text": [
            "Chain 2: 100%|██████████| 25/25 [00:00<00:00, 35.00it/s]\n"
          ]
        },
        {
          "name": "stdout",
          "output_type": "stream",
          "text": [
            "Moving model to device:  cpu\n"
          ]
        },
        {
          "name": "stderr",
          "output_type": "stream",
          "text": [
            "Chain 3: 100%|██████████| 25/25 [00:00<00:00, 31.08it/s]\n"
          ]
        },
        {
          "name": "stdout",
          "output_type": "stream",
          "text": [
            "Moving model to device:  cpu\n"
          ]
        },
        {
          "name": "stderr",
          "output_type": "stream",
          "text": [
            "Chain 4: 100%|██████████| 25/25 [00:00<00:00, 32.19it/s]\n"
          ]
        },
        {
          "name": "stdout",
          "output_type": "stream",
          "text": [
            "Moving model to device:  cpu\n"
          ]
        },
        {
          "name": "stderr",
          "output_type": "stream",
          "text": [
            "Chain 5: 100%|██████████| 25/25 [00:00<00:00, 33.90it/s]\n"
          ]
        },
        {
          "name": "stdout",
          "output_type": "stream",
          "text": [
            "Moving model to device:  cpu\n"
          ]
        },
        {
          "name": "stderr",
          "output_type": "stream",
          "text": [
            "Chain 6: 100%|██████████| 25/25 [00:00<00:00, 34.22it/s]\n"
          ]
        },
        {
          "name": "stdout",
          "output_type": "stream",
          "text": [
            "Moving model to device:  cpu\n"
          ]
        },
        {
          "name": "stderr",
          "output_type": "stream",
          "text": [
            "Chain 7: 100%|██████████| 25/25 [00:00<00:00, 34.57it/s]\n"
          ]
        },
        {
          "name": "stdout",
          "output_type": "stream",
          "text": [
            "Moving model to device:  cpu\n"
          ]
        },
        {
          "name": "stderr",
          "output_type": "stream",
          "text": [
            "Chain 8: 100%|██████████| 25/25 [00:00<00:00, 32.74it/s]\n"
          ]
        },
        {
          "name": "stdout",
          "output_type": "stream",
          "text": [
            "Moving model to device:  cpu\n"
          ]
        },
        {
          "name": "stderr",
          "output_type": "stream",
          "text": [
            "Chain 9: 100%|██████████| 25/25 [00:00<00:00, 34.58it/s]\n"
          ]
        },
        {
          "name": "stdout",
          "output_type": "stream",
          "text": [
            "Moving model to device:  cpu\n"
          ]
        },
        {
          "name": "stderr",
          "output_type": "stream",
          "text": [
            "Chain 10: 100%|██████████| 25/25 [00:00<00:00, 33.92it/s]\n"
          ]
        },
        {
          "name": "stdout",
          "output_type": "stream",
          "text": [
            "Moving model to device:  cpu\n"
          ]
        },
        {
          "name": "stderr",
          "output_type": "stream",
          "text": [
            "Chain 11: 100%|██████████| 25/25 [00:00<00:00, 34.70it/s]\n"
          ]
        },
        {
          "name": "stdout",
          "output_type": "stream",
          "text": [
            "Moving model to device:  cpu\n"
          ]
        },
        {
          "name": "stderr",
          "output_type": "stream",
          "text": [
            "Chain 12: 100%|██████████| 25/25 [00:00<00:00, 28.63it/s]\n"
          ]
        },
        {
          "name": "stdout",
          "output_type": "stream",
          "text": [
            "Moving model to device:  cpu\n"
          ]
        },
        {
          "name": "stderr",
          "output_type": "stream",
          "text": [
            "Chain 13: 100%|██████████| 25/25 [00:00<00:00, 35.11it/s]\n"
          ]
        },
        {
          "name": "stdout",
          "output_type": "stream",
          "text": [
            "Moving model to device:  cpu\n"
          ]
        },
        {
          "name": "stderr",
          "output_type": "stream",
          "text": [
            "Chain 14: 100%|██████████| 25/25 [00:00<00:00, 35.06it/s]\n"
          ]
        },
        {
          "name": "stdout",
          "output_type": "stream",
          "text": [
            "result = 814.1217651367188\n",
            "Moving model to device:  cpu\n",
            "Moving model to device:  cpu\n",
            "Moving model to device:  cpu\n"
          ]
        },
        {
          "name": "stderr",
          "output_type": "stream",
          "text": [
            "Chain 0: 100%|██████████| 25/25 [00:00<00:00, 34.32it/s]\n"
          ]
        },
        {
          "name": "stdout",
          "output_type": "stream",
          "text": [
            "Moving model to device:  cpu\n"
          ]
        },
        {
          "name": "stderr",
          "output_type": "stream",
          "text": [
            "Chain 1: 100%|██████████| 25/25 [00:00<00:00, 31.90it/s]\n"
          ]
        },
        {
          "name": "stdout",
          "output_type": "stream",
          "text": [
            "Moving model to device:  cpu\n"
          ]
        },
        {
          "name": "stderr",
          "output_type": "stream",
          "text": [
            "Chain 2: 100%|██████████| 25/25 [00:00<00:00, 34.76it/s]\n"
          ]
        },
        {
          "name": "stdout",
          "output_type": "stream",
          "text": [
            "Moving model to device:  cpu\n"
          ]
        },
        {
          "name": "stderr",
          "output_type": "stream",
          "text": [
            "Chain 3: 100%|██████████| 25/25 [00:00<00:00, 33.61it/s]\n"
          ]
        },
        {
          "name": "stdout",
          "output_type": "stream",
          "text": [
            "Moving model to device:  cpu\n"
          ]
        },
        {
          "name": "stderr",
          "output_type": "stream",
          "text": [
            "Chain 4: 100%|██████████| 25/25 [00:00<00:00, 34.39it/s]\n"
          ]
        },
        {
          "name": "stdout",
          "output_type": "stream",
          "text": [
            "Moving model to device:  cpu\n"
          ]
        },
        {
          "name": "stderr",
          "output_type": "stream",
          "text": [
            "Chain 5: 100%|██████████| 25/25 [00:00<00:00, 31.14it/s]\n"
          ]
        },
        {
          "name": "stdout",
          "output_type": "stream",
          "text": [
            "Moving model to device:  cpu\n"
          ]
        },
        {
          "name": "stderr",
          "output_type": "stream",
          "text": [
            "Chain 6: 100%|██████████| 25/25 [00:00<00:00, 29.33it/s]\n"
          ]
        },
        {
          "name": "stdout",
          "output_type": "stream",
          "text": [
            "Moving model to device:  cpu\n"
          ]
        },
        {
          "name": "stderr",
          "output_type": "stream",
          "text": [
            "Chain 7: 100%|██████████| 25/25 [00:00<00:00, 31.54it/s]\n"
          ]
        },
        {
          "name": "stdout",
          "output_type": "stream",
          "text": [
            "Moving model to device:  cpu\n"
          ]
        },
        {
          "name": "stderr",
          "output_type": "stream",
          "text": [
            "Chain 8: 100%|██████████| 25/25 [00:00<00:00, 33.82it/s]\n"
          ]
        },
        {
          "name": "stdout",
          "output_type": "stream",
          "text": [
            "Moving model to device:  cpu\n"
          ]
        },
        {
          "name": "stderr",
          "output_type": "stream",
          "text": [
            "Chain 9: 100%|██████████| 25/25 [00:00<00:00, 32.98it/s]\n"
          ]
        },
        {
          "name": "stdout",
          "output_type": "stream",
          "text": [
            "Moving model to device:  cpu\n"
          ]
        },
        {
          "name": "stderr",
          "output_type": "stream",
          "text": [
            "Chain 10: 100%|██████████| 25/25 [00:00<00:00, 33.70it/s]\n"
          ]
        },
        {
          "name": "stdout",
          "output_type": "stream",
          "text": [
            "Moving model to device:  cpu\n"
          ]
        },
        {
          "name": "stderr",
          "output_type": "stream",
          "text": [
            "Chain 11: 100%|██████████| 25/25 [00:00<00:00, 34.05it/s]\n"
          ]
        },
        {
          "name": "stdout",
          "output_type": "stream",
          "text": [
            "Moving model to device:  cpu\n"
          ]
        },
        {
          "name": "stderr",
          "output_type": "stream",
          "text": [
            "Chain 12: 100%|██████████| 25/25 [00:00<00:00, 34.17it/s]\n"
          ]
        },
        {
          "name": "stdout",
          "output_type": "stream",
          "text": [
            "Moving model to device:  cpu\n"
          ]
        },
        {
          "name": "stderr",
          "output_type": "stream",
          "text": [
            "Chain 13: 100%|██████████| 25/25 [00:00<00:00, 31.96it/s]\n"
          ]
        },
        {
          "name": "stdout",
          "output_type": "stream",
          "text": [
            "Moving model to device:  cpu\n"
          ]
        },
        {
          "name": "stderr",
          "output_type": "stream",
          "text": [
            "Chain 14: 100%|██████████| 25/25 [00:00<00:00, 33.94it/s]\n"
          ]
        },
        {
          "name": "stdout",
          "output_type": "stream",
          "text": [
            "result = 810.0178833007812\n",
            "Moving model to device:  cpu\n",
            "Moving model to device:  cpu\n",
            "Moving model to device:  cpu\n"
          ]
        },
        {
          "name": "stderr",
          "output_type": "stream",
          "text": [
            "Chain 0: 100%|██████████| 25/25 [00:00<00:00, 34.14it/s]\n"
          ]
        },
        {
          "name": "stdout",
          "output_type": "stream",
          "text": [
            "Moving model to device:  cpu\n"
          ]
        },
        {
          "name": "stderr",
          "output_type": "stream",
          "text": [
            "Chain 1: 100%|██████████| 25/25 [00:00<00:00, 29.64it/s]\n"
          ]
        },
        {
          "name": "stdout",
          "output_type": "stream",
          "text": [
            "Moving model to device:  cpu\n"
          ]
        },
        {
          "name": "stderr",
          "output_type": "stream",
          "text": [
            "Chain 2: 100%|██████████| 25/25 [00:00<00:00, 32.21it/s]\n"
          ]
        },
        {
          "name": "stdout",
          "output_type": "stream",
          "text": [
            "Moving model to device:  cpu\n"
          ]
        },
        {
          "name": "stderr",
          "output_type": "stream",
          "text": [
            "Chain 3: 100%|██████████| 25/25 [00:00<00:00, 34.76it/s]\n"
          ]
        },
        {
          "name": "stdout",
          "output_type": "stream",
          "text": [
            "Moving model to device:  cpu\n"
          ]
        },
        {
          "name": "stderr",
          "output_type": "stream",
          "text": [
            "Chain 4: 100%|██████████| 25/25 [00:00<00:00, 33.53it/s]\n"
          ]
        },
        {
          "name": "stdout",
          "output_type": "stream",
          "text": [
            "Moving model to device:  cpu\n"
          ]
        },
        {
          "name": "stderr",
          "output_type": "stream",
          "text": [
            "Chain 5: 100%|██████████| 25/25 [00:00<00:00, 33.87it/s]\n"
          ]
        },
        {
          "name": "stdout",
          "output_type": "stream",
          "text": [
            "Moving model to device:  cpu\n"
          ]
        },
        {
          "name": "stderr",
          "output_type": "stream",
          "text": [
            "Chain 6: 100%|██████████| 25/25 [00:00<00:00, 32.17it/s]\n"
          ]
        },
        {
          "name": "stdout",
          "output_type": "stream",
          "text": [
            "Moving model to device:  cpu\n"
          ]
        },
        {
          "name": "stderr",
          "output_type": "stream",
          "text": [
            "Chain 7: 100%|██████████| 25/25 [00:00<00:00, 34.02it/s]\n"
          ]
        },
        {
          "name": "stdout",
          "output_type": "stream",
          "text": [
            "Moving model to device:  cpu\n"
          ]
        },
        {
          "name": "stderr",
          "output_type": "stream",
          "text": [
            "Chain 8: 100%|██████████| 25/25 [00:00<00:00, 33.54it/s]\n"
          ]
        },
        {
          "name": "stdout",
          "output_type": "stream",
          "text": [
            "Moving model to device:  cpu\n"
          ]
        },
        {
          "name": "stderr",
          "output_type": "stream",
          "text": [
            "Chain 9: 100%|██████████| 25/25 [00:00<00:00, 34.17it/s]\n"
          ]
        },
        {
          "name": "stdout",
          "output_type": "stream",
          "text": [
            "Moving model to device:  cpu\n"
          ]
        },
        {
          "name": "stderr",
          "output_type": "stream",
          "text": [
            "Chain 10: 100%|██████████| 25/25 [00:00<00:00, 32.07it/s]\n"
          ]
        },
        {
          "name": "stdout",
          "output_type": "stream",
          "text": [
            "Moving model to device:  cpu\n"
          ]
        },
        {
          "name": "stderr",
          "output_type": "stream",
          "text": [
            "Chain 11: 100%|██████████| 25/25 [00:00<00:00, 33.18it/s]\n"
          ]
        },
        {
          "name": "stdout",
          "output_type": "stream",
          "text": [
            "Moving model to device:  cpu\n"
          ]
        },
        {
          "name": "stderr",
          "output_type": "stream",
          "text": [
            "Chain 12: 100%|██████████| 25/25 [00:00<00:00, 33.76it/s]\n"
          ]
        },
        {
          "name": "stdout",
          "output_type": "stream",
          "text": [
            "Moving model to device:  cpu\n"
          ]
        },
        {
          "name": "stderr",
          "output_type": "stream",
          "text": [
            "Chain 13: 100%|██████████| 25/25 [00:00<00:00, 28.97it/s]\n"
          ]
        },
        {
          "name": "stdout",
          "output_type": "stream",
          "text": [
            "Moving model to device:  cpu\n"
          ]
        },
        {
          "name": "stderr",
          "output_type": "stream",
          "text": [
            "Chain 14: 100%|██████████| 25/25 [00:00<00:00, 32.01it/s]\n"
          ]
        },
        {
          "name": "stdout",
          "output_type": "stream",
          "text": [
            "result = 807.298828125\n",
            "Moving model to device:  cpu\n",
            "Moving model to device:  cpu\n",
            "Moving model to device:  cpu\n"
          ]
        },
        {
          "name": "stderr",
          "output_type": "stream",
          "text": [
            "Chain 0: 100%|██████████| 25/25 [00:00<00:00, 33.79it/s]\n"
          ]
        },
        {
          "name": "stdout",
          "output_type": "stream",
          "text": [
            "Moving model to device:  cpu\n"
          ]
        },
        {
          "name": "stderr",
          "output_type": "stream",
          "text": [
            "Chain 1: 100%|██████████| 25/25 [00:00<00:00, 33.31it/s]\n"
          ]
        },
        {
          "name": "stdout",
          "output_type": "stream",
          "text": [
            "Moving model to device:  cpu\n"
          ]
        },
        {
          "name": "stderr",
          "output_type": "stream",
          "text": [
            "Chain 2: 100%|██████████| 25/25 [00:00<00:00, 33.64it/s]\n"
          ]
        },
        {
          "name": "stdout",
          "output_type": "stream",
          "text": [
            "Moving model to device:  cpu\n"
          ]
        },
        {
          "name": "stderr",
          "output_type": "stream",
          "text": [
            "Chain 3: 100%|██████████| 25/25 [00:00<00:00, 31.24it/s]\n"
          ]
        },
        {
          "name": "stdout",
          "output_type": "stream",
          "text": [
            "Moving model to device:  cpu\n"
          ]
        },
        {
          "name": "stderr",
          "output_type": "stream",
          "text": [
            "Chain 4: 100%|██████████| 25/25 [00:00<00:00, 33.38it/s]\n"
          ]
        },
        {
          "name": "stdout",
          "output_type": "stream",
          "text": [
            "Moving model to device:  cpu\n"
          ]
        },
        {
          "name": "stderr",
          "output_type": "stream",
          "text": [
            "Chain 5: 100%|██████████| 25/25 [00:00<00:00, 33.56it/s]\n"
          ]
        },
        {
          "name": "stdout",
          "output_type": "stream",
          "text": [
            "Moving model to device:  cpu\n"
          ]
        },
        {
          "name": "stderr",
          "output_type": "stream",
          "text": [
            "Chain 6: 100%|██████████| 25/25 [00:00<00:00, 33.20it/s]\n"
          ]
        },
        {
          "name": "stdout",
          "output_type": "stream",
          "text": [
            "Moving model to device:  cpu\n"
          ]
        },
        {
          "name": "stderr",
          "output_type": "stream",
          "text": [
            "Chain 7: 100%|██████████| 25/25 [00:00<00:00, 31.11it/s]\n"
          ]
        },
        {
          "name": "stdout",
          "output_type": "stream",
          "text": [
            "Moving model to device:  cpu\n"
          ]
        },
        {
          "name": "stderr",
          "output_type": "stream",
          "text": [
            "Chain 8: 100%|██████████| 25/25 [00:00<00:00, 28.54it/s]\n"
          ]
        },
        {
          "name": "stdout",
          "output_type": "stream",
          "text": [
            "Moving model to device:  cpu\n"
          ]
        },
        {
          "name": "stderr",
          "output_type": "stream",
          "text": [
            "Chain 9: 100%|██████████| 25/25 [00:00<00:00, 33.28it/s]\n"
          ]
        },
        {
          "name": "stdout",
          "output_type": "stream",
          "text": [
            "Moving model to device:  cpu\n"
          ]
        },
        {
          "name": "stderr",
          "output_type": "stream",
          "text": [
            "Chain 10: 100%|██████████| 25/25 [00:00<00:00, 33.49it/s]\n"
          ]
        },
        {
          "name": "stdout",
          "output_type": "stream",
          "text": [
            "Moving model to device:  cpu\n"
          ]
        },
        {
          "name": "stderr",
          "output_type": "stream",
          "text": [
            "Chain 11: 100%|██████████| 25/25 [00:00<00:00, 33.53it/s]\n"
          ]
        },
        {
          "name": "stdout",
          "output_type": "stream",
          "text": [
            "Moving model to device:  cpu\n"
          ]
        },
        {
          "name": "stderr",
          "output_type": "stream",
          "text": [
            "Chain 12: 100%|██████████| 25/25 [00:00<00:00, 31.64it/s]\n"
          ]
        },
        {
          "name": "stdout",
          "output_type": "stream",
          "text": [
            "Moving model to device:  cpu\n"
          ]
        },
        {
          "name": "stderr",
          "output_type": "stream",
          "text": [
            "Chain 13: 100%|██████████| 25/25 [00:00<00:00, 33.92it/s]\n"
          ]
        },
        {
          "name": "stdout",
          "output_type": "stream",
          "text": [
            "Moving model to device:  cpu\n"
          ]
        },
        {
          "name": "stderr",
          "output_type": "stream",
          "text": [
            "Chain 14: 100%|██████████| 25/25 [00:00<00:00, 33.24it/s]\n"
          ]
        },
        {
          "name": "stdout",
          "output_type": "stream",
          "text": [
            "result = 798.8726806640625\n",
            "Moving model to device:  cpu\n",
            "Moving model to device:  cpu\n",
            "Moving model to device:  cpu\n"
          ]
        },
        {
          "name": "stderr",
          "output_type": "stream",
          "text": [
            "Chain 0: 100%|██████████| 25/25 [00:00<00:00, 31.27it/s]\n"
          ]
        },
        {
          "name": "stdout",
          "output_type": "stream",
          "text": [
            "Moving model to device:  cpu\n"
          ]
        },
        {
          "name": "stderr",
          "output_type": "stream",
          "text": [
            "Chain 1: 100%|██████████| 25/25 [00:00<00:00, 31.18it/s]\n"
          ]
        },
        {
          "name": "stdout",
          "output_type": "stream",
          "text": [
            "Moving model to device:  cpu\n"
          ]
        },
        {
          "name": "stderr",
          "output_type": "stream",
          "text": [
            "Chain 2: 100%|██████████| 25/25 [00:00<00:00, 28.60it/s]\n"
          ]
        },
        {
          "name": "stdout",
          "output_type": "stream",
          "text": [
            "Moving model to device:  cpu\n"
          ]
        },
        {
          "name": "stderr",
          "output_type": "stream",
          "text": [
            "Chain 3: 100%|██████████| 25/25 [00:00<00:00, 33.73it/s]\n"
          ]
        },
        {
          "name": "stdout",
          "output_type": "stream",
          "text": [
            "Moving model to device:  cpu\n"
          ]
        },
        {
          "name": "stderr",
          "output_type": "stream",
          "text": [
            "Chain 4: 100%|██████████| 25/25 [00:00<00:00, 33.97it/s]\n"
          ]
        },
        {
          "name": "stdout",
          "output_type": "stream",
          "text": [
            "Moving model to device:  cpu\n"
          ]
        },
        {
          "name": "stderr",
          "output_type": "stream",
          "text": [
            "Chain 5: 100%|██████████| 25/25 [00:00<00:00, 31.63it/s]\n"
          ]
        },
        {
          "name": "stdout",
          "output_type": "stream",
          "text": [
            "Moving model to device:  cpu\n"
          ]
        },
        {
          "name": "stderr",
          "output_type": "stream",
          "text": [
            "Chain 6: 100%|██████████| 25/25 [00:00<00:00, 33.71it/s]\n"
          ]
        },
        {
          "name": "stdout",
          "output_type": "stream",
          "text": [
            "Moving model to device:  cpu\n"
          ]
        },
        {
          "name": "stderr",
          "output_type": "stream",
          "text": [
            "Chain 7: 100%|██████████| 25/25 [00:00<00:00, 33.51it/s]\n"
          ]
        },
        {
          "name": "stdout",
          "output_type": "stream",
          "text": [
            "Moving model to device:  cpu\n"
          ]
        },
        {
          "name": "stderr",
          "output_type": "stream",
          "text": [
            "Chain 8: 100%|██████████| 25/25 [00:00<00:00, 33.22it/s]\n"
          ]
        },
        {
          "name": "stdout",
          "output_type": "stream",
          "text": [
            "Moving model to device:  cpu\n"
          ]
        },
        {
          "name": "stderr",
          "output_type": "stream",
          "text": [
            "Chain 9: 100%|██████████| 25/25 [00:00<00:00, 31.65it/s]\n"
          ]
        },
        {
          "name": "stdout",
          "output_type": "stream",
          "text": [
            "Moving model to device:  cpu\n"
          ]
        },
        {
          "name": "stderr",
          "output_type": "stream",
          "text": [
            "Chain 10: 100%|██████████| 25/25 [00:00<00:00, 32.94it/s]\n"
          ]
        },
        {
          "name": "stdout",
          "output_type": "stream",
          "text": [
            "Moving model to device:  cpu\n"
          ]
        },
        {
          "name": "stderr",
          "output_type": "stream",
          "text": [
            "Chain 11: 100%|██████████| 25/25 [00:00<00:00, 32.12it/s]\n"
          ]
        },
        {
          "name": "stdout",
          "output_type": "stream",
          "text": [
            "Moving model to device:  cpu\n"
          ]
        },
        {
          "name": "stderr",
          "output_type": "stream",
          "text": [
            "Chain 12: 100%|██████████| 25/25 [00:00<00:00, 33.33it/s]\n"
          ]
        },
        {
          "name": "stdout",
          "output_type": "stream",
          "text": [
            "Moving model to device:  cpu\n"
          ]
        },
        {
          "name": "stderr",
          "output_type": "stream",
          "text": [
            "Chain 13: 100%|██████████| 25/25 [00:00<00:00, 27.30it/s]\n"
          ]
        },
        {
          "name": "stdout",
          "output_type": "stream",
          "text": [
            "Moving model to device:  cpu\n"
          ]
        },
        {
          "name": "stderr",
          "output_type": "stream",
          "text": [
            "Chain 14: 100%|██████████| 25/25 [00:00<00:00, 33.51it/s]\n"
          ]
        },
        {
          "name": "stdout",
          "output_type": "stream",
          "text": [
            "result = 794.922607421875\n",
            "Moving model to device:  cpu\n",
            "Moving model to device:  cpu\n",
            "Moving model to device:  cpu\n"
          ]
        },
        {
          "name": "stderr",
          "output_type": "stream",
          "text": [
            "Chain 0: 100%|██████████| 25/25 [00:00<00:00, 33.96it/s]\n"
          ]
        },
        {
          "name": "stdout",
          "output_type": "stream",
          "text": [
            "Moving model to device:  cpu\n"
          ]
        },
        {
          "name": "stderr",
          "output_type": "stream",
          "text": [
            "Chain 1: 100%|██████████| 25/25 [00:00<00:00, 33.56it/s]\n"
          ]
        },
        {
          "name": "stdout",
          "output_type": "stream",
          "text": [
            "Moving model to device:  cpu\n"
          ]
        },
        {
          "name": "stderr",
          "output_type": "stream",
          "text": [
            "Chain 2: 100%|██████████| 25/25 [00:00<00:00, 31.54it/s]\n"
          ]
        },
        {
          "name": "stdout",
          "output_type": "stream",
          "text": [
            "Moving model to device:  cpu\n"
          ]
        },
        {
          "name": "stderr",
          "output_type": "stream",
          "text": [
            "Chain 3: 100%|██████████| 25/25 [00:00<00:00, 32.64it/s]\n"
          ]
        },
        {
          "name": "stdout",
          "output_type": "stream",
          "text": [
            "Moving model to device:  cpu\n"
          ]
        },
        {
          "name": "stderr",
          "output_type": "stream",
          "text": [
            "Chain 4: 100%|██████████| 25/25 [00:00<00:00, 33.25it/s]\n"
          ]
        },
        {
          "name": "stdout",
          "output_type": "stream",
          "text": [
            "Moving model to device:  cpu\n"
          ]
        },
        {
          "name": "stderr",
          "output_type": "stream",
          "text": [
            "Chain 5: 100%|██████████| 25/25 [00:00<00:00, 32.95it/s]\n"
          ]
        },
        {
          "name": "stdout",
          "output_type": "stream",
          "text": [
            "Moving model to device:  cpu\n"
          ]
        },
        {
          "name": "stderr",
          "output_type": "stream",
          "text": [
            "Chain 6: 100%|██████████| 25/25 [00:00<00:00, 30.53it/s]\n"
          ]
        },
        {
          "name": "stdout",
          "output_type": "stream",
          "text": [
            "Moving model to device:  cpu\n"
          ]
        },
        {
          "name": "stderr",
          "output_type": "stream",
          "text": [
            "Chain 7: 100%|██████████| 25/25 [00:00<00:00, 33.25it/s]\n"
          ]
        },
        {
          "name": "stdout",
          "output_type": "stream",
          "text": [
            "Moving model to device:  cpu\n"
          ]
        },
        {
          "name": "stderr",
          "output_type": "stream",
          "text": [
            "Chain 8: 100%|██████████| 25/25 [00:00<00:00, 28.49it/s]\n"
          ]
        },
        {
          "name": "stdout",
          "output_type": "stream",
          "text": [
            "Moving model to device:  cpu\n"
          ]
        },
        {
          "name": "stderr",
          "output_type": "stream",
          "text": [
            "Chain 9: 100%|██████████| 25/25 [00:00<00:00, 33.47it/s]\n"
          ]
        },
        {
          "name": "stdout",
          "output_type": "stream",
          "text": [
            "Moving model to device:  cpu\n"
          ]
        },
        {
          "name": "stderr",
          "output_type": "stream",
          "text": [
            "Chain 10: 100%|██████████| 25/25 [00:00<00:00, 31.98it/s]\n"
          ]
        },
        {
          "name": "stdout",
          "output_type": "stream",
          "text": [
            "Moving model to device:  cpu\n"
          ]
        },
        {
          "name": "stderr",
          "output_type": "stream",
          "text": [
            "Chain 11: 100%|██████████| 25/25 [00:00<00:00, 33.26it/s]\n"
          ]
        },
        {
          "name": "stdout",
          "output_type": "stream",
          "text": [
            "Moving model to device:  cpu\n"
          ]
        },
        {
          "name": "stderr",
          "output_type": "stream",
          "text": [
            "Chain 12: 100%|██████████| 25/25 [00:00<00:00, 33.73it/s]\n"
          ]
        },
        {
          "name": "stdout",
          "output_type": "stream",
          "text": [
            "Moving model to device:  cpu\n"
          ]
        },
        {
          "name": "stderr",
          "output_type": "stream",
          "text": [
            "Chain 13: 100%|██████████| 25/25 [00:00<00:00, 33.81it/s]\n"
          ]
        },
        {
          "name": "stdout",
          "output_type": "stream",
          "text": [
            "Moving model to device:  cpu\n"
          ]
        },
        {
          "name": "stderr",
          "output_type": "stream",
          "text": [
            "Chain 14: 100%|██████████| 25/25 [00:00<00:00, 31.86it/s]\n"
          ]
        },
        {
          "name": "stdout",
          "output_type": "stream",
          "text": [
            "result = 770.2195434570312\n",
            "Moving model to device:  cpu\n",
            "Moving model to device:  cpu\n",
            "Moving model to device:  cpu\n"
          ]
        },
        {
          "name": "stderr",
          "output_type": "stream",
          "text": [
            "Chain 0: 100%|██████████| 25/25 [00:00<00:00, 33.44it/s]\n"
          ]
        },
        {
          "name": "stdout",
          "output_type": "stream",
          "text": [
            "Moving model to device:  cpu\n"
          ]
        },
        {
          "name": "stderr",
          "output_type": "stream",
          "text": [
            "Chain 1: 100%|██████████| 25/25 [00:00<00:00, 33.46it/s]\n"
          ]
        },
        {
          "name": "stdout",
          "output_type": "stream",
          "text": [
            "Moving model to device:  cpu\n"
          ]
        },
        {
          "name": "stderr",
          "output_type": "stream",
          "text": [
            "Chain 2: 100%|██████████| 25/25 [00:00<00:00, 26.83it/s]\n"
          ]
        },
        {
          "name": "stdout",
          "output_type": "stream",
          "text": [
            "Moving model to device:  cpu\n"
          ]
        },
        {
          "name": "stderr",
          "output_type": "stream",
          "text": [
            "Chain 3: 100%|██████████| 25/25 [00:00<00:00, 31.19it/s]\n"
          ]
        },
        {
          "name": "stdout",
          "output_type": "stream",
          "text": [
            "Moving model to device:  cpu\n"
          ]
        },
        {
          "name": "stderr",
          "output_type": "stream",
          "text": [
            "Chain 4: 100%|██████████| 25/25 [00:00<00:00, 32.85it/s]\n"
          ]
        },
        {
          "name": "stdout",
          "output_type": "stream",
          "text": [
            "Moving model to device:  cpu\n"
          ]
        },
        {
          "name": "stderr",
          "output_type": "stream",
          "text": [
            "Chain 5: 100%|██████████| 25/25 [00:00<00:00, 32.82it/s]\n"
          ]
        },
        {
          "name": "stdout",
          "output_type": "stream",
          "text": [
            "Moving model to device:  cpu\n"
          ]
        },
        {
          "name": "stderr",
          "output_type": "stream",
          "text": [
            "Chain 6: 100%|██████████| 25/25 [00:00<00:00, 32.95it/s]\n"
          ]
        },
        {
          "name": "stdout",
          "output_type": "stream",
          "text": [
            "Moving model to device:  cpu\n"
          ]
        },
        {
          "name": "stderr",
          "output_type": "stream",
          "text": [
            "Chain 7: 100%|██████████| 25/25 [00:00<00:00, 30.54it/s]\n"
          ]
        },
        {
          "name": "stdout",
          "output_type": "stream",
          "text": [
            "Moving model to device:  cpu\n"
          ]
        },
        {
          "name": "stderr",
          "output_type": "stream",
          "text": [
            "Chain 8: 100%|██████████| 25/25 [00:00<00:00, 28.39it/s]\n"
          ]
        },
        {
          "name": "stdout",
          "output_type": "stream",
          "text": [
            "Moving model to device:  cpu\n"
          ]
        },
        {
          "name": "stderr",
          "output_type": "stream",
          "text": [
            "Chain 9: 100%|██████████| 25/25 [00:00<00:00, 32.65it/s]\n"
          ]
        },
        {
          "name": "stdout",
          "output_type": "stream",
          "text": [
            "Moving model to device:  cpu\n"
          ]
        },
        {
          "name": "stderr",
          "output_type": "stream",
          "text": [
            "Chain 10: 100%|██████████| 25/25 [00:00<00:00, 33.00it/s]\n"
          ]
        },
        {
          "name": "stdout",
          "output_type": "stream",
          "text": [
            "Moving model to device:  cpu\n"
          ]
        },
        {
          "name": "stderr",
          "output_type": "stream",
          "text": [
            "Chain 11: 100%|██████████| 25/25 [00:00<00:00, 31.05it/s]\n"
          ]
        },
        {
          "name": "stdout",
          "output_type": "stream",
          "text": [
            "Moving model to device:  cpu\n"
          ]
        },
        {
          "name": "stderr",
          "output_type": "stream",
          "text": [
            "Chain 12: 100%|██████████| 25/25 [00:00<00:00, 32.76it/s]\n"
          ]
        },
        {
          "name": "stdout",
          "output_type": "stream",
          "text": [
            "Moving model to device:  cpu\n"
          ]
        },
        {
          "name": "stderr",
          "output_type": "stream",
          "text": [
            "Chain 13: 100%|██████████| 25/25 [00:00<00:00, 32.81it/s]\n"
          ]
        },
        {
          "name": "stdout",
          "output_type": "stream",
          "text": [
            "Moving model to device:  cpu\n"
          ]
        },
        {
          "name": "stderr",
          "output_type": "stream",
          "text": [
            "Chain 14: 100%|██████████| 25/25 [00:00<00:00, 28.77it/s]\n"
          ]
        },
        {
          "name": "stdout",
          "output_type": "stream",
          "text": [
            "result = 786.487548828125\n",
            "Moving model to device:  cpu\n",
            "Moving model to device:  cpu\n",
            "Moving model to device:  cpu\n"
          ]
        },
        {
          "name": "stderr",
          "output_type": "stream",
          "text": [
            "Chain 0: 100%|██████████| 25/25 [00:00<00:00, 31.04it/s]\n"
          ]
        },
        {
          "name": "stdout",
          "output_type": "stream",
          "text": [
            "Moving model to device:  cpu\n"
          ]
        },
        {
          "name": "stderr",
          "output_type": "stream",
          "text": [
            "Chain 1: 100%|██████████| 25/25 [00:00<00:00, 32.13it/s]\n"
          ]
        },
        {
          "name": "stdout",
          "output_type": "stream",
          "text": [
            "Moving model to device:  cpu\n"
          ]
        },
        {
          "name": "stderr",
          "output_type": "stream",
          "text": [
            "Chain 2: 100%|██████████| 25/25 [00:00<00:00, 32.01it/s]\n"
          ]
        },
        {
          "name": "stdout",
          "output_type": "stream",
          "text": [
            "Moving model to device:  cpu\n"
          ]
        },
        {
          "name": "stderr",
          "output_type": "stream",
          "text": [
            "Chain 3: 100%|██████████| 25/25 [00:00<00:00, 32.92it/s]\n"
          ]
        },
        {
          "name": "stdout",
          "output_type": "stream",
          "text": [
            "Moving model to device:  cpu\n"
          ]
        },
        {
          "name": "stderr",
          "output_type": "stream",
          "text": [
            "Chain 4: 100%|██████████| 25/25 [00:00<00:00, 31.04it/s]\n"
          ]
        },
        {
          "name": "stdout",
          "output_type": "stream",
          "text": [
            "Moving model to device:  cpu\n"
          ]
        },
        {
          "name": "stderr",
          "output_type": "stream",
          "text": [
            "Chain 5: 100%|██████████| 25/25 [00:00<00:00, 32.54it/s]\n"
          ]
        },
        {
          "name": "stdout",
          "output_type": "stream",
          "text": [
            "Moving model to device:  cpu\n"
          ]
        },
        {
          "name": "stderr",
          "output_type": "stream",
          "text": [
            "Chain 6: 100%|██████████| 25/25 [00:00<00:00, 32.68it/s]\n"
          ]
        },
        {
          "name": "stdout",
          "output_type": "stream",
          "text": [
            "Moving model to device:  cpu\n"
          ]
        },
        {
          "name": "stderr",
          "output_type": "stream",
          "text": [
            "Chain 7: 100%|██████████| 25/25 [00:00<00:00, 32.52it/s]\n"
          ]
        },
        {
          "name": "stdout",
          "output_type": "stream",
          "text": [
            "Moving model to device:  cpu\n"
          ]
        },
        {
          "name": "stderr",
          "output_type": "stream",
          "text": [
            "Chain 8: 100%|██████████| 25/25 [00:00<00:00, 30.93it/s]\n"
          ]
        },
        {
          "name": "stdout",
          "output_type": "stream",
          "text": [
            "Moving model to device:  cpu\n"
          ]
        },
        {
          "name": "stderr",
          "output_type": "stream",
          "text": [
            "Chain 9: 100%|██████████| 25/25 [00:00<00:00, 27.67it/s]\n"
          ]
        },
        {
          "name": "stdout",
          "output_type": "stream",
          "text": [
            "Moving model to device:  cpu\n"
          ]
        },
        {
          "name": "stderr",
          "output_type": "stream",
          "text": [
            "Chain 10: 100%|██████████| 25/25 [00:00<00:00, 32.82it/s]\n"
          ]
        },
        {
          "name": "stdout",
          "output_type": "stream",
          "text": [
            "Moving model to device:  cpu\n"
          ]
        },
        {
          "name": "stderr",
          "output_type": "stream",
          "text": [
            "Chain 11: 100%|██████████| 25/25 [00:00<00:00, 33.19it/s]\n"
          ]
        },
        {
          "name": "stdout",
          "output_type": "stream",
          "text": [
            "Moving model to device:  cpu\n"
          ]
        },
        {
          "name": "stderr",
          "output_type": "stream",
          "text": [
            "Chain 12: 100%|██████████| 25/25 [00:00<00:00, 31.32it/s]\n"
          ]
        },
        {
          "name": "stdout",
          "output_type": "stream",
          "text": [
            "Moving model to device:  cpu\n"
          ]
        },
        {
          "name": "stderr",
          "output_type": "stream",
          "text": [
            "Chain 13: 100%|██████████| 25/25 [00:00<00:00, 32.55it/s]\n"
          ]
        },
        {
          "name": "stdout",
          "output_type": "stream",
          "text": [
            "Moving model to device:  cpu\n"
          ]
        },
        {
          "name": "stderr",
          "output_type": "stream",
          "text": [
            "Chain 14: 100%|██████████| 25/25 [00:00<00:00, 33.07it/s]\n"
          ]
        },
        {
          "name": "stdout",
          "output_type": "stream",
          "text": [
            "result = 793.6002197265625\n",
            "Moving model to device:  cpu\n",
            "Moving model to device:  cpu\n",
            "Moving model to device:  cpu\n"
          ]
        },
        {
          "name": "stderr",
          "output_type": "stream",
          "text": [
            "Chain 0: 100%|██████████| 25/25 [00:00<00:00, 32.03it/s]\n"
          ]
        },
        {
          "name": "stdout",
          "output_type": "stream",
          "text": [
            "Moving model to device:  cpu\n"
          ]
        },
        {
          "name": "stderr",
          "output_type": "stream",
          "text": [
            "Chain 1: 100%|██████████| 25/25 [00:00<00:00, 30.52it/s]\n"
          ]
        },
        {
          "name": "stdout",
          "output_type": "stream",
          "text": [
            "Moving model to device:  cpu\n"
          ]
        },
        {
          "name": "stderr",
          "output_type": "stream",
          "text": [
            "Chain 2: 100%|██████████| 25/25 [00:00<00:00, 33.49it/s]\n"
          ]
        },
        {
          "name": "stdout",
          "output_type": "stream",
          "text": [
            "Moving model to device:  cpu\n"
          ]
        },
        {
          "name": "stderr",
          "output_type": "stream",
          "text": [
            "Chain 3: 100%|██████████| 25/25 [00:00<00:00, 26.49it/s]\n"
          ]
        },
        {
          "name": "stdout",
          "output_type": "stream",
          "text": [
            "Moving model to device:  cpu\n"
          ]
        },
        {
          "name": "stderr",
          "output_type": "stream",
          "text": [
            "Chain 4: 100%|██████████| 25/25 [00:00<00:00, 31.13it/s]\n"
          ]
        },
        {
          "name": "stdout",
          "output_type": "stream",
          "text": [
            "Moving model to device:  cpu\n"
          ]
        },
        {
          "name": "stderr",
          "output_type": "stream",
          "text": [
            "Chain 5: 100%|██████████| 25/25 [00:00<00:00, 31.40it/s]\n"
          ]
        },
        {
          "name": "stdout",
          "output_type": "stream",
          "text": [
            "Moving model to device:  cpu\n"
          ]
        },
        {
          "name": "stderr",
          "output_type": "stream",
          "text": [
            "Chain 6: 100%|██████████| 25/25 [00:00<00:00, 32.46it/s]\n"
          ]
        },
        {
          "name": "stdout",
          "output_type": "stream",
          "text": [
            "Moving model to device:  cpu\n"
          ]
        },
        {
          "name": "stderr",
          "output_type": "stream",
          "text": [
            "Chain 7: 100%|██████████| 25/25 [00:00<00:00, 32.93it/s]\n"
          ]
        },
        {
          "name": "stdout",
          "output_type": "stream",
          "text": [
            "Moving model to device:  cpu\n"
          ]
        },
        {
          "name": "stderr",
          "output_type": "stream",
          "text": [
            "Chain 8: 100%|██████████| 25/25 [00:00<00:00, 35.37it/s]\n"
          ]
        },
        {
          "name": "stdout",
          "output_type": "stream",
          "text": [
            "Moving model to device:  cpu\n"
          ]
        },
        {
          "name": "stderr",
          "output_type": "stream",
          "text": [
            "Chain 9: 100%|██████████| 25/25 [00:00<00:00, 32.96it/s]\n"
          ]
        },
        {
          "name": "stdout",
          "output_type": "stream",
          "text": [
            "Moving model to device:  cpu\n"
          ]
        },
        {
          "name": "stderr",
          "output_type": "stream",
          "text": [
            "Chain 10: 100%|██████████| 25/25 [00:00<00:00, 34.94it/s]\n"
          ]
        },
        {
          "name": "stdout",
          "output_type": "stream",
          "text": [
            "Moving model to device:  cpu\n"
          ]
        },
        {
          "name": "stderr",
          "output_type": "stream",
          "text": [
            "Chain 11: 100%|██████████| 25/25 [00:00<00:00, 35.76it/s]\n"
          ]
        },
        {
          "name": "stdout",
          "output_type": "stream",
          "text": [
            "Moving model to device:  cpu\n"
          ]
        },
        {
          "name": "stderr",
          "output_type": "stream",
          "text": [
            "Chain 12: 100%|██████████| 25/25 [00:00<00:00, 35.28it/s]\n"
          ]
        },
        {
          "name": "stdout",
          "output_type": "stream",
          "text": [
            "Moving model to device:  cpu\n"
          ]
        },
        {
          "name": "stderr",
          "output_type": "stream",
          "text": [
            "Chain 13: 100%|██████████| 25/25 [00:00<00:00, 32.81it/s]\n"
          ]
        },
        {
          "name": "stdout",
          "output_type": "stream",
          "text": [
            "Moving model to device:  cpu\n"
          ]
        },
        {
          "name": "stderr",
          "output_type": "stream",
          "text": [
            "Chain 14: 100%|██████████| 25/25 [00:00<00:00, 35.07it/s]\n"
          ]
        },
        {
          "name": "stdout",
          "output_type": "stream",
          "text": [
            "result = 784.0667724609375\n",
            "Moving model to device:  cpu\n",
            "Moving model to device:  cpu\n",
            "Moving model to device:  cpu\n"
          ]
        },
        {
          "name": "stderr",
          "output_type": "stream",
          "text": [
            "Chain 0: 100%|██████████| 25/25 [00:00<00:00, 36.13it/s]\n"
          ]
        },
        {
          "name": "stdout",
          "output_type": "stream",
          "text": [
            "Moving model to device:  cpu\n"
          ]
        },
        {
          "name": "stderr",
          "output_type": "stream",
          "text": [
            "Chain 1: 100%|██████████| 25/25 [00:00<00:00, 34.95it/s]\n"
          ]
        },
        {
          "name": "stdout",
          "output_type": "stream",
          "text": [
            "Moving model to device:  cpu\n"
          ]
        },
        {
          "name": "stderr",
          "output_type": "stream",
          "text": [
            "Chain 2: 100%|██████████| 25/25 [00:00<00:00, 32.99it/s]\n"
          ]
        },
        {
          "name": "stdout",
          "output_type": "stream",
          "text": [
            "Moving model to device:  cpu\n"
          ]
        },
        {
          "name": "stderr",
          "output_type": "stream",
          "text": [
            "Chain 3: 100%|██████████| 25/25 [00:00<00:00, 34.77it/s]\n"
          ]
        },
        {
          "name": "stdout",
          "output_type": "stream",
          "text": [
            "Moving model to device:  cpu\n"
          ]
        },
        {
          "name": "stderr",
          "output_type": "stream",
          "text": [
            "Chain 4: 100%|██████████| 25/25 [00:00<00:00, 34.74it/s]\n"
          ]
        },
        {
          "name": "stdout",
          "output_type": "stream",
          "text": [
            "Moving model to device:  cpu\n"
          ]
        },
        {
          "name": "stderr",
          "output_type": "stream",
          "text": [
            "Chain 5: 100%|██████████| 25/25 [00:00<00:00, 33.82it/s]\n"
          ]
        },
        {
          "name": "stdout",
          "output_type": "stream",
          "text": [
            "Moving model to device:  cpu\n"
          ]
        },
        {
          "name": "stderr",
          "output_type": "stream",
          "text": [
            "Chain 6: 100%|██████████| 25/25 [00:00<00:00, 33.26it/s]\n"
          ]
        },
        {
          "name": "stdout",
          "output_type": "stream",
          "text": [
            "Moving model to device:  cpu\n"
          ]
        },
        {
          "name": "stderr",
          "output_type": "stream",
          "text": [
            "Chain 7: 100%|██████████| 25/25 [00:00<00:00, 34.10it/s]\n"
          ]
        },
        {
          "name": "stdout",
          "output_type": "stream",
          "text": [
            "Moving model to device:  cpu\n"
          ]
        },
        {
          "name": "stderr",
          "output_type": "stream",
          "text": [
            "Chain 8: 100%|██████████| 25/25 [00:00<00:00, 35.02it/s]\n"
          ]
        },
        {
          "name": "stdout",
          "output_type": "stream",
          "text": [
            "Moving model to device:  cpu\n"
          ]
        },
        {
          "name": "stderr",
          "output_type": "stream",
          "text": [
            "Chain 9: 100%|██████████| 25/25 [00:00<00:00, 35.01it/s]\n"
          ]
        },
        {
          "name": "stdout",
          "output_type": "stream",
          "text": [
            "Moving model to device:  cpu\n"
          ]
        },
        {
          "name": "stderr",
          "output_type": "stream",
          "text": [
            "Chain 10: 100%|██████████| 25/25 [00:00<00:00, 29.72it/s]\n"
          ]
        },
        {
          "name": "stdout",
          "output_type": "stream",
          "text": [
            "Moving model to device:  cpu\n"
          ]
        },
        {
          "name": "stderr",
          "output_type": "stream",
          "text": [
            "Chain 11: 100%|██████████| 25/25 [00:00<00:00, 33.48it/s]\n"
          ]
        },
        {
          "name": "stdout",
          "output_type": "stream",
          "text": [
            "Moving model to device:  cpu\n"
          ]
        },
        {
          "name": "stderr",
          "output_type": "stream",
          "text": [
            "Chain 12: 100%|██████████| 25/25 [00:00<00:00, 35.05it/s]\n"
          ]
        },
        {
          "name": "stdout",
          "output_type": "stream",
          "text": [
            "Moving model to device:  cpu\n"
          ]
        },
        {
          "name": "stderr",
          "output_type": "stream",
          "text": [
            "Chain 13: 100%|██████████| 25/25 [00:00<00:00, 35.15it/s]\n"
          ]
        },
        {
          "name": "stdout",
          "output_type": "stream",
          "text": [
            "Moving model to device:  cpu\n"
          ]
        },
        {
          "name": "stderr",
          "output_type": "stream",
          "text": [
            "Chain 14: 100%|██████████| 25/25 [00:00<00:00, 33.98it/s]\n"
          ]
        },
        {
          "name": "stdout",
          "output_type": "stream",
          "text": [
            "result = 782.9607543945312\n",
            "Moving model to device:  cpu\n",
            "Moving model to device:  cpu\n",
            "Moving model to device:  cpu\n"
          ]
        },
        {
          "name": "stderr",
          "output_type": "stream",
          "text": [
            "Chain 0: 100%|██████████| 25/25 [00:00<00:00, 32.73it/s]\n"
          ]
        },
        {
          "name": "stdout",
          "output_type": "stream",
          "text": [
            "Moving model to device:  cpu\n"
          ]
        },
        {
          "name": "stderr",
          "output_type": "stream",
          "text": [
            "Chain 1: 100%|██████████| 25/25 [00:00<00:00, 34.90it/s]\n"
          ]
        },
        {
          "name": "stdout",
          "output_type": "stream",
          "text": [
            "Moving model to device:  cpu\n"
          ]
        },
        {
          "name": "stderr",
          "output_type": "stream",
          "text": [
            "Chain 2: 100%|██████████| 25/25 [00:00<00:00, 35.31it/s]\n"
          ]
        },
        {
          "name": "stdout",
          "output_type": "stream",
          "text": [
            "Moving model to device:  cpu\n"
          ]
        },
        {
          "name": "stderr",
          "output_type": "stream",
          "text": [
            "Chain 3: 100%|██████████| 25/25 [00:00<00:00, 35.46it/s]\n"
          ]
        },
        {
          "name": "stdout",
          "output_type": "stream",
          "text": [
            "Moving model to device:  cpu\n"
          ]
        },
        {
          "name": "stderr",
          "output_type": "stream",
          "text": [
            "Chain 4: 100%|██████████| 25/25 [00:00<00:00, 28.14it/s]\n"
          ]
        },
        {
          "name": "stdout",
          "output_type": "stream",
          "text": [
            "Moving model to device:  cpu\n"
          ]
        },
        {
          "name": "stderr",
          "output_type": "stream",
          "text": [
            "Chain 5: 100%|██████████| 25/25 [00:00<00:00, 35.17it/s]\n"
          ]
        },
        {
          "name": "stdout",
          "output_type": "stream",
          "text": [
            "Moving model to device:  cpu\n"
          ]
        },
        {
          "name": "stderr",
          "output_type": "stream",
          "text": [
            "Chain 6: 100%|██████████| 25/25 [00:00<00:00, 34.50it/s]\n"
          ]
        },
        {
          "name": "stdout",
          "output_type": "stream",
          "text": [
            "Moving model to device:  cpu\n"
          ]
        },
        {
          "name": "stderr",
          "output_type": "stream",
          "text": [
            "Chain 7: 100%|██████████| 25/25 [00:00<00:00, 34.38it/s]\n"
          ]
        },
        {
          "name": "stdout",
          "output_type": "stream",
          "text": [
            "Moving model to device:  cpu\n"
          ]
        },
        {
          "name": "stderr",
          "output_type": "stream",
          "text": [
            "Chain 8: 100%|██████████| 25/25 [00:00<00:00, 35.18it/s]\n"
          ]
        },
        {
          "name": "stdout",
          "output_type": "stream",
          "text": [
            "Moving model to device:  cpu\n"
          ]
        },
        {
          "name": "stderr",
          "output_type": "stream",
          "text": [
            "Chain 9: 100%|██████████| 25/25 [00:00<00:00, 32.77it/s]\n"
          ]
        },
        {
          "name": "stdout",
          "output_type": "stream",
          "text": [
            "Moving model to device:  cpu\n"
          ]
        },
        {
          "name": "stderr",
          "output_type": "stream",
          "text": [
            "Chain 10: 100%|██████████| 25/25 [00:00<00:00, 34.22it/s]\n"
          ]
        },
        {
          "name": "stdout",
          "output_type": "stream",
          "text": [
            "Moving model to device:  cpu\n"
          ]
        },
        {
          "name": "stderr",
          "output_type": "stream",
          "text": [
            "Chain 11: 100%|██████████| 25/25 [00:00<00:00, 34.61it/s]\n"
          ]
        },
        {
          "name": "stdout",
          "output_type": "stream",
          "text": [
            "Moving model to device:  cpu\n"
          ]
        },
        {
          "name": "stderr",
          "output_type": "stream",
          "text": [
            "Chain 12: 100%|██████████| 25/25 [00:00<00:00, 33.98it/s]\n"
          ]
        },
        {
          "name": "stdout",
          "output_type": "stream",
          "text": [
            "Moving model to device:  cpu\n"
          ]
        },
        {
          "name": "stderr",
          "output_type": "stream",
          "text": [
            "Chain 13: 100%|██████████| 25/25 [00:00<00:00, 32.20it/s]\n"
          ]
        },
        {
          "name": "stdout",
          "output_type": "stream",
          "text": [
            "Moving model to device:  cpu\n"
          ]
        },
        {
          "name": "stderr",
          "output_type": "stream",
          "text": [
            "Chain 14: 100%|██████████| 25/25 [00:00<00:00, 34.22it/s]\n"
          ]
        },
        {
          "name": "stdout",
          "output_type": "stream",
          "text": [
            "result = 755.2130737304688\n",
            "Moving model to device:  cpu\n",
            "Moving model to device:  cpu\n",
            "Moving model to device:  cpu\n"
          ]
        },
        {
          "name": "stderr",
          "output_type": "stream",
          "text": [
            "Chain 0: 100%|██████████| 25/25 [00:00<00:00, 32.61it/s]\n"
          ]
        },
        {
          "name": "stdout",
          "output_type": "stream",
          "text": [
            "Moving model to device:  cpu\n"
          ]
        },
        {
          "name": "stderr",
          "output_type": "stream",
          "text": [
            "Chain 1: 100%|██████████| 25/25 [00:00<00:00, 33.88it/s]\n"
          ]
        },
        {
          "name": "stdout",
          "output_type": "stream",
          "text": [
            "Moving model to device:  cpu\n"
          ]
        },
        {
          "name": "stderr",
          "output_type": "stream",
          "text": [
            "Chain 2: 100%|██████████| 25/25 [00:00<00:00, 32.15it/s]\n"
          ]
        },
        {
          "name": "stdout",
          "output_type": "stream",
          "text": [
            "Moving model to device:  cpu\n"
          ]
        },
        {
          "name": "stderr",
          "output_type": "stream",
          "text": [
            "Chain 3: 100%|██████████| 25/25 [00:00<00:00, 34.84it/s]\n"
          ]
        },
        {
          "name": "stdout",
          "output_type": "stream",
          "text": [
            "Moving model to device:  cpu\n"
          ]
        },
        {
          "name": "stderr",
          "output_type": "stream",
          "text": [
            "Chain 4: 100%|██████████| 25/25 [00:00<00:00, 34.59it/s]\n"
          ]
        },
        {
          "name": "stdout",
          "output_type": "stream",
          "text": [
            "Moving model to device:  cpu\n"
          ]
        },
        {
          "name": "stderr",
          "output_type": "stream",
          "text": [
            "Chain 5: 100%|██████████| 25/25 [00:00<00:00, 34.28it/s]\n"
          ]
        },
        {
          "name": "stdout",
          "output_type": "stream",
          "text": [
            "Moving model to device:  cpu\n"
          ]
        },
        {
          "name": "stderr",
          "output_type": "stream",
          "text": [
            "Chain 6: 100%|██████████| 25/25 [00:00<00:00, 33.32it/s]\n"
          ]
        },
        {
          "name": "stdout",
          "output_type": "stream",
          "text": [
            "Moving model to device:  cpu\n"
          ]
        },
        {
          "name": "stderr",
          "output_type": "stream",
          "text": [
            "Chain 7: 100%|██████████| 25/25 [00:00<00:00, 35.20it/s]\n"
          ]
        },
        {
          "name": "stdout",
          "output_type": "stream",
          "text": [
            "Moving model to device:  cpu\n"
          ]
        },
        {
          "name": "stderr",
          "output_type": "stream",
          "text": [
            "Chain 8: 100%|██████████| 25/25 [00:00<00:00, 34.10it/s]\n"
          ]
        },
        {
          "name": "stdout",
          "output_type": "stream",
          "text": [
            "Moving model to device:  cpu\n"
          ]
        },
        {
          "name": "stderr",
          "output_type": "stream",
          "text": [
            "Chain 9: 100%|██████████| 25/25 [00:00<00:00, 34.95it/s]\n"
          ]
        },
        {
          "name": "stdout",
          "output_type": "stream",
          "text": [
            "Moving model to device:  cpu\n"
          ]
        },
        {
          "name": "stderr",
          "output_type": "stream",
          "text": [
            "Chain 10: 100%|██████████| 25/25 [00:00<00:00, 29.29it/s]\n"
          ]
        },
        {
          "name": "stdout",
          "output_type": "stream",
          "text": [
            "Moving model to device:  cpu\n"
          ]
        },
        {
          "name": "stderr",
          "output_type": "stream",
          "text": [
            "Chain 11: 100%|██████████| 25/25 [00:00<00:00, 32.40it/s]\n"
          ]
        },
        {
          "name": "stdout",
          "output_type": "stream",
          "text": [
            "Moving model to device:  cpu\n"
          ]
        },
        {
          "name": "stderr",
          "output_type": "stream",
          "text": [
            "Chain 12: 100%|██████████| 25/25 [00:00<00:00, 34.05it/s]\n"
          ]
        },
        {
          "name": "stdout",
          "output_type": "stream",
          "text": [
            "Moving model to device:  cpu\n"
          ]
        },
        {
          "name": "stderr",
          "output_type": "stream",
          "text": [
            "Chain 13: 100%|██████████| 25/25 [00:00<00:00, 34.42it/s]\n"
          ]
        },
        {
          "name": "stdout",
          "output_type": "stream",
          "text": [
            "Moving model to device:  cpu\n"
          ]
        },
        {
          "name": "stderr",
          "output_type": "stream",
          "text": [
            "Chain 14: 100%|██████████| 25/25 [00:00<00:00, 34.68it/s]\n"
          ]
        },
        {
          "name": "stdout",
          "output_type": "stream",
          "text": [
            "result = 776.864990234375\n",
            "Moving model to device:  cpu\n",
            "Moving model to device:  cpu\n",
            "Moving model to device:  cpu\n"
          ]
        },
        {
          "name": "stderr",
          "output_type": "stream",
          "text": [
            "Chain 0: 100%|██████████| 25/25 [00:00<00:00, 32.53it/s]\n"
          ]
        },
        {
          "name": "stdout",
          "output_type": "stream",
          "text": [
            "Moving model to device:  cpu\n"
          ]
        },
        {
          "name": "stderr",
          "output_type": "stream",
          "text": [
            "Chain 1: 100%|██████████| 25/25 [00:00<00:00, 34.51it/s]\n"
          ]
        },
        {
          "name": "stdout",
          "output_type": "stream",
          "text": [
            "Moving model to device:  cpu\n"
          ]
        },
        {
          "name": "stderr",
          "output_type": "stream",
          "text": [
            "Chain 2: 100%|██████████| 25/25 [00:00<00:00, 34.34it/s]\n"
          ]
        },
        {
          "name": "stdout",
          "output_type": "stream",
          "text": [
            "Moving model to device:  cpu\n"
          ]
        },
        {
          "name": "stderr",
          "output_type": "stream",
          "text": [
            "Chain 3: 100%|██████████| 25/25 [00:00<00:00, 35.26it/s]\n"
          ]
        },
        {
          "name": "stdout",
          "output_type": "stream",
          "text": [
            "Moving model to device:  cpu\n"
          ]
        },
        {
          "name": "stderr",
          "output_type": "stream",
          "text": [
            "Chain 4: 100%|██████████| 25/25 [00:00<00:00, 32.79it/s]\n"
          ]
        },
        {
          "name": "stdout",
          "output_type": "stream",
          "text": [
            "Moving model to device:  cpu\n"
          ]
        },
        {
          "name": "stderr",
          "output_type": "stream",
          "text": [
            "Chain 5: 100%|██████████| 25/25 [00:00<00:00, 28.96it/s]\n"
          ]
        },
        {
          "name": "stdout",
          "output_type": "stream",
          "text": [
            "Moving model to device:  cpu\n"
          ]
        },
        {
          "name": "stderr",
          "output_type": "stream",
          "text": [
            "Chain 6: 100%|██████████| 25/25 [00:00<00:00, 34.03it/s]\n"
          ]
        },
        {
          "name": "stdout",
          "output_type": "stream",
          "text": [
            "Moving model to device:  cpu\n"
          ]
        },
        {
          "name": "stderr",
          "output_type": "stream",
          "text": [
            "Chain 7: 100%|██████████| 25/25 [00:00<00:00, 34.22it/s]\n"
          ]
        },
        {
          "name": "stdout",
          "output_type": "stream",
          "text": [
            "Moving model to device:  cpu\n"
          ]
        },
        {
          "name": "stderr",
          "output_type": "stream",
          "text": [
            "Chain 8: 100%|██████████| 25/25 [00:00<00:00, 32.50it/s]\n"
          ]
        },
        {
          "name": "stdout",
          "output_type": "stream",
          "text": [
            "Moving model to device:  cpu\n"
          ]
        },
        {
          "name": "stderr",
          "output_type": "stream",
          "text": [
            "Chain 9: 100%|██████████| 25/25 [00:00<00:00, 34.16it/s]\n"
          ]
        },
        {
          "name": "stdout",
          "output_type": "stream",
          "text": [
            "Moving model to device:  cpu\n"
          ]
        },
        {
          "name": "stderr",
          "output_type": "stream",
          "text": [
            "Chain 10: 100%|██████████| 25/25 [00:00<00:00, 34.20it/s]\n"
          ]
        },
        {
          "name": "stdout",
          "output_type": "stream",
          "text": [
            "Moving model to device:  cpu\n"
          ]
        },
        {
          "name": "stderr",
          "output_type": "stream",
          "text": [
            "Chain 11: 100%|██████████| 25/25 [00:00<00:00, 34.33it/s]\n"
          ]
        },
        {
          "name": "stdout",
          "output_type": "stream",
          "text": [
            "Moving model to device:  cpu\n"
          ]
        },
        {
          "name": "stderr",
          "output_type": "stream",
          "text": [
            "Chain 12: 100%|██████████| 25/25 [00:00<00:00, 33.31it/s]\n"
          ]
        },
        {
          "name": "stdout",
          "output_type": "stream",
          "text": [
            "Moving model to device:  cpu\n"
          ]
        },
        {
          "name": "stderr",
          "output_type": "stream",
          "text": [
            "Chain 13: 100%|██████████| 25/25 [00:00<00:00, 34.25it/s]\n"
          ]
        },
        {
          "name": "stdout",
          "output_type": "stream",
          "text": [
            "Moving model to device:  cpu\n"
          ]
        },
        {
          "name": "stderr",
          "output_type": "stream",
          "text": [
            "Chain 14: 100%|██████████| 25/25 [00:00<00:00, 34.13it/s]\n"
          ]
        },
        {
          "name": "stdout",
          "output_type": "stream",
          "text": [
            "result = 781.9591064453125\n",
            "Moving model to device:  cpu\n",
            "Moving model to device:  cpu\n",
            "Moving model to device:  cpu\n"
          ]
        },
        {
          "name": "stderr",
          "output_type": "stream",
          "text": [
            "Chain 0: 100%|██████████| 25/25 [00:00<00:00, 35.01it/s]\n"
          ]
        },
        {
          "name": "stdout",
          "output_type": "stream",
          "text": [
            "Moving model to device:  cpu\n"
          ]
        },
        {
          "name": "stderr",
          "output_type": "stream",
          "text": [
            "Chain 1: 100%|██████████| 25/25 [00:00<00:00, 32.21it/s]\n"
          ]
        },
        {
          "name": "stdout",
          "output_type": "stream",
          "text": [
            "Moving model to device:  cpu\n"
          ]
        },
        {
          "name": "stderr",
          "output_type": "stream",
          "text": [
            "Chain 2: 100%|██████████| 25/25 [00:00<00:00, 34.02it/s]\n"
          ]
        },
        {
          "name": "stdout",
          "output_type": "stream",
          "text": [
            "Moving model to device:  cpu\n"
          ]
        },
        {
          "name": "stderr",
          "output_type": "stream",
          "text": [
            "Chain 3: 100%|██████████| 25/25 [00:00<00:00, 33.72it/s]\n"
          ]
        },
        {
          "name": "stdout",
          "output_type": "stream",
          "text": [
            "Moving model to device:  cpu\n"
          ]
        },
        {
          "name": "stderr",
          "output_type": "stream",
          "text": [
            "Chain 4: 100%|██████████| 25/25 [00:00<00:00, 33.97it/s]\n"
          ]
        },
        {
          "name": "stdout",
          "output_type": "stream",
          "text": [
            "Moving model to device:  cpu\n"
          ]
        },
        {
          "name": "stderr",
          "output_type": "stream",
          "text": [
            "Chain 5: 100%|██████████| 25/25 [00:00<00:00, 34.22it/s]\n"
          ]
        },
        {
          "name": "stdout",
          "output_type": "stream",
          "text": [
            "Moving model to device:  cpu\n"
          ]
        },
        {
          "name": "stderr",
          "output_type": "stream",
          "text": [
            "Chain 6: 100%|██████████| 25/25 [00:00<00:00, 33.40it/s]\n"
          ]
        },
        {
          "name": "stdout",
          "output_type": "stream",
          "text": [
            "Moving model to device:  cpu\n"
          ]
        },
        {
          "name": "stderr",
          "output_type": "stream",
          "text": [
            "Chain 7: 100%|██████████| 25/25 [00:00<00:00, 34.42it/s]\n"
          ]
        },
        {
          "name": "stdout",
          "output_type": "stream",
          "text": [
            "Moving model to device:  cpu\n"
          ]
        },
        {
          "name": "stderr",
          "output_type": "stream",
          "text": [
            "Chain 8: 100%|██████████| 25/25 [00:00<00:00, 34.93it/s]\n"
          ]
        },
        {
          "name": "stdout",
          "output_type": "stream",
          "text": [
            "Moving model to device:  cpu\n"
          ]
        },
        {
          "name": "stderr",
          "output_type": "stream",
          "text": [
            "Chain 9: 100%|██████████| 25/25 [00:00<00:00, 34.48it/s]\n"
          ]
        },
        {
          "name": "stdout",
          "output_type": "stream",
          "text": [
            "Moving model to device:  cpu\n"
          ]
        },
        {
          "name": "stderr",
          "output_type": "stream",
          "text": [
            "Chain 10: 100%|██████████| 25/25 [00:00<00:00, 33.16it/s]\n"
          ]
        },
        {
          "name": "stdout",
          "output_type": "stream",
          "text": [
            "Moving model to device:  cpu\n"
          ]
        },
        {
          "name": "stderr",
          "output_type": "stream",
          "text": [
            "Chain 11: 100%|██████████| 25/25 [00:00<00:00, 29.13it/s]\n"
          ]
        },
        {
          "name": "stdout",
          "output_type": "stream",
          "text": [
            "Moving model to device:  cpu\n"
          ]
        },
        {
          "name": "stderr",
          "output_type": "stream",
          "text": [
            "Chain 12: 100%|██████████| 25/25 [00:00<00:00, 34.34it/s]\n"
          ]
        },
        {
          "name": "stdout",
          "output_type": "stream",
          "text": [
            "Moving model to device:  cpu\n"
          ]
        },
        {
          "name": "stderr",
          "output_type": "stream",
          "text": [
            "Chain 13: 100%|██████████| 25/25 [00:00<00:00, 35.02it/s]\n"
          ]
        },
        {
          "name": "stdout",
          "output_type": "stream",
          "text": [
            "Moving model to device:  cpu\n"
          ]
        },
        {
          "name": "stderr",
          "output_type": "stream",
          "text": [
            "Chain 14: 100%|██████████| 25/25 [00:00<00:00, 34.31it/s]\n"
          ]
        },
        {
          "name": "stdout",
          "output_type": "stream",
          "text": [
            "result = 777.8566284179688\n",
            "Moving model to device:  cpu\n",
            "Moving model to device:  cpu\n",
            "Moving model to device:  cpu\n"
          ]
        },
        {
          "name": "stderr",
          "output_type": "stream",
          "text": [
            "Chain 0: 100%|██████████| 25/25 [00:00<00:00, 34.34it/s]\n"
          ]
        },
        {
          "name": "stdout",
          "output_type": "stream",
          "text": [
            "Moving model to device:  cpu\n"
          ]
        },
        {
          "name": "stderr",
          "output_type": "stream",
          "text": [
            "Chain 1: 100%|██████████| 25/25 [00:00<00:00, 34.63it/s]\n"
          ]
        },
        {
          "name": "stdout",
          "output_type": "stream",
          "text": [
            "Moving model to device:  cpu\n"
          ]
        },
        {
          "name": "stderr",
          "output_type": "stream",
          "text": [
            "Chain 2: 100%|██████████| 25/25 [00:00<00:00, 34.24it/s]\n"
          ]
        },
        {
          "name": "stdout",
          "output_type": "stream",
          "text": [
            "Moving model to device:  cpu\n"
          ]
        },
        {
          "name": "stderr",
          "output_type": "stream",
          "text": [
            "Chain 3: 100%|██████████| 25/25 [00:00<00:00, 34.66it/s]\n"
          ]
        },
        {
          "name": "stdout",
          "output_type": "stream",
          "text": [
            "Moving model to device:  cpu\n"
          ]
        },
        {
          "name": "stderr",
          "output_type": "stream",
          "text": [
            "Chain 4: 100%|██████████| 25/25 [00:00<00:00, 32.44it/s]\n"
          ]
        },
        {
          "name": "stdout",
          "output_type": "stream",
          "text": [
            "Moving model to device:  cpu\n"
          ]
        },
        {
          "name": "stderr",
          "output_type": "stream",
          "text": [
            "Chain 5: 100%|██████████| 25/25 [00:00<00:00, 34.33it/s]\n"
          ]
        },
        {
          "name": "stdout",
          "output_type": "stream",
          "text": [
            "Moving model to device:  cpu\n"
          ]
        },
        {
          "name": "stderr",
          "output_type": "stream",
          "text": [
            "Chain 6: 100%|██████████| 25/25 [00:00<00:00, 29.80it/s]\n"
          ]
        },
        {
          "name": "stdout",
          "output_type": "stream",
          "text": [
            "Moving model to device:  cpu\n"
          ]
        },
        {
          "name": "stderr",
          "output_type": "stream",
          "text": [
            "Chain 7: 100%|██████████| 25/25 [00:00<00:00, 33.70it/s]\n"
          ]
        },
        {
          "name": "stdout",
          "output_type": "stream",
          "text": [
            "Moving model to device:  cpu\n"
          ]
        },
        {
          "name": "stderr",
          "output_type": "stream",
          "text": [
            "Chain 8: 100%|██████████| 25/25 [00:00<00:00, 33.35it/s]\n"
          ]
        },
        {
          "name": "stdout",
          "output_type": "stream",
          "text": [
            "Moving model to device:  cpu\n"
          ]
        },
        {
          "name": "stderr",
          "output_type": "stream",
          "text": [
            "Chain 9: 100%|██████████| 25/25 [00:00<00:00, 34.35it/s]\n"
          ]
        },
        {
          "name": "stdout",
          "output_type": "stream",
          "text": [
            "Moving model to device:  cpu\n"
          ]
        },
        {
          "name": "stderr",
          "output_type": "stream",
          "text": [
            "Chain 10: 100%|██████████| 25/25 [00:00<00:00, 34.95it/s]\n"
          ]
        },
        {
          "name": "stdout",
          "output_type": "stream",
          "text": [
            "Moving model to device:  cpu\n"
          ]
        },
        {
          "name": "stderr",
          "output_type": "stream",
          "text": [
            "Chain 11: 100%|██████████| 25/25 [00:00<00:00, 34.47it/s]\n"
          ]
        },
        {
          "name": "stdout",
          "output_type": "stream",
          "text": [
            "Moving model to device:  cpu\n"
          ]
        },
        {
          "name": "stderr",
          "output_type": "stream",
          "text": [
            "Chain 12: 100%|██████████| 25/25 [00:00<00:00, 32.29it/s]\n"
          ]
        },
        {
          "name": "stdout",
          "output_type": "stream",
          "text": [
            "Moving model to device:  cpu\n"
          ]
        },
        {
          "name": "stderr",
          "output_type": "stream",
          "text": [
            "Chain 13: 100%|██████████| 25/25 [00:00<00:00, 34.11it/s]\n"
          ]
        },
        {
          "name": "stdout",
          "output_type": "stream",
          "text": [
            "Moving model to device:  cpu\n"
          ]
        },
        {
          "name": "stderr",
          "output_type": "stream",
          "text": [
            "Chain 14: 100%|██████████| 25/25 [00:00<00:00, 34.35it/s]\n"
          ]
        },
        {
          "name": "stdout",
          "output_type": "stream",
          "text": [
            "result = 778.5543823242188\n",
            "Moving model to device:  cpu\n",
            "Moving model to device:  cpu\n",
            "Moving model to device:  cpu\n"
          ]
        },
        {
          "name": "stderr",
          "output_type": "stream",
          "text": [
            "Chain 0: 100%|██████████| 25/25 [00:00<00:00, 34.35it/s]\n"
          ]
        },
        {
          "name": "stdout",
          "output_type": "stream",
          "text": [
            "Moving model to device:  cpu\n"
          ]
        },
        {
          "name": "stderr",
          "output_type": "stream",
          "text": [
            "Chain 1: 100%|██████████| 25/25 [00:00<00:00, 27.85it/s]\n"
          ]
        },
        {
          "name": "stdout",
          "output_type": "stream",
          "text": [
            "Moving model to device:  cpu\n"
          ]
        },
        {
          "name": "stderr",
          "output_type": "stream",
          "text": [
            "Chain 2: 100%|██████████| 25/25 [00:00<00:00, 35.09it/s]\n"
          ]
        },
        {
          "name": "stdout",
          "output_type": "stream",
          "text": [
            "Moving model to device:  cpu\n"
          ]
        },
        {
          "name": "stderr",
          "output_type": "stream",
          "text": [
            "Chain 3: 100%|██████████| 25/25 [00:00<00:00, 31.14it/s]\n"
          ]
        },
        {
          "name": "stdout",
          "output_type": "stream",
          "text": [
            "Moving model to device:  cpu\n"
          ]
        },
        {
          "name": "stderr",
          "output_type": "stream",
          "text": [
            "Chain 4: 100%|██████████| 25/25 [00:00<00:00, 33.18it/s]\n"
          ]
        },
        {
          "name": "stdout",
          "output_type": "stream",
          "text": [
            "Moving model to device:  cpu\n"
          ]
        },
        {
          "name": "stderr",
          "output_type": "stream",
          "text": [
            "Chain 5: 100%|██████████| 25/25 [00:00<00:00, 31.22it/s]\n"
          ]
        },
        {
          "name": "stdout",
          "output_type": "stream",
          "text": [
            "Moving model to device:  cpu\n"
          ]
        },
        {
          "name": "stderr",
          "output_type": "stream",
          "text": [
            "Chain 6: 100%|██████████| 25/25 [00:00<00:00, 34.86it/s]\n"
          ]
        },
        {
          "name": "stdout",
          "output_type": "stream",
          "text": [
            "Moving model to device:  cpu\n"
          ]
        },
        {
          "name": "stderr",
          "output_type": "stream",
          "text": [
            "Chain 7: 100%|██████████| 25/25 [00:00<00:00, 33.51it/s]\n"
          ]
        },
        {
          "name": "stdout",
          "output_type": "stream",
          "text": [
            "Moving model to device:  cpu\n"
          ]
        },
        {
          "name": "stderr",
          "output_type": "stream",
          "text": [
            "Chain 8: 100%|██████████| 25/25 [00:00<00:00, 34.05it/s]\n"
          ]
        },
        {
          "name": "stdout",
          "output_type": "stream",
          "text": [
            "Moving model to device:  cpu\n"
          ]
        },
        {
          "name": "stderr",
          "output_type": "stream",
          "text": [
            "Chain 9: 100%|██████████| 25/25 [00:00<00:00, 32.00it/s]\n"
          ]
        },
        {
          "name": "stdout",
          "output_type": "stream",
          "text": [
            "Moving model to device:  cpu\n"
          ]
        },
        {
          "name": "stderr",
          "output_type": "stream",
          "text": [
            "Chain 10: 100%|██████████| 25/25 [00:00<00:00, 33.36it/s]\n"
          ]
        },
        {
          "name": "stdout",
          "output_type": "stream",
          "text": [
            "Moving model to device:  cpu\n"
          ]
        },
        {
          "name": "stderr",
          "output_type": "stream",
          "text": [
            "Chain 11: 100%|██████████| 25/25 [00:00<00:00, 34.55it/s]\n"
          ]
        },
        {
          "name": "stdout",
          "output_type": "stream",
          "text": [
            "Moving model to device:  cpu\n"
          ]
        },
        {
          "name": "stderr",
          "output_type": "stream",
          "text": [
            "Chain 12: 100%|██████████| 25/25 [00:00<00:00, 35.00it/s]\n"
          ]
        },
        {
          "name": "stdout",
          "output_type": "stream",
          "text": [
            "Moving model to device:  cpu\n"
          ]
        },
        {
          "name": "stderr",
          "output_type": "stream",
          "text": [
            "Chain 13: 100%|██████████| 25/25 [00:00<00:00, 27.70it/s]\n"
          ]
        },
        {
          "name": "stdout",
          "output_type": "stream",
          "text": [
            "Moving model to device:  cpu\n"
          ]
        },
        {
          "name": "stderr",
          "output_type": "stream",
          "text": [
            "Chain 14: 100%|██████████| 25/25 [00:00<00:00, 32.77it/s]\n"
          ]
        },
        {
          "name": "stdout",
          "output_type": "stream",
          "text": [
            "result = 778.4385375976562\n",
            "Moving model to device:  cpu\n",
            "Moving model to device:  cpu\n",
            "Moving model to device:  cpu\n"
          ]
        },
        {
          "name": "stderr",
          "output_type": "stream",
          "text": [
            "Chain 0: 100%|██████████| 25/25 [00:00<00:00, 33.49it/s]\n"
          ]
        },
        {
          "name": "stdout",
          "output_type": "stream",
          "text": [
            "Moving model to device:  cpu\n"
          ]
        },
        {
          "name": "stderr",
          "output_type": "stream",
          "text": [
            "Chain 1: 100%|██████████| 25/25 [00:00<00:00, 32.64it/s]\n"
          ]
        },
        {
          "name": "stdout",
          "output_type": "stream",
          "text": [
            "Moving model to device:  cpu\n"
          ]
        },
        {
          "name": "stderr",
          "output_type": "stream",
          "text": [
            "Chain 2: 100%|██████████| 25/25 [00:00<00:00, 29.93it/s]\n"
          ]
        },
        {
          "name": "stdout",
          "output_type": "stream",
          "text": [
            "Moving model to device:  cpu\n"
          ]
        },
        {
          "name": "stderr",
          "output_type": "stream",
          "text": [
            "Chain 3: 100%|██████████| 25/25 [00:00<00:00, 33.43it/s]\n"
          ]
        },
        {
          "name": "stdout",
          "output_type": "stream",
          "text": [
            "Moving model to device:  cpu\n"
          ]
        },
        {
          "name": "stderr",
          "output_type": "stream",
          "text": [
            "Chain 4: 100%|██████████| 25/25 [00:00<00:00, 34.23it/s]\n"
          ]
        },
        {
          "name": "stdout",
          "output_type": "stream",
          "text": [
            "Moving model to device:  cpu\n"
          ]
        },
        {
          "name": "stderr",
          "output_type": "stream",
          "text": [
            "Chain 5: 100%|██████████| 25/25 [00:00<00:00, 34.10it/s]\n"
          ]
        },
        {
          "name": "stdout",
          "output_type": "stream",
          "text": [
            "Moving model to device:  cpu\n"
          ]
        },
        {
          "name": "stderr",
          "output_type": "stream",
          "text": [
            "Chain 6: 100%|██████████| 25/25 [00:00<00:00, 31.05it/s]\n"
          ]
        },
        {
          "name": "stdout",
          "output_type": "stream",
          "text": [
            "Moving model to device:  cpu\n"
          ]
        },
        {
          "name": "stderr",
          "output_type": "stream",
          "text": [
            "Chain 7: 100%|██████████| 25/25 [00:00<00:00, 33.46it/s]\n"
          ]
        },
        {
          "name": "stdout",
          "output_type": "stream",
          "text": [
            "Moving model to device:  cpu\n"
          ]
        },
        {
          "name": "stderr",
          "output_type": "stream",
          "text": [
            "Chain 8: 100%|██████████| 25/25 [00:00<00:00, 28.58it/s]\n"
          ]
        },
        {
          "name": "stdout",
          "output_type": "stream",
          "text": [
            "Moving model to device:  cpu\n"
          ]
        },
        {
          "name": "stderr",
          "output_type": "stream",
          "text": [
            "Chain 9: 100%|██████████| 25/25 [00:00<00:00, 30.97it/s]\n"
          ]
        },
        {
          "name": "stdout",
          "output_type": "stream",
          "text": [
            "Moving model to device:  cpu\n"
          ]
        },
        {
          "name": "stderr",
          "output_type": "stream",
          "text": [
            "Chain 10: 100%|██████████| 25/25 [00:00<00:00, 31.18it/s]\n"
          ]
        },
        {
          "name": "stdout",
          "output_type": "stream",
          "text": [
            "Moving model to device:  cpu\n"
          ]
        },
        {
          "name": "stderr",
          "output_type": "stream",
          "text": [
            "Chain 11: 100%|██████████| 25/25 [00:00<00:00, 33.68it/s]\n"
          ]
        },
        {
          "name": "stdout",
          "output_type": "stream",
          "text": [
            "Moving model to device:  cpu\n"
          ]
        },
        {
          "name": "stderr",
          "output_type": "stream",
          "text": [
            "Chain 12: 100%|██████████| 25/25 [00:00<00:00, 33.23it/s]\n"
          ]
        },
        {
          "name": "stdout",
          "output_type": "stream",
          "text": [
            "Moving model to device:  cpu\n"
          ]
        },
        {
          "name": "stderr",
          "output_type": "stream",
          "text": [
            "Chain 13: 100%|██████████| 25/25 [00:00<00:00, 31.55it/s]\n"
          ]
        },
        {
          "name": "stdout",
          "output_type": "stream",
          "text": [
            "Moving model to device:  cpu\n"
          ]
        },
        {
          "name": "stderr",
          "output_type": "stream",
          "text": [
            "Chain 14: 100%|██████████| 25/25 [00:00<00:00, 33.56it/s]\n"
          ]
        },
        {
          "name": "stdout",
          "output_type": "stream",
          "text": [
            "result = 778.4865112304688\n",
            "Moving model to device:  cpu\n",
            "Moving model to device:  cpu\n",
            "Moving model to device:  cpu\n"
          ]
        },
        {
          "name": "stderr",
          "output_type": "stream",
          "text": [
            "Chain 0: 100%|██████████| 25/25 [00:00<00:00, 33.47it/s]\n"
          ]
        },
        {
          "name": "stdout",
          "output_type": "stream",
          "text": [
            "Moving model to device:  cpu\n"
          ]
        },
        {
          "name": "stderr",
          "output_type": "stream",
          "text": [
            "Chain 1: 100%|██████████| 25/25 [00:00<00:00, 33.46it/s]\n"
          ]
        },
        {
          "name": "stdout",
          "output_type": "stream",
          "text": [
            "Moving model to device:  cpu\n"
          ]
        },
        {
          "name": "stderr",
          "output_type": "stream",
          "text": [
            "Chain 2: 100%|██████████| 25/25 [00:00<00:00, 31.30it/s]\n"
          ]
        },
        {
          "name": "stdout",
          "output_type": "stream",
          "text": [
            "Moving model to device:  cpu\n"
          ]
        },
        {
          "name": "stderr",
          "output_type": "stream",
          "text": [
            "Chain 3: 100%|██████████| 25/25 [00:00<00:00, 27.69it/s]\n"
          ]
        },
        {
          "name": "stdout",
          "output_type": "stream",
          "text": [
            "Moving model to device:  cpu\n"
          ]
        },
        {
          "name": "stderr",
          "output_type": "stream",
          "text": [
            "Chain 4: 100%|██████████| 25/25 [00:00<00:00, 33.73it/s]\n"
          ]
        },
        {
          "name": "stdout",
          "output_type": "stream",
          "text": [
            "Moving model to device:  cpu\n"
          ]
        },
        {
          "name": "stderr",
          "output_type": "stream",
          "text": [
            "Chain 5: 100%|██████████| 25/25 [00:00<00:00, 33.43it/s]\n"
          ]
        },
        {
          "name": "stdout",
          "output_type": "stream",
          "text": [
            "Moving model to device:  cpu\n"
          ]
        },
        {
          "name": "stderr",
          "output_type": "stream",
          "text": [
            "Chain 6: 100%|██████████| 25/25 [00:00<00:00, 30.51it/s]\n"
          ]
        },
        {
          "name": "stdout",
          "output_type": "stream",
          "text": [
            "Moving model to device:  cpu\n"
          ]
        },
        {
          "name": "stderr",
          "output_type": "stream",
          "text": [
            "Chain 7: 100%|██████████| 25/25 [00:00<00:00, 31.85it/s]\n"
          ]
        },
        {
          "name": "stdout",
          "output_type": "stream",
          "text": [
            "Moving model to device:  cpu\n"
          ]
        },
        {
          "name": "stderr",
          "output_type": "stream",
          "text": [
            "Chain 8: 100%|██████████| 25/25 [00:00<00:00, 32.07it/s]\n"
          ]
        },
        {
          "name": "stdout",
          "output_type": "stream",
          "text": [
            "Moving model to device:  cpu\n"
          ]
        },
        {
          "name": "stderr",
          "output_type": "stream",
          "text": [
            "Chain 9: 100%|██████████| 25/25 [00:00<00:00, 32.17it/s]\n"
          ]
        },
        {
          "name": "stdout",
          "output_type": "stream",
          "text": [
            "Moving model to device:  cpu\n"
          ]
        },
        {
          "name": "stderr",
          "output_type": "stream",
          "text": [
            "Chain 10: 100%|██████████| 25/25 [00:00<00:00, 31.31it/s]\n"
          ]
        },
        {
          "name": "stdout",
          "output_type": "stream",
          "text": [
            "Moving model to device:  cpu\n"
          ]
        },
        {
          "name": "stderr",
          "output_type": "stream",
          "text": [
            "Chain 11: 100%|██████████| 25/25 [00:00<00:00, 29.97it/s]\n"
          ]
        },
        {
          "name": "stdout",
          "output_type": "stream",
          "text": [
            "Moving model to device:  cpu\n"
          ]
        },
        {
          "name": "stderr",
          "output_type": "stream",
          "text": [
            "Chain 12: 100%|██████████| 25/25 [00:00<00:00, 32.44it/s]\n"
          ]
        },
        {
          "name": "stdout",
          "output_type": "stream",
          "text": [
            "Moving model to device:  cpu\n"
          ]
        },
        {
          "name": "stderr",
          "output_type": "stream",
          "text": [
            "Chain 13: 100%|██████████| 25/25 [00:00<00:00, 32.38it/s]\n"
          ]
        },
        {
          "name": "stdout",
          "output_type": "stream",
          "text": [
            "Moving model to device:  cpu\n"
          ]
        },
        {
          "name": "stderr",
          "output_type": "stream",
          "text": [
            "Chain 14: 100%|██████████| 25/25 [00:00<00:00, 27.52it/s]\n"
          ]
        },
        {
          "name": "stdout",
          "output_type": "stream",
          "text": [
            "result = 772.8593139648438\n",
            "Moving model to device:  cpu\n",
            "Moving model to device:  cpu\n",
            "Moving model to device:  cpu\n"
          ]
        },
        {
          "name": "stderr",
          "output_type": "stream",
          "text": [
            "Chain 0: 100%|██████████| 25/25 [00:00<00:00, 29.21it/s]\n"
          ]
        },
        {
          "name": "stdout",
          "output_type": "stream",
          "text": [
            "Moving model to device:  cpu\n"
          ]
        },
        {
          "name": "stderr",
          "output_type": "stream",
          "text": [
            "Chain 1: 100%|██████████| 25/25 [00:00<00:00, 31.09it/s]\n"
          ]
        },
        {
          "name": "stdout",
          "output_type": "stream",
          "text": [
            "Moving model to device:  cpu\n"
          ]
        },
        {
          "name": "stderr",
          "output_type": "stream",
          "text": [
            "Chain 2: 100%|██████████| 25/25 [00:00<00:00, 29.62it/s]\n"
          ]
        },
        {
          "name": "stdout",
          "output_type": "stream",
          "text": [
            "Moving model to device:  cpu\n"
          ]
        },
        {
          "name": "stderr",
          "output_type": "stream",
          "text": [
            "Chain 3: 100%|██████████| 25/25 [00:00<00:00, 30.92it/s]\n"
          ]
        },
        {
          "name": "stdout",
          "output_type": "stream",
          "text": [
            "Moving model to device:  cpu\n"
          ]
        },
        {
          "name": "stderr",
          "output_type": "stream",
          "text": [
            "Chain 4: 100%|██████████| 25/25 [00:00<00:00, 29.51it/s]\n"
          ]
        },
        {
          "name": "stdout",
          "output_type": "stream",
          "text": [
            "Moving model to device:  cpu\n"
          ]
        },
        {
          "name": "stderr",
          "output_type": "stream",
          "text": [
            "Chain 5: 100%|██████████| 25/25 [00:00<00:00, 31.55it/s]\n"
          ]
        },
        {
          "name": "stdout",
          "output_type": "stream",
          "text": [
            "Moving model to device:  cpu\n"
          ]
        },
        {
          "name": "stderr",
          "output_type": "stream",
          "text": [
            "Chain 6: 100%|██████████| 25/25 [00:00<00:00, 31.52it/s]\n"
          ]
        },
        {
          "name": "stdout",
          "output_type": "stream",
          "text": [
            "Moving model to device:  cpu\n"
          ]
        },
        {
          "name": "stderr",
          "output_type": "stream",
          "text": [
            "Chain 7: 100%|██████████| 25/25 [00:00<00:00, 31.67it/s]\n"
          ]
        },
        {
          "name": "stdout",
          "output_type": "stream",
          "text": [
            "Moving model to device:  cpu\n"
          ]
        },
        {
          "name": "stderr",
          "output_type": "stream",
          "text": [
            "Chain 8: 100%|██████████| 25/25 [00:00<00:00, 30.02it/s]\n"
          ]
        },
        {
          "name": "stdout",
          "output_type": "stream",
          "text": [
            "Moving model to device:  cpu\n"
          ]
        },
        {
          "name": "stderr",
          "output_type": "stream",
          "text": [
            "Chain 9: 100%|██████████| 25/25 [00:00<00:00, 26.64it/s]\n"
          ]
        },
        {
          "name": "stdout",
          "output_type": "stream",
          "text": [
            "Moving model to device:  cpu\n"
          ]
        },
        {
          "name": "stderr",
          "output_type": "stream",
          "text": [
            "Chain 10: 100%|██████████| 25/25 [00:00<00:00, 31.39it/s]\n"
          ]
        },
        {
          "name": "stdout",
          "output_type": "stream",
          "text": [
            "Moving model to device:  cpu\n"
          ]
        },
        {
          "name": "stderr",
          "output_type": "stream",
          "text": [
            "Chain 11: 100%|██████████| 25/25 [00:00<00:00, 31.69it/s]\n"
          ]
        },
        {
          "name": "stdout",
          "output_type": "stream",
          "text": [
            "Moving model to device:  cpu\n"
          ]
        },
        {
          "name": "stderr",
          "output_type": "stream",
          "text": [
            "Chain 12: 100%|██████████| 25/25 [00:00<00:00, 32.05it/s]\n"
          ]
        },
        {
          "name": "stdout",
          "output_type": "stream",
          "text": [
            "Moving model to device:  cpu\n"
          ]
        },
        {
          "name": "stderr",
          "output_type": "stream",
          "text": [
            "Chain 13: 100%|██████████| 25/25 [00:00<00:00, 29.24it/s]\n"
          ]
        },
        {
          "name": "stdout",
          "output_type": "stream",
          "text": [
            "Moving model to device:  cpu\n"
          ]
        },
        {
          "name": "stderr",
          "output_type": "stream",
          "text": [
            "Chain 14: 100%|██████████| 25/25 [00:00<00:00, 31.30it/s]\n"
          ]
        },
        {
          "name": "stdout",
          "output_type": "stream",
          "text": [
            "result = 774.6428833007812\n",
            "Moving model to device:  cpu\n",
            "Moving model to device:  cpu\n",
            "Moving model to device:  cpu\n"
          ]
        },
        {
          "name": "stderr",
          "output_type": "stream",
          "text": [
            "Chain 0: 100%|██████████| 25/25 [00:00<00:00, 31.36it/s]\n"
          ]
        },
        {
          "name": "stdout",
          "output_type": "stream",
          "text": [
            "Moving model to device:  cpu\n"
          ]
        },
        {
          "name": "stderr",
          "output_type": "stream",
          "text": [
            "Chain 1: 100%|██████████| 25/25 [00:00<00:00, 30.42it/s]\n"
          ]
        },
        {
          "name": "stdout",
          "output_type": "stream",
          "text": [
            "Moving model to device:  cpu\n"
          ]
        },
        {
          "name": "stderr",
          "output_type": "stream",
          "text": [
            "Chain 2: 100%|██████████| 25/25 [00:00<00:00, 29.06it/s]\n"
          ]
        },
        {
          "name": "stdout",
          "output_type": "stream",
          "text": [
            "Moving model to device:  cpu\n"
          ]
        },
        {
          "name": "stderr",
          "output_type": "stream",
          "text": [
            "Chain 3: 100%|██████████| 25/25 [00:00<00:00, 30.99it/s]\n"
          ]
        },
        {
          "name": "stdout",
          "output_type": "stream",
          "text": [
            "Moving model to device:  cpu\n"
          ]
        },
        {
          "name": "stderr",
          "output_type": "stream",
          "text": [
            "Chain 4: 100%|██████████| 25/25 [00:00<00:00, 26.23it/s]\n"
          ]
        },
        {
          "name": "stdout",
          "output_type": "stream",
          "text": [
            "Moving model to device:  cpu\n"
          ]
        },
        {
          "name": "stderr",
          "output_type": "stream",
          "text": [
            "Chain 5: 100%|██████████| 25/25 [00:00<00:00, 31.75it/s]\n"
          ]
        },
        {
          "name": "stdout",
          "output_type": "stream",
          "text": [
            "Moving model to device:  cpu\n"
          ]
        },
        {
          "name": "stderr",
          "output_type": "stream",
          "text": [
            "Chain 6: 100%|██████████| 25/25 [00:00<00:00, 29.34it/s]\n"
          ]
        },
        {
          "name": "stdout",
          "output_type": "stream",
          "text": [
            "Moving model to device:  cpu\n"
          ]
        },
        {
          "name": "stderr",
          "output_type": "stream",
          "text": [
            "Chain 7: 100%|██████████| 25/25 [00:00<00:00, 30.95it/s]\n"
          ]
        },
        {
          "name": "stdout",
          "output_type": "stream",
          "text": [
            "Moving model to device:  cpu\n"
          ]
        },
        {
          "name": "stderr",
          "output_type": "stream",
          "text": [
            "Chain 8: 100%|██████████| 25/25 [00:00<00:00, 30.72it/s]\n"
          ]
        },
        {
          "name": "stdout",
          "output_type": "stream",
          "text": [
            "Moving model to device:  cpu\n"
          ]
        },
        {
          "name": "stderr",
          "output_type": "stream",
          "text": [
            "Chain 9: 100%|██████████| 25/25 [00:00<00:00, 30.29it/s]\n"
          ]
        },
        {
          "name": "stdout",
          "output_type": "stream",
          "text": [
            "Moving model to device:  cpu\n"
          ]
        },
        {
          "name": "stderr",
          "output_type": "stream",
          "text": [
            "Chain 10: 100%|██████████| 25/25 [00:00<00:00, 29.22it/s]\n"
          ]
        },
        {
          "name": "stdout",
          "output_type": "stream",
          "text": [
            "Moving model to device:  cpu\n"
          ]
        },
        {
          "name": "stderr",
          "output_type": "stream",
          "text": [
            "Chain 11: 100%|██████████| 25/25 [00:00<00:00, 30.40it/s]\n"
          ]
        },
        {
          "name": "stdout",
          "output_type": "stream",
          "text": [
            "Moving model to device:  cpu\n"
          ]
        },
        {
          "name": "stderr",
          "output_type": "stream",
          "text": [
            "Chain 12: 100%|██████████| 25/25 [00:00<00:00, 29.36it/s]\n"
          ]
        },
        {
          "name": "stdout",
          "output_type": "stream",
          "text": [
            "Moving model to device:  cpu\n"
          ]
        },
        {
          "name": "stderr",
          "output_type": "stream",
          "text": [
            "Chain 13: 100%|██████████| 25/25 [00:00<00:00, 30.61it/s]\n"
          ]
        },
        {
          "name": "stdout",
          "output_type": "stream",
          "text": [
            "Moving model to device:  cpu\n"
          ]
        },
        {
          "name": "stderr",
          "output_type": "stream",
          "text": [
            "Chain 14: 100%|██████████| 25/25 [00:00<00:00, 27.11it/s]\n"
          ]
        },
        {
          "name": "stdout",
          "output_type": "stream",
          "text": [
            "result = 780.8536376953125\n",
            "Moving model to device:  cpu\n",
            "Moving model to device:  cpu\n",
            "Moving model to device:  cpu\n"
          ]
        },
        {
          "name": "stderr",
          "output_type": "stream",
          "text": [
            "Chain 0: 100%|██████████| 25/25 [00:00<00:00, 30.17it/s]\n"
          ]
        },
        {
          "name": "stdout",
          "output_type": "stream",
          "text": [
            "Moving model to device:  cpu\n"
          ]
        },
        {
          "name": "stderr",
          "output_type": "stream",
          "text": [
            "Chain 1: 100%|██████████| 25/25 [00:00<00:00, 30.52it/s]\n"
          ]
        },
        {
          "name": "stdout",
          "output_type": "stream",
          "text": [
            "Moving model to device:  cpu\n"
          ]
        },
        {
          "name": "stderr",
          "output_type": "stream",
          "text": [
            "Chain 2: 100%|██████████| 25/25 [00:00<00:00, 25.73it/s]\n"
          ]
        },
        {
          "name": "stdout",
          "output_type": "stream",
          "text": [
            "Moving model to device:  cpu\n"
          ]
        },
        {
          "name": "stderr",
          "output_type": "stream",
          "text": [
            "Chain 3: 100%|██████████| 25/25 [00:01<00:00, 24.14it/s]\n"
          ]
        },
        {
          "name": "stdout",
          "output_type": "stream",
          "text": [
            "Moving model to device:  cpu\n"
          ]
        },
        {
          "name": "stderr",
          "output_type": "stream",
          "text": [
            "Chain 4: 100%|██████████| 25/25 [00:00<00:00, 28.16it/s]\n"
          ]
        },
        {
          "name": "stdout",
          "output_type": "stream",
          "text": [
            "Moving model to device:  cpu\n"
          ]
        },
        {
          "name": "stderr",
          "output_type": "stream",
          "text": [
            "Chain 5: 100%|██████████| 25/25 [00:00<00:00, 28.45it/s]\n"
          ]
        },
        {
          "name": "stdout",
          "output_type": "stream",
          "text": [
            "Moving model to device:  cpu\n"
          ]
        },
        {
          "name": "stderr",
          "output_type": "stream",
          "text": [
            "Chain 6: 100%|██████████| 25/25 [00:00<00:00, 28.74it/s]\n"
          ]
        },
        {
          "name": "stdout",
          "output_type": "stream",
          "text": [
            "Moving model to device:  cpu\n"
          ]
        },
        {
          "name": "stderr",
          "output_type": "stream",
          "text": [
            "Chain 7: 100%|██████████| 25/25 [00:00<00:00, 28.72it/s]\n"
          ]
        },
        {
          "name": "stdout",
          "output_type": "stream",
          "text": [
            "Moving model to device:  cpu\n"
          ]
        },
        {
          "name": "stderr",
          "output_type": "stream",
          "text": [
            "Chain 8: 100%|██████████| 25/25 [00:00<00:00, 29.05it/s]\n"
          ]
        },
        {
          "name": "stdout",
          "output_type": "stream",
          "text": [
            "Moving model to device:  cpu\n"
          ]
        },
        {
          "name": "stderr",
          "output_type": "stream",
          "text": [
            "Chain 9: 100%|██████████| 25/25 [00:00<00:00, 29.07it/s]\n"
          ]
        },
        {
          "name": "stdout",
          "output_type": "stream",
          "text": [
            "Moving model to device:  cpu\n"
          ]
        },
        {
          "name": "stderr",
          "output_type": "stream",
          "text": [
            "Chain 10: 100%|██████████| 25/25 [00:00<00:00, 29.69it/s]\n"
          ]
        },
        {
          "name": "stdout",
          "output_type": "stream",
          "text": [
            "Moving model to device:  cpu\n"
          ]
        },
        {
          "name": "stderr",
          "output_type": "stream",
          "text": [
            "Chain 11: 100%|██████████| 25/25 [00:01<00:00, 24.25it/s]\n"
          ]
        },
        {
          "name": "stdout",
          "output_type": "stream",
          "text": [
            "Moving model to device:  cpu\n"
          ]
        },
        {
          "name": "stderr",
          "output_type": "stream",
          "text": [
            "Chain 12: 100%|██████████| 25/25 [00:00<00:00, 29.49it/s]\n"
          ]
        },
        {
          "name": "stdout",
          "output_type": "stream",
          "text": [
            "Moving model to device:  cpu\n"
          ]
        },
        {
          "name": "stderr",
          "output_type": "stream",
          "text": [
            "Chain 13: 100%|██████████| 25/25 [00:00<00:00, 29.24it/s]\n"
          ]
        },
        {
          "name": "stdout",
          "output_type": "stream",
          "text": [
            "Moving model to device:  cpu\n"
          ]
        },
        {
          "name": "stderr",
          "output_type": "stream",
          "text": [
            "Chain 14: 100%|██████████| 25/25 [00:00<00:00, 29.07it/s]\n"
          ]
        },
        {
          "name": "stdout",
          "output_type": "stream",
          "text": [
            "result = 779.579345703125\n",
            "Moving model to device:  cpu\n",
            "Moving model to device:  cpu\n",
            "Moving model to device:  cpu\n"
          ]
        },
        {
          "name": "stderr",
          "output_type": "stream",
          "text": [
            "Chain 0: 100%|██████████| 25/25 [00:00<00:00, 29.12it/s]\n"
          ]
        },
        {
          "name": "stdout",
          "output_type": "stream",
          "text": [
            "Moving model to device:  cpu\n"
          ]
        },
        {
          "name": "stderr",
          "output_type": "stream",
          "text": [
            "Chain 1: 100%|██████████| 25/25 [00:00<00:00, 29.82it/s]\n"
          ]
        },
        {
          "name": "stdout",
          "output_type": "stream",
          "text": [
            "Moving model to device:  cpu\n"
          ]
        },
        {
          "name": "stderr",
          "output_type": "stream",
          "text": [
            "Chain 2: 100%|██████████| 25/25 [00:00<00:00, 29.54it/s]\n"
          ]
        },
        {
          "name": "stdout",
          "output_type": "stream",
          "text": [
            "Moving model to device:  cpu\n"
          ]
        },
        {
          "name": "stderr",
          "output_type": "stream",
          "text": [
            "Chain 3: 100%|██████████| 25/25 [00:00<00:00, 28.42it/s]\n"
          ]
        },
        {
          "name": "stdout",
          "output_type": "stream",
          "text": [
            "Moving model to device:  cpu\n"
          ]
        },
        {
          "name": "stderr",
          "output_type": "stream",
          "text": [
            "Chain 4: 100%|██████████| 25/25 [00:00<00:00, 30.36it/s]\n"
          ]
        },
        {
          "name": "stdout",
          "output_type": "stream",
          "text": [
            "Moving model to device:  cpu\n"
          ]
        },
        {
          "name": "stderr",
          "output_type": "stream",
          "text": [
            "Chain 5: 100%|██████████| 25/25 [00:00<00:00, 25.65it/s]\n"
          ]
        },
        {
          "name": "stdout",
          "output_type": "stream",
          "text": [
            "Moving model to device:  cpu\n"
          ]
        },
        {
          "name": "stderr",
          "output_type": "stream",
          "text": [
            "Chain 6: 100%|██████████| 25/25 [00:00<00:00, 30.39it/s]\n"
          ]
        },
        {
          "name": "stdout",
          "output_type": "stream",
          "text": [
            "Moving model to device:  cpu\n"
          ]
        },
        {
          "name": "stderr",
          "output_type": "stream",
          "text": [
            "Chain 7: 100%|██████████| 25/25 [00:00<00:00, 28.36it/s]\n"
          ]
        },
        {
          "name": "stdout",
          "output_type": "stream",
          "text": [
            "Moving model to device:  cpu\n"
          ]
        },
        {
          "name": "stderr",
          "output_type": "stream",
          "text": [
            "Chain 8: 100%|██████████| 25/25 [00:00<00:00, 30.15it/s]\n"
          ]
        },
        {
          "name": "stdout",
          "output_type": "stream",
          "text": [
            "Moving model to device:  cpu\n"
          ]
        },
        {
          "name": "stderr",
          "output_type": "stream",
          "text": [
            "Chain 9: 100%|██████████| 25/25 [00:00<00:00, 29.86it/s]\n"
          ]
        },
        {
          "name": "stdout",
          "output_type": "stream",
          "text": [
            "Moving model to device:  cpu\n"
          ]
        },
        {
          "name": "stderr",
          "output_type": "stream",
          "text": [
            "Chain 10: 100%|██████████| 25/25 [00:00<00:00, 29.40it/s]\n"
          ]
        },
        {
          "name": "stdout",
          "output_type": "stream",
          "text": [
            "Moving model to device:  cpu\n"
          ]
        },
        {
          "name": "stderr",
          "output_type": "stream",
          "text": [
            "Chain 11: 100%|██████████| 25/25 [00:00<00:00, 27.10it/s]\n"
          ]
        },
        {
          "name": "stdout",
          "output_type": "stream",
          "text": [
            "Moving model to device:  cpu\n"
          ]
        },
        {
          "name": "stderr",
          "output_type": "stream",
          "text": [
            "Chain 12: 100%|██████████| 25/25 [00:00<00:00, 29.60it/s]\n"
          ]
        },
        {
          "name": "stdout",
          "output_type": "stream",
          "text": [
            "Moving model to device:  cpu\n"
          ]
        },
        {
          "name": "stderr",
          "output_type": "stream",
          "text": [
            "Chain 13: 100%|██████████| 25/25 [00:00<00:00, 29.61it/s]\n"
          ]
        },
        {
          "name": "stdout",
          "output_type": "stream",
          "text": [
            "Moving model to device:  cpu\n"
          ]
        },
        {
          "name": "stderr",
          "output_type": "stream",
          "text": [
            "Chain 14: 100%|██████████| 25/25 [00:00<00:00, 29.69it/s]\n"
          ]
        },
        {
          "name": "stdout",
          "output_type": "stream",
          "text": [
            "result = 773.6299438476562\n",
            "Moving model to device:  cpu\n",
            "Moving model to device:  cpu\n",
            "Moving model to device:  cpu\n"
          ]
        },
        {
          "name": "stderr",
          "output_type": "stream",
          "text": [
            "Chain 0: 100%|██████████| 25/25 [00:00<00:00, 25.43it/s]\n"
          ]
        },
        {
          "name": "stdout",
          "output_type": "stream",
          "text": [
            "Moving model to device:  cpu\n"
          ]
        },
        {
          "name": "stderr",
          "output_type": "stream",
          "text": [
            "Chain 1: 100%|██████████| 25/25 [00:00<00:00, 28.83it/s]\n"
          ]
        },
        {
          "name": "stdout",
          "output_type": "stream",
          "text": [
            "Moving model to device:  cpu\n"
          ]
        },
        {
          "name": "stderr",
          "output_type": "stream",
          "text": [
            "Chain 2: 100%|██████████| 25/25 [00:00<00:00, 29.62it/s]\n"
          ]
        },
        {
          "name": "stdout",
          "output_type": "stream",
          "text": [
            "Moving model to device:  cpu\n"
          ]
        },
        {
          "name": "stderr",
          "output_type": "stream",
          "text": [
            "Chain 3: 100%|██████████| 25/25 [00:00<00:00, 27.47it/s]\n"
          ]
        },
        {
          "name": "stdout",
          "output_type": "stream",
          "text": [
            "Moving model to device:  cpu\n"
          ]
        },
        {
          "name": "stderr",
          "output_type": "stream",
          "text": [
            "Chain 4: 100%|██████████| 25/25 [00:00<00:00, 29.24it/s]\n"
          ]
        },
        {
          "name": "stdout",
          "output_type": "stream",
          "text": [
            "Moving model to device:  cpu\n"
          ]
        },
        {
          "name": "stderr",
          "output_type": "stream",
          "text": [
            "Chain 5: 100%|██████████| 25/25 [00:00<00:00, 29.61it/s]\n"
          ]
        },
        {
          "name": "stdout",
          "output_type": "stream",
          "text": [
            "Moving model to device:  cpu\n"
          ]
        },
        {
          "name": "stderr",
          "output_type": "stream",
          "text": [
            "Chain 6: 100%|██████████| 25/25 [00:00<00:00, 29.71it/s]\n"
          ]
        },
        {
          "name": "stdout",
          "output_type": "stream",
          "text": [
            "Moving model to device:  cpu\n"
          ]
        },
        {
          "name": "stderr",
          "output_type": "stream",
          "text": [
            "Chain 7: 100%|██████████| 25/25 [00:00<00:00, 28.86it/s]\n"
          ]
        },
        {
          "name": "stdout",
          "output_type": "stream",
          "text": [
            "Moving model to device:  cpu\n"
          ]
        },
        {
          "name": "stderr",
          "output_type": "stream",
          "text": [
            "Chain 8: 100%|██████████| 25/25 [00:00<00:00, 29.13it/s]\n"
          ]
        },
        {
          "name": "stdout",
          "output_type": "stream",
          "text": [
            "Moving model to device:  cpu\n"
          ]
        },
        {
          "name": "stderr",
          "output_type": "stream",
          "text": [
            "Chain 9: 100%|██████████| 25/25 [00:00<00:00, 29.57it/s]\n"
          ]
        },
        {
          "name": "stdout",
          "output_type": "stream",
          "text": [
            "Moving model to device:  cpu\n"
          ]
        },
        {
          "name": "stderr",
          "output_type": "stream",
          "text": [
            "Chain 10: 100%|██████████| 25/25 [00:00<00:00, 30.39it/s]\n"
          ]
        },
        {
          "name": "stdout",
          "output_type": "stream",
          "text": [
            "Moving model to device:  cpu\n"
          ]
        },
        {
          "name": "stderr",
          "output_type": "stream",
          "text": [
            "Chain 11: 100%|██████████| 25/25 [00:01<00:00, 24.03it/s]\n"
          ]
        },
        {
          "name": "stdout",
          "output_type": "stream",
          "text": [
            "Moving model to device:  cpu\n"
          ]
        },
        {
          "name": "stderr",
          "output_type": "stream",
          "text": [
            "Chain 12: 100%|██████████| 25/25 [00:00<00:00, 30.15it/s]\n"
          ]
        },
        {
          "name": "stdout",
          "output_type": "stream",
          "text": [
            "Moving model to device:  cpu\n"
          ]
        },
        {
          "name": "stderr",
          "output_type": "stream",
          "text": [
            "Chain 13: 100%|██████████| 25/25 [00:00<00:00, 29.50it/s]\n"
          ]
        },
        {
          "name": "stdout",
          "output_type": "stream",
          "text": [
            "Moving model to device:  cpu\n"
          ]
        },
        {
          "name": "stderr",
          "output_type": "stream",
          "text": [
            "Chain 14: 100%|██████████| 25/25 [00:00<00:00, 29.07it/s]\n"
          ]
        },
        {
          "name": "stdout",
          "output_type": "stream",
          "text": [
            "result = 776.7307739257812\n",
            "Moving model to device:  cpu\n",
            "Moving model to device:  cpu\n",
            "Moving model to device:  cpu\n"
          ]
        },
        {
          "name": "stderr",
          "output_type": "stream",
          "text": [
            "Chain 0: 100%|██████████| 25/25 [00:00<00:00, 29.41it/s]\n"
          ]
        },
        {
          "name": "stdout",
          "output_type": "stream",
          "text": [
            "Moving model to device:  cpu\n"
          ]
        },
        {
          "name": "stderr",
          "output_type": "stream",
          "text": [
            "Chain 1: 100%|██████████| 25/25 [00:00<00:00, 29.56it/s]\n"
          ]
        },
        {
          "name": "stdout",
          "output_type": "stream",
          "text": [
            "Moving model to device:  cpu\n"
          ]
        },
        {
          "name": "stderr",
          "output_type": "stream",
          "text": [
            "Chain 2: 100%|██████████| 25/25 [00:00<00:00, 29.51it/s]\n"
          ]
        },
        {
          "name": "stdout",
          "output_type": "stream",
          "text": [
            "Moving model to device:  cpu\n"
          ]
        },
        {
          "name": "stderr",
          "output_type": "stream",
          "text": [
            "Chain 3: 100%|██████████| 25/25 [00:00<00:00, 28.14it/s]\n"
          ]
        },
        {
          "name": "stdout",
          "output_type": "stream",
          "text": [
            "Moving model to device:  cpu\n"
          ]
        },
        {
          "name": "stderr",
          "output_type": "stream",
          "text": [
            "Chain 4: 100%|██████████| 25/25 [00:00<00:00, 29.12it/s]\n"
          ]
        },
        {
          "name": "stdout",
          "output_type": "stream",
          "text": [
            "Moving model to device:  cpu\n"
          ]
        },
        {
          "name": "stderr",
          "output_type": "stream",
          "text": [
            "Chain 5: 100%|██████████| 25/25 [00:00<00:00, 29.64it/s]\n"
          ]
        },
        {
          "name": "stdout",
          "output_type": "stream",
          "text": [
            "Moving model to device:  cpu\n"
          ]
        },
        {
          "name": "stderr",
          "output_type": "stream",
          "text": [
            "Chain 6: 100%|██████████| 25/25 [00:01<00:00, 24.38it/s]\n"
          ]
        },
        {
          "name": "stdout",
          "output_type": "stream",
          "text": [
            "Moving model to device:  cpu\n"
          ]
        },
        {
          "name": "stderr",
          "output_type": "stream",
          "text": [
            "Chain 7: 100%|██████████| 25/25 [00:00<00:00, 28.64it/s]\n"
          ]
        },
        {
          "name": "stdout",
          "output_type": "stream",
          "text": [
            "Moving model to device:  cpu\n"
          ]
        },
        {
          "name": "stderr",
          "output_type": "stream",
          "text": [
            "Chain 8: 100%|██████████| 25/25 [00:00<00:00, 30.23it/s]\n"
          ]
        },
        {
          "name": "stdout",
          "output_type": "stream",
          "text": [
            "Moving model to device:  cpu\n"
          ]
        },
        {
          "name": "stderr",
          "output_type": "stream",
          "text": [
            "Chain 9: 100%|██████████| 25/25 [00:00<00:00, 30.01it/s]\n"
          ]
        },
        {
          "name": "stdout",
          "output_type": "stream",
          "text": [
            "Moving model to device:  cpu\n"
          ]
        },
        {
          "name": "stderr",
          "output_type": "stream",
          "text": [
            "Chain 10: 100%|██████████| 25/25 [00:00<00:00, 29.38it/s]\n"
          ]
        },
        {
          "name": "stdout",
          "output_type": "stream",
          "text": [
            "Moving model to device:  cpu\n"
          ]
        },
        {
          "name": "stderr",
          "output_type": "stream",
          "text": [
            "Chain 11: 100%|██████████| 25/25 [00:00<00:00, 27.83it/s]\n"
          ]
        },
        {
          "name": "stdout",
          "output_type": "stream",
          "text": [
            "Moving model to device:  cpu\n"
          ]
        },
        {
          "name": "stderr",
          "output_type": "stream",
          "text": [
            "Chain 12: 100%|██████████| 25/25 [00:00<00:00, 30.19it/s]\n"
          ]
        },
        {
          "name": "stdout",
          "output_type": "stream",
          "text": [
            "Moving model to device:  cpu\n"
          ]
        },
        {
          "name": "stderr",
          "output_type": "stream",
          "text": [
            "Chain 13: 100%|██████████| 25/25 [00:00<00:00, 29.73it/s]\n"
          ]
        },
        {
          "name": "stdout",
          "output_type": "stream",
          "text": [
            "Moving model to device:  cpu\n"
          ]
        },
        {
          "name": "stderr",
          "output_type": "stream",
          "text": [
            "Chain 14: 100%|██████████| 25/25 [00:00<00:00, 31.57it/s]\n"
          ]
        },
        {
          "name": "stdout",
          "output_type": "stream",
          "text": [
            "result = 774.9265747070312\n",
            "Moving model to device:  cpu\n",
            "Moving model to device:  cpu\n",
            "Moving model to device:  cpu\n"
          ]
        },
        {
          "name": "stderr",
          "output_type": "stream",
          "text": [
            "Chain 0: 100%|██████████| 25/25 [00:01<00:00, 24.53it/s]\n"
          ]
        },
        {
          "name": "stdout",
          "output_type": "stream",
          "text": [
            "Moving model to device:  cpu\n"
          ]
        },
        {
          "name": "stderr",
          "output_type": "stream",
          "text": [
            "Chain 1: 100%|██████████| 25/25 [00:00<00:00, 30.28it/s]\n"
          ]
        },
        {
          "name": "stdout",
          "output_type": "stream",
          "text": [
            "Moving model to device:  cpu\n"
          ]
        },
        {
          "name": "stderr",
          "output_type": "stream",
          "text": [
            "Chain 2: 100%|██████████| 25/25 [00:00<00:00, 29.96it/s]\n"
          ]
        },
        {
          "name": "stdout",
          "output_type": "stream",
          "text": [
            "Moving model to device:  cpu\n"
          ]
        },
        {
          "name": "stderr",
          "output_type": "stream",
          "text": [
            "Chain 3: 100%|██████████| 25/25 [00:00<00:00, 30.72it/s]\n"
          ]
        },
        {
          "name": "stdout",
          "output_type": "stream",
          "text": [
            "Moving model to device:  cpu\n"
          ]
        },
        {
          "name": "stderr",
          "output_type": "stream",
          "text": [
            "Chain 4: 100%|██████████| 25/25 [00:00<00:00, 28.04it/s]\n"
          ]
        },
        {
          "name": "stdout",
          "output_type": "stream",
          "text": [
            "Moving model to device:  cpu\n"
          ]
        },
        {
          "name": "stderr",
          "output_type": "stream",
          "text": [
            "Chain 5: 100%|██████████| 25/25 [00:00<00:00, 30.12it/s]\n"
          ]
        },
        {
          "name": "stdout",
          "output_type": "stream",
          "text": [
            "Moving model to device:  cpu\n"
          ]
        },
        {
          "name": "stderr",
          "output_type": "stream",
          "text": [
            "Chain 6: 100%|██████████| 25/25 [00:00<00:00, 29.51it/s]\n"
          ]
        },
        {
          "name": "stdout",
          "output_type": "stream",
          "text": [
            "Moving model to device:  cpu\n"
          ]
        },
        {
          "name": "stderr",
          "output_type": "stream",
          "text": [
            "Chain 7: 100%|██████████| 25/25 [00:00<00:00, 29.52it/s]\n"
          ]
        },
        {
          "name": "stdout",
          "output_type": "stream",
          "text": [
            "Moving model to device:  cpu\n"
          ]
        },
        {
          "name": "stderr",
          "output_type": "stream",
          "text": [
            "Chain 8: 100%|██████████| 25/25 [00:00<00:00, 27.54it/s]\n"
          ]
        },
        {
          "name": "stdout",
          "output_type": "stream",
          "text": [
            "Moving model to device:  cpu\n"
          ]
        },
        {
          "name": "stderr",
          "output_type": "stream",
          "text": [
            "Chain 9: 100%|██████████| 25/25 [00:00<00:00, 28.74it/s]\n"
          ]
        },
        {
          "name": "stdout",
          "output_type": "stream",
          "text": [
            "Moving model to device:  cpu\n"
          ]
        },
        {
          "name": "stderr",
          "output_type": "stream",
          "text": [
            "Chain 10: 100%|██████████| 25/25 [00:00<00:00, 28.26it/s]\n"
          ]
        },
        {
          "name": "stdout",
          "output_type": "stream",
          "text": [
            "Moving model to device:  cpu\n"
          ]
        },
        {
          "name": "stderr",
          "output_type": "stream",
          "text": [
            "Chain 11: 100%|██████████| 25/25 [00:00<00:00, 28.91it/s]\n"
          ]
        },
        {
          "name": "stdout",
          "output_type": "stream",
          "text": [
            "Moving model to device:  cpu\n"
          ]
        },
        {
          "name": "stderr",
          "output_type": "stream",
          "text": [
            "Chain 12: 100%|██████████| 25/25 [00:01<00:00, 24.53it/s]\n"
          ]
        },
        {
          "name": "stdout",
          "output_type": "stream",
          "text": [
            "Moving model to device:  cpu\n"
          ]
        },
        {
          "name": "stderr",
          "output_type": "stream",
          "text": [
            "Chain 13: 100%|██████████| 25/25 [00:00<00:00, 29.61it/s]\n"
          ]
        },
        {
          "name": "stdout",
          "output_type": "stream",
          "text": [
            "Moving model to device:  cpu\n"
          ]
        },
        {
          "name": "stderr",
          "output_type": "stream",
          "text": [
            "Chain 14: 100%|██████████| 25/25 [00:00<00:00, 30.15it/s]\n"
          ]
        },
        {
          "name": "stdout",
          "output_type": "stream",
          "text": [
            "result = 651.627685546875\n",
            "Moving model to device:  cpu\n",
            "Moving model to device:  cpu\n",
            "Moving model to device:  cpu\n"
          ]
        },
        {
          "name": "stderr",
          "output_type": "stream",
          "text": [
            "Chain 0: 100%|██████████| 25/25 [00:00<00:00, 28.35it/s]\n"
          ]
        },
        {
          "name": "stdout",
          "output_type": "stream",
          "text": [
            "Moving model to device:  cpu\n"
          ]
        },
        {
          "name": "stderr",
          "output_type": "stream",
          "text": [
            "Chain 1: 100%|██████████| 25/25 [00:00<00:00, 30.30it/s]\n"
          ]
        },
        {
          "name": "stdout",
          "output_type": "stream",
          "text": [
            "Moving model to device:  cpu\n"
          ]
        },
        {
          "name": "stderr",
          "output_type": "stream",
          "text": [
            "Chain 2: 100%|██████████| 25/25 [00:00<00:00, 30.23it/s]\n"
          ]
        },
        {
          "name": "stdout",
          "output_type": "stream",
          "text": [
            "Moving model to device:  cpu\n"
          ]
        },
        {
          "name": "stderr",
          "output_type": "stream",
          "text": [
            "Chain 3: 100%|██████████| 25/25 [00:00<00:00, 29.76it/s]\n"
          ]
        },
        {
          "name": "stdout",
          "output_type": "stream",
          "text": [
            "Moving model to device:  cpu\n"
          ]
        },
        {
          "name": "stderr",
          "output_type": "stream",
          "text": [
            "Chain 4: 100%|██████████| 25/25 [00:00<00:00, 29.25it/s]\n"
          ]
        },
        {
          "name": "stdout",
          "output_type": "stream",
          "text": [
            "Moving model to device:  cpu\n"
          ]
        },
        {
          "name": "stderr",
          "output_type": "stream",
          "text": [
            "Chain 5: 100%|██████████| 25/25 [00:00<00:00, 29.93it/s]\n"
          ]
        },
        {
          "name": "stdout",
          "output_type": "stream",
          "text": [
            "Moving model to device:  cpu\n"
          ]
        },
        {
          "name": "stderr",
          "output_type": "stream",
          "text": [
            "Chain 6: 100%|██████████| 25/25 [00:00<00:00, 30.18it/s]\n"
          ]
        },
        {
          "name": "stdout",
          "output_type": "stream",
          "text": [
            "Moving model to device:  cpu\n"
          ]
        },
        {
          "name": "stderr",
          "output_type": "stream",
          "text": [
            "Chain 7: 100%|██████████| 25/25 [00:00<00:00, 25.21it/s]\n"
          ]
        },
        {
          "name": "stdout",
          "output_type": "stream",
          "text": [
            "Moving model to device:  cpu\n"
          ]
        },
        {
          "name": "stderr",
          "output_type": "stream",
          "text": [
            "Chain 8: 100%|██████████| 25/25 [00:00<00:00, 28.03it/s]\n"
          ]
        },
        {
          "name": "stdout",
          "output_type": "stream",
          "text": [
            "Moving model to device:  cpu\n"
          ]
        },
        {
          "name": "stderr",
          "output_type": "stream",
          "text": [
            "Chain 9: 100%|██████████| 25/25 [00:00<00:00, 29.23it/s]\n"
          ]
        },
        {
          "name": "stdout",
          "output_type": "stream",
          "text": [
            "Moving model to device:  cpu\n"
          ]
        },
        {
          "name": "stderr",
          "output_type": "stream",
          "text": [
            "Chain 10: 100%|██████████| 25/25 [00:00<00:00, 29.87it/s]\n"
          ]
        },
        {
          "name": "stdout",
          "output_type": "stream",
          "text": [
            "Moving model to device:  cpu\n"
          ]
        },
        {
          "name": "stderr",
          "output_type": "stream",
          "text": [
            "Chain 11: 100%|██████████| 25/25 [00:00<00:00, 29.51it/s]\n"
          ]
        },
        {
          "name": "stdout",
          "output_type": "stream",
          "text": [
            "Moving model to device:  cpu\n"
          ]
        },
        {
          "name": "stderr",
          "output_type": "stream",
          "text": [
            "Chain 12: 100%|██████████| 25/25 [00:00<00:00, 28.09it/s]\n"
          ]
        },
        {
          "name": "stdout",
          "output_type": "stream",
          "text": [
            "Moving model to device:  cpu\n"
          ]
        },
        {
          "name": "stderr",
          "output_type": "stream",
          "text": [
            "Chain 13: 100%|██████████| 25/25 [00:00<00:00, 29.85it/s]\n"
          ]
        },
        {
          "name": "stdout",
          "output_type": "stream",
          "text": [
            "Moving model to device:  cpu\n"
          ]
        },
        {
          "name": "stderr",
          "output_type": "stream",
          "text": [
            "Chain 14: 100%|██████████| 25/25 [00:00<00:00, 29.22it/s]\n"
          ]
        },
        {
          "name": "stdout",
          "output_type": "stream",
          "text": [
            "result = 770.5020751953125\n",
            "Moving model to device:  cpu\n",
            "Moving model to device:  cpu\n",
            "Moving model to device:  cpu\n"
          ]
        },
        {
          "name": "stderr",
          "output_type": "stream",
          "text": [
            "Chain 0: 100%|██████████| 25/25 [00:00<00:00, 28.36it/s]\n"
          ]
        },
        {
          "name": "stdout",
          "output_type": "stream",
          "text": [
            "Moving model to device:  cpu\n"
          ]
        },
        {
          "name": "stderr",
          "output_type": "stream",
          "text": [
            "Chain 1: 100%|██████████| 25/25 [00:00<00:00, 30.51it/s]\n"
          ]
        },
        {
          "name": "stdout",
          "output_type": "stream",
          "text": [
            "Moving model to device:  cpu\n"
          ]
        },
        {
          "name": "stderr",
          "output_type": "stream",
          "text": [
            "Chain 2: 100%|██████████| 25/25 [00:00<00:00, 26.15it/s]\n"
          ]
        },
        {
          "name": "stdout",
          "output_type": "stream",
          "text": [
            "Moving model to device:  cpu\n"
          ]
        },
        {
          "name": "stderr",
          "output_type": "stream",
          "text": [
            "Chain 3: 100%|██████████| 25/25 [00:00<00:00, 30.86it/s]\n"
          ]
        },
        {
          "name": "stdout",
          "output_type": "stream",
          "text": [
            "Moving model to device:  cpu\n"
          ]
        },
        {
          "name": "stderr",
          "output_type": "stream",
          "text": [
            "Chain 4: 100%|██████████| 25/25 [00:00<00:00, 28.18it/s]\n"
          ]
        },
        {
          "name": "stdout",
          "output_type": "stream",
          "text": [
            "Moving model to device:  cpu\n"
          ]
        },
        {
          "name": "stderr",
          "output_type": "stream",
          "text": [
            "Chain 5: 100%|██████████| 25/25 [00:00<00:00, 29.21it/s]\n"
          ]
        },
        {
          "name": "stdout",
          "output_type": "stream",
          "text": [
            "Moving model to device:  cpu\n"
          ]
        },
        {
          "name": "stderr",
          "output_type": "stream",
          "text": [
            "Chain 6: 100%|██████████| 25/25 [00:00<00:00, 27.51it/s]\n"
          ]
        },
        {
          "name": "stdout",
          "output_type": "stream",
          "text": [
            "Moving model to device:  cpu\n"
          ]
        },
        {
          "name": "stderr",
          "output_type": "stream",
          "text": [
            "Chain 7: 100%|██████████| 25/25 [00:00<00:00, 29.54it/s]\n"
          ]
        },
        {
          "name": "stdout",
          "output_type": "stream",
          "text": [
            "Moving model to device:  cpu\n"
          ]
        },
        {
          "name": "stderr",
          "output_type": "stream",
          "text": [
            "Chain 8: 100%|██████████| 25/25 [00:00<00:00, 27.44it/s]\n"
          ]
        },
        {
          "name": "stdout",
          "output_type": "stream",
          "text": [
            "Moving model to device:  cpu\n"
          ]
        },
        {
          "name": "stderr",
          "output_type": "stream",
          "text": [
            "Chain 9: 100%|██████████| 25/25 [00:00<00:00, 28.94it/s]\n"
          ]
        },
        {
          "name": "stdout",
          "output_type": "stream",
          "text": [
            "Moving model to device:  cpu\n"
          ]
        },
        {
          "name": "stderr",
          "output_type": "stream",
          "text": [
            "Chain 10: 100%|██████████| 25/25 [00:00<00:00, 29.84it/s]\n"
          ]
        },
        {
          "name": "stdout",
          "output_type": "stream",
          "text": [
            "Moving model to device:  cpu\n"
          ]
        },
        {
          "name": "stderr",
          "output_type": "stream",
          "text": [
            "Chain 11: 100%|██████████| 25/25 [00:00<00:00, 29.13it/s]\n"
          ]
        },
        {
          "name": "stdout",
          "output_type": "stream",
          "text": [
            "Moving model to device:  cpu\n"
          ]
        },
        {
          "name": "stderr",
          "output_type": "stream",
          "text": [
            "Chain 12: 100%|██████████| 25/25 [00:00<00:00, 27.97it/s]\n"
          ]
        },
        {
          "name": "stdout",
          "output_type": "stream",
          "text": [
            "Moving model to device:  cpu\n"
          ]
        },
        {
          "name": "stderr",
          "output_type": "stream",
          "text": [
            "Chain 13: 100%|██████████| 25/25 [00:00<00:00, 25.38it/s]\n"
          ]
        },
        {
          "name": "stdout",
          "output_type": "stream",
          "text": [
            "Moving model to device:  cpu\n"
          ]
        },
        {
          "name": "stderr",
          "output_type": "stream",
          "text": [
            "Chain 14: 100%|██████████| 25/25 [00:00<00:00, 28.81it/s]\n"
          ]
        },
        {
          "name": "stdout",
          "output_type": "stream",
          "text": [
            "result = 767.6594848632812\n",
            "Moving model to device:  cpu\n",
            "Moving model to device:  cpu\n",
            "Moving model to device:  cpu\n"
          ]
        },
        {
          "name": "stderr",
          "output_type": "stream",
          "text": [
            "Chain 0: 100%|██████████| 25/25 [00:00<00:00, 27.50it/s]\n"
          ]
        },
        {
          "name": "stdout",
          "output_type": "stream",
          "text": [
            "Moving model to device:  cpu\n"
          ]
        },
        {
          "name": "stderr",
          "output_type": "stream",
          "text": [
            "Chain 1: 100%|██████████| 25/25 [00:00<00:00, 29.08it/s]\n"
          ]
        },
        {
          "name": "stdout",
          "output_type": "stream",
          "text": [
            "Moving model to device:  cpu\n"
          ]
        },
        {
          "name": "stderr",
          "output_type": "stream",
          "text": [
            "Chain 2: 100%|██████████| 25/25 [00:00<00:00, 29.65it/s]\n"
          ]
        },
        {
          "name": "stdout",
          "output_type": "stream",
          "text": [
            "Moving model to device:  cpu\n"
          ]
        },
        {
          "name": "stderr",
          "output_type": "stream",
          "text": [
            "Chain 3: 100%|██████████| 25/25 [00:00<00:00, 29.68it/s]\n"
          ]
        },
        {
          "name": "stdout",
          "output_type": "stream",
          "text": [
            "Moving model to device:  cpu\n"
          ]
        },
        {
          "name": "stderr",
          "output_type": "stream",
          "text": [
            "Chain 4: 100%|██████████| 25/25 [00:00<00:00, 28.00it/s]\n"
          ]
        },
        {
          "name": "stdout",
          "output_type": "stream",
          "text": [
            "Moving model to device:  cpu\n"
          ]
        },
        {
          "name": "stderr",
          "output_type": "stream",
          "text": [
            "Chain 5: 100%|██████████| 25/25 [00:00<00:00, 30.29it/s]\n"
          ]
        },
        {
          "name": "stdout",
          "output_type": "stream",
          "text": [
            "Moving model to device:  cpu\n"
          ]
        },
        {
          "name": "stderr",
          "output_type": "stream",
          "text": [
            "Chain 6: 100%|██████████| 25/25 [00:00<00:00, 29.58it/s]\n"
          ]
        },
        {
          "name": "stdout",
          "output_type": "stream",
          "text": [
            "Moving model to device:  cpu\n"
          ]
        },
        {
          "name": "stderr",
          "output_type": "stream",
          "text": [
            "Chain 7: 100%|██████████| 25/25 [00:00<00:00, 30.26it/s]\n"
          ]
        },
        {
          "name": "stdout",
          "output_type": "stream",
          "text": [
            "Moving model to device:  cpu\n"
          ]
        },
        {
          "name": "stderr",
          "output_type": "stream",
          "text": [
            "Chain 8: 100%|██████████| 25/25 [00:01<00:00, 24.35it/s]\n"
          ]
        },
        {
          "name": "stdout",
          "output_type": "stream",
          "text": [
            "Moving model to device:  cpu\n"
          ]
        },
        {
          "name": "stderr",
          "output_type": "stream",
          "text": [
            "Chain 9: 100%|██████████| 25/25 [00:00<00:00, 29.03it/s]\n"
          ]
        },
        {
          "name": "stdout",
          "output_type": "stream",
          "text": [
            "Moving model to device:  cpu\n"
          ]
        },
        {
          "name": "stderr",
          "output_type": "stream",
          "text": [
            "Chain 10: 100%|██████████| 25/25 [00:00<00:00, 30.28it/s]\n"
          ]
        },
        {
          "name": "stdout",
          "output_type": "stream",
          "text": [
            "Moving model to device:  cpu\n"
          ]
        },
        {
          "name": "stderr",
          "output_type": "stream",
          "text": [
            "Chain 11: 100%|██████████| 25/25 [00:00<00:00, 29.46it/s]\n"
          ]
        },
        {
          "name": "stdout",
          "output_type": "stream",
          "text": [
            "Moving model to device:  cpu\n"
          ]
        },
        {
          "name": "stderr",
          "output_type": "stream",
          "text": [
            "Chain 12: 100%|██████████| 25/25 [00:01<00:00, 24.93it/s]\n"
          ]
        },
        {
          "name": "stdout",
          "output_type": "stream",
          "text": [
            "Moving model to device:  cpu\n"
          ]
        },
        {
          "name": "stderr",
          "output_type": "stream",
          "text": [
            "Chain 13: 100%|██████████| 25/25 [00:00<00:00, 29.06it/s]\n"
          ]
        },
        {
          "name": "stdout",
          "output_type": "stream",
          "text": [
            "Moving model to device:  cpu\n"
          ]
        },
        {
          "name": "stderr",
          "output_type": "stream",
          "text": [
            "Chain 14: 100%|██████████| 25/25 [00:00<00:00, 29.24it/s]\n"
          ]
        },
        {
          "name": "stdout",
          "output_type": "stream",
          "text": [
            "result = 771.3953247070312\n",
            "Moving model to device:  cpu\n",
            "Moving model to device:  cpu\n",
            "Moving model to device:  cpu\n"
          ]
        },
        {
          "name": "stderr",
          "output_type": "stream",
          "text": [
            "Chain 0: 100%|██████████| 25/25 [00:00<00:00, 28.20it/s]\n"
          ]
        },
        {
          "name": "stdout",
          "output_type": "stream",
          "text": [
            "Moving model to device:  cpu\n"
          ]
        },
        {
          "name": "stderr",
          "output_type": "stream",
          "text": [
            "Chain 1: 100%|██████████| 25/25 [00:00<00:00, 29.55it/s]\n"
          ]
        },
        {
          "name": "stdout",
          "output_type": "stream",
          "text": [
            "Moving model to device:  cpu\n"
          ]
        },
        {
          "name": "stderr",
          "output_type": "stream",
          "text": [
            "Chain 2: 100%|██████████| 25/25 [00:00<00:00, 29.60it/s]\n"
          ]
        },
        {
          "name": "stdout",
          "output_type": "stream",
          "text": [
            "Moving model to device:  cpu\n"
          ]
        },
        {
          "name": "stderr",
          "output_type": "stream",
          "text": [
            "Chain 3: 100%|██████████| 25/25 [00:01<00:00, 24.72it/s]\n"
          ]
        },
        {
          "name": "stdout",
          "output_type": "stream",
          "text": [
            "Moving model to device:  cpu\n"
          ]
        },
        {
          "name": "stderr",
          "output_type": "stream",
          "text": [
            "Chain 4: 100%|██████████| 25/25 [00:00<00:00, 26.87it/s]\n"
          ]
        },
        {
          "name": "stdout",
          "output_type": "stream",
          "text": [
            "Moving model to device:  cpu\n"
          ]
        },
        {
          "name": "stderr",
          "output_type": "stream",
          "text": [
            "Chain 5: 100%|██████████| 25/25 [00:00<00:00, 29.35it/s]\n"
          ]
        },
        {
          "name": "stdout",
          "output_type": "stream",
          "text": [
            "Moving model to device:  cpu\n"
          ]
        },
        {
          "name": "stderr",
          "output_type": "stream",
          "text": [
            "Chain 6: 100%|██████████| 25/25 [00:00<00:00, 30.17it/s]\n"
          ]
        },
        {
          "name": "stdout",
          "output_type": "stream",
          "text": [
            "Moving model to device:  cpu\n"
          ]
        },
        {
          "name": "stderr",
          "output_type": "stream",
          "text": [
            "Chain 7: 100%|██████████| 25/25 [00:00<00:00, 30.37it/s]\n"
          ]
        },
        {
          "name": "stdout",
          "output_type": "stream",
          "text": [
            "Moving model to device:  cpu\n"
          ]
        },
        {
          "name": "stderr",
          "output_type": "stream",
          "text": [
            "Chain 8: 100%|██████████| 25/25 [00:00<00:00, 28.87it/s]\n"
          ]
        },
        {
          "name": "stdout",
          "output_type": "stream",
          "text": [
            "Moving model to device:  cpu\n"
          ]
        },
        {
          "name": "stderr",
          "output_type": "stream",
          "text": [
            "Chain 9: 100%|██████████| 25/25 [00:00<00:00, 30.24it/s]\n"
          ]
        },
        {
          "name": "stdout",
          "output_type": "stream",
          "text": [
            "Moving model to device:  cpu\n"
          ]
        },
        {
          "name": "stderr",
          "output_type": "stream",
          "text": [
            "Chain 10: 100%|██████████| 25/25 [00:00<00:00, 30.98it/s]\n"
          ]
        },
        {
          "name": "stdout",
          "output_type": "stream",
          "text": [
            "Moving model to device:  cpu\n"
          ]
        },
        {
          "name": "stderr",
          "output_type": "stream",
          "text": [
            "Chain 11: 100%|██████████| 25/25 [00:00<00:00, 31.14it/s]\n"
          ]
        },
        {
          "name": "stdout",
          "output_type": "stream",
          "text": [
            "Moving model to device:  cpu\n"
          ]
        },
        {
          "name": "stderr",
          "output_type": "stream",
          "text": [
            "Chain 12: 100%|██████████| 25/25 [00:00<00:00, 29.68it/s]\n"
          ]
        },
        {
          "name": "stdout",
          "output_type": "stream",
          "text": [
            "Moving model to device:  cpu\n"
          ]
        },
        {
          "name": "stderr",
          "output_type": "stream",
          "text": [
            "Chain 13: 100%|██████████| 25/25 [00:00<00:00, 31.27it/s]\n"
          ]
        },
        {
          "name": "stdout",
          "output_type": "stream",
          "text": [
            "Moving model to device:  cpu\n"
          ]
        },
        {
          "name": "stderr",
          "output_type": "stream",
          "text": [
            "Chain 14: 100%|██████████| 25/25 [00:00<00:00, 26.02it/s]\n"
          ]
        },
        {
          "name": "stdout",
          "output_type": "stream",
          "text": [
            "result = 777.0797119140625\n",
            "Moving model to device:  cpu\n",
            "Moving model to device:  cpu\n",
            "Moving model to device:  cpu\n"
          ]
        },
        {
          "name": "stderr",
          "output_type": "stream",
          "text": [
            "Chain 0: 100%|██████████| 25/25 [00:00<00:00, 29.04it/s]\n"
          ]
        },
        {
          "name": "stdout",
          "output_type": "stream",
          "text": [
            "Moving model to device:  cpu\n"
          ]
        },
        {
          "name": "stderr",
          "output_type": "stream",
          "text": [
            "Chain 1: 100%|██████████| 25/25 [00:00<00:00, 30.29it/s]\n"
          ]
        },
        {
          "name": "stdout",
          "output_type": "stream",
          "text": [
            "Moving model to device:  cpu\n"
          ]
        },
        {
          "name": "stderr",
          "output_type": "stream",
          "text": [
            "Chain 2: 100%|██████████| 25/25 [00:00<00:00, 30.48it/s]\n"
          ]
        },
        {
          "name": "stdout",
          "output_type": "stream",
          "text": [
            "Moving model to device:  cpu\n"
          ]
        },
        {
          "name": "stderr",
          "output_type": "stream",
          "text": [
            "Chain 3: 100%|██████████| 25/25 [00:00<00:00, 30.43it/s]\n"
          ]
        },
        {
          "name": "stdout",
          "output_type": "stream",
          "text": [
            "Moving model to device:  cpu\n"
          ]
        },
        {
          "name": "stderr",
          "output_type": "stream",
          "text": [
            "Chain 4: 100%|██████████| 25/25 [00:00<00:00, 28.35it/s]\n"
          ]
        },
        {
          "name": "stdout",
          "output_type": "stream",
          "text": [
            "Moving model to device:  cpu\n"
          ]
        },
        {
          "name": "stderr",
          "output_type": "stream",
          "text": [
            "Chain 5: 100%|██████████| 25/25 [00:00<00:00, 30.35it/s]\n"
          ]
        },
        {
          "name": "stdout",
          "output_type": "stream",
          "text": [
            "Moving model to device:  cpu\n"
          ]
        },
        {
          "name": "stderr",
          "output_type": "stream",
          "text": [
            "Chain 6: 100%|██████████| 25/25 [00:00<00:00, 30.83it/s]\n"
          ]
        },
        {
          "name": "stdout",
          "output_type": "stream",
          "text": [
            "Moving model to device:  cpu\n"
          ]
        },
        {
          "name": "stderr",
          "output_type": "stream",
          "text": [
            "Chain 7: 100%|██████████| 25/25 [00:00<00:00, 29.44it/s]\n"
          ]
        },
        {
          "name": "stdout",
          "output_type": "stream",
          "text": [
            "Moving model to device:  cpu\n"
          ]
        },
        {
          "name": "stderr",
          "output_type": "stream",
          "text": [
            "Chain 8: 100%|██████████| 25/25 [00:00<00:00, 28.34it/s]\n"
          ]
        },
        {
          "name": "stdout",
          "output_type": "stream",
          "text": [
            "Moving model to device:  cpu\n"
          ]
        },
        {
          "name": "stderr",
          "output_type": "stream",
          "text": [
            "Chain 9: 100%|██████████| 25/25 [00:00<00:00, 25.43it/s]\n"
          ]
        },
        {
          "name": "stdout",
          "output_type": "stream",
          "text": [
            "Moving model to device:  cpu\n"
          ]
        },
        {
          "name": "stderr",
          "output_type": "stream",
          "text": [
            "Chain 10: 100%|██████████| 25/25 [00:00<00:00, 30.42it/s]\n"
          ]
        },
        {
          "name": "stdout",
          "output_type": "stream",
          "text": [
            "Moving model to device:  cpu\n"
          ]
        },
        {
          "name": "stderr",
          "output_type": "stream",
          "text": [
            "Chain 11: 100%|██████████| 25/25 [00:00<00:00, 29.90it/s]\n"
          ]
        },
        {
          "name": "stdout",
          "output_type": "stream",
          "text": [
            "Moving model to device:  cpu\n"
          ]
        },
        {
          "name": "stderr",
          "output_type": "stream",
          "text": [
            "Chain 12: 100%|██████████| 25/25 [00:00<00:00, 28.87it/s]\n"
          ]
        },
        {
          "name": "stdout",
          "output_type": "stream",
          "text": [
            "Moving model to device:  cpu\n"
          ]
        },
        {
          "name": "stderr",
          "output_type": "stream",
          "text": [
            "Chain 13: 100%|██████████| 25/25 [00:00<00:00, 29.91it/s]\n"
          ]
        },
        {
          "name": "stdout",
          "output_type": "stream",
          "text": [
            "Moving model to device:  cpu\n"
          ]
        },
        {
          "name": "stderr",
          "output_type": "stream",
          "text": [
            "Chain 14: 100%|██████████| 25/25 [00:00<00:00, 29.84it/s]\n"
          ]
        },
        {
          "name": "stdout",
          "output_type": "stream",
          "text": [
            "result = 778.7067260742188\n",
            "Moving model to device:  cpu\n",
            "Moving model to device:  cpu\n",
            "Moving model to device:  cpu\n"
          ]
        },
        {
          "name": "stderr",
          "output_type": "stream",
          "text": [
            "Chain 0: 100%|██████████| 25/25 [00:00<00:00, 25.91it/s]\n"
          ]
        },
        {
          "name": "stdout",
          "output_type": "stream",
          "text": [
            "Moving model to device:  cpu\n"
          ]
        },
        {
          "name": "stderr",
          "output_type": "stream",
          "text": [
            "Chain 1: 100%|██████████| 25/25 [00:00<00:00, 30.69it/s]\n"
          ]
        },
        {
          "name": "stdout",
          "output_type": "stream",
          "text": [
            "Moving model to device:  cpu\n"
          ]
        },
        {
          "name": "stderr",
          "output_type": "stream",
          "text": [
            "Chain 2: 100%|██████████| 25/25 [00:00<00:00, 30.97it/s]\n"
          ]
        },
        {
          "name": "stdout",
          "output_type": "stream",
          "text": [
            "Moving model to device:  cpu\n"
          ]
        },
        {
          "name": "stderr",
          "output_type": "stream",
          "text": [
            "Chain 3: 100%|██████████| 25/25 [00:00<00:00, 25.33it/s]\n"
          ]
        },
        {
          "name": "stdout",
          "output_type": "stream",
          "text": [
            "Moving model to device:  cpu\n"
          ]
        },
        {
          "name": "stderr",
          "output_type": "stream",
          "text": [
            "Chain 4: 100%|██████████| 25/25 [00:00<00:00, 28.24it/s]\n"
          ]
        },
        {
          "name": "stdout",
          "output_type": "stream",
          "text": [
            "Moving model to device:  cpu\n"
          ]
        },
        {
          "name": "stderr",
          "output_type": "stream",
          "text": [
            "Chain 5: 100%|██████████| 25/25 [00:00<00:00, 29.30it/s]\n"
          ]
        },
        {
          "name": "stdout",
          "output_type": "stream",
          "text": [
            "Moving model to device:  cpu\n"
          ]
        },
        {
          "name": "stderr",
          "output_type": "stream",
          "text": [
            "Chain 6: 100%|██████████| 25/25 [00:00<00:00, 30.20it/s]\n"
          ]
        },
        {
          "name": "stdout",
          "output_type": "stream",
          "text": [
            "Moving model to device:  cpu\n"
          ]
        },
        {
          "name": "stderr",
          "output_type": "stream",
          "text": [
            "Chain 7: 100%|██████████| 25/25 [00:00<00:00, 29.74it/s]\n"
          ]
        },
        {
          "name": "stdout",
          "output_type": "stream",
          "text": [
            "Moving model to device:  cpu\n"
          ]
        },
        {
          "name": "stderr",
          "output_type": "stream",
          "text": [
            "Chain 8: 100%|██████████| 25/25 [00:00<00:00, 27.31it/s]\n"
          ]
        },
        {
          "name": "stdout",
          "output_type": "stream",
          "text": [
            "Moving model to device:  cpu\n"
          ]
        },
        {
          "name": "stderr",
          "output_type": "stream",
          "text": [
            "Chain 9: 100%|██████████| 25/25 [00:00<00:00, 29.86it/s]\n"
          ]
        },
        {
          "name": "stdout",
          "output_type": "stream",
          "text": [
            "Moving model to device:  cpu\n"
          ]
        },
        {
          "name": "stderr",
          "output_type": "stream",
          "text": [
            "Chain 10: 100%|██████████| 25/25 [00:00<00:00, 29.61it/s]\n"
          ]
        },
        {
          "name": "stdout",
          "output_type": "stream",
          "text": [
            "Moving model to device:  cpu\n"
          ]
        },
        {
          "name": "stderr",
          "output_type": "stream",
          "text": [
            "Chain 11: 100%|██████████| 25/25 [00:00<00:00, 29.90it/s]\n"
          ]
        },
        {
          "name": "stdout",
          "output_type": "stream",
          "text": [
            "Moving model to device:  cpu\n"
          ]
        },
        {
          "name": "stderr",
          "output_type": "stream",
          "text": [
            "Chain 12: 100%|██████████| 25/25 [00:00<00:00, 27.44it/s]\n"
          ]
        },
        {
          "name": "stdout",
          "output_type": "stream",
          "text": [
            "Moving model to device:  cpu\n"
          ]
        },
        {
          "name": "stderr",
          "output_type": "stream",
          "text": [
            "Chain 13: 100%|██████████| 25/25 [00:00<00:00, 29.96it/s]\n"
          ]
        },
        {
          "name": "stdout",
          "output_type": "stream",
          "text": [
            "Moving model to device:  cpu\n"
          ]
        },
        {
          "name": "stderr",
          "output_type": "stream",
          "text": [
            "Chain 14: 100%|██████████| 25/25 [00:00<00:00, 30.08it/s]\n"
          ]
        },
        {
          "name": "stdout",
          "output_type": "stream",
          "text": [
            "result = 776.1710815429688\n",
            "Moving model to device:  cpu\n",
            "Moving model to device:  cpu\n",
            "Moving model to device:  cpu\n"
          ]
        },
        {
          "name": "stderr",
          "output_type": "stream",
          "text": [
            "Chain 0: 100%|██████████| 25/25 [00:00<00:00, 28.50it/s]\n"
          ]
        },
        {
          "name": "stdout",
          "output_type": "stream",
          "text": [
            "Moving model to device:  cpu\n"
          ]
        },
        {
          "name": "stderr",
          "output_type": "stream",
          "text": [
            "Chain 1: 100%|██████████| 25/25 [00:00<00:00, 30.69it/s]\n"
          ]
        },
        {
          "name": "stdout",
          "output_type": "stream",
          "text": [
            "Moving model to device:  cpu\n"
          ]
        },
        {
          "name": "stderr",
          "output_type": "stream",
          "text": [
            "Chain 2: 100%|██████████| 25/25 [00:00<00:00, 28.74it/s]\n"
          ]
        },
        {
          "name": "stdout",
          "output_type": "stream",
          "text": [
            "Moving model to device:  cpu\n"
          ]
        },
        {
          "name": "stderr",
          "output_type": "stream",
          "text": [
            "Chain 3: 100%|██████████| 25/25 [00:00<00:00, 30.19it/s]\n"
          ]
        },
        {
          "name": "stdout",
          "output_type": "stream",
          "text": [
            "Moving model to device:  cpu\n"
          ]
        },
        {
          "name": "stderr",
          "output_type": "stream",
          "text": [
            "Chain 4: 100%|██████████| 25/25 [00:00<00:00, 28.91it/s]\n"
          ]
        },
        {
          "name": "stdout",
          "output_type": "stream",
          "text": [
            "Moving model to device:  cpu\n"
          ]
        },
        {
          "name": "stderr",
          "output_type": "stream",
          "text": [
            "Chain 5: 100%|██████████| 25/25 [00:00<00:00, 29.38it/s]\n"
          ]
        },
        {
          "name": "stdout",
          "output_type": "stream",
          "text": [
            "Moving model to device:  cpu\n"
          ]
        },
        {
          "name": "stderr",
          "output_type": "stream",
          "text": [
            "Chain 6: 100%|██████████| 25/25 [00:00<00:00, 30.05it/s]\n"
          ]
        },
        {
          "name": "stdout",
          "output_type": "stream",
          "text": [
            "Moving model to device:  cpu\n"
          ]
        },
        {
          "name": "stderr",
          "output_type": "stream",
          "text": [
            "Chain 7: 100%|██████████| 25/25 [00:00<00:00, 30.15it/s]\n"
          ]
        },
        {
          "name": "stdout",
          "output_type": "stream",
          "text": [
            "Moving model to device:  cpu\n"
          ]
        },
        {
          "name": "stderr",
          "output_type": "stream",
          "text": [
            "Chain 8: 100%|██████████| 25/25 [00:00<00:00, 28.05it/s]\n"
          ]
        },
        {
          "name": "stdout",
          "output_type": "stream",
          "text": [
            "Moving model to device:  cpu\n"
          ]
        },
        {
          "name": "stderr",
          "output_type": "stream",
          "text": [
            "Chain 9: 100%|██████████| 25/25 [00:00<00:00, 29.37it/s]\n"
          ]
        },
        {
          "name": "stdout",
          "output_type": "stream",
          "text": [
            "Moving model to device:  cpu\n"
          ]
        },
        {
          "name": "stderr",
          "output_type": "stream",
          "text": [
            "Chain 10: 100%|██████████| 25/25 [00:00<00:00, 25.52it/s]\n"
          ]
        },
        {
          "name": "stdout",
          "output_type": "stream",
          "text": [
            "Moving model to device:  cpu\n"
          ]
        },
        {
          "name": "stderr",
          "output_type": "stream",
          "text": [
            "Chain 11: 100%|██████████| 25/25 [00:00<00:00, 30.25it/s]\n"
          ]
        },
        {
          "name": "stdout",
          "output_type": "stream",
          "text": [
            "Moving model to device:  cpu\n"
          ]
        },
        {
          "name": "stderr",
          "output_type": "stream",
          "text": [
            "Chain 12: 100%|██████████| 25/25 [00:00<00:00, 28.82it/s]\n"
          ]
        },
        {
          "name": "stdout",
          "output_type": "stream",
          "text": [
            "Moving model to device:  cpu\n"
          ]
        },
        {
          "name": "stderr",
          "output_type": "stream",
          "text": [
            "Chain 13: 100%|██████████| 25/25 [00:00<00:00, 30.07it/s]\n"
          ]
        },
        {
          "name": "stdout",
          "output_type": "stream",
          "text": [
            "Moving model to device:  cpu\n"
          ]
        },
        {
          "name": "stderr",
          "output_type": "stream",
          "text": [
            "Chain 14: 100%|██████████| 25/25 [00:00<00:00, 30.84it/s]\n"
          ]
        },
        {
          "name": "stdout",
          "output_type": "stream",
          "text": [
            "result = 768.2284545898438\n",
            "Moving model to device:  cpu\n",
            "Moving model to device:  cpu\n",
            "Moving model to device:  cpu\n"
          ]
        },
        {
          "name": "stderr",
          "output_type": "stream",
          "text": [
            "Chain 0: 100%|██████████| 25/25 [00:00<00:00, 28.05it/s]\n"
          ]
        },
        {
          "name": "stdout",
          "output_type": "stream",
          "text": [
            "Moving model to device:  cpu\n"
          ]
        },
        {
          "name": "stderr",
          "output_type": "stream",
          "text": [
            "Chain 1: 100%|██████████| 25/25 [00:00<00:00, 30.14it/s]\n"
          ]
        },
        {
          "name": "stdout",
          "output_type": "stream",
          "text": [
            "Moving model to device:  cpu\n"
          ]
        },
        {
          "name": "stderr",
          "output_type": "stream",
          "text": [
            "Chain 2: 100%|██████████| 25/25 [00:00<00:00, 26.32it/s]\n"
          ]
        },
        {
          "name": "stdout",
          "output_type": "stream",
          "text": [
            "Moving model to device:  cpu\n"
          ]
        },
        {
          "name": "stderr",
          "output_type": "stream",
          "text": [
            "Chain 3: 100%|██████████| 25/25 [00:00<00:00, 26.10it/s]\n"
          ]
        },
        {
          "name": "stdout",
          "output_type": "stream",
          "text": [
            "Moving model to device:  cpu\n"
          ]
        },
        {
          "name": "stderr",
          "output_type": "stream",
          "text": [
            "Chain 4: 100%|██████████| 25/25 [00:01<00:00, 24.54it/s]\n"
          ]
        },
        {
          "name": "stdout",
          "output_type": "stream",
          "text": [
            "Moving model to device:  cpu\n"
          ]
        },
        {
          "name": "stderr",
          "output_type": "stream",
          "text": [
            "Chain 5: 100%|██████████| 25/25 [00:00<00:00, 30.99it/s]\n"
          ]
        },
        {
          "name": "stdout",
          "output_type": "stream",
          "text": [
            "Moving model to device:  cpu\n"
          ]
        },
        {
          "name": "stderr",
          "output_type": "stream",
          "text": [
            "Chain 6: 100%|██████████| 25/25 [00:00<00:00, 29.91it/s]\n"
          ]
        },
        {
          "name": "stdout",
          "output_type": "stream",
          "text": [
            "Moving model to device:  cpu\n"
          ]
        },
        {
          "name": "stderr",
          "output_type": "stream",
          "text": [
            "Chain 7: 100%|██████████| 25/25 [00:00<00:00, 30.34it/s]\n"
          ]
        },
        {
          "name": "stdout",
          "output_type": "stream",
          "text": [
            "Moving model to device:  cpu\n"
          ]
        },
        {
          "name": "stderr",
          "output_type": "stream",
          "text": [
            "Chain 8: 100%|██████████| 25/25 [00:00<00:00, 28.49it/s]\n"
          ]
        },
        {
          "name": "stdout",
          "output_type": "stream",
          "text": [
            "Moving model to device:  cpu\n"
          ]
        },
        {
          "name": "stderr",
          "output_type": "stream",
          "text": [
            "Chain 9: 100%|██████████| 25/25 [00:00<00:00, 30.56it/s]\n"
          ]
        },
        {
          "name": "stdout",
          "output_type": "stream",
          "text": [
            "Moving model to device:  cpu\n"
          ]
        },
        {
          "name": "stderr",
          "output_type": "stream",
          "text": [
            "Chain 10: 100%|██████████| 25/25 [00:00<00:00, 30.58it/s]\n"
          ]
        },
        {
          "name": "stdout",
          "output_type": "stream",
          "text": [
            "Moving model to device:  cpu\n"
          ]
        },
        {
          "name": "stderr",
          "output_type": "stream",
          "text": [
            "Chain 11: 100%|██████████| 25/25 [00:00<00:00, 30.19it/s]\n"
          ]
        },
        {
          "name": "stdout",
          "output_type": "stream",
          "text": [
            "Moving model to device:  cpu\n"
          ]
        },
        {
          "name": "stderr",
          "output_type": "stream",
          "text": [
            "Chain 12: 100%|██████████| 25/25 [00:00<00:00, 27.96it/s]\n"
          ]
        },
        {
          "name": "stdout",
          "output_type": "stream",
          "text": [
            "Moving model to device:  cpu\n"
          ]
        },
        {
          "name": "stderr",
          "output_type": "stream",
          "text": [
            "Chain 13: 100%|██████████| 25/25 [00:00<00:00, 29.65it/s]\n"
          ]
        },
        {
          "name": "stdout",
          "output_type": "stream",
          "text": [
            "Moving model to device:  cpu\n"
          ]
        },
        {
          "name": "stderr",
          "output_type": "stream",
          "text": [
            "Chain 14: 100%|██████████| 25/25 [00:00<00:00, 29.72it/s]\n"
          ]
        },
        {
          "name": "stdout",
          "output_type": "stream",
          "text": [
            "result = 763.5393676757812\n",
            "Moving model to device:  cpu\n",
            "Moving model to device:  cpu\n",
            "Moving model to device:  cpu\n"
          ]
        },
        {
          "name": "stderr",
          "output_type": "stream",
          "text": [
            "Chain 0: 100%|██████████| 25/25 [00:00<00:00, 27.89it/s]\n"
          ]
        },
        {
          "name": "stdout",
          "output_type": "stream",
          "text": [
            "Moving model to device:  cpu\n"
          ]
        },
        {
          "name": "stderr",
          "output_type": "stream",
          "text": [
            "Chain 1: 100%|██████████| 25/25 [00:00<00:00, 29.36it/s]\n"
          ]
        },
        {
          "name": "stdout",
          "output_type": "stream",
          "text": [
            "Moving model to device:  cpu\n"
          ]
        },
        {
          "name": "stderr",
          "output_type": "stream",
          "text": [
            "Chain 2: 100%|██████████| 25/25 [00:00<00:00, 29.52it/s]\n"
          ]
        },
        {
          "name": "stdout",
          "output_type": "stream",
          "text": [
            "Moving model to device:  cpu\n"
          ]
        },
        {
          "name": "stderr",
          "output_type": "stream",
          "text": [
            "Chain 3: 100%|██████████| 25/25 [00:00<00:00, 29.12it/s]\n"
          ]
        },
        {
          "name": "stdout",
          "output_type": "stream",
          "text": [
            "Moving model to device:  cpu\n"
          ]
        },
        {
          "name": "stderr",
          "output_type": "stream",
          "text": [
            "Chain 4: 100%|██████████| 25/25 [00:00<00:00, 27.30it/s]\n"
          ]
        },
        {
          "name": "stdout",
          "output_type": "stream",
          "text": [
            "Moving model to device:  cpu\n"
          ]
        },
        {
          "name": "stderr",
          "output_type": "stream",
          "text": [
            "Chain 5: 100%|██████████| 25/25 [00:00<00:00, 25.06it/s]\n"
          ]
        },
        {
          "name": "stdout",
          "output_type": "stream",
          "text": [
            "Moving model to device:  cpu\n"
          ]
        },
        {
          "name": "stderr",
          "output_type": "stream",
          "text": [
            "Chain 6: 100%|██████████| 25/25 [00:00<00:00, 27.12it/s]\n"
          ]
        },
        {
          "name": "stdout",
          "output_type": "stream",
          "text": [
            "Moving model to device:  cpu\n"
          ]
        },
        {
          "name": "stderr",
          "output_type": "stream",
          "text": [
            "Chain 7: 100%|██████████| 25/25 [00:00<00:00, 27.09it/s]\n"
          ]
        },
        {
          "name": "stdout",
          "output_type": "stream",
          "text": [
            "Moving model to device:  cpu\n"
          ]
        },
        {
          "name": "stderr",
          "output_type": "stream",
          "text": [
            "Chain 8: 100%|██████████| 25/25 [00:00<00:00, 26.43it/s]\n"
          ]
        },
        {
          "name": "stdout",
          "output_type": "stream",
          "text": [
            "Moving model to device:  cpu\n"
          ]
        },
        {
          "name": "stderr",
          "output_type": "stream",
          "text": [
            "Chain 9: 100%|██████████| 25/25 [00:01<00:00, 24.40it/s]\n"
          ]
        },
        {
          "name": "stdout",
          "output_type": "stream",
          "text": [
            "Moving model to device:  cpu\n"
          ]
        },
        {
          "name": "stderr",
          "output_type": "stream",
          "text": [
            "Chain 10: 100%|██████████| 25/25 [00:00<00:00, 28.47it/s]\n"
          ]
        },
        {
          "name": "stdout",
          "output_type": "stream",
          "text": [
            "Moving model to device:  cpu\n"
          ]
        },
        {
          "name": "stderr",
          "output_type": "stream",
          "text": [
            "Chain 11: 100%|██████████| 25/25 [00:00<00:00, 26.91it/s]\n"
          ]
        },
        {
          "name": "stdout",
          "output_type": "stream",
          "text": [
            "Moving model to device:  cpu\n"
          ]
        },
        {
          "name": "stderr",
          "output_type": "stream",
          "text": [
            "Chain 12: 100%|██████████| 25/25 [00:00<00:00, 28.81it/s]\n"
          ]
        },
        {
          "name": "stdout",
          "output_type": "stream",
          "text": [
            "Moving model to device:  cpu\n"
          ]
        },
        {
          "name": "stderr",
          "output_type": "stream",
          "text": [
            "Chain 13: 100%|██████████| 25/25 [00:00<00:00, 29.12it/s]\n"
          ]
        },
        {
          "name": "stdout",
          "output_type": "stream",
          "text": [
            "Moving model to device:  cpu\n"
          ]
        },
        {
          "name": "stderr",
          "output_type": "stream",
          "text": [
            "Chain 14: 100%|██████████| 25/25 [00:00<00:00, 28.29it/s]\n"
          ]
        },
        {
          "name": "stdout",
          "output_type": "stream",
          "text": [
            "result = 767.5942993164062\n",
            "Moving model to device:  cpu\n",
            "Moving model to device:  cpu\n",
            "Moving model to device:  cpu\n"
          ]
        },
        {
          "name": "stderr",
          "output_type": "stream",
          "text": [
            "Chain 0: 100%|██████████| 25/25 [00:00<00:00, 27.37it/s]\n"
          ]
        },
        {
          "name": "stdout",
          "output_type": "stream",
          "text": [
            "Moving model to device:  cpu\n"
          ]
        },
        {
          "name": "stderr",
          "output_type": "stream",
          "text": [
            "Chain 1: 100%|██████████| 25/25 [00:00<00:00, 28.22it/s]\n"
          ]
        },
        {
          "name": "stdout",
          "output_type": "stream",
          "text": [
            "Moving model to device:  cpu\n"
          ]
        },
        {
          "name": "stderr",
          "output_type": "stream",
          "text": [
            "Chain 2: 100%|██████████| 25/25 [00:00<00:00, 28.13it/s]\n"
          ]
        },
        {
          "name": "stdout",
          "output_type": "stream",
          "text": [
            "Moving model to device:  cpu\n"
          ]
        },
        {
          "name": "stderr",
          "output_type": "stream",
          "text": [
            "Chain 3: 100%|██████████| 25/25 [00:00<00:00, 27.02it/s]\n"
          ]
        },
        {
          "name": "stdout",
          "output_type": "stream",
          "text": [
            "Moving model to device:  cpu\n"
          ]
        },
        {
          "name": "stderr",
          "output_type": "stream",
          "text": [
            "Chain 4: 100%|██████████| 25/25 [00:01<00:00, 24.02it/s]\n"
          ]
        },
        {
          "name": "stdout",
          "output_type": "stream",
          "text": [
            "Moving model to device:  cpu\n"
          ]
        },
        {
          "name": "stderr",
          "output_type": "stream",
          "text": [
            "Chain 5: 100%|██████████| 25/25 [00:00<00:00, 29.13it/s]\n"
          ]
        },
        {
          "name": "stdout",
          "output_type": "stream",
          "text": [
            "Moving model to device:  cpu\n"
          ]
        },
        {
          "name": "stderr",
          "output_type": "stream",
          "text": [
            "Chain 6: 100%|██████████| 25/25 [00:00<00:00, 28.03it/s]\n"
          ]
        },
        {
          "name": "stdout",
          "output_type": "stream",
          "text": [
            "Moving model to device:  cpu\n"
          ]
        },
        {
          "name": "stderr",
          "output_type": "stream",
          "text": [
            "Chain 7: 100%|██████████| 25/25 [00:00<00:00, 26.62it/s]\n"
          ]
        },
        {
          "name": "stdout",
          "output_type": "stream",
          "text": [
            "Moving model to device:  cpu\n"
          ]
        },
        {
          "name": "stderr",
          "output_type": "stream",
          "text": [
            "Chain 8: 100%|██████████| 25/25 [00:00<00:00, 28.25it/s]\n"
          ]
        },
        {
          "name": "stdout",
          "output_type": "stream",
          "text": [
            "Moving model to device:  cpu\n"
          ]
        },
        {
          "name": "stderr",
          "output_type": "stream",
          "text": [
            "Chain 9: 100%|██████████| 25/25 [00:00<00:00, 29.02it/s]\n"
          ]
        },
        {
          "name": "stdout",
          "output_type": "stream",
          "text": [
            "Moving model to device:  cpu\n"
          ]
        },
        {
          "name": "stderr",
          "output_type": "stream",
          "text": [
            "Chain 10: 100%|██████████| 25/25 [00:00<00:00, 28.11it/s]\n"
          ]
        },
        {
          "name": "stdout",
          "output_type": "stream",
          "text": [
            "Moving model to device:  cpu\n"
          ]
        },
        {
          "name": "stderr",
          "output_type": "stream",
          "text": [
            "Chain 11: 100%|██████████| 25/25 [00:00<00:00, 28.04it/s]\n"
          ]
        },
        {
          "name": "stdout",
          "output_type": "stream",
          "text": [
            "Moving model to device:  cpu\n"
          ]
        },
        {
          "name": "stderr",
          "output_type": "stream",
          "text": [
            "Chain 12: 100%|██████████| 25/25 [00:00<00:00, 28.48it/s]\n"
          ]
        },
        {
          "name": "stdout",
          "output_type": "stream",
          "text": [
            "Moving model to device:  cpu\n"
          ]
        },
        {
          "name": "stderr",
          "output_type": "stream",
          "text": [
            "Chain 13: 100%|██████████| 25/25 [00:00<00:00, 28.54it/s]\n"
          ]
        },
        {
          "name": "stdout",
          "output_type": "stream",
          "text": [
            "Moving model to device:  cpu\n"
          ]
        },
        {
          "name": "stderr",
          "output_type": "stream",
          "text": [
            "Chain 14: 100%|██████████| 25/25 [00:00<00:00, 28.92it/s]\n"
          ]
        },
        {
          "name": "stdout",
          "output_type": "stream",
          "text": [
            "result = 770.8662719726562\n",
            "Moving model to device:  cpu\n",
            "Moving model to device:  cpu\n",
            "Moving model to device:  cpu\n"
          ]
        },
        {
          "name": "stderr",
          "output_type": "stream",
          "text": [
            "Chain 0: 100%|██████████| 25/25 [00:00<00:00, 28.78it/s]\n"
          ]
        },
        {
          "name": "stdout",
          "output_type": "stream",
          "text": [
            "Moving model to device:  cpu\n"
          ]
        },
        {
          "name": "stderr",
          "output_type": "stream",
          "text": [
            "Chain 1: 100%|██████████| 25/25 [00:00<00:00, 28.07it/s]\n"
          ]
        },
        {
          "name": "stdout",
          "output_type": "stream",
          "text": [
            "Moving model to device:  cpu\n"
          ]
        },
        {
          "name": "stderr",
          "output_type": "stream",
          "text": [
            "Chain 2: 100%|██████████| 25/25 [00:00<00:00, 29.37it/s]\n"
          ]
        },
        {
          "name": "stdout",
          "output_type": "stream",
          "text": [
            "Moving model to device:  cpu\n"
          ]
        },
        {
          "name": "stderr",
          "output_type": "stream",
          "text": [
            "Chain 3: 100%|██████████| 25/25 [00:00<00:00, 27.83it/s]\n"
          ]
        },
        {
          "name": "stdout",
          "output_type": "stream",
          "text": [
            "Moving model to device:  cpu\n"
          ]
        },
        {
          "name": "stderr",
          "output_type": "stream",
          "text": [
            "Chain 4: 100%|██████████| 25/25 [00:00<00:00, 28.30it/s]\n"
          ]
        },
        {
          "name": "stdout",
          "output_type": "stream",
          "text": [
            "Moving model to device:  cpu\n"
          ]
        },
        {
          "name": "stderr",
          "output_type": "stream",
          "text": [
            "Chain 5: 100%|██████████| 25/25 [00:00<00:00, 27.88it/s]\n"
          ]
        },
        {
          "name": "stdout",
          "output_type": "stream",
          "text": [
            "Moving model to device:  cpu\n"
          ]
        },
        {
          "name": "stderr",
          "output_type": "stream",
          "text": [
            "Chain 6: 100%|██████████| 25/25 [00:00<00:00, 26.58it/s]\n"
          ]
        },
        {
          "name": "stdout",
          "output_type": "stream",
          "text": [
            "Moving model to device:  cpu\n"
          ]
        },
        {
          "name": "stderr",
          "output_type": "stream",
          "text": [
            "Chain 7: 100%|██████████| 25/25 [00:00<00:00, 29.01it/s]\n"
          ]
        },
        {
          "name": "stdout",
          "output_type": "stream",
          "text": [
            "Moving model to device:  cpu\n"
          ]
        },
        {
          "name": "stderr",
          "output_type": "stream",
          "text": [
            "Chain 8: 100%|██████████| 25/25 [00:00<00:00, 28.75it/s]\n"
          ]
        },
        {
          "name": "stdout",
          "output_type": "stream",
          "text": [
            "Moving model to device:  cpu\n"
          ]
        },
        {
          "name": "stderr",
          "output_type": "stream",
          "text": [
            "Chain 9: 100%|██████████| 25/25 [00:00<00:00, 28.42it/s]\n"
          ]
        },
        {
          "name": "stdout",
          "output_type": "stream",
          "text": [
            "Moving model to device:  cpu\n"
          ]
        },
        {
          "name": "stderr",
          "output_type": "stream",
          "text": [
            "Chain 10: 100%|██████████| 25/25 [00:01<00:00, 23.30it/s]\n"
          ]
        },
        {
          "name": "stdout",
          "output_type": "stream",
          "text": [
            "Moving model to device:  cpu\n"
          ]
        },
        {
          "name": "stderr",
          "output_type": "stream",
          "text": [
            "Chain 11: 100%|██████████| 25/25 [00:00<00:00, 28.87it/s]\n"
          ]
        },
        {
          "name": "stdout",
          "output_type": "stream",
          "text": [
            "Moving model to device:  cpu\n"
          ]
        },
        {
          "name": "stderr",
          "output_type": "stream",
          "text": [
            "Chain 12: 100%|██████████| 25/25 [00:00<00:00, 28.55it/s]\n"
          ]
        },
        {
          "name": "stdout",
          "output_type": "stream",
          "text": [
            "Moving model to device:  cpu\n"
          ]
        },
        {
          "name": "stderr",
          "output_type": "stream",
          "text": [
            "Chain 13: 100%|██████████| 25/25 [00:00<00:00, 28.68it/s]\n"
          ]
        },
        {
          "name": "stdout",
          "output_type": "stream",
          "text": [
            "Moving model to device:  cpu\n"
          ]
        },
        {
          "name": "stderr",
          "output_type": "stream",
          "text": [
            "Chain 14: 100%|██████████| 25/25 [00:00<00:00, 26.59it/s]\n"
          ]
        },
        {
          "name": "stdout",
          "output_type": "stream",
          "text": [
            "result = 772.5802612304688\n",
            "Moving model to device:  cpu\n",
            "Moving model to device:  cpu\n",
            "Moving model to device:  cpu\n"
          ]
        },
        {
          "name": "stderr",
          "output_type": "stream",
          "text": [
            "Chain 0: 100%|██████████| 25/25 [00:00<00:00, 26.45it/s]\n"
          ]
        },
        {
          "name": "stdout",
          "output_type": "stream",
          "text": [
            "Moving model to device:  cpu\n"
          ]
        },
        {
          "name": "stderr",
          "output_type": "stream",
          "text": [
            "Chain 1: 100%|██████████| 25/25 [00:00<00:00, 28.37it/s]\n"
          ]
        },
        {
          "name": "stdout",
          "output_type": "stream",
          "text": [
            "Moving model to device:  cpu\n"
          ]
        },
        {
          "name": "stderr",
          "output_type": "stream",
          "text": [
            "Chain 2: 100%|██████████| 25/25 [00:00<00:00, 26.62it/s]\n"
          ]
        },
        {
          "name": "stdout",
          "output_type": "stream",
          "text": [
            "Moving model to device:  cpu\n"
          ]
        },
        {
          "name": "stderr",
          "output_type": "stream",
          "text": [
            "Chain 3: 100%|██████████| 25/25 [00:00<00:00, 28.52it/s]\n"
          ]
        },
        {
          "name": "stdout",
          "output_type": "stream",
          "text": [
            "Moving model to device:  cpu\n"
          ]
        },
        {
          "name": "stderr",
          "output_type": "stream",
          "text": [
            "Chain 4: 100%|██████████| 25/25 [00:00<00:00, 28.63it/s]\n"
          ]
        },
        {
          "name": "stdout",
          "output_type": "stream",
          "text": [
            "Moving model to device:  cpu\n"
          ]
        },
        {
          "name": "stderr",
          "output_type": "stream",
          "text": [
            "Chain 5: 100%|██████████| 25/25 [00:01<00:00, 23.78it/s]\n"
          ]
        },
        {
          "name": "stdout",
          "output_type": "stream",
          "text": [
            "Moving model to device:  cpu\n"
          ]
        },
        {
          "name": "stderr",
          "output_type": "stream",
          "text": [
            "Chain 6: 100%|██████████| 25/25 [00:01<00:00, 24.84it/s]\n"
          ]
        },
        {
          "name": "stdout",
          "output_type": "stream",
          "text": [
            "Moving model to device:  cpu\n"
          ]
        },
        {
          "name": "stderr",
          "output_type": "stream",
          "text": [
            "Chain 7: 100%|██████████| 25/25 [00:00<00:00, 28.79it/s]\n"
          ]
        },
        {
          "name": "stdout",
          "output_type": "stream",
          "text": [
            "Moving model to device:  cpu\n"
          ]
        },
        {
          "name": "stderr",
          "output_type": "stream",
          "text": [
            "Chain 8: 100%|██████████| 25/25 [00:00<00:00, 28.12it/s]\n"
          ]
        },
        {
          "name": "stdout",
          "output_type": "stream",
          "text": [
            "Moving model to device:  cpu\n"
          ]
        },
        {
          "name": "stderr",
          "output_type": "stream",
          "text": [
            "Chain 9: 100%|██████████| 25/25 [00:00<00:00, 27.61it/s]\n"
          ]
        },
        {
          "name": "stdout",
          "output_type": "stream",
          "text": [
            "Moving model to device:  cpu\n"
          ]
        },
        {
          "name": "stderr",
          "output_type": "stream",
          "text": [
            "Chain 10: 100%|██████████| 25/25 [00:00<00:00, 27.61it/s]\n"
          ]
        },
        {
          "name": "stdout",
          "output_type": "stream",
          "text": [
            "Moving model to device:  cpu\n"
          ]
        },
        {
          "name": "stderr",
          "output_type": "stream",
          "text": [
            "Chain 11: 100%|██████████| 25/25 [00:00<00:00, 28.27it/s]\n"
          ]
        },
        {
          "name": "stdout",
          "output_type": "stream",
          "text": [
            "Moving model to device:  cpu\n"
          ]
        },
        {
          "name": "stderr",
          "output_type": "stream",
          "text": [
            "Chain 12: 100%|██████████| 25/25 [00:00<00:00, 28.12it/s]\n"
          ]
        },
        {
          "name": "stdout",
          "output_type": "stream",
          "text": [
            "Moving model to device:  cpu\n"
          ]
        },
        {
          "name": "stderr",
          "output_type": "stream",
          "text": [
            "Chain 13: 100%|██████████| 25/25 [00:00<00:00, 27.11it/s]\n"
          ]
        },
        {
          "name": "stdout",
          "output_type": "stream",
          "text": [
            "Moving model to device:  cpu\n"
          ]
        },
        {
          "name": "stderr",
          "output_type": "stream",
          "text": [
            "Chain 14: 100%|██████████| 25/25 [00:00<00:00, 28.86it/s]\n"
          ]
        },
        {
          "name": "stdout",
          "output_type": "stream",
          "text": [
            "result = 775.4881591796875\n",
            "Moving model to device:  cpu\n",
            "Moving model to device:  cpu\n",
            "Moving model to device:  cpu\n"
          ]
        },
        {
          "name": "stderr",
          "output_type": "stream",
          "text": [
            "Chain 0: 100%|██████████| 25/25 [00:00<00:00, 28.92it/s]\n"
          ]
        },
        {
          "name": "stdout",
          "output_type": "stream",
          "text": [
            "Moving model to device:  cpu\n"
          ]
        },
        {
          "name": "stderr",
          "output_type": "stream",
          "text": [
            "Chain 1: 100%|██████████| 25/25 [00:00<00:00, 27.63it/s]\n"
          ]
        },
        {
          "name": "stdout",
          "output_type": "stream",
          "text": [
            "Moving model to device:  cpu\n"
          ]
        },
        {
          "name": "stderr",
          "output_type": "stream",
          "text": [
            "Chain 2: 100%|██████████| 25/25 [00:00<00:00, 28.76it/s]\n"
          ]
        },
        {
          "name": "stdout",
          "output_type": "stream",
          "text": [
            "Moving model to device:  cpu\n"
          ]
        },
        {
          "name": "stderr",
          "output_type": "stream",
          "text": [
            "Chain 3: 100%|██████████| 25/25 [00:00<00:00, 29.33it/s]\n"
          ]
        },
        {
          "name": "stdout",
          "output_type": "stream",
          "text": [
            "Moving model to device:  cpu\n"
          ]
        },
        {
          "name": "stderr",
          "output_type": "stream",
          "text": [
            "Chain 4: 100%|██████████| 25/25 [00:00<00:00, 29.29it/s]\n"
          ]
        },
        {
          "name": "stdout",
          "output_type": "stream",
          "text": [
            "Moving model to device:  cpu\n"
          ]
        },
        {
          "name": "stderr",
          "output_type": "stream",
          "text": [
            "Chain 5: 100%|██████████| 25/25 [00:00<00:00, 25.88it/s]\n"
          ]
        },
        {
          "name": "stdout",
          "output_type": "stream",
          "text": [
            "Moving model to device:  cpu\n"
          ]
        },
        {
          "name": "stderr",
          "output_type": "stream",
          "text": [
            "Chain 6: 100%|██████████| 25/25 [00:00<00:00, 29.21it/s]\n"
          ]
        },
        {
          "name": "stdout",
          "output_type": "stream",
          "text": [
            "Moving model to device:  cpu\n"
          ]
        },
        {
          "name": "stderr",
          "output_type": "stream",
          "text": [
            "Chain 7: 100%|██████████| 25/25 [00:00<00:00, 28.55it/s]\n"
          ]
        },
        {
          "name": "stdout",
          "output_type": "stream",
          "text": [
            "Moving model to device:  cpu\n"
          ]
        },
        {
          "name": "stderr",
          "output_type": "stream",
          "text": [
            "Chain 8: 100%|██████████| 25/25 [00:00<00:00, 27.99it/s]\n"
          ]
        },
        {
          "name": "stdout",
          "output_type": "stream",
          "text": [
            "Moving model to device:  cpu\n"
          ]
        },
        {
          "name": "stderr",
          "output_type": "stream",
          "text": [
            "Chain 9: 100%|██████████| 25/25 [00:00<00:00, 26.49it/s]\n"
          ]
        },
        {
          "name": "stdout",
          "output_type": "stream",
          "text": [
            "Moving model to device:  cpu\n"
          ]
        },
        {
          "name": "stderr",
          "output_type": "stream",
          "text": [
            "Chain 10: 100%|██████████| 25/25 [00:00<00:00, 29.40it/s]\n"
          ]
        },
        {
          "name": "stdout",
          "output_type": "stream",
          "text": [
            "Moving model to device:  cpu\n"
          ]
        },
        {
          "name": "stderr",
          "output_type": "stream",
          "text": [
            "Chain 11: 100%|██████████| 25/25 [00:01<00:00, 24.50it/s]\n"
          ]
        },
        {
          "name": "stdout",
          "output_type": "stream",
          "text": [
            "Moving model to device:  cpu\n"
          ]
        },
        {
          "name": "stderr",
          "output_type": "stream",
          "text": [
            "Chain 12: 100%|██████████| 25/25 [00:00<00:00, 27.79it/s]\n"
          ]
        },
        {
          "name": "stdout",
          "output_type": "stream",
          "text": [
            "Moving model to device:  cpu\n"
          ]
        },
        {
          "name": "stderr",
          "output_type": "stream",
          "text": [
            "Chain 13: 100%|██████████| 25/25 [00:00<00:00, 29.26it/s]\n"
          ]
        },
        {
          "name": "stdout",
          "output_type": "stream",
          "text": [
            "Moving model to device:  cpu\n"
          ]
        },
        {
          "name": "stderr",
          "output_type": "stream",
          "text": [
            "Chain 14: 100%|██████████| 25/25 [00:00<00:00, 30.00it/s]\n"
          ]
        },
        {
          "name": "stdout",
          "output_type": "stream",
          "text": [
            "result = 770.8507080078125\n",
            "Moving model to device:  cpu\n",
            "Moving model to device:  cpu\n",
            "Moving model to device:  cpu\n"
          ]
        },
        {
          "name": "stderr",
          "output_type": "stream",
          "text": [
            "Chain 0: 100%|██████████| 25/25 [00:00<00:00, 28.42it/s]\n"
          ]
        },
        {
          "name": "stdout",
          "output_type": "stream",
          "text": [
            "Moving model to device:  cpu\n"
          ]
        },
        {
          "name": "stderr",
          "output_type": "stream",
          "text": [
            "Chain 1: 100%|██████████| 25/25 [00:00<00:00, 27.04it/s]\n"
          ]
        },
        {
          "name": "stdout",
          "output_type": "stream",
          "text": [
            "Moving model to device:  cpu\n"
          ]
        },
        {
          "name": "stderr",
          "output_type": "stream",
          "text": [
            "Chain 2: 100%|██████████| 25/25 [00:00<00:00, 25.99it/s]\n"
          ]
        },
        {
          "name": "stdout",
          "output_type": "stream",
          "text": [
            "Moving model to device:  cpu\n"
          ]
        },
        {
          "name": "stderr",
          "output_type": "stream",
          "text": [
            "Chain 3: 100%|██████████| 25/25 [00:00<00:00, 28.85it/s]\n"
          ]
        },
        {
          "name": "stdout",
          "output_type": "stream",
          "text": [
            "Moving model to device:  cpu\n"
          ]
        },
        {
          "name": "stderr",
          "output_type": "stream",
          "text": [
            "Chain 4: 100%|██████████| 25/25 [00:00<00:00, 26.58it/s]\n"
          ]
        },
        {
          "name": "stdout",
          "output_type": "stream",
          "text": [
            "Moving model to device:  cpu\n"
          ]
        },
        {
          "name": "stderr",
          "output_type": "stream",
          "text": [
            "Chain 5: 100%|██████████| 25/25 [00:01<00:00, 23.57it/s]\n"
          ]
        },
        {
          "name": "stdout",
          "output_type": "stream",
          "text": [
            "Moving model to device:  cpu\n"
          ]
        },
        {
          "name": "stderr",
          "output_type": "stream",
          "text": [
            "Chain 6: 100%|██████████| 25/25 [00:00<00:00, 27.61it/s]\n"
          ]
        },
        {
          "name": "stdout",
          "output_type": "stream",
          "text": [
            "Moving model to device:  cpu\n"
          ]
        },
        {
          "name": "stderr",
          "output_type": "stream",
          "text": [
            "Chain 7: 100%|██████████| 25/25 [00:00<00:00, 25.83it/s]\n"
          ]
        },
        {
          "name": "stdout",
          "output_type": "stream",
          "text": [
            "Moving model to device:  cpu\n"
          ]
        },
        {
          "name": "stderr",
          "output_type": "stream",
          "text": [
            "Chain 8: 100%|██████████| 25/25 [00:00<00:00, 28.83it/s]\n"
          ]
        },
        {
          "name": "stdout",
          "output_type": "stream",
          "text": [
            "Moving model to device:  cpu\n"
          ]
        },
        {
          "name": "stderr",
          "output_type": "stream",
          "text": [
            "Chain 9: 100%|██████████| 25/25 [00:00<00:00, 28.18it/s]\n"
          ]
        },
        {
          "name": "stdout",
          "output_type": "stream",
          "text": [
            "Moving model to device:  cpu\n"
          ]
        },
        {
          "name": "stderr",
          "output_type": "stream",
          "text": [
            "Chain 10: 100%|██████████| 25/25 [00:00<00:00, 28.21it/s]\n"
          ]
        },
        {
          "name": "stdout",
          "output_type": "stream",
          "text": [
            "Moving model to device:  cpu\n"
          ]
        },
        {
          "name": "stderr",
          "output_type": "stream",
          "text": [
            "Chain 11: 100%|██████████| 25/25 [00:00<00:00, 26.63it/s]\n"
          ]
        },
        {
          "name": "stdout",
          "output_type": "stream",
          "text": [
            "Moving model to device:  cpu\n"
          ]
        },
        {
          "name": "stderr",
          "output_type": "stream",
          "text": [
            "Chain 12: 100%|██████████| 25/25 [00:00<00:00, 28.36it/s]\n"
          ]
        },
        {
          "name": "stdout",
          "output_type": "stream",
          "text": [
            "Moving model to device:  cpu\n"
          ]
        },
        {
          "name": "stderr",
          "output_type": "stream",
          "text": [
            "Chain 13: 100%|██████████| 25/25 [00:00<00:00, 28.42it/s]\n"
          ]
        },
        {
          "name": "stdout",
          "output_type": "stream",
          "text": [
            "Moving model to device:  cpu\n"
          ]
        },
        {
          "name": "stderr",
          "output_type": "stream",
          "text": [
            "Chain 14: 100%|██████████| 25/25 [00:00<00:00, 26.73it/s]\n"
          ]
        },
        {
          "name": "stdout",
          "output_type": "stream",
          "text": [
            "result = 766.5172729492188\n",
            "Moving model to device:  cpu\n",
            "Moving model to device:  cpu\n",
            "Moving model to device:  cpu\n"
          ]
        },
        {
          "name": "stderr",
          "output_type": "stream",
          "text": [
            "Chain 0: 100%|██████████| 25/25 [00:01<00:00, 24.69it/s]\n"
          ]
        },
        {
          "name": "stdout",
          "output_type": "stream",
          "text": [
            "Moving model to device:  cpu\n"
          ]
        },
        {
          "name": "stderr",
          "output_type": "stream",
          "text": [
            "Chain 1: 100%|██████████| 25/25 [00:00<00:00, 28.69it/s]\n"
          ]
        },
        {
          "name": "stdout",
          "output_type": "stream",
          "text": [
            "Moving model to device:  cpu\n"
          ]
        },
        {
          "name": "stderr",
          "output_type": "stream",
          "text": [
            "Chain 2: 100%|██████████| 25/25 [00:00<00:00, 27.26it/s]\n"
          ]
        },
        {
          "name": "stdout",
          "output_type": "stream",
          "text": [
            "Moving model to device:  cpu\n"
          ]
        },
        {
          "name": "stderr",
          "output_type": "stream",
          "text": [
            "Chain 3: 100%|██████████| 25/25 [00:00<00:00, 27.20it/s]\n"
          ]
        },
        {
          "name": "stdout",
          "output_type": "stream",
          "text": [
            "Moving model to device:  cpu\n"
          ]
        },
        {
          "name": "stderr",
          "output_type": "stream",
          "text": [
            "Chain 4: 100%|██████████| 25/25 [00:00<00:00, 27.87it/s]\n"
          ]
        },
        {
          "name": "stdout",
          "output_type": "stream",
          "text": [
            "Moving model to device:  cpu\n"
          ]
        },
        {
          "name": "stderr",
          "output_type": "stream",
          "text": [
            "Chain 5: 100%|██████████| 25/25 [00:00<00:00, 28.65it/s]\n"
          ]
        },
        {
          "name": "stdout",
          "output_type": "stream",
          "text": [
            "Moving model to device:  cpu\n"
          ]
        },
        {
          "name": "stderr",
          "output_type": "stream",
          "text": [
            "Chain 6: 100%|██████████| 25/25 [00:00<00:00, 27.41it/s]\n"
          ]
        },
        {
          "name": "stdout",
          "output_type": "stream",
          "text": [
            "Moving model to device:  cpu\n"
          ]
        },
        {
          "name": "stderr",
          "output_type": "stream",
          "text": [
            "Chain 7: 100%|██████████| 25/25 [00:00<00:00, 28.06it/s]\n"
          ]
        },
        {
          "name": "stdout",
          "output_type": "stream",
          "text": [
            "Moving model to device:  cpu\n"
          ]
        },
        {
          "name": "stderr",
          "output_type": "stream",
          "text": [
            "Chain 8: 100%|██████████| 25/25 [00:00<00:00, 28.09it/s]\n"
          ]
        },
        {
          "name": "stdout",
          "output_type": "stream",
          "text": [
            "Moving model to device:  cpu\n"
          ]
        },
        {
          "name": "stderr",
          "output_type": "stream",
          "text": [
            "Chain 9: 100%|██████████| 25/25 [00:00<00:00, 28.12it/s]\n"
          ]
        },
        {
          "name": "stdout",
          "output_type": "stream",
          "text": [
            "Moving model to device:  cpu\n"
          ]
        },
        {
          "name": "stderr",
          "output_type": "stream",
          "text": [
            "Chain 10: 100%|██████████| 25/25 [00:00<00:00, 26.93it/s]\n"
          ]
        },
        {
          "name": "stdout",
          "output_type": "stream",
          "text": [
            "Moving model to device:  cpu\n"
          ]
        },
        {
          "name": "stderr",
          "output_type": "stream",
          "text": [
            "Chain 11: 100%|██████████| 25/25 [00:00<00:00, 29.01it/s]\n"
          ]
        },
        {
          "name": "stdout",
          "output_type": "stream",
          "text": [
            "Moving model to device:  cpu\n"
          ]
        },
        {
          "name": "stderr",
          "output_type": "stream",
          "text": [
            "Chain 12: 100%|██████████| 25/25 [00:01<00:00, 24.18it/s]\n"
          ]
        },
        {
          "name": "stdout",
          "output_type": "stream",
          "text": [
            "Moving model to device:  cpu\n"
          ]
        },
        {
          "name": "stderr",
          "output_type": "stream",
          "text": [
            "Chain 13: 100%|██████████| 25/25 [00:00<00:00, 29.02it/s]\n"
          ]
        },
        {
          "name": "stdout",
          "output_type": "stream",
          "text": [
            "Moving model to device:  cpu\n"
          ]
        },
        {
          "name": "stderr",
          "output_type": "stream",
          "text": [
            "Chain 14: 100%|██████████| 25/25 [00:00<00:00, 26.68it/s]\n"
          ]
        },
        {
          "name": "stdout",
          "output_type": "stream",
          "text": [
            "result = 767.0591430664062\n",
            "Moving model to device:  cpu\n",
            "Moving model to device:  cpu\n",
            "Moving model to device:  cpu\n"
          ]
        },
        {
          "name": "stderr",
          "output_type": "stream",
          "text": [
            "Chain 0: 100%|██████████| 25/25 [00:00<00:00, 28.85it/s]\n"
          ]
        },
        {
          "name": "stdout",
          "output_type": "stream",
          "text": [
            "Moving model to device:  cpu\n"
          ]
        },
        {
          "name": "stderr",
          "output_type": "stream",
          "text": [
            "Chain 1: 100%|██████████| 25/25 [00:00<00:00, 29.39it/s]\n"
          ]
        },
        {
          "name": "stdout",
          "output_type": "stream",
          "text": [
            "Moving model to device:  cpu\n"
          ]
        },
        {
          "name": "stderr",
          "output_type": "stream",
          "text": [
            "Chain 2: 100%|██████████| 25/25 [00:00<00:00, 26.85it/s]\n"
          ]
        },
        {
          "name": "stdout",
          "output_type": "stream",
          "text": [
            "Moving model to device:  cpu\n"
          ]
        },
        {
          "name": "stderr",
          "output_type": "stream",
          "text": [
            "Chain 3: 100%|██████████| 25/25 [00:00<00:00, 28.74it/s]\n"
          ]
        },
        {
          "name": "stdout",
          "output_type": "stream",
          "text": [
            "Moving model to device:  cpu\n"
          ]
        },
        {
          "name": "stderr",
          "output_type": "stream",
          "text": [
            "Chain 4: 100%|██████████| 25/25 [00:00<00:00, 28.81it/s]\n"
          ]
        },
        {
          "name": "stdout",
          "output_type": "stream",
          "text": [
            "Moving model to device:  cpu\n"
          ]
        },
        {
          "name": "stderr",
          "output_type": "stream",
          "text": [
            "Chain 5: 100%|██████████| 25/25 [00:00<00:00, 29.66it/s]\n"
          ]
        },
        {
          "name": "stdout",
          "output_type": "stream",
          "text": [
            "Moving model to device:  cpu\n"
          ]
        },
        {
          "name": "stderr",
          "output_type": "stream",
          "text": [
            "Chain 6: 100%|██████████| 25/25 [00:00<00:00, 27.10it/s]\n"
          ]
        },
        {
          "name": "stdout",
          "output_type": "stream",
          "text": [
            "Moving model to device:  cpu\n"
          ]
        },
        {
          "name": "stderr",
          "output_type": "stream",
          "text": [
            "Chain 7: 100%|██████████| 25/25 [00:01<00:00, 24.27it/s]\n"
          ]
        },
        {
          "name": "stdout",
          "output_type": "stream",
          "text": [
            "Moving model to device:  cpu\n"
          ]
        },
        {
          "name": "stderr",
          "output_type": "stream",
          "text": [
            "Chain 8: 100%|██████████| 25/25 [00:00<00:00, 28.97it/s]\n"
          ]
        },
        {
          "name": "stdout",
          "output_type": "stream",
          "text": [
            "Moving model to device:  cpu\n"
          ]
        },
        {
          "name": "stderr",
          "output_type": "stream",
          "text": [
            "Chain 9: 100%|██████████| 25/25 [00:00<00:00, 27.21it/s]\n"
          ]
        },
        {
          "name": "stdout",
          "output_type": "stream",
          "text": [
            "Moving model to device:  cpu\n"
          ]
        },
        {
          "name": "stderr",
          "output_type": "stream",
          "text": [
            "Chain 10: 100%|██████████| 25/25 [00:00<00:00, 27.79it/s]\n"
          ]
        },
        {
          "name": "stdout",
          "output_type": "stream",
          "text": [
            "Moving model to device:  cpu\n"
          ]
        },
        {
          "name": "stderr",
          "output_type": "stream",
          "text": [
            "Chain 11: 100%|██████████| 25/25 [00:00<00:00, 28.13it/s]\n"
          ]
        },
        {
          "name": "stdout",
          "output_type": "stream",
          "text": [
            "Moving model to device:  cpu\n"
          ]
        },
        {
          "name": "stderr",
          "output_type": "stream",
          "text": [
            "Chain 12: 100%|██████████| 25/25 [00:00<00:00, 29.11it/s]\n"
          ]
        },
        {
          "name": "stdout",
          "output_type": "stream",
          "text": [
            "Moving model to device:  cpu\n"
          ]
        },
        {
          "name": "stderr",
          "output_type": "stream",
          "text": [
            "Chain 13: 100%|██████████| 25/25 [00:00<00:00, 27.04it/s]\n"
          ]
        },
        {
          "name": "stdout",
          "output_type": "stream",
          "text": [
            "Moving model to device:  cpu\n"
          ]
        },
        {
          "name": "stderr",
          "output_type": "stream",
          "text": [
            "Chain 14: 100%|██████████| 25/25 [00:00<00:00, 28.45it/s]\n"
          ]
        },
        {
          "name": "stdout",
          "output_type": "stream",
          "text": [
            "result = 771.2996215820312\n",
            "Moving model to device:  cpu\n",
            "Moving model to device:  cpu\n",
            "Moving model to device:  cpu\n"
          ]
        },
        {
          "name": "stderr",
          "output_type": "stream",
          "text": [
            "Chain 0: 100%|██████████| 25/25 [00:00<00:00, 28.83it/s]\n"
          ]
        },
        {
          "name": "stdout",
          "output_type": "stream",
          "text": [
            "Moving model to device:  cpu\n"
          ]
        },
        {
          "name": "stderr",
          "output_type": "stream",
          "text": [
            "Chain 1: 100%|██████████| 25/25 [00:01<00:00, 22.54it/s]\n"
          ]
        },
        {
          "name": "stdout",
          "output_type": "stream",
          "text": [
            "Moving model to device:  cpu\n"
          ]
        },
        {
          "name": "stderr",
          "output_type": "stream",
          "text": [
            "Chain 2: 100%|██████████| 25/25 [00:00<00:00, 27.65it/s]\n"
          ]
        },
        {
          "name": "stdout",
          "output_type": "stream",
          "text": [
            "Moving model to device:  cpu\n"
          ]
        },
        {
          "name": "stderr",
          "output_type": "stream",
          "text": [
            "Chain 3: 100%|██████████| 25/25 [00:00<00:00, 27.74it/s]\n"
          ]
        },
        {
          "name": "stdout",
          "output_type": "stream",
          "text": [
            "Moving model to device:  cpu\n"
          ]
        },
        {
          "name": "stderr",
          "output_type": "stream",
          "text": [
            "Chain 4: 100%|██████████| 25/25 [00:00<00:00, 27.03it/s]\n"
          ]
        },
        {
          "name": "stdout",
          "output_type": "stream",
          "text": [
            "Moving model to device:  cpu\n"
          ]
        },
        {
          "name": "stderr",
          "output_type": "stream",
          "text": [
            "Chain 5: 100%|██████████| 25/25 [00:00<00:00, 28.52it/s]\n"
          ]
        },
        {
          "name": "stdout",
          "output_type": "stream",
          "text": [
            "Moving model to device:  cpu\n"
          ]
        },
        {
          "name": "stderr",
          "output_type": "stream",
          "text": [
            "Chain 6: 100%|██████████| 25/25 [00:00<00:00, 28.76it/s]\n"
          ]
        },
        {
          "name": "stdout",
          "output_type": "stream",
          "text": [
            "Moving model to device:  cpu\n"
          ]
        },
        {
          "name": "stderr",
          "output_type": "stream",
          "text": [
            "Chain 7: 100%|██████████| 25/25 [00:00<00:00, 28.87it/s]\n"
          ]
        },
        {
          "name": "stdout",
          "output_type": "stream",
          "text": [
            "Moving model to device:  cpu\n"
          ]
        },
        {
          "name": "stderr",
          "output_type": "stream",
          "text": [
            "Chain 8: 100%|██████████| 25/25 [00:00<00:00, 27.26it/s]\n"
          ]
        },
        {
          "name": "stdout",
          "output_type": "stream",
          "text": [
            "Moving model to device:  cpu\n"
          ]
        },
        {
          "name": "stderr",
          "output_type": "stream",
          "text": [
            "Chain 9: 100%|██████████| 25/25 [00:00<00:00, 28.05it/s]\n"
          ]
        },
        {
          "name": "stdout",
          "output_type": "stream",
          "text": [
            "Moving model to device:  cpu\n"
          ]
        },
        {
          "name": "stderr",
          "output_type": "stream",
          "text": [
            "Chain 10: 100%|██████████| 25/25 [00:00<00:00, 27.69it/s]\n"
          ]
        },
        {
          "name": "stdout",
          "output_type": "stream",
          "text": [
            "Moving model to device:  cpu\n"
          ]
        },
        {
          "name": "stderr",
          "output_type": "stream",
          "text": [
            "Chain 11: 100%|██████████| 25/25 [00:00<00:00, 28.27it/s]\n"
          ]
        },
        {
          "name": "stdout",
          "output_type": "stream",
          "text": [
            "Moving model to device:  cpu\n"
          ]
        },
        {
          "name": "stderr",
          "output_type": "stream",
          "text": [
            "Chain 12: 100%|██████████| 25/25 [00:01<00:00, 23.69it/s]\n"
          ]
        },
        {
          "name": "stdout",
          "output_type": "stream",
          "text": [
            "Moving model to device:  cpu\n"
          ]
        },
        {
          "name": "stderr",
          "output_type": "stream",
          "text": [
            "Chain 13: 100%|██████████| 25/25 [00:00<00:00, 28.34it/s]\n"
          ]
        },
        {
          "name": "stdout",
          "output_type": "stream",
          "text": [
            "Moving model to device:  cpu\n"
          ]
        },
        {
          "name": "stderr",
          "output_type": "stream",
          "text": [
            "Chain 14: 100%|██████████| 25/25 [00:00<00:00, 28.04it/s]"
          ]
        },
        {
          "name": "stdout",
          "output_type": "stream",
          "text": [
            "result = 777.3110961914062\n"
          ]
        },
        {
          "name": "stderr",
          "output_type": "stream",
          "text": [
            "\n"
          ]
        },
        {
          "data": {
            "text/html": [
              "<div>                            <div id=\"4a5866b5-da28-43bb-9f42-a08a9d198f22\" class=\"plotly-graph-div\" style=\"height:525px; width:100%;\"></div>            <script type=\"text/javascript\">                require([\"plotly\"], function(Plotly) {                    window.PLOTLYENV=window.PLOTLYENV || {};                                    if (document.getElementById(\"4a5866b5-da28-43bb-9f42-a08a9d198f22\")) {                    Plotly.newPlot(                        \"4a5866b5-da28-43bb-9f42-a08a9d198f22\",                        [{\"hovertemplate\":\"Epoch=%{x}\\u003cbr\\u003eLLC=%{y}\\u003cextra\\u003e\\u003c\\u002fextra\\u003e\",\"legendgroup\":\"\",\"line\":{\"color\":\"#636efa\",\"dash\":\"solid\"},\"marker\":{\"symbol\":\"circle\"},\"mode\":\"lines\",\"name\":\"\",\"orientation\":\"v\",\"showlegend\":false,\"x\":[0,1,2,3,4,5,6,7,8,9,10,11,12,13,14,15,16,17,18,19,20,21,22,23,24,25,26,27,28,29,30,31,32,33,34,35,36,37,38,39,40,41,42,43,44,45,46,47,48,49],\"xaxis\":\"x\",\"y\":[454.82647705078125,773.5372314453125,811.586669921875,821.6535034179688,820.9591674804688,825.1616821289062,827.345458984375,825.9927368164062,814.1217651367188,810.0178833007812,807.298828125,798.8726806640625,794.922607421875,770.2195434570312,786.487548828125,793.6002197265625,784.0667724609375,782.9607543945312,755.2130737304688,776.864990234375,781.9591064453125,777.8566284179688,778.5543823242188,778.4385375976562,778.4865112304688,772.8593139648438,774.6428833007812,780.8536376953125,779.579345703125,773.6299438476562,776.7307739257812,774.9265747070312,651.627685546875,770.5020751953125,767.6594848632812,771.3953247070312,777.0797119140625,778.7067260742188,776.1710815429688,768.2284545898438,763.5393676757812,767.5942993164062,770.8662719726562,772.5802612304688,775.4881591796875,770.8507080078125,766.5172729492188,767.0591430664062,771.2996215820312,777.3110961914062],\"yaxis\":\"y\",\"type\":\"scatter\"}],                        {\"template\":{\"data\":{\"histogram2dcontour\":[{\"type\":\"histogram2dcontour\",\"colorbar\":{\"outlinewidth\":0,\"ticks\":\"\"},\"colorscale\":[[0.0,\"#0d0887\"],[0.1111111111111111,\"#46039f\"],[0.2222222222222222,\"#7201a8\"],[0.3333333333333333,\"#9c179e\"],[0.4444444444444444,\"#bd3786\"],[0.5555555555555556,\"#d8576b\"],[0.6666666666666666,\"#ed7953\"],[0.7777777777777778,\"#fb9f3a\"],[0.8888888888888888,\"#fdca26\"],[1.0,\"#f0f921\"]]}],\"choropleth\":[{\"type\":\"choropleth\",\"colorbar\":{\"outlinewidth\":0,\"ticks\":\"\"}}],\"histogram2d\":[{\"type\":\"histogram2d\",\"colorbar\":{\"outlinewidth\":0,\"ticks\":\"\"},\"colorscale\":[[0.0,\"#0d0887\"],[0.1111111111111111,\"#46039f\"],[0.2222222222222222,\"#7201a8\"],[0.3333333333333333,\"#9c179e\"],[0.4444444444444444,\"#bd3786\"],[0.5555555555555556,\"#d8576b\"],[0.6666666666666666,\"#ed7953\"],[0.7777777777777778,\"#fb9f3a\"],[0.8888888888888888,\"#fdca26\"],[1.0,\"#f0f921\"]]}],\"heatmap\":[{\"type\":\"heatmap\",\"colorbar\":{\"outlinewidth\":0,\"ticks\":\"\"},\"colorscale\":[[0.0,\"#0d0887\"],[0.1111111111111111,\"#46039f\"],[0.2222222222222222,\"#7201a8\"],[0.3333333333333333,\"#9c179e\"],[0.4444444444444444,\"#bd3786\"],[0.5555555555555556,\"#d8576b\"],[0.6666666666666666,\"#ed7953\"],[0.7777777777777778,\"#fb9f3a\"],[0.8888888888888888,\"#fdca26\"],[1.0,\"#f0f921\"]]}],\"heatmapgl\":[{\"type\":\"heatmapgl\",\"colorbar\":{\"outlinewidth\":0,\"ticks\":\"\"},\"colorscale\":[[0.0,\"#0d0887\"],[0.1111111111111111,\"#46039f\"],[0.2222222222222222,\"#7201a8\"],[0.3333333333333333,\"#9c179e\"],[0.4444444444444444,\"#bd3786\"],[0.5555555555555556,\"#d8576b\"],[0.6666666666666666,\"#ed7953\"],[0.7777777777777778,\"#fb9f3a\"],[0.8888888888888888,\"#fdca26\"],[1.0,\"#f0f921\"]]}],\"contourcarpet\":[{\"type\":\"contourcarpet\",\"colorbar\":{\"outlinewidth\":0,\"ticks\":\"\"}}],\"contour\":[{\"type\":\"contour\",\"colorbar\":{\"outlinewidth\":0,\"ticks\":\"\"},\"colorscale\":[[0.0,\"#0d0887\"],[0.1111111111111111,\"#46039f\"],[0.2222222222222222,\"#7201a8\"],[0.3333333333333333,\"#9c179e\"],[0.4444444444444444,\"#bd3786\"],[0.5555555555555556,\"#d8576b\"],[0.6666666666666666,\"#ed7953\"],[0.7777777777777778,\"#fb9f3a\"],[0.8888888888888888,\"#fdca26\"],[1.0,\"#f0f921\"]]}],\"surface\":[{\"type\":\"surface\",\"colorbar\":{\"outlinewidth\":0,\"ticks\":\"\"},\"colorscale\":[[0.0,\"#0d0887\"],[0.1111111111111111,\"#46039f\"],[0.2222222222222222,\"#7201a8\"],[0.3333333333333333,\"#9c179e\"],[0.4444444444444444,\"#bd3786\"],[0.5555555555555556,\"#d8576b\"],[0.6666666666666666,\"#ed7953\"],[0.7777777777777778,\"#fb9f3a\"],[0.8888888888888888,\"#fdca26\"],[1.0,\"#f0f921\"]]}],\"mesh3d\":[{\"type\":\"mesh3d\",\"colorbar\":{\"outlinewidth\":0,\"ticks\":\"\"}}],\"scatter\":[{\"fillpattern\":{\"fillmode\":\"overlay\",\"size\":10,\"solidity\":0.2},\"type\":\"scatter\"}],\"parcoords\":[{\"type\":\"parcoords\",\"line\":{\"colorbar\":{\"outlinewidth\":0,\"ticks\":\"\"}}}],\"scatterpolargl\":[{\"type\":\"scatterpolargl\",\"marker\":{\"colorbar\":{\"outlinewidth\":0,\"ticks\":\"\"}}}],\"bar\":[{\"error_x\":{\"color\":\"#2a3f5f\"},\"error_y\":{\"color\":\"#2a3f5f\"},\"marker\":{\"line\":{\"color\":\"#E5ECF6\",\"width\":0.5},\"pattern\":{\"fillmode\":\"overlay\",\"size\":10,\"solidity\":0.2}},\"type\":\"bar\"}],\"scattergeo\":[{\"type\":\"scattergeo\",\"marker\":{\"colorbar\":{\"outlinewidth\":0,\"ticks\":\"\"}}}],\"scatterpolar\":[{\"type\":\"scatterpolar\",\"marker\":{\"colorbar\":{\"outlinewidth\":0,\"ticks\":\"\"}}}],\"histogram\":[{\"marker\":{\"pattern\":{\"fillmode\":\"overlay\",\"size\":10,\"solidity\":0.2}},\"type\":\"histogram\"}],\"scattergl\":[{\"type\":\"scattergl\",\"marker\":{\"colorbar\":{\"outlinewidth\":0,\"ticks\":\"\"}}}],\"scatter3d\":[{\"type\":\"scatter3d\",\"line\":{\"colorbar\":{\"outlinewidth\":0,\"ticks\":\"\"}},\"marker\":{\"colorbar\":{\"outlinewidth\":0,\"ticks\":\"\"}}}],\"scattermapbox\":[{\"type\":\"scattermapbox\",\"marker\":{\"colorbar\":{\"outlinewidth\":0,\"ticks\":\"\"}}}],\"scatterternary\":[{\"type\":\"scatterternary\",\"marker\":{\"colorbar\":{\"outlinewidth\":0,\"ticks\":\"\"}}}],\"scattercarpet\":[{\"type\":\"scattercarpet\",\"marker\":{\"colorbar\":{\"outlinewidth\":0,\"ticks\":\"\"}}}],\"carpet\":[{\"aaxis\":{\"endlinecolor\":\"#2a3f5f\",\"gridcolor\":\"white\",\"linecolor\":\"white\",\"minorgridcolor\":\"white\",\"startlinecolor\":\"#2a3f5f\"},\"baxis\":{\"endlinecolor\":\"#2a3f5f\",\"gridcolor\":\"white\",\"linecolor\":\"white\",\"minorgridcolor\":\"white\",\"startlinecolor\":\"#2a3f5f\"},\"type\":\"carpet\"}],\"table\":[{\"cells\":{\"fill\":{\"color\":\"#EBF0F8\"},\"line\":{\"color\":\"white\"}},\"header\":{\"fill\":{\"color\":\"#C8D4E3\"},\"line\":{\"color\":\"white\"}},\"type\":\"table\"}],\"barpolar\":[{\"marker\":{\"line\":{\"color\":\"#E5ECF6\",\"width\":0.5},\"pattern\":{\"fillmode\":\"overlay\",\"size\":10,\"solidity\":0.2}},\"type\":\"barpolar\"}],\"pie\":[{\"automargin\":true,\"type\":\"pie\"}]},\"layout\":{\"autotypenumbers\":\"strict\",\"colorway\":[\"#636efa\",\"#EF553B\",\"#00cc96\",\"#ab63fa\",\"#FFA15A\",\"#19d3f3\",\"#FF6692\",\"#B6E880\",\"#FF97FF\",\"#FECB52\"],\"font\":{\"color\":\"#2a3f5f\"},\"hovermode\":\"closest\",\"hoverlabel\":{\"align\":\"left\"},\"paper_bgcolor\":\"white\",\"plot_bgcolor\":\"#E5ECF6\",\"polar\":{\"bgcolor\":\"#E5ECF6\",\"angularaxis\":{\"gridcolor\":\"white\",\"linecolor\":\"white\",\"ticks\":\"\"},\"radialaxis\":{\"gridcolor\":\"white\",\"linecolor\":\"white\",\"ticks\":\"\"}},\"ternary\":{\"bgcolor\":\"#E5ECF6\",\"aaxis\":{\"gridcolor\":\"white\",\"linecolor\":\"white\",\"ticks\":\"\"},\"baxis\":{\"gridcolor\":\"white\",\"linecolor\":\"white\",\"ticks\":\"\"},\"caxis\":{\"gridcolor\":\"white\",\"linecolor\":\"white\",\"ticks\":\"\"}},\"coloraxis\":{\"colorbar\":{\"outlinewidth\":0,\"ticks\":\"\"}},\"colorscale\":{\"sequential\":[[0.0,\"#0d0887\"],[0.1111111111111111,\"#46039f\"],[0.2222222222222222,\"#7201a8\"],[0.3333333333333333,\"#9c179e\"],[0.4444444444444444,\"#bd3786\"],[0.5555555555555556,\"#d8576b\"],[0.6666666666666666,\"#ed7953\"],[0.7777777777777778,\"#fb9f3a\"],[0.8888888888888888,\"#fdca26\"],[1.0,\"#f0f921\"]],\"sequentialminus\":[[0.0,\"#0d0887\"],[0.1111111111111111,\"#46039f\"],[0.2222222222222222,\"#7201a8\"],[0.3333333333333333,\"#9c179e\"],[0.4444444444444444,\"#bd3786\"],[0.5555555555555556,\"#d8576b\"],[0.6666666666666666,\"#ed7953\"],[0.7777777777777778,\"#fb9f3a\"],[0.8888888888888888,\"#fdca26\"],[1.0,\"#f0f921\"]],\"diverging\":[[0,\"#8e0152\"],[0.1,\"#c51b7d\"],[0.2,\"#de77ae\"],[0.3,\"#f1b6da\"],[0.4,\"#fde0ef\"],[0.5,\"#f7f7f7\"],[0.6,\"#e6f5d0\"],[0.7,\"#b8e186\"],[0.8,\"#7fbc41\"],[0.9,\"#4d9221\"],[1,\"#276419\"]]},\"xaxis\":{\"gridcolor\":\"white\",\"linecolor\":\"white\",\"ticks\":\"\",\"title\":{\"standoff\":15,\"font\":{\"size\":20}},\"zerolinecolor\":\"white\",\"automargin\":true,\"zerolinewidth\":2},\"yaxis\":{\"gridcolor\":\"white\",\"linecolor\":\"white\",\"ticks\":\"\",\"title\":{\"standoff\":15,\"font\":{\"size\":20}},\"zerolinecolor\":\"white\",\"automargin\":true,\"zerolinewidth\":2},\"scene\":{\"xaxis\":{\"backgroundcolor\":\"#E5ECF6\",\"gridcolor\":\"white\",\"linecolor\":\"white\",\"showbackground\":true,\"ticks\":\"\",\"zerolinecolor\":\"white\",\"gridwidth\":2},\"yaxis\":{\"backgroundcolor\":\"#E5ECF6\",\"gridcolor\":\"white\",\"linecolor\":\"white\",\"showbackground\":true,\"ticks\":\"\",\"zerolinecolor\":\"white\",\"gridwidth\":2},\"zaxis\":{\"backgroundcolor\":\"#E5ECF6\",\"gridcolor\":\"white\",\"linecolor\":\"white\",\"showbackground\":true,\"ticks\":\"\",\"zerolinecolor\":\"white\",\"gridwidth\":2}},\"shapedefaults\":{\"line\":{\"color\":\"#2a3f5f\"}},\"annotationdefaults\":{\"arrowcolor\":\"#2a3f5f\",\"arrowhead\":0,\"arrowwidth\":1},\"geo\":{\"bgcolor\":\"white\",\"landcolor\":\"#E5ECF6\",\"subunitcolor\":\"white\",\"showland\":true,\"showlakes\":true,\"lakecolor\":\"white\"},\"title\":{\"x\":0.05,\"font\":{\"size\":30}},\"mapbox\":{\"style\":\"light\"}}},\"xaxis\":{\"anchor\":\"y\",\"domain\":[0.0,1.0],\"title\":{\"text\":\"Epoch\"}},\"yaxis\":{\"anchor\":\"x\",\"domain\":[0.0,1.0],\"title\":{\"text\":\"LLC\"}},\"legend\":{\"tracegroupgap\":0},\"title\":{\"text\":\"Learning Coefficient Estimates\"},\"updatemenus\":[{\"active\":-1,\"buttons\":[{\"args\":[{\"xaxis.type\":\"log\"}],\"args2\":[{\"xaxis.type\":\"linear\"}],\"label\":\"Log x-axis\",\"method\":\"relayout\"}],\"type\":\"buttons\",\"x\":-0.1,\"y\":1.0},{\"active\":-1,\"buttons\":[{\"args\":[{\"yaxis.type\":\"log\"}],\"args2\":[{\"yaxis.type\":\"linear\"}],\"label\":\"Log y-axis\",\"method\":\"relayout\"}],\"type\":\"buttons\",\"x\":-0.1,\"y\":0.85}]},                        {\"responsive\": true}                    ).then(function(){\n",
              "                            \n",
              "var gd = document.getElementById('4a5866b5-da28-43bb-9f42-a08a9d198f22');\n",
              "var x = new MutationObserver(function (mutations, observer) {{\n",
              "        var display = window.getComputedStyle(gd).display;\n",
              "        if (!display || display === 'none') {{\n",
              "            console.log([gd, 'removed!']);\n",
              "            Plotly.purge(gd);\n",
              "            observer.disconnect();\n",
              "        }}\n",
              "}});\n",
              "\n",
              "// Listen for the removal of the full notebook cells\n",
              "var notebookContainer = gd.closest('#notebook-container');\n",
              "if (notebookContainer) {{\n",
              "    x.observe(notebookContainer, {childList: true});\n",
              "}}\n",
              "\n",
              "// Listen for the clearing of the current output cell\n",
              "var outputEl = gd.closest('.output');\n",
              "if (outputEl) {{\n",
              "    x.observe(outputEl, {childList: true});\n",
              "}}\n",
              "\n",
              "                        })                };                });            </script>        </div>"
            ]
          },
          "metadata": {},
          "output_type": "display_data"
        }
      ],
      "source": [
        "from devinterp.slt.sampler import estimate_learning_coeff_with_summary, estimate_learning_coeff, SGLD\n",
        "from devinterp.utils import plot_trace\n",
        "\n",
        "def evaluate(model, data):\n",
        "    inputs, outputs = data\n",
        "\n",
        "    return loss_fn(model(inputs), outputs), {\n",
        "        \"logits\": model(inputs)\n",
        "    }\n",
        "\n",
        "llc_estimates_sgld = []\n",
        "llc_estimates_sgld = []\n",
        "\n",
        "for saved_model in tqdm.tqdm(model_checkpoints):\n",
        "    model.load_state_dict(saved_model)\n",
        "    result = estimate_learning_coeff(\n",
        "                model,\n",
        "                loader=train_loader,\n",
        "                evaluate=evaluate,\n",
        "                sampling_method=SGLD,\n",
        "                optimizer_kwargs=dict(lr=5e-4, localization=100.0),\n",
        "                num_chains=15,           # How many independent chains to run\n",
        "                num_draws=5,            # How many samples to draw per chain\n",
        "                num_burnin_steps=20,    # How many samples to discard at the beginning of each chain\n",
        "                num_steps_bw_draws=1,   # How many steps to take between each sample\n",
        "                device=device,\n",
        "                #online=True,\n",
        "            )\n",
        "    llc_estimates.append(result)\n",
        "    print(f\"result = {result}\")\n",
        "'''\n",
        "    plot_trace(\n",
        "        results[\"llc/trace\"],\n",
        "        \"Loss\",\n",
        "        x_axis=\"Step\",\n",
        "        title=f\"Loss Trace, avg LLC = {sum(results['llc/means']) / len(results['llc/means']):.2f}\",\n",
        "        plot_mean=False,\n",
        "        plot_std=False,\n",
        "        fig_size=(12, 9),\n",
        "        true_lc=None,\n",
        "    )\n",
        "'''\n",
        "# Graph the LLC estimates\n",
        "line(llc_estimates, xaxis=\"Epoch\", yaxis=\"LLC\", title=\"Learning Coefficient Estimates\", log_y=False, toggle_x=True, toggle_y=True)"
      ]
    },
    {
      "cell_type": "code",
      "execution_count": 207,
      "metadata": {},
      "outputs": [
        {
          "data": {
            "text/html": [
              "<div>                            <div id=\"a0b2f457-b75c-4af6-967c-a9dfd2600bf7\" class=\"plotly-graph-div\" style=\"height:525px; width:100%;\"></div>            <script type=\"text/javascript\">                require([\"plotly\"], function(Plotly) {                    window.PLOTLYENV=window.PLOTLYENV || {};                                    if (document.getElementById(\"a0b2f457-b75c-4af6-967c-a9dfd2600bf7\")) {                    Plotly.newPlot(                        \"a0b2f457-b75c-4af6-967c-a9dfd2600bf7\",                        [{\"hovertemplate\":\"Epoch=%{x}\\u003cbr\\u003eLLC=%{y}\\u003cextra\\u003e\\u003c\\u002fextra\\u003e\",\"legendgroup\":\"\",\"line\":{\"color\":\"#636efa\",\"dash\":\"solid\"},\"marker\":{\"symbol\":\"circle\"},\"mode\":\"lines\",\"name\":\"\",\"orientation\":\"v\",\"showlegend\":false,\"x\":[0,1,2,3,4,5,6,7,8,9,10,11,12,13,14,15,16,17,18,19,20,21,22,23,24,25,26,27,28,29,30,31,32,33,34,35,36,37,38,39,40,41,42,43,44,45,46,47,48,49],\"xaxis\":\"x\",\"y\":[454.82647705078125,773.5372314453125,811.586669921875,821.6535034179688,820.9591674804688,825.1616821289062,827.345458984375,825.9927368164062,814.1217651367188,810.0178833007812,807.298828125,798.8726806640625,794.922607421875,770.2195434570312,786.487548828125,793.6002197265625,784.0667724609375,782.9607543945312,755.2130737304688,776.864990234375,781.9591064453125,777.8566284179688,778.5543823242188,778.4385375976562,778.4865112304688,772.8593139648438,774.6428833007812,780.8536376953125,779.579345703125,773.6299438476562,776.7307739257812,774.9265747070312,651.627685546875,770.5020751953125,767.6594848632812,771.3953247070312,777.0797119140625,778.7067260742188,776.1710815429688,768.2284545898438,763.5393676757812,767.5942993164062,770.8662719726562,772.5802612304688,775.4881591796875,770.8507080078125,766.5172729492188,767.0591430664062,771.2996215820312,777.3110961914062],\"yaxis\":\"y\",\"type\":\"scatter\"}],                        {\"template\":{\"data\":{\"histogram2dcontour\":[{\"type\":\"histogram2dcontour\",\"colorbar\":{\"outlinewidth\":0,\"ticks\":\"\"},\"colorscale\":[[0.0,\"#0d0887\"],[0.1111111111111111,\"#46039f\"],[0.2222222222222222,\"#7201a8\"],[0.3333333333333333,\"#9c179e\"],[0.4444444444444444,\"#bd3786\"],[0.5555555555555556,\"#d8576b\"],[0.6666666666666666,\"#ed7953\"],[0.7777777777777778,\"#fb9f3a\"],[0.8888888888888888,\"#fdca26\"],[1.0,\"#f0f921\"]]}],\"choropleth\":[{\"type\":\"choropleth\",\"colorbar\":{\"outlinewidth\":0,\"ticks\":\"\"}}],\"histogram2d\":[{\"type\":\"histogram2d\",\"colorbar\":{\"outlinewidth\":0,\"ticks\":\"\"},\"colorscale\":[[0.0,\"#0d0887\"],[0.1111111111111111,\"#46039f\"],[0.2222222222222222,\"#7201a8\"],[0.3333333333333333,\"#9c179e\"],[0.4444444444444444,\"#bd3786\"],[0.5555555555555556,\"#d8576b\"],[0.6666666666666666,\"#ed7953\"],[0.7777777777777778,\"#fb9f3a\"],[0.8888888888888888,\"#fdca26\"],[1.0,\"#f0f921\"]]}],\"heatmap\":[{\"type\":\"heatmap\",\"colorbar\":{\"outlinewidth\":0,\"ticks\":\"\"},\"colorscale\":[[0.0,\"#0d0887\"],[0.1111111111111111,\"#46039f\"],[0.2222222222222222,\"#7201a8\"],[0.3333333333333333,\"#9c179e\"],[0.4444444444444444,\"#bd3786\"],[0.5555555555555556,\"#d8576b\"],[0.6666666666666666,\"#ed7953\"],[0.7777777777777778,\"#fb9f3a\"],[0.8888888888888888,\"#fdca26\"],[1.0,\"#f0f921\"]]}],\"heatmapgl\":[{\"type\":\"heatmapgl\",\"colorbar\":{\"outlinewidth\":0,\"ticks\":\"\"},\"colorscale\":[[0.0,\"#0d0887\"],[0.1111111111111111,\"#46039f\"],[0.2222222222222222,\"#7201a8\"],[0.3333333333333333,\"#9c179e\"],[0.4444444444444444,\"#bd3786\"],[0.5555555555555556,\"#d8576b\"],[0.6666666666666666,\"#ed7953\"],[0.7777777777777778,\"#fb9f3a\"],[0.8888888888888888,\"#fdca26\"],[1.0,\"#f0f921\"]]}],\"contourcarpet\":[{\"type\":\"contourcarpet\",\"colorbar\":{\"outlinewidth\":0,\"ticks\":\"\"}}],\"contour\":[{\"type\":\"contour\",\"colorbar\":{\"outlinewidth\":0,\"ticks\":\"\"},\"colorscale\":[[0.0,\"#0d0887\"],[0.1111111111111111,\"#46039f\"],[0.2222222222222222,\"#7201a8\"],[0.3333333333333333,\"#9c179e\"],[0.4444444444444444,\"#bd3786\"],[0.5555555555555556,\"#d8576b\"],[0.6666666666666666,\"#ed7953\"],[0.7777777777777778,\"#fb9f3a\"],[0.8888888888888888,\"#fdca26\"],[1.0,\"#f0f921\"]]}],\"surface\":[{\"type\":\"surface\",\"colorbar\":{\"outlinewidth\":0,\"ticks\":\"\"},\"colorscale\":[[0.0,\"#0d0887\"],[0.1111111111111111,\"#46039f\"],[0.2222222222222222,\"#7201a8\"],[0.3333333333333333,\"#9c179e\"],[0.4444444444444444,\"#bd3786\"],[0.5555555555555556,\"#d8576b\"],[0.6666666666666666,\"#ed7953\"],[0.7777777777777778,\"#fb9f3a\"],[0.8888888888888888,\"#fdca26\"],[1.0,\"#f0f921\"]]}],\"mesh3d\":[{\"type\":\"mesh3d\",\"colorbar\":{\"outlinewidth\":0,\"ticks\":\"\"}}],\"scatter\":[{\"fillpattern\":{\"fillmode\":\"overlay\",\"size\":10,\"solidity\":0.2},\"type\":\"scatter\"}],\"parcoords\":[{\"type\":\"parcoords\",\"line\":{\"colorbar\":{\"outlinewidth\":0,\"ticks\":\"\"}}}],\"scatterpolargl\":[{\"type\":\"scatterpolargl\",\"marker\":{\"colorbar\":{\"outlinewidth\":0,\"ticks\":\"\"}}}],\"bar\":[{\"error_x\":{\"color\":\"#2a3f5f\"},\"error_y\":{\"color\":\"#2a3f5f\"},\"marker\":{\"line\":{\"color\":\"#E5ECF6\",\"width\":0.5},\"pattern\":{\"fillmode\":\"overlay\",\"size\":10,\"solidity\":0.2}},\"type\":\"bar\"}],\"scattergeo\":[{\"type\":\"scattergeo\",\"marker\":{\"colorbar\":{\"outlinewidth\":0,\"ticks\":\"\"}}}],\"scatterpolar\":[{\"type\":\"scatterpolar\",\"marker\":{\"colorbar\":{\"outlinewidth\":0,\"ticks\":\"\"}}}],\"histogram\":[{\"marker\":{\"pattern\":{\"fillmode\":\"overlay\",\"size\":10,\"solidity\":0.2}},\"type\":\"histogram\"}],\"scattergl\":[{\"type\":\"scattergl\",\"marker\":{\"colorbar\":{\"outlinewidth\":0,\"ticks\":\"\"}}}],\"scatter3d\":[{\"type\":\"scatter3d\",\"line\":{\"colorbar\":{\"outlinewidth\":0,\"ticks\":\"\"}},\"marker\":{\"colorbar\":{\"outlinewidth\":0,\"ticks\":\"\"}}}],\"scattermapbox\":[{\"type\":\"scattermapbox\",\"marker\":{\"colorbar\":{\"outlinewidth\":0,\"ticks\":\"\"}}}],\"scatterternary\":[{\"type\":\"scatterternary\",\"marker\":{\"colorbar\":{\"outlinewidth\":0,\"ticks\":\"\"}}}],\"scattercarpet\":[{\"type\":\"scattercarpet\",\"marker\":{\"colorbar\":{\"outlinewidth\":0,\"ticks\":\"\"}}}],\"carpet\":[{\"aaxis\":{\"endlinecolor\":\"#2a3f5f\",\"gridcolor\":\"white\",\"linecolor\":\"white\",\"minorgridcolor\":\"white\",\"startlinecolor\":\"#2a3f5f\"},\"baxis\":{\"endlinecolor\":\"#2a3f5f\",\"gridcolor\":\"white\",\"linecolor\":\"white\",\"minorgridcolor\":\"white\",\"startlinecolor\":\"#2a3f5f\"},\"type\":\"carpet\"}],\"table\":[{\"cells\":{\"fill\":{\"color\":\"#EBF0F8\"},\"line\":{\"color\":\"white\"}},\"header\":{\"fill\":{\"color\":\"#C8D4E3\"},\"line\":{\"color\":\"white\"}},\"type\":\"table\"}],\"barpolar\":[{\"marker\":{\"line\":{\"color\":\"#E5ECF6\",\"width\":0.5},\"pattern\":{\"fillmode\":\"overlay\",\"size\":10,\"solidity\":0.2}},\"type\":\"barpolar\"}],\"pie\":[{\"automargin\":true,\"type\":\"pie\"}]},\"layout\":{\"autotypenumbers\":\"strict\",\"colorway\":[\"#636efa\",\"#EF553B\",\"#00cc96\",\"#ab63fa\",\"#FFA15A\",\"#19d3f3\",\"#FF6692\",\"#B6E880\",\"#FF97FF\",\"#FECB52\"],\"font\":{\"color\":\"#2a3f5f\"},\"hovermode\":\"closest\",\"hoverlabel\":{\"align\":\"left\"},\"paper_bgcolor\":\"white\",\"plot_bgcolor\":\"#E5ECF6\",\"polar\":{\"bgcolor\":\"#E5ECF6\",\"angularaxis\":{\"gridcolor\":\"white\",\"linecolor\":\"white\",\"ticks\":\"\"},\"radialaxis\":{\"gridcolor\":\"white\",\"linecolor\":\"white\",\"ticks\":\"\"}},\"ternary\":{\"bgcolor\":\"#E5ECF6\",\"aaxis\":{\"gridcolor\":\"white\",\"linecolor\":\"white\",\"ticks\":\"\"},\"baxis\":{\"gridcolor\":\"white\",\"linecolor\":\"white\",\"ticks\":\"\"},\"caxis\":{\"gridcolor\":\"white\",\"linecolor\":\"white\",\"ticks\":\"\"}},\"coloraxis\":{\"colorbar\":{\"outlinewidth\":0,\"ticks\":\"\"}},\"colorscale\":{\"sequential\":[[0.0,\"#0d0887\"],[0.1111111111111111,\"#46039f\"],[0.2222222222222222,\"#7201a8\"],[0.3333333333333333,\"#9c179e\"],[0.4444444444444444,\"#bd3786\"],[0.5555555555555556,\"#d8576b\"],[0.6666666666666666,\"#ed7953\"],[0.7777777777777778,\"#fb9f3a\"],[0.8888888888888888,\"#fdca26\"],[1.0,\"#f0f921\"]],\"sequentialminus\":[[0.0,\"#0d0887\"],[0.1111111111111111,\"#46039f\"],[0.2222222222222222,\"#7201a8\"],[0.3333333333333333,\"#9c179e\"],[0.4444444444444444,\"#bd3786\"],[0.5555555555555556,\"#d8576b\"],[0.6666666666666666,\"#ed7953\"],[0.7777777777777778,\"#fb9f3a\"],[0.8888888888888888,\"#fdca26\"],[1.0,\"#f0f921\"]],\"diverging\":[[0,\"#8e0152\"],[0.1,\"#c51b7d\"],[0.2,\"#de77ae\"],[0.3,\"#f1b6da\"],[0.4,\"#fde0ef\"],[0.5,\"#f7f7f7\"],[0.6,\"#e6f5d0\"],[0.7,\"#b8e186\"],[0.8,\"#7fbc41\"],[0.9,\"#4d9221\"],[1,\"#276419\"]]},\"xaxis\":{\"gridcolor\":\"white\",\"linecolor\":\"white\",\"ticks\":\"\",\"title\":{\"standoff\":15,\"font\":{\"size\":20}},\"zerolinecolor\":\"white\",\"automargin\":true,\"zerolinewidth\":2},\"yaxis\":{\"gridcolor\":\"white\",\"linecolor\":\"white\",\"ticks\":\"\",\"title\":{\"standoff\":15,\"font\":{\"size\":20}},\"zerolinecolor\":\"white\",\"automargin\":true,\"zerolinewidth\":2},\"scene\":{\"xaxis\":{\"backgroundcolor\":\"#E5ECF6\",\"gridcolor\":\"white\",\"linecolor\":\"white\",\"showbackground\":true,\"ticks\":\"\",\"zerolinecolor\":\"white\",\"gridwidth\":2},\"yaxis\":{\"backgroundcolor\":\"#E5ECF6\",\"gridcolor\":\"white\",\"linecolor\":\"white\",\"showbackground\":true,\"ticks\":\"\",\"zerolinecolor\":\"white\",\"gridwidth\":2},\"zaxis\":{\"backgroundcolor\":\"#E5ECF6\",\"gridcolor\":\"white\",\"linecolor\":\"white\",\"showbackground\":true,\"ticks\":\"\",\"zerolinecolor\":\"white\",\"gridwidth\":2}},\"shapedefaults\":{\"line\":{\"color\":\"#2a3f5f\"}},\"annotationdefaults\":{\"arrowcolor\":\"#2a3f5f\",\"arrowhead\":0,\"arrowwidth\":1},\"geo\":{\"bgcolor\":\"white\",\"landcolor\":\"#E5ECF6\",\"subunitcolor\":\"white\",\"showland\":true,\"showlakes\":true,\"lakecolor\":\"white\"},\"title\":{\"x\":0.05,\"font\":{\"size\":30}},\"mapbox\":{\"style\":\"light\"}}},\"xaxis\":{\"anchor\":\"y\",\"domain\":[0.0,1.0],\"title\":{\"text\":\"Epoch\"}},\"yaxis\":{\"anchor\":\"x\",\"domain\":[0.0,1.0],\"title\":{\"text\":\"LLC\"}},\"legend\":{\"tracegroupgap\":0},\"title\":{\"text\":\"Learning Coefficient Estimates\"},\"updatemenus\":[{\"active\":-1,\"buttons\":[{\"args\":[{\"xaxis.type\":\"log\"}],\"args2\":[{\"xaxis.type\":\"linear\"}],\"label\":\"Log x-axis\",\"method\":\"relayout\"}],\"type\":\"buttons\",\"x\":-0.1,\"y\":1.0},{\"active\":-1,\"buttons\":[{\"args\":[{\"yaxis.type\":\"log\"}],\"args2\":[{\"yaxis.type\":\"linear\"}],\"label\":\"Log y-axis\",\"method\":\"relayout\"}],\"type\":\"buttons\",\"x\":-0.1,\"y\":0.85}]},                        {\"responsive\": true}                    ).then(function(){\n",
              "                            \n",
              "var gd = document.getElementById('a0b2f457-b75c-4af6-967c-a9dfd2600bf7');\n",
              "var x = new MutationObserver(function (mutations, observer) {{\n",
              "        var display = window.getComputedStyle(gd).display;\n",
              "        if (!display || display === 'none') {{\n",
              "            console.log([gd, 'removed!']);\n",
              "            Plotly.purge(gd);\n",
              "            observer.disconnect();\n",
              "        }}\n",
              "}});\n",
              "\n",
              "// Listen for the removal of the full notebook cells\n",
              "var notebookContainer = gd.closest('#notebook-container');\n",
              "if (notebookContainer) {{\n",
              "    x.observe(notebookContainer, {childList: true});\n",
              "}}\n",
              "\n",
              "// Listen for the clearing of the current output cell\n",
              "var outputEl = gd.closest('.output');\n",
              "if (outputEl) {{\n",
              "    x.observe(outputEl, {childList: true});\n",
              "}}\n",
              "\n",
              "                        })                };                });            </script>        </div>"
            ]
          },
          "metadata": {},
          "output_type": "display_data"
        }
      ],
      "source": [
        "line(llc_estimates, xaxis=\"Epoch\", yaxis=\"LLC\", title=\"Learning Coefficient Estimates\", log_y=False, toggle_x=True, toggle_y=True)"
      ]
    },
    {
      "cell_type": "code",
      "execution_count": 270,
      "metadata": {},
      "outputs": [
        {
          "data": {
            "image/png": "[encoded data removed]",
            "text/plain": [
              "<Figure size 1200x600 with 2 Axes>"
            ]
          },
          "metadata": {},
          "output_type": "display_data"
        }
      ],
      "source": [
        "import seaborn as sns\n",
        "import matplotlib.pyplot as plt\n",
        "import numpy as np\n",
        "\n",
        "# Assuming you have your data prepared as before\n",
        "epochs = np.arange(0, 5000, 10)\n",
        "lc_epochs = np.arange(0, 5000, 100)\n",
        "\n",
        "# Set up the plot\n",
        "plt.figure(figsize=(12, 6))\n",
        "sns.set_style(\"ticks\")\n",
        "\n",
        "# Create the main axis\n",
        "ax1 = plt.gca()\n",
        "\n",
        "# Plot loss curves\n",
        "#ax1.plot(epochs, test_losses_avg[::10], color=colors[0], label='Test Loss', linewidth=2)\n",
        "ax1.plot(epochs, train_losses_avg[::10], color=colors[1], label='Train Loss', linewidth=2)\n",
        "ax1.plot(epochs, add_test_losses_avg, color=colors[2], label='Addition Only Test Loss', linewidth=2)\n",
        "ax1.plot(epochs, multi_test_losses_avg, color=colors[3], label='Multiplication Only Test Loss', linewidth=2)\n",
        "\n",
        "# Set up the second y-axis for learning coefficient\n",
        "ax2 = ax1.twinx()\n",
        "ax2.plot(lc_epochs, llc_estimates, color=colors[4], linestyle='--', label='Learning Coefficient', linewidth=2)\n",
        "\n",
        "# Customize the plot\n",
        "ax1.set_xlabel('Epoch', fontsize=12)\n",
        "ax1.set_ylabel('Rolling Avg Loss', fontsize=12)\n",
        "ax2.set_ylabel('Learning Coefficient', fontsize=12)\n",
        "plt.title('Model Loss and Learning Coefficient During Training', fontsize=14)\n",
        "\n",
        "# Adjust tick parameters\n",
        "ax1.tick_params(axis='both', which='major', labelsize=10)\n",
        "ax2.tick_params(axis='y', which='major', labelsize=10)\n",
        "\n",
        "# Create a combined legend\n",
        "lines1, labels1 = ax1.get_legend_handles_labels()\n",
        "lines2, labels2 = ax2.get_legend_handles_labels()\n",
        "ax1.legend(lines1 + lines2, labels1 + labels2, loc='center right') # bbox_to_anchor=(1.1, 1), fontsize=10)\n",
        "\n",
        "plt.tight_layout()\n",
        "plt.show()"
      ]
    }
  ],
  "metadata": {
    "colab": {
      "provenance": [],
      "toc_visible": true
    },
    "kernelspec": {
      "display_name": "base",
      "language": "python",
      "name": "python3"
    },
    "language_info": {
      "codemirror_mode": {
        "name": "ipython",
        "version": 3
      },
      "file_extension": ".py",
      "mimetype": "text/x-python",
      "name": "python",
      "nbconvert_exporter": "python",
      "pygments_lexer": "ipython3",
      "version": "3.12.5"
    },
    "orig_nbformat": 4,
    "vscode": {
      "interpreter": {
        "hash": "8859a5491331dba93123a91c2831400aced845b502848170e05fcb48b2c144be"
      }
    }
  },
  "nbformat": 4,
  "nbformat_minor": 0
}
