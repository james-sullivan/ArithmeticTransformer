{
  "cells": [
    {
      "cell_type": "markdown",
      "metadata": {
        "id": "2A9Wv1do2UV2"
      },
      "source": [
        "# Dev Interp - Grokking Modular Addition and Multiplication"
      ]
    },
    {
      "cell_type": "markdown",
      "metadata": {
        "id": "A13-7Mc62UV3"
      },
      "source": [
        "# Setup"
      ]
    },
    {
      "cell_type": "code",
      "execution_count": 11,
      "metadata": {
        "id": "Q998xCML2UV3"
      },
      "outputs": [],
      "source": [
        "TRAIN_MODEL = True"
      ]
    },
    {
      "cell_type": "code",
      "execution_count": 12,
      "metadata": {
        "id": "zUBTNnz62UV3",
        "outputId": "3658e07b-1cba-42b8-f23b-a319f209561a"
      },
      "outputs": [
        {
          "name": "stdout",
          "output_type": "stream",
          "text": [
            "Running as a Jupyter notebook - intended for development only!\n",
            "The autoreload extension is already loaded. To reload it, use:\n",
            "  %reload_ext autoreload\n"
          ]
        },
        {
          "name": "stderr",
          "output_type": "stream",
          "text": [
            "/var/folders/85/m4tlmmlj4w58khykxvwgvt980000gn/T/ipykernel_87282/2858945602.py:22: DeprecationWarning:\n",
            "\n",
            "`magic(...)` is deprecated since IPython 0.13 (warning added in 8.1), use run_line_magic(magic_name, parameter_s).\n",
            "\n",
            "/var/folders/85/m4tlmmlj4w58khykxvwgvt980000gn/T/ipykernel_87282/2858945602.py:23: DeprecationWarning:\n",
            "\n",
            "`magic(...)` is deprecated since IPython 0.13 (warning added in 8.1), use run_line_magic(magic_name, parameter_s).\n",
            "\n"
          ]
        }
      ],
      "source": [
        "# Janky code to do different setup when run in a Colab notebook vs VSCode\n",
        "import os\n",
        "\n",
        "DEVELOPMENT_MODE = True\n",
        "IN_GITHUB = os.getenv(\"GITHUB_ACTIONS\") == \"true\"\n",
        "try:\n",
        "    import google.colab\n",
        "    IN_COLAB = True\n",
        "    print(\"Running as a Colab notebook\")\n",
        "\n",
        "    # PySvelte is an unmaintained visualization library, use it as a backup if circuitsvis isn't working\n",
        "    # # Install another version of node that makes PySvelte work way faster\n",
        "    # !curl -fsSL https://deb.nodesource.com/setup_16.x | sudo -E bash -; sudo apt-get install -y nodejs\n",
        "    # %pip install git+https://github.com/neelnanda-io/PySvelte.git\n",
        "except:\n",
        "    IN_COLAB = False\n",
        "    print(\"Running as a Jupyter notebook - intended for development only!\")\n",
        "    from IPython import get_ipython\n",
        "\n",
        "    ipython = get_ipython()\n",
        "    # Code to automatically update the HookedTransformer code as its edited without restarting the kernel\n",
        "    ipython.magic(\"load_ext autoreload\")\n",
        "    ipython.magic(\"autoreload 2\")\n",
        "\n",
        "if IN_COLAB or IN_GITHUB:\n",
        "    %pip install transformer_lens\n",
        "    %pip install circuitsvis"
      ]
    },
    {
      "cell_type": "code",
      "execution_count": 13,
      "metadata": {
        "id": "I8nEQDlP2UV4",
        "outputId": "a46ab340-d447-407c-9e3d-36be3ef04ad3"
      },
      "outputs": [
        {
          "name": "stdout",
          "output_type": "stream",
          "text": [
            "Using renderer: notebook_connected\n"
          ]
        }
      ],
      "source": [
        "# Plotly needs a different renderer for VSCode/Notebooks vs Colab argh\n",
        "import plotly.io as pio\n",
        "if IN_COLAB or not DEVELOPMENT_MODE:\n",
        "    pio.renderers.default = \"colab\"\n",
        "else:\n",
        "    pio.renderers.default = \"notebook_connected\"\n",
        "print(f\"Using renderer: {pio.renderers.default}\")"
      ]
    },
    {
      "cell_type": "code",
      "execution_count": 14,
      "metadata": {
        "id": "rp4RGtCp2UV4"
      },
      "outputs": [],
      "source": [
        "pio.templates['plotly'].layout.xaxis.title.font.size = 20\n",
        "pio.templates['plotly'].layout.yaxis.title.font.size = 20\n",
        "pio.templates['plotly'].layout.title.font.size = 30"
      ]
    },
    {
      "cell_type": "code",
      "execution_count": 15,
      "metadata": {
        "id": "RpPUz36r2UV4"
      },
      "outputs": [],
      "source": [
        "# Import stuff\n",
        "import torch\n",
        "import torch.nn as nn\n",
        "import torch.nn.functional as F\n",
        "import torch.optim as optim\n",
        "import numpy as np\n",
        "import einops\n",
        "from fancy_einsum import einsum\n",
        "import os\n",
        "import tqdm.auto as tqdm\n",
        "import random\n",
        "from pathlib import Path\n",
        "import plotly.express as px\n",
        "from torch.utils.data import DataLoader\n",
        "\n",
        "from typing import List, Union, Optional\n",
        "from functools import partial\n",
        "import copy\n",
        "\n",
        "import itertools\n",
        "from transformers import AutoModelForCausalLM, AutoConfig, AutoTokenizer\n",
        "import dataclasses\n",
        "import datasets\n",
        "from IPython.display import HTML"
      ]
    },
    {
      "cell_type": "code",
      "execution_count": 16,
      "metadata": {
        "id": "NmIM5yWr2UV4"
      },
      "outputs": [
        {
          "name": "stdout",
          "output_type": "stream",
          "text": [
            "device: cpu\n"
          ]
        }
      ],
      "source": [
        "import transformer_lens.utils as utils\n",
        "from transformer_lens import HookedTransformer, HookedTransformerConfig\n",
        "\n",
        "device = \"cuda\" if torch.cuda.is_available() else \"cpu\"\n",
        "\n",
        "print(f\"device: {device}\")"
      ]
    },
    {
      "cell_type": "markdown",
      "metadata": {
        "id": "Q5bjmWrq2UV5"
      },
      "source": [
        "Plotting helper functions:"
      ]
    },
    {
      "cell_type": "code",
      "execution_count": 17,
      "metadata": {
        "id": "aZe03f--2UV5"
      },
      "outputs": [],
      "source": [
        "from collections import deque\n",
        "\n",
        "def rolling_average(values, window_size):\n",
        "    window = deque(maxlen=window_size)\n",
        "    averages = []\n",
        "    \n",
        "    for value in values:\n",
        "        window.append(value)\n",
        "        averages.append(sum(window) / len(window))\n",
        "    \n",
        "    return averages\n",
        "\n",
        "def imshow(tensor, renderer=None, xaxis=\"\", yaxis=\"\", **kwargs):\n",
        "    px.imshow(utils.to_numpy(tensor), color_continuous_midpoint=0.0, color_continuous_scale=\"RdBu\", labels={\"x\":xaxis, \"y\":yaxis}, **kwargs).show(renderer)\n",
        "\n",
        "def line(tensor, renderer=None, xaxis=\"\", yaxis=\"\", **kwargs):\n",
        "    px.line(utils.to_numpy(tensor), labels={\"x\":xaxis, \"y\":yaxis}, **kwargs).show(renderer)\n",
        "\n",
        "def scatter(x, y, xaxis=\"\", yaxis=\"\", caxis=\"\", renderer=None, **kwargs):\n",
        "    x = utils.to_numpy(x)\n",
        "    y = utils.to_numpy(y)\n",
        "    px.scatter(y=y, x=x, labels={\"x\":xaxis, \"y\":yaxis, \"color\":caxis}, **kwargs).show(renderer)"
      ]
    },
    {
      "cell_type": "markdown",
      "metadata": {
        "id": "6EE1YCCg2UV5"
      },
      "source": [
        "# Model Training"
      ]
    },
    {
      "cell_type": "code",
      "execution_count": 18,
      "metadata": {
        "id": "2-6AgR5N2UV5"
      },
      "outputs": [],
      "source": [
        "DATA_SEED = 598"
      ]
    },
    {
      "cell_type": "markdown",
      "metadata": {
        "id": "MqhvJcjT2UV5"
      },
      "source": [
        "## Create the dataset\n",
        "* Define modular addition and modular multiplication datasets\n",
        "* Combine the two data sets\n",
        "* We can vary the proportion of addition to multiplication in the training dataset"
      ]
    },
    {
      "cell_type": "code",
      "execution_count": 19,
      "metadata": {},
      "outputs": [
        {
          "name": "stdout",
          "output_type": "stream",
          "text": [
            "Addition dataset size = 16900\n",
            "Multiplication dataset size = 16900\n",
            "Total train size = 16900\n",
            "Addition train size = 11830\n",
            "Addition test size = 5070\n",
            "Multiplication train size = 5070\n",
            "Multiplication test size = 5070\n",
            "Addition: 70.0% Multiplication: 30.0%\n",
            "Combined dataset = 27040\n",
            "Train size = 16900\n",
            "Test size = 10140\n",
            "train_data.shape = torch.Size([16900, 3])\n",
            "train_labels.shape = torch.Size([16900])\n",
            "test_data.shape = torch.Size([10140, 3])\n",
            "test_labels.shape = torch.Size([10140])\n",
            "train_data[:10] = tensor([[ 51,   0,  92],\n",
            "        [ 33,   0, 104],\n",
            "        [121,   1,  24],\n",
            "        [114,   0, 120],\n",
            "        [ 42,   1,  35],\n",
            "        [129,   1, 115],\n",
            "        [ 85,   1,   5],\n",
            "        [108,   1,   3],\n",
            "        [111,   1, 127],\n",
            "        [ 14,   1,  32]])\n"
          ]
        }
      ],
      "source": [
        "import pandas as pd\n",
        "from helpers import get_dataloader\n",
        "\n",
        "max_nums = 130\n",
        "mod_value = 113\n",
        "\n",
        "# The fraction of the data that should be used for training (not all of the rest will be used for testing)\n",
        "train_frac = 0.5\n",
        "\n",
        "# The fraction of the training data that should be addition (the rest will be multiplication)\n",
        "addition_frac = 0.7\n",
        "\n",
        "def create_dataset(max_nums: int, addition: bool, mod_value: int):\n",
        "    data = list()\n",
        "    for a in range(max_nums):\n",
        "        for b in range(max_nums):\n",
        "            if addition:\n",
        "                label = (a + b) % mod_value\n",
        "            else:\n",
        "                label = (a * b) % mod_value\n",
        "            data.append([[a, int(addition), b], label])\n",
        "\n",
        "    return pd.DataFrame(data, columns=[\"input\", \"label\"])\n",
        "\n",
        "addition_df = create_dataset(max_nums, True, mod_value)\n",
        "multiplication_df = create_dataset(max_nums, False, mod_value)\n",
        "\n",
        "print(f\"Addition dataset size = {len(addition_df)}\")\n",
        "print(f\"Multiplication dataset size = {len(multiplication_df)}\")\n",
        "\n",
        "total_train_size = int((len(addition_df) + len(multiplication_df)) * train_frac)\n",
        "\n",
        "print(f\"Total train size = {total_train_size}\")\n",
        "# Calculate the sizes for train datasets based on the desired proportion\n",
        "add_train_size = int(total_train_size * addition_frac)\n",
        "multi_train_size = total_train_size - add_train_size\n",
        "\n",
        "# Determine the size for test datasets (use the remaining data, but ensure equal sizes)\n",
        "test_size = min(len(addition_df) - add_train_size, len(multiplication_df) - multi_train_size)\n",
        "\n",
        "# Create train datasets\n",
        "add_train_df = addition_df.sample(n=add_train_size, random_state=DATA_SEED)\n",
        "multi_train_df = multiplication_df.sample(n=multi_train_size, random_state=DATA_SEED)\n",
        "\n",
        "# Create test datasets with equal size\n",
        "add_test_df = addition_df.drop(add_train_df.index).sample(n=test_size, random_state=DATA_SEED)\n",
        "multi_test_df = multiplication_df.drop(multi_train_df.index).sample(n=test_size, random_state=DATA_SEED)\n",
        "\n",
        "# Print sizes for verification\n",
        "print(f\"Addition train size = {len(add_train_df)}\")\n",
        "print(f\"Addition test size = {len(add_test_df)}\")\n",
        "print(f\"Multiplication train size = {len(multi_train_df)}\")\n",
        "print(f\"Multiplication test size = {len(multi_test_df)}\")\n",
        "\n",
        "print(f\"Addition: {len(add_train_df)/(len(add_train_df) + len(multi_train_df))*100:0.1f}% \\\n",
        "Multiplication: {len(multi_train_df)/(len(add_train_df) + len(multi_train_df))*100:0.1f}%\")\n",
        "\n",
        "# Combine and shuffle the datasets\n",
        "train_df = pd.concat([add_train_df, multi_train_df], ignore_index=True).sample(frac=1, random_state=DATA_SEED).reset_index(drop=True)\n",
        "test_df = pd.concat([add_test_df, multi_test_df], ignore_index=True).sample(frac=1, random_state=DATA_SEED).reset_index(drop=True)\n",
        "\n",
        "print(f\"Combined dataset = {len(train_df) + len(test_df)}\")\n",
        "\n",
        "print(f\"Train size = {len(train_df)}\")\n",
        "print(f\"Test size = {len(test_df)}\")\n",
        "\n",
        "# Create the dataloaders\n",
        "train_loader = get_dataloader(train_df, 1024, shuffle=True)\n",
        "test_loader = get_dataloader(test_df, len(test_df), shuffle=False)\n",
        "\n",
        "train_data = torch.tensor(train_df['input'].tolist())\n",
        "train_labels = torch.tensor(train_df['label'].tolist())\n",
        "\n",
        "test_data = torch.tensor(test_df['input'].tolist())\n",
        "test_labels = torch.tensor(test_df['label'].tolist())\n",
        "\n",
        "add_test_data = torch.tensor(add_test_df['input'].tolist())\n",
        "add_test_labels = torch.tensor(add_test_df['label'].tolist())\n",
        "\n",
        "multi_test_data = torch.tensor(multi_test_df['input'].tolist())\n",
        "multi_test_labels = torch.tensor(multi_test_df['label'].tolist())\n",
        "\n",
        "print(f\"train_data.shape = {train_data.shape}\")\n",
        "print(f\"train_labels.shape = {train_labels.shape}\")\n",
        "print(f\"test_data.shape = {test_data.shape}\")\n",
        "print(f\"test_labels.shape = {test_labels.shape}\")\n",
        "print(f\"train_data[:10] = {train_data[:10]}\")\n"
      ]
    },
    {
      "cell_type": "markdown",
      "metadata": {
        "id": "Mcd2dy9x2UV6"
      },
      "source": [
        "## Define Model"
      ]
    },
    {
      "cell_type": "code",
      "execution_count": 20,
      "metadata": {
        "id": "GO7-UYjQ2UV6"
      },
      "outputs": [],
      "source": [
        "\n",
        "cfg = HookedTransformerConfig(\n",
        "    n_layers = 1,\n",
        "    n_heads = 4,\n",
        "    d_model = 128,\n",
        "    d_head = 32,\n",
        "    d_mlp = 512,\n",
        "    act_fn = \"relu\",\n",
        "    normalization_type=\"LN\",\n",
        "    d_vocab=max_nums+1,\n",
        "    d_vocab_out=mod_value,\n",
        "    n_ctx= train_data.shape[1],\n",
        "    init_weights=True,\n",
        "    device=device,\n",
        "    seed = 999,\n",
        ")\n",
        "\n",
        "model = HookedTransformer(cfg)"
      ]
    },
    {
      "cell_type": "markdown",
      "metadata": {
        "id": "5qNAf_pY2UV6"
      },
      "source": [
        "Disable the biases, as we don't need them for this task and it makes things easier to interpret."
      ]
    },
    {
      "cell_type": "code",
      "execution_count": 21,
      "metadata": {
        "id": "9Y6S95XF2UV6"
      },
      "outputs": [],
      "source": [
        "for name, param in model.named_parameters():\n",
        "    if \"b_\" in name:\n",
        "        param.requires_grad = False\n"
      ]
    },
    {
      "cell_type": "markdown",
      "metadata": {
        "id": "NQtU2xX02UV6"
      },
      "source": [
        "## Define Optimizer + Loss"
      ]
    },
    {
      "cell_type": "code",
      "execution_count": 22,
      "metadata": {
        "id": "kt9M_v7a2UV6"
      },
      "outputs": [],
      "source": [
        "# Optimizer config\n",
        "lr = 1e-3\n",
        "wd = 1.\n",
        "betas = (0.90, 0.98)\n",
        "optimizer = torch.optim.AdamW(model.parameters(), lr=lr, weight_decay=wd, betas=betas)"
      ]
    },
    {
      "cell_type": "code",
      "execution_count": 23,
      "metadata": {},
      "outputs": [
        {
          "name": "stdout",
          "output_type": "stream",
          "text": [
            "train_loss = 5.046054775218921\n",
            "test_loss = 5.063647319925165\n"
          ]
        }
      ],
      "source": [
        "from helpers import loss_fn\n",
        "\n",
        "train_logits = model(train_data)\n",
        "train_loss = loss_fn(train_logits, train_labels)\n",
        "print(f\"train_loss = {train_loss}\")\n",
        "test_logits = model(test_data)\n",
        "test_loss = loss_fn(test_logits, test_labels)\n",
        "print(f\"test_loss = {test_loss}\")"
      ]
    },
    {
      "cell_type": "markdown",
      "metadata": {
        "id": "GOuSwO1U2UV7"
      },
      "source": [
        "## Actually Train"
      ]
    },
    {
      "cell_type": "code",
      "execution_count": 24,
      "metadata": {
        "colab": {
          "referenced_widgets": [
            "c477d3a6463646deb7cf1de99bb0199a"
          ]
        },
        "id": "B78ji8Si2UV7",
        "outputId": "db8171c9-35a3-497a-aa61-a9b8efeee374"
      },
      "outputs": [
        {
          "data": {
            "application/vnd.jupyter.widget-view+json": {
              "model_id": "161b39b86de74c1fbd76727a0558eb37",
              "version_major": 2,
              "version_minor": 0
            },
            "text/plain": [
              "  0%|          | 0/6000 [00:00<?, ?it/s]"
            ]
          },
          "metadata": {},
          "output_type": "display_data"
        },
        {
          "name": "stdout",
          "output_type": "stream",
          "text": [
            "Epoch 49 Train Loss 4.277777464780242 Test Loss 4.992589516243763 Add Test Loss 4.968104757012041 Multi Test Loss 5.017074275475484\n",
            "Epoch 99 Train Loss 2.3323388830118086 Test Loss 4.679703669886263 Add Test Loss 4.067289081225264 Multi Test Loss 5.292118258547264\n",
            "Epoch 149 Train Loss 0.9100322994270037 Test Loss 4.471846614150029 Add Test Loss 3.1747122831673082 Multi Test Loss 5.76898094513275\n",
            "Epoch 199 Train Loss 0.31112498532347793 Test Loss 4.528157821610401 Add Test Loss 2.8162470771030015 Multi Test Loss 6.2400685661178\n",
            "Epoch 249 Train Loss 0.1201765819296633 Test Loss 4.5924579228335425 Add Test Loss 2.5772731817408303 Multi Test Loss 6.6076426639262555\n",
            "Epoch 299 Train Loss 0.05973342000406222 Test Loss 4.6022210732388285 Add Test Loss 2.3698936703489712 Multi Test Loss 6.834548476128684\n",
            "Epoch 349 Train Loss 0.034447587102208806 Test Loss 4.585877719212495 Add Test Loss 2.1765268212547872 Multi Test Loss 6.995228617170203\n",
            "Epoch 399 Train Loss 0.020806219183235268 Test Loss 4.560161379970973 Add Test Loss 2.0011426882335903 Multi Test Loss 7.119180071708357\n",
            "Epoch 449 Train Loss 0.013183244496817691 Test Loss 4.538116233170305 Add Test Loss 1.8322646024258948 Multi Test Loss 7.2439678639147145\n",
            "Epoch 499 Train Loss 0.008456254932198239 Test Loss 4.528246544556099 Add Test Loss 1.674315827669754 Multi Test Loss 7.382177261442445\n",
            "Epoch 549 Train Loss 0.0055193709928811575 Test Loss 4.527116958711835 Add Test Loss 1.5243044982353648 Multi Test Loss 7.5299294191883055\n",
            "Epoch 599 Train Loss 0.035449705399629196 Test Loss 4.4845451204282165 Add Test Loss 1.4645239648296478 Multi Test Loss 7.504566276026788\n",
            "Epoch 649 Train Loss 0.010618024366560782 Test Loss 4.295072748966171 Add Test Loss 1.2491853192860198 Multi Test Loss 7.3409601786463226\n",
            "Epoch 699 Train Loss 0.010639458508453034 Test Loss 4.23622382469473 Add Test Loss 1.220310371381666 Multi Test Loss 7.252137278007796\n",
            "Epoch 749 Train Loss 0.008878865909425649 Test Loss 4.235790647462594 Add Test Loss 1.1628223681736443 Multi Test Loss 7.308758926751545\n",
            "Epoch 799 Train Loss 0.006501204030184737 Test Loss 4.258766587995119 Add Test Loss 1.080358274345033 Multi Test Loss 7.437174901645203\n",
            "Epoch 849 Train Loss 0.004467905956045934 Test Loss 4.284222579644075 Add Test Loss 0.9795322236023637 Multi Test Loss 7.5889129356857845\n",
            "Epoch 899 Train Loss 0.002958939695386195 Test Loss 4.303099889913826 Add Test Loss 0.8578294108918958 Multi Test Loss 7.748370368935754\n",
            "Epoch 949 Train Loss 0.22583507464341124 Test Loss 4.339282401940368 Add Test Loss 0.9377283759181011 Multi Test Loss 7.740836427962637\n",
            "Epoch 999 Train Loss 0.012251051310833748 Test Loss 3.9501879789494603 Add Test Loss 0.5553643136103958 Multi Test Loss 7.345011644288523\n",
            "Epoch 1049 Train Loss 0.01215133549967666 Test Loss 3.8134358354909907 Add Test Loss 0.5322422251076602 Multi Test Loss 7.09462944587432\n",
            "Epoch 1099 Train Loss 0.01144527271019391 Test Loss 3.7357888028983033 Add Test Loss 0.49846546692673926 Multi Test Loss 6.973112138869866\n",
            "Epoch 1149 Train Loss 0.00920091423771712 Test Loss 3.693174312546267 Add Test Loss 0.43337438873974315 Multi Test Loss 6.952974236352791\n",
            "Epoch 1199 Train Loss 0.006792967688734476 Test Loss 3.6736838306652033 Add Test Loss 0.35009568643608646 Multi Test Loss 6.9972719748943195\n",
            "Epoch 1249 Train Loss 0.3301688972726842 Test Loss 3.741666422425236 Add Test Loss 0.5440283354181177 Multi Test Loss 6.939304509432353\n",
            "Epoch 1299 Train Loss 0.020597607426641112 Test Loss 3.4781197509131756 Add Test Loss 0.21876755609497803 Multi Test Loss 6.737471945731373\n",
            "Epoch 1349 Train Loss 0.018023778791041556 Test Loss 3.36032628226119 Add Test Loss 0.1972095174651856 Multi Test Loss 6.523443047057195\n",
            "Epoch 1399 Train Loss 0.015506051405518946 Test Loss 3.277703959587825 Add Test Loss 0.16550982380082374 Multi Test Loss 6.389898095374827\n",
            "Epoch 1449 Train Loss 0.011899349923428127 Test Loss 3.235049239463929 Add Test Loss 0.12434386127263841 Multi Test Loss 6.345754617655219\n",
            "Epoch 1499 Train Loss 0.3328507239076861 Test Loss 3.405041997079959 Add Test Loss 0.33954684252309325 Multi Test Loss 6.470537151636824\n",
            "Epoch 1549 Train Loss 0.02332642324448281 Test Loss 3.1584856618480677 Add Test Loss 0.09759242448355539 Multi Test Loss 6.21937889921258\n",
            "Epoch 1599 Train Loss 0.019756349709502043 Test Loss 3.0602019568209484 Add Test Loss 0.08097867537995232 Multi Test Loss 6.039425238261945\n",
            "Epoch 1649 Train Loss 0.016348172224954674 Test Loss 3.0066786435784123 Add Test Loss 0.06264117313365539 Multi Test Loss 5.9507161140231695\n",
            "Epoch 1699 Train Loss 0.012303361832902558 Test Loss 2.992654353210845 Add Test Loss 0.044240256518013873 Multi Test Loss 5.9410684499036766\n",
            "Epoch 1749 Train Loss 0.45728393366696934 Test Loss 3.2334347691772924 Add Test Loss 0.2648692894391586 Multi Test Loss 6.202000248915425\n",
            "Epoch 1799 Train Loss 0.0239514035263307 Test Loss 2.979966719151707 Add Test Loss 0.048384363971572114 Multi Test Loss 5.911549074331842\n",
            "Epoch 1849 Train Loss 0.019743449837869496 Test Loss 2.882241931264117 Add Test Loss 0.03903994389070756 Multi Test Loss 5.725443918637526\n",
            "Epoch 1899 Train Loss 0.01637923726307415 Test Loss 2.829202612289219 Add Test Loss 0.030107880260308386 Multi Test Loss 5.6282973443181294\n",
            "Epoch 1949 Train Loss 0.01632156353599756 Test Loss 2.9081696759377342 Add Test Loss 0.024442875659187856 Multi Test Loss 5.791896476216279\n",
            "Epoch 1999 Train Loss 0.02366948649665538 Test Loss 2.8634783350312056 Add Test Loss 0.03488402908963488 Multi Test Loss 5.692072640972777\n",
            "Epoch 2049 Train Loss 0.01741910703076569 Test Loss 2.7543147762617144 Add Test Loss 0.026057410923081226 Multi Test Loss 5.482572141600346\n",
            "Epoch 2099 Train Loss 0.01500047350857413 Test Loss 2.696231849383529 Add Test Loss 0.02060402641893869 Multi Test Loss 5.37185967234812\n",
            "Epoch 2149 Train Loss 0.011232944742574967 Test Loss 2.6827729708865165 Add Test Loss 0.014799613398648041 Multi Test Loss 5.3507463283743855\n",
            "Epoch 2199 Train Loss 0.007742629373517897 Test Loss 2.7058747721937895 Add Test Loss 0.010243648686157937 Multi Test Loss 5.401505895701422\n",
            "Epoch 2249 Train Loss 0.004993945245125599 Test Loss 2.7420959966859857 Add Test Loss 0.006996157872376347 Multi Test Loss 5.477195835499595\n"
          ]
        }
      ],
      "source": [
        "num_epochs = 6000\n",
        "checkpoint_every = 50\n",
        "train_losses = []\n",
        "test_losses = []\n",
        "add_test_losses = []\n",
        "multi_test_losses = []\n",
        "model_checkpoints = []\n",
        "checkpoint_epochs = []\n",
        "if TRAIN_MODEL:\n",
        "    for epoch in tqdm.tqdm(range(num_epochs)):\n",
        "        model.train()\n",
        "        train_logits = model(train_data)\n",
        "        train_loss = loss_fn(train_logits, train_labels)\n",
        "        train_loss.backward()\n",
        "        train_losses.append(train_loss.item())\n",
        "        optimizer.step()\n",
        "        optimizer.zero_grad()\n",
        "\n",
        "        model.eval()\n",
        "        with torch.inference_mode():\n",
        "            # General test loss\n",
        "            test_logits = model(test_data)\n",
        "            test_loss = loss_fn(test_logits, test_labels)\n",
        "            test_losses.append(test_loss.item())\n",
        "\n",
        "            if (epoch+1) % 10 == 0:\n",
        "                # Addition test loss\n",
        "                add_test_logits = model(add_test_data)\n",
        "                add_test_loss = loss_fn(add_test_logits, add_test_labels)\n",
        "                add_test_losses.append(add_test_loss.item())\n",
        "\n",
        "                # Multiplication test loss\n",
        "                multi_test_logits = model(multi_test_data)\n",
        "                multi_test_loss = loss_fn(multi_test_logits, multi_test_labels)\n",
        "                multi_test_losses.append(multi_test_loss.item())\n",
        "\n",
        "        if ((epoch+1)%checkpoint_every)==0:\n",
        "            checkpoint_epochs.append(epoch)\n",
        "            model_checkpoints.append(copy.deepcopy(model.state_dict()))\n",
        "            print(f\"Epoch {epoch} Train Loss {train_loss.item()} Test Loss {test_loss.item()} Add Test Loss {add_test_loss.item()} Multi Test Loss {multi_test_loss.item()}\")"
      ]
    },
    {
      "cell_type": "code",
      "execution_count": 379,
      "metadata": {
        "id": "UrvOo2Qs2UV7"
      },
      "outputs": [
        {
          "name": "stdout",
          "output_type": "stream",
          "text": [
            "len(train_losses) = 6000 len(test_losses) = 6000 len(model_checkpoints) = 120\n"
          ]
        }
      ],
      "source": [
        "PTH_LOCATION = \"../saves/check_point_50/grokking_add_multi_0.7.pth\"\n",
        "if TRAIN_MODEL:\n",
        "    # Create the directory if it does not exist\n",
        "    os.makedirs(Path(PTH_LOCATION).parent, exist_ok=True)\n",
        "    \n",
        "    print(f\"len(train_losses) = {len(train_losses)} len(test_losses) = {len(test_losses)} len(model_checkpoints) = {len(model_checkpoints)}\")\n",
        "    torch.save(\n",
        "        {\n",
        "            \"model\":model.state_dict(),\n",
        "            \"config\": model.cfg,\n",
        "            \"checkpoints\": model_checkpoints,\n",
        "            \"checkpoint_epochs\": checkpoint_epochs,\n",
        "            \"test_losses\": test_losses,\n",
        "            \"train_losses\": train_losses,\n",
        "            \"add_test_losses\": add_test_losses,\n",
        "            \"multi_test_losses\": multi_test_losses,\n",
        "            \"max_nums\": max_nums,\n",
        "            \"mod_value\": mod_value,\n",
        "            \"train_frac\": train_frac,\n",
        "            \"addition_frac\": addition_frac,\n",
        "            \"learning_rate\": lr,\n",
        "            \"weight_decay\": wd,\n",
        "            \"betas\": betas,\n",
        "            \"train_data\": train_data,\n",
        "            \"train_labels\": train_labels,\n",
        "            \"test_data\": test_data,\n",
        "            \"test_labels\": test_labels,\n",
        "        },\n",
        "        PTH_LOCATION)"
      ]
    },
    {
      "cell_type": "code",
      "execution_count": 311,
      "metadata": {
        "id": "tx5DVueg2UV7"
      },
      "outputs": [
        {
          "name": "stdout",
          "output_type": "stream",
          "text": [
            "train_frac = 0.5 addition_frac = 0.5\n",
            "len(train_losses) = 4000 len(test_losses) = 4000 len(model_checkpoints) = 40\n"
          ]
        }
      ],
      "source": [
        "LOAD_LOCATION = \"../saves/grokking_add_multi_0.5.pth\"\n",
        "if not TRAIN_MODEL:\n",
        "    cached_data = torch.load(LOAD_LOCATION, weights_only=False)\n",
        "    model.load_state_dict(cached_data['model'])\n",
        "    model_checkpoints = cached_data[\"checkpoints\"]\n",
        "    checkpoint_epochs = cached_data[\"checkpoint_epochs\"]\n",
        "    test_losses = cached_data['test_losses']\n",
        "    train_losses = cached_data['train_losses']\n",
        "    add_test_losses = cached_data['add_test_losses']\n",
        "    multi_test_losses = cached_data['multi_test_losses']\n",
        "    max_nums = cached_data['max_nums']\n",
        "    mod_value = cached_data['mod_value']\n",
        "    train_frac = cached_data['train_frac']\n",
        "    addition_frac = cached_data['addition_frac']\n",
        "    print(f\"train_frac = {train_frac} addition_frac = {addition_frac}\")\n",
        "    print(f\"len(train_losses) = {len(train_losses)} len(test_losses) = {len(test_losses)} len(model_checkpoints) = {len(model_checkpoints)}\")"
      ]
    },
    {
      "cell_type": "code",
      "execution_count": 380,
      "metadata": {},
      "outputs": [
        {
          "name": "stdout",
          "output_type": "stream",
          "text": [
            "test_loss = 0.10750396571662794\n"
          ]
        }
      ],
      "source": [
        "test_logits = model(test_data)\n",
        "test_loss = loss_fn(test_logits, test_labels)\n",
        "print(f\"test_loss = {test_loss}\")"
      ]
    },
    {
      "cell_type": "markdown",
      "metadata": {
        "id": "rHA9-QD52UV7"
      },
      "source": [
        "## Show Model Training Statistics, Check that it groks!"
      ]
    },
    {
      "cell_type": "code",
      "execution_count": 381,
      "metadata": {
        "id": "mHu_Yz8i2UV7",
        "outputId": "ff53e647-20f1-4a7d-8dae-f680164305f0"
      },
      "outputs": [
        {
          "data": {
            "text/html": [
              "        <script type=\"text/javascript\">\n",
              "        window.PlotlyConfig = {MathJaxConfig: 'local'};\n",
              "        if (window.MathJax && window.MathJax.Hub && window.MathJax.Hub.Config) {window.MathJax.Hub.Config({SVG: {font: \"STIX-Web\"}});}\n",
              "        if (typeof require !== 'undefined') {\n",
              "        require.undef(\"plotly\");\n",
              "        requirejs.config({\n",
              "            paths: {\n",
              "                'plotly': ['https://cdn.plot.ly/plotly-2.35.0.min']\n",
              "            }\n",
              "        });\n",
              "        require(['plotly'], function(Plotly) {\n",
              "            window._Plotly = Plotly;\n",
              "        });\n",
              "        }\n",
              "        </script>\n",
              "        "
            ]
          },
          "metadata": {},
          "output_type": "display_data"
        },
        {
          "data": {
            "text/html": [
              "<div>                            <div id=\"13d0baed-b39e-4f8e-8710-53824c6fb6de\" class=\"plotly-graph-div\" style=\"height:525px; width:100%;\"></div>            <script type=\"text/javascript\">                require([\"plotly\"], function(Plotly) {                    window.PLOTLYENV=window.PLOTLYENV || {};                                    if (document.getElementById(\"13d0baed-b39e-4f8e-8710-53824c6fb6de\")) {                    Plotly.newPlot(                        \"13d0baed-b39e-4f8e-8710-53824c6fb6de\",                        [{\"hovertemplate\":\"Color=train loss\\u003cbr\\u003eEpoch=%{x}\\u003cbr\\u003eLoss=%{y}\\u003cextra\\u003e\\u003c\\u002fextra\\u003e\",\"legendgroup\":\"0\",\"line\":{\"color\":\"#636efa\",\"dash\":\"solid\"},\"marker\":{\"symbol\":\"circle\"},\"mode\":\"lines\",\"name\":\"train loss\",\"showlegend\":true,\"x\":[0,10,20,30,40,50,60,70,80,90,100,110,120,130,140,150,160,170,180,190,200,210,220,230,240,250,260,270,280,290,300,310,320,330,340,350,360,370,380,390,400,410,420,430,440,450,460,470,480,490,500,510,520,530,540,550,560,570,580,590,600,610,620,630,640,650,660,670,680,690,700,710,720,730,740,750,760,770,780,790,800,810,820,830,840,850,860,870,880,890,900,910,920,930,940,950,960,970,980,990,1000,1010,1020,1030,1040,1050,1060,1070,1080,1090,1100,1110,1120,1130,1140,1150,1160,1170,1180,1190,1200,1210,1220,1230,1240,1250,1260,1270,1280,1290,1300,1310,1320,1330,1340,1350,1360,1370,1380,1390,1400,1410,1420,1430,1440,1450,1460,1470,1480,1490,1500,1510,1520,1530,1540,1550,1560,1570,1580,1590,1600,1610,1620,1630,1640,1650,1660,1670,1680,1690,1700,1710,1720,1730,1740,1750,1760,1770,1780,1790,1800,1810,1820,1830,1840,1850,1860,1870,1880,1890,1900,1910,1920,1930,1940,1950,1960,1970,1980,1990,2000,2010,2020,2030,2040,2050,2060,2070,2080,2090,2100,2110,2120,2130,2140,2150,2160,2170,2180,2190,2200,2210,2220,2230,2240,2250,2260,2270,2280,2290,2300,2310,2320,2330,2340,2350,2360,2370,2380,2390,2400,2410,2420,2430,2440,2450,2460,2470,2480,2490,2500,2510,2520,2530,2540,2550,2560,2570,2580,2590,2600,2610,2620,2630,2640,2650,2660,2670,2680,2690,2700,2710,2720,2730,2740,2750,2760,2770,2780,2790,2800,2810,2820,2830,2840,2850,2860,2870,2880,2890,2900,2910,2920,2930,2940,2950,2960,2970,2980,2990,3000,3010,3020,3030,3040,3050,3060,3070,3080,3090,3100,3110,3120,3130,3140,3150,3160,3170,3180,3190,3200,3210,3220,3230,3240,3250,3260,3270,3280,3290,3300,3310,3320,3330,3340,3350,3360,3370,3380,3390,3400,3410,3420,3430,3440,3450,3460,3470,3480,3490,3500,3510,3520,3530,3540,3550,3560,3570,3580,3590,3600,3610,3620,3630,3640,3650,3660,3670,3680,3690,3700,3710,3720,3730,3740,3750,3760,3770,3780,3790,3800,3810,3820,3830,3840,3850,3860,3870,3880,3890,3900,3910,3920,3930,3940,3950,3960,3970,3980,3990,4000,4010,4020,4030,4040,4050,4060,4070,4080,4090,4100,4110,4120,4130,4140,4150,4160,4170,4180,4190,4200,4210,4220,4230,4240,4250,4260,4270,4280,4290,4300,4310,4320,4330,4340,4350,4360,4370,4380,4390,4400,4410,4420,4430,4440,4450,4460,4470,4480,4490,4500,4510,4520,4530,4540,4550,4560,4570,4580,4590,4600,4610,4620,4630,4640,4650,4660,4670,4680,4690,4700,4710,4720,4730,4740,4750,4760,4770,4780,4790,4800,4810,4820,4830,4840,4850,4860,4870,4880,4890,4900,4910,4920,4930,4940,4950,4960,4970,4980,4990,5000,5010,5020,5030,5040,5050,5060,5070,5080,5090,5100,5110,5120,5130,5140,5150,5160,5170,5180,5190,5200,5210,5220,5230,5240,5250,5260,5270,5280,5290,5300,5310,5320,5330,5340,5350,5360,5370,5380,5390,5400,5410,5420,5430,5440,5450,5460,5470,5480,5490,5500,5510,5520,5530,5540,5550,5560,5570,5580,5590,5600,5610,5620,5630,5640,5650,5660,5670,5680,5690,5700,5710,5720,5730,5740,5750,5760,5770,5780,5790,5800,5810,5820,5830,5840,5850,5860,5870,5880,5890,5900,5910,5920,5930,5940,5950,5960,5970,5980,5990],\"xaxis\":\"x\",\"y\":[5.046054775218921,4.7019404370880045,4.6552684547947605,4.588174925395156,4.454167088261218,4.254110955541644,3.969116548534975,3.5894553946902694,3.161890482219259,2.7061599944793704,2.2953140203126687,1.9205885492674437,1.5982190723899696,1.3243527105064135,1.0828576732328552,0.8901227552456524,0.7170344931073104,0.5901333050498393,0.4658581962476118,0.3752228264815616,0.3019730622691152,0.24658650570016208,0.2003108239713746,0.16641050259381984,0.1392886624881577,0.11807274469487626,0.10172993633222271,0.08775910669672453,0.07631683203559264,0.06714978753932198,0.05929463824401453,0.052911266702763714,0.047155354125531394,0.04227489141404246,0.03789197084628074,0.03437546064211667,0.03091135425829651,0.028529675129183973,0.025503451262131938,0.023043095822743536,0.021108342733503333,0.01949900895008651,0.017525268688774194,0.015882503372840386,0.01468942021313732,0.01326092660874614,0.012915356370753035,0.011329929049500575,0.010184238157253792,0.009623626307842822,0.008621303148435266,0.007850354453535036,0.16824072579977664,0.05639624044401129,0.026130239301510733,0.016031235829889863,0.012243394164705077,0.010889710673989484,0.010454052452269982,0.010382144713800489,0.010404711651619153,0.01040508396825703,0.010331234005029883,0.010165605893817172,0.009912099816036262,0.009580963702888877,0.009188885503844321,0.008752871788561992,0.008288012313632917,0.007810292667802862,0.0073329621871380465,0.0068566948505473175,0.006400796883722195,0.005949072645887047,0.005532416090323075,0.005135259891299891,0.004735810476919822,0.004373626499028285,0.004059251769938663,0.003781756135973999,0.0035411177503689535,0.0031878416157136327,0.0030120830336303993,0.0026957679717177644,0.0025167604180414554,0.00237145963550183,0.0020668185873944545,0.00192455721802611,0.6766049813143389,0.20088903179686218,0.05915667455872642,0.02601833670860526,0.015916269225515697,0.01224848067471815,0.010994285566825893,0.01066059069906233,0.010733681293059624,0.010931466844059098,0.011139236718737303,0.011303090604586256,0.011393479739968087,0.011398046098338754,0.011314972430297523,0.011145675295368484,0.010900204439888825,0.010584120873264383,0.01020827644402442,0.009785924963994759,0.009330030399816608,0.008852768024319254,0.008365349090673413,0.00786641536953814,0.00738568710527689,0.006890925695179021,0.00644320795845118,0.006031586969677558,0.005565873277126683,0.0151637078919228,0.2982054817908336,0.09187908600751915,0.04068071762748424,0.023884658489990235,0.017736293614249343,0.015412823694858137,0.01453687266895482,0.014239400856401454,0.014147231510555355,0.014078077960304006,0.013962505434853773,0.013771092010178166,0.013490558723119436,0.013126876664805786,0.012689676230921485,0.012193750561997702,0.011653421941255172,0.011079954030008962,0.010487837388163264,0.009882514643495165,0.009295836322264762,0.008729359676036602,0.008184410485462942,0.007608071231325616,0.007275805323559309,0.006636272141266032,2.4550099766745497,0.7564716160643081,0.23817775856737602,0.08953382787563233,0.0460826868414923,0.03101768104050983,0.025044041770328564,0.022400472080976983,0.021175605541372863,0.020510113407228,0.020037730241513733,0.019599377719658913,0.019116444783071247,0.01856877498609368,0.017955721985232605,0.017283529784929568,0.016559489190841013,0.015800791577589627,0.015027667888712168,0.014231459844648376,0.013518442954850551,0.012671206008916715,0.012425324983759365,0.011203625244250148,0.010519715103249777,1.2795622814834453,0.36172646142016585,0.12663936092652933,0.05757327624850436,0.03441825550786811,0.025839258311641848,0.022327421824291715,0.020780340536758327,0.020035398490959602,0.019569893439032565,0.01917763869558795,0.0187507996329739,0.018248492362997828,0.01766346261879949,0.017003472530189925,0.01630226600496468,0.015520589036604616,0.014700985602510649,0.013931931895732646,0.013128641582736758,0.012578623846026829,0.011940326729474874,0.8545581750493201,0.20895737889817695,0.07599979938140906,0.03687335459241699,0.023847560214706662,0.018934507604231265,0.016890685595089067,0.01606732815585613,0.015690866386371963,0.015440344943595452,0.015179878112108296,0.014850292016018844,0.014434739520466044,0.013935067524146577,0.013363131690042157,0.012735409670251024,0.012070546427815493,0.01137047931194152,0.010700186236748632,0.00999808498054141,0.009303913113385897,0.008713649939799962,0.008090090438981304,0.007502844098303965,0.006966731181819827,0.006322056310808133,0.0062231500991467735,0.0066053161325247646,0.005038587446389073,0.0044187230363465935,0.003955593334388884,0.003911245528116746,0.0034299036589624677,0.020207638421208342,0.5810495857647768,0.16965253275018252,0.06173764132797499,0.03173248550355716,0.021482904704033145,0.017444591870530643,0.015869587134795107,0.015248223516348554,0.014990433117829206,0.014833099301166925,0.01466411281630854,0.014432694351037665,0.01412682256888984,0.013747209994920613,0.013302667058449397,0.012805618063347216,0.01226721715664604,0.011702067952821997,0.011105096962853915,0.010499002861891584,0.009886291628517598,0.009288453378666512,0.008688111749863281,0.008098641651654876,0.007535131133002015,0.007011156389728457,0.006513791303008594,0.006045197776982131,0.00557888587777918,0.005127966050377881,0.004632621690983048,0.004886646805835403,0.004017690314179483,0.003580043372016323,0.0032342054203175563,0.01045435931449354,0.7533287895646106,0.23920453750858628,0.08624994409276045,0.042071003997440175,0.027187180082664967,0.021561214002809668,0.019338276258533682,0.018476209050775433,0.01813707160916237,0.01796457913471832,0.01780557199322328,0.017589142976309778,0.017302179607540866,0.0169350297239323,0.01648785903335432,0.01596693921067429,0.015386474069995066,0.014754388412725436,0.01408033827111713,0.013378369546484923,0.012659864636546619,0.011937423749265683,0.011211120516808048,0.010498123622022938,0.009803696023346216,0.009121999042241978,0.008516452113128741,0.007857237445742292,0.007405528851170929,1.3161514965017145,0.2442303801009857,0.07921739301471252,0.037069533773572014,0.022872752211850842,0.01761800434037956,0.01560898368440938,0.014840417634680218,0.014568640228012627,0.014448565868592679,0.01432949027074495,0.014142844890872586,0.013866839498461462,0.013500770906251866,0.013053650550134594,0.012538160481697628,0.011971199982493352,0.011367670494219287,0.01073606484868953,0.010096870930966154,0.009461884155853733,0.008831674585273704,0.008223469972653554,0.007641037125024241,0.007065766979792031,0.0065339002527575185,0.006049861676639744,0.0055751136833250454,0.005125445787791237,0.00473004189600171,0.0043553585121298005,0.004089694141136437,0.0036928807851249164,0.0033983688612397108,0.003124420675366462,0.0028579472014470314,0.002648711259037399,0.0024452539424599596,0.0022099765365474083,0.0020542077224627708,0.006153919542427634,0.5439571475757758,0.15746988792703068,0.0619434948934251,0.032692133051387,0.022324577172869613,0.018283430729795446,0.01663825357757559,0.01595171150494602,0.015633736364618754,0.015426579022037043,0.015225050038286224,0.014977538718151643,0.014673340365049097,0.01430607642765502,0.013881982605224961,0.013405947474522272,0.01288894601708415,0.012342389486032012,0.011773014413236376,0.01118700972507827,0.01059323917958082,0.010001740891787498,0.009414591566434208,0.008841132738626408,0.008283690904843212,0.007749570296875216,0.007231555271214067,0.006709416966673752,0.0062450933052481256,0.005793244170981782,0.005336157115824501,0.004974102851121881,0.004545067851636319,0.0042218026620747615,0.0038861351454143643,0.0035867986958189346,0.0032917913027242485,0.0030310613855862277,0.002790697419912646,0.002638321176358565,0.0024032117594323514,0.0022373876114385924,0.0020008594049775214,0.0018164341978130507,0.0016782115305068194,0.0015829269361384642,0.0014483151697204163,0.0013441362714554904,0.0012268593926530165,0.0012566669234397535,0.5308310792830625,0.1496542907667716,0.04905996074834556,0.024248826230037573,0.015878836555014063,0.012680029989890458,0.011469605548463964,0.011062963963614387,0.010946054235207317,0.010902633195513715,0.010848980066247372,0.01075216921789135,0.010602625492679185,0.010399951790874684,0.010151184198887988,0.009858553576699906,0.00952753729754982,0.009164356370651064,0.008775401485154596,0.008368609300383707,0.007949545062394349,0.007524907446423368,0.007099078439192985,0.006677210370444645,0.006263847674934944,0.005862391580834216,0.00547414225673292,0.0051003833299913095,0.00474345248887432,0.00440464538649342,0.004082825792855677,0.0037824915941587203,0.003497683463138545,0.003232059834817547,0.0029894111383189834,0.002750908448207795,0.002535003267186977,0.00233857846603272,0.0021562730693959566,0.0019836199712591315,0.0018238234484753899,0.0016791712211175638,0.0015441237440903383,0.0014265774078613166,0.0013168313068479174,0.001212305840873194,0.0011160026222240492,0.0010277356508611487,0.0009390583062490072,0.0008695634578068195,0.0007926464005076102,0.0007334609141423919,0.0006766611758311137,1.3826223115108425,0.17251267727315636,0.05572326464802957,0.02286640436927014,0.013309468973929523,0.010036913056686692,0.00876092932473354,0.008348058441068342,0.008275317895268714,0.008315978668490012,0.008368427440134569,0.008393780579514638,0.008378575189738844,0.008322749447939598,0.008229561243023011,0.008100457848418126,0.007938349863624076,0.007746453303222786,0.0075234627128409415,0.00727120620586206,0.006994860113029593,0.006697497480927538,0.00638400727879861,0.0060593876408816996,0.005730054239843146,0.005400366009656262,0.005073185044583337,0.004752004461574183,0.004438958651470271,0.004137573682274839,0.0038475482563911194,0.003572929389744383,0.0033109168343625726,0.0030670758553221944,0.0028345208106780395,0.002621971651829601,0.0024186607813183048,0.002233825287417533,0.002065071961221155,0.0019020879437973448,0.0017510657435025557,0.0016179437761385787,0.0014969044000599813,0.0013780079161566294,0.0012669525715717689,0.001163445639228287,0.0010749154428784078,0.0009960244905086826,0.0009197219482652876,0.0008483952700546409,0.0007790403486731071,0.0007170482298541155,0.0006567619789374216,0.000606883585382115,0.0005655390859214951,0.0005187660708730294,0.00047639125447017036,0.00043725154420294854,0.00041905794286586445,0.3967755417106615,0.07845860820626273,0.030092075718014425,0.014092094563149672,0.009362049351378165,0.007481563002313401,0.00680280876561258,0.006601144989936901,0.006586614468867531,0.006621182492103679,0.0066427363873698755,0.006634437358212029,0.006593236084408943,0.006523045800765986,0.006424529188313305,0.006299322874589069,0.006150733642141575,0.0059809975764690574,0.005791434876298449,0.005583425922787807,0.005360535914484356,0.005125838978852428,0.00488189348000822,0.004632887349196888,0.004382433281346649,0.004132993299852333,0.0038860700425617815,0.003643629600453369,0.003407582769169664,0.003179677050078846,0.002961274855917387,0.0027528260315835837,0.0025554790420463684,0.002369552744732617,0.002194067590791232,0.0020296165693746444,0.0018756023828468606,0.0017320926195258518,0.001598080883728662,0.0014749467689859502,0.001359437397225445,0.0012532305825772555,0.0011557562998470198,0.0010650700518231135,0.0009813155165358208,0.0009048771271132468,0.0008328758866805265,0.0007683469618813697,0.0007069833488087829,0.0006525368482470891,0.0006000108976470786,0.0005536648958048703,0.0005105694042955084,0.00046947065732482883,0.000433092077931648,0.00039983335008402063,0.00036721353048270374,0.0003393964424286699,0.00031313802363621985,0.0002882591487321063,0.0002662224187013415,0.0002444841399679522,0.00022521343310526762,0.00021029954314780183,0.00019157299557061397,0.00017622430893453106,0.00016438820466009547,0.0001503410672218307,0.0001398594262474677,0.8942497101456078,0.13262041167235528,0.03783485243989658,0.015406585097945714,0.00918099204056658,0.006832091655922659,0.005992251860755938,0.005739336872936181,0.005713056538995958,0.005760515838116782,0.0058122822984247825,0.0058418217304118504,0.005844360299565848,0.005820576861249993,0.005775025609061166,0.005708867822774178,0.005625136118161134,0.005526561388007598,0.005411851877719294,0.0052800203122405345,0.00513208558421021,0.004968911726538025,0.004790978448810164,0.004601432438167278,0.004402606911551173,0.004196150647488909,0.003984747068781828,0.0037710089282472496,0.0035576598453976867,0.0033462832914299577,0.0031390171459804673,0.0029376640864180624,0.002743037638374751,0.002556502552669257,0.0023785059388905837,0.0022091008174616755,0.002049280622514302,0.001898948238203253],\"yaxis\":\"y\",\"type\":\"scattergl\"},{\"hovertemplate\":\"Color=test loss\\u003cbr\\u003eEpoch=%{x}\\u003cbr\\u003eLoss=%{y}\\u003cextra\\u003e\\u003c\\u002fextra\\u003e\",\"legendgroup\":\"1\",\"line\":{\"color\":\"#EF553B\",\"dash\":\"solid\"},\"marker\":{\"symbol\":\"circle\"},\"mode\":\"lines\",\"name\":\"test loss\",\"showlegend\":true,\"x\":[0,10,20,30,40,50,60,70,80,90,100,110,120,130,140,150,160,170,180,190,200,210,220,230,240,250,260,270,280,290,300,310,320,330,340,350,360,370,380,390,400,410,420,430,440,450,460,470,480,490,500,510,520,530,540,550,560,570,580,590,600,610,620,630,640,650,660,670,680,690,700,710,720,730,740,750,760,770,780,790,800,810,820,830,840,850,860,870,880,890,900,910,920,930,940,950,960,970,980,990,1000,1010,1020,1030,1040,1050,1060,1070,1080,1090,1100,1110,1120,1130,1140,1150,1160,1170,1180,1190,1200,1210,1220,1230,1240,1250,1260,1270,1280,1290,1300,1310,1320,1330,1340,1350,1360,1370,1380,1390,1400,1410,1420,1430,1440,1450,1460,1470,1480,1490,1500,1510,1520,1530,1540,1550,1560,1570,1580,1590,1600,1610,1620,1630,1640,1650,1660,1670,1680,1690,1700,1710,1720,1730,1740,1750,1760,1770,1780,1790,1800,1810,1820,1830,1840,1850,1860,1870,1880,1890,1900,1910,1920,1930,1940,1950,1960,1970,1980,1990,2000,2010,2020,2030,2040,2050,2060,2070,2080,2090,2100,2110,2120,2130,2140,2150,2160,2170,2180,2190,2200,2210,2220,2230,2240,2250,2260,2270,2280,2290,2300,2310,2320,2330,2340,2350,2360,2370,2380,2390,2400,2410,2420,2430,2440,2450,2460,2470,2480,2490,2500,2510,2520,2530,2540,2550,2560,2570,2580,2590,2600,2610,2620,2630,2640,2650,2660,2670,2680,2690,2700,2710,2720,2730,2740,2750,2760,2770,2780,2790,2800,2810,2820,2830,2840,2850,2860,2870,2880,2890,2900,2910,2920,2930,2940,2950,2960,2970,2980,2990,3000,3010,3020,3030,3040,3050,3060,3070,3080,3090,3100,3110,3120,3130,3140,3150,3160,3170,3180,3190,3200,3210,3220,3230,3240,3250,3260,3270,3280,3290,3300,3310,3320,3330,3340,3350,3360,3370,3380,3390,3400,3410,3420,3430,3440,3450,3460,3470,3480,3490,3500,3510,3520,3530,3540,3550,3560,3570,3580,3590,3600,3610,3620,3630,3640,3650,3660,3670,3680,3690,3700,3710,3720,3730,3740,3750,3760,3770,3780,3790,3800,3810,3820,3830,3840,3850,3860,3870,3880,3890,3900,3910,3920,3930,3940,3950,3960,3970,3980,3990,4000,4010,4020,4030,4040,4050,4060,4070,4080,4090,4100,4110,4120,4130,4140,4150,4160,4170,4180,4190,4200,4210,4220,4230,4240,4250,4260,4270,4280,4290,4300,4310,4320,4330,4340,4350,4360,4370,4380,4390,4400,4410,4420,4430,4440,4450,4460,4470,4480,4490,4500,4510,4520,4530,4540,4550,4560,4570,4580,4590,4600,4610,4620,4630,4640,4650,4660,4670,4680,4690,4700,4710,4720,4730,4740,4750,4760,4770,4780,4790,4800,4810,4820,4830,4840,4850,4860,4870,4880,4890,4900,4910,4920,4930,4940,4950,4960,4970,4980,4990,5000,5010,5020,5030,5040,5050,5060,5070,5080,5090,5100,5110,5120,5130,5140,5150,5160,5170,5180,5190,5200,5210,5220,5230,5240,5250,5260,5270,5280,5290,5300,5310,5320,5330,5340,5350,5360,5370,5380,5390,5400,5410,5420,5430,5440,5450,5460,5470,5480,5490,5500,5510,5520,5530,5540,5550,5560,5570,5580,5590,5600,5610,5620,5630,5640,5650,5660,5670,5680,5690,5700,5710,5720,5730,5740,5750,5760,5770,5780,5790,5800,5810,5820,5830,5840,5850,5860,5870,5880,5890,5900,5910,5920,5930,5940,5950,5960,5970,5980,5990],\"xaxis\":\"x\",\"y\":[4.903952652269075,4.729073508423654,4.718742196990067,4.818349834936517,4.937450486727374,4.996078169717538,5.023063686837232,5.0029461999125,4.912304485732827,4.780874393435261,4.662716747457967,4.585472370935601,4.530887744475353,4.495650107526427,4.478150345789282,4.472402627027384,4.477686054644472,4.496611955421312,4.50688603499711,4.526130799842788,4.548380535123333,4.565999720001263,4.579264425134338,4.591086893855826,4.600905928195123,4.608878991261556,4.61672055343394,4.6194699788547915,4.621640141821924,4.62335412202541,4.620716778714791,4.6199995956283235,4.616652137757578,4.615532927823051,4.6112772337235155,4.611369533903221,4.6054016347255615,4.599877288629438,4.592459613874721,4.589136683699152,4.583903326167539,4.5859189055824405,4.577865215070221,4.574271155057672,4.569853604623307,4.570295195943286,4.5747676271120215,4.567436814973952,4.5680591655409595,4.567387277436013,4.56807287186156,4.566775863500776,5.0799770332495635,4.6763573768747,4.556215722455024,4.532639493797652,4.509709349402734,4.487806479854969,4.468216828668694,4.457445574595554,4.4472188832792785,4.441272680427367,4.438581355436464,4.43843098112437,4.4406722250802,4.4446377309012055,4.451185553780812,4.458961717475114,4.4682876067395405,4.478277444308802,4.489090672837683,4.499635499274161,4.509950900991147,4.5201024446400195,4.5307973022761825,4.53967881510115,4.548336393088547,4.557784275635448,4.565069817901417,4.574408861253101,4.58026708773218,4.585123278305935,4.589582035634448,4.593194937063565,4.602133214229488,4.598796160856359,4.6016282353287705,4.6023147342700925,5.6826533207567405,4.594493952025166,4.457413542151808,4.370783641415786,4.304261795904042,4.24540568837774,4.201605287480265,4.167013640271792,4.131611321805071,4.100699580938659,4.072344301125085,4.046924828401391,4.023572280805276,4.0021116497396765,3.982917347593217,3.9667836314184566,3.9518000088867815,3.938722615499068,3.9266770791785373,3.9173639929345354,3.908349960838553,3.9005383616702467,3.8928903731621625,3.8872221184580034,3.8837286293596773,3.8779199687980284,3.8709662335548507,3.871277390852669,3.864137554834951,4.6104589260433455,4.045290075509719,3.8450873830172543,3.751538046660123,3.7175838591081702,3.6817822431077913,3.644788342401576,3.6184252125491665,3.595194745622528,3.5728406479401076,3.5508054300737304,3.531314393648624,3.513545035234334,3.4973524318662585,3.482941083266698,3.470356821980649,3.4595139596723987,3.4503813100327427,3.442464790308818,3.436352988717476,3.430090674423651,3.425870474387085,3.4225558819680972,3.4207937148244443,3.4134863488889957,3.4213259814236214,3.4185002111368834,5.098749705017594,3.5074823764587375,3.4930911650723218,3.3867402426881217,3.3394848342827683,3.3059361571581722,3.2860810242294356,3.259618668997927,3.2348138728477074,3.2112811591111567,3.190172073378876,3.1705399353015085,3.1526360123276125,3.136175852305072,3.121183346149719,3.1077197827455785,3.0964627710995862,3.08687859280368,3.0777764697278163,3.072073964131587,3.068870848245413,3.0629638519522606,3.0598049102526157,3.064809349067792,3.061168775413145,4.010821634146622,3.2833803410018483,3.133763836721323,3.1023013913902915,3.066602920101839,3.0320051608134126,3.006309403894751,2.9836693029341963,2.962279883325677,2.942170884598279,2.925051320874074,2.909338753157937,2.895948463868922,2.8846359918502067,2.8744378725093362,2.8678203148910546,2.862212160194807,2.8578283280720935,2.855790494038109,2.8545494336792308,2.857278443622996,2.8679302659699486,3.4300936538322615,3.059766384387615,2.9878843248298197,2.9580993131541455,2.930095036528372,2.906965281156644,2.8861676465938912,2.8645917778889887,2.843961944521981,2.825554461215014,2.809013381776259,2.794376134192049,2.781948504256027,2.7720631868469017,2.7640300617988145,2.7582509483354167,2.7535660496013583,2.75120228387455,2.7502643399846756,2.7505831686283475,2.7517641736462797,2.754947281702899,2.7579929183679948,2.7631727586274546,2.7661671519056736,2.7755855921318453,2.785640867133321,2.805225783998293,2.8070683339929903,2.8129163020485075,2.8199755544796665,2.8274405041606703,2.833441014567495,4.259888983983402,3.116966988234145,2.9912431513997086,2.913013813892508,2.883396741301124,2.859391905558691,2.824682177658557,2.7982961352930817,2.7732097759887555,2.7477090777505024,2.7254019040522492,2.704317019105638,2.684844781805508,2.6666860595530397,2.650553303352943,2.6355122380803393,2.6223383310790473,2.610785330144766,2.6017536768552936,2.593696659331393,2.586970502599671,2.5807904909247537,2.5791776355870497,2.5745714544467178,2.5726294597477426,2.5760986386255653,2.571380960802504,2.5784885925719196,2.5747026417701075,2.581784142065003,2.588334834303413,2.5890721669529504,2.614111381291038,2.5954134280053816,2.601830931273755,2.6059691988060494,3.845253984881239,3.036964850191452,2.777784324703904,2.60791062191839,2.5575582195537225,2.524160748743054,2.492980876172165,2.4689035426193184,2.4438204250781905,2.4187379167841985,2.3974086648053827,2.3757807515669493,2.3559107637581347,2.3378154199702905,2.3210347871557526,2.3055042659815075,2.291185236103407,2.2778724326075213,2.266259619297717,2.2553884796801995,2.245476576687269,2.2373503795588006,2.229641836859519,2.2226450063536443,2.217488286729904,2.2108232192479496,2.2050191270924975,2.203198289693891,2.199548892808088,2.2020305299755014,3.3598794270967796,2.457808074380104,2.2556778029099,2.169785454456361,2.1219637097582194,2.088882043955293,2.062509784066099,2.0451984638041143,2.0303023415707506,2.0141262359394663,1.9991858089803807,1.9854878795147268,1.9726717823501405,1.960861688864074,1.9494306320672254,1.9392251034613306,1.9290731046087313,1.9203189090810397,1.9119998075766191,1.903757274506944,1.896320376088354,1.8893748097666978,1.8833830795917599,1.8769525595994034,1.8711987686127383,1.8673588174451898,1.8618003361783895,1.8595864710581456,1.8553138742158641,1.8517434735732015,1.8485548669515064,1.850697193988688,1.8446918633579679,1.8475450927525305,1.84304756895663,1.8426574185290319,1.8387056096725776,1.8413223528576026,1.8398904818038941,1.8386852660878905,3.1828367681120504,2.290550828526645,1.906201996579324,1.7033334905990287,1.6443367136607883,1.5940345833061011,1.573107191620867,1.5605030632716108,1.545883392842039,1.5371778559472318,1.5291433355353272,1.5206789522749722,1.5115178714818573,1.5026414152904999,1.4933854115099425,1.4840090911950679,1.4743390051299423,1.4639488177765743,1.4538886579623713,1.4440679352239367,1.4332977800467828,1.422307552877197,1.4115689054672629,1.4011674300787378,1.390408054284667,1.3799328385724292,1.3695682515189085,1.3596920199910099,1.3511137117854883,1.3419677541544854,1.3323609621858628,1.3262922083262618,1.3184376515495433,1.311747457403442,1.3023178245050313,1.2978165081099209,1.2930509157366668,1.2884882563027218,1.281147829173375,1.2771267680385487,1.2787046298426235,1.267687279106654,1.2642867535585764,1.2628131950851806,1.2592249121280608,1.256792520573505,1.2561095564402947,1.2552451456745948,1.2549123020223691,1.2492430418145173,1.2887991714196338,2.0039206019951297,1.4605658168993978,1.1850414232633293,1.0831071586566632,1.0308114096877892,0.9965140744543562,0.9784907829471851,0.970764444773695,0.9663803061276829,0.9615715912058346,0.9568896970498851,0.9518910586316396,0.9464536451054494,0.9410076488189643,0.9347613233564986,0.9279847166280168,0.9206783695660561,0.9133934129512379,0.9057143628081021,0.8983727592711507,0.8905981965311524,0.8825851555247345,0.8745789463516893,0.8665562218372294,0.8582542751878368,0.8501538818347322,0.841596816652669,0.8329219485901658,0.824563261625389,0.8165147611682104,0.8086311503222904,0.8007629186004885,0.793657613441297,0.7872909421777439,0.7800385787432216,0.7743672897547108,0.769159316661187,0.7630958703085134,0.7599246578648374,0.753736189894917,0.7498734657911728,0.7447591748025103,0.7435705272680281,0.7380990557062367,0.7381475662252033,0.7323581545816532,0.7335824412492319,0.7293290734950892,0.7299364073531556,0.72694246831168,0.7265289282428667,0.7281934794565684,0.7293953656182589,3.4984882940363384,1.157653657307879,0.855523241251309,0.7043232098314822,0.6260246479025738,0.5910175210574553,0.5726218955867033,0.5676716202140145,0.5629779393353024,0.5600794439358334,0.5594251334823297,0.5580680538172588,0.5557543000304954,0.5533446510679363,0.5504394597248938,0.5471402214519901,0.5438005555486853,0.5397459407530752,0.5353525054661171,0.5304052594755884,0.525324278736862,0.5201578586018505,0.5144289973355813,0.508481862693526,0.5025886748166221,0.49677887909428453,0.4908605756020455,0.48520287717058874,0.4791847400347547,0.47327880288560886,0.4677676568857572,0.46289528873008806,0.457672180439228,0.4526526389485821,0.44828884241360617,0.444483845318496,0.44030791507364525,0.43650983768564156,0.4337132143179935,0.43049680958692377,0.42791210896919263,0.42664404314292914,0.4240844950663738,0.4227391116370962,0.42101160930260323,0.4201134295172057,0.4206887229786232,0.41982187923227376,0.42060323287753626,0.42040335257085604,0.42085271247233924,0.42254750759606813,0.42338531090486414,0.4251002412032977,0.4290063235925166,0.4300964808967346,0.4328264742303048,0.43553463818658916,0.44581642643462616,1.3339380835157528,0.7734016854000333,0.5252106682105611,0.42730702935314985,0.3772378326605934,0.35226625303914305,0.3418876578581557,0.3372566560498083,0.3344891013755696,0.3322190730573886,0.33044387284402554,0.32837005998476415,0.3257722152028711,0.3228635813227892,0.31982341452197954,0.3166902783226386,0.31343613408098625,0.30973764655184133,0.3056212612590338,0.30115126771910655,0.2963882970117912,0.29178021339266663,0.28678422319142843,0.2816650004586923,0.276204842127582,0.2710220661520653,0.26573623763564413,0.2603813527999788,0.25534196745839977,0.2501044519104878,0.24497214069141646,0.24003888847704544,0.23547617951727187,0.23105768051298495,0.22684398060388528,0.22269299083172667,0.21873291572888753,0.21537122674316764,0.21243920716496023,0.2099003825579772,0.20731071326094633,0.2048662848750975,0.20248066548838745,0.20030938431113804,0.19886772266873962,0.19760688292650702,0.19609701477557498,0.1944934722496622,0.19402017431236815,0.1940274846158242,0.19331112094708697,0.19232343245548772,0.193313643629641,0.19328902601389847,0.19268378773850317,0.19421257321378205,0.19512494030669197,0.19477068346108137,0.1975499414306212,0.19743442551007107,0.2014641394007177,0.20133915564553562,0.2026390292522544,0.20647286314280977,0.20746377882209277,0.20884135200347675,0.21075198122988137,0.21621665982807858,0.21758017915577826,2.6620118545679134,0.7646335631472033,0.449280894212275,0.3181736835459506,0.2489111312535348,0.22044712114950143,0.20916856979126963,0.20279321209236428,0.19938066286215586,0.19700338625907665,0.19504517851951583,0.19300499485462103,0.19109439696559288,0.18885323944236534,0.18661672730011833,0.18442433325555707,0.1822125750644734,0.17964557692997488,0.17692098650030924,0.17394254181707736,0.1706287263920208,0.16705946606490002,0.16343604407447312,0.15993919567176082,0.15625354830207272,0.15243516684079353,0.14851419244582997,0.1446795393054001,0.14093508646033848,0.13712132384813044,0.13322053294720418,0.1295389152589484,0.1260676232438601,0.1226372975878974,0.11927358555833333,0.11605241271096155,0.11303110965074305,0.11005589851549762],\"yaxis\":\"y\",\"type\":\"scattergl\"},{\"hovertemplate\":\"Color=add loss\\u003cbr\\u003eEpoch=%{x}\\u003cbr\\u003eLoss=%{y}\\u003cextra\\u003e\\u003c\\u002fextra\\u003e\",\"legendgroup\":\"2\",\"line\":{\"color\":\"#00cc96\",\"dash\":\"solid\"},\"marker\":{\"symbol\":\"circle\"},\"mode\":\"lines\",\"name\":\"add loss\",\"showlegend\":true,\"x\":[0,10,20,30,40,50,60,70,80,90,100,110,120,130,140,150,160,170,180,190,200,210,220,230,240,250,260,270,280,290,300,310,320,330,340,350,360,370,380,390,400,410,420,430,440,450,460,470,480,490,500,510,520,530,540,550,560,570,580,590,600,610,620,630,640,650,660,670,680,690,700,710,720,730,740,750,760,770,780,790,800,810,820,830,840,850,860,870,880,890,900,910,920,930,940,950,960,970,980,990,1000,1010,1020,1030,1040,1050,1060,1070,1080,1090,1100,1110,1120,1130,1140,1150,1160,1170,1180,1190,1200,1210,1220,1230,1240,1250,1260,1270,1280,1290,1300,1310,1320,1330,1340,1350,1360,1370,1380,1390,1400,1410,1420,1430,1440,1450,1460,1470,1480,1490,1500,1510,1520,1530,1540,1550,1560,1570,1580,1590,1600,1610,1620,1630,1640,1650,1660,1670,1680,1690,1700,1710,1720,1730,1740,1750,1760,1770,1780,1790,1800,1810,1820,1830,1840,1850,1860,1870,1880,1890,1900,1910,1920,1930,1940,1950,1960,1970,1980,1990,2000,2010,2020,2030,2040,2050,2060,2070,2080,2090,2100,2110,2120,2130,2140,2150,2160,2170,2180,2190,2200,2210,2220,2230,2240,2250,2260,2270,2280,2290,2300,2310,2320,2330,2340,2350,2360,2370,2380,2390,2400,2410,2420,2430,2440,2450,2460,2470,2480,2490,2500,2510,2520,2530,2540,2550,2560,2570,2580,2590,2600,2610,2620,2630,2640,2650,2660,2670,2680,2690,2700,2710,2720,2730,2740,2750,2760,2770,2780,2790,2800,2810,2820,2830,2840,2850,2860,2870,2880,2890,2900,2910,2920,2930,2940,2950,2960,2970,2980,2990,3000,3010,3020,3030,3040,3050,3060,3070,3080,3090,3100,3110,3120,3130,3140,3150,3160,3170,3180,3190,3200,3210,3220,3230,3240,3250,3260,3270,3280,3290,3300,3310,3320,3330,3340,3350,3360,3370,3380,3390,3400,3410,3420,3430,3440,3450,3460,3470,3480,3490,3500,3510,3520,3530,3540,3550,3560,3570,3580,3590,3600,3610,3620,3630,3640,3650,3660,3670,3680,3690,3700,3710,3720,3730,3740,3750,3760,3770,3780,3790,3800,3810,3820,3830,3840,3850,3860,3870,3880,3890,3900,3910,3920,3930,3940,3950,3960,3970,3980,3990,4000,4010,4020,4030,4040,4050,4060,4070,4080,4090,4100,4110,4120,4130,4140,4150,4160,4170,4180,4190,4200,4210,4220,4230,4240,4250,4260,4270,4280,4290,4300,4310,4320,4330,4340,4350,4360,4370,4380,4390,4400,4410,4420,4430,4440,4450,4460,4470,4480,4490,4500,4510,4520,4530,4540,4550,4560,4570,4580,4590,4600,4610,4620,4630,4640,4650,4660,4670,4680,4690,4700,4710,4720,4730,4740,4750,4760,4770,4780,4790,4800,4810,4820,4830,4840,4850,4860,4870,4880,4890,4900,4910,4920,4930,4940,4950,4960,4970,4980,4990,5000,5010,5020,5030,5040,5050,5060,5070,5080,5090,5100,5110,5120,5130,5140,5150,5160,5170,5180,5190,5200,5210,5220,5230,5240,5250,5260,5270,5280,5290,5300,5310,5320,5330,5340,5350,5360,5370,5380,5390,5400,5410,5420,5430,5440,5450,5460,5470,5480,5490,5500,5510,5520,5530,5540,5550,5560,5570,5580,5590,5600,5610,5620,5630,5640,5650,5660,5670,5680,5690,5700,5710,5720,5730,5740,5750,5760,5770,5780,5790,5800,5810,5820,5830,5840,5850,5860,5870,5880,5890,5900,5910,5920,5930,5940,5950,5960,5970,5980,5990],\"xaxis\":\"x\",\"y\":[4.753765920210103,4.770115045377955,4.818737283728338,4.891413455383571,4.9682445647463815,5.001663606381775,4.957420738420892,4.7512457055795645,4.411433750293628,4.068078049044946,3.797964263736239,3.5831758870057038,3.4183349974074018,3.2846174532036394,3.1763986205253625,3.089209526646344,3.0172084660692997,2.946168515435833,2.8837462907677702,2.8307441717958595,2.781637969143404,2.730455083696068,2.6823344946219416,2.6363603787808705,2.5946068703188065,2.552484293640435,2.511191638064324,2.4696042552181923,2.4333327017325974,2.3935479371253554,2.3546018262882518,2.314180913825142,2.27859955411601,2.240368553045044,2.2043961331162514,2.1645723363423666,2.1310013649562674,2.093647842411722,2.0569701729310546,2.0299873583148047,1.9936072803797629,1.9594147153559316,1.9275822036210966,1.8931894498128286,1.859832884367279,1.8397797568259748,1.8035308453399728,1.770960527225693,1.745497324154873,1.7129080893288553,1.6825704577080005,2.152974138352647,1.879437101808239,1.6592924198124352,1.6216251158951882,1.5834295888893557,1.5557416598264435,1.5381119474453275,1.5340517452961149,1.5291360646056962,1.5228183903008738,1.5180349368609007,1.5117241101428978,1.5044451362523916,1.4951657981500712,1.4859750160389988,1.475207080787628,1.4640516321074888,1.452369456237128,1.4401304964486656,1.4266769974453286,1.4127187957078682,1.3971833168005976,1.379920420461021,1.3639014623395094,1.3438960271910934,1.3243870042141181,1.305135582426538,1.2814451910234188,1.2636078888687219,1.2342223403386303,1.215613721067518,1.1857269882308956,1.1572313132545362,1.136443652644547,1.1006906524957842,1.0748883506057632,2.1968079265821783,1.3248767150036196,1.045883605829252,0.951599260823598,0.8721870701493014,0.8306784240299985,0.8097114775834553,0.799453700259426,0.7900672415599279,0.7852400230776874,0.7822620346389402,0.7784725435541295,0.7728007375284077,0.7656104061793622,0.7570351371342071,0.7473080689930481,0.735446574617282,0.7221695283527085,0.7075123521006504,0.6916588945932414,0.6739472836609774,0.6545786970895372,0.6347881772913622,0.6146055611205689,0.5944247205340727,0.5732501714253166,0.551486862477078,0.530513807036568,0.5070374069256565,0.5173141414800626,0.8832682089068237,0.6128367498578315,0.4787630194651642,0.42512987522804724,0.39242878735315284,0.3666860560241579,0.3550920800069495,0.34905522982347004,0.34372227912473025,0.338783112240888,0.33295435039481414,0.32560941293130424,0.31762770154429815,0.3083251751688092,0.2975354806852752,0.28617172753295395,0.2744714717077298,0.2623328329490901,0.2500061280867246,0.23694377629857433,0.22423167676620845,0.21188118007983037,0.19941637287027827,0.18614101064734634,0.1770532046207752,0.16289026710499946,2.254252906764543,0.5904733060299954,0.3680519705839372,0.24334653505289577,0.18453139126727292,0.1513295274200087,0.13473220415936904,0.12560434364790518,0.12011691369046681,0.11566235471099927,0.11183675957297842,0.10822092220624333,0.10416542195096476,0.09980230095503323,0.0950450817961928,0.09027662077027457,0.08542288254873273,0.08055310415613573,0.07571039794324264,0.07070616157832528,0.0657119987121874,0.06128728334204396,0.05751943768184572,0.05389134078959741,0.04900356695365216,0.9769952978839259,0.30625505750668325,0.16681224398251998,0.10535231097191701,0.07959952755326383,0.06645733375421846,0.059128675356240626,0.054957490566660064,0.05271077078497948,0.050586813413993174,0.04851552701587085,0.04650352016581915,0.04439909087407832,0.042223215181926295,0.039994447351238936,0.0376969771486818,0.035355681855369844,0.03316774373331611,0.03106305821549442,0.0290717150708608,0.027083898510459007,0.025379771747331272,0.6016929548410224,0.19649877662775894,0.09800180689763276,0.05993089149343879,0.04344920094476465,0.036325790326191154,0.032988226113029755,0.03106397062268146,0.029868594944059752,0.028840411354702722,0.027709387524272135,0.02651641273251336,0.0252628767263612,0.023948315503079225,0.022613799278850627,0.02123055173496776,0.019880111845564603,0.018543086620163546,0.017281103122204437,0.016076437991749414,0.014929066889625382,0.01383356394797052,0.012839887691157764,0.011865004225408921,0.011019583859734939,0.010238456970555483,0.009570704630052324,0.009542974188333058,0.008643796954182152,0.007662457736360488,0.006863647217215336,0.006283262997121075,0.005803162500378851,0.007459949447899663,0.32261376121085844,0.16895036444812078,0.07131391402436642,0.044966777347801454,0.033430883332524766,0.027985778909069156,0.025409085250162704,0.024222277128330427,0.02330552271364956,0.022506986008335523,0.021681567999896095,0.020751518330262054,0.019783917839196634,0.018801249829679362,0.017794299735730625,0.016776690283068028,0.01579086372770233,0.01482246982002164,0.013889794016011973,0.013000082888980774,0.012139089125461695,0.011303343623279222,0.010518384141389496,0.009786369730488699,0.009096114675743793,0.008456943143154988,0.007854343666074506,0.007288813660697096,0.006770984701810392,0.006293943230912734,0.005799618883953988,0.005448618118096978,0.005184523966012903,0.004646207074998785,0.004214032344333677,0.004983258716996731,0.32635376499359553,0.15921256657437052,0.07688543435514199,0.04620120640615574,0.033176510504036555,0.027454529912218716,0.024748372977349414,0.023240686804511405,0.022419613371818192,0.021788353595209815,0.021164108403668815,0.020476771286529683,0.019730450942993097,0.018931137874243904,0.018071761001317656,0.017204820305092062,0.016337091875527742,0.01549530125470303,0.014649363252747785,0.013823502642429058,0.013004891380287218,0.012221393740000397,0.011467852358508368,0.010743945314013422,0.010061563881109096,0.009390245867469421,0.008781296764407528,0.008195855392899232,0.007657945727781277,0.6817431714688744,0.1697621935752831,0.07050186434112261,0.040440307453041134,0.026702549985513933,0.02095915965477984,0.01864289924544473,0.01759109917987555,0.016966289603621117,0.016515203600483634,0.016077510719420342,0.015575588545252773,0.01500852602295153,0.014375646583907904,0.01369902289290558,0.013004278728025818,0.012314915882607561,0.011611154761851886,0.010904653114579495,0.010220602375296326,0.00957052788619209,0.008942764309610598,0.00834030530893876,0.00775476176087639,0.007215067371607155,0.006705428920388936,0.006230050879478864,0.005793318081863972,0.005370172941654657,0.004999212208501868,0.004624381742843984,0.004294427953876865,0.00399962050238839,0.003698226235679003,0.003420593720791214,0.003166505364885126,0.0029502738504921405,0.0027289336495699185,0.0025251372386220113,0.002328958699940031,0.0026830582096493577,0.29078978699705105,0.11530314138649712,0.0599418809303902,0.03715769881499258,0.027181456831583746,0.02257519202470448,0.02048441965678638,0.019457556696349732,0.018714282387218235,0.018120670915044688,0.01754438651070285,0.01692617891005352,0.016275305698543855,0.015587775332878499,0.014851028488032405,0.014090635831465807,0.013343176687317812,0.012609348283796585,0.011885162675700162,0.011168963622798343,0.010469367153651177,0.00980166504596218,0.009181424706365217,0.008589978569711179,0.008025987378604224,0.007509784359760601,0.007007087128265482,0.006550184802870882,0.006103809764480358,0.005689937761062188,0.00529716413144821,0.004931744698474705,0.004582570362573199,0.004277210890459975,0.003966779325798894,0.0036887511604029558,0.0034139596582135256,0.003185086768162565,0.002942384919571107,0.002745676464346718,0.00261089218646236,0.0024004742472130904,0.0021932660565551283,0.0020121620145775194,0.001872559510185463,0.001735980285151374,0.0016143987144106942,0.0015054764578208626,0.0013948821688386493,0.0013148533837858746,0.35273987717324007,0.11407400740504267,0.05121255863543477,0.028744676759022987,0.01926558553726811,0.01568551737846739,0.014211898373335556,0.013439312804076549,0.0129986536267726,0.012659973197848966,0.012344660104459337,0.012019896450579234,0.011656895710583745,0.011269400635364177,0.010860898311183802,0.010440392722494885,0.010001421361379556,0.009548178811431014,0.009088672457708613,0.008627677396795574,0.00816450394314146,0.007701237915678063,0.007248445006589931,0.006809683196321333,0.006390951397451037,0.00599048743717487,0.005606296008235983,0.005237281954198095,0.00488686257901348,0.004555515785325198,0.004241046633682568,0.0039457281845803145,0.003666547639669438,0.003403603611102121,0.0031572257436535195,0.002929631343729988,0.002714954452211059,0.0025146347057886384,0.00233128055238648,0.0021544500287610504,0.0019969356754797832,0.0018474178583120053,0.0017089238010893873,0.0015815032281076228,0.0014628141165352769,0.0013537895696536819,0.0012524068849058387,0.0011602985405230457,0.0010711615866235379,0.0009978650120087992,0.0009175543310408304,0.0008482040923161723,0.0007846852942724095,0.547400959873268,0.11665572213140203,0.048608415653140696,0.023730949974283155,0.014919338182177257,0.011494006474946623,0.01010493067863794,0.009441286347631807,0.009211137048089403,0.009123765399349566,0.009053416942255255,0.008958293657336004,0.008826379166384636,0.008669368296615063,0.0084805612706846,0.008275341394900914,0.008047710521513252,0.007797520821794718,0.00753284413303677,0.00725511945285796,0.006963827622971249,0.006659867119077431,0.0063446221487947945,0.006020632622748912,0.005697029843947126,0.0053719324468388535,0.0050536111375218285,0.00474093513121791,0.004444274281628135,0.004155562630448379,0.0038754558922541337,0.0036070358223416286,0.0033575113815065743,0.003121131083333431,0.002897916223089958,0.002688187837306734,0.002493738101955996,0.0023117625838909436,0.002140551406512185,0.0019850250802510338,0.0018373577261520493,0.0017015103173735771,0.0015784419312403135,0.0014600110620423719,0.0013533696967801547,0.0012519887124854288,0.0011587934270571967,0.0010752833866488332,0.0009930401241210107,0.0009221472066401102,0.0008529691652520622,0.0007889078674851322,0.000728774663138202,0.0006754371892179935,0.000624251086621352,0.0005788639306713557,0.0005354084064069643,0.0004953955566129364,0.00046230628835504335,0.30868890257450293,0.05933298423245131,0.03159716499611949,0.016062761861128788,0.011318628375943177,0.009022592966108987,0.008059913581512599,0.007724111597254183,0.007553914422209443,0.007448416906957179,0.007340532084810099,0.007207189491259513,0.0070550523099719605,0.006882278473709355,0.00669277869450104,0.006495832616186783,0.006289490677257255,0.006072064883860677,0.005845706215661903,0.005616242687930767,0.0053834689115228,0.005148975866175827,0.004904706992534069,0.004658063946682222,0.004410952084423214,0.00416650981579212,0.003926880588608671,0.0036929871301906426,0.003463863593627507,0.0032435905675159684,0.003031561336733244,0.002828072127576819,0.0026351479999221147,0.0024526216135467025,0.002279303428216206,0.0021177739351866997,0.001964764445362893,0.0018216011427949035,0.0016878863679946573,0.0015628756087945534,0.001446581881471141,0.0013391026677040906,0.0012393389728036217,0.0011467902820925695,0.0010602722017811824,0.0009805574058557262,0.0009077645284939086,0.0008409137987089233,0.0007773653426559371,0.0007190354347979315,0.0006653020674247541,0.0006158454382272827,0.0005691778419111765,0.0005270280039856481,0.00048805691226353924,0.00045098298494764493,0.0004173218153542377,0.00038664088719937505,0.00035696693927579913,0.00033077737203069703,0.0003051926678762075,0.00028281843003029615,0.00026163946735449124,0.00024333872047372986,0.00022413230685760428,0.00020705600752543896,0.0001930371852606468,0.000177194196926485,0.00016580310033189734,0.6762152802629189,0.08994216067074619,0.03628920754987436,0.01860789528125028,0.011673290623799295,0.008697807771317477,0.0075922145417045995,0.007087771914086012,0.006885770058074192,0.006796225553777526,0.006710657925861427,0.006616035933232627,0.006503467512683062,0.006375676193158775,0.006229774051742707,0.006068582815896113,0.0058931064164504995,0.005709634131620146,0.005524021874852663,0.0053365137128783685,0.0051443897853589065,0.004954260807548314,0.004763355963247999,0.004571178112484003,0.004375023345020855,0.0041730986396308215,0.003968280585584173,0.0037629999340070466,0.0035600457634884213,0.003356001996659394,0.0031595855099745052,0.0029671801384929027,0.002781034499033284,0.002601763668469779,0.0024295453228023473,0.0022645008671752774,0.0021075908357954956,0.001960161773017263,0.0018214674987671654],\"yaxis\":\"y\",\"type\":\"scattergl\"},{\"hovertemplate\":\"Color=multi loss\\u003cbr\\u003eEpoch=%{x}\\u003cbr\\u003eLoss=%{y}\\u003cextra\\u003e\\u003c\\u002fextra\\u003e\",\"legendgroup\":\"3\",\"line\":{\"color\":\"#ab63fa\",\"dash\":\"solid\"},\"marker\":{\"symbol\":\"circle\"},\"mode\":\"lines\",\"name\":\"multi loss\",\"showlegend\":true,\"x\":[0,10,20,30,40,50,60,70,80,90,100,110,120,130,140,150,160,170,180,190,200,210,220,230,240,250,260,270,280,290,300,310,320,330,340,350,360,370,380,390,400,410,420,430,440,450,460,470,480,490,500,510,520,530,540,550,560,570,580,590,600,610,620,630,640,650,660,670,680,690,700,710,720,730,740,750,760,770,780,790,800,810,820,830,840,850,860,870,880,890,900,910,920,930,940,950,960,970,980,990,1000,1010,1020,1030,1040,1050,1060,1070,1080,1090,1100,1110,1120,1130,1140,1150,1160,1170,1180,1190,1200,1210,1220,1230,1240,1250,1260,1270,1280,1290,1300,1310,1320,1330,1340,1350,1360,1370,1380,1390,1400,1410,1420,1430,1440,1450,1460,1470,1480,1490,1500,1510,1520,1530,1540,1550,1560,1570,1580,1590,1600,1610,1620,1630,1640,1650,1660,1670,1680,1690,1700,1710,1720,1730,1740,1750,1760,1770,1780,1790,1800,1810,1820,1830,1840,1850,1860,1870,1880,1890,1900,1910,1920,1930,1940,1950,1960,1970,1980,1990,2000,2010,2020,2030,2040,2050,2060,2070,2080,2090,2100,2110,2120,2130,2140,2150,2160,2170,2180,2190,2200,2210,2220,2230,2240,2250,2260,2270,2280,2290,2300,2310,2320,2330,2340,2350,2360,2370,2380,2390,2400,2410,2420,2430,2440,2450,2460,2470,2480,2490,2500,2510,2520,2530,2540,2550,2560,2570,2580,2590,2600,2610,2620,2630,2640,2650,2660,2670,2680,2690,2700,2710,2720,2730,2740,2750,2760,2770,2780,2790,2800,2810,2820,2830,2840,2850,2860,2870,2880,2890,2900,2910,2920,2930,2940,2950,2960,2970,2980,2990,3000,3010,3020,3030,3040,3050,3060,3070,3080,3090,3100,3110,3120,3130,3140,3150,3160,3170,3180,3190,3200,3210,3220,3230,3240,3250,3260,3270,3280,3290,3300,3310,3320,3330,3340,3350,3360,3370,3380,3390,3400,3410,3420,3430,3440,3450,3460,3470,3480,3490,3500,3510,3520,3530,3540,3550,3560,3570,3580,3590,3600,3610,3620,3630,3640,3650,3660,3670,3680,3690,3700,3710,3720,3730,3740,3750,3760,3770,3780,3790,3800,3810,3820,3830,3840,3850,3860,3870,3880,3890,3900,3910,3920,3930,3940,3950,3960,3970,3980,3990,4000,4010,4020,4030,4040,4050,4060,4070,4080,4090,4100,4110,4120,4130,4140,4150,4160,4170,4180,4190,4200,4210,4220,4230,4240,4250,4260,4270,4280,4290,4300,4310,4320,4330,4340,4350,4360,4370,4380,4390,4400,4410,4420,4430,4440,4450,4460,4470,4480,4490,4500,4510,4520,4530,4540,4550,4560,4570,4580,4590,4600,4610,4620,4630,4640,4650,4660,4670,4680,4690,4700,4710,4720,4730,4740,4750,4760,4770,4780,4790,4800,4810,4820,4830,4840,4850,4860,4870,4880,4890,4900,4910,4920,4930,4940,4950,4960,4970,4980,4990,5000,5010,5020,5030,5040,5050,5060,5070,5080,5090,5100,5110,5120,5130,5140,5150,5160,5170,5180,5190,5200,5210,5220,5230,5240,5250,5260,5270,5280,5290,5300,5310,5320,5330,5340,5350,5360,5370,5380,5390,5400,5410,5420,5430,5440,5450,5460,5470,5480,5490,5500,5510,5520,5530,5540,5550,5560,5570,5580,5590,5600,5610,5620,5630,5640,5650,5660,5670,5680,5690,5700,5710,5720,5730,5740,5750,5760,5770,5780,5790,5800,5810,5820,5830,5840,5850,5860,5870,5880,5890,5900,5910,5920,5930,5940,5950,5960,5970,5980,5990],\"xaxis\":\"x\",\"y\":[4.707767071682625,4.663241343120196,4.7944203359213216,4.963490417015436,5.01661008657205,5.049318551425632,5.060528944055988,5.094371755669428,5.1765239946299415,5.2857660459355,5.3926828285110275,5.484367196094778,5.581604480745306,5.675529633616552,5.76934899202062,5.86519828712954,5.970254705060169,6.061633350140062,6.166659276503321,6.2554677678822275,6.34012105301006,6.422119788064614,6.495320079962499,6.561685040807907,6.6243240497882026,6.67463666451866,6.724598344359465,6.7717610234464845,6.810306582683324,6.853382703736835,6.885442934029135,6.9219873843082595,6.953262741806747,6.986968523634675,7.010668258036628,7.042432207774599,7.079456282543003,7.0964571419154305,7.120450766202888,7.143933600235495,7.170717773636545,7.195368621284717,7.21993997952792,7.250974679434682,7.272708300067638,7.315029948632345,7.339246109570401,7.360534086459155,7.394846784988937,7.420265789680298,7.451050535074721,7.7062811243262725,7.496980518227709,7.460588902554593,7.446179382905128,7.439699361356463,7.423023893439947,7.401136550902215,7.383446236613682,7.36683419192155,7.360359974995029,7.359502558487493,7.364852614448753,7.37639569330968,7.393025707949788,7.415087537574967,7.44099176548138,7.4706351066592225,7.50228277045173,7.5357463587525,7.570270367697667,7.605687522567588,7.64110796544929,7.677951749382487,7.715228497371314,7.751050588350224,7.787858215799425,7.825376150856455,7.862335281996088,7.900060014531919,7.933989661004237,7.971609851760847,8.003491831112404,8.037268679099942,8.073345416233686,8.10355433000607,8.135532510946407,8.584153550891761,7.876313607554142,7.903198725248864,7.800744573033334,7.749848373797334,7.6706961697875675,7.600677272435671,7.541349872912499,7.479758817918002,7.421974137242764,7.367853701999595,7.320348269965807,7.278716390103308,7.242707956405001,7.212313409385867,7.1894413597467075,7.170965767313108,7.157850792891938,7.148285818632013,7.1449965861188005,7.144822686320437,7.148413602126839,7.154292316207245,7.1618316603192325,7.17001814581878,7.183390874606256,7.199062210483873,7.205202136754284,7.227680291465098,7.427878740436079,7.2914933878189965,7.102067181039047,7.036366012392635,7.014620374874274,6.978612069029774,6.928838477539219,6.8866293489636625,6.845936997309824,6.8063923956115655,6.7671933348174225,6.733366551692472,6.704881543724149,6.680275304725566,6.660235195638694,6.645626755287118,6.634942225669573,6.627265650353393,6.624942236452642,6.622064070104878,6.6245537091792,6.62652470980474,6.630113874738011,6.635062063015539,6.651035248538002,6.645934531115966,6.65976978392631,8.5814195622155,6.532234111440686,6.65356085450584,6.549114256662957,6.500609000415772,6.4655641883871215,6.442622416652234,6.398532203910041,6.354364954884699,6.311348795443005,6.272625965985852,6.236534542136277,6.204562595368869,6.175684275482985,6.150444668046704,6.128129761785517,6.110106035742785,6.093599164629103,6.083378028560034,6.073514184253267,6.067071662272888,6.065770434376813,6.077191612596614,6.063190345319553,6.071303879920851,7.020972458716217,6.32246176734633,6.121829507924053,6.108875472377804,6.060726829794425,6.004959231764013,5.957592180983187,5.916609650304248,5.876273244510039,5.837148075256826,5.804791371740769,5.775344401609987,5.750196017344088,5.729110290838111,5.710938824200422,5.69708212673995,5.690837764682116,5.6836469439203,5.67980747828591,5.6804495716600885,5.686833639006017,5.686802360784627,6.566998169667024,5.96863663892575,5.890189490506002,5.859454641088472,5.822041443227868,5.782127034285129,5.744170041372129,5.702709663652376,5.662142440723066,5.625689670946478,5.593524907782139,5.56499985842429,5.540998526659575,5.521794959707436,5.50656881284018,5.4957563206967475,5.488711435190895,5.483860850361316,5.483941309288423,5.4846016638388715,5.489514722926592,5.492535580521344,5.504004669903241,5.513323823150084,5.530301602726989,5.536905921079877,5.561694246522726,5.607462588522099,5.606817684579773,5.621440379892894,5.625842966134985,5.645765590631399,5.654177817658894,5.966819807251476,5.96941247331758,5.838492120321837,5.765488253343548,5.72417093436939,5.690605050046333,5.62771723229341,5.576643796006377,5.527565933123869,5.476798115044641,5.432739051901348,5.391066420031755,5.352659730466905,5.317039644150087,5.28540087664667,5.2561162149226766,5.229999213242332,5.20851015822231,5.188972729482304,5.173341452746706,5.162986125371338,5.153979326992632,5.142038645699438,5.143490323468381,5.142243735120857,5.134749154442436,5.146271545844206,5.138943944720952,5.158563430944414,5.154989191470181,5.1574563399152975,5.169676492410239,5.186623942049197,5.201263514809676,5.207144282352988,5.209868055785822,5.439377458596831,5.723000630566955,5.459799506784271,5.1483993401382895,5.077033169168649,5.018035043643179,4.9651922878770804,4.917903810759824,4.869393368131343,4.819916824363064,4.777169398013079,4.7347173491364725,4.6951144162589165,4.659305592222437,4.6262692974129225,4.595919060907503,4.567852945752048,4.541477308475908,4.5200079944254385,4.49824848024441,4.478492366375742,4.4618616632840125,4.448578710743482,4.437054726094792,4.4242299777931064,4.41594605486054,4.409126839614261,4.3961698768915,4.390823573841813,4.3865481790806955,6.357353668529509,4.8378326658911845,4.447798783232132,4.306302534950724,4.223763363733049,4.160942920504257,4.110652601531602,4.075616293838401,4.046750494913518,4.015099773062525,3.9850074854945086,3.9581180685167308,3.9329279634639467,3.9097854413973776,3.887416434073263,3.8672326183124617,3.847926277513656,3.830767618914834,3.8145491216750145,3.7994957051729723,3.7849892336117645,3.771782488593474,3.7585711074683377,3.7502696110679024,3.7382191810349954,3.727200754230093,3.722291714827231,3.7125846373145497,3.7081759647006725,3.7020265573320676,3.6995083482903763,3.6971790763796015,3.6908089176494587,3.686609404458022,3.6848017610964727,3.6815730011426333,3.6748841108454777,3.6787978056050785,3.6742009407318994,3.677635226021967,3.9227481646288984,4.43375902536983,3.758233113371818,3.3727105786151843,3.2633318562591085,3.1679780201094867,3.125235833297863,3.1036992585015586,3.074295493421737,3.0575042655651044,3.041572294719693,3.0257075915413214,3.007972835260115,2.990782115878227,2.973100369566139,2.9549984196080987,2.9366045884382155,2.91658650230008,2.897035417048796,2.878397016420229,2.8577462064142725,2.836390433932236,2.815688675541642,2.7952439148730948,2.7740549001059445,2.7540647507743783,2.7330660029119658,2.7157932998820282,2.696876726299624,2.680270141725527,2.661241129100195,2.646204439576221,2.6357808185628526,2.6173323054884507,2.6025105493023712,2.592609575200338,2.578315010448366,2.5715392489906583,2.558511279959605,2.5535257388329544,2.5496986452345,2.525769793342654,2.531709307063928,2.520582632207722,2.5136461723939476,2.509048562562335,2.5157349625226435,2.5009930400915796,2.5005103198866134,2.505829722497027,2.5350053436075974,3.770737773615574,2.8784777681725475,2.355097305141015,2.1522588161205984,2.0503333047959766,1.9829936134444779,1.9451058587485777,1.9291391656212724,1.9206173659971133,1.911500884492264,1.902317253920636,1.8927728328510667,1.8823687134384237,1.8718247686906437,1.8599793194185246,1.846935492069666,1.8327635896924794,1.8187851977685532,1.8038935569295675,1.7895077392362433,1.7746498181229988,1.759007827227067,1.7435414587904474,1.7279929846569315,1.7117831645026877,1.6960295916615107,1.679250551154865,1.662158061073791,1.6460909810755142,1.6299716298760776,1.6144459215228537,1.5997927499164517,1.5841241418894776,1.5716621904536219,1.5605122140485157,1.5460147079333733,1.5361529119200796,1.526887739856179,1.5144395178711438,1.5072426218453292,1.495286416146992,1.4917717607372847,1.4810329187952487,1.4783170381930137,1.469207348279221,1.470542331296397,1.462883244892727,1.4619865993044248,1.4562080305938088,1.4526725383119408,1.4533110617389848,1.4546630365497035,1.4586440062597699,5.742093600479943,2.2674218602226532,1.7015199617028132,1.403851463524827,1.2460562876051928,1.1760997256875954,1.137371685661585,1.1265184930333385,1.117692881672159,1.111321695241925,1.1099502133649979,1.1075587942659049,1.1031801518802673,1.0985098247218592,1.0930153289148838,1.0866505644169644,1.0802992373699623,1.0725226625236925,1.0640544110208237,1.0545597897207715,1.044743324917482,1.0346805709875027,1.0237839742528658,1.0121924433645375,1.0006396006342495,0.9893819440082802,0.9776563668198924,0.9665925130110653,0.9550311901060492,0.943844850519491,0.9328500448742548,0.9225935731762858,0.9130294733595075,0.9037516513187218,0.8945724894976624,0.886136664207279,0.8791465234589865,0.8719385312127019,0.8652459892175969,0.8599942978476857,0.8548288051056008,0.8505473863771553,0.8486016356331902,0.8435124272689795,0.8416859681588285,0.8393007735432951,0.8383637102781172,0.8397152627354968,0.8393517721941475,0.8426530892251085,0.8409344376869803,0.8452354728665203,0.8474420752228078,0.85113838445595,0.8571444449402101,0.8631564455388364,0.8639817421427975,0.8693016263290522,0.8871846372472593,2.4571090704603,1.5413476959270869,1.0472985816742246,0.851279828556227,0.75045881447124,0.6988678714641613,0.6769916916853357,0.6675459380805734,0.6618984660421977,0.6573846362068074,0.6539445862849975,0.6499754502519751,0.6450463272841872,0.6394511445391312,0.633559878077118,0.6275394710883159,0.6212708306214816,0.6141661065656208,0.6062729565894044,0.5975989848837696,0.5883346260087872,0.5793590234160426,0.569647232583787,0.5597262311151583,0.5490635632897019,0.5389724754960417,0.5286770255784937,0.5180962747276285,0.5081995083799951,0.49813659099782615,0.4881578719234601,0.47839212871252057,0.46913501036466737,0.4606631853841894,0.4524647829753979,0.44455192400459775,0.43684458420210376,0.43032139847389744,0.42403909426617403,0.41816622013842863,0.4130036442494851,0.4088353915929018,0.4049578503410762,0.40097836307255863,0.39643325806531965,0.3930068838473486,0.3911659349270746,0.3902828654533209,0.38757867788394884,0.38549136706035303,0.3857251071767535,0.3862794666097513,0.38434134487112576,0.3855708235546461,0.3877147074797136,0.3863627533921013,0.3886737328602776,0.393236991338441,0.3930780903453174,0.3973293200600204,0.39700006149539824,0.4040563774163302,0.40641150398976517,0.407257162513741,0.41305801523562735,0.4179377521438207,0.4287284114590347,0.4274487077126201,0.43606469413125415,3.3233676653729147,1.5408556829629825,0.8983138926366588,0.6365208696718361,0.4959649993949245,0.43586863675214427,0.41221605481937607,0.3995270298283272,0.39242108685539484,0.38761006280987187,0.3838104451976321,0.3797809470622636,0.37607309638677083,0.37179512842389106,0.3674670902592063,0.36319694744511,0.35898969932706026,0.35412051049757404,0.3488646868543054,0.3431707208081538,0.3367823926423059,0.32988922522681946,0.32283424768961777,0.3160014410929992,0.30887209257219567,0.30147906764883137,0.2938495773256284,0.28633092943099747,0.2790613280483458,0.27161294266205394,0.2640789912553785,0.2568773251250974,0.25000267881220845,0.2432623931404041,0.23664701825533288,0.23033508426663074,0.22424727449712203,0.2184599160114463,0.21318646393448873],\"yaxis\":\"y\",\"type\":\"scattergl\"}],                        {\"template\":{\"data\":{\"histogram2dcontour\":[{\"type\":\"histogram2dcontour\",\"colorbar\":{\"outlinewidth\":0,\"ticks\":\"\"},\"colorscale\":[[0.0,\"#0d0887\"],[0.1111111111111111,\"#46039f\"],[0.2222222222222222,\"#7201a8\"],[0.3333333333333333,\"#9c179e\"],[0.4444444444444444,\"#bd3786\"],[0.5555555555555556,\"#d8576b\"],[0.6666666666666666,\"#ed7953\"],[0.7777777777777778,\"#fb9f3a\"],[0.8888888888888888,\"#fdca26\"],[1.0,\"#f0f921\"]]}],\"choropleth\":[{\"type\":\"choropleth\",\"colorbar\":{\"outlinewidth\":0,\"ticks\":\"\"}}],\"histogram2d\":[{\"type\":\"histogram2d\",\"colorbar\":{\"outlinewidth\":0,\"ticks\":\"\"},\"colorscale\":[[0.0,\"#0d0887\"],[0.1111111111111111,\"#46039f\"],[0.2222222222222222,\"#7201a8\"],[0.3333333333333333,\"#9c179e\"],[0.4444444444444444,\"#bd3786\"],[0.5555555555555556,\"#d8576b\"],[0.6666666666666666,\"#ed7953\"],[0.7777777777777778,\"#fb9f3a\"],[0.8888888888888888,\"#fdca26\"],[1.0,\"#f0f921\"]]}],\"heatmap\":[{\"type\":\"heatmap\",\"colorbar\":{\"outlinewidth\":0,\"ticks\":\"\"},\"colorscale\":[[0.0,\"#0d0887\"],[0.1111111111111111,\"#46039f\"],[0.2222222222222222,\"#7201a8\"],[0.3333333333333333,\"#9c179e\"],[0.4444444444444444,\"#bd3786\"],[0.5555555555555556,\"#d8576b\"],[0.6666666666666666,\"#ed7953\"],[0.7777777777777778,\"#fb9f3a\"],[0.8888888888888888,\"#fdca26\"],[1.0,\"#f0f921\"]]}],\"heatmapgl\":[{\"type\":\"heatmapgl\",\"colorbar\":{\"outlinewidth\":0,\"ticks\":\"\"},\"colorscale\":[[0.0,\"#0d0887\"],[0.1111111111111111,\"#46039f\"],[0.2222222222222222,\"#7201a8\"],[0.3333333333333333,\"#9c179e\"],[0.4444444444444444,\"#bd3786\"],[0.5555555555555556,\"#d8576b\"],[0.6666666666666666,\"#ed7953\"],[0.7777777777777778,\"#fb9f3a\"],[0.8888888888888888,\"#fdca26\"],[1.0,\"#f0f921\"]]}],\"contourcarpet\":[{\"type\":\"contourcarpet\",\"colorbar\":{\"outlinewidth\":0,\"ticks\":\"\"}}],\"contour\":[{\"type\":\"contour\",\"colorbar\":{\"outlinewidth\":0,\"ticks\":\"\"},\"colorscale\":[[0.0,\"#0d0887\"],[0.1111111111111111,\"#46039f\"],[0.2222222222222222,\"#7201a8\"],[0.3333333333333333,\"#9c179e\"],[0.4444444444444444,\"#bd3786\"],[0.5555555555555556,\"#d8576b\"],[0.6666666666666666,\"#ed7953\"],[0.7777777777777778,\"#fb9f3a\"],[0.8888888888888888,\"#fdca26\"],[1.0,\"#f0f921\"]]}],\"surface\":[{\"type\":\"surface\",\"colorbar\":{\"outlinewidth\":0,\"ticks\":\"\"},\"colorscale\":[[0.0,\"#0d0887\"],[0.1111111111111111,\"#46039f\"],[0.2222222222222222,\"#7201a8\"],[0.3333333333333333,\"#9c179e\"],[0.4444444444444444,\"#bd3786\"],[0.5555555555555556,\"#d8576b\"],[0.6666666666666666,\"#ed7953\"],[0.7777777777777778,\"#fb9f3a\"],[0.8888888888888888,\"#fdca26\"],[1.0,\"#f0f921\"]]}],\"mesh3d\":[{\"type\":\"mesh3d\",\"colorbar\":{\"outlinewidth\":0,\"ticks\":\"\"}}],\"scatter\":[{\"fillpattern\":{\"fillmode\":\"overlay\",\"size\":10,\"solidity\":0.2},\"type\":\"scatter\"}],\"parcoords\":[{\"type\":\"parcoords\",\"line\":{\"colorbar\":{\"outlinewidth\":0,\"ticks\":\"\"}}}],\"scatterpolargl\":[{\"type\":\"scatterpolargl\",\"marker\":{\"colorbar\":{\"outlinewidth\":0,\"ticks\":\"\"}}}],\"bar\":[{\"error_x\":{\"color\":\"#2a3f5f\"},\"error_y\":{\"color\":\"#2a3f5f\"},\"marker\":{\"line\":{\"color\":\"#E5ECF6\",\"width\":0.5},\"pattern\":{\"fillmode\":\"overlay\",\"size\":10,\"solidity\":0.2}},\"type\":\"bar\"}],\"scattergeo\":[{\"type\":\"scattergeo\",\"marker\":{\"colorbar\":{\"outlinewidth\":0,\"ticks\":\"\"}}}],\"scatterpolar\":[{\"type\":\"scatterpolar\",\"marker\":{\"colorbar\":{\"outlinewidth\":0,\"ticks\":\"\"}}}],\"histogram\":[{\"marker\":{\"pattern\":{\"fillmode\":\"overlay\",\"size\":10,\"solidity\":0.2}},\"type\":\"histogram\"}],\"scattergl\":[{\"type\":\"scattergl\",\"marker\":{\"colorbar\":{\"outlinewidth\":0,\"ticks\":\"\"}}}],\"scatter3d\":[{\"type\":\"scatter3d\",\"line\":{\"colorbar\":{\"outlinewidth\":0,\"ticks\":\"\"}},\"marker\":{\"colorbar\":{\"outlinewidth\":0,\"ticks\":\"\"}}}],\"scattermapbox\":[{\"type\":\"scattermapbox\",\"marker\":{\"colorbar\":{\"outlinewidth\":0,\"ticks\":\"\"}}}],\"scatterternary\":[{\"type\":\"scatterternary\",\"marker\":{\"colorbar\":{\"outlinewidth\":0,\"ticks\":\"\"}}}],\"scattercarpet\":[{\"type\":\"scattercarpet\",\"marker\":{\"colorbar\":{\"outlinewidth\":0,\"ticks\":\"\"}}}],\"carpet\":[{\"aaxis\":{\"endlinecolor\":\"#2a3f5f\",\"gridcolor\":\"white\",\"linecolor\":\"white\",\"minorgridcolor\":\"white\",\"startlinecolor\":\"#2a3f5f\"},\"baxis\":{\"endlinecolor\":\"#2a3f5f\",\"gridcolor\":\"white\",\"linecolor\":\"white\",\"minorgridcolor\":\"white\",\"startlinecolor\":\"#2a3f5f\"},\"type\":\"carpet\"}],\"table\":[{\"cells\":{\"fill\":{\"color\":\"#EBF0F8\"},\"line\":{\"color\":\"white\"}},\"header\":{\"fill\":{\"color\":\"#C8D4E3\"},\"line\":{\"color\":\"white\"}},\"type\":\"table\"}],\"barpolar\":[{\"marker\":{\"line\":{\"color\":\"#E5ECF6\",\"width\":0.5},\"pattern\":{\"fillmode\":\"overlay\",\"size\":10,\"solidity\":0.2}},\"type\":\"barpolar\"}],\"pie\":[{\"automargin\":true,\"type\":\"pie\"}]},\"layout\":{\"autotypenumbers\":\"strict\",\"colorway\":[\"#636efa\",\"#EF553B\",\"#00cc96\",\"#ab63fa\",\"#FFA15A\",\"#19d3f3\",\"#FF6692\",\"#B6E880\",\"#FF97FF\",\"#FECB52\"],\"font\":{\"color\":\"#2a3f5f\"},\"hovermode\":\"closest\",\"hoverlabel\":{\"align\":\"left\"},\"paper_bgcolor\":\"white\",\"plot_bgcolor\":\"#E5ECF6\",\"polar\":{\"bgcolor\":\"#E5ECF6\",\"angularaxis\":{\"gridcolor\":\"white\",\"linecolor\":\"white\",\"ticks\":\"\"},\"radialaxis\":{\"gridcolor\":\"white\",\"linecolor\":\"white\",\"ticks\":\"\"}},\"ternary\":{\"bgcolor\":\"#E5ECF6\",\"aaxis\":{\"gridcolor\":\"white\",\"linecolor\":\"white\",\"ticks\":\"\"},\"baxis\":{\"gridcolor\":\"white\",\"linecolor\":\"white\",\"ticks\":\"\"},\"caxis\":{\"gridcolor\":\"white\",\"linecolor\":\"white\",\"ticks\":\"\"}},\"coloraxis\":{\"colorbar\":{\"outlinewidth\":0,\"ticks\":\"\"}},\"colorscale\":{\"sequential\":[[0.0,\"#0d0887\"],[0.1111111111111111,\"#46039f\"],[0.2222222222222222,\"#7201a8\"],[0.3333333333333333,\"#9c179e\"],[0.4444444444444444,\"#bd3786\"],[0.5555555555555556,\"#d8576b\"],[0.6666666666666666,\"#ed7953\"],[0.7777777777777778,\"#fb9f3a\"],[0.8888888888888888,\"#fdca26\"],[1.0,\"#f0f921\"]],\"sequentialminus\":[[0.0,\"#0d0887\"],[0.1111111111111111,\"#46039f\"],[0.2222222222222222,\"#7201a8\"],[0.3333333333333333,\"#9c179e\"],[0.4444444444444444,\"#bd3786\"],[0.5555555555555556,\"#d8576b\"],[0.6666666666666666,\"#ed7953\"],[0.7777777777777778,\"#fb9f3a\"],[0.8888888888888888,\"#fdca26\"],[1.0,\"#f0f921\"]],\"diverging\":[[0,\"#8e0152\"],[0.1,\"#c51b7d\"],[0.2,\"#de77ae\"],[0.3,\"#f1b6da\"],[0.4,\"#fde0ef\"],[0.5,\"#f7f7f7\"],[0.6,\"#e6f5d0\"],[0.7,\"#b8e186\"],[0.8,\"#7fbc41\"],[0.9,\"#4d9221\"],[1,\"#276419\"]]},\"xaxis\":{\"gridcolor\":\"white\",\"linecolor\":\"white\",\"ticks\":\"\",\"title\":{\"standoff\":15,\"font\":{\"size\":20}},\"zerolinecolor\":\"white\",\"automargin\":true,\"zerolinewidth\":2},\"yaxis\":{\"gridcolor\":\"white\",\"linecolor\":\"white\",\"ticks\":\"\",\"title\":{\"standoff\":15,\"font\":{\"size\":20}},\"zerolinecolor\":\"white\",\"automargin\":true,\"zerolinewidth\":2},\"scene\":{\"xaxis\":{\"backgroundcolor\":\"#E5ECF6\",\"gridcolor\":\"white\",\"linecolor\":\"white\",\"showbackground\":true,\"ticks\":\"\",\"zerolinecolor\":\"white\",\"gridwidth\":2},\"yaxis\":{\"backgroundcolor\":\"#E5ECF6\",\"gridcolor\":\"white\",\"linecolor\":\"white\",\"showbackground\":true,\"ticks\":\"\",\"zerolinecolor\":\"white\",\"gridwidth\":2},\"zaxis\":{\"backgroundcolor\":\"#E5ECF6\",\"gridcolor\":\"white\",\"linecolor\":\"white\",\"showbackground\":true,\"ticks\":\"\",\"zerolinecolor\":\"white\",\"gridwidth\":2}},\"shapedefaults\":{\"line\":{\"color\":\"#2a3f5f\"}},\"annotationdefaults\":{\"arrowcolor\":\"#2a3f5f\",\"arrowhead\":0,\"arrowwidth\":1},\"geo\":{\"bgcolor\":\"white\",\"landcolor\":\"#E5ECF6\",\"subunitcolor\":\"white\",\"showland\":true,\"showlakes\":true,\"lakecolor\":\"white\"},\"title\":{\"x\":0.05,\"font\":{\"size\":30}},\"mapbox\":{\"style\":\"light\"}}},\"xaxis\":{\"anchor\":\"y\",\"domain\":[0.0,1.0],\"title\":{\"text\":\"Epoch\"}},\"yaxis\":{\"anchor\":\"x\",\"domain\":[0.0,1.0],\"title\":{\"text\":\"Loss\"}},\"legend\":{\"title\":{\"text\":\"Color\"},\"tracegroupgap\":0},\"title\":{\"text\":\"Training Curve for Modular Arithmetic - 70% Addition\"},\"updatemenus\":[{\"active\":-1,\"buttons\":[{\"args\":[{\"xaxis.type\":\"log\"}],\"args2\":[{\"xaxis.type\":\"linear\"}],\"label\":\"Log x-axis\",\"method\":\"relayout\"}],\"type\":\"buttons\",\"x\":-0.1,\"y\":1.0},{\"active\":-1,\"buttons\":[{\"args\":[{\"yaxis.type\":\"log\"}],\"args2\":[{\"yaxis.type\":\"linear\"}],\"label\":\"Log y-axis\",\"method\":\"relayout\"}],\"type\":\"buttons\",\"x\":-0.1,\"y\":0.85}]},                        {\"responsive\": true}                    ).then(function(){\n",
              "                            \n",
              "var gd = document.getElementById('13d0baed-b39e-4f8e-8710-53824c6fb6de');\n",
              "var x = new MutationObserver(function (mutations, observer) {{\n",
              "        var display = window.getComputedStyle(gd).display;\n",
              "        if (!display || display === 'none') {{\n",
              "            console.log([gd, 'removed!']);\n",
              "            Plotly.purge(gd);\n",
              "            observer.disconnect();\n",
              "        }}\n",
              "}});\n",
              "\n",
              "// Listen for the removal of the full notebook cells\n",
              "var notebookContainer = gd.closest('#notebook-container');\n",
              "if (notebookContainer) {{\n",
              "    x.observe(notebookContainer, {childList: true});\n",
              "}}\n",
              "\n",
              "// Listen for the clearing of the current output cell\n",
              "var outputEl = gd.closest('.output');\n",
              "if (outputEl) {{\n",
              "    x.observe(outputEl, {childList: true});\n",
              "}}\n",
              "\n",
              "                        })                };                });            </script>        </div>"
            ]
          },
          "metadata": {},
          "output_type": "display_data"
        },
        {
          "data": {
            "text/html": [
              "<div>                            <div id=\"67f7c3b0-d0e9-4407-be2a-f5310e5f5df5\" class=\"plotly-graph-div\" style=\"height:525px; width:100%;\"></div>            <script type=\"text/javascript\">                require([\"plotly\"], function(Plotly) {                    window.PLOTLYENV=window.PLOTLYENV || {};                                    if (document.getElementById(\"67f7c3b0-d0e9-4407-be2a-f5310e5f5df5\")) {                    Plotly.newPlot(                        \"67f7c3b0-d0e9-4407-be2a-f5310e5f5df5\",                        [{\"hovertemplate\":\"Color=train\\u003cbr\\u003eEpoch=%{x}\\u003cbr\\u003eRolling Avg Loss=%{y}\\u003cextra\\u003e\\u003c\\u002fextra\\u003e\",\"legendgroup\":\"0\",\"line\":{\"color\":\"#636efa\",\"dash\":\"solid\"},\"marker\":{\"symbol\":\"circle\"},\"mode\":\"lines\",\"name\":\"train\",\"showlegend\":true,\"x\":[0,10,20,30,40,50,60,70,80,90,100,110,120,130,140,150,160,170,180,190,200,210,220,230,240,250,260,270,280,290,300,310,320,330,340,350,360,370,380,390,400,410,420,430,440,450,460,470,480,490,500,510,520,530,540,550,560,570,580,590,600,610,620,630,640,650,660,670,680,690,700,710,720,730,740,750,760,770,780,790,800,810,820,830,840,850,860,870,880,890,900,910,920,930,940,950,960,970,980,990,1000,1010,1020,1030,1040,1050,1060,1070,1080,1090,1100,1110,1120,1130,1140,1150,1160,1170,1180,1190,1200,1210,1220,1230,1240,1250,1260,1270,1280,1290,1300,1310,1320,1330,1340,1350,1360,1370,1380,1390,1400,1410,1420,1430,1440,1450,1460,1470,1480,1490,1500,1510,1520,1530,1540,1550,1560,1570,1580,1590,1600,1610,1620,1630,1640,1650,1660,1670,1680,1690,1700,1710,1720,1730,1740,1750,1760,1770,1780,1790,1800,1810,1820,1830,1840,1850,1860,1870,1880,1890,1900,1910,1920,1930,1940,1950,1960,1970,1980,1990,2000,2010,2020,2030,2040,2050,2060,2070,2080,2090,2100,2110,2120,2130,2140,2150,2160,2170,2180,2190,2200,2210,2220,2230,2240,2250,2260,2270,2280,2290,2300,2310,2320,2330,2340,2350,2360,2370,2380,2390,2400,2410,2420,2430,2440,2450,2460,2470,2480,2490,2500,2510,2520,2530,2540,2550,2560,2570,2580,2590,2600,2610,2620,2630,2640,2650,2660,2670,2680,2690,2700,2710,2720,2730,2740,2750,2760,2770,2780,2790,2800,2810,2820,2830,2840,2850,2860,2870,2880,2890,2900,2910,2920,2930,2940,2950,2960,2970,2980,2990,3000,3010,3020,3030,3040,3050,3060,3070,3080,3090,3100,3110,3120,3130,3140,3150,3160,3170,3180,3190,3200,3210,3220,3230,3240,3250,3260,3270,3280,3290,3300,3310,3320,3330,3340,3350,3360,3370,3380,3390,3400,3410,3420,3430,3440,3450,3460,3470,3480,3490,3500,3510,3520,3530,3540,3550,3560,3570,3580,3590,3600,3610,3620,3630,3640,3650,3660,3670,3680,3690,3700,3710,3720,3730,3740,3750,3760,3770,3780,3790,3800,3810,3820,3830,3840,3850,3860,3870,3880,3890,3900,3910,3920,3930,3940,3950,3960,3970,3980,3990,4000,4010,4020,4030,4040,4050,4060,4070,4080,4090,4100,4110,4120,4130,4140,4150,4160,4170,4180,4190,4200,4210,4220,4230,4240,4250,4260,4270,4280,4290,4300,4310,4320,4330,4340,4350,4360,4370,4380,4390,4400,4410,4420,4430,4440,4450,4460,4470,4480,4490,4500,4510,4520,4530,4540,4550,4560,4570,4580,4590,4600,4610,4620,4630,4640,4650,4660,4670,4680,4690,4700,4710,4720,4730,4740,4750,4760,4770,4780,4790,4800,4810,4820,4830,4840,4850,4860,4870,4880,4890,4900,4910,4920,4930,4940,4950,4960,4970,4980,4990,5000,5010,5020,5030,5040,5050,5060,5070,5080,5090,5100,5110,5120,5130,5140,5150,5160,5170,5180,5190,5200,5210,5220,5230,5240,5250,5260,5270,5280,5290,5300,5310,5320,5330,5340,5350,5360,5370,5380,5390,5400,5410,5420,5430,5440,5450,5460,5470,5480,5490,5500,5510,5520,5530,5540,5550,5560,5570,5580,5590,5600,5610,5620,5630,5640,5650,5660,5670,5680,5690,5700,5710,5720,5730,5740,5750,5760,5770,5780,5790,5800,5810,5820,5830,5840,5850,5860,5870,5880,5890,5900,5910,5920,5930,5940,5950,5960,5970,5980,5990],\"xaxis\":\"x\",\"y\":[5.046054775218921,4.774444038644093,4.727660287581527,4.693698004760465,4.651283983047289,4.592337468680825,4.512184829358338,4.407103197838651,4.277577893892662,4.127249045388924,3.9636695418152077,3.7943327276630323,3.6245551919757903,3.4581873063537185,3.2971417719870053,3.1433651917721748,2.9972738526082345,2.8594913552499386,2.7301148597731415,2.6088824005972815,2.48293048567384,2.259056084991665,2.036247492294896,1.814197216085796,1.5957566170004498,1.38460038259895,1.1848714822612327,1.001251393117954,0.8374258250460243,0.6955179017991746,0.5749067513118766,0.47350104210675625,0.3889841683268036,0.3189608117627363,0.2615831864579929,0.21462922661624934,0.1766884285168185,0.1461027374887226,0.12154938991583471,0.10202999643671205,0.0864519553553164,0.07396789596005927,0.06389752456200708,0.055656770428151016,0.04886983522067882,0.04318702461753614,0.03838513816024029,0.03429948165207187,0.030757811953227757,0.027676421585880108,0.024984823297607272,0.022596455984405885,0.024380375885844033,0.027912079296104064,0.027803985767703043,0.026995923289220448,0.02605456781566025,0.025150671259861944,0.024345418365059452,0.023656058717379812,0.02307569734369337,0.022590506343786433,0.022178142776150073,0.02186269996055668,0.021601865888097583,0.02139486267806777,0.021223812057011352,0.021071902511741163,0.020966670163734727,0.0208780151441152,0.020803327346577586,0.02074936909377969,0.01681131325797678,0.011353755298639072,0.009753123000526406,0.009024819028713741,0.00858807666923849,0.00824571856956215,0.007926188389572474,0.007601407092678993,0.007261921262294414,0.0069080347135109955,0.006543633657046882,0.006171335802627737,0.005798930450014766,0.005436287458645442,0.005076625960855838,0.004728036557273642,0.017563447377035076,0.041844075879902215,0.0466917100321895,0.04822325906877151,0.04887287052497848,0.04924525720617912,0.04953180438483225,0.0498042276378035,0.05009256698397072,0.05040674171047759,0.05074842686244767,0.05111495129056744,0.05150274347939098,0.05190630720064617,0.052320107954423885,0.052741454618591914,0.053163041147070544,0.05357549158676668,0.053985756649784104,0.05438569893485067,0.04160223370724312,0.017373767653657207,0.012578008270519293,0.011097520449852032,0.010497767808194699,0.010173589850054272,0.009933329353512292,0.00970543983480709,0.009459812736341406,0.009250751175850648,0.043710274285217766,0.051321077230798456,0.053680097856831956,0.054605147173925526,0.05503705342714084,0.05528970403639286,0.055481789307972526,0.05566251798498218,0.05585254120402622,0.056059126411039564,0.05628322920188724,0.05652297722306701,0.05677493485571401,0.057035214403193625,0.05729973254137111,0.057565007273092245,0.05782779818235756,0.05808483068733041,0.05833395732929994,0.058508948282589346,0.023975027762783912,0.016251258188357962,0.01374461887029756,0.012643587975067254,0.012023649083169123,0.011553437709001751,0.025173068609458272,0.09148939918895077,0.11136887440573787,0.11768389552126368,0.1200562166382828,0.12119165622802602,0.1218769956559142,0.12238237859257507,0.12282054922081555,0.12323859758278498,0.12365578847508038,0.12407869108069548,0.12450794325211863,0.12494116068862685,0.12537498754994794,0.12580575699855343,0.1262298198830167,0.12664289236352017,0.12703175711326684,0.12741731155914862,0.11374559048013903,0.04736732012255536,0.02741142584561293,0.020995716898216114,0.018464712835935183,0.044530967667788426,0.07873993538053242,0.08809176566529847,0.09110671544710686,0.09220801920607614,0.09264981093203685,0.09284359984901494,0.09294581405889833,0.0930213116461902,0.09309783993888371,0.09318602513399096,0.09328902442729818,0.09340582110166444,0.09353368829806058,0.09366966883712681,0.09380969862709286,0.09394806998416717,0.0940697883433434,0.09418073953535011,0.09431667730441216,0.06706068904306596,0.032089204939430516,0.044422328058346144,0.060113720699579015,0.06406976838462136,0.06515694329938915,0.06541132175873625,0.06538179487514215,0.06524797492262051,0.06507871062502979,0.06490312313029768,0.06473319029827661,0.06457419077465447,0.06442778676823431,0.0642938277463953,0.06417127526761181,0.06405881541297426,0.06395542588294709,0.06385809693205981,0.06376422773139995,0.06367522050734126,0.06358661114210802,0.04121259663105028,0.02187215303063155,0.01619276833988325,0.014038690472863855,0.012958454559611305,0.012251004176195512,0.011675579895353762,0.011173624879306239,0.010653480856266611,0.010107951652906379,0.009550012482434174,0.008992919969484887,0.008441431249452527,0.008002353644612622,0.06694388092688638,0.08188304028245438,0.0861678029664157,0.08771573708931864,0.08843192893847236,0.08886468321194942,0.0892066252477678,0.0895320159236044,0.08986940829098894,0.090227435716369,0.09060677565213891,0.09100175270694756,0.0914079976560564,0.09178705909627878,0.09219042745171724,0.09261012796704511,0.09302861705622174,0.09343325349579779,0.09382200171606678,0.09409144343184538,0.0349767081303934,0.019864165441850896,0.015408354143237078,0.013693509766273697,0.012816990936130089,0.012230529966851311,0.01174385758738002,0.011280462210969238,0.010813752381215786,0.010336956240771102,0.009842656532924909,0.009345090441557973,0.008853393762984779,0.008345465255912123,0.007838893031398926,0.007391838040977794,0.08075241384105261,0.10169553700614044,0.10807348336340816,0.11043120066508895,0.11155279499245596,0.11225922175084296,0.11281988900195423,0.11334223780961512,0.11386598436749613,0.11440609329331984,0.11496365301716815,0.11553757512998701,0.11612169675088163,0.11670873849943865,0.11730062005695258,0.11788140159438358,0.11844217659743717,0.11900604253794692,0.11955660123907927,0.1200368640957346,0.046699784428186,0.025771756227755117,0.01940154879393618,0.01704512078638559,0.0159216048220052,0.01520833676673291,0.014641136294229362,0.014108962704485502,0.013571837324409164,0.03063960844376798,0.05564638873354052,0.061483715224418374,0.06320879082339863,0.06375763258838768,0.06390277299650851,0.06390966621891563,0.06388310063230866,0.06386435461120699,0.0638699057890499,0.06390438489695642,0.06396696414542481,0.06405398340740663,0.0641611645561216,0.06428425338930349,0.06441683953391843,0.06455753590465839,0.06469870357524543,0.06484216499970887,0.06498529386738985,0.047503001946249436,0.02205783479170085,0.015760571079150867,0.013558542792300936,0.01252059172825622,0.011880095395469036,0.011376372680982285,0.010910200925699576,0.01044385743592288,0.009967022147243721,0.009474141978885525,0.008971010018700088,0.008466253675835771,0.007958785216044316,0.007458570296284389,0.006967798562263686,0.0064948909136169405,0.006039160928108117,0.005604408892262757,0.005191475468413487,0.0048282371282291365,0.06684959548010216,0.08095678253043825,0.08540132699625583,0.08718466752716715,0.08815292507520912,0.08882971229013553,0.08940337961062543,0.0899469566421616,0.09048685081205635,0.09103616662307236,0.09159353113492642,0.09215303347662142,0.09271763626040082,0.09327862002453392,0.0938344917571998,0.09437712217814044,0.09490701498797546,0.09542019379249579,0.09591532822488874,0.0963638611384059,0.03442993857125123,0.0204114719126072,0.01605589229107498,0.014361241103912563,0.01348020674100872,0.012889224895538471,0.012398422243259316,0.011934940519589925,0.011469847805508188,0.010994057541756572,0.010504986929568558,0.010007723212324973,0.00950360008068813,0.009000647888460788,0.008498594094694622,0.008004009994662555,0.0075185824317306645,0.007048419425852972,0.006592019497595552,0.0061534165182498745,0.0057417590753477896,0.0053440082621422245,0.004964002940861383,0.004603820958181366,0.004265465844127097,0.003947306260862842,0.0036501393595916825,0.0033725250532530954,0.0031143214611095236,0.0028744124624359092,0.05043085093698587,0.06390908505374333,0.06785988293815204,0.06929357676893197,0.0700383488985494,0.07054442412619719,0.07096950814906344,0.07137056302453167,0.07177474556049818,0.07218679516485015,0.07259919975497375,0.0730235763088339,0.07345340860444505,0.07388343004101582,0.07430848545688712,0.07472699980514724,0.07513540307577798,0.07553238693816673,0.07591533966459511,0.07628290374540012,0.028856559046180202,0.01550672587514326,0.01168381538196969,0.010372577289450211,0.009748452632959748,0.009357849195811974,0.009044343764146546,0.008747285988319232,0.00844311527231574,0.008124857955646736,0.00779237734290025,0.007448179245642073,0.007095665183338391,0.006738432552669324,0.006379869395836551,0.006022999290201031,0.005670709485759092,0.005325584178408342,0.004989856796481931,0.004665121737735696,0.004353095524698553,0.004054716720010756,0.0037706653019971797,0.003501477932319304,0.0032471473121895977,0.0030079013108099606,0.002783230599150112,0.0025732881431175937,0.0023770279913575233,0.002195061182738294,0.0020252715287258087,0.0018675703883637134,0.0017215132004652109,0.01019889484342915,0.039882401083066316,0.04465911020893855,0.046248998284355795,0.04696604865981888,0.047419517440015116,0.04777748120018051,0.04810690337220759,0.048434057804342484,0.04876827370527373,0.04911142251269051,0.049462575594965585,0.049819172725485326,0.05017901776527478,0.050539327765003604,0.05089851099095638,0.05125339557668213,0.05160363459742251,0.05194686277031427,0.05228105436710147,0.04399219626076287,0.014495559286438505,0.009902348334080203,0.008491079382678129,0.007946570056793806,0.0076586462774466905,0.007458781709612149,0.007279223761499369,0.007093582998591882,0.0068925029141743595,0.006674073600079544,0.006439565242289967,0.006191482363675073,0.005932710159366008,0.005665884896228731,0.005393617978775361,0.005118372701880566,0.004842417896098081,0.00456803929250908,0.00429736825397803,0.004032300173760627,0.003774598702870171,0.0035257179397261613,0.0032868258111331417,0.0030587015896468735,0.0028418906945839066,0.002636738178178715,0.002443538648545753,0.0022620923531248205,0.002092303642528831,0.0019337873836855557,0.001786285328295344,0.001649179669493141,0.001522068896509394,0.0014043436328289812,0.0012954066283073135,0.001194780363564867,0.001101818504796255,0.0010160139899451958,0.025548284011620962,0.03460352431464398,0.036930151418757565,0.037834452824866714,0.03831983754535418,0.038663467645472675,0.038955283973675404,0.03923278618437387,0.039510406411677745,0.03979316465672393,0.04008109854014458,0.040372799846854907,0.040666257066752004,0.040959845183722005,0.04125172941033997,0.0415404412696722,0.04182454032517533,0.04210267643013327,0.04237373809435852,0.04263652706651336,0.01827867876011249,0.009394070717145075,0.007233118851567304,0.006488643008213327,0.006156604635334097,0.005959431057826806,0.005806843376182972,0.005661100879930572,0.005507560602188014,0.005341368887065109,0.0051625466941579105,0.00497279201525524,0.004774248830799147,0.004569009647142838,0.004359063336273086,0.004146304779523175,0.003932531221183006,0.0037193487324055892,0.0035083149288117166,0.003300863567284463,0.0030982893674143573,0.002901709310878022,0.002712049819721452,0.002530045080236935,0.0023562152239259087,0.0021908846364811943,0.002034278074438399,0.001886508258653173,0.0017475551950669214,0.0016173139997486617,0.0014955443159682799,0.0013819779294659414,0.0012762766216830438,0.0011780504623896126,0.0010869160876993981,0.0010024994637971162,0.0009244016093379092,0.0008522094436636416,0.0007855404083583909,0.0007240191628926406,0.0006672755140528895,0.0006149462860653072,0.0005666931006848973,0.0005222852908131069,0.00048132902188758697,0.00044358208418686623,0.00040882299176153367,0.000376772081174275,0.00034729797678299595,0.006317425188193913,0.032550068960171645,0.03585251005854584,0.03699735229605913,0.03754897324274043,0.03791039034986235,0.03820444784945882,0.038476624147905925,0.03874473734603021,0.039015359589413094,0.03928991682756414,0.039567671599257906,0.03984723702466902,0.04012719582587735,0.04040620952948295,0.04068325596715239,0.040957284818595084,0.04122741294712982,0.04149286394944109,0.04175267082384461,0.03600870379611189,0.009997076890173638,0.006909520912609634,0.00597258600032358,0.005621219580972748,0.005451806478078485,0.005341043507039118,0.005243136371135495,0.005140117313053023,0.005025342620095571,0.0048974245072119825,0.00475728026243051,0.004606510074358899,0.004446838734455608,0.004279860783149709,0.004107059153212211,0.003929863208020809,0.0037495341806709098],\"yaxis\":\"y\",\"type\":\"scattergl\"},{\"hovertemplate\":\"Color=test\\u003cbr\\u003eEpoch=%{x}\\u003cbr\\u003eRolling Avg Loss=%{y}\\u003cextra\\u003e\\u003c\\u002fextra\\u003e\",\"legendgroup\":\"1\",\"line\":{\"color\":\"#EF553B\",\"dash\":\"solid\"},\"marker\":{\"symbol\":\"circle\"},\"mode\":\"lines\",\"name\":\"test\",\"showlegend\":true,\"x\":[0,10,20,30,40,50,60,70,80,90,100,110,120,130,140,150,160,170,180,190,200,210,220,230,240,250,260,270,280,290,300,310,320,330,340,350,360,370,380,390,400,410,420,430,440,450,460,470,480,490,500,510,520,530,540,550,560,570,580,590,600,610,620,630,640,650,660,670,680,690,700,710,720,730,740,750,760,770,780,790,800,810,820,830,840,850,860,870,880,890,900,910,920,930,940,950,960,970,980,990,1000,1010,1020,1030,1040,1050,1060,1070,1080,1090,1100,1110,1120,1130,1140,1150,1160,1170,1180,1190,1200,1210,1220,1230,1240,1250,1260,1270,1280,1290,1300,1310,1320,1330,1340,1350,1360,1370,1380,1390,1400,1410,1420,1430,1440,1450,1460,1470,1480,1490,1500,1510,1520,1530,1540,1550,1560,1570,1580,1590,1600,1610,1620,1630,1640,1650,1660,1670,1680,1690,1700,1710,1720,1730,1740,1750,1760,1770,1780,1790,1800,1810,1820,1830,1840,1850,1860,1870,1880,1890,1900,1910,1920,1930,1940,1950,1960,1970,1980,1990,2000,2010,2020,2030,2040,2050,2060,2070,2080,2090,2100,2110,2120,2130,2140,2150,2160,2170,2180,2190,2200,2210,2220,2230,2240,2250,2260,2270,2280,2290,2300,2310,2320,2330,2340,2350,2360,2370,2380,2390,2400,2410,2420,2430,2440,2450,2460,2470,2480,2490,2500,2510,2520,2530,2540,2550,2560,2570,2580,2590,2600,2610,2620,2630,2640,2650,2660,2670,2680,2690,2700,2710,2720,2730,2740,2750,2760,2770,2780,2790,2800,2810,2820,2830,2840,2850,2860,2870,2880,2890,2900,2910,2920,2930,2940,2950,2960,2970,2980,2990,3000,3010,3020,3030,3040,3050,3060,3070,3080,3090,3100,3110,3120,3130,3140,3150,3160,3170,3180,3190,3200,3210,3220,3230,3240,3250,3260,3270,3280,3290,3300,3310,3320,3330,3340,3350,3360,3370,3380,3390,3400,3410,3420,3430,3440,3450,3460,3470,3480,3490,3500,3510,3520,3530,3540,3550,3560,3570,3580,3590,3600,3610,3620,3630,3640,3650,3660,3670,3680,3690,3700,3710,3720,3730,3740,3750,3760,3770,3780,3790,3800,3810,3820,3830,3840,3850,3860,3870,3880,3890,3900,3910,3920,3930,3940,3950,3960,3970,3980,3990,4000,4010,4020,4030,4040,4050,4060,4070,4080,4090,4100,4110,4120,4130,4140,4150,4160,4170,4180,4190,4200,4210,4220,4230,4240,4250,4260,4270,4280,4290,4300,4310,4320,4330,4340,4350,4360,4370,4380,4390,4400,4410,4420,4430,4440,4450,4460,4470,4480,4490,4500,4510,4520,4530,4540,4550,4560,4570,4580,4590,4600,4610,4620,4630,4640,4650,4660,4670,4680,4690,4700,4710,4720,4730,4740,4750,4760,4770,4780,4790,4800,4810,4820,4830,4840,4850,4860,4870,4880,4890,4900,4910,4920,4930,4940,4950,4960,4970,4980,4990,5000,5010,5020,5030,5040,5050,5060,5070,5080,5090,5100,5110,5120,5130,5140,5150,5160,5170,5180,5190,5200,5210,5220,5230,5240,5250,5260,5270,5280,5290,5300,5310,5320,5330,5340,5350,5360,5370,5380,5390,5400,5410,5420,5430,5440,5450,5460,5470,5480,5490,5500,5510,5520,5530,5540,5550,5560,5570,5580,5590,5600,5610,5620,5630,5640,5650,5660,5670,5680,5690,5700,5710,5720,5730,5740,5750,5760,5770,5780,5790,5800,5810,5820,5830,5840,5850,5860,5870,5880,5890,5900,5910,5920,5930,5940,5950,5960,5970,5980,5990],\"xaxis\":\"x\",\"y\":[4.903952652269075,4.770247217012504,4.746137159017013,4.752252292542803,4.785317927024754,4.822061475046413,4.8536173040441435,4.876897701366088,4.886994650349573,4.881949674352818,4.865451298077423,4.843309544403414,4.819349449547577,4.79584355894957,4.773851525608832,4.754138370378033,4.736822075711576,4.722189917208193,4.709891922000872,4.699778815977638,4.690648848310776,4.680587114534956,4.673215458778078,4.664256635347657,4.6496604036099,4.631334618071579,4.611270365214515,4.591193250994393,4.574265441047248,4.563354773694765,4.558716962778209,4.558838874347331,4.562092311492044,4.567361748187705,4.573765965480369,4.580500426226337,4.587054783670291,4.592863704629588,4.597716375418668,4.601440742691041,4.6039060602648965,4.605311524001746,4.605743594836108,4.605196281931252,4.604024361534387,4.602208300285424,4.600081942628525,4.597761947507306,4.595077748327513,4.592304134641899,4.589580026980107,4.5868160005759675,4.593450099555393,4.601598645584515,4.601031762249455,4.597482364945592,4.593136643672942,4.587847643646849,4.581860153802709,4.575431483175471,4.568650149364641,4.561634644819097,4.55457801101177,4.547742630050685,4.541099718716722,4.53473840854728,4.5286082775698615,4.522826991499696,4.517706520322162,4.513028278037086,4.508833945932155,4.505234565068515,4.492940037045019,4.479729737491522,4.475888122371414,4.47567719622016,4.476939870412921,4.479769325694569,4.484014813454176,4.4893852517448805,4.495668733900259,4.502653416441141,4.510137161550128,4.51783124808651,4.525704326820767,4.533677927115149,4.541332265675158,4.548690375857548,4.574913350042843,4.584538755794814,4.586598081974291,4.58190556615765,4.573395651174966,4.561143207140103,4.545844586270833,4.528184546001732,4.508317655707241,4.486356956681575,4.462518023528946,4.436922441199756,4.409767650943091,4.381190512179132,4.35128800641971,4.320377304806787,4.288442976665832,4.255560843536063,4.2220974495896995,4.188048700303312,4.134244880563927,4.096133272035663,4.0646858824344,4.039146872798283,4.016637971035928,3.9970987769692146,3.979858425775433,3.964300588145621,3.950281454999723,3.9421738827619004,3.959022815167239,3.952668579397099,3.9404221851078556,3.9263236714225696,3.9116744309634983,3.895999801046252,3.8795800254944823,3.8626389912783043,3.8451844268427156,3.8271408388047354,3.808508129357001,3.7893729193324486,3.7697802435814727,3.749729373401481,3.7292802152881395,3.7085084506813297,3.6874781635049443,3.6662053863812414,3.6448013206394148,3.618817146169316,3.5690873843359254,3.5437023911977756,3.525266727880938,3.509652769194293,3.49563145026317,3.483337710844803,3.493368907031308,3.5103799310238792,3.5076058148916736,3.5012746311699563,3.4920179647711342,3.4819830955679953,3.471597415896708,3.460707754622374,3.449205778264648,3.4370628673145096,3.424325490924499,3.4109873268709667,3.3970669284642105,3.3826094516870575,3.36763181546556,3.35215127237611,3.336213521660901,3.3198965302384913,3.3030907014347024,3.286097216719863,3.248036076514798,3.203982554547841,3.1807897238429477,3.162278553975187,3.147591836012504,3.1598453755743776,3.168517838497091,3.164458086238105,3.1579627751937442,3.1510686910555012,3.143508376923315,3.1354009057749295,3.12707034771107,3.118491508014286,3.109633805576046,3.1005816813143765,3.0913253024425615,3.0818659299304425,3.072254466125126,3.0624645773729036,3.05251192933681,3.042489217826776,3.032305592685889,3.0219411558666054,3.0116526468362577,2.9761322504428613,2.945499525780426,2.953072986566281,2.957315791052362,2.9541440600416955,2.9501306078664395,2.946417708344348,2.942576994618508,2.938781193402284,2.9349554198798558,2.9309792146670093,2.926843333434996,2.922572060934532,2.9181317047386073,2.913556767401932,2.908854759499617,2.904006661649287,2.8990436585746466,2.893994142293145,2.888852805411448,2.883610671930536,2.878244730179595,2.848726597097124,2.826345980057775,2.8131472492800578,2.8027665444612726,2.793938293980152,2.7867084393243586,2.7809155613042145,2.777098951296743,2.7746172401913527,2.7734988882088363,2.773499598568947,2.7745894533774575,2.7766623878325283,2.7878506158235457,2.8326638573158927,2.8481551191142858,2.8572454838450727,2.8642552216304704,2.8702990397426045,2.874834687186092,2.8777898566935884,2.879361379619686,2.8794944606858457,2.8782445558326013,2.875620877493387,2.8716663911091937,2.866399245321191,2.8593884929860343,2.851321378945783,2.8421616099151112,2.83213502965007,2.821288988244874,2.809685335800208,2.7891642393691196,2.7351828996817162,2.710640082212988,2.692596784921033,2.6767114612362235,2.6618665535031094,2.6485176181885084,2.6367783810108936,2.6263909409985415,2.6174826397210413,2.609952388260479,2.603626180842448,2.598699218688787,2.595010611332187,2.592285208267826,2.59043735726477,2.5965039955188236,2.648979838945305,2.662505504342151,2.6655215739653806,2.664902741060824,2.662424344161991,2.6588588807215627,2.654003048470738,2.6480205701967208,2.640790504723942,2.6324313685857033,2.622929937705499,2.6123206149029152,2.6005765104565386,2.5877582718328798,2.574021396839111,2.5591543285108354,2.543291675658626,2.5267084362694816,2.509454590434277,2.4844791916926763,2.413242446795574,2.3810755092844773,2.3595069661249526,2.341625763225144,2.3255997143057927,2.310614984319321,2.296896983298212,2.284184501768216,2.272613190446221,2.286732863704846,2.301406552746673,2.2986064301948432,2.2913783094368143,2.28196542493253,2.2714146728913307,2.260239458304798,2.248675555000085,2.2369617359261054,2.225028264935856,2.212819582110267,2.2003680052921037,2.1876457957486832,2.1746665658999613,2.1614109710399743,2.1478977130818704,2.1341497789776955,2.120110830917434,2.105854387146165,2.091307102709075,2.0518296577336708,2.0125039206852886,1.9913619746092774,1.9753053388676574,1.9620103457317706,1.9504033763469808,1.939941207313594,1.9303813773474747,1.9213986657873747,1.9130853651167214,1.9053735407279426,1.8982905579165317,1.8917553446569828,1.8857513493886606,1.8802326847351687,1.8751630952286933,1.8705937740311276,1.866429423631883,1.8626452278762349,1.8592663095831747,1.863871976742985,1.9232548316441984,1.9324651546196423,1.9271277491977747,1.9167079544131027,1.9038739295343694,1.8896273424248253,1.8749030839177347,1.8596116704148429,1.8439030789233275,1.8279560136826623,1.8116948632729493,1.7950931547819144,1.7781192596737108,1.7607920952375233,1.7430883831168595,1.724917443626444,1.7063011156784915,1.6872147969088849,1.6676471484878497,1.6399672861736574,1.5573185521634767,1.524633314912592,1.5062593017727846,1.4927210901525254,1.4813212687143837,1.471034446048468,1.46089816828535,1.4510724024698456,1.4413366214939418,1.4315735711227273,1.4217701876301745,1.4120781492419163,1.4024766958891348,1.3930233895257045,1.3836821860136512,1.3745318496760996,1.365586697468955,1.356959059992424,1.3485118971250503,1.3404406204961625,1.3328417295222155,1.3254088518829485,1.3182744968273203,1.3114963024579405,1.3051872263353745,1.2992867371335333,1.2938357481621032,1.2887704981914903,1.2841159775719604,1.280258499042365,1.344269412226124,1.3614267064527394,1.3601890377269745,1.3507765650040124,1.3382770749287851,1.3240505898390773,1.3088304462086313,1.2932267998514302,1.2776603966514826,1.2620110089049392,1.2461937911430319,1.2305184673894727,1.214808438345771,1.1990010884258722,1.1829660545277805,1.1667133655245319,1.1501620215796238,1.133302555717246,1.1160996292689327,1.0981750045204146,1.0124396185794464,0.9735002292754509,0.9529211374908654,0.940418025464897,0.9309507516019033,0.9230800651141816,0.9160929618161399,0.9092445509608946,0.9022428433505616,0.8950608824118416,0.8877210658060818,0.8802272126685692,0.8726195258947562,0.8649406608562552,0.8572301419562643,0.8495279498229357,0.8418953353248257,0.8343526726330708,0.8269404285562406,0.8196527226372452,0.8125177818244418,0.8055796758518722,0.7988592198913793,0.792366164036295,0.786142127990898,0.780176692799331,0.7745325123467082,0.7692511639209287,0.7643037816461457,0.7598070711201284,0.7555963725866129,0.7517852638067758,0.7483933404048468,0.7780159113861874,0.8192660805360528,0.8292925575200937,0.8287204924309819,0.8232392092833972,0.8154559029270229,0.8066376390425661,0.7975268489873426,0.7884183745964282,0.7792833674657906,0.7702503416886571,0.7613106528583755,0.752425731185617,0.7435129245638811,0.7345467044484191,0.7255114855085836,0.7162652461247808,0.7069486820185955,0.6974118165257032,0.6875959952216857,0.6448598151378923,0.5905597961321339,0.5675372142535496,0.555102230307773,0.5475505094582254,0.5422575810882467,0.537956429180594,0.5338817096276129,0.5297135778075548,0.5254544809830364,0.5209886732483787,0.516302194667446,0.5114565730542555,0.5064800912434966,0.5014027348346494,0.49627621321205284,0.49111121022820675,0.4859470328663334,0.4808293579731497,0.4757973793101563,0.4708815721477471,0.46611324208274185,0.4615039283901518,0.45710998493230426,0.4529477450158677,0.449016380485616,0.4453600971340391,0.4419686608563552,0.4388764800288213,0.43610593744376663,0.4336365092183443,0.4315031374197363,0.42968717642266285,0.4282154862130392,0.427084828179314,0.4262603147939259,0.4257512029225232,0.4255421794281198,0.4257345229263666,0.4754899293322636,0.5034840674320583,0.5132520879751697,0.5151413113808488,0.513845797199973,0.510849062598995,0.507097838166647,0.5030388882555399,0.4988226105171097,0.4944829434917669,0.4900196805375991,0.48543550913343614,0.4806660060337544,0.4756951062682485,0.4704812966730014,0.4650047461867899,0.45926858861445824,0.45324720844463223,0.44691759090429606,0.44013410273942055,0.383704731014665,0.34893965416545336,0.33226923646191997,0.3233327849423845,0.3173974641297264,0.31296553306197,0.3090846313367579,0.30526314372566105,0.30136284734638147,0.2973252179840215,0.2931273174415192,0.28877627262916655,0.28430359643342906,0.2797463594694551,0.2751252699152328,0.2704482307716812,0.2657331780862194,0.2610103189780824,0.256327982960148,0.25172110301586165,0.2472092290487918,0.24280755745125704,0.23853462216507648,0.23440950573337146,0.23045445061581663,0.2266810695250472,0.22309716432120047,0.219728421641815,0.21657199003409475,0.21364145405421284,0.21093948497890616,0.2084732195905547,0.20624236815262129,0.20424032649769402,0.20246182823018316,0.20092232241666383,0.19961101530144018,0.198521756228358,0.1976525616668264,0.1969819699645155,0.19653141012543643,0.19627599211538901,0.19621898109776828,0.19638401652404838,0.19671160589531966,0.1972330378248617,0.19796295474002432,0.19888186001559963,0.19999048632135072,0.22924511415383775,0.2730978842752412,0.2910982998267304,0.299907296549299,0.30407419448989675,0.305963072452631,0.30694257080596876,0.3074982717372766,0.3077755142706141,0.30785098906575237,0.30776735444457415,0.30749797361540737,0.30705940002720833,0.30643164374734144,0.30557347704487725,0.3045373175196705,0.3032819142840365,0.3017695427607102,0.29998961724616585,0.29792223669611245,0.26758231227744905,0.22250027104731912,0.2031047102960517,0.19272487300447327,0.1868048858211742,0.18296508157900032,0.17981131335948342,0.17685628910189893,0.17395030227690725,0.17099131326538475,0.16794284151675432,0.16480750646728015,0.16159102921061785,0.15830420951208998,0.15496079843990465,0.15156490385146099,0.14811831142559678,0.14464079505802668],\"yaxis\":\"y\",\"type\":\"scattergl\"},{\"hovertemplate\":\"Color=add loss\\u003cbr\\u003eEpoch=%{x}\\u003cbr\\u003eRolling Avg Loss=%{y}\\u003cextra\\u003e\\u003c\\u002fextra\\u003e\",\"legendgroup\":\"2\",\"line\":{\"color\":\"#00cc96\",\"dash\":\"solid\"},\"marker\":{\"symbol\":\"circle\"},\"mode\":\"lines\",\"name\":\"add loss\",\"showlegend\":true,\"x\":[0,10,20,30,40,50,60,70,80,90,100,110,120,130,140,150,160,170,180,190,200,210,220,230,240,250,260,270,280,290,300,310,320,330,340,350,360,370,380,390,400,410,420,430,440,450,460,470,480,490,500,510,520,530,540,550,560,570,580,590,600,610,620,630,640,650,660,670,680,690,700,710,720,730,740,750,760,770,780,790,800,810,820,830,840,850,860,870,880,890,900,910,920,930,940,950,960,970,980,990,1000,1010,1020,1030,1040,1050,1060,1070,1080,1090,1100,1110,1120,1130,1140,1150,1160,1170,1180,1190,1200,1210,1220,1230,1240,1250,1260,1270,1280,1290,1300,1310,1320,1330,1340,1350,1360,1370,1380,1390,1400,1410,1420,1430,1440,1450,1460,1470,1480,1490,1500,1510,1520,1530,1540,1550,1560,1570,1580,1590,1600,1610,1620,1630,1640,1650,1660,1670,1680,1690,1700,1710,1720,1730,1740,1750,1760,1770,1780,1790,1800,1810,1820,1830,1840,1850,1860,1870,1880,1890,1900,1910,1920,1930,1940,1950,1960,1970,1980,1990,2000,2010,2020,2030,2040,2050,2060,2070,2080,2090,2100,2110,2120,2130,2140,2150,2160,2170,2180,2190,2200,2210,2220,2230,2240,2250,2260,2270,2280,2290,2300,2310,2320,2330,2340,2350,2360,2370,2380,2390,2400,2410,2420,2430,2440,2450,2460,2470,2480,2490,2500,2510,2520,2530,2540,2550,2560,2570,2580,2590,2600,2610,2620,2630,2640,2650,2660,2670,2680,2690,2700,2710,2720,2730,2740,2750,2760,2770,2780,2790,2800,2810,2820,2830,2840,2850,2860,2870,2880,2890,2900,2910,2920,2930,2940,2950,2960,2970,2980,2990,3000,3010,3020,3030,3040,3050,3060,3070,3080,3090,3100,3110,3120,3130,3140,3150,3160,3170,3180,3190,3200,3210,3220,3230,3240,3250,3260,3270,3280,3290,3300,3310,3320,3330,3340,3350,3360,3370,3380,3390,3400,3410,3420,3430,3440,3450,3460,3470,3480,3490,3500,3510,3520,3530,3540,3550,3560,3570,3580,3590,3600,3610,3620,3630,3640,3650,3660,3670,3680,3690,3700,3710,3720,3730,3740,3750,3760,3770,3780,3790,3800,3810,3820,3830,3840,3850,3860,3870,3880,3890,3900,3910,3920,3930,3940,3950,3960,3970,3980,3990,4000,4010,4020,4030,4040,4050,4060,4070,4080,4090,4100,4110,4120,4130,4140,4150,4160,4170,4180,4190,4200,4210,4220,4230,4240,4250,4260,4270,4280,4290,4300,4310,4320,4330,4340,4350,4360,4370,4380,4390,4400,4410,4420,4430,4440,4450,4460,4470,4480,4490,4500,4510,4520,4530,4540,4550,4560,4570,4580,4590,4600,4610,4620,4630,4640,4650,4660,4670,4680,4690,4700,4710,4720,4730,4740,4750,4760,4770,4780,4790,4800,4810,4820,4830,4840,4850,4860,4870,4880,4890,4900,4910,4920,4930,4940,4950,4960,4970,4980,4990,5000,5010,5020,5030,5040,5050,5060,5070,5080,5090,5100,5110,5120,5130,5140,5150,5160,5170,5180,5190,5200,5210,5220,5230,5240,5250,5260,5270,5280,5290,5300,5310,5320,5330,5340,5350,5360,5370,5380,5390,5400,5410,5420,5430,5440,5450,5460,5470,5480,5490,5500,5510,5520,5530,5540,5550,5560,5570,5580,5590,5600,5610,5620,5630,5640,5650,5660,5670,5680,5690,5700,5710,5720,5730,5740,5750,5760,5770,5780,5790,5800,5810,5820,5830,5840,5850,5860,5870,5880,5890,5900,5910,5920,5930,5940,5950,5960,5970,5980,5990],\"xaxis\":\"x\",\"y\":[4.753765920210103,4.76194048279403,4.780872749772132,4.8085079261749915,4.84045525388927,4.86732331263802,4.880194373464145,4.864075789978573,4.813782230013579,4.739211811916715,4.653643852991217,4.564438189159092,4.476276405178192,4.391157908608581,4.3101739560697006,4.2338636792307405,4.162295725515361,4.094733102733166,4.030996954734986,3.970984315588031,3.872377918034695,3.7703949199506015,3.6635747804952814,3.550822126665146,3.4321402419437677,3.3096812763067005,3.187369821288872,3.0732877487708032,2.9743826963427518,2.890656190746772,2.818488068874373,2.755038320215345,2.6980515480507754,2.6458391030428454,2.59723897867239,2.551007119157191,2.5066967641015396,2.464070730450334,2.4227319245584984,2.3826940838844455,2.3432925494462635,2.3047405310292564,2.2670029164792145,2.229844370030812,2.193105670733236,2.157470443892513,2.1220874042562956,2.08715521785667,2.0527634489777844,2.018731456587959,1.9851298881589465,1.9770695493853219,1.9571114267699332,1.9280576201083028,1.8989190692472497,1.869861931874599,1.8410989466181078,1.813322151869788,1.7871762304880412,1.7621336658025857,1.7385942212986414,1.7165252323738898,1.6957323276999798,1.676295112021958,1.6580617577110974,1.6403715206717489,1.6239553324441318,1.6086098876882216,1.5939534942923341,1.5803146146483247,1.567519941635191,1.5305071745029522,1.5063944852525701,1.4924258852849994,1.4795397026072155,1.4675630245223021,1.455995291741686,1.4443464734907465,1.4317161457771117,1.418439736990263,1.4040099344921508,1.3888888737024816,1.3725890176068816,1.3552283264569887,1.3372922191817125,1.3180280010045518,1.2980120644954585,1.334649879219193,1.3282752421575177,1.308562897626547,1.2848090107954604,1.2577824245175322,1.2294571798790022,1.2009467327351238,1.1727243446311197,1.1450329053495616,1.1180755562927398,1.09193187890336,1.0667832465298956,1.0422428889628796,1.0188122922549163,0.9958833630582509,0.9739624170963586,0.9528731801644957,0.932159473949904,0.9125005589301471,0.8933390861295211,0.8171960539834611,0.783681153087757,0.7631263816608624,0.746276696675711,0.7323885791949495,0.7195171665647154,0.7066059358093966,0.6931589411482537,0.6790074494165401,0.6656111553366589,0.670661464050053,0.6623796743652381,0.647677788462076,0.6306537619145102,0.6124234444254575,0.593392343777013,0.5743746190464963,0.5557189041200344,0.5375294004712384,0.5198856113536208,0.5028359646903126,0.486387500482401,0.47052947669504774,0.4552154573974597,0.4403709954050199,0.4260170732104018,0.4121663036719344,0.3987572549675604,0.3859056910256139,0.37188717276653943,0.3389353461595087,0.3188875676706086,0.3049202353408643,0.2929707921118293,0.2822020129752104,0.2720122235292525,0.36697026486713213,0.3790411686774584,0.38025765325041877,0.3754858243910192,0.36806467643464214,0.35935068215907734,0.35020590728983086,0.34106986571378567,0.33219893736404527,0.32367346872294755,0.3155417331162099,0.3078361375790676,0.3005441022722796,0.2936870285051026,0.28722769875660176,0.281147470791124,0.2754477962750467,0.2701684009504862,0.26510126061660955,0.26049205534027586,0.15106500993765806,0.1246057088032605,0.10907908215815591,0.09960632244499099,0.09282993122930996,0.1341132197525058,0.14268936241987154,0.1447497574366023,0.14401152730067476,0.142208385942788,0.13993941465185,0.13748480230934987,0.13502440574013463,0.13266982923163195,0.13044691581252196,0.1283588611248018,0.1264128930056561,0.12460519234155323,0.12293083320348741,0.12139524749213311,0.11999449641395783,0.11869791633962412,0.11748033164219765,0.11633891751349248,0.11534232491935292,0.06784675495067957,0.05380299066271197,0.0755470262056371,0.08010434948842918,0.08102446345564764,0.08069814134260865,0.07991416762203485,0.07898258261001141,0.07799645537641392,0.07702031323684834,0.07608796663325777,0.07520481119270196,0.07437032602521165,0.07358498590274101,0.07284840737149711,0.07216097428921699,0.07152388016039103,0.0709270205604736,0.07036787324197712,0.06984144181944225,0.06935130205002953,0.06888613536225044,0.03954794096468058,0.03041468033069116,0.026156584370367414,0.023753290006965917,0.022131809152714434,0.02082744248493265,0.01965656641078378,0.01858051658906636,0.017519276689572476,0.01646037900865537,0.015418091993302527,0.014406434506532914,0.013433448795233796,0.012609030492474818,0.027609028589075206,0.03499501922473286,0.03756670933367295,0.03888789387005485,0.03969538288057086,0.04029084992643685,0.040814850844463714,0.04133428650348171,0.0418575682546063,0.04238966734375263,0.04292276655076069,0.043448419618746015,0.043959080279203235,0.04442199406127055,0.044879519200347974,0.04533523082768335,0.0457815916532077,0.046208551994352726,0.046612883570134385,0.04688989024218844,0.0313661566379186,0.02348380559667652,0.020444029102527676,0.01868500872166204,0.01746827028882299,0.01649182850052728,0.01561409142132287,0.014767418247941205,0.013940691347349246,0.013130039208478106,0.012335941752681,0.011570796742072748,0.01084082704841356,0.010133074910679532,0.009454061541109685,0.00886438996280612,0.02439253502610078,0.03161203986381823,0.03476182188077472,0.036421878056633473,0.037473749125562214,0.038281308440009196,0.03899280788180719,0.03966552373550832,0.04033169867031204,0.040998269192914785,0.0416637574297945,0.04232315531108613,0.04297112862314527,0.043602988355311824,0.04421659546118001,0.04480440557052976,0.0453620339660055,0.04590448867499071,0.046426255220411425,0.046868267416683033,0.031200823736017617,0.023851265094299114,0.02058038599446743,0.018807522939860315,0.017651775608713942,0.01674856140647648,0.015950207595829387,0.015197966025248777,0.014459882643046932,0.04745762353673016,0.05488752779531088,0.05738878244804052,0.05842427527354292,0.05881284587910642,0.058957215811779526,0.05902911975879717,0.05909182012401456,0.05916536954146047,0.05925866155884726,0.05937136196269682,0.0594998968209451,0.05963925343509265,0.05978464314636263,0.05993239702530724,0.06007953276765308,0.06022576626840999,0.06036725916828219,0.06050269905436621,0.06063083188674197,0.027022199707607848,0.018981228244324223,0.01587315029271503,0.014238873008106792,0.013264498877411454,0.01255181234069191,0.011931169922393615,0.011341280867493036,0.010761475034394712,0.010185675464795626,0.009613019015966808,0.009048960986398012,0.008498515710369855,0.00796464469295841,0.007450723234352692,0.006958834566195657,0.0064906024645898855,0.0060464914089757875,0.005627515615177913,0.005232933431410099,0.004888559947582962,0.018980911081954984,0.024329052885832904,0.026938408844308592,0.02843554041647787,0.029459341812037604,0.030276598869298888,0.031011153948045007,0.03171552313577976,0.03240127664471558,0.033076091103325614,0.03373858903116691,0.034384916951550173,0.03501377092469341,0.03562213000529778,0.036206356161455136,0.03676337426050382,0.03729408641239122,0.037798296964649945,0.038276107163437954,0.03870040243409541,0.02468438144192541,0.01940930762489866,0.016871284813697412,0.015442898801433342,0.014485125328784366,0.013731854945537173,0.013057988319111128,0.012412619724437185,0.011782096093300292,0.011160559435601167,0.010548198316638434,0.009948476606059494,0.009363839839260962,0.008798311617140033,0.008254099159028359,0.007734004925475216,0.007237544074020002,0.006766330998238301,0.006319192110431848,0.005898027752509267,0.0055051040041498266,0.005135044464212372,0.004785636531721867,0.0044567457039651846,0.0041490743105442466,0.003860384106813785,0.0035907496861210452,0.003338514268868545,0.003103067889086459,0.0028843136702226433,0.020256449322312235,0.025713562457640636,0.02804506187128371,0.029268435164711865,0.030033375475285323,0.030633213786188544,0.031173110721944647,0.031685822023740345,0.032188635459100425,0.03268435029577553,0.033171038691675384,0.03365200980184369,0.03412519128454512,0.034588053215584454,0.03503747015563437,0.03547269077750155,0.035892041909849993,0.0362941770275305,0.036678866541974,0.03704450774262448,0.019815739081119547,0.01449710060665132,0.012298894925209077,0.011202145247073993,0.01055841354008314,0.010073662043018515,0.009643381924763536,0.009233280382269613,0.008827690829881659,0.00842246795925547,0.008017287285716632,0.007613578872416685,0.007214061468870969,0.006820771617657867,0.006435587989281353,0.006060049920343108,0.005695726574884683,0.005344049369602565,0.005006179774336457,0.004682518405934732,0.004374139992551648,0.0040814489896833445,0.0038044729294083174,0.0035430639309976322,0.003296657066951844,0.003064822173575785,0.0028471277174092775,0.002643278546725525,0.0024524934971060274,0.002274610958440208,0.0021084363433081206,0.001953560138694914,0.0018094670214250624,0.029009334834533357,0.03468425965392078,0.03696819886939132,0.03801899864549492,0.03863923381931435,0.039097370115442356,0.03949489414793621,0.039867111681543804,0.040235297641032675,0.04060603972094569,0.040979635406653066,0.0413544093836931,0.041728038863529646,0.04209888693411511,0.04246490007062319,0.04282510906103706,0.04317760133651228,0.04352159966104997,0.043855831663086,0.044179353371015286,0.017157496758500444,0.011657704007884215,0.00954451433266692,0.008658998465090207,0.008197883048178702,0.007891779346773313,0.007639213369717507,0.007404195808896813,0.007165852670573748,0.006917442532128689,0.006658544479628633,0.006390981587878914,0.006117538198635012,0.00584012633797093,0.005560994085591198,0.005281636407711489,0.005003937786733626,0.004729649874838438,0.0044600352385122085,0.004196530519881862,0.003940207025040902,0.0036922891849557092,0.003453980174077985,0.003225949096042658,0.0030087660886843094,0.0028027689019666383,0.0026080280164434066,0.002424745429214953,0.0022521837213395966,0.0020905129501491834,0.0019393886137990795,0.0017984822160562546,0.0016670453801378362,0.0015447606854320642,0.001431077428608634,0.0013256112332768652,0.0012276947484994136,0.0011368763971355133,0.001052964141227656,0.016388158015940252,0.019262939341255215,0.020757722075192508,0.021481938071686933,0.021974868937381972,0.022358330100848416,0.022698726344299775,0.023026992252809624,0.023350923804587653,0.023673692643729462,0.023994611887637962,0.02431232290393833,0.024625630126062677,0.024933305316591235,0.025234172391855388,0.025527751468333658,0.025813282805662953,0.026090115629535636,0.02635763116248809,0.026615327982466873,0.011450056299317866,0.008740855881004091,0.00740623298082482,0.006835998085102492,0.006490614270526494,0.006247810113010651,0.006041158463365454,0.005839602240012277,0.00563509969858318,0.00542485838161112,0.005209409844207277,0.004990453976023142,0.00476945876052065,0.0045479759175125175,0.0043273021541982756,0.0041083992201482716,0.003892162908553554,0.003679639721500265,0.0034717487291169025,0.003269080375160092,0.0030722360236575086,0.002881742363733922,0.0026984739627474,0.002522910279517917,0.0023553762853858154,0.002196078664888996,0.002045122861883258,0.0019025191953091717,0.001768194282760593,0.0016419665261246913,0.0015236535626592666,0.0014130422281917899,0.001309743720291243,0.0012134640398131903,0.001123901714015557,0.0010405621665036042,0.0009631900350031714,0.0008914420222233951,0.0008248960507874521,0.0007632911389492594,0.0007062216782695126,0.0006534074663858229,0.0006045224911133665,0.0005593499130324244,0.0005175429182862455,0.00047886784836973114,0.0004431314812080681,0.0004099455011189462,0.00037936738900274416,0.034154179630408794,0.038618022560574866,0.04040169066615722,0.04130362653812417,0.041860939669114854,0.04227142721206755,0.0426284887899054,0.04296201129484199,0.04328696775338573,0.043608930684110814,0.04392792471180235,0.04424346687507018,0.044554499329202815,0.044860201165493024,0.045159522932056474,0.045451745457508394,0.04573604797795465,0.04601187782527263,0.046279219209168936,0.04653775473979626,0.01298421021591826,0.008734815222758367,0.00715852264342705,0.006456686784988735,0.006091773421049813,0.005865537964465481,0.005684341266659459,0.005518102667655511,0.005351816452926222,0.005179805275070316,0.00500225165427597,0.004819808864538984,0.004633687213856495,0.004444991587622045,0.004254980151175028,0.0040647760537389855,0.0038755002747062352,0.003688026656776091,0.0035028989379718165],\"yaxis\":\"y\",\"type\":\"scattergl\"},{\"hovertemplate\":\"Color=multi loss\\u003cbr\\u003eEpoch=%{x}\\u003cbr\\u003eRolling Avg Loss=%{y}\\u003cextra\\u003e\\u003c\\u002fextra\\u003e\",\"legendgroup\":\"3\",\"line\":{\"color\":\"#ab63fa\",\"dash\":\"solid\"},\"marker\":{\"symbol\":\"circle\"},\"mode\":\"lines\",\"name\":\"multi loss\",\"showlegend\":true,\"x\":[0,10,20,30,40,50,60,70,80,90,100,110,120,130,140,150,160,170,180,190,200,210,220,230,240,250,260,270,280,290,300,310,320,330,340,350,360,370,380,390,400,410,420,430,440,450,460,470,480,490,500,510,520,530,540,550,560,570,580,590,600,610,620,630,640,650,660,670,680,690,700,710,720,730,740,750,760,770,780,790,800,810,820,830,840,850,860,870,880,890,900,910,920,930,940,950,960,970,980,990,1000,1010,1020,1030,1040,1050,1060,1070,1080,1090,1100,1110,1120,1130,1140,1150,1160,1170,1180,1190,1200,1210,1220,1230,1240,1250,1260,1270,1280,1290,1300,1310,1320,1330,1340,1350,1360,1370,1380,1390,1400,1410,1420,1430,1440,1450,1460,1470,1480,1490,1500,1510,1520,1530,1540,1550,1560,1570,1580,1590,1600,1610,1620,1630,1640,1650,1660,1670,1680,1690,1700,1710,1720,1730,1740,1750,1760,1770,1780,1790,1800,1810,1820,1830,1840,1850,1860,1870,1880,1890,1900,1910,1920,1930,1940,1950,1960,1970,1980,1990,2000,2010,2020,2030,2040,2050,2060,2070,2080,2090,2100,2110,2120,2130,2140,2150,2160,2170,2180,2190,2200,2210,2220,2230,2240,2250,2260,2270,2280,2290,2300,2310,2320,2330,2340,2350,2360,2370,2380,2390,2400,2410,2420,2430,2440,2450,2460,2470,2480,2490,2500,2510,2520,2530,2540,2550,2560,2570,2580,2590,2600,2610,2620,2630,2640,2650,2660,2670,2680,2690,2700,2710,2720,2730,2740,2750,2760,2770,2780,2790,2800,2810,2820,2830,2840,2850,2860,2870,2880,2890,2900,2910,2920,2930,2940,2950,2960,2970,2980,2990,3000,3010,3020,3030,3040,3050,3060,3070,3080,3090,3100,3110,3120,3130,3140,3150,3160,3170,3180,3190,3200,3210,3220,3230,3240,3250,3260,3270,3280,3290,3300,3310,3320,3330,3340,3350,3360,3370,3380,3390,3400,3410,3420,3430,3440,3450,3460,3470,3480,3490,3500,3510,3520,3530,3540,3550,3560,3570,3580,3590,3600,3610,3620,3630,3640,3650,3660,3670,3680,3690,3700,3710,3720,3730,3740,3750,3760,3770,3780,3790,3800,3810,3820,3830,3840,3850,3860,3870,3880,3890,3900,3910,3920,3930,3940,3950,3960,3970,3980,3990,4000,4010,4020,4030,4040,4050,4060,4070,4080,4090,4100,4110,4120,4130,4140,4150,4160,4170,4180,4190,4200,4210,4220,4230,4240,4250,4260,4270,4280,4290,4300,4310,4320,4330,4340,4350,4360,4370,4380,4390,4400,4410,4420,4430,4440,4450,4460,4470,4480,4490,4500,4510,4520,4530,4540,4550,4560,4570,4580,4590,4600,4610,4620,4630,4640,4650,4660,4670,4680,4690,4700,4710,4720,4730,4740,4750,4760,4770,4780,4790,4800,4810,4820,4830,4840,4850,4860,4870,4880,4890,4900,4910,4920,4930,4940,4950,4960,4970,4980,4990,5000,5010,5020,5030,5040,5050,5060,5070,5080,5090,5100,5110,5120,5130,5140,5150,5160,5170,5180,5190,5200,5210,5220,5230,5240,5250,5260,5270,5280,5290,5300,5310,5320,5330,5340,5350,5360,5370,5380,5390,5400,5410,5420,5430,5440,5450,5460,5470,5480,5490,5500,5510,5520,5530,5540,5550,5560,5570,5580,5590,5600,5610,5620,5630,5640,5650,5660,5670,5680,5690,5700,5710,5720,5730,5740,5750,5760,5770,5780,5790,5800,5810,5820,5830,5840,5850,5860,5870,5880,5890,5900,5910,5920,5930,5940,5950,5960,5970,5980,5990],\"xaxis\":\"x\",\"y\":[4.707767071682625,4.68550420740141,4.721809583574714,4.782229791934895,4.829105850862325,4.865807967622877,4.893625249970464,4.918718563182835,4.947363611121402,4.981203854602812,5.018611034049013,5.057424047552827,5.097745619336863,5.139015906071127,5.181038111801093,5.2237981227591215,5.267707333482712,5.311814334408121,5.356806173465763,5.4017392531865855,5.483356952252958,5.571300874500179,5.6563458617022375,5.736255592891861,5.816641291052669,5.897907196707321,5.981110666722494,6.064980130111347,6.146669259514016,6.225050092404083,6.299688097679988,6.371569107090663,6.440152020143733,6.50572396464464,6.567789927945441,6.626651623977693,6.682111702851836,6.733852892440604,6.781542466925582,6.825965758543245,6.867495594574569,6.906158036235576,6.942389031213845,6.976853513145184,7.009272725659156,7.04129238986484,7.072024778125387,7.101463431276021,7.130690441391302,7.159034595688475,7.187314975740755,7.226529662741655,7.253715551562704,7.277396570508699,7.299172126752124,7.319035484431216,7.336213864976064,7.351447835425404,7.364597608945944,7.375742638530246,7.385224748598171,7.393431445458309,7.400677077204351,7.4069481278981,7.412963998292208,7.417966877739339,7.423054160534887,7.428559211544891,7.433931010818031,7.439705039271641,7.445666030902788,7.440636350814854,7.447842723175933,7.458710865517328,7.472163321240638,7.487730882590325,7.5059725987083,7.527184578706011,7.551129030975131,7.577790322105651,7.60647180640611,7.6370771710697785,7.6690091319029605,7.7020527811924735,7.736068766606668,7.7704921062282235,7.805219143501475,7.860895065713102,7.879596607568223,7.897969225893041,7.9094929361598245,7.916700978721312,7.918180388938225,7.914316665090884,7.9056227338679435,7.892058145346333,7.8737639414185,7.8508878189756555,7.8237884683741425,7.792721287152712,7.758157201922751,7.7201923798040015,7.679489856235716,7.636174710646375,7.590399979479287,7.542636553910585,7.493109757669204,7.4211432144406375,7.384748214169273,7.347302893717192,7.3153572480814875,7.286365736682559,7.2620004719234945,7.241919718825903,7.225112332017993,7.212508405695348,7.212803635855013,7.208985620145984,7.198071565699645,7.185954046814112,7.174549667737575,7.16286460071977,7.149834456609396,7.135617635691924,7.120021945912818,7.102927274761797,7.084037112196727,7.063464305465328,7.041287702545195,7.01758685197111,6.992507028737083,6.9662874592105,6.938865026763667,6.910275198757143,6.881262203742059,6.850981392674049,6.810815141111204,6.777566707210492,6.753969041895441,6.733903844426585,6.715724588109772,6.699090711214081,6.685637276533437,6.770376787196028,6.754691642902571,6.747050065847285,6.736146111939561,6.724508234375728,6.712542366608875,6.700659722205209,6.687574572618776,6.673011482598655,6.656831811087327,6.63909982686895,6.619679442153131,6.598804368416332,6.57636089673152,6.552556894643618,6.5274576889959945,6.501209887632356,6.473338083436912,6.445210258309115,6.415897478325462,6.290180083328332,6.266856899475139,6.238038437379677,6.213742241812507,6.19227698578776,6.220047399304216,6.21403936683892,6.200204232039621,6.187929757914276,6.175398659631847,6.162015322920755,6.1480682048631,6.13367055760987,6.118700006061222,6.103035176421729,6.086868256919491,6.070130175212851,6.0529600178486,6.035246630962504,6.0171178629598625,5.998618386183216,5.979871752698481,5.960194519264665,5.941025375912982,5.921482660499944,5.854775719514434,5.82299274918635,5.845251182273498,5.8382392406008945,5.8297123736364735,5.822437144102697,5.815659607214931,5.808935476413975,5.802330316257079,5.795608395676856,5.788475949125972,5.780993212592796,5.773159657114698,5.7649541354940075,5.7564571206169655,5.7476927622653395,5.738479314673243,5.729084783512065,5.719529981357314,5.709700545292376,5.699555928806496,5.689445893959208,5.635571721622187,5.611766668701966,5.592457427671828,5.575150886774908,5.5605638947498655,5.548302839089603,5.5391790493471325,5.534416695590618,5.531650457783454,5.5314379932307745,5.533053896148417,5.537092182758772,5.5427511473087385,5.56500238968594,5.58814457270981,5.6052813626910645,5.619120203598698,5.6311357077991016,5.641468894836996,5.648624673259723,5.652981126913713,5.65473264454384,5.653372316800909,5.649343078238472,5.642381319103711,5.633169009573062,5.62093627945443,5.604833193860658,5.587298120377804,5.567726062045276,5.546859421649642,5.524019778592187,5.499977960346578,5.45978627625257,5.419014618936323,5.384191945205203,5.353092048711445,5.323995688749019,5.2962028939688235,5.272130609646363,5.250245617082092,5.231795491973119,5.2157050457943965,5.201940910195094,5.190871413814018,5.182569624393133,5.1767808179261126,5.1728679882114275,5.170555580254585,5.18102449252231,5.206749016139542,5.220290355004641,5.21904324937422,5.214745601564085,5.207948387396613,5.199106069505495,5.187826743870067,5.174184225520592,5.158442609016623,5.1399875016250665,5.119776171845842,5.096603721111568,5.07181954114918,5.045260189024061,5.016572317448925,4.985633767634067,4.952644457317379,4.918287642921002,4.882706664143931,4.834662409532877,4.77160546116873,4.72104442136669,4.685477190664516,4.652837031095737,4.622732581656606,4.594929309243465,4.568842612550049,4.544914122835573,4.523245690571454,4.602254904097276,4.607410669935011,4.595044888283672,4.577394735420087,4.557269438736093,4.53552063171593,4.512660614504908,4.489367563773032,4.4657046887974365,4.441547253438342,4.416873009394281,4.391685829655917,4.36590329229194,4.3395398280570685,4.312699150871077,4.285263479043673,4.2572034509386425,4.228933338039809,4.20011961543147,4.170766991736083,4.042148769990196,3.9888462611253104,3.954384877337121,3.92658323114298,3.9023060220080774,3.8806189136943687,3.8612008693591506,3.8430492865329575,3.8261205600223156,3.810466899235793,3.796191942375586,3.7831449927687295,3.771039040478005,3.7598802386310375,3.749749504982198,3.7404665241237063,3.7318144157902977,3.7242159251248097,3.717198516077654,3.7111054921201037,3.7179934386709603,3.751092265509778,3.7510753658049523,3.732197414182316,3.7084530479435225,3.6804919112374916,3.650639117161023,3.620194848220374,3.588500824656427,3.5562747100680787,3.523377907389545,3.4898043331476307,3.4556625290281637,3.4208711645991734,3.385286095022657,3.3489573659459304,3.312043389825567,3.273932824660317,3.235074548476162,3.195112637996075,3.141862540085344,3.0619941105134645,3.014866888621955,2.985993555434851,2.9615297076271925,2.9408340441604373,2.9212255526411424,2.9018302547101658,2.88295931635406,2.8640976101620814,2.8450810518811065,2.8261058942828514,2.8074962934479886,2.7888238029284995,2.770294311915311,2.7521748696949233,2.7342603907954306,2.7170080281299596,2.7000818212755,2.683838257396136,2.6684358793371477,2.6529048473076684,2.6387058788837825,2.6249728147505142,2.611952378364914,2.599701568954312,2.588835016934846,2.578095003945324,2.5682766836246733,2.559554662663248,2.5532428733886183,2.609469540090586,2.621604387571071,2.6084926375536988,2.58598005089461,2.5588662373743922,2.5291001675241978,2.4977784980120936,2.466309892295177,2.434664473653385,2.402754585616273,2.371581958645172,2.3396351349345292,2.3077244389960643,2.275633368810899,2.2431799066537086,2.20973993313106,2.1763284606111046,2.1422422045052016,2.1071453962268287,2.069870516008261,1.9700661182336323,1.9140926211863583,1.88351482886883,1.8623015372956466,1.845374030280982,1.8310258291918338,1.8177330638121483,1.804384008584774,1.790657689338694,1.7765812266078846,1.7621876599879958,1.7475386558412649,1.7326264272638177,1.7176182983519666,1.702644943083466,1.6875989038766512,1.6727683699880314,1.6581734970924127,1.6437007951394915,1.6295875392699457,1.6156193691711453,1.6022575658466565,1.5891321388468964,1.5766483415237005,1.5645195507125274,1.5532451876942717,1.5424268223811646,1.5324182492926963,1.522924101768611,1.5140591471904041,1.5060024042012108,1.4987459185328733,1.4924719117513878,1.700993482252704,1.736338964561411,1.744114227249883,1.7374991548301204,1.723457582217571,1.7065405926083934,1.6880470457992065,1.6696086496435236,1.6509047056902673,1.632419144512601,1.6140008032712003,1.5959183755705344,1.577550266599728,1.5593315955911846,1.5408830320717075,1.5224051587628655,1.5037864937157663,1.484747073755002,1.4652166424785578,1.445012431651608,1.2101449178734849,1.1485078534117275,1.11462105403923,1.0950381030312155,1.0827672686826684,1.0734313795987025,1.065445613656618,1.0574493146555044,1.0493162300771988,1.0409423878410773,1.0320873794165402,1.022839118362059,1.013331584436021,1.0035936757658641,0.9936715337950032,0.9836458387845189,0.97358820308897,0.9635589965234205,0.9536185754332592,0.9438903008396048,0.9343945748490109,0.9251879156184935,0.9164287986875097,0.9079947978827319,0.9000471162589607,0.8925430577357115,0.8855784249086227,0.8792345623948442,0.8734505914992493,0.8683910034345301,0.8637952230751663,0.859927318059678,0.8566479481528431,0.8540172848097045,0.852145882581832,0.8509968716484098,0.8502386325826004,0.8501067873384178,0.851203719739901,0.9310594583705317,0.965385402911606,0.9752229626764594,0.9753568723226114,0.9707041916827244,0.963563286847991,0.955447832755093,0.9469069441452158,0.9380161043105508,0.9289177475111838,0.9194823223641782,0.9099343729924281,0.8999249157133115,0.8895253691791275,0.878646443860186,0.8671661951675912,0.8550719144217235,0.8425811326428645,0.8294296991558822,0.8149504165377077,0.7215116943151322,0.6734122606895798,0.649529693235058,0.6349520133630046,0.6248822508039277,0.6168874810055217,0.6094717477001796,0.6019992645325324,0.5943143166494222,0.5863519143889732,0.5780625786708963,0.5694834125939237,0.5606878467479476,0.5517484487902005,0.5426936940351145,0.5335443166809286,0.5243230043599596,0.5151307689553735,0.506019075839212,0.497047437601945,0.4882808885139799,0.47975470692282285,0.47152023781068725,0.4635828444085573,0.45595132914733816,0.4486530495649035,0.44177749503233255,0.4353868245686172,0.42935578304381483,0.42372352184694123,0.4186018836096059,0.4139962505044674,0.4097565672297903,0.4060019491383132,0.40276444536352896,0.3998549868329041,0.3974464442658128,0.39559222390904003,0.39404417371299716,0.39300232870907675,0.39220214957137245,0.3919631988625438,0.3920358815449783,0.39234982151703746,0.3931810593755528,0.3944276027903764,0.3963057266169744,0.3981640187299394,0.40058831954230467,0.5474821344579327,0.6052386632472442,0.6308403845485896,0.643449360788625,0.6489690695806389,0.6513767660442605,0.6526694311156243,0.6532120959640267,0.6531713007398745,0.6528978993631022,0.6522219556199828,0.6513609998983261,0.6499618358468481,0.6482310170685543,0.6462415134558276,0.6437484600663017,0.6408010574254637,0.6370706623773906,0.633141461334475,0.62849676266832,0.47916749903178946,0.41861917614498134,0.3898451938976293,0.37381922246868743,0.364464577127551,0.35774509867238535,0.35182677479769797,0.34616696977783146,0.340498981837479,0.3346991258300881,0.3287125531329754,0.32256737203611713,0.31626385115738903,0.30983721439321465,0.303296210793021,0.296653117634097,0.28991599639260013,0.28313296666829374,0.2763490555223029],\"yaxis\":\"y\",\"type\":\"scattergl\"}],                        {\"template\":{\"data\":{\"histogram2dcontour\":[{\"type\":\"histogram2dcontour\",\"colorbar\":{\"outlinewidth\":0,\"ticks\":\"\"},\"colorscale\":[[0.0,\"#0d0887\"],[0.1111111111111111,\"#46039f\"],[0.2222222222222222,\"#7201a8\"],[0.3333333333333333,\"#9c179e\"],[0.4444444444444444,\"#bd3786\"],[0.5555555555555556,\"#d8576b\"],[0.6666666666666666,\"#ed7953\"],[0.7777777777777778,\"#fb9f3a\"],[0.8888888888888888,\"#fdca26\"],[1.0,\"#f0f921\"]]}],\"choropleth\":[{\"type\":\"choropleth\",\"colorbar\":{\"outlinewidth\":0,\"ticks\":\"\"}}],\"histogram2d\":[{\"type\":\"histogram2d\",\"colorbar\":{\"outlinewidth\":0,\"ticks\":\"\"},\"colorscale\":[[0.0,\"#0d0887\"],[0.1111111111111111,\"#46039f\"],[0.2222222222222222,\"#7201a8\"],[0.3333333333333333,\"#9c179e\"],[0.4444444444444444,\"#bd3786\"],[0.5555555555555556,\"#d8576b\"],[0.6666666666666666,\"#ed7953\"],[0.7777777777777778,\"#fb9f3a\"],[0.8888888888888888,\"#fdca26\"],[1.0,\"#f0f921\"]]}],\"heatmap\":[{\"type\":\"heatmap\",\"colorbar\":{\"outlinewidth\":0,\"ticks\":\"\"},\"colorscale\":[[0.0,\"#0d0887\"],[0.1111111111111111,\"#46039f\"],[0.2222222222222222,\"#7201a8\"],[0.3333333333333333,\"#9c179e\"],[0.4444444444444444,\"#bd3786\"],[0.5555555555555556,\"#d8576b\"],[0.6666666666666666,\"#ed7953\"],[0.7777777777777778,\"#fb9f3a\"],[0.8888888888888888,\"#fdca26\"],[1.0,\"#f0f921\"]]}],\"heatmapgl\":[{\"type\":\"heatmapgl\",\"colorbar\":{\"outlinewidth\":0,\"ticks\":\"\"},\"colorscale\":[[0.0,\"#0d0887\"],[0.1111111111111111,\"#46039f\"],[0.2222222222222222,\"#7201a8\"],[0.3333333333333333,\"#9c179e\"],[0.4444444444444444,\"#bd3786\"],[0.5555555555555556,\"#d8576b\"],[0.6666666666666666,\"#ed7953\"],[0.7777777777777778,\"#fb9f3a\"],[0.8888888888888888,\"#fdca26\"],[1.0,\"#f0f921\"]]}],\"contourcarpet\":[{\"type\":\"contourcarpet\",\"colorbar\":{\"outlinewidth\":0,\"ticks\":\"\"}}],\"contour\":[{\"type\":\"contour\",\"colorbar\":{\"outlinewidth\":0,\"ticks\":\"\"},\"colorscale\":[[0.0,\"#0d0887\"],[0.1111111111111111,\"#46039f\"],[0.2222222222222222,\"#7201a8\"],[0.3333333333333333,\"#9c179e\"],[0.4444444444444444,\"#bd3786\"],[0.5555555555555556,\"#d8576b\"],[0.6666666666666666,\"#ed7953\"],[0.7777777777777778,\"#fb9f3a\"],[0.8888888888888888,\"#fdca26\"],[1.0,\"#f0f921\"]]}],\"surface\":[{\"type\":\"surface\",\"colorbar\":{\"outlinewidth\":0,\"ticks\":\"\"},\"colorscale\":[[0.0,\"#0d0887\"],[0.1111111111111111,\"#46039f\"],[0.2222222222222222,\"#7201a8\"],[0.3333333333333333,\"#9c179e\"],[0.4444444444444444,\"#bd3786\"],[0.5555555555555556,\"#d8576b\"],[0.6666666666666666,\"#ed7953\"],[0.7777777777777778,\"#fb9f3a\"],[0.8888888888888888,\"#fdca26\"],[1.0,\"#f0f921\"]]}],\"mesh3d\":[{\"type\":\"mesh3d\",\"colorbar\":{\"outlinewidth\":0,\"ticks\":\"\"}}],\"scatter\":[{\"fillpattern\":{\"fillmode\":\"overlay\",\"size\":10,\"solidity\":0.2},\"type\":\"scatter\"}],\"parcoords\":[{\"type\":\"parcoords\",\"line\":{\"colorbar\":{\"outlinewidth\":0,\"ticks\":\"\"}}}],\"scatterpolargl\":[{\"type\":\"scatterpolargl\",\"marker\":{\"colorbar\":{\"outlinewidth\":0,\"ticks\":\"\"}}}],\"bar\":[{\"error_x\":{\"color\":\"#2a3f5f\"},\"error_y\":{\"color\":\"#2a3f5f\"},\"marker\":{\"line\":{\"color\":\"#E5ECF6\",\"width\":0.5},\"pattern\":{\"fillmode\":\"overlay\",\"size\":10,\"solidity\":0.2}},\"type\":\"bar\"}],\"scattergeo\":[{\"type\":\"scattergeo\",\"marker\":{\"colorbar\":{\"outlinewidth\":0,\"ticks\":\"\"}}}],\"scatterpolar\":[{\"type\":\"scatterpolar\",\"marker\":{\"colorbar\":{\"outlinewidth\":0,\"ticks\":\"\"}}}],\"histogram\":[{\"marker\":{\"pattern\":{\"fillmode\":\"overlay\",\"size\":10,\"solidity\":0.2}},\"type\":\"histogram\"}],\"scattergl\":[{\"type\":\"scattergl\",\"marker\":{\"colorbar\":{\"outlinewidth\":0,\"ticks\":\"\"}}}],\"scatter3d\":[{\"type\":\"scatter3d\",\"line\":{\"colorbar\":{\"outlinewidth\":0,\"ticks\":\"\"}},\"marker\":{\"colorbar\":{\"outlinewidth\":0,\"ticks\":\"\"}}}],\"scattermapbox\":[{\"type\":\"scattermapbox\",\"marker\":{\"colorbar\":{\"outlinewidth\":0,\"ticks\":\"\"}}}],\"scatterternary\":[{\"type\":\"scatterternary\",\"marker\":{\"colorbar\":{\"outlinewidth\":0,\"ticks\":\"\"}}}],\"scattercarpet\":[{\"type\":\"scattercarpet\",\"marker\":{\"colorbar\":{\"outlinewidth\":0,\"ticks\":\"\"}}}],\"carpet\":[{\"aaxis\":{\"endlinecolor\":\"#2a3f5f\",\"gridcolor\":\"white\",\"linecolor\":\"white\",\"minorgridcolor\":\"white\",\"startlinecolor\":\"#2a3f5f\"},\"baxis\":{\"endlinecolor\":\"#2a3f5f\",\"gridcolor\":\"white\",\"linecolor\":\"white\",\"minorgridcolor\":\"white\",\"startlinecolor\":\"#2a3f5f\"},\"type\":\"carpet\"}],\"table\":[{\"cells\":{\"fill\":{\"color\":\"#EBF0F8\"},\"line\":{\"color\":\"white\"}},\"header\":{\"fill\":{\"color\":\"#C8D4E3\"},\"line\":{\"color\":\"white\"}},\"type\":\"table\"}],\"barpolar\":[{\"marker\":{\"line\":{\"color\":\"#E5ECF6\",\"width\":0.5},\"pattern\":{\"fillmode\":\"overlay\",\"size\":10,\"solidity\":0.2}},\"type\":\"barpolar\"}],\"pie\":[{\"automargin\":true,\"type\":\"pie\"}]},\"layout\":{\"autotypenumbers\":\"strict\",\"colorway\":[\"#636efa\",\"#EF553B\",\"#00cc96\",\"#ab63fa\",\"#FFA15A\",\"#19d3f3\",\"#FF6692\",\"#B6E880\",\"#FF97FF\",\"#FECB52\"],\"font\":{\"color\":\"#2a3f5f\"},\"hovermode\":\"closest\",\"hoverlabel\":{\"align\":\"left\"},\"paper_bgcolor\":\"white\",\"plot_bgcolor\":\"#E5ECF6\",\"polar\":{\"bgcolor\":\"#E5ECF6\",\"angularaxis\":{\"gridcolor\":\"white\",\"linecolor\":\"white\",\"ticks\":\"\"},\"radialaxis\":{\"gridcolor\":\"white\",\"linecolor\":\"white\",\"ticks\":\"\"}},\"ternary\":{\"bgcolor\":\"#E5ECF6\",\"aaxis\":{\"gridcolor\":\"white\",\"linecolor\":\"white\",\"ticks\":\"\"},\"baxis\":{\"gridcolor\":\"white\",\"linecolor\":\"white\",\"ticks\":\"\"},\"caxis\":{\"gridcolor\":\"white\",\"linecolor\":\"white\",\"ticks\":\"\"}},\"coloraxis\":{\"colorbar\":{\"outlinewidth\":0,\"ticks\":\"\"}},\"colorscale\":{\"sequential\":[[0.0,\"#0d0887\"],[0.1111111111111111,\"#46039f\"],[0.2222222222222222,\"#7201a8\"],[0.3333333333333333,\"#9c179e\"],[0.4444444444444444,\"#bd3786\"],[0.5555555555555556,\"#d8576b\"],[0.6666666666666666,\"#ed7953\"],[0.7777777777777778,\"#fb9f3a\"],[0.8888888888888888,\"#fdca26\"],[1.0,\"#f0f921\"]],\"sequentialminus\":[[0.0,\"#0d0887\"],[0.1111111111111111,\"#46039f\"],[0.2222222222222222,\"#7201a8\"],[0.3333333333333333,\"#9c179e\"],[0.4444444444444444,\"#bd3786\"],[0.5555555555555556,\"#d8576b\"],[0.6666666666666666,\"#ed7953\"],[0.7777777777777778,\"#fb9f3a\"],[0.8888888888888888,\"#fdca26\"],[1.0,\"#f0f921\"]],\"diverging\":[[0,\"#8e0152\"],[0.1,\"#c51b7d\"],[0.2,\"#de77ae\"],[0.3,\"#f1b6da\"],[0.4,\"#fde0ef\"],[0.5,\"#f7f7f7\"],[0.6,\"#e6f5d0\"],[0.7,\"#b8e186\"],[0.8,\"#7fbc41\"],[0.9,\"#4d9221\"],[1,\"#276419\"]]},\"xaxis\":{\"gridcolor\":\"white\",\"linecolor\":\"white\",\"ticks\":\"\",\"title\":{\"standoff\":15,\"font\":{\"size\":20}},\"zerolinecolor\":\"white\",\"automargin\":true,\"zerolinewidth\":2},\"yaxis\":{\"gridcolor\":\"white\",\"linecolor\":\"white\",\"ticks\":\"\",\"title\":{\"standoff\":15,\"font\":{\"size\":20}},\"zerolinecolor\":\"white\",\"automargin\":true,\"zerolinewidth\":2},\"scene\":{\"xaxis\":{\"backgroundcolor\":\"#E5ECF6\",\"gridcolor\":\"white\",\"linecolor\":\"white\",\"showbackground\":true,\"ticks\":\"\",\"zerolinecolor\":\"white\",\"gridwidth\":2},\"yaxis\":{\"backgroundcolor\":\"#E5ECF6\",\"gridcolor\":\"white\",\"linecolor\":\"white\",\"showbackground\":true,\"ticks\":\"\",\"zerolinecolor\":\"white\",\"gridwidth\":2},\"zaxis\":{\"backgroundcolor\":\"#E5ECF6\",\"gridcolor\":\"white\",\"linecolor\":\"white\",\"showbackground\":true,\"ticks\":\"\",\"zerolinecolor\":\"white\",\"gridwidth\":2}},\"shapedefaults\":{\"line\":{\"color\":\"#2a3f5f\"}},\"annotationdefaults\":{\"arrowcolor\":\"#2a3f5f\",\"arrowhead\":0,\"arrowwidth\":1},\"geo\":{\"bgcolor\":\"white\",\"landcolor\":\"#E5ECF6\",\"subunitcolor\":\"white\",\"showland\":true,\"showlakes\":true,\"lakecolor\":\"white\"},\"title\":{\"x\":0.05,\"font\":{\"size\":30}},\"mapbox\":{\"style\":\"light\"}}},\"xaxis\":{\"anchor\":\"y\",\"domain\":[0.0,1.0],\"title\":{\"text\":\"Epoch\"}},\"yaxis\":{\"anchor\":\"x\",\"domain\":[0.0,1.0],\"title\":{\"text\":\"Rolling Avg Loss\"}},\"legend\":{\"title\":{\"text\":\"Color\"},\"tracegroupgap\":0},\"title\":{\"text\":\"Training Curve for Modular Arithmetic - 70% Addition\"},\"updatemenus\":[{\"active\":-1,\"buttons\":[{\"args\":[{\"xaxis.type\":\"log\"}],\"args2\":[{\"xaxis.type\":\"linear\"}],\"label\":\"Log x-axis\",\"method\":\"relayout\"}],\"type\":\"buttons\",\"x\":-0.1,\"y\":1.0},{\"active\":-1,\"buttons\":[{\"args\":[{\"yaxis.type\":\"log\"}],\"args2\":[{\"yaxis.type\":\"linear\"}],\"label\":\"Log y-axis\",\"method\":\"relayout\"}],\"type\":\"buttons\",\"x\":-0.1,\"y\":0.85}]},                        {\"responsive\": true}                    ).then(function(){\n",
              "                            \n",
              "var gd = document.getElementById('67f7c3b0-d0e9-4407-be2a-f5310e5f5df5');\n",
              "var x = new MutationObserver(function (mutations, observer) {{\n",
              "        var display = window.getComputedStyle(gd).display;\n",
              "        if (!display || display === 'none') {{\n",
              "            console.log([gd, 'removed!']);\n",
              "            Plotly.purge(gd);\n",
              "            observer.disconnect();\n",
              "        }}\n",
              "}});\n",
              "\n",
              "// Listen for the removal of the full notebook cells\n",
              "var notebookContainer = gd.closest('#notebook-container');\n",
              "if (notebookContainer) {{\n",
              "    x.observe(notebookContainer, {childList: true});\n",
              "}}\n",
              "\n",
              "// Listen for the clearing of the current output cell\n",
              "var outputEl = gd.closest('.output');\n",
              "if (outputEl) {{\n",
              "    x.observe(outputEl, {childList: true});\n",
              "}}\n",
              "\n",
              "                        })                };                });            </script>        </div>"
            ]
          },
          "metadata": {},
          "output_type": "display_data"
        }
      ],
      "source": [
        "from neel_plotly.plot import line\n",
        "step = 10\n",
        "average_window = 200\n",
        "train_losses_avg = rolling_average(train_losses, average_window)\n",
        "test_losses_avg = rolling_average(test_losses, average_window)\n",
        "add_test_losses_avg = rolling_average(add_test_losses, average_window//10)\n",
        "multi_test_losses_avg = rolling_average(multi_test_losses, average_window//10)\n",
        "\n",
        "line([train_losses[::step], test_losses[::step], add_test_losses, multi_test_losses], x=np.arange(0, len(train_losses_avg), step), xaxis=\"Epoch\", yaxis=\"Loss\", log_y=False, title=f\"Training Curve for Modular Arithmetic - {addition_frac*100:.0f}% Addition\", line_labels=['train loss', 'test loss', 'add loss', 'multi loss'], toggle_x=True, toggle_y=True)\n",
        "line([train_losses_avg[::step], test_losses_avg[::step], add_test_losses_avg, multi_test_losses_avg], x=np.arange(0, len(train_losses_avg), step), xaxis=\"Epoch\", yaxis=\"Rolling Avg Loss\", log_y=False, title=f\"Training Curve for Modular Arithmetic - {addition_frac*100:.0f}% Addition\", line_labels=['train', 'test', 'add loss', 'multi loss'], toggle_x=True, toggle_y=True)"
      ]
    },
    {
      "cell_type": "markdown",
      "metadata": {},
      "source": [
        "### Estiamtating Local Learning Coefficient (RLCT)"
      ]
    },
    {
      "cell_type": "code",
      "execution_count": 387,
      "metadata": {},
      "outputs": [
        {
          "name": "stdout",
          "output_type": "stream",
          "text": [
            "len(model_checkpoints) = 120\n",
            "Moving model to device:  cpu\n",
            "Moving model to device:  cpu\n",
            "Moving model to device:  cpu\n"
          ]
        },
        {
          "name": "stderr",
          "output_type": "stream",
          "text": [
            "Chain 0: 100%|██████████| 1000/1000 [00:24<00:00, 40.18it/s]\n"
          ]
        },
        {
          "name": "stdout",
          "output_type": "stream",
          "text": [
            "Moving model to device:  cpu\n"
          ]
        },
        {
          "name": "stderr",
          "output_type": "stream",
          "text": [
            "Chain 1: 100%|██████████| 1000/1000 [00:24<00:00, 41.08it/s]\n"
          ]
        },
        {
          "name": "stdout",
          "output_type": "stream",
          "text": [
            "Moving model to device:  cpu\n"
          ]
        },
        {
          "name": "stderr",
          "output_type": "stream",
          "text": [
            "Chain 2: 100%|██████████| 1000/1000 [00:24<00:00, 40.37it/s]\n"
          ]
        },
        {
          "data": {
            "image/png": "[encoded data removed]",
            "text/plain": [
              "<Figure size 640x480 with 1 Axes>"
            ]
          },
          "metadata": {},
          "output_type": "display_data"
        },
        {
          "data": {
            "text/plain": [
              "<Figure size 1200x900 with 0 Axes>"
            ]
          },
          "metadata": {},
          "output_type": "display_data"
        }
      ],
      "source": [
        "from devinterp.slt.sampler import estimate_learning_coeff_with_summary, estimate_learning_coeff, SGLD\n",
        "from devinterp.utils import plot_trace\n",
        "\n",
        "def evaluate(model, data):\n",
        "    inputs, outputs = data\n",
        "\n",
        "    return loss_fn(model(inputs), outputs), {\n",
        "        \"logits\": model(inputs)\n",
        "    }\n",
        "\n",
        "print(f\"len(model_checkpoints) = {len(model_checkpoints)}\")\n",
        "\n",
        "model.load_state_dict(model_checkpoints[10])\n",
        "\n",
        "results = estimate_learning_coeff_with_summary(\n",
        "                model,\n",
        "                loader=train_loader,\n",
        "                evaluate=evaluate,\n",
        "                sampling_method=SGLD,\n",
        "                optimizer_kwargs=dict(lr=5e-4, localization=100.0),\n",
        "                num_chains=3,          # How many independent chains to run\n",
        "                num_draws=1000,            # How many samples to draw per chain\n",
        "                num_burnin_steps=0,    # How many samples to discard at the beginning of each chain\n",
        "                num_steps_bw_draws=1,   # How many steps to take between each sample\n",
        "                device=device,\n",
        "                online=True,\n",
        "            )\n",
        "\n",
        "plot_trace(\n",
        "    results[\"llc/trace\"],\n",
        "    \"Loss\",\n",
        "    x_axis=\"Step\",\n",
        "    title=f\"Loss Trace, avg LLC = {sum(results['llc/means']) / len(results['llc/means']):.2f}\",\n",
        "    plot_mean=False,\n",
        "    plot_std=False,\n",
        "    fig_size=(12, 9),\n",
        "    true_lc=None,\n",
        ")"
      ]
    },
    {
      "cell_type": "code",
      "execution_count": 314,
      "metadata": {},
      "outputs": [
        {
          "data": {
            "application/vnd.jupyter.widget-view+json": {
              "model_id": "b3f2b632b0f14c83a967d538f28aebc7",
              "version_major": 2,
              "version_minor": 0
            },
            "text/plain": [
              "  0%|          | 0/40 [00:00<?, ?it/s]"
            ]
          },
          "metadata": {},
          "output_type": "display_data"
        },
        {
          "name": "stderr",
          "output_type": "stream",
          "text": [
            "/Users/james/dev/ArithmeticTransformer/.venv/lib/python3.12/site-packages/devinterp/slt/sampler.py:54: UserWarning:\n",
            "\n",
            "nbeta not set - using default nbeta.\n",
            "\n"
          ]
        },
        {
          "name": "stdout",
          "output_type": "stream",
          "text": [
            "Moving model to device:  cpu\n"
          ]
        },
        {
          "name": "stderr",
          "output_type": "stream",
          "text": [
            "/Users/james/dev/ArithmeticTransformer/.venv/lib/python3.12/site-packages/devinterp/backends/default/slt/sampler.py:234: UserWarning:\n",
            "\n",
            "If you're setting a nbeta in optimizer_kwargs, please also make sure to set it in the callbacks.\n",
            "\n"
          ]
        },
        {
          "name": "stdout",
          "output_type": "stream",
          "text": [
            "Moving model to device:  cpu\n",
            "Moving model to device:  cpu\n"
          ]
        },
        {
          "name": "stderr",
          "output_type": "stream",
          "text": [
            "Chain 0: 100%|██████████| 25/25 [00:00<00:00, 37.55it/s]\n"
          ]
        },
        {
          "name": "stdout",
          "output_type": "stream",
          "text": [
            "Moving model to device:  cpu\n"
          ]
        },
        {
          "name": "stderr",
          "output_type": "stream",
          "text": [
            "Chain 1: 100%|██████████| 25/25 [00:00<00:00, 40.48it/s]\n"
          ]
        },
        {
          "name": "stdout",
          "output_type": "stream",
          "text": [
            "Moving model to device:  cpu\n"
          ]
        },
        {
          "name": "stderr",
          "output_type": "stream",
          "text": [
            "Chain 2: 100%|██████████| 25/25 [00:00<00:00, 33.85it/s]\n"
          ]
        },
        {
          "name": "stdout",
          "output_type": "stream",
          "text": [
            "Moving model to device:  cpu\n"
          ]
        },
        {
          "name": "stderr",
          "output_type": "stream",
          "text": [
            "Chain 3: 100%|██████████| 25/25 [00:00<00:00, 37.66it/s]\n"
          ]
        },
        {
          "name": "stdout",
          "output_type": "stream",
          "text": [
            "Moving model to device:  cpu\n"
          ]
        },
        {
          "name": "stderr",
          "output_type": "stream",
          "text": [
            "Chain 4: 100%|██████████| 25/25 [00:00<00:00, 37.65it/s]\n"
          ]
        },
        {
          "name": "stdout",
          "output_type": "stream",
          "text": [
            "Moving model to device:  cpu\n"
          ]
        },
        {
          "name": "stderr",
          "output_type": "stream",
          "text": [
            "Chain 5: 100%|██████████| 25/25 [00:00<00:00, 28.73it/s]\n"
          ]
        },
        {
          "name": "stdout",
          "output_type": "stream",
          "text": [
            "Moving model to device:  cpu\n"
          ]
        },
        {
          "name": "stderr",
          "output_type": "stream",
          "text": [
            "Chain 6: 100%|██████████| 25/25 [00:00<00:00, 31.57it/s]\n"
          ]
        },
        {
          "name": "stdout",
          "output_type": "stream",
          "text": [
            "Moving model to device:  cpu\n"
          ]
        },
        {
          "name": "stderr",
          "output_type": "stream",
          "text": [
            "Chain 7: 100%|██████████| 25/25 [00:00<00:00, 35.17it/s]\n"
          ]
        },
        {
          "name": "stdout",
          "output_type": "stream",
          "text": [
            "Moving model to device:  cpu\n"
          ]
        },
        {
          "name": "stderr",
          "output_type": "stream",
          "text": [
            "Chain 8: 100%|██████████| 25/25 [00:00<00:00, 38.46it/s]\n"
          ]
        },
        {
          "name": "stdout",
          "output_type": "stream",
          "text": [
            "Moving model to device:  cpu\n"
          ]
        },
        {
          "name": "stderr",
          "output_type": "stream",
          "text": [
            "Chain 9: 100%|██████████| 25/25 [00:00<00:00, 36.96it/s]\n"
          ]
        },
        {
          "name": "stdout",
          "output_type": "stream",
          "text": [
            "Moving model to device:  cpu\n"
          ]
        },
        {
          "name": "stderr",
          "output_type": "stream",
          "text": [
            "Chain 10: 100%|██████████| 25/25 [00:00<00:00, 34.13it/s]\n"
          ]
        },
        {
          "name": "stdout",
          "output_type": "stream",
          "text": [
            "Moving model to device:  cpu\n"
          ]
        },
        {
          "name": "stderr",
          "output_type": "stream",
          "text": [
            "Chain 11: 100%|██████████| 25/25 [00:00<00:00, 37.33it/s]\n"
          ]
        },
        {
          "name": "stdout",
          "output_type": "stream",
          "text": [
            "Moving model to device:  cpu\n"
          ]
        },
        {
          "name": "stderr",
          "output_type": "stream",
          "text": [
            "Chain 12: 100%|██████████| 25/25 [00:00<00:00, 37.87it/s]\n"
          ]
        },
        {
          "name": "stdout",
          "output_type": "stream",
          "text": [
            "Moving model to device:  cpu\n"
          ]
        },
        {
          "name": "stderr",
          "output_type": "stream",
          "text": [
            "Chain 13: 100%|██████████| 25/25 [00:00<00:00, 37.84it/s]\n"
          ]
        },
        {
          "name": "stdout",
          "output_type": "stream",
          "text": [
            "Moving model to device:  cpu\n"
          ]
        },
        {
          "name": "stderr",
          "output_type": "stream",
          "text": [
            "Chain 14: 100%|██████████| 25/25 [00:00<00:00, 37.41it/s]\n"
          ]
        },
        {
          "name": "stdout",
          "output_type": "stream",
          "text": [
            "result = 378.1568603515625\n",
            "Moving model to device:  cpu\n",
            "Moving model to device:  cpu\n",
            "Moving model to device:  cpu\n"
          ]
        },
        {
          "name": "stderr",
          "output_type": "stream",
          "text": [
            "Chain 0: 100%|██████████| 25/25 [00:00<00:00, 37.71it/s]\n"
          ]
        },
        {
          "name": "stdout",
          "output_type": "stream",
          "text": [
            "Moving model to device:  cpu\n"
          ]
        },
        {
          "name": "stderr",
          "output_type": "stream",
          "text": [
            "Chain 1: 100%|██████████| 25/25 [00:00<00:00, 35.94it/s]\n"
          ]
        },
        {
          "name": "stdout",
          "output_type": "stream",
          "text": [
            "Moving model to device:  cpu\n"
          ]
        },
        {
          "name": "stderr",
          "output_type": "stream",
          "text": [
            "Chain 2: 100%|██████████| 25/25 [00:00<00:00, 38.77it/s]\n"
          ]
        },
        {
          "name": "stdout",
          "output_type": "stream",
          "text": [
            "Moving model to device:  cpu\n"
          ]
        },
        {
          "name": "stderr",
          "output_type": "stream",
          "text": [
            "Chain 3: 100%|██████████| 25/25 [00:00<00:00, 38.38it/s]\n"
          ]
        },
        {
          "name": "stdout",
          "output_type": "stream",
          "text": [
            "Moving model to device:  cpu\n"
          ]
        },
        {
          "name": "stderr",
          "output_type": "stream",
          "text": [
            "Chain 4: 100%|██████████| 25/25 [00:00<00:00, 27.80it/s]\n"
          ]
        },
        {
          "name": "stdout",
          "output_type": "stream",
          "text": [
            "Moving model to device:  cpu\n"
          ]
        },
        {
          "name": "stderr",
          "output_type": "stream",
          "text": [
            "Chain 5: 100%|██████████| 25/25 [00:00<00:00, 33.85it/s]\n"
          ]
        },
        {
          "name": "stdout",
          "output_type": "stream",
          "text": [
            "Moving model to device:  cpu\n"
          ]
        },
        {
          "name": "stderr",
          "output_type": "stream",
          "text": [
            "Chain 6: 100%|██████████| 25/25 [00:00<00:00, 35.55it/s]\n"
          ]
        },
        {
          "name": "stdout",
          "output_type": "stream",
          "text": [
            "Moving model to device:  cpu\n"
          ]
        },
        {
          "name": "stderr",
          "output_type": "stream",
          "text": [
            "Chain 7: 100%|██████████| 25/25 [00:00<00:00, 39.30it/s]\n"
          ]
        },
        {
          "name": "stdout",
          "output_type": "stream",
          "text": [
            "Moving model to device:  cpu\n"
          ]
        },
        {
          "name": "stderr",
          "output_type": "stream",
          "text": [
            "Chain 8: 100%|██████████| 25/25 [00:00<00:00, 37.53it/s]\n"
          ]
        },
        {
          "name": "stdout",
          "output_type": "stream",
          "text": [
            "Moving model to device:  cpu\n"
          ]
        },
        {
          "name": "stderr",
          "output_type": "stream",
          "text": [
            "Chain 9: 100%|██████████| 25/25 [00:00<00:00, 39.89it/s]\n"
          ]
        },
        {
          "name": "stdout",
          "output_type": "stream",
          "text": [
            "Moving model to device:  cpu\n"
          ]
        },
        {
          "name": "stderr",
          "output_type": "stream",
          "text": [
            "Chain 10: 100%|██████████| 25/25 [00:00<00:00, 40.45it/s]\n"
          ]
        },
        {
          "name": "stdout",
          "output_type": "stream",
          "text": [
            "Moving model to device:  cpu\n"
          ]
        },
        {
          "name": "stderr",
          "output_type": "stream",
          "text": [
            "Chain 11: 100%|██████████| 25/25 [00:00<00:00, 39.57it/s]\n"
          ]
        },
        {
          "name": "stdout",
          "output_type": "stream",
          "text": [
            "Moving model to device:  cpu\n"
          ]
        },
        {
          "name": "stderr",
          "output_type": "stream",
          "text": [
            "Chain 12: 100%|██████████| 25/25 [00:00<00:00, 38.70it/s]\n"
          ]
        },
        {
          "name": "stdout",
          "output_type": "stream",
          "text": [
            "Moving model to device:  cpu\n"
          ]
        },
        {
          "name": "stderr",
          "output_type": "stream",
          "text": [
            "Chain 13: 100%|██████████| 25/25 [00:00<00:00, 38.48it/s]\n"
          ]
        },
        {
          "name": "stdout",
          "output_type": "stream",
          "text": [
            "Moving model to device:  cpu\n"
          ]
        },
        {
          "name": "stderr",
          "output_type": "stream",
          "text": [
            "Chain 14: 100%|██████████| 25/25 [00:00<00:00, 36.16it/s]\n"
          ]
        },
        {
          "name": "stdout",
          "output_type": "stream",
          "text": [
            "result = 632.3897094726562\n",
            "Moving model to device:  cpu\n",
            "Moving model to device:  cpu\n",
            "Moving model to device:  cpu\n"
          ]
        },
        {
          "name": "stderr",
          "output_type": "stream",
          "text": [
            "Chain 0: 100%|██████████| 25/25 [00:00<00:00, 40.30it/s]\n"
          ]
        },
        {
          "name": "stdout",
          "output_type": "stream",
          "text": [
            "Moving model to device:  cpu\n"
          ]
        },
        {
          "name": "stderr",
          "output_type": "stream",
          "text": [
            "Chain 1: 100%|██████████| 25/25 [00:00<00:00, 39.41it/s]\n"
          ]
        },
        {
          "name": "stdout",
          "output_type": "stream",
          "text": [
            "Moving model to device:  cpu\n"
          ]
        },
        {
          "name": "stderr",
          "output_type": "stream",
          "text": [
            "Chain 2: 100%|██████████| 25/25 [00:00<00:00, 39.55it/s]\n"
          ]
        },
        {
          "name": "stdout",
          "output_type": "stream",
          "text": [
            "Moving model to device:  cpu\n"
          ]
        },
        {
          "name": "stderr",
          "output_type": "stream",
          "text": [
            "Chain 3: 100%|██████████| 25/25 [00:00<00:00, 39.74it/s]\n"
          ]
        },
        {
          "name": "stdout",
          "output_type": "stream",
          "text": [
            "Moving model to device:  cpu\n"
          ]
        },
        {
          "name": "stderr",
          "output_type": "stream",
          "text": [
            "Chain 4: 100%|██████████| 25/25 [00:00<00:00, 31.34it/s]\n"
          ]
        },
        {
          "name": "stdout",
          "output_type": "stream",
          "text": [
            "Moving model to device:  cpu\n"
          ]
        },
        {
          "name": "stderr",
          "output_type": "stream",
          "text": [
            "Chain 5: 100%|██████████| 25/25 [00:00<00:00, 36.63it/s]\n"
          ]
        },
        {
          "name": "stdout",
          "output_type": "stream",
          "text": [
            "Moving model to device:  cpu\n"
          ]
        },
        {
          "name": "stderr",
          "output_type": "stream",
          "text": [
            "Chain 6: 100%|██████████| 25/25 [00:00<00:00, 38.98it/s]\n"
          ]
        },
        {
          "name": "stdout",
          "output_type": "stream",
          "text": [
            "Moving model to device:  cpu\n"
          ]
        },
        {
          "name": "stderr",
          "output_type": "stream",
          "text": [
            "Chain 7: 100%|██████████| 25/25 [00:00<00:00, 38.90it/s]\n"
          ]
        },
        {
          "name": "stdout",
          "output_type": "stream",
          "text": [
            "Moving model to device:  cpu\n"
          ]
        },
        {
          "name": "stderr",
          "output_type": "stream",
          "text": [
            "Chain 8: 100%|██████████| 25/25 [00:00<00:00, 39.08it/s]\n"
          ]
        },
        {
          "name": "stdout",
          "output_type": "stream",
          "text": [
            "Moving model to device:  cpu\n"
          ]
        },
        {
          "name": "stderr",
          "output_type": "stream",
          "text": [
            "Chain 9: 100%|██████████| 25/25 [00:00<00:00, 38.06it/s]\n"
          ]
        },
        {
          "name": "stdout",
          "output_type": "stream",
          "text": [
            "Moving model to device:  cpu\n"
          ]
        },
        {
          "name": "stderr",
          "output_type": "stream",
          "text": [
            "Chain 10: 100%|██████████| 25/25 [00:00<00:00, 37.95it/s]\n"
          ]
        },
        {
          "name": "stdout",
          "output_type": "stream",
          "text": [
            "Moving model to device:  cpu\n"
          ]
        },
        {
          "name": "stderr",
          "output_type": "stream",
          "text": [
            "Chain 11: 100%|██████████| 25/25 [00:00<00:00, 37.72it/s]\n"
          ]
        },
        {
          "name": "stdout",
          "output_type": "stream",
          "text": [
            "Moving model to device:  cpu\n"
          ]
        },
        {
          "name": "stderr",
          "output_type": "stream",
          "text": [
            "Chain 12: 100%|██████████| 25/25 [00:00<00:00, 38.47it/s]\n"
          ]
        },
        {
          "name": "stdout",
          "output_type": "stream",
          "text": [
            "Moving model to device:  cpu\n"
          ]
        },
        {
          "name": "stderr",
          "output_type": "stream",
          "text": [
            "Chain 13: 100%|██████████| 25/25 [00:00<00:00, 38.26it/s]\n"
          ]
        },
        {
          "name": "stdout",
          "output_type": "stream",
          "text": [
            "Moving model to device:  cpu\n"
          ]
        },
        {
          "name": "stderr",
          "output_type": "stream",
          "text": [
            "Chain 14: 100%|██████████| 25/25 [00:00<00:00, 38.82it/s]\n"
          ]
        },
        {
          "name": "stdout",
          "output_type": "stream",
          "text": [
            "result = 679.1881103515625\n",
            "Moving model to device:  cpu\n",
            "Moving model to device:  cpu\n",
            "Moving model to device:  cpu\n"
          ]
        },
        {
          "name": "stderr",
          "output_type": "stream",
          "text": [
            "Chain 0: 100%|██████████| 25/25 [00:00<00:00, 37.94it/s]\n"
          ]
        },
        {
          "name": "stdout",
          "output_type": "stream",
          "text": [
            "Moving model to device:  cpu\n"
          ]
        },
        {
          "name": "stderr",
          "output_type": "stream",
          "text": [
            "Chain 1: 100%|██████████| 25/25 [00:00<00:00, 39.58it/s]\n"
          ]
        },
        {
          "name": "stdout",
          "output_type": "stream",
          "text": [
            "Moving model to device:  cpu\n"
          ]
        },
        {
          "name": "stderr",
          "output_type": "stream",
          "text": [
            "Chain 2: 100%|██████████| 25/25 [00:00<00:00, 37.06it/s]\n"
          ]
        },
        {
          "name": "stdout",
          "output_type": "stream",
          "text": [
            "Moving model to device:  cpu\n"
          ]
        },
        {
          "name": "stderr",
          "output_type": "stream",
          "text": [
            "Chain 3: 100%|██████████| 25/25 [00:00<00:00, 38.17it/s]\n"
          ]
        },
        {
          "name": "stdout",
          "output_type": "stream",
          "text": [
            "Moving model to device:  cpu\n"
          ]
        },
        {
          "name": "stderr",
          "output_type": "stream",
          "text": [
            "Chain 4: 100%|██████████| 25/25 [00:00<00:00, 31.01it/s]\n"
          ]
        },
        {
          "name": "stdout",
          "output_type": "stream",
          "text": [
            "Moving model to device:  cpu\n"
          ]
        },
        {
          "name": "stderr",
          "output_type": "stream",
          "text": [
            "Chain 5: 100%|██████████| 25/25 [00:00<00:00, 39.05it/s]\n"
          ]
        },
        {
          "name": "stdout",
          "output_type": "stream",
          "text": [
            "Moving model to device:  cpu\n"
          ]
        },
        {
          "name": "stderr",
          "output_type": "stream",
          "text": [
            "Chain 6: 100%|██████████| 25/25 [00:00<00:00, 39.85it/s]\n"
          ]
        },
        {
          "name": "stdout",
          "output_type": "stream",
          "text": [
            "Moving model to device:  cpu\n"
          ]
        },
        {
          "name": "stderr",
          "output_type": "stream",
          "text": [
            "Chain 7: 100%|██████████| 25/25 [00:00<00:00, 39.46it/s]\n"
          ]
        },
        {
          "name": "stdout",
          "output_type": "stream",
          "text": [
            "Moving model to device:  cpu\n"
          ]
        },
        {
          "name": "stderr",
          "output_type": "stream",
          "text": [
            "Chain 8: 100%|██████████| 25/25 [00:00<00:00, 39.62it/s]\n"
          ]
        },
        {
          "name": "stdout",
          "output_type": "stream",
          "text": [
            "Moving model to device:  cpu\n"
          ]
        },
        {
          "name": "stderr",
          "output_type": "stream",
          "text": [
            "Chain 9: 100%|██████████| 25/25 [00:00<00:00, 38.10it/s]\n"
          ]
        },
        {
          "name": "stdout",
          "output_type": "stream",
          "text": [
            "Moving model to device:  cpu\n"
          ]
        },
        {
          "name": "stderr",
          "output_type": "stream",
          "text": [
            "Chain 10: 100%|██████████| 25/25 [00:00<00:00, 38.99it/s]\n"
          ]
        },
        {
          "name": "stdout",
          "output_type": "stream",
          "text": [
            "Moving model to device:  cpu\n"
          ]
        },
        {
          "name": "stderr",
          "output_type": "stream",
          "text": [
            "Chain 11: 100%|██████████| 25/25 [00:00<00:00, 38.51it/s]\n"
          ]
        },
        {
          "name": "stdout",
          "output_type": "stream",
          "text": [
            "Moving model to device:  cpu\n"
          ]
        },
        {
          "name": "stderr",
          "output_type": "stream",
          "text": [
            "Chain 12: 100%|██████████| 25/25 [00:00<00:00, 38.62it/s]\n"
          ]
        },
        {
          "name": "stdout",
          "output_type": "stream",
          "text": [
            "Moving model to device:  cpu\n"
          ]
        },
        {
          "name": "stderr",
          "output_type": "stream",
          "text": [
            "Chain 13: 100%|██████████| 25/25 [00:00<00:00, 41.02it/s]\n"
          ]
        },
        {
          "name": "stdout",
          "output_type": "stream",
          "text": [
            "Moving model to device:  cpu\n"
          ]
        },
        {
          "name": "stderr",
          "output_type": "stream",
          "text": [
            "Chain 14: 100%|██████████| 25/25 [00:00<00:00, 35.99it/s]\n"
          ]
        },
        {
          "name": "stdout",
          "output_type": "stream",
          "text": [
            "result = 687.9039306640625\n",
            "Moving model to device:  cpu\n",
            "Moving model to device:  cpu\n",
            "Moving model to device:  cpu\n"
          ]
        },
        {
          "name": "stderr",
          "output_type": "stream",
          "text": [
            "Chain 0: 100%|██████████| 25/25 [00:00<00:00, 38.62it/s]\n"
          ]
        },
        {
          "name": "stdout",
          "output_type": "stream",
          "text": [
            "Moving model to device:  cpu\n"
          ]
        },
        {
          "name": "stderr",
          "output_type": "stream",
          "text": [
            "Chain 1: 100%|██████████| 25/25 [00:00<00:00, 37.71it/s]\n"
          ]
        },
        {
          "name": "stdout",
          "output_type": "stream",
          "text": [
            "Moving model to device:  cpu\n"
          ]
        },
        {
          "name": "stderr",
          "output_type": "stream",
          "text": [
            "Chain 2: 100%|██████████| 25/25 [00:00<00:00, 38.10it/s]\n"
          ]
        },
        {
          "name": "stdout",
          "output_type": "stream",
          "text": [
            "Moving model to device:  cpu\n"
          ]
        },
        {
          "name": "stderr",
          "output_type": "stream",
          "text": [
            "Chain 3: 100%|██████████| 25/25 [00:00<00:00, 29.98it/s]\n"
          ]
        },
        {
          "name": "stdout",
          "output_type": "stream",
          "text": [
            "Moving model to device:  cpu\n"
          ]
        },
        {
          "name": "stderr",
          "output_type": "stream",
          "text": [
            "Chain 4: 100%|██████████| 25/25 [00:00<00:00, 38.78it/s]\n"
          ]
        },
        {
          "name": "stdout",
          "output_type": "stream",
          "text": [
            "Moving model to device:  cpu\n"
          ]
        },
        {
          "name": "stderr",
          "output_type": "stream",
          "text": [
            "Chain 5: 100%|██████████| 25/25 [00:00<00:00, 35.89it/s]\n"
          ]
        },
        {
          "name": "stdout",
          "output_type": "stream",
          "text": [
            "Moving model to device:  cpu\n"
          ]
        },
        {
          "name": "stderr",
          "output_type": "stream",
          "text": [
            "Chain 6: 100%|██████████| 25/25 [00:00<00:00, 38.85it/s]\n"
          ]
        },
        {
          "name": "stdout",
          "output_type": "stream",
          "text": [
            "Moving model to device:  cpu\n"
          ]
        },
        {
          "name": "stderr",
          "output_type": "stream",
          "text": [
            "Chain 7: 100%|██████████| 25/25 [00:00<00:00, 35.79it/s]\n"
          ]
        },
        {
          "name": "stdout",
          "output_type": "stream",
          "text": [
            "Moving model to device:  cpu\n"
          ]
        },
        {
          "name": "stderr",
          "output_type": "stream",
          "text": [
            "Chain 8: 100%|██████████| 25/25 [00:00<00:00, 38.60it/s]\n"
          ]
        },
        {
          "name": "stdout",
          "output_type": "stream",
          "text": [
            "Moving model to device:  cpu\n"
          ]
        },
        {
          "name": "stderr",
          "output_type": "stream",
          "text": [
            "Chain 9: 100%|██████████| 25/25 [00:00<00:00, 38.39it/s]\n"
          ]
        },
        {
          "name": "stdout",
          "output_type": "stream",
          "text": [
            "Moving model to device:  cpu\n"
          ]
        },
        {
          "name": "stderr",
          "output_type": "stream",
          "text": [
            "Chain 10: 100%|██████████| 25/25 [00:00<00:00, 39.46it/s]\n"
          ]
        },
        {
          "name": "stdout",
          "output_type": "stream",
          "text": [
            "Moving model to device:  cpu\n"
          ]
        },
        {
          "name": "stderr",
          "output_type": "stream",
          "text": [
            "Chain 11: 100%|██████████| 25/25 [00:00<00:00, 35.24it/s]\n"
          ]
        },
        {
          "name": "stdout",
          "output_type": "stream",
          "text": [
            "Moving model to device:  cpu\n"
          ]
        },
        {
          "name": "stderr",
          "output_type": "stream",
          "text": [
            "Chain 12: 100%|██████████| 25/25 [00:00<00:00, 37.68it/s]\n"
          ]
        },
        {
          "name": "stdout",
          "output_type": "stream",
          "text": [
            "Moving model to device:  cpu\n"
          ]
        },
        {
          "name": "stderr",
          "output_type": "stream",
          "text": [
            "Chain 13: 100%|██████████| 25/25 [00:00<00:00, 37.73it/s]\n"
          ]
        },
        {
          "name": "stdout",
          "output_type": "stream",
          "text": [
            "Moving model to device:  cpu\n"
          ]
        },
        {
          "name": "stderr",
          "output_type": "stream",
          "text": [
            "Chain 14: 100%|██████████| 25/25 [00:00<00:00, 39.33it/s]\n"
          ]
        },
        {
          "name": "stdout",
          "output_type": "stream",
          "text": [
            "result = 684.4478759765625\n",
            "Moving model to device:  cpu\n",
            "Moving model to device:  cpu\n",
            "Moving model to device:  cpu\n"
          ]
        },
        {
          "name": "stderr",
          "output_type": "stream",
          "text": [
            "Chain 0: 100%|██████████| 25/25 [00:00<00:00, 38.21it/s]\n"
          ]
        },
        {
          "name": "stdout",
          "output_type": "stream",
          "text": [
            "Moving model to device:  cpu\n"
          ]
        },
        {
          "name": "stderr",
          "output_type": "stream",
          "text": [
            "Chain 1: 100%|██████████| 25/25 [00:00<00:00, 37.26it/s]\n"
          ]
        },
        {
          "name": "stdout",
          "output_type": "stream",
          "text": [
            "Moving model to device:  cpu\n"
          ]
        },
        {
          "name": "stderr",
          "output_type": "stream",
          "text": [
            "Chain 2: 100%|██████████| 25/25 [00:00<00:00, 29.58it/s]\n"
          ]
        },
        {
          "name": "stdout",
          "output_type": "stream",
          "text": [
            "Moving model to device:  cpu\n"
          ]
        },
        {
          "name": "stderr",
          "output_type": "stream",
          "text": [
            "Chain 3: 100%|██████████| 25/25 [00:00<00:00, 37.96it/s]\n"
          ]
        },
        {
          "name": "stdout",
          "output_type": "stream",
          "text": [
            "Moving model to device:  cpu\n"
          ]
        },
        {
          "name": "stderr",
          "output_type": "stream",
          "text": [
            "Chain 4: 100%|██████████| 25/25 [00:00<00:00, 37.78it/s]\n"
          ]
        },
        {
          "name": "stdout",
          "output_type": "stream",
          "text": [
            "Moving model to device:  cpu\n"
          ]
        },
        {
          "name": "stderr",
          "output_type": "stream",
          "text": [
            "Chain 5: 100%|██████████| 25/25 [00:00<00:00, 37.32it/s]\n"
          ]
        },
        {
          "name": "stdout",
          "output_type": "stream",
          "text": [
            "Moving model to device:  cpu\n"
          ]
        },
        {
          "name": "stderr",
          "output_type": "stream",
          "text": [
            "Chain 6: 100%|██████████| 25/25 [00:00<00:00, 38.66it/s]\n"
          ]
        },
        {
          "name": "stdout",
          "output_type": "stream",
          "text": [
            "Moving model to device:  cpu\n"
          ]
        },
        {
          "name": "stderr",
          "output_type": "stream",
          "text": [
            "Chain 7: 100%|██████████| 25/25 [00:00<00:00, 36.05it/s]\n"
          ]
        },
        {
          "name": "stdout",
          "output_type": "stream",
          "text": [
            "Moving model to device:  cpu\n"
          ]
        },
        {
          "name": "stderr",
          "output_type": "stream",
          "text": [
            "Chain 8: 100%|██████████| 25/25 [00:00<00:00, 34.65it/s]\n"
          ]
        },
        {
          "name": "stdout",
          "output_type": "stream",
          "text": [
            "Moving model to device:  cpu\n"
          ]
        },
        {
          "name": "stderr",
          "output_type": "stream",
          "text": [
            "Chain 9: 100%|██████████| 25/25 [00:00<00:00, 35.27it/s]\n"
          ]
        },
        {
          "name": "stdout",
          "output_type": "stream",
          "text": [
            "Moving model to device:  cpu\n"
          ]
        },
        {
          "name": "stderr",
          "output_type": "stream",
          "text": [
            "Chain 10: 100%|██████████| 25/25 [00:00<00:00, 38.81it/s]\n"
          ]
        },
        {
          "name": "stdout",
          "output_type": "stream",
          "text": [
            "Moving model to device:  cpu\n"
          ]
        },
        {
          "name": "stderr",
          "output_type": "stream",
          "text": [
            "Chain 11: 100%|██████████| 25/25 [00:00<00:00, 36.98it/s]\n"
          ]
        },
        {
          "name": "stdout",
          "output_type": "stream",
          "text": [
            "Moving model to device:  cpu\n"
          ]
        },
        {
          "name": "stderr",
          "output_type": "stream",
          "text": [
            "Chain 12: 100%|██████████| 25/25 [00:00<00:00, 35.45it/s]\n"
          ]
        },
        {
          "name": "stdout",
          "output_type": "stream",
          "text": [
            "Moving model to device:  cpu\n"
          ]
        },
        {
          "name": "stderr",
          "output_type": "stream",
          "text": [
            "Chain 13: 100%|██████████| 25/25 [00:00<00:00, 37.02it/s]\n"
          ]
        },
        {
          "name": "stdout",
          "output_type": "stream",
          "text": [
            "Moving model to device:  cpu\n"
          ]
        },
        {
          "name": "stderr",
          "output_type": "stream",
          "text": [
            "Chain 14: 100%|██████████| 25/25 [00:00<00:00, 38.33it/s]\n"
          ]
        },
        {
          "name": "stdout",
          "output_type": "stream",
          "text": [
            "result = 697.6310424804688\n",
            "Moving model to device:  cpu\n",
            "Moving model to device:  cpu\n",
            "Moving model to device:  cpu\n"
          ]
        },
        {
          "name": "stderr",
          "output_type": "stream",
          "text": [
            "Chain 0: 100%|██████████| 25/25 [00:00<00:00, 35.97it/s]\n"
          ]
        },
        {
          "name": "stdout",
          "output_type": "stream",
          "text": [
            "Moving model to device:  cpu\n"
          ]
        },
        {
          "name": "stderr",
          "output_type": "stream",
          "text": [
            "Chain 1: 100%|██████████| 25/25 [00:00<00:00, 36.35it/s]\n"
          ]
        },
        {
          "name": "stdout",
          "output_type": "stream",
          "text": [
            "Moving model to device:  cpu\n"
          ]
        },
        {
          "name": "stderr",
          "output_type": "stream",
          "text": [
            "Chain 2: 100%|██████████| 25/25 [00:00<00:00, 29.40it/s]\n"
          ]
        },
        {
          "name": "stdout",
          "output_type": "stream",
          "text": [
            "Moving model to device:  cpu\n"
          ]
        },
        {
          "name": "stderr",
          "output_type": "stream",
          "text": [
            "Chain 3: 100%|██████████| 25/25 [00:00<00:00, 35.95it/s]\n"
          ]
        },
        {
          "name": "stdout",
          "output_type": "stream",
          "text": [
            "Moving model to device:  cpu\n"
          ]
        },
        {
          "name": "stderr",
          "output_type": "stream",
          "text": [
            "Chain 4: 100%|██████████| 25/25 [00:00<00:00, 33.44it/s]\n"
          ]
        },
        {
          "name": "stdout",
          "output_type": "stream",
          "text": [
            "Moving model to device:  cpu\n"
          ]
        },
        {
          "name": "stderr",
          "output_type": "stream",
          "text": [
            "Chain 5: 100%|██████████| 25/25 [00:00<00:00, 37.21it/s]\n"
          ]
        },
        {
          "name": "stdout",
          "output_type": "stream",
          "text": [
            "Moving model to device:  cpu\n"
          ]
        },
        {
          "name": "stderr",
          "output_type": "stream",
          "text": [
            "Chain 6: 100%|██████████| 25/25 [00:00<00:00, 34.57it/s]\n"
          ]
        },
        {
          "name": "stdout",
          "output_type": "stream",
          "text": [
            "Moving model to device:  cpu\n"
          ]
        },
        {
          "name": "stderr",
          "output_type": "stream",
          "text": [
            "Chain 7: 100%|██████████| 25/25 [00:00<00:00, 36.76it/s]\n"
          ]
        },
        {
          "name": "stdout",
          "output_type": "stream",
          "text": [
            "Moving model to device:  cpu\n"
          ]
        },
        {
          "name": "stderr",
          "output_type": "stream",
          "text": [
            "Chain 8: 100%|██████████| 25/25 [00:00<00:00, 36.07it/s]\n"
          ]
        },
        {
          "name": "stdout",
          "output_type": "stream",
          "text": [
            "Moving model to device:  cpu\n"
          ]
        },
        {
          "name": "stderr",
          "output_type": "stream",
          "text": [
            "Chain 9: 100%|██████████| 25/25 [00:00<00:00, 34.46it/s]\n"
          ]
        },
        {
          "name": "stdout",
          "output_type": "stream",
          "text": [
            "Moving model to device:  cpu\n"
          ]
        },
        {
          "name": "stderr",
          "output_type": "stream",
          "text": [
            "Chain 10: 100%|██████████| 25/25 [00:00<00:00, 33.68it/s]\n"
          ]
        },
        {
          "name": "stdout",
          "output_type": "stream",
          "text": [
            "Moving model to device:  cpu\n"
          ]
        },
        {
          "name": "stderr",
          "output_type": "stream",
          "text": [
            "Chain 11: 100%|██████████| 25/25 [00:00<00:00, 36.64it/s]\n"
          ]
        },
        {
          "name": "stdout",
          "output_type": "stream",
          "text": [
            "Moving model to device:  cpu\n"
          ]
        },
        {
          "name": "stderr",
          "output_type": "stream",
          "text": [
            "Chain 12: 100%|██████████| 25/25 [00:00<00:00, 36.15it/s]\n"
          ]
        },
        {
          "name": "stdout",
          "output_type": "stream",
          "text": [
            "Moving model to device:  cpu\n"
          ]
        },
        {
          "name": "stderr",
          "output_type": "stream",
          "text": [
            "Chain 13: 100%|██████████| 25/25 [00:00<00:00, 34.64it/s]\n"
          ]
        },
        {
          "name": "stdout",
          "output_type": "stream",
          "text": [
            "Moving model to device:  cpu\n"
          ]
        },
        {
          "name": "stderr",
          "output_type": "stream",
          "text": [
            "Chain 14: 100%|██████████| 25/25 [00:00<00:00, 32.44it/s]\n"
          ]
        },
        {
          "name": "stdout",
          "output_type": "stream",
          "text": [
            "result = 696.1800537109375\n",
            "Moving model to device:  cpu\n",
            "Moving model to device:  cpu\n",
            "Moving model to device:  cpu\n"
          ]
        },
        {
          "name": "stderr",
          "output_type": "stream",
          "text": [
            "Chain 0: 100%|██████████| 25/25 [00:00<00:00, 35.85it/s]\n"
          ]
        },
        {
          "name": "stdout",
          "output_type": "stream",
          "text": [
            "Moving model to device:  cpu\n"
          ]
        },
        {
          "name": "stderr",
          "output_type": "stream",
          "text": [
            "Chain 1: 100%|██████████| 25/25 [00:00<00:00, 34.40it/s]\n"
          ]
        },
        {
          "name": "stdout",
          "output_type": "stream",
          "text": [
            "Moving model to device:  cpu\n"
          ]
        },
        {
          "name": "stderr",
          "output_type": "stream",
          "text": [
            "Chain 2: 100%|██████████| 25/25 [00:00<00:00, 35.48it/s]\n"
          ]
        },
        {
          "name": "stdout",
          "output_type": "stream",
          "text": [
            "Moving model to device:  cpu\n"
          ]
        },
        {
          "name": "stderr",
          "output_type": "stream",
          "text": [
            "Chain 3: 100%|██████████| 25/25 [00:00<00:00, 34.66it/s]\n"
          ]
        },
        {
          "name": "stdout",
          "output_type": "stream",
          "text": [
            "Moving model to device:  cpu\n"
          ]
        },
        {
          "name": "stderr",
          "output_type": "stream",
          "text": [
            "Chain 4: 100%|██████████| 25/25 [00:00<00:00, 32.62it/s]\n"
          ]
        },
        {
          "name": "stdout",
          "output_type": "stream",
          "text": [
            "Moving model to device:  cpu\n"
          ]
        },
        {
          "name": "stderr",
          "output_type": "stream",
          "text": [
            "Chain 5: 100%|██████████| 25/25 [00:00<00:00, 35.24it/s]\n"
          ]
        },
        {
          "name": "stdout",
          "output_type": "stream",
          "text": [
            "Moving model to device:  cpu\n"
          ]
        },
        {
          "name": "stderr",
          "output_type": "stream",
          "text": [
            "Chain 6: 100%|██████████| 25/25 [00:00<00:00, 33.99it/s]\n"
          ]
        },
        {
          "name": "stdout",
          "output_type": "stream",
          "text": [
            "Moving model to device:  cpu\n"
          ]
        },
        {
          "name": "stderr",
          "output_type": "stream",
          "text": [
            "Chain 7: 100%|██████████| 25/25 [00:00<00:00, 34.12it/s]\n"
          ]
        },
        {
          "name": "stdout",
          "output_type": "stream",
          "text": [
            "Moving model to device:  cpu\n"
          ]
        },
        {
          "name": "stderr",
          "output_type": "stream",
          "text": [
            "Chain 8: 100%|██████████| 25/25 [00:00<00:00, 34.33it/s]\n"
          ]
        },
        {
          "name": "stdout",
          "output_type": "stream",
          "text": [
            "Moving model to device:  cpu\n"
          ]
        },
        {
          "name": "stderr",
          "output_type": "stream",
          "text": [
            "Chain 9: 100%|██████████| 25/25 [00:00<00:00, 32.81it/s]\n"
          ]
        },
        {
          "name": "stdout",
          "output_type": "stream",
          "text": [
            "Moving model to device:  cpu\n"
          ]
        },
        {
          "name": "stderr",
          "output_type": "stream",
          "text": [
            "Chain 10: 100%|██████████| 25/25 [00:00<00:00, 34.70it/s]\n"
          ]
        },
        {
          "name": "stdout",
          "output_type": "stream",
          "text": [
            "Moving model to device:  cpu\n"
          ]
        },
        {
          "name": "stderr",
          "output_type": "stream",
          "text": [
            "Chain 11: 100%|██████████| 25/25 [00:00<00:00, 35.25it/s]\n"
          ]
        },
        {
          "name": "stdout",
          "output_type": "stream",
          "text": [
            "Moving model to device:  cpu\n"
          ]
        },
        {
          "name": "stderr",
          "output_type": "stream",
          "text": [
            "Chain 12: 100%|██████████| 25/25 [00:00<00:00, 34.56it/s]\n"
          ]
        },
        {
          "name": "stdout",
          "output_type": "stream",
          "text": [
            "Moving model to device:  cpu\n"
          ]
        },
        {
          "name": "stderr",
          "output_type": "stream",
          "text": [
            "Chain 13: 100%|██████████| 25/25 [00:00<00:00, 34.36it/s]\n"
          ]
        },
        {
          "name": "stdout",
          "output_type": "stream",
          "text": [
            "Moving model to device:  cpu\n"
          ]
        },
        {
          "name": "stderr",
          "output_type": "stream",
          "text": [
            "Chain 14: 100%|██████████| 25/25 [00:00<00:00, 32.23it/s]\n"
          ]
        },
        {
          "name": "stdout",
          "output_type": "stream",
          "text": [
            "result = 693.1669311523438\n",
            "Moving model to device:  cpu\n",
            "Moving model to device:  cpu\n",
            "Moving model to device:  cpu\n"
          ]
        },
        {
          "name": "stderr",
          "output_type": "stream",
          "text": [
            "Chain 0: 100%|██████████| 25/25 [00:00<00:00, 36.79it/s]\n"
          ]
        },
        {
          "name": "stdout",
          "output_type": "stream",
          "text": [
            "Moving model to device:  cpu\n"
          ]
        },
        {
          "name": "stderr",
          "output_type": "stream",
          "text": [
            "Chain 1: 100%|██████████| 25/25 [00:00<00:00, 28.41it/s]\n"
          ]
        },
        {
          "name": "stdout",
          "output_type": "stream",
          "text": [
            "Moving model to device:  cpu\n"
          ]
        },
        {
          "name": "stderr",
          "output_type": "stream",
          "text": [
            "Chain 2: 100%|██████████| 25/25 [00:00<00:00, 35.69it/s]\n"
          ]
        },
        {
          "name": "stdout",
          "output_type": "stream",
          "text": [
            "Moving model to device:  cpu\n"
          ]
        },
        {
          "name": "stderr",
          "output_type": "stream",
          "text": [
            "Chain 3: 100%|██████████| 25/25 [00:00<00:00, 34.58it/s]\n"
          ]
        },
        {
          "name": "stdout",
          "output_type": "stream",
          "text": [
            "Moving model to device:  cpu\n"
          ]
        },
        {
          "name": "stderr",
          "output_type": "stream",
          "text": [
            "Chain 4: 100%|██████████| 25/25 [00:00<00:00, 32.37it/s]\n"
          ]
        },
        {
          "name": "stdout",
          "output_type": "stream",
          "text": [
            "Moving model to device:  cpu\n"
          ]
        },
        {
          "name": "stderr",
          "output_type": "stream",
          "text": [
            "Chain 5: 100%|██████████| 25/25 [00:00<00:00, 35.64it/s]\n"
          ]
        },
        {
          "name": "stdout",
          "output_type": "stream",
          "text": [
            "Moving model to device:  cpu\n"
          ]
        },
        {
          "name": "stderr",
          "output_type": "stream",
          "text": [
            "Chain 6: 100%|██████████| 25/25 [00:00<00:00, 35.46it/s]\n"
          ]
        },
        {
          "name": "stdout",
          "output_type": "stream",
          "text": [
            "Moving model to device:  cpu\n"
          ]
        },
        {
          "name": "stderr",
          "output_type": "stream",
          "text": [
            "Chain 7: 100%|██████████| 25/25 [00:00<00:00, 32.85it/s]\n"
          ]
        },
        {
          "name": "stdout",
          "output_type": "stream",
          "text": [
            "Moving model to device:  cpu\n"
          ]
        },
        {
          "name": "stderr",
          "output_type": "stream",
          "text": [
            "Chain 8: 100%|██████████| 25/25 [00:00<00:00, 35.13it/s]\n"
          ]
        },
        {
          "name": "stdout",
          "output_type": "stream",
          "text": [
            "Moving model to device:  cpu\n"
          ]
        },
        {
          "name": "stderr",
          "output_type": "stream",
          "text": [
            "Chain 9: 100%|██████████| 25/25 [00:00<00:00, 34.33it/s]\n"
          ]
        },
        {
          "name": "stdout",
          "output_type": "stream",
          "text": [
            "Moving model to device:  cpu\n"
          ]
        },
        {
          "name": "stderr",
          "output_type": "stream",
          "text": [
            "Chain 10: 100%|██████████| 25/25 [00:00<00:00, 33.28it/s]\n"
          ]
        },
        {
          "name": "stdout",
          "output_type": "stream",
          "text": [
            "Moving model to device:  cpu\n"
          ]
        },
        {
          "name": "stderr",
          "output_type": "stream",
          "text": [
            "Chain 11: 100%|██████████| 25/25 [00:00<00:00, 35.56it/s]\n"
          ]
        },
        {
          "name": "stdout",
          "output_type": "stream",
          "text": [
            "Moving model to device:  cpu\n"
          ]
        },
        {
          "name": "stderr",
          "output_type": "stream",
          "text": [
            "Chain 12: 100%|██████████| 25/25 [00:00<00:00, 34.31it/s]\n"
          ]
        },
        {
          "name": "stdout",
          "output_type": "stream",
          "text": [
            "Moving model to device:  cpu\n"
          ]
        },
        {
          "name": "stderr",
          "output_type": "stream",
          "text": [
            "Chain 13: 100%|██████████| 25/25 [00:00<00:00, 35.31it/s]\n"
          ]
        },
        {
          "name": "stdout",
          "output_type": "stream",
          "text": [
            "Moving model to device:  cpu\n"
          ]
        },
        {
          "name": "stderr",
          "output_type": "stream",
          "text": [
            "Chain 14: 100%|██████████| 25/25 [00:00<00:00, 35.60it/s]\n"
          ]
        },
        {
          "name": "stdout",
          "output_type": "stream",
          "text": [
            "result = 689.7379760742188\n",
            "Moving model to device:  cpu\n",
            "Moving model to device:  cpu\n",
            "Moving model to device:  cpu\n"
          ]
        },
        {
          "name": "stderr",
          "output_type": "stream",
          "text": [
            "Chain 0: 100%|██████████| 25/25 [00:00<00:00, 26.77it/s]\n"
          ]
        },
        {
          "name": "stdout",
          "output_type": "stream",
          "text": [
            "Moving model to device:  cpu\n"
          ]
        },
        {
          "name": "stderr",
          "output_type": "stream",
          "text": [
            "Chain 1: 100%|██████████| 25/25 [00:00<00:00, 34.84it/s]\n"
          ]
        },
        {
          "name": "stdout",
          "output_type": "stream",
          "text": [
            "Moving model to device:  cpu\n"
          ]
        },
        {
          "name": "stderr",
          "output_type": "stream",
          "text": [
            "Chain 2: 100%|██████████| 25/25 [00:00<00:00, 34.42it/s]\n"
          ]
        },
        {
          "name": "stdout",
          "output_type": "stream",
          "text": [
            "Moving model to device:  cpu\n"
          ]
        },
        {
          "name": "stderr",
          "output_type": "stream",
          "text": [
            "Chain 3: 100%|██████████| 25/25 [00:00<00:00, 35.05it/s]\n"
          ]
        },
        {
          "name": "stdout",
          "output_type": "stream",
          "text": [
            "Moving model to device:  cpu\n"
          ]
        },
        {
          "name": "stderr",
          "output_type": "stream",
          "text": [
            "Chain 4: 100%|██████████| 25/25 [00:00<00:00, 34.88it/s]\n"
          ]
        },
        {
          "name": "stdout",
          "output_type": "stream",
          "text": [
            "Moving model to device:  cpu\n"
          ]
        },
        {
          "name": "stderr",
          "output_type": "stream",
          "text": [
            "Chain 5: 100%|██████████| 25/25 [00:00<00:00, 33.40it/s]\n"
          ]
        },
        {
          "name": "stdout",
          "output_type": "stream",
          "text": [
            "Moving model to device:  cpu\n"
          ]
        },
        {
          "name": "stderr",
          "output_type": "stream",
          "text": [
            "Chain 6: 100%|██████████| 25/25 [00:00<00:00, 34.91it/s]\n"
          ]
        },
        {
          "name": "stdout",
          "output_type": "stream",
          "text": [
            "Moving model to device:  cpu\n"
          ]
        },
        {
          "name": "stderr",
          "output_type": "stream",
          "text": [
            "Chain 7: 100%|██████████| 25/25 [00:00<00:00, 34.82it/s]\n"
          ]
        },
        {
          "name": "stdout",
          "output_type": "stream",
          "text": [
            "Moving model to device:  cpu\n"
          ]
        },
        {
          "name": "stderr",
          "output_type": "stream",
          "text": [
            "Chain 8: 100%|██████████| 25/25 [00:00<00:00, 35.40it/s]\n"
          ]
        },
        {
          "name": "stdout",
          "output_type": "stream",
          "text": [
            "Moving model to device:  cpu\n"
          ]
        },
        {
          "name": "stderr",
          "output_type": "stream",
          "text": [
            "Chain 9: 100%|██████████| 25/25 [00:00<00:00, 34.33it/s]\n"
          ]
        },
        {
          "name": "stdout",
          "output_type": "stream",
          "text": [
            "Moving model to device:  cpu\n"
          ]
        },
        {
          "name": "stderr",
          "output_type": "stream",
          "text": [
            "Chain 10: 100%|██████████| 25/25 [00:00<00:00, 32.48it/s]\n"
          ]
        },
        {
          "name": "stdout",
          "output_type": "stream",
          "text": [
            "Moving model to device:  cpu\n"
          ]
        },
        {
          "name": "stderr",
          "output_type": "stream",
          "text": [
            "Chain 11: 100%|██████████| 25/25 [00:00<00:00, 34.24it/s]\n"
          ]
        },
        {
          "name": "stdout",
          "output_type": "stream",
          "text": [
            "Moving model to device:  cpu\n"
          ]
        },
        {
          "name": "stderr",
          "output_type": "stream",
          "text": [
            "Chain 12: 100%|██████████| 25/25 [00:00<00:00, 35.21it/s]\n"
          ]
        },
        {
          "name": "stdout",
          "output_type": "stream",
          "text": [
            "Moving model to device:  cpu\n"
          ]
        },
        {
          "name": "stderr",
          "output_type": "stream",
          "text": [
            "Chain 13: 100%|██████████| 25/25 [00:00<00:00, 35.30it/s]\n"
          ]
        },
        {
          "name": "stdout",
          "output_type": "stream",
          "text": [
            "Moving model to device:  cpu\n"
          ]
        },
        {
          "name": "stderr",
          "output_type": "stream",
          "text": [
            "Chain 14: 100%|██████████| 25/25 [00:00<00:00, 35.16it/s]\n"
          ]
        },
        {
          "name": "stdout",
          "output_type": "stream",
          "text": [
            "result = 680.7289428710938\n",
            "Moving model to device:  cpu\n",
            "Moving model to device:  cpu\n",
            "Moving model to device:  cpu\n"
          ]
        },
        {
          "name": "stderr",
          "output_type": "stream",
          "text": [
            "Chain 0: 100%|██████████| 25/25 [00:00<00:00, 27.06it/s]\n"
          ]
        },
        {
          "name": "stdout",
          "output_type": "stream",
          "text": [
            "Moving model to device:  cpu\n"
          ]
        },
        {
          "name": "stderr",
          "output_type": "stream",
          "text": [
            "Chain 1: 100%|██████████| 25/25 [00:00<00:00, 35.17it/s]\n"
          ]
        },
        {
          "name": "stdout",
          "output_type": "stream",
          "text": [
            "Moving model to device:  cpu\n"
          ]
        },
        {
          "name": "stderr",
          "output_type": "stream",
          "text": [
            "Chain 2: 100%|██████████| 25/25 [00:00<00:00, 34.06it/s]\n"
          ]
        },
        {
          "name": "stdout",
          "output_type": "stream",
          "text": [
            "Moving model to device:  cpu\n"
          ]
        },
        {
          "name": "stderr",
          "output_type": "stream",
          "text": [
            "Chain 3: 100%|██████████| 25/25 [00:00<00:00, 31.91it/s]\n"
          ]
        },
        {
          "name": "stdout",
          "output_type": "stream",
          "text": [
            "Moving model to device:  cpu\n"
          ]
        },
        {
          "name": "stderr",
          "output_type": "stream",
          "text": [
            "Chain 4: 100%|██████████| 25/25 [00:00<00:00, 34.10it/s]\n"
          ]
        },
        {
          "name": "stdout",
          "output_type": "stream",
          "text": [
            "Moving model to device:  cpu\n"
          ]
        },
        {
          "name": "stderr",
          "output_type": "stream",
          "text": [
            "Chain 5: 100%|██████████| 25/25 [00:00<00:00, 34.76it/s]\n"
          ]
        },
        {
          "name": "stdout",
          "output_type": "stream",
          "text": [
            "Moving model to device:  cpu\n"
          ]
        },
        {
          "name": "stderr",
          "output_type": "stream",
          "text": [
            "Chain 6: 100%|██████████| 25/25 [00:00<00:00, 30.31it/s]\n"
          ]
        },
        {
          "name": "stdout",
          "output_type": "stream",
          "text": [
            "Moving model to device:  cpu\n"
          ]
        },
        {
          "name": "stderr",
          "output_type": "stream",
          "text": [
            "Chain 7: 100%|██████████| 25/25 [00:00<00:00, 35.11it/s]\n"
          ]
        },
        {
          "name": "stdout",
          "output_type": "stream",
          "text": [
            "Moving model to device:  cpu\n"
          ]
        },
        {
          "name": "stderr",
          "output_type": "stream",
          "text": [
            "Chain 8: 100%|██████████| 25/25 [00:00<00:00, 34.97it/s]\n"
          ]
        },
        {
          "name": "stdout",
          "output_type": "stream",
          "text": [
            "Moving model to device:  cpu\n"
          ]
        },
        {
          "name": "stderr",
          "output_type": "stream",
          "text": [
            "Chain 9: 100%|██████████| 25/25 [00:00<00:00, 34.93it/s]\n"
          ]
        },
        {
          "name": "stdout",
          "output_type": "stream",
          "text": [
            "Moving model to device:  cpu\n"
          ]
        },
        {
          "name": "stderr",
          "output_type": "stream",
          "text": [
            "Chain 10: 100%|██████████| 25/25 [00:00<00:00, 34.89it/s]\n"
          ]
        },
        {
          "name": "stdout",
          "output_type": "stream",
          "text": [
            "Moving model to device:  cpu\n"
          ]
        },
        {
          "name": "stderr",
          "output_type": "stream",
          "text": [
            "Chain 11: 100%|██████████| 25/25 [00:00<00:00, 32.59it/s]\n"
          ]
        },
        {
          "name": "stdout",
          "output_type": "stream",
          "text": [
            "Moving model to device:  cpu\n"
          ]
        },
        {
          "name": "stderr",
          "output_type": "stream",
          "text": [
            "Chain 12: 100%|██████████| 25/25 [00:00<00:00, 31.90it/s]\n"
          ]
        },
        {
          "name": "stdout",
          "output_type": "stream",
          "text": [
            "Moving model to device:  cpu\n"
          ]
        },
        {
          "name": "stderr",
          "output_type": "stream",
          "text": [
            "Chain 13: 100%|██████████| 25/25 [00:00<00:00, 35.09it/s]\n"
          ]
        },
        {
          "name": "stdout",
          "output_type": "stream",
          "text": [
            "Moving model to device:  cpu\n"
          ]
        },
        {
          "name": "stderr",
          "output_type": "stream",
          "text": [
            "Chain 14: 100%|██████████| 25/25 [00:00<00:00, 34.01it/s]\n"
          ]
        },
        {
          "name": "stdout",
          "output_type": "stream",
          "text": [
            "result = 683.0399780273438\n",
            "Moving model to device:  cpu\n",
            "Moving model to device:  cpu\n",
            "Moving model to device:  cpu\n"
          ]
        },
        {
          "name": "stderr",
          "output_type": "stream",
          "text": [
            "Chain 0: 100%|██████████| 25/25 [00:00<00:00, 27.99it/s]\n"
          ]
        },
        {
          "name": "stdout",
          "output_type": "stream",
          "text": [
            "Moving model to device:  cpu\n"
          ]
        },
        {
          "name": "stderr",
          "output_type": "stream",
          "text": [
            "Chain 1: 100%|██████████| 25/25 [00:00<00:00, 32.20it/s]\n"
          ]
        },
        {
          "name": "stdout",
          "output_type": "stream",
          "text": [
            "Moving model to device:  cpu\n"
          ]
        },
        {
          "name": "stderr",
          "output_type": "stream",
          "text": [
            "Chain 2: 100%|██████████| 25/25 [00:00<00:00, 31.90it/s]\n"
          ]
        },
        {
          "name": "stdout",
          "output_type": "stream",
          "text": [
            "Moving model to device:  cpu\n"
          ]
        },
        {
          "name": "stderr",
          "output_type": "stream",
          "text": [
            "Chain 3: 100%|██████████| 25/25 [00:00<00:00, 34.56it/s]\n"
          ]
        },
        {
          "name": "stdout",
          "output_type": "stream",
          "text": [
            "Moving model to device:  cpu\n"
          ]
        },
        {
          "name": "stderr",
          "output_type": "stream",
          "text": [
            "Chain 4: 100%|██████████| 25/25 [00:00<00:00, 34.80it/s]\n"
          ]
        },
        {
          "name": "stdout",
          "output_type": "stream",
          "text": [
            "Moving model to device:  cpu\n"
          ]
        },
        {
          "name": "stderr",
          "output_type": "stream",
          "text": [
            "Chain 5: 100%|██████████| 25/25 [00:00<00:00, 34.16it/s]\n"
          ]
        },
        {
          "name": "stdout",
          "output_type": "stream",
          "text": [
            "Moving model to device:  cpu\n"
          ]
        },
        {
          "name": "stderr",
          "output_type": "stream",
          "text": [
            "Chain 6: 100%|██████████| 25/25 [00:00<00:00, 33.32it/s]\n"
          ]
        },
        {
          "name": "stdout",
          "output_type": "stream",
          "text": [
            "Moving model to device:  cpu\n"
          ]
        },
        {
          "name": "stderr",
          "output_type": "stream",
          "text": [
            "Chain 7: 100%|██████████| 25/25 [00:00<00:00, 36.21it/s]\n"
          ]
        },
        {
          "name": "stdout",
          "output_type": "stream",
          "text": [
            "Moving model to device:  cpu\n"
          ]
        },
        {
          "name": "stderr",
          "output_type": "stream",
          "text": [
            "Chain 8: 100%|██████████| 25/25 [00:00<00:00, 35.08it/s]\n"
          ]
        },
        {
          "name": "stdout",
          "output_type": "stream",
          "text": [
            "Moving model to device:  cpu\n"
          ]
        },
        {
          "name": "stderr",
          "output_type": "stream",
          "text": [
            "Chain 9: 100%|██████████| 25/25 [00:00<00:00, 34.84it/s]\n"
          ]
        },
        {
          "name": "stdout",
          "output_type": "stream",
          "text": [
            "Moving model to device:  cpu\n"
          ]
        },
        {
          "name": "stderr",
          "output_type": "stream",
          "text": [
            "Chain 10: 100%|██████████| 25/25 [00:00<00:00, 36.42it/s]\n"
          ]
        },
        {
          "name": "stdout",
          "output_type": "stream",
          "text": [
            "Moving model to device:  cpu\n"
          ]
        },
        {
          "name": "stderr",
          "output_type": "stream",
          "text": [
            "Chain 11: 100%|██████████| 25/25 [00:00<00:00, 32.18it/s]\n"
          ]
        },
        {
          "name": "stdout",
          "output_type": "stream",
          "text": [
            "Moving model to device:  cpu\n"
          ]
        },
        {
          "name": "stderr",
          "output_type": "stream",
          "text": [
            "Chain 12: 100%|██████████| 25/25 [00:00<00:00, 35.53it/s]\n"
          ]
        },
        {
          "name": "stdout",
          "output_type": "stream",
          "text": [
            "Moving model to device:  cpu\n"
          ]
        },
        {
          "name": "stderr",
          "output_type": "stream",
          "text": [
            "Chain 13: 100%|██████████| 25/25 [00:00<00:00, 34.60it/s]\n"
          ]
        },
        {
          "name": "stdout",
          "output_type": "stream",
          "text": [
            "Moving model to device:  cpu\n"
          ]
        },
        {
          "name": "stderr",
          "output_type": "stream",
          "text": [
            "Chain 14: 100%|██████████| 25/25 [00:00<00:00, 35.41it/s]\n"
          ]
        },
        {
          "name": "stdout",
          "output_type": "stream",
          "text": [
            "result = 613.356689453125\n",
            "Moving model to device:  cpu\n",
            "Moving model to device:  cpu\n",
            "Moving model to device:  cpu\n"
          ]
        },
        {
          "name": "stderr",
          "output_type": "stream",
          "text": [
            "Chain 0: 100%|██████████| 25/25 [00:00<00:00, 35.21it/s]\n"
          ]
        },
        {
          "name": "stdout",
          "output_type": "stream",
          "text": [
            "Moving model to device:  cpu\n"
          ]
        },
        {
          "name": "stderr",
          "output_type": "stream",
          "text": [
            "Chain 1: 100%|██████████| 25/25 [00:00<00:00, 32.25it/s]\n"
          ]
        },
        {
          "name": "stdout",
          "output_type": "stream",
          "text": [
            "Moving model to device:  cpu\n"
          ]
        },
        {
          "name": "stderr",
          "output_type": "stream",
          "text": [
            "Chain 2: 100%|██████████| 25/25 [00:00<00:00, 34.78it/s]\n"
          ]
        },
        {
          "name": "stdout",
          "output_type": "stream",
          "text": [
            "Moving model to device:  cpu\n"
          ]
        },
        {
          "name": "stderr",
          "output_type": "stream",
          "text": [
            "Chain 3: 100%|██████████| 25/25 [00:00<00:00, 35.75it/s]\n"
          ]
        },
        {
          "name": "stdout",
          "output_type": "stream",
          "text": [
            "Moving model to device:  cpu\n"
          ]
        },
        {
          "name": "stderr",
          "output_type": "stream",
          "text": [
            "Chain 4: 100%|██████████| 25/25 [00:00<00:00, 35.83it/s]\n"
          ]
        },
        {
          "name": "stdout",
          "output_type": "stream",
          "text": [
            "Moving model to device:  cpu\n"
          ]
        },
        {
          "name": "stderr",
          "output_type": "stream",
          "text": [
            "Chain 5: 100%|██████████| 25/25 [00:00<00:00, 35.03it/s]\n"
          ]
        },
        {
          "name": "stdout",
          "output_type": "stream",
          "text": [
            "Moving model to device:  cpu\n"
          ]
        },
        {
          "name": "stderr",
          "output_type": "stream",
          "text": [
            "Chain 6: 100%|██████████| 25/25 [00:00<00:00, 32.67it/s]\n"
          ]
        },
        {
          "name": "stdout",
          "output_type": "stream",
          "text": [
            "Moving model to device:  cpu\n"
          ]
        },
        {
          "name": "stderr",
          "output_type": "stream",
          "text": [
            "Chain 7: 100%|██████████| 25/25 [00:00<00:00, 35.02it/s]\n"
          ]
        },
        {
          "name": "stdout",
          "output_type": "stream",
          "text": [
            "Moving model to device:  cpu\n"
          ]
        },
        {
          "name": "stderr",
          "output_type": "stream",
          "text": [
            "Chain 8: 100%|██████████| 25/25 [00:00<00:00, 34.74it/s]\n"
          ]
        },
        {
          "name": "stdout",
          "output_type": "stream",
          "text": [
            "Moving model to device:  cpu\n"
          ]
        },
        {
          "name": "stderr",
          "output_type": "stream",
          "text": [
            "Chain 9: 100%|██████████| 25/25 [00:00<00:00, 33.73it/s]\n"
          ]
        },
        {
          "name": "stdout",
          "output_type": "stream",
          "text": [
            "Moving model to device:  cpu\n"
          ]
        },
        {
          "name": "stderr",
          "output_type": "stream",
          "text": [
            "Chain 10: 100%|██████████| 25/25 [00:00<00:00, 28.63it/s]\n"
          ]
        },
        {
          "name": "stdout",
          "output_type": "stream",
          "text": [
            "Moving model to device:  cpu\n"
          ]
        },
        {
          "name": "stderr",
          "output_type": "stream",
          "text": [
            "Chain 11: 100%|██████████| 25/25 [00:01<00:00, 24.92it/s]\n"
          ]
        },
        {
          "name": "stdout",
          "output_type": "stream",
          "text": [
            "Moving model to device:  cpu\n"
          ]
        },
        {
          "name": "stderr",
          "output_type": "stream",
          "text": [
            "Chain 12: 100%|██████████| 25/25 [00:00<00:00, 29.04it/s]\n"
          ]
        },
        {
          "name": "stdout",
          "output_type": "stream",
          "text": [
            "Moving model to device:  cpu\n"
          ]
        },
        {
          "name": "stderr",
          "output_type": "stream",
          "text": [
            "Chain 13: 100%|██████████| 25/25 [00:01<00:00, 20.68it/s]\n"
          ]
        },
        {
          "name": "stdout",
          "output_type": "stream",
          "text": [
            "Moving model to device:  cpu\n"
          ]
        },
        {
          "name": "stderr",
          "output_type": "stream",
          "text": [
            "Chain 14: 100%|██████████| 25/25 [00:00<00:00, 27.08it/s]\n"
          ]
        },
        {
          "name": "stdout",
          "output_type": "stream",
          "text": [
            "result = 691.0194091796875\n",
            "Moving model to device:  cpu\n",
            "Moving model to device:  cpu\n",
            "Moving model to device:  cpu\n"
          ]
        },
        {
          "name": "stderr",
          "output_type": "stream",
          "text": [
            "Chain 0: 100%|██████████| 25/25 [00:00<00:00, 30.52it/s]\n"
          ]
        },
        {
          "name": "stdout",
          "output_type": "stream",
          "text": [
            "Moving model to device:  cpu\n"
          ]
        },
        {
          "name": "stderr",
          "output_type": "stream",
          "text": [
            "Chain 1: 100%|██████████| 25/25 [00:00<00:00, 30.91it/s]\n"
          ]
        },
        {
          "name": "stdout",
          "output_type": "stream",
          "text": [
            "Moving model to device:  cpu\n"
          ]
        },
        {
          "name": "stderr",
          "output_type": "stream",
          "text": [
            "Chain 2: 100%|██████████| 25/25 [00:00<00:00, 28.45it/s]\n"
          ]
        },
        {
          "name": "stdout",
          "output_type": "stream",
          "text": [
            "Moving model to device:  cpu\n"
          ]
        },
        {
          "name": "stderr",
          "output_type": "stream",
          "text": [
            "Chain 3: 100%|██████████| 25/25 [00:00<00:00, 31.52it/s]\n"
          ]
        },
        {
          "name": "stdout",
          "output_type": "stream",
          "text": [
            "Moving model to device:  cpu\n"
          ]
        },
        {
          "name": "stderr",
          "output_type": "stream",
          "text": [
            "Chain 4: 100%|██████████| 25/25 [00:00<00:00, 31.90it/s]\n"
          ]
        },
        {
          "name": "stdout",
          "output_type": "stream",
          "text": [
            "Moving model to device:  cpu\n"
          ]
        },
        {
          "name": "stderr",
          "output_type": "stream",
          "text": [
            "Chain 5: 100%|██████████| 25/25 [00:00<00:00, 32.35it/s]\n"
          ]
        },
        {
          "name": "stdout",
          "output_type": "stream",
          "text": [
            "Moving model to device:  cpu\n"
          ]
        },
        {
          "name": "stderr",
          "output_type": "stream",
          "text": [
            "Chain 6: 100%|██████████| 25/25 [00:00<00:00, 29.57it/s]\n"
          ]
        },
        {
          "name": "stdout",
          "output_type": "stream",
          "text": [
            "Moving model to device:  cpu\n"
          ]
        },
        {
          "name": "stderr",
          "output_type": "stream",
          "text": [
            "Chain 7: 100%|██████████| 25/25 [00:00<00:00, 30.97it/s]\n"
          ]
        },
        {
          "name": "stdout",
          "output_type": "stream",
          "text": [
            "Moving model to device:  cpu\n"
          ]
        },
        {
          "name": "stderr",
          "output_type": "stream",
          "text": [
            "Chain 8: 100%|██████████| 25/25 [00:00<00:00, 31.16it/s]\n"
          ]
        },
        {
          "name": "stdout",
          "output_type": "stream",
          "text": [
            "Moving model to device:  cpu\n"
          ]
        },
        {
          "name": "stderr",
          "output_type": "stream",
          "text": [
            "Chain 9: 100%|██████████| 25/25 [00:00<00:00, 31.26it/s]\n"
          ]
        },
        {
          "name": "stdout",
          "output_type": "stream",
          "text": [
            "Moving model to device:  cpu\n"
          ]
        },
        {
          "name": "stderr",
          "output_type": "stream",
          "text": [
            "Chain 10: 100%|██████████| 25/25 [00:00<00:00, 32.42it/s]\n"
          ]
        },
        {
          "name": "stdout",
          "output_type": "stream",
          "text": [
            "Moving model to device:  cpu\n"
          ]
        },
        {
          "name": "stderr",
          "output_type": "stream",
          "text": [
            "Chain 11: 100%|██████████| 25/25 [00:00<00:00, 28.29it/s]\n"
          ]
        },
        {
          "name": "stdout",
          "output_type": "stream",
          "text": [
            "Moving model to device:  cpu\n"
          ]
        },
        {
          "name": "stderr",
          "output_type": "stream",
          "text": [
            "Chain 12: 100%|██████████| 25/25 [00:00<00:00, 30.40it/s]\n"
          ]
        },
        {
          "name": "stdout",
          "output_type": "stream",
          "text": [
            "Moving model to device:  cpu\n"
          ]
        },
        {
          "name": "stderr",
          "output_type": "stream",
          "text": [
            "Chain 13: 100%|██████████| 25/25 [00:00<00:00, 30.82it/s]\n"
          ]
        },
        {
          "name": "stdout",
          "output_type": "stream",
          "text": [
            "Moving model to device:  cpu\n"
          ]
        },
        {
          "name": "stderr",
          "output_type": "stream",
          "text": [
            "Chain 14: 100%|██████████| 25/25 [00:00<00:00, 30.91it/s]\n"
          ]
        },
        {
          "name": "stdout",
          "output_type": "stream",
          "text": [
            "result = 577.3773193359375\n",
            "Moving model to device:  cpu\n",
            "Moving model to device:  cpu\n",
            "Moving model to device:  cpu\n"
          ]
        },
        {
          "name": "stderr",
          "output_type": "stream",
          "text": [
            "Chain 0: 100%|██████████| 25/25 [00:00<00:00, 29.52it/s]\n"
          ]
        },
        {
          "name": "stdout",
          "output_type": "stream",
          "text": [
            "Moving model to device:  cpu\n"
          ]
        },
        {
          "name": "stderr",
          "output_type": "stream",
          "text": [
            "Chain 1: 100%|██████████| 25/25 [00:00<00:00, 31.39it/s]\n"
          ]
        },
        {
          "name": "stdout",
          "output_type": "stream",
          "text": [
            "Moving model to device:  cpu\n"
          ]
        },
        {
          "name": "stderr",
          "output_type": "stream",
          "text": [
            "Chain 2: 100%|██████████| 25/25 [00:00<00:00, 31.44it/s]\n"
          ]
        },
        {
          "name": "stdout",
          "output_type": "stream",
          "text": [
            "Moving model to device:  cpu\n"
          ]
        },
        {
          "name": "stderr",
          "output_type": "stream",
          "text": [
            "Chain 3: 100%|██████████| 25/25 [00:00<00:00, 32.04it/s]\n"
          ]
        },
        {
          "name": "stdout",
          "output_type": "stream",
          "text": [
            "Moving model to device:  cpu\n"
          ]
        },
        {
          "name": "stderr",
          "output_type": "stream",
          "text": [
            "Chain 4: 100%|██████████| 25/25 [00:00<00:00, 29.14it/s]\n"
          ]
        },
        {
          "name": "stdout",
          "output_type": "stream",
          "text": [
            "Moving model to device:  cpu\n"
          ]
        },
        {
          "name": "stderr",
          "output_type": "stream",
          "text": [
            "Chain 5: 100%|██████████| 25/25 [00:00<00:00, 30.87it/s]\n"
          ]
        },
        {
          "name": "stdout",
          "output_type": "stream",
          "text": [
            "Moving model to device:  cpu\n"
          ]
        },
        {
          "name": "stderr",
          "output_type": "stream",
          "text": [
            "Chain 6: 100%|██████████| 25/25 [00:00<00:00, 30.06it/s]\n"
          ]
        },
        {
          "name": "stdout",
          "output_type": "stream",
          "text": [
            "Moving model to device:  cpu\n"
          ]
        },
        {
          "name": "stderr",
          "output_type": "stream",
          "text": [
            "Chain 7: 100%|██████████| 25/25 [00:00<00:00, 25.74it/s]\n"
          ]
        },
        {
          "name": "stdout",
          "output_type": "stream",
          "text": [
            "Moving model to device:  cpu\n"
          ]
        },
        {
          "name": "stderr",
          "output_type": "stream",
          "text": [
            "Chain 8: 100%|██████████| 25/25 [00:00<00:00, 27.63it/s]\n"
          ]
        },
        {
          "name": "stdout",
          "output_type": "stream",
          "text": [
            "Moving model to device:  cpu\n"
          ]
        },
        {
          "name": "stderr",
          "output_type": "stream",
          "text": [
            "Chain 9: 100%|██████████| 25/25 [00:00<00:00, 32.35it/s]\n"
          ]
        },
        {
          "name": "stdout",
          "output_type": "stream",
          "text": [
            "Moving model to device:  cpu\n"
          ]
        },
        {
          "name": "stderr",
          "output_type": "stream",
          "text": [
            "Chain 10: 100%|██████████| 25/25 [00:00<00:00, 32.94it/s]\n"
          ]
        },
        {
          "name": "stdout",
          "output_type": "stream",
          "text": [
            "Moving model to device:  cpu\n"
          ]
        },
        {
          "name": "stderr",
          "output_type": "stream",
          "text": [
            "Chain 11: 100%|██████████| 25/25 [00:00<00:00, 33.30it/s]\n"
          ]
        },
        {
          "name": "stdout",
          "output_type": "stream",
          "text": [
            "Moving model to device:  cpu\n"
          ]
        },
        {
          "name": "stderr",
          "output_type": "stream",
          "text": [
            "Chain 12: 100%|██████████| 25/25 [00:00<00:00, 34.22it/s]\n"
          ]
        },
        {
          "name": "stdout",
          "output_type": "stream",
          "text": [
            "Moving model to device:  cpu\n"
          ]
        },
        {
          "name": "stderr",
          "output_type": "stream",
          "text": [
            "Chain 13: 100%|██████████| 25/25 [00:00<00:00, 33.55it/s]\n"
          ]
        },
        {
          "name": "stdout",
          "output_type": "stream",
          "text": [
            "Moving model to device:  cpu\n"
          ]
        },
        {
          "name": "stderr",
          "output_type": "stream",
          "text": [
            "Chain 14: 100%|██████████| 25/25 [00:00<00:00, 31.06it/s]\n"
          ]
        },
        {
          "name": "stdout",
          "output_type": "stream",
          "text": [
            "result = 693.2532348632812\n",
            "Moving model to device:  cpu\n",
            "Moving model to device:  cpu\n",
            "Moving model to device:  cpu\n"
          ]
        },
        {
          "name": "stderr",
          "output_type": "stream",
          "text": [
            "Chain 0: 100%|██████████| 25/25 [00:00<00:00, 34.21it/s]\n"
          ]
        },
        {
          "name": "stdout",
          "output_type": "stream",
          "text": [
            "Moving model to device:  cpu\n"
          ]
        },
        {
          "name": "stderr",
          "output_type": "stream",
          "text": [
            "Chain 1: 100%|██████████| 25/25 [00:00<00:00, 34.43it/s]\n"
          ]
        },
        {
          "name": "stdout",
          "output_type": "stream",
          "text": [
            "Moving model to device:  cpu\n"
          ]
        },
        {
          "name": "stderr",
          "output_type": "stream",
          "text": [
            "Chain 2: 100%|██████████| 25/25 [00:00<00:00, 33.88it/s]\n"
          ]
        },
        {
          "name": "stdout",
          "output_type": "stream",
          "text": [
            "Moving model to device:  cpu\n"
          ]
        },
        {
          "name": "stderr",
          "output_type": "stream",
          "text": [
            "Chain 3: 100%|██████████| 25/25 [00:00<00:00, 33.28it/s]\n"
          ]
        },
        {
          "name": "stdout",
          "output_type": "stream",
          "text": [
            "Moving model to device:  cpu\n"
          ]
        },
        {
          "name": "stderr",
          "output_type": "stream",
          "text": [
            "Chain 4: 100%|██████████| 25/25 [00:00<00:00, 31.90it/s]\n"
          ]
        },
        {
          "name": "stdout",
          "output_type": "stream",
          "text": [
            "Moving model to device:  cpu\n"
          ]
        },
        {
          "name": "stderr",
          "output_type": "stream",
          "text": [
            "Chain 5: 100%|██████████| 25/25 [00:00<00:00, 33.77it/s]\n"
          ]
        },
        {
          "name": "stdout",
          "output_type": "stream",
          "text": [
            "Moving model to device:  cpu\n"
          ]
        },
        {
          "name": "stderr",
          "output_type": "stream",
          "text": [
            "Chain 6: 100%|██████████| 25/25 [00:00<00:00, 33.08it/s]\n"
          ]
        },
        {
          "name": "stdout",
          "output_type": "stream",
          "text": [
            "Moving model to device:  cpu\n"
          ]
        },
        {
          "name": "stderr",
          "output_type": "stream",
          "text": [
            "Chain 7: 100%|██████████| 25/25 [00:00<00:00, 34.13it/s]\n"
          ]
        },
        {
          "name": "stdout",
          "output_type": "stream",
          "text": [
            "Moving model to device:  cpu\n"
          ]
        },
        {
          "name": "stderr",
          "output_type": "stream",
          "text": [
            "Chain 8: 100%|██████████| 25/25 [00:00<00:00, 34.48it/s]\n"
          ]
        },
        {
          "name": "stdout",
          "output_type": "stream",
          "text": [
            "Moving model to device:  cpu\n"
          ]
        },
        {
          "name": "stderr",
          "output_type": "stream",
          "text": [
            "Chain 9: 100%|██████████| 25/25 [00:00<00:00, 32.11it/s]\n"
          ]
        },
        {
          "name": "stdout",
          "output_type": "stream",
          "text": [
            "Moving model to device:  cpu\n"
          ]
        },
        {
          "name": "stderr",
          "output_type": "stream",
          "text": [
            "Chain 10: 100%|██████████| 25/25 [00:00<00:00, 34.71it/s]\n"
          ]
        },
        {
          "name": "stdout",
          "output_type": "stream",
          "text": [
            "Moving model to device:  cpu\n"
          ]
        },
        {
          "name": "stderr",
          "output_type": "stream",
          "text": [
            "Chain 11: 100%|██████████| 25/25 [00:00<00:00, 34.44it/s]\n"
          ]
        },
        {
          "name": "stdout",
          "output_type": "stream",
          "text": [
            "Moving model to device:  cpu\n"
          ]
        },
        {
          "name": "stderr",
          "output_type": "stream",
          "text": [
            "Chain 12: 100%|██████████| 25/25 [00:00<00:00, 33.87it/s]\n"
          ]
        },
        {
          "name": "stdout",
          "output_type": "stream",
          "text": [
            "Moving model to device:  cpu\n"
          ]
        },
        {
          "name": "stderr",
          "output_type": "stream",
          "text": [
            "Chain 13: 100%|██████████| 25/25 [00:00<00:00, 33.62it/s]\n"
          ]
        },
        {
          "name": "stdout",
          "output_type": "stream",
          "text": [
            "Moving model to device:  cpu\n"
          ]
        },
        {
          "name": "stderr",
          "output_type": "stream",
          "text": [
            "Chain 14: 100%|██████████| 25/25 [00:00<00:00, 25.99it/s]\n"
          ]
        },
        {
          "name": "stdout",
          "output_type": "stream",
          "text": [
            "result = 480.97296142578125\n",
            "Moving model to device:  cpu\n",
            "Moving model to device:  cpu\n",
            "Moving model to device:  cpu\n"
          ]
        },
        {
          "name": "stderr",
          "output_type": "stream",
          "text": [
            "Chain 0: 100%|██████████| 25/25 [00:00<00:00, 34.33it/s]\n"
          ]
        },
        {
          "name": "stdout",
          "output_type": "stream",
          "text": [
            "Moving model to device:  cpu\n"
          ]
        },
        {
          "name": "stderr",
          "output_type": "stream",
          "text": [
            "Chain 1: 100%|██████████| 25/25 [00:00<00:00, 31.69it/s]\n"
          ]
        },
        {
          "name": "stdout",
          "output_type": "stream",
          "text": [
            "Moving model to device:  cpu\n"
          ]
        },
        {
          "name": "stderr",
          "output_type": "stream",
          "text": [
            "Chain 2: 100%|██████████| 25/25 [00:00<00:00, 33.88it/s]\n"
          ]
        },
        {
          "name": "stdout",
          "output_type": "stream",
          "text": [
            "Moving model to device:  cpu\n"
          ]
        },
        {
          "name": "stderr",
          "output_type": "stream",
          "text": [
            "Chain 3: 100%|██████████| 25/25 [00:00<00:00, 33.43it/s]\n"
          ]
        },
        {
          "name": "stdout",
          "output_type": "stream",
          "text": [
            "Moving model to device:  cpu\n"
          ]
        },
        {
          "name": "stderr",
          "output_type": "stream",
          "text": [
            "Chain 4: 100%|██████████| 25/25 [00:00<00:00, 32.48it/s]\n"
          ]
        },
        {
          "name": "stdout",
          "output_type": "stream",
          "text": [
            "Moving model to device:  cpu\n"
          ]
        },
        {
          "name": "stderr",
          "output_type": "stream",
          "text": [
            "Chain 5: 100%|██████████| 25/25 [00:00<00:00, 31.72it/s]\n"
          ]
        },
        {
          "name": "stdout",
          "output_type": "stream",
          "text": [
            "Moving model to device:  cpu\n"
          ]
        },
        {
          "name": "stderr",
          "output_type": "stream",
          "text": [
            "Chain 6: 100%|██████████| 25/25 [00:00<00:00, 33.57it/s]\n"
          ]
        },
        {
          "name": "stdout",
          "output_type": "stream",
          "text": [
            "Moving model to device:  cpu\n"
          ]
        },
        {
          "name": "stderr",
          "output_type": "stream",
          "text": [
            "Chain 7: 100%|██████████| 25/25 [00:00<00:00, 33.50it/s]\n"
          ]
        },
        {
          "name": "stdout",
          "output_type": "stream",
          "text": [
            "Moving model to device:  cpu\n"
          ]
        },
        {
          "name": "stderr",
          "output_type": "stream",
          "text": [
            "Chain 8: 100%|██████████| 25/25 [00:00<00:00, 34.27it/s]\n"
          ]
        },
        {
          "name": "stdout",
          "output_type": "stream",
          "text": [
            "Moving model to device:  cpu\n"
          ]
        },
        {
          "name": "stderr",
          "output_type": "stream",
          "text": [
            "Chain 9: 100%|██████████| 25/25 [00:00<00:00, 33.45it/s]\n"
          ]
        },
        {
          "name": "stdout",
          "output_type": "stream",
          "text": [
            "Moving model to device:  cpu\n"
          ]
        },
        {
          "name": "stderr",
          "output_type": "stream",
          "text": [
            "Chain 10: 100%|██████████| 25/25 [00:00<00:00, 31.80it/s]\n"
          ]
        },
        {
          "name": "stdout",
          "output_type": "stream",
          "text": [
            "Moving model to device:  cpu\n"
          ]
        },
        {
          "name": "stderr",
          "output_type": "stream",
          "text": [
            "Chain 11: 100%|██████████| 25/25 [00:00<00:00, 33.58it/s]\n"
          ]
        },
        {
          "name": "stdout",
          "output_type": "stream",
          "text": [
            "Moving model to device:  cpu\n"
          ]
        },
        {
          "name": "stderr",
          "output_type": "stream",
          "text": [
            "Chain 12: 100%|██████████| 25/25 [00:00<00:00, 34.63it/s]\n"
          ]
        },
        {
          "name": "stdout",
          "output_type": "stream",
          "text": [
            "Moving model to device:  cpu\n"
          ]
        },
        {
          "name": "stderr",
          "output_type": "stream",
          "text": [
            "Chain 13: 100%|██████████| 25/25 [00:00<00:00, 34.46it/s]\n"
          ]
        },
        {
          "name": "stdout",
          "output_type": "stream",
          "text": [
            "Moving model to device:  cpu\n"
          ]
        },
        {
          "name": "stderr",
          "output_type": "stream",
          "text": [
            "Chain 14: 100%|██████████| 25/25 [00:00<00:00, 27.36it/s]\n"
          ]
        },
        {
          "name": "stdout",
          "output_type": "stream",
          "text": [
            "result = 699.0858154296875\n",
            "Moving model to device:  cpu\n",
            "Moving model to device:  cpu\n",
            "Moving model to device:  cpu\n"
          ]
        },
        {
          "name": "stderr",
          "output_type": "stream",
          "text": [
            "Chain 0: 100%|██████████| 25/25 [00:00<00:00, 31.79it/s]\n"
          ]
        },
        {
          "name": "stdout",
          "output_type": "stream",
          "text": [
            "Moving model to device:  cpu\n"
          ]
        },
        {
          "name": "stderr",
          "output_type": "stream",
          "text": [
            "Chain 1: 100%|██████████| 25/25 [00:00<00:00, 33.44it/s]\n"
          ]
        },
        {
          "name": "stdout",
          "output_type": "stream",
          "text": [
            "Moving model to device:  cpu\n"
          ]
        },
        {
          "name": "stderr",
          "output_type": "stream",
          "text": [
            "Chain 2: 100%|██████████| 25/25 [00:00<00:00, 34.19it/s]\n"
          ]
        },
        {
          "name": "stdout",
          "output_type": "stream",
          "text": [
            "Moving model to device:  cpu\n"
          ]
        },
        {
          "name": "stderr",
          "output_type": "stream",
          "text": [
            "Chain 3: 100%|██████████| 25/25 [00:00<00:00, 33.80it/s]\n"
          ]
        },
        {
          "name": "stdout",
          "output_type": "stream",
          "text": [
            "Moving model to device:  cpu\n"
          ]
        },
        {
          "name": "stderr",
          "output_type": "stream",
          "text": [
            "Chain 4: 100%|██████████| 25/25 [00:00<00:00, 35.06it/s]\n"
          ]
        },
        {
          "name": "stdout",
          "output_type": "stream",
          "text": [
            "Moving model to device:  cpu\n"
          ]
        },
        {
          "name": "stderr",
          "output_type": "stream",
          "text": [
            "Chain 5: 100%|██████████| 25/25 [00:00<00:00, 31.50it/s]\n"
          ]
        },
        {
          "name": "stdout",
          "output_type": "stream",
          "text": [
            "Moving model to device:  cpu\n"
          ]
        },
        {
          "name": "stderr",
          "output_type": "stream",
          "text": [
            "Chain 6: 100%|██████████| 25/25 [00:00<00:00, 34.35it/s]\n"
          ]
        },
        {
          "name": "stdout",
          "output_type": "stream",
          "text": [
            "Moving model to device:  cpu\n"
          ]
        },
        {
          "name": "stderr",
          "output_type": "stream",
          "text": [
            "Chain 7: 100%|██████████| 25/25 [00:00<00:00, 32.86it/s]\n"
          ]
        },
        {
          "name": "stdout",
          "output_type": "stream",
          "text": [
            "Moving model to device:  cpu\n"
          ]
        },
        {
          "name": "stderr",
          "output_type": "stream",
          "text": [
            "Chain 8: 100%|██████████| 25/25 [00:00<00:00, 34.94it/s]\n"
          ]
        },
        {
          "name": "stdout",
          "output_type": "stream",
          "text": [
            "Moving model to device:  cpu\n"
          ]
        },
        {
          "name": "stderr",
          "output_type": "stream",
          "text": [
            "Chain 9: 100%|██████████| 25/25 [00:00<00:00, 33.28it/s]\n"
          ]
        },
        {
          "name": "stdout",
          "output_type": "stream",
          "text": [
            "Moving model to device:  cpu\n"
          ]
        },
        {
          "name": "stderr",
          "output_type": "stream",
          "text": [
            "Chain 10: 100%|██████████| 25/25 [00:00<00:00, 30.77it/s]\n"
          ]
        },
        {
          "name": "stdout",
          "output_type": "stream",
          "text": [
            "Moving model to device:  cpu\n"
          ]
        },
        {
          "name": "stderr",
          "output_type": "stream",
          "text": [
            "Chain 11: 100%|██████████| 25/25 [00:00<00:00, 33.26it/s]\n"
          ]
        },
        {
          "name": "stdout",
          "output_type": "stream",
          "text": [
            "Moving model to device:  cpu\n"
          ]
        },
        {
          "name": "stderr",
          "output_type": "stream",
          "text": [
            "Chain 12: 100%|██████████| 25/25 [00:00<00:00, 33.71it/s]\n"
          ]
        },
        {
          "name": "stdout",
          "output_type": "stream",
          "text": [
            "Moving model to device:  cpu\n"
          ]
        },
        {
          "name": "stderr",
          "output_type": "stream",
          "text": [
            "Chain 13: 100%|██████████| 25/25 [00:00<00:00, 27.32it/s]\n"
          ]
        },
        {
          "name": "stdout",
          "output_type": "stream",
          "text": [
            "Moving model to device:  cpu\n"
          ]
        },
        {
          "name": "stderr",
          "output_type": "stream",
          "text": [
            "Chain 14: 100%|██████████| 25/25 [00:00<00:00, 34.19it/s]\n"
          ]
        },
        {
          "name": "stdout",
          "output_type": "stream",
          "text": [
            "result = 712.9981079101562\n",
            "Moving model to device:  cpu\n",
            "Moving model to device:  cpu\n",
            "Moving model to device:  cpu\n"
          ]
        },
        {
          "name": "stderr",
          "output_type": "stream",
          "text": [
            "Chain 0: 100%|██████████| 25/25 [00:00<00:00, 34.13it/s]\n"
          ]
        },
        {
          "name": "stdout",
          "output_type": "stream",
          "text": [
            "Moving model to device:  cpu\n"
          ]
        },
        {
          "name": "stderr",
          "output_type": "stream",
          "text": [
            "Chain 1: 100%|██████████| 25/25 [00:00<00:00, 32.21it/s]\n"
          ]
        },
        {
          "name": "stdout",
          "output_type": "stream",
          "text": [
            "Moving model to device:  cpu\n"
          ]
        },
        {
          "name": "stderr",
          "output_type": "stream",
          "text": [
            "Chain 2: 100%|██████████| 25/25 [00:00<00:00, 32.88it/s]\n"
          ]
        },
        {
          "name": "stdout",
          "output_type": "stream",
          "text": [
            "Moving model to device:  cpu\n"
          ]
        },
        {
          "name": "stderr",
          "output_type": "stream",
          "text": [
            "Chain 3: 100%|██████████| 25/25 [00:00<00:00, 34.93it/s]\n"
          ]
        },
        {
          "name": "stdout",
          "output_type": "stream",
          "text": [
            "Moving model to device:  cpu\n"
          ]
        },
        {
          "name": "stderr",
          "output_type": "stream",
          "text": [
            "Chain 4: 100%|██████████| 25/25 [00:00<00:00, 32.19it/s]\n"
          ]
        },
        {
          "name": "stdout",
          "output_type": "stream",
          "text": [
            "Moving model to device:  cpu\n"
          ]
        },
        {
          "name": "stderr",
          "output_type": "stream",
          "text": [
            "Chain 5: 100%|██████████| 25/25 [00:00<00:00, 33.14it/s]\n"
          ]
        },
        {
          "name": "stdout",
          "output_type": "stream",
          "text": [
            "Moving model to device:  cpu\n"
          ]
        },
        {
          "name": "stderr",
          "output_type": "stream",
          "text": [
            "Chain 6: 100%|██████████| 25/25 [00:00<00:00, 34.41it/s]\n"
          ]
        },
        {
          "name": "stdout",
          "output_type": "stream",
          "text": [
            "Moving model to device:  cpu\n"
          ]
        },
        {
          "name": "stderr",
          "output_type": "stream",
          "text": [
            "Chain 7: 100%|██████████| 25/25 [00:00<00:00, 33.85it/s]\n"
          ]
        },
        {
          "name": "stdout",
          "output_type": "stream",
          "text": [
            "Moving model to device:  cpu\n"
          ]
        },
        {
          "name": "stderr",
          "output_type": "stream",
          "text": [
            "Chain 8: 100%|██████████| 25/25 [00:00<00:00, 33.89it/s]\n"
          ]
        },
        {
          "name": "stdout",
          "output_type": "stream",
          "text": [
            "Moving model to device:  cpu\n"
          ]
        },
        {
          "name": "stderr",
          "output_type": "stream",
          "text": [
            "Chain 9: 100%|██████████| 25/25 [00:00<00:00, 30.69it/s]\n"
          ]
        },
        {
          "name": "stdout",
          "output_type": "stream",
          "text": [
            "Moving model to device:  cpu\n"
          ]
        },
        {
          "name": "stderr",
          "output_type": "stream",
          "text": [
            "Chain 10: 100%|██████████| 25/25 [00:00<00:00, 34.55it/s]\n"
          ]
        },
        {
          "name": "stdout",
          "output_type": "stream",
          "text": [
            "Moving model to device:  cpu\n"
          ]
        },
        {
          "name": "stderr",
          "output_type": "stream",
          "text": [
            "Chain 11: 100%|██████████| 25/25 [00:00<00:00, 33.43it/s]\n"
          ]
        },
        {
          "name": "stdout",
          "output_type": "stream",
          "text": [
            "Moving model to device:  cpu\n"
          ]
        },
        {
          "name": "stderr",
          "output_type": "stream",
          "text": [
            "Chain 12: 100%|██████████| 25/25 [00:00<00:00, 33.86it/s]\n"
          ]
        },
        {
          "name": "stdout",
          "output_type": "stream",
          "text": [
            "Moving model to device:  cpu\n"
          ]
        },
        {
          "name": "stderr",
          "output_type": "stream",
          "text": [
            "Chain 13: 100%|██████████| 25/25 [00:00<00:00, 27.41it/s]\n"
          ]
        },
        {
          "name": "stdout",
          "output_type": "stream",
          "text": [
            "Moving model to device:  cpu\n"
          ]
        },
        {
          "name": "stderr",
          "output_type": "stream",
          "text": [
            "Chain 14: 100%|██████████| 25/25 [00:00<00:00, 31.57it/s]\n"
          ]
        },
        {
          "name": "stdout",
          "output_type": "stream",
          "text": [
            "result = 717.8961791992188\n",
            "Moving model to device:  cpu\n",
            "Moving model to device:  cpu\n",
            "Moving model to device:  cpu\n"
          ]
        },
        {
          "name": "stderr",
          "output_type": "stream",
          "text": [
            "Chain 0: 100%|██████████| 25/25 [00:00<00:00, 35.07it/s]\n"
          ]
        },
        {
          "name": "stdout",
          "output_type": "stream",
          "text": [
            "Moving model to device:  cpu\n"
          ]
        },
        {
          "name": "stderr",
          "output_type": "stream",
          "text": [
            "Chain 1: 100%|██████████| 25/25 [00:00<00:00, 32.40it/s]\n"
          ]
        },
        {
          "name": "stdout",
          "output_type": "stream",
          "text": [
            "Moving model to device:  cpu\n"
          ]
        },
        {
          "name": "stderr",
          "output_type": "stream",
          "text": [
            "Chain 2: 100%|██████████| 25/25 [00:00<00:00, 33.86it/s]\n"
          ]
        },
        {
          "name": "stdout",
          "output_type": "stream",
          "text": [
            "Moving model to device:  cpu\n"
          ]
        },
        {
          "name": "stderr",
          "output_type": "stream",
          "text": [
            "Chain 3: 100%|██████████| 25/25 [00:00<00:00, 32.93it/s]\n"
          ]
        },
        {
          "name": "stdout",
          "output_type": "stream",
          "text": [
            "Moving model to device:  cpu\n"
          ]
        },
        {
          "name": "stderr",
          "output_type": "stream",
          "text": [
            "Chain 4: 100%|██████████| 25/25 [00:00<00:00, 30.57it/s]\n"
          ]
        },
        {
          "name": "stdout",
          "output_type": "stream",
          "text": [
            "Moving model to device:  cpu\n"
          ]
        },
        {
          "name": "stderr",
          "output_type": "stream",
          "text": [
            "Chain 5: 100%|██████████| 25/25 [00:00<00:00, 30.71it/s]\n"
          ]
        },
        {
          "name": "stdout",
          "output_type": "stream",
          "text": [
            "Moving model to device:  cpu\n"
          ]
        },
        {
          "name": "stderr",
          "output_type": "stream",
          "text": [
            "Chain 6: 100%|██████████| 25/25 [00:00<00:00, 33.07it/s]\n"
          ]
        },
        {
          "name": "stdout",
          "output_type": "stream",
          "text": [
            "Moving model to device:  cpu\n"
          ]
        },
        {
          "name": "stderr",
          "output_type": "stream",
          "text": [
            "Chain 7: 100%|██████████| 25/25 [00:00<00:00, 33.55it/s]\n"
          ]
        },
        {
          "name": "stdout",
          "output_type": "stream",
          "text": [
            "Moving model to device:  cpu\n"
          ]
        },
        {
          "name": "stderr",
          "output_type": "stream",
          "text": [
            "Chain 8: 100%|██████████| 25/25 [00:00<00:00, 32.53it/s]\n"
          ]
        },
        {
          "name": "stdout",
          "output_type": "stream",
          "text": [
            "Moving model to device:  cpu\n"
          ]
        },
        {
          "name": "stderr",
          "output_type": "stream",
          "text": [
            "Chain 9: 100%|██████████| 25/25 [00:00<00:00, 31.37it/s]\n"
          ]
        },
        {
          "name": "stdout",
          "output_type": "stream",
          "text": [
            "Moving model to device:  cpu\n"
          ]
        },
        {
          "name": "stderr",
          "output_type": "stream",
          "text": [
            "Chain 10: 100%|██████████| 25/25 [00:00<00:00, 33.66it/s]\n"
          ]
        },
        {
          "name": "stdout",
          "output_type": "stream",
          "text": [
            "Moving model to device:  cpu\n"
          ]
        },
        {
          "name": "stderr",
          "output_type": "stream",
          "text": [
            "Chain 11: 100%|██████████| 25/25 [00:00<00:00, 33.45it/s]\n"
          ]
        },
        {
          "name": "stdout",
          "output_type": "stream",
          "text": [
            "Moving model to device:  cpu\n"
          ]
        },
        {
          "name": "stderr",
          "output_type": "stream",
          "text": [
            "Chain 12: 100%|██████████| 25/25 [00:00<00:00, 26.18it/s]\n"
          ]
        },
        {
          "name": "stdout",
          "output_type": "stream",
          "text": [
            "Moving model to device:  cpu\n"
          ]
        },
        {
          "name": "stderr",
          "output_type": "stream",
          "text": [
            "Chain 13: 100%|██████████| 25/25 [00:00<00:00, 34.51it/s]\n"
          ]
        },
        {
          "name": "stdout",
          "output_type": "stream",
          "text": [
            "Moving model to device:  cpu\n"
          ]
        },
        {
          "name": "stderr",
          "output_type": "stream",
          "text": [
            "Chain 14: 100%|██████████| 25/25 [00:00<00:00, 30.31it/s]\n"
          ]
        },
        {
          "name": "stdout",
          "output_type": "stream",
          "text": [
            "result = 723.312744140625\n",
            "Moving model to device:  cpu\n",
            "Moving model to device:  cpu\n",
            "Moving model to device:  cpu\n"
          ]
        },
        {
          "name": "stderr",
          "output_type": "stream",
          "text": [
            "Chain 0: 100%|██████████| 25/25 [00:00<00:00, 32.66it/s]\n"
          ]
        },
        {
          "name": "stdout",
          "output_type": "stream",
          "text": [
            "Moving model to device:  cpu\n"
          ]
        },
        {
          "name": "stderr",
          "output_type": "stream",
          "text": [
            "Chain 1: 100%|██████████| 25/25 [00:00<00:00, 31.89it/s]\n"
          ]
        },
        {
          "name": "stdout",
          "output_type": "stream",
          "text": [
            "Moving model to device:  cpu\n"
          ]
        },
        {
          "name": "stderr",
          "output_type": "stream",
          "text": [
            "Chain 2: 100%|██████████| 25/25 [00:00<00:00, 31.49it/s]\n"
          ]
        },
        {
          "name": "stdout",
          "output_type": "stream",
          "text": [
            "Moving model to device:  cpu\n"
          ]
        },
        {
          "name": "stderr",
          "output_type": "stream",
          "text": [
            "Chain 3: 100%|██████████| 25/25 [00:00<00:00, 30.93it/s]\n"
          ]
        },
        {
          "name": "stdout",
          "output_type": "stream",
          "text": [
            "Moving model to device:  cpu\n"
          ]
        },
        {
          "name": "stderr",
          "output_type": "stream",
          "text": [
            "Chain 4: 100%|██████████| 25/25 [00:00<00:00, 31.29it/s]\n"
          ]
        },
        {
          "name": "stdout",
          "output_type": "stream",
          "text": [
            "Moving model to device:  cpu\n"
          ]
        },
        {
          "name": "stderr",
          "output_type": "stream",
          "text": [
            "Chain 5: 100%|██████████| 25/25 [00:00<00:00, 32.34it/s]\n"
          ]
        },
        {
          "name": "stdout",
          "output_type": "stream",
          "text": [
            "Moving model to device:  cpu\n"
          ]
        },
        {
          "name": "stderr",
          "output_type": "stream",
          "text": [
            "Chain 6: 100%|██████████| 25/25 [00:00<00:00, 33.38it/s]\n"
          ]
        },
        {
          "name": "stdout",
          "output_type": "stream",
          "text": [
            "Moving model to device:  cpu\n"
          ]
        },
        {
          "name": "stderr",
          "output_type": "stream",
          "text": [
            "Chain 7: 100%|██████████| 25/25 [00:00<00:00, 33.15it/s]\n"
          ]
        },
        {
          "name": "stdout",
          "output_type": "stream",
          "text": [
            "Moving model to device:  cpu\n"
          ]
        },
        {
          "name": "stderr",
          "output_type": "stream",
          "text": [
            "Chain 8: 100%|██████████| 25/25 [00:00<00:00, 32.80it/s]\n"
          ]
        },
        {
          "name": "stdout",
          "output_type": "stream",
          "text": [
            "Moving model to device:  cpu\n"
          ]
        },
        {
          "name": "stderr",
          "output_type": "stream",
          "text": [
            "Chain 9: 100%|██████████| 25/25 [00:00<00:00, 30.74it/s]\n"
          ]
        },
        {
          "name": "stdout",
          "output_type": "stream",
          "text": [
            "Moving model to device:  cpu\n"
          ]
        },
        {
          "name": "stderr",
          "output_type": "stream",
          "text": [
            "Chain 10: 100%|██████████| 25/25 [00:00<00:00, 32.45it/s]\n"
          ]
        },
        {
          "name": "stdout",
          "output_type": "stream",
          "text": [
            "Moving model to device:  cpu\n"
          ]
        },
        {
          "name": "stderr",
          "output_type": "stream",
          "text": [
            "Chain 11: 100%|██████████| 25/25 [00:00<00:00, 25.79it/s]\n"
          ]
        },
        {
          "name": "stdout",
          "output_type": "stream",
          "text": [
            "Moving model to device:  cpu\n"
          ]
        },
        {
          "name": "stderr",
          "output_type": "stream",
          "text": [
            "Chain 12: 100%|██████████| 25/25 [00:00<00:00, 32.43it/s]\n"
          ]
        },
        {
          "name": "stdout",
          "output_type": "stream",
          "text": [
            "Moving model to device:  cpu\n"
          ]
        },
        {
          "name": "stderr",
          "output_type": "stream",
          "text": [
            "Chain 13: 100%|██████████| 25/25 [00:00<00:00, 31.71it/s]\n"
          ]
        },
        {
          "name": "stdout",
          "output_type": "stream",
          "text": [
            "Moving model to device:  cpu\n"
          ]
        },
        {
          "name": "stderr",
          "output_type": "stream",
          "text": [
            "Chain 14: 100%|██████████| 25/25 [00:00<00:00, 28.98it/s]\n"
          ]
        },
        {
          "name": "stdout",
          "output_type": "stream",
          "text": [
            "result = 732.8577880859375\n",
            "Moving model to device:  cpu\n",
            "Moving model to device:  cpu\n",
            "Moving model to device:  cpu\n"
          ]
        },
        {
          "name": "stderr",
          "output_type": "stream",
          "text": [
            "Chain 0: 100%|██████████| 25/25 [00:00<00:00, 30.99it/s]\n"
          ]
        },
        {
          "name": "stdout",
          "output_type": "stream",
          "text": [
            "Moving model to device:  cpu\n"
          ]
        },
        {
          "name": "stderr",
          "output_type": "stream",
          "text": [
            "Chain 1: 100%|██████████| 25/25 [00:00<00:00, 31.32it/s]\n"
          ]
        },
        {
          "name": "stdout",
          "output_type": "stream",
          "text": [
            "Moving model to device:  cpu\n"
          ]
        },
        {
          "name": "stderr",
          "output_type": "stream",
          "text": [
            "Chain 2: 100%|██████████| 25/25 [00:00<00:00, 31.33it/s]\n"
          ]
        },
        {
          "name": "stdout",
          "output_type": "stream",
          "text": [
            "Moving model to device:  cpu\n"
          ]
        },
        {
          "name": "stderr",
          "output_type": "stream",
          "text": [
            "Chain 3: 100%|██████████| 25/25 [00:00<00:00, 30.90it/s]\n"
          ]
        },
        {
          "name": "stdout",
          "output_type": "stream",
          "text": [
            "Moving model to device:  cpu\n"
          ]
        },
        {
          "name": "stderr",
          "output_type": "stream",
          "text": [
            "Chain 4: 100%|██████████| 25/25 [00:00<00:00, 29.22it/s]\n"
          ]
        },
        {
          "name": "stdout",
          "output_type": "stream",
          "text": [
            "Moving model to device:  cpu\n"
          ]
        },
        {
          "name": "stderr",
          "output_type": "stream",
          "text": [
            "Chain 5: 100%|██████████| 25/25 [00:00<00:00, 30.50it/s]\n"
          ]
        },
        {
          "name": "stdout",
          "output_type": "stream",
          "text": [
            "Moving model to device:  cpu\n"
          ]
        },
        {
          "name": "stderr",
          "output_type": "stream",
          "text": [
            "Chain 6: 100%|██████████| 25/25 [00:00<00:00, 31.02it/s]\n"
          ]
        },
        {
          "name": "stdout",
          "output_type": "stream",
          "text": [
            "Moving model to device:  cpu\n"
          ]
        },
        {
          "name": "stderr",
          "output_type": "stream",
          "text": [
            "Chain 7: 100%|██████████| 25/25 [00:00<00:00, 31.93it/s]\n"
          ]
        },
        {
          "name": "stdout",
          "output_type": "stream",
          "text": [
            "Moving model to device:  cpu\n"
          ]
        },
        {
          "name": "stderr",
          "output_type": "stream",
          "text": [
            "Chain 8: 100%|██████████| 25/25 [00:00<00:00, 31.10it/s]\n"
          ]
        },
        {
          "name": "stdout",
          "output_type": "stream",
          "text": [
            "Moving model to device:  cpu\n"
          ]
        },
        {
          "name": "stderr",
          "output_type": "stream",
          "text": [
            "Chain 9: 100%|██████████| 25/25 [00:00<00:00, 28.69it/s]\n"
          ]
        },
        {
          "name": "stdout",
          "output_type": "stream",
          "text": [
            "Moving model to device:  cpu\n"
          ]
        },
        {
          "name": "stderr",
          "output_type": "stream",
          "text": [
            "Chain 10: 100%|██████████| 25/25 [00:00<00:00, 31.04it/s]\n"
          ]
        },
        {
          "name": "stdout",
          "output_type": "stream",
          "text": [
            "Moving model to device:  cpu\n"
          ]
        },
        {
          "name": "stderr",
          "output_type": "stream",
          "text": [
            "Chain 11: 100%|██████████| 25/25 [00:00<00:00, 25.18it/s]\n"
          ]
        },
        {
          "name": "stdout",
          "output_type": "stream",
          "text": [
            "Moving model to device:  cpu\n"
          ]
        },
        {
          "name": "stderr",
          "output_type": "stream",
          "text": [
            "Chain 12: 100%|██████████| 25/25 [00:00<00:00, 31.02it/s]\n"
          ]
        },
        {
          "name": "stdout",
          "output_type": "stream",
          "text": [
            "Moving model to device:  cpu\n"
          ]
        },
        {
          "name": "stderr",
          "output_type": "stream",
          "text": [
            "Chain 13: 100%|██████████| 25/25 [00:00<00:00, 29.09it/s]\n"
          ]
        },
        {
          "name": "stdout",
          "output_type": "stream",
          "text": [
            "Moving model to device:  cpu\n"
          ]
        },
        {
          "name": "stderr",
          "output_type": "stream",
          "text": [
            "Chain 14: 100%|██████████| 25/25 [00:00<00:00, 30.69it/s]\n"
          ]
        },
        {
          "name": "stdout",
          "output_type": "stream",
          "text": [
            "result = 740.9212646484375\n",
            "Moving model to device:  cpu\n",
            "Moving model to device:  cpu\n",
            "Moving model to device:  cpu\n"
          ]
        },
        {
          "name": "stderr",
          "output_type": "stream",
          "text": [
            "Chain 0: 100%|██████████| 25/25 [00:00<00:00, 30.76it/s]\n"
          ]
        },
        {
          "name": "stdout",
          "output_type": "stream",
          "text": [
            "Moving model to device:  cpu\n"
          ]
        },
        {
          "name": "stderr",
          "output_type": "stream",
          "text": [
            "Chain 1: 100%|██████████| 25/25 [00:00<00:00, 30.99it/s]\n"
          ]
        },
        {
          "name": "stdout",
          "output_type": "stream",
          "text": [
            "Moving model to device:  cpu\n"
          ]
        },
        {
          "name": "stderr",
          "output_type": "stream",
          "text": [
            "Chain 2: 100%|██████████| 25/25 [00:00<00:00, 31.46it/s]\n"
          ]
        },
        {
          "name": "stdout",
          "output_type": "stream",
          "text": [
            "Moving model to device:  cpu\n"
          ]
        },
        {
          "name": "stderr",
          "output_type": "stream",
          "text": [
            "Chain 3: 100%|██████████| 25/25 [00:00<00:00, 30.95it/s]\n"
          ]
        },
        {
          "name": "stdout",
          "output_type": "stream",
          "text": [
            "Moving model to device:  cpu\n"
          ]
        },
        {
          "name": "stderr",
          "output_type": "stream",
          "text": [
            "Chain 4: 100%|██████████| 25/25 [00:00<00:00, 29.07it/s]\n"
          ]
        },
        {
          "name": "stdout",
          "output_type": "stream",
          "text": [
            "Moving model to device:  cpu\n"
          ]
        },
        {
          "name": "stderr",
          "output_type": "stream",
          "text": [
            "Chain 5: 100%|██████████| 25/25 [00:00<00:00, 30.77it/s]\n"
          ]
        },
        {
          "name": "stdout",
          "output_type": "stream",
          "text": [
            "Moving model to device:  cpu\n"
          ]
        },
        {
          "name": "stderr",
          "output_type": "stream",
          "text": [
            "Chain 6: 100%|██████████| 25/25 [00:00<00:00, 31.11it/s]\n"
          ]
        },
        {
          "name": "stdout",
          "output_type": "stream",
          "text": [
            "Moving model to device:  cpu\n"
          ]
        },
        {
          "name": "stderr",
          "output_type": "stream",
          "text": [
            "Chain 7: 100%|██████████| 25/25 [00:00<00:00, 30.84it/s]\n"
          ]
        },
        {
          "name": "stdout",
          "output_type": "stream",
          "text": [
            "Moving model to device:  cpu\n"
          ]
        },
        {
          "name": "stderr",
          "output_type": "stream",
          "text": [
            "Chain 8: 100%|██████████| 25/25 [00:00<00:00, 28.38it/s]\n"
          ]
        },
        {
          "name": "stdout",
          "output_type": "stream",
          "text": [
            "Moving model to device:  cpu\n"
          ]
        },
        {
          "name": "stderr",
          "output_type": "stream",
          "text": [
            "Chain 9: 100%|██████████| 25/25 [00:00<00:00, 30.57it/s]\n"
          ]
        },
        {
          "name": "stdout",
          "output_type": "stream",
          "text": [
            "Moving model to device:  cpu\n"
          ]
        },
        {
          "name": "stderr",
          "output_type": "stream",
          "text": [
            "Chain 10: 100%|██████████| 25/25 [00:01<00:00, 24.65it/s]\n"
          ]
        },
        {
          "name": "stdout",
          "output_type": "stream",
          "text": [
            "Moving model to device:  cpu\n"
          ]
        },
        {
          "name": "stderr",
          "output_type": "stream",
          "text": [
            "Chain 11: 100%|██████████| 25/25 [00:00<00:00, 30.53it/s]\n"
          ]
        },
        {
          "name": "stdout",
          "output_type": "stream",
          "text": [
            "Moving model to device:  cpu\n"
          ]
        },
        {
          "name": "stderr",
          "output_type": "stream",
          "text": [
            "Chain 12: 100%|██████████| 25/25 [00:00<00:00, 31.12it/s]\n"
          ]
        },
        {
          "name": "stdout",
          "output_type": "stream",
          "text": [
            "Moving model to device:  cpu\n"
          ]
        },
        {
          "name": "stderr",
          "output_type": "stream",
          "text": [
            "Chain 13: 100%|██████████| 25/25 [00:00<00:00, 28.75it/s]\n"
          ]
        },
        {
          "name": "stdout",
          "output_type": "stream",
          "text": [
            "Moving model to device:  cpu\n"
          ]
        },
        {
          "name": "stderr",
          "output_type": "stream",
          "text": [
            "Chain 14: 100%|██████████| 25/25 [00:00<00:00, 30.13it/s]\n"
          ]
        },
        {
          "name": "stdout",
          "output_type": "stream",
          "text": [
            "result = 756.6350708007812\n",
            "Moving model to device:  cpu\n",
            "Moving model to device:  cpu\n",
            "Moving model to device:  cpu\n"
          ]
        },
        {
          "name": "stderr",
          "output_type": "stream",
          "text": [
            "Chain 0: 100%|██████████| 25/25 [00:00<00:00, 30.31it/s]\n"
          ]
        },
        {
          "name": "stdout",
          "output_type": "stream",
          "text": [
            "Moving model to device:  cpu\n"
          ]
        },
        {
          "name": "stderr",
          "output_type": "stream",
          "text": [
            "Chain 1: 100%|██████████| 25/25 [00:00<00:00, 29.86it/s]\n"
          ]
        },
        {
          "name": "stdout",
          "output_type": "stream",
          "text": [
            "Moving model to device:  cpu\n"
          ]
        },
        {
          "name": "stderr",
          "output_type": "stream",
          "text": [
            "Chain 2: 100%|██████████| 25/25 [00:00<00:00, 28.59it/s]\n"
          ]
        },
        {
          "name": "stdout",
          "output_type": "stream",
          "text": [
            "Moving model to device:  cpu\n"
          ]
        },
        {
          "name": "stderr",
          "output_type": "stream",
          "text": [
            "Chain 3: 100%|██████████| 25/25 [00:00<00:00, 31.44it/s]\n"
          ]
        },
        {
          "name": "stdout",
          "output_type": "stream",
          "text": [
            "Moving model to device:  cpu\n"
          ]
        },
        {
          "name": "stderr",
          "output_type": "stream",
          "text": [
            "Chain 4: 100%|██████████| 25/25 [00:00<00:00, 29.33it/s]\n"
          ]
        },
        {
          "name": "stdout",
          "output_type": "stream",
          "text": [
            "Moving model to device:  cpu\n"
          ]
        },
        {
          "name": "stderr",
          "output_type": "stream",
          "text": [
            "Chain 5: 100%|██████████| 25/25 [00:00<00:00, 31.43it/s]\n"
          ]
        },
        {
          "name": "stdout",
          "output_type": "stream",
          "text": [
            "Moving model to device:  cpu\n"
          ]
        },
        {
          "name": "stderr",
          "output_type": "stream",
          "text": [
            "Chain 6: 100%|██████████| 25/25 [00:00<00:00, 30.52it/s]\n"
          ]
        },
        {
          "name": "stdout",
          "output_type": "stream",
          "text": [
            "Moving model to device:  cpu\n"
          ]
        },
        {
          "name": "stderr",
          "output_type": "stream",
          "text": [
            "Chain 7: 100%|██████████| 25/25 [00:00<00:00, 28.67it/s]\n"
          ]
        },
        {
          "name": "stdout",
          "output_type": "stream",
          "text": [
            "Moving model to device:  cpu\n"
          ]
        },
        {
          "name": "stderr",
          "output_type": "stream",
          "text": [
            "Chain 8: 100%|██████████| 25/25 [00:00<00:00, 30.59it/s]\n"
          ]
        },
        {
          "name": "stdout",
          "output_type": "stream",
          "text": [
            "Moving model to device:  cpu\n"
          ]
        },
        {
          "name": "stderr",
          "output_type": "stream",
          "text": [
            "Chain 9: 100%|██████████| 25/25 [00:00<00:00, 30.59it/s]\n"
          ]
        },
        {
          "name": "stdout",
          "output_type": "stream",
          "text": [
            "Moving model to device:  cpu\n"
          ]
        },
        {
          "name": "stderr",
          "output_type": "stream",
          "text": [
            "Chain 10: 100%|██████████| 25/25 [00:01<00:00, 24.54it/s]\n"
          ]
        },
        {
          "name": "stdout",
          "output_type": "stream",
          "text": [
            "Moving model to device:  cpu\n"
          ]
        },
        {
          "name": "stderr",
          "output_type": "stream",
          "text": [
            "Chain 11: 100%|██████████| 25/25 [00:00<00:00, 31.15it/s]\n"
          ]
        },
        {
          "name": "stdout",
          "output_type": "stream",
          "text": [
            "Moving model to device:  cpu\n"
          ]
        },
        {
          "name": "stderr",
          "output_type": "stream",
          "text": [
            "Chain 12: 100%|██████████| 25/25 [00:00<00:00, 27.68it/s]\n"
          ]
        },
        {
          "name": "stdout",
          "output_type": "stream",
          "text": [
            "Moving model to device:  cpu\n"
          ]
        },
        {
          "name": "stderr",
          "output_type": "stream",
          "text": [
            "Chain 13: 100%|██████████| 25/25 [00:00<00:00, 30.49it/s]\n"
          ]
        },
        {
          "name": "stdout",
          "output_type": "stream",
          "text": [
            "Moving model to device:  cpu\n"
          ]
        },
        {
          "name": "stderr",
          "output_type": "stream",
          "text": [
            "Chain 14: 100%|██████████| 25/25 [00:00<00:00, 28.89it/s]\n"
          ]
        },
        {
          "name": "stdout",
          "output_type": "stream",
          "text": [
            "result = 764.4609985351562\n",
            "Moving model to device:  cpu\n",
            "Moving model to device:  cpu\n",
            "Moving model to device:  cpu\n"
          ]
        },
        {
          "name": "stderr",
          "output_type": "stream",
          "text": [
            "Chain 0: 100%|██████████| 25/25 [00:00<00:00, 29.32it/s]\n"
          ]
        },
        {
          "name": "stdout",
          "output_type": "stream",
          "text": [
            "Moving model to device:  cpu\n"
          ]
        },
        {
          "name": "stderr",
          "output_type": "stream",
          "text": [
            "Chain 1: 100%|██████████| 25/25 [00:00<00:00, 27.41it/s]\n"
          ]
        },
        {
          "name": "stdout",
          "output_type": "stream",
          "text": [
            "Moving model to device:  cpu\n"
          ]
        },
        {
          "name": "stderr",
          "output_type": "stream",
          "text": [
            "Chain 2: 100%|██████████| 25/25 [00:00<00:00, 30.22it/s]\n"
          ]
        },
        {
          "name": "stdout",
          "output_type": "stream",
          "text": [
            "Moving model to device:  cpu\n"
          ]
        },
        {
          "name": "stderr",
          "output_type": "stream",
          "text": [
            "Chain 3: 100%|██████████| 25/25 [00:00<00:00, 29.36it/s]\n"
          ]
        },
        {
          "name": "stdout",
          "output_type": "stream",
          "text": [
            "Moving model to device:  cpu\n"
          ]
        },
        {
          "name": "stderr",
          "output_type": "stream",
          "text": [
            "Chain 4: 100%|██████████| 25/25 [00:00<00:00, 29.47it/s]\n"
          ]
        },
        {
          "name": "stdout",
          "output_type": "stream",
          "text": [
            "Moving model to device:  cpu\n"
          ]
        },
        {
          "name": "stderr",
          "output_type": "stream",
          "text": [
            "Chain 5: 100%|██████████| 25/25 [00:00<00:00, 31.19it/s]\n"
          ]
        },
        {
          "name": "stdout",
          "output_type": "stream",
          "text": [
            "Moving model to device:  cpu\n"
          ]
        },
        {
          "name": "stderr",
          "output_type": "stream",
          "text": [
            "Chain 6: 100%|██████████| 25/25 [00:00<00:00, 27.85it/s]\n"
          ]
        },
        {
          "name": "stdout",
          "output_type": "stream",
          "text": [
            "Moving model to device:  cpu\n"
          ]
        },
        {
          "name": "stderr",
          "output_type": "stream",
          "text": [
            "Chain 7: 100%|██████████| 25/25 [00:00<00:00, 30.92it/s]\n"
          ]
        },
        {
          "name": "stdout",
          "output_type": "stream",
          "text": [
            "Moving model to device:  cpu\n"
          ]
        },
        {
          "name": "stderr",
          "output_type": "stream",
          "text": [
            "Chain 8: 100%|██████████| 25/25 [00:00<00:00, 30.33it/s]\n"
          ]
        },
        {
          "name": "stdout",
          "output_type": "stream",
          "text": [
            "Moving model to device:  cpu\n"
          ]
        },
        {
          "name": "stderr",
          "output_type": "stream",
          "text": [
            "Chain 9: 100%|██████████| 25/25 [00:01<00:00, 24.27it/s]\n"
          ]
        },
        {
          "name": "stdout",
          "output_type": "stream",
          "text": [
            "Moving model to device:  cpu\n"
          ]
        },
        {
          "name": "stderr",
          "output_type": "stream",
          "text": [
            "Chain 10: 100%|██████████| 25/25 [00:00<00:00, 29.59it/s]\n"
          ]
        },
        {
          "name": "stdout",
          "output_type": "stream",
          "text": [
            "Moving model to device:  cpu\n"
          ]
        },
        {
          "name": "stderr",
          "output_type": "stream",
          "text": [
            "Chain 11: 100%|██████████| 25/25 [00:00<00:00, 26.13it/s]\n"
          ]
        },
        {
          "name": "stdout",
          "output_type": "stream",
          "text": [
            "Moving model to device:  cpu\n"
          ]
        },
        {
          "name": "stderr",
          "output_type": "stream",
          "text": [
            "Chain 12: 100%|██████████| 25/25 [00:00<00:00, 29.83it/s]\n"
          ]
        },
        {
          "name": "stdout",
          "output_type": "stream",
          "text": [
            "Moving model to device:  cpu\n"
          ]
        },
        {
          "name": "stderr",
          "output_type": "stream",
          "text": [
            "Chain 13: 100%|██████████| 25/25 [00:00<00:00, 30.17it/s]\n"
          ]
        },
        {
          "name": "stdout",
          "output_type": "stream",
          "text": [
            "Moving model to device:  cpu\n"
          ]
        },
        {
          "name": "stderr",
          "output_type": "stream",
          "text": [
            "Chain 14: 100%|██████████| 25/25 [00:00<00:00, 29.68it/s]\n"
          ]
        },
        {
          "name": "stdout",
          "output_type": "stream",
          "text": [
            "result = 770.5904541015625\n",
            "Moving model to device:  cpu\n",
            "Moving model to device:  cpu\n",
            "Moving model to device:  cpu\n"
          ]
        },
        {
          "name": "stderr",
          "output_type": "stream",
          "text": [
            "Chain 0: 100%|██████████| 25/25 [00:00<00:00, 27.99it/s]\n"
          ]
        },
        {
          "name": "stdout",
          "output_type": "stream",
          "text": [
            "Moving model to device:  cpu\n"
          ]
        },
        {
          "name": "stderr",
          "output_type": "stream",
          "text": [
            "Chain 1: 100%|██████████| 25/25 [00:00<00:00, 30.01it/s]\n"
          ]
        },
        {
          "name": "stdout",
          "output_type": "stream",
          "text": [
            "Moving model to device:  cpu\n"
          ]
        },
        {
          "name": "stderr",
          "output_type": "stream",
          "text": [
            "Chain 2: 100%|██████████| 25/25 [00:00<00:00, 29.79it/s]\n"
          ]
        },
        {
          "name": "stdout",
          "output_type": "stream",
          "text": [
            "Moving model to device:  cpu\n"
          ]
        },
        {
          "name": "stderr",
          "output_type": "stream",
          "text": [
            "Chain 3: 100%|██████████| 25/25 [00:00<00:00, 29.58it/s]\n"
          ]
        },
        {
          "name": "stdout",
          "output_type": "stream",
          "text": [
            "Moving model to device:  cpu\n"
          ]
        },
        {
          "name": "stderr",
          "output_type": "stream",
          "text": [
            "Chain 4: 100%|██████████| 25/25 [00:00<00:00, 27.13it/s]\n"
          ]
        },
        {
          "name": "stdout",
          "output_type": "stream",
          "text": [
            "Moving model to device:  cpu\n"
          ]
        },
        {
          "name": "stderr",
          "output_type": "stream",
          "text": [
            "Chain 5: 100%|██████████| 25/25 [00:00<00:00, 26.95it/s]\n"
          ]
        },
        {
          "name": "stdout",
          "output_type": "stream",
          "text": [
            "Moving model to device:  cpu\n"
          ]
        },
        {
          "name": "stderr",
          "output_type": "stream",
          "text": [
            "Chain 6: 100%|██████████| 25/25 [00:00<00:00, 29.74it/s]\n"
          ]
        },
        {
          "name": "stdout",
          "output_type": "stream",
          "text": [
            "Moving model to device:  cpu\n"
          ]
        },
        {
          "name": "stderr",
          "output_type": "stream",
          "text": [
            "Chain 7: 100%|██████████| 25/25 [00:00<00:00, 28.83it/s]\n"
          ]
        },
        {
          "name": "stdout",
          "output_type": "stream",
          "text": [
            "Moving model to device:  cpu\n"
          ]
        },
        {
          "name": "stderr",
          "output_type": "stream",
          "text": [
            "Chain 8: 100%|██████████| 25/25 [00:01<00:00, 24.63it/s]\n"
          ]
        },
        {
          "name": "stdout",
          "output_type": "stream",
          "text": [
            "Moving model to device:  cpu\n"
          ]
        },
        {
          "name": "stderr",
          "output_type": "stream",
          "text": [
            "Chain 9: 100%|██████████| 25/25 [00:00<00:00, 28.23it/s]\n"
          ]
        },
        {
          "name": "stdout",
          "output_type": "stream",
          "text": [
            "Moving model to device:  cpu\n"
          ]
        },
        {
          "name": "stderr",
          "output_type": "stream",
          "text": [
            "Chain 10: 100%|██████████| 25/25 [00:00<00:00, 29.20it/s]\n"
          ]
        },
        {
          "name": "stdout",
          "output_type": "stream",
          "text": [
            "Moving model to device:  cpu\n"
          ]
        },
        {
          "name": "stderr",
          "output_type": "stream",
          "text": [
            "Chain 11: 100%|██████████| 25/25 [00:01<00:00, 24.31it/s]\n"
          ]
        },
        {
          "name": "stdout",
          "output_type": "stream",
          "text": [
            "Moving model to device:  cpu\n"
          ]
        },
        {
          "name": "stderr",
          "output_type": "stream",
          "text": [
            "Chain 12: 100%|██████████| 25/25 [00:01<00:00, 23.65it/s]\n"
          ]
        },
        {
          "name": "stdout",
          "output_type": "stream",
          "text": [
            "Moving model to device:  cpu\n"
          ]
        },
        {
          "name": "stderr",
          "output_type": "stream",
          "text": [
            "Chain 13: 100%|██████████| 25/25 [00:01<00:00, 23.30it/s]\n"
          ]
        },
        {
          "name": "stdout",
          "output_type": "stream",
          "text": [
            "Moving model to device:  cpu\n"
          ]
        },
        {
          "name": "stderr",
          "output_type": "stream",
          "text": [
            "Chain 14: 100%|██████████| 25/25 [00:01<00:00, 24.13it/s]\n"
          ]
        },
        {
          "name": "stdout",
          "output_type": "stream",
          "text": [
            "result = 779.5470581054688\n",
            "Moving model to device:  cpu\n",
            "Moving model to device:  cpu\n",
            "Moving model to device:  cpu\n"
          ]
        },
        {
          "name": "stderr",
          "output_type": "stream",
          "text": [
            "Chain 0: 100%|██████████| 25/25 [00:00<00:00, 26.72it/s]\n"
          ]
        },
        {
          "name": "stdout",
          "output_type": "stream",
          "text": [
            "Moving model to device:  cpu\n"
          ]
        },
        {
          "name": "stderr",
          "output_type": "stream",
          "text": [
            "Chain 1: 100%|██████████| 25/25 [00:00<00:00, 27.55it/s]\n"
          ]
        },
        {
          "name": "stdout",
          "output_type": "stream",
          "text": [
            "Moving model to device:  cpu\n"
          ]
        },
        {
          "name": "stderr",
          "output_type": "stream",
          "text": [
            "Chain 2: 100%|██████████| 25/25 [00:00<00:00, 28.64it/s]\n"
          ]
        },
        {
          "name": "stdout",
          "output_type": "stream",
          "text": [
            "Moving model to device:  cpu\n"
          ]
        },
        {
          "name": "stderr",
          "output_type": "stream",
          "text": [
            "Chain 3: 100%|██████████| 25/25 [00:00<00:00, 28.02it/s]\n"
          ]
        },
        {
          "name": "stdout",
          "output_type": "stream",
          "text": [
            "Moving model to device:  cpu\n"
          ]
        },
        {
          "name": "stderr",
          "output_type": "stream",
          "text": [
            "Chain 4: 100%|██████████| 25/25 [00:00<00:00, 28.30it/s]\n"
          ]
        },
        {
          "name": "stdout",
          "output_type": "stream",
          "text": [
            "Moving model to device:  cpu\n"
          ]
        },
        {
          "name": "stderr",
          "output_type": "stream",
          "text": [
            "Chain 5: 100%|██████████| 25/25 [00:00<00:00, 28.67it/s]\n"
          ]
        },
        {
          "name": "stdout",
          "output_type": "stream",
          "text": [
            "Moving model to device:  cpu\n"
          ]
        },
        {
          "name": "stderr",
          "output_type": "stream",
          "text": [
            "Chain 6: 100%|██████████| 25/25 [00:00<00:00, 27.14it/s]\n"
          ]
        },
        {
          "name": "stdout",
          "output_type": "stream",
          "text": [
            "Moving model to device:  cpu\n"
          ]
        },
        {
          "name": "stderr",
          "output_type": "stream",
          "text": [
            "Chain 7: 100%|██████████| 25/25 [00:00<00:00, 28.09it/s]\n"
          ]
        },
        {
          "name": "stdout",
          "output_type": "stream",
          "text": [
            "Moving model to device:  cpu\n"
          ]
        },
        {
          "name": "stderr",
          "output_type": "stream",
          "text": [
            "Chain 8: 100%|██████████| 25/25 [00:01<00:00, 23.66it/s]\n"
          ]
        },
        {
          "name": "stdout",
          "output_type": "stream",
          "text": [
            "Moving model to device:  cpu\n"
          ]
        },
        {
          "name": "stderr",
          "output_type": "stream",
          "text": [
            "Chain 9: 100%|██████████| 25/25 [00:00<00:00, 28.29it/s]\n"
          ]
        },
        {
          "name": "stdout",
          "output_type": "stream",
          "text": [
            "Moving model to device:  cpu\n"
          ]
        },
        {
          "name": "stderr",
          "output_type": "stream",
          "text": [
            "Chain 10: 100%|██████████| 25/25 [00:00<00:00, 27.20it/s]\n"
          ]
        },
        {
          "name": "stdout",
          "output_type": "stream",
          "text": [
            "Moving model to device:  cpu\n"
          ]
        },
        {
          "name": "stderr",
          "output_type": "stream",
          "text": [
            "Chain 11: 100%|██████████| 25/25 [00:00<00:00, 29.61it/s]\n"
          ]
        },
        {
          "name": "stdout",
          "output_type": "stream",
          "text": [
            "Moving model to device:  cpu\n"
          ]
        },
        {
          "name": "stderr",
          "output_type": "stream",
          "text": [
            "Chain 12: 100%|██████████| 25/25 [00:00<00:00, 28.55it/s]\n"
          ]
        },
        {
          "name": "stdout",
          "output_type": "stream",
          "text": [
            "Moving model to device:  cpu\n"
          ]
        },
        {
          "name": "stderr",
          "output_type": "stream",
          "text": [
            "Chain 13: 100%|██████████| 25/25 [00:00<00:00, 29.00it/s]\n"
          ]
        },
        {
          "name": "stdout",
          "output_type": "stream",
          "text": [
            "Moving model to device:  cpu\n"
          ]
        },
        {
          "name": "stderr",
          "output_type": "stream",
          "text": [
            "Chain 14: 100%|██████████| 25/25 [00:00<00:00, 25.28it/s]\n"
          ]
        },
        {
          "name": "stdout",
          "output_type": "stream",
          "text": [
            "result = 772.6959228515625\n",
            "Moving model to device:  cpu\n",
            "Moving model to device:  cpu\n",
            "Moving model to device:  cpu\n"
          ]
        },
        {
          "name": "stderr",
          "output_type": "stream",
          "text": [
            "Chain 0: 100%|██████████| 25/25 [00:00<00:00, 28.26it/s]\n"
          ]
        },
        {
          "name": "stdout",
          "output_type": "stream",
          "text": [
            "Moving model to device:  cpu\n"
          ]
        },
        {
          "name": "stderr",
          "output_type": "stream",
          "text": [
            "Chain 1: 100%|██████████| 25/25 [00:00<00:00, 27.63it/s]\n"
          ]
        },
        {
          "name": "stdout",
          "output_type": "stream",
          "text": [
            "Moving model to device:  cpu\n"
          ]
        },
        {
          "name": "stderr",
          "output_type": "stream",
          "text": [
            "Chain 2: 100%|██████████| 25/25 [00:00<00:00, 28.70it/s]\n"
          ]
        },
        {
          "name": "stdout",
          "output_type": "stream",
          "text": [
            "Moving model to device:  cpu\n"
          ]
        },
        {
          "name": "stderr",
          "output_type": "stream",
          "text": [
            "Chain 3: 100%|██████████| 25/25 [00:00<00:00, 26.23it/s]\n"
          ]
        },
        {
          "name": "stdout",
          "output_type": "stream",
          "text": [
            "Moving model to device:  cpu\n"
          ]
        },
        {
          "name": "stderr",
          "output_type": "stream",
          "text": [
            "Chain 4: 100%|██████████| 25/25 [00:00<00:00, 27.83it/s]\n"
          ]
        },
        {
          "name": "stdout",
          "output_type": "stream",
          "text": [
            "Moving model to device:  cpu\n"
          ]
        },
        {
          "name": "stderr",
          "output_type": "stream",
          "text": [
            "Chain 5: 100%|██████████| 25/25 [00:00<00:00, 29.15it/s]\n"
          ]
        },
        {
          "name": "stdout",
          "output_type": "stream",
          "text": [
            "Moving model to device:  cpu\n"
          ]
        },
        {
          "name": "stderr",
          "output_type": "stream",
          "text": [
            "Chain 6: 100%|██████████| 25/25 [00:00<00:00, 29.70it/s]\n"
          ]
        },
        {
          "name": "stdout",
          "output_type": "stream",
          "text": [
            "Moving model to device:  cpu\n"
          ]
        },
        {
          "name": "stderr",
          "output_type": "stream",
          "text": [
            "Chain 7: 100%|██████████| 25/25 [00:01<00:00, 22.06it/s]\n"
          ]
        },
        {
          "name": "stdout",
          "output_type": "stream",
          "text": [
            "Moving model to device:  cpu\n"
          ]
        },
        {
          "name": "stderr",
          "output_type": "stream",
          "text": [
            "Chain 8: 100%|██████████| 25/25 [00:00<00:00, 28.65it/s]\n"
          ]
        },
        {
          "name": "stdout",
          "output_type": "stream",
          "text": [
            "Moving model to device:  cpu\n"
          ]
        },
        {
          "name": "stderr",
          "output_type": "stream",
          "text": [
            "Chain 9: 100%|██████████| 25/25 [00:00<00:00, 25.89it/s]\n"
          ]
        },
        {
          "name": "stdout",
          "output_type": "stream",
          "text": [
            "Moving model to device:  cpu\n"
          ]
        },
        {
          "name": "stderr",
          "output_type": "stream",
          "text": [
            "Chain 10: 100%|██████████| 25/25 [00:00<00:00, 27.75it/s]\n"
          ]
        },
        {
          "name": "stdout",
          "output_type": "stream",
          "text": [
            "Moving model to device:  cpu\n"
          ]
        },
        {
          "name": "stderr",
          "output_type": "stream",
          "text": [
            "Chain 11: 100%|██████████| 25/25 [00:00<00:00, 25.10it/s]\n"
          ]
        },
        {
          "name": "stdout",
          "output_type": "stream",
          "text": [
            "Moving model to device:  cpu\n"
          ]
        },
        {
          "name": "stderr",
          "output_type": "stream",
          "text": [
            "Chain 12: 100%|██████████| 25/25 [00:00<00:00, 27.64it/s]\n"
          ]
        },
        {
          "name": "stdout",
          "output_type": "stream",
          "text": [
            "Moving model to device:  cpu\n"
          ]
        },
        {
          "name": "stderr",
          "output_type": "stream",
          "text": [
            "Chain 13: 100%|██████████| 25/25 [00:00<00:00, 28.43it/s]\n"
          ]
        },
        {
          "name": "stdout",
          "output_type": "stream",
          "text": [
            "Moving model to device:  cpu\n"
          ]
        },
        {
          "name": "stderr",
          "output_type": "stream",
          "text": [
            "Chain 14: 100%|██████████| 25/25 [00:00<00:00, 28.15it/s]\n"
          ]
        },
        {
          "name": "stdout",
          "output_type": "stream",
          "text": [
            "result = 777.8515014648438\n",
            "Moving model to device:  cpu\n",
            "Moving model to device:  cpu\n",
            "Moving model to device:  cpu\n"
          ]
        },
        {
          "name": "stderr",
          "output_type": "stream",
          "text": [
            "Chain 0: 100%|██████████| 25/25 [00:00<00:00, 25.29it/s]\n"
          ]
        },
        {
          "name": "stdout",
          "output_type": "stream",
          "text": [
            "Moving model to device:  cpu\n"
          ]
        },
        {
          "name": "stderr",
          "output_type": "stream",
          "text": [
            "Chain 1: 100%|██████████| 25/25 [00:00<00:00, 28.12it/s]\n"
          ]
        },
        {
          "name": "stdout",
          "output_type": "stream",
          "text": [
            "Moving model to device:  cpu\n"
          ]
        },
        {
          "name": "stderr",
          "output_type": "stream",
          "text": [
            "Chain 2: 100%|██████████| 25/25 [00:00<00:00, 27.39it/s]\n"
          ]
        },
        {
          "name": "stdout",
          "output_type": "stream",
          "text": [
            "Moving model to device:  cpu\n"
          ]
        },
        {
          "name": "stderr",
          "output_type": "stream",
          "text": [
            "Chain 3: 100%|██████████| 25/25 [00:01<00:00, 24.00it/s]\n"
          ]
        },
        {
          "name": "stdout",
          "output_type": "stream",
          "text": [
            "Moving model to device:  cpu\n"
          ]
        },
        {
          "name": "stderr",
          "output_type": "stream",
          "text": [
            "Chain 4: 100%|██████████| 25/25 [00:01<00:00, 24.78it/s]\n"
          ]
        },
        {
          "name": "stdout",
          "output_type": "stream",
          "text": [
            "Moving model to device:  cpu\n"
          ]
        },
        {
          "name": "stderr",
          "output_type": "stream",
          "text": [
            "Chain 5: 100%|██████████| 25/25 [00:00<00:00, 26.15it/s]\n"
          ]
        },
        {
          "name": "stdout",
          "output_type": "stream",
          "text": [
            "Moving model to device:  cpu\n"
          ]
        },
        {
          "name": "stderr",
          "output_type": "stream",
          "text": [
            "Chain 6: 100%|██████████| 25/25 [00:01<00:00, 20.10it/s]\n"
          ]
        },
        {
          "name": "stdout",
          "output_type": "stream",
          "text": [
            "Moving model to device:  cpu\n"
          ]
        },
        {
          "name": "stderr",
          "output_type": "stream",
          "text": [
            "Chain 7: 100%|██████████| 25/25 [00:00<00:00, 28.39it/s]\n"
          ]
        },
        {
          "name": "stdout",
          "output_type": "stream",
          "text": [
            "Moving model to device:  cpu\n"
          ]
        },
        {
          "name": "stderr",
          "output_type": "stream",
          "text": [
            "Chain 8: 100%|██████████| 25/25 [00:00<00:00, 29.81it/s]\n"
          ]
        },
        {
          "name": "stdout",
          "output_type": "stream",
          "text": [
            "Moving model to device:  cpu\n"
          ]
        },
        {
          "name": "stderr",
          "output_type": "stream",
          "text": [
            "Chain 9: 100%|██████████| 25/25 [00:00<00:00, 28.80it/s]\n"
          ]
        },
        {
          "name": "stdout",
          "output_type": "stream",
          "text": [
            "Moving model to device:  cpu\n"
          ]
        },
        {
          "name": "stderr",
          "output_type": "stream",
          "text": [
            "Chain 10: 100%|██████████| 25/25 [00:00<00:00, 26.91it/s]\n"
          ]
        },
        {
          "name": "stdout",
          "output_type": "stream",
          "text": [
            "Moving model to device:  cpu\n"
          ]
        },
        {
          "name": "stderr",
          "output_type": "stream",
          "text": [
            "Chain 11: 100%|██████████| 25/25 [00:00<00:00, 30.19it/s]\n"
          ]
        },
        {
          "name": "stdout",
          "output_type": "stream",
          "text": [
            "Moving model to device:  cpu\n"
          ]
        },
        {
          "name": "stderr",
          "output_type": "stream",
          "text": [
            "Chain 12: 100%|██████████| 25/25 [00:00<00:00, 29.76it/s]\n"
          ]
        },
        {
          "name": "stdout",
          "output_type": "stream",
          "text": [
            "Moving model to device:  cpu\n"
          ]
        },
        {
          "name": "stderr",
          "output_type": "stream",
          "text": [
            "Chain 13: 100%|██████████| 25/25 [00:00<00:00, 30.70it/s]\n"
          ]
        },
        {
          "name": "stdout",
          "output_type": "stream",
          "text": [
            "Moving model to device:  cpu\n"
          ]
        },
        {
          "name": "stderr",
          "output_type": "stream",
          "text": [
            "Chain 14: 100%|██████████| 25/25 [00:00<00:00, 28.62it/s]\n"
          ]
        },
        {
          "name": "stdout",
          "output_type": "stream",
          "text": [
            "result = 776.8673706054688\n",
            "Moving model to device:  cpu\n",
            "Moving model to device:  cpu\n",
            "Moving model to device:  cpu\n"
          ]
        },
        {
          "name": "stderr",
          "output_type": "stream",
          "text": [
            "Chain 0: 100%|██████████| 25/25 [00:00<00:00, 30.94it/s]\n"
          ]
        },
        {
          "name": "stdout",
          "output_type": "stream",
          "text": [
            "Moving model to device:  cpu\n"
          ]
        },
        {
          "name": "stderr",
          "output_type": "stream",
          "text": [
            "Chain 1: 100%|██████████| 25/25 [00:00<00:00, 28.17it/s]\n"
          ]
        },
        {
          "name": "stdout",
          "output_type": "stream",
          "text": [
            "Moving model to device:  cpu\n"
          ]
        },
        {
          "name": "stderr",
          "output_type": "stream",
          "text": [
            "Chain 2: 100%|██████████| 25/25 [00:00<00:00, 32.23it/s]\n"
          ]
        },
        {
          "name": "stdout",
          "output_type": "stream",
          "text": [
            "Moving model to device:  cpu\n"
          ]
        },
        {
          "name": "stderr",
          "output_type": "stream",
          "text": [
            "Chain 3: 100%|██████████| 25/25 [00:00<00:00, 32.00it/s]\n"
          ]
        },
        {
          "name": "stdout",
          "output_type": "stream",
          "text": [
            "Moving model to device:  cpu\n"
          ]
        },
        {
          "name": "stderr",
          "output_type": "stream",
          "text": [
            "Chain 4: 100%|██████████| 25/25 [00:00<00:00, 30.89it/s]\n"
          ]
        },
        {
          "name": "stdout",
          "output_type": "stream",
          "text": [
            "Moving model to device:  cpu\n"
          ]
        },
        {
          "name": "stderr",
          "output_type": "stream",
          "text": [
            "Chain 5: 100%|██████████| 25/25 [00:00<00:00, 31.02it/s]\n"
          ]
        },
        {
          "name": "stdout",
          "output_type": "stream",
          "text": [
            "Moving model to device:  cpu\n"
          ]
        },
        {
          "name": "stderr",
          "output_type": "stream",
          "text": [
            "Chain 6: 100%|██████████| 25/25 [00:01<00:00, 22.38it/s]\n"
          ]
        },
        {
          "name": "stdout",
          "output_type": "stream",
          "text": [
            "Moving model to device:  cpu\n"
          ]
        },
        {
          "name": "stderr",
          "output_type": "stream",
          "text": [
            "Chain 7: 100%|██████████| 25/25 [00:00<00:00, 32.62it/s]\n"
          ]
        },
        {
          "name": "stdout",
          "output_type": "stream",
          "text": [
            "Moving model to device:  cpu\n"
          ]
        },
        {
          "name": "stderr",
          "output_type": "stream",
          "text": [
            "Chain 8: 100%|██████████| 25/25 [00:00<00:00, 32.60it/s]\n"
          ]
        },
        {
          "name": "stdout",
          "output_type": "stream",
          "text": [
            "Moving model to device:  cpu\n"
          ]
        },
        {
          "name": "stderr",
          "output_type": "stream",
          "text": [
            "Chain 9: 100%|██████████| 25/25 [00:00<00:00, 31.02it/s]\n"
          ]
        },
        {
          "name": "stdout",
          "output_type": "stream",
          "text": [
            "Moving model to device:  cpu\n"
          ]
        },
        {
          "name": "stderr",
          "output_type": "stream",
          "text": [
            "Chain 10: 100%|██████████| 25/25 [00:00<00:00, 29.92it/s]\n"
          ]
        },
        {
          "name": "stdout",
          "output_type": "stream",
          "text": [
            "Moving model to device:  cpu\n"
          ]
        },
        {
          "name": "stderr",
          "output_type": "stream",
          "text": [
            "Chain 11: 100%|██████████| 25/25 [00:00<00:00, 32.05it/s]\n"
          ]
        },
        {
          "name": "stdout",
          "output_type": "stream",
          "text": [
            "Moving model to device:  cpu\n"
          ]
        },
        {
          "name": "stderr",
          "output_type": "stream",
          "text": [
            "Chain 12: 100%|██████████| 25/25 [00:00<00:00, 31.67it/s]\n"
          ]
        },
        {
          "name": "stdout",
          "output_type": "stream",
          "text": [
            "Moving model to device:  cpu\n"
          ]
        },
        {
          "name": "stderr",
          "output_type": "stream",
          "text": [
            "Chain 13: 100%|██████████| 25/25 [00:00<00:00, 31.63it/s]\n"
          ]
        },
        {
          "name": "stdout",
          "output_type": "stream",
          "text": [
            "Moving model to device:  cpu\n"
          ]
        },
        {
          "name": "stderr",
          "output_type": "stream",
          "text": [
            "Chain 14: 100%|██████████| 25/25 [00:00<00:00, 32.42it/s]\n"
          ]
        },
        {
          "name": "stdout",
          "output_type": "stream",
          "text": [
            "result = 784.8438720703125\n",
            "Moving model to device:  cpu\n",
            "Moving model to device:  cpu\n",
            "Moving model to device:  cpu\n"
          ]
        },
        {
          "name": "stderr",
          "output_type": "stream",
          "text": [
            "Chain 0: 100%|██████████| 25/25 [00:00<00:00, 33.33it/s]\n"
          ]
        },
        {
          "name": "stdout",
          "output_type": "stream",
          "text": [
            "Moving model to device:  cpu\n"
          ]
        },
        {
          "name": "stderr",
          "output_type": "stream",
          "text": [
            "Chain 1: 100%|██████████| 25/25 [00:00<00:00, 33.75it/s]\n"
          ]
        },
        {
          "name": "stdout",
          "output_type": "stream",
          "text": [
            "Moving model to device:  cpu\n"
          ]
        },
        {
          "name": "stderr",
          "output_type": "stream",
          "text": [
            "Chain 2: 100%|██████████| 25/25 [00:00<00:00, 33.34it/s]\n"
          ]
        },
        {
          "name": "stdout",
          "output_type": "stream",
          "text": [
            "Moving model to device:  cpu\n"
          ]
        },
        {
          "name": "stderr",
          "output_type": "stream",
          "text": [
            "Chain 3: 100%|██████████| 25/25 [00:00<00:00, 33.04it/s]\n"
          ]
        },
        {
          "name": "stdout",
          "output_type": "stream",
          "text": [
            "Moving model to device:  cpu\n"
          ]
        },
        {
          "name": "stderr",
          "output_type": "stream",
          "text": [
            "Chain 4: 100%|██████████| 25/25 [00:00<00:00, 31.28it/s]\n"
          ]
        },
        {
          "name": "stdout",
          "output_type": "stream",
          "text": [
            "Moving model to device:  cpu\n"
          ]
        },
        {
          "name": "stderr",
          "output_type": "stream",
          "text": [
            "Chain 5: 100%|██████████| 25/25 [00:00<00:00, 27.40it/s]\n"
          ]
        },
        {
          "name": "stdout",
          "output_type": "stream",
          "text": [
            "Moving model to device:  cpu\n"
          ]
        },
        {
          "name": "stderr",
          "output_type": "stream",
          "text": [
            "Chain 6: 100%|██████████| 25/25 [00:00<00:00, 32.94it/s]\n"
          ]
        },
        {
          "name": "stdout",
          "output_type": "stream",
          "text": [
            "Moving model to device:  cpu\n"
          ]
        },
        {
          "name": "stderr",
          "output_type": "stream",
          "text": [
            "Chain 7: 100%|██████████| 25/25 [00:00<00:00, 32.97it/s]\n"
          ]
        },
        {
          "name": "stdout",
          "output_type": "stream",
          "text": [
            "Moving model to device:  cpu\n"
          ]
        },
        {
          "name": "stderr",
          "output_type": "stream",
          "text": [
            "Chain 8: 100%|██████████| 25/25 [00:00<00:00, 32.93it/s]\n"
          ]
        },
        {
          "name": "stdout",
          "output_type": "stream",
          "text": [
            "Moving model to device:  cpu\n"
          ]
        },
        {
          "name": "stderr",
          "output_type": "stream",
          "text": [
            "Chain 9: 100%|██████████| 25/25 [00:00<00:00, 31.11it/s]\n"
          ]
        },
        {
          "name": "stdout",
          "output_type": "stream",
          "text": [
            "Moving model to device:  cpu\n"
          ]
        },
        {
          "name": "stderr",
          "output_type": "stream",
          "text": [
            "Chain 10: 100%|██████████| 25/25 [00:00<00:00, 33.39it/s]\n"
          ]
        },
        {
          "name": "stdout",
          "output_type": "stream",
          "text": [
            "Moving model to device:  cpu\n"
          ]
        },
        {
          "name": "stderr",
          "output_type": "stream",
          "text": [
            "Chain 11: 100%|██████████| 25/25 [00:00<00:00, 34.44it/s]\n"
          ]
        },
        {
          "name": "stdout",
          "output_type": "stream",
          "text": [
            "Moving model to device:  cpu\n"
          ]
        },
        {
          "name": "stderr",
          "output_type": "stream",
          "text": [
            "Chain 12: 100%|██████████| 25/25 [00:00<00:00, 34.79it/s]\n"
          ]
        },
        {
          "name": "stdout",
          "output_type": "stream",
          "text": [
            "Moving model to device:  cpu\n"
          ]
        },
        {
          "name": "stderr",
          "output_type": "stream",
          "text": [
            "Chain 13: 100%|██████████| 25/25 [00:00<00:00, 30.65it/s]\n"
          ]
        },
        {
          "name": "stdout",
          "output_type": "stream",
          "text": [
            "Moving model to device:  cpu\n"
          ]
        },
        {
          "name": "stderr",
          "output_type": "stream",
          "text": [
            "Chain 14: 100%|██████████| 25/25 [00:00<00:00, 33.86it/s]\n"
          ]
        },
        {
          "name": "stdout",
          "output_type": "stream",
          "text": [
            "result = 786.1798095703125\n",
            "Moving model to device:  cpu\n",
            "Moving model to device:  cpu\n",
            "Moving model to device:  cpu\n"
          ]
        },
        {
          "name": "stderr",
          "output_type": "stream",
          "text": [
            "Chain 0: 100%|██████████| 25/25 [00:00<00:00, 36.69it/s]\n"
          ]
        },
        {
          "name": "stdout",
          "output_type": "stream",
          "text": [
            "Moving model to device:  cpu\n"
          ]
        },
        {
          "name": "stderr",
          "output_type": "stream",
          "text": [
            "Chain 1: 100%|██████████| 25/25 [00:00<00:00, 33.78it/s]\n"
          ]
        },
        {
          "name": "stdout",
          "output_type": "stream",
          "text": [
            "Moving model to device:  cpu\n"
          ]
        },
        {
          "name": "stderr",
          "output_type": "stream",
          "text": [
            "Chain 2: 100%|██████████| 25/25 [00:00<00:00, 34.82it/s]\n"
          ]
        },
        {
          "name": "stdout",
          "output_type": "stream",
          "text": [
            "Moving model to device:  cpu\n"
          ]
        },
        {
          "name": "stderr",
          "output_type": "stream",
          "text": [
            "Chain 3: 100%|██████████| 25/25 [00:00<00:00, 31.68it/s]\n"
          ]
        },
        {
          "name": "stdout",
          "output_type": "stream",
          "text": [
            "Moving model to device:  cpu\n"
          ]
        },
        {
          "name": "stderr",
          "output_type": "stream",
          "text": [
            "Chain 4: 100%|██████████| 25/25 [00:00<00:00, 34.03it/s]\n"
          ]
        },
        {
          "name": "stdout",
          "output_type": "stream",
          "text": [
            "Moving model to device:  cpu\n"
          ]
        },
        {
          "name": "stderr",
          "output_type": "stream",
          "text": [
            "Chain 5: 100%|██████████| 25/25 [00:00<00:00, 27.33it/s]\n"
          ]
        },
        {
          "name": "stdout",
          "output_type": "stream",
          "text": [
            "Moving model to device:  cpu\n"
          ]
        },
        {
          "name": "stderr",
          "output_type": "stream",
          "text": [
            "Chain 6: 100%|██████████| 25/25 [00:00<00:00, 32.89it/s]\n"
          ]
        },
        {
          "name": "stdout",
          "output_type": "stream",
          "text": [
            "Moving model to device:  cpu\n"
          ]
        },
        {
          "name": "stderr",
          "output_type": "stream",
          "text": [
            "Chain 7: 100%|██████████| 25/25 [00:00<00:00, 34.98it/s]\n"
          ]
        },
        {
          "name": "stdout",
          "output_type": "stream",
          "text": [
            "Moving model to device:  cpu\n"
          ]
        },
        {
          "name": "stderr",
          "output_type": "stream",
          "text": [
            "Chain 8: 100%|██████████| 25/25 [00:00<00:00, 32.28it/s]\n"
          ]
        },
        {
          "name": "stdout",
          "output_type": "stream",
          "text": [
            "Moving model to device:  cpu\n"
          ]
        },
        {
          "name": "stderr",
          "output_type": "stream",
          "text": [
            "Chain 9: 100%|██████████| 25/25 [00:00<00:00, 35.30it/s]\n"
          ]
        },
        {
          "name": "stdout",
          "output_type": "stream",
          "text": [
            "Moving model to device:  cpu\n"
          ]
        },
        {
          "name": "stderr",
          "output_type": "stream",
          "text": [
            "Chain 10: 100%|██████████| 25/25 [00:00<00:00, 34.22it/s]\n"
          ]
        },
        {
          "name": "stdout",
          "output_type": "stream",
          "text": [
            "Moving model to device:  cpu\n"
          ]
        },
        {
          "name": "stderr",
          "output_type": "stream",
          "text": [
            "Chain 11: 100%|██████████| 25/25 [00:00<00:00, 34.99it/s]\n"
          ]
        },
        {
          "name": "stdout",
          "output_type": "stream",
          "text": [
            "Moving model to device:  cpu\n"
          ]
        },
        {
          "name": "stderr",
          "output_type": "stream",
          "text": [
            "Chain 12: 100%|██████████| 25/25 [00:00<00:00, 35.40it/s]\n"
          ]
        },
        {
          "name": "stdout",
          "output_type": "stream",
          "text": [
            "Moving model to device:  cpu\n"
          ]
        },
        {
          "name": "stderr",
          "output_type": "stream",
          "text": [
            "Chain 13: 100%|██████████| 25/25 [00:00<00:00, 33.29it/s]\n"
          ]
        },
        {
          "name": "stdout",
          "output_type": "stream",
          "text": [
            "Moving model to device:  cpu\n"
          ]
        },
        {
          "name": "stderr",
          "output_type": "stream",
          "text": [
            "Chain 14: 100%|██████████| 25/25 [00:00<00:00, 35.11it/s]\n"
          ]
        },
        {
          "name": "stdout",
          "output_type": "stream",
          "text": [
            "result = 782.5722045898438\n",
            "Moving model to device:  cpu\n",
            "Moving model to device:  cpu\n",
            "Moving model to device:  cpu\n"
          ]
        },
        {
          "name": "stderr",
          "output_type": "stream",
          "text": [
            "Chain 0: 100%|██████████| 25/25 [00:00<00:00, 35.18it/s]\n"
          ]
        },
        {
          "name": "stdout",
          "output_type": "stream",
          "text": [
            "Moving model to device:  cpu\n"
          ]
        },
        {
          "name": "stderr",
          "output_type": "stream",
          "text": [
            "Chain 1: 100%|██████████| 25/25 [00:00<00:00, 34.23it/s]\n"
          ]
        },
        {
          "name": "stdout",
          "output_type": "stream",
          "text": [
            "Moving model to device:  cpu\n"
          ]
        },
        {
          "name": "stderr",
          "output_type": "stream",
          "text": [
            "Chain 2: 100%|██████████| 25/25 [00:00<00:00, 32.08it/s]\n"
          ]
        },
        {
          "name": "stdout",
          "output_type": "stream",
          "text": [
            "Moving model to device:  cpu\n"
          ]
        },
        {
          "name": "stderr",
          "output_type": "stream",
          "text": [
            "Chain 3: 100%|██████████| 25/25 [00:00<00:00, 35.37it/s]\n"
          ]
        },
        {
          "name": "stdout",
          "output_type": "stream",
          "text": [
            "Moving model to device:  cpu\n"
          ]
        },
        {
          "name": "stderr",
          "output_type": "stream",
          "text": [
            "Chain 4: 100%|██████████| 25/25 [00:00<00:00, 28.15it/s]\n"
          ]
        },
        {
          "name": "stdout",
          "output_type": "stream",
          "text": [
            "Moving model to device:  cpu\n"
          ]
        },
        {
          "name": "stderr",
          "output_type": "stream",
          "text": [
            "Chain 5: 100%|██████████| 25/25 [00:00<00:00, 34.85it/s]\n"
          ]
        },
        {
          "name": "stdout",
          "output_type": "stream",
          "text": [
            "Moving model to device:  cpu\n"
          ]
        },
        {
          "name": "stderr",
          "output_type": "stream",
          "text": [
            "Chain 6: 100%|██████████| 25/25 [00:00<00:00, 35.20it/s]\n"
          ]
        },
        {
          "name": "stdout",
          "output_type": "stream",
          "text": [
            "Moving model to device:  cpu\n"
          ]
        },
        {
          "name": "stderr",
          "output_type": "stream",
          "text": [
            "Chain 7: 100%|██████████| 25/25 [00:00<00:00, 32.95it/s]\n"
          ]
        },
        {
          "name": "stdout",
          "output_type": "stream",
          "text": [
            "Moving model to device:  cpu\n"
          ]
        },
        {
          "name": "stderr",
          "output_type": "stream",
          "text": [
            "Chain 8: 100%|██████████| 25/25 [00:00<00:00, 35.71it/s]\n"
          ]
        },
        {
          "name": "stdout",
          "output_type": "stream",
          "text": [
            "Moving model to device:  cpu\n"
          ]
        },
        {
          "name": "stderr",
          "output_type": "stream",
          "text": [
            "Chain 9: 100%|██████████| 25/25 [00:00<00:00, 34.76it/s]\n"
          ]
        },
        {
          "name": "stdout",
          "output_type": "stream",
          "text": [
            "Moving model to device:  cpu\n"
          ]
        },
        {
          "name": "stderr",
          "output_type": "stream",
          "text": [
            "Chain 10: 100%|██████████| 25/25 [00:00<00:00, 35.44it/s]\n"
          ]
        },
        {
          "name": "stdout",
          "output_type": "stream",
          "text": [
            "Moving model to device:  cpu\n"
          ]
        },
        {
          "name": "stderr",
          "output_type": "stream",
          "text": [
            "Chain 11: 100%|██████████| 25/25 [00:00<00:00, 34.88it/s]\n"
          ]
        },
        {
          "name": "stdout",
          "output_type": "stream",
          "text": [
            "Moving model to device:  cpu\n"
          ]
        },
        {
          "name": "stderr",
          "output_type": "stream",
          "text": [
            "Chain 12: 100%|██████████| 25/25 [00:00<00:00, 32.90it/s]\n"
          ]
        },
        {
          "name": "stdout",
          "output_type": "stream",
          "text": [
            "Moving model to device:  cpu\n"
          ]
        },
        {
          "name": "stderr",
          "output_type": "stream",
          "text": [
            "Chain 13: 100%|██████████| 25/25 [00:00<00:00, 35.26it/s]\n"
          ]
        },
        {
          "name": "stdout",
          "output_type": "stream",
          "text": [
            "Moving model to device:  cpu\n"
          ]
        },
        {
          "name": "stderr",
          "output_type": "stream",
          "text": [
            "Chain 14: 100%|██████████| 25/25 [00:00<00:00, 35.66it/s]\n"
          ]
        },
        {
          "name": "stdout",
          "output_type": "stream",
          "text": [
            "result = 779.452392578125\n",
            "Moving model to device:  cpu\n",
            "Moving model to device:  cpu\n",
            "Moving model to device:  cpu\n"
          ]
        },
        {
          "name": "stderr",
          "output_type": "stream",
          "text": [
            "Chain 0: 100%|██████████| 25/25 [00:00<00:00, 34.76it/s]\n"
          ]
        },
        {
          "name": "stdout",
          "output_type": "stream",
          "text": [
            "Moving model to device:  cpu\n"
          ]
        },
        {
          "name": "stderr",
          "output_type": "stream",
          "text": [
            "Chain 1: 100%|██████████| 25/25 [00:00<00:00, 29.13it/s]\n"
          ]
        },
        {
          "name": "stdout",
          "output_type": "stream",
          "text": [
            "Moving model to device:  cpu\n"
          ]
        },
        {
          "name": "stderr",
          "output_type": "stream",
          "text": [
            "Chain 2: 100%|██████████| 25/25 [00:00<00:00, 31.62it/s]\n"
          ]
        },
        {
          "name": "stdout",
          "output_type": "stream",
          "text": [
            "Moving model to device:  cpu\n"
          ]
        },
        {
          "name": "stderr",
          "output_type": "stream",
          "text": [
            "Chain 3: 100%|██████████| 25/25 [00:00<00:00, 31.15it/s]\n"
          ]
        },
        {
          "name": "stdout",
          "output_type": "stream",
          "text": [
            "Moving model to device:  cpu\n"
          ]
        },
        {
          "name": "stderr",
          "output_type": "stream",
          "text": [
            "Chain 4: 100%|██████████| 25/25 [00:00<00:00, 27.02it/s]\n"
          ]
        },
        {
          "name": "stdout",
          "output_type": "stream",
          "text": [
            "Moving model to device:  cpu\n"
          ]
        },
        {
          "name": "stderr",
          "output_type": "stream",
          "text": [
            "Chain 5: 100%|██████████| 25/25 [00:00<00:00, 31.45it/s]\n"
          ]
        },
        {
          "name": "stdout",
          "output_type": "stream",
          "text": [
            "Moving model to device:  cpu\n"
          ]
        },
        {
          "name": "stderr",
          "output_type": "stream",
          "text": [
            "Chain 6: 100%|██████████| 25/25 [00:00<00:00, 32.04it/s]\n"
          ]
        },
        {
          "name": "stdout",
          "output_type": "stream",
          "text": [
            "Moving model to device:  cpu\n"
          ]
        },
        {
          "name": "stderr",
          "output_type": "stream",
          "text": [
            "Chain 7: 100%|██████████| 25/25 [00:00<00:00, 33.98it/s]\n"
          ]
        },
        {
          "name": "stdout",
          "output_type": "stream",
          "text": [
            "Moving model to device:  cpu\n"
          ]
        },
        {
          "name": "stderr",
          "output_type": "stream",
          "text": [
            "Chain 8: 100%|██████████| 25/25 [00:00<00:00, 33.60it/s]\n"
          ]
        },
        {
          "name": "stdout",
          "output_type": "stream",
          "text": [
            "Moving model to device:  cpu\n"
          ]
        },
        {
          "name": "stderr",
          "output_type": "stream",
          "text": [
            "Chain 9: 100%|██████████| 25/25 [00:00<00:00, 31.92it/s]\n"
          ]
        },
        {
          "name": "stdout",
          "output_type": "stream",
          "text": [
            "Moving model to device:  cpu\n"
          ]
        },
        {
          "name": "stderr",
          "output_type": "stream",
          "text": [
            "Chain 10: 100%|██████████| 25/25 [00:00<00:00, 34.70it/s]\n"
          ]
        },
        {
          "name": "stdout",
          "output_type": "stream",
          "text": [
            "Moving model to device:  cpu\n"
          ]
        },
        {
          "name": "stderr",
          "output_type": "stream",
          "text": [
            "Chain 11: 100%|██████████| 25/25 [00:00<00:00, 31.96it/s]\n"
          ]
        },
        {
          "name": "stdout",
          "output_type": "stream",
          "text": [
            "Moving model to device:  cpu\n"
          ]
        },
        {
          "name": "stderr",
          "output_type": "stream",
          "text": [
            "Chain 12: 100%|██████████| 25/25 [00:00<00:00, 32.50it/s]\n"
          ]
        },
        {
          "name": "stdout",
          "output_type": "stream",
          "text": [
            "Moving model to device:  cpu\n"
          ]
        },
        {
          "name": "stderr",
          "output_type": "stream",
          "text": [
            "Chain 13: 100%|██████████| 25/25 [00:00<00:00, 35.02it/s]\n"
          ]
        },
        {
          "name": "stdout",
          "output_type": "stream",
          "text": [
            "Moving model to device:  cpu\n"
          ]
        },
        {
          "name": "stderr",
          "output_type": "stream",
          "text": [
            "Chain 14: 100%|██████████| 25/25 [00:00<00:00, 34.22it/s]\n"
          ]
        },
        {
          "name": "stdout",
          "output_type": "stream",
          "text": [
            "result = 774.8599853515625\n",
            "Moving model to device:  cpu\n",
            "Moving model to device:  cpu\n",
            "Moving model to device:  cpu\n"
          ]
        },
        {
          "name": "stderr",
          "output_type": "stream",
          "text": [
            "Chain 0: 100%|██████████| 25/25 [00:00<00:00, 32.68it/s]\n"
          ]
        },
        {
          "name": "stdout",
          "output_type": "stream",
          "text": [
            "Moving model to device:  cpu\n"
          ]
        },
        {
          "name": "stderr",
          "output_type": "stream",
          "text": [
            "Chain 1: 100%|██████████| 25/25 [00:00<00:00, 33.67it/s]\n"
          ]
        },
        {
          "name": "stdout",
          "output_type": "stream",
          "text": [
            "Moving model to device:  cpu\n"
          ]
        },
        {
          "name": "stderr",
          "output_type": "stream",
          "text": [
            "Chain 2: 100%|██████████| 25/25 [00:00<00:00, 31.48it/s]\n"
          ]
        },
        {
          "name": "stdout",
          "output_type": "stream",
          "text": [
            "Moving model to device:  cpu\n"
          ]
        },
        {
          "name": "stderr",
          "output_type": "stream",
          "text": [
            "Chain 3: 100%|██████████| 25/25 [00:00<00:00, 26.90it/s]\n"
          ]
        },
        {
          "name": "stdout",
          "output_type": "stream",
          "text": [
            "Moving model to device:  cpu\n"
          ]
        },
        {
          "name": "stderr",
          "output_type": "stream",
          "text": [
            "Chain 4: 100%|██████████| 25/25 [00:00<00:00, 33.45it/s]\n"
          ]
        },
        {
          "name": "stdout",
          "output_type": "stream",
          "text": [
            "Moving model to device:  cpu\n"
          ]
        },
        {
          "name": "stderr",
          "output_type": "stream",
          "text": [
            "Chain 5: 100%|██████████| 25/25 [00:00<00:00, 30.43it/s]\n"
          ]
        },
        {
          "name": "stdout",
          "output_type": "stream",
          "text": [
            "Moving model to device:  cpu\n"
          ]
        },
        {
          "name": "stderr",
          "output_type": "stream",
          "text": [
            "Chain 6: 100%|██████████| 25/25 [00:00<00:00, 31.99it/s]\n"
          ]
        },
        {
          "name": "stdout",
          "output_type": "stream",
          "text": [
            "Moving model to device:  cpu\n"
          ]
        },
        {
          "name": "stderr",
          "output_type": "stream",
          "text": [
            "Chain 7: 100%|██████████| 25/25 [00:00<00:00, 32.31it/s]\n"
          ]
        },
        {
          "name": "stdout",
          "output_type": "stream",
          "text": [
            "Moving model to device:  cpu\n"
          ]
        },
        {
          "name": "stderr",
          "output_type": "stream",
          "text": [
            "Chain 8: 100%|██████████| 25/25 [00:00<00:00, 34.63it/s]\n"
          ]
        },
        {
          "name": "stdout",
          "output_type": "stream",
          "text": [
            "Moving model to device:  cpu\n"
          ]
        },
        {
          "name": "stderr",
          "output_type": "stream",
          "text": [
            "Chain 9: 100%|██████████| 25/25 [00:00<00:00, 31.24it/s]\n"
          ]
        },
        {
          "name": "stdout",
          "output_type": "stream",
          "text": [
            "Moving model to device:  cpu\n"
          ]
        },
        {
          "name": "stderr",
          "output_type": "stream",
          "text": [
            "Chain 10: 100%|██████████| 25/25 [00:00<00:00, 31.60it/s]\n"
          ]
        },
        {
          "name": "stdout",
          "output_type": "stream",
          "text": [
            "Moving model to device:  cpu\n"
          ]
        },
        {
          "name": "stderr",
          "output_type": "stream",
          "text": [
            "Chain 11: 100%|██████████| 25/25 [00:00<00:00, 32.93it/s]\n"
          ]
        },
        {
          "name": "stdout",
          "output_type": "stream",
          "text": [
            "Moving model to device:  cpu\n"
          ]
        },
        {
          "name": "stderr",
          "output_type": "stream",
          "text": [
            "Chain 12: 100%|██████████| 25/25 [00:00<00:00, 33.13it/s]\n"
          ]
        },
        {
          "name": "stdout",
          "output_type": "stream",
          "text": [
            "Moving model to device:  cpu\n"
          ]
        },
        {
          "name": "stderr",
          "output_type": "stream",
          "text": [
            "Chain 13: 100%|██████████| 25/25 [00:00<00:00, 33.05it/s]\n"
          ]
        },
        {
          "name": "stdout",
          "output_type": "stream",
          "text": [
            "Moving model to device:  cpu\n"
          ]
        },
        {
          "name": "stderr",
          "output_type": "stream",
          "text": [
            "Chain 14: 100%|██████████| 25/25 [00:00<00:00, 30.29it/s]\n"
          ]
        },
        {
          "name": "stdout",
          "output_type": "stream",
          "text": [
            "result = 772.6307373046875\n",
            "Moving model to device:  cpu\n",
            "Moving model to device:  cpu\n",
            "Moving model to device:  cpu\n"
          ]
        },
        {
          "name": "stderr",
          "output_type": "stream",
          "text": [
            "Chain 0: 100%|██████████| 25/25 [00:00<00:00, 32.63it/s]\n"
          ]
        },
        {
          "name": "stdout",
          "output_type": "stream",
          "text": [
            "Moving model to device:  cpu\n"
          ]
        },
        {
          "name": "stderr",
          "output_type": "stream",
          "text": [
            "Chain 1: 100%|██████████| 25/25 [00:00<00:00, 32.60it/s]\n"
          ]
        },
        {
          "name": "stdout",
          "output_type": "stream",
          "text": [
            "Moving model to device:  cpu\n"
          ]
        },
        {
          "name": "stderr",
          "output_type": "stream",
          "text": [
            "Chain 2: 100%|██████████| 25/25 [00:00<00:00, 32.64it/s]\n"
          ]
        },
        {
          "name": "stdout",
          "output_type": "stream",
          "text": [
            "Moving model to device:  cpu\n"
          ]
        },
        {
          "name": "stderr",
          "output_type": "stream",
          "text": [
            "Chain 3: 100%|██████████| 25/25 [00:00<00:00, 25.97it/s]\n"
          ]
        },
        {
          "name": "stdout",
          "output_type": "stream",
          "text": [
            "Moving model to device:  cpu\n"
          ]
        },
        {
          "name": "stderr",
          "output_type": "stream",
          "text": [
            "Chain 4: 100%|██████████| 25/25 [00:00<00:00, 33.09it/s]\n"
          ]
        },
        {
          "name": "stdout",
          "output_type": "stream",
          "text": [
            "Moving model to device:  cpu\n"
          ]
        },
        {
          "name": "stderr",
          "output_type": "stream",
          "text": [
            "Chain 5: 100%|██████████| 25/25 [00:00<00:00, 33.59it/s]\n"
          ]
        },
        {
          "name": "stdout",
          "output_type": "stream",
          "text": [
            "Moving model to device:  cpu\n"
          ]
        },
        {
          "name": "stderr",
          "output_type": "stream",
          "text": [
            "Chain 6: 100%|██████████| 25/25 [00:00<00:00, 33.99it/s]\n"
          ]
        },
        {
          "name": "stdout",
          "output_type": "stream",
          "text": [
            "Moving model to device:  cpu\n"
          ]
        },
        {
          "name": "stderr",
          "output_type": "stream",
          "text": [
            "Chain 7: 100%|██████████| 25/25 [00:00<00:00, 32.89it/s]\n"
          ]
        },
        {
          "name": "stdout",
          "output_type": "stream",
          "text": [
            "Moving model to device:  cpu\n"
          ]
        },
        {
          "name": "stderr",
          "output_type": "stream",
          "text": [
            "Chain 8: 100%|██████████| 25/25 [00:00<00:00, 31.03it/s]\n"
          ]
        },
        {
          "name": "stdout",
          "output_type": "stream",
          "text": [
            "Moving model to device:  cpu\n"
          ]
        },
        {
          "name": "stderr",
          "output_type": "stream",
          "text": [
            "Chain 9: 100%|██████████| 25/25 [00:00<00:00, 33.77it/s]\n"
          ]
        },
        {
          "name": "stdout",
          "output_type": "stream",
          "text": [
            "Moving model to device:  cpu\n"
          ]
        },
        {
          "name": "stderr",
          "output_type": "stream",
          "text": [
            "Chain 10: 100%|██████████| 25/25 [00:00<00:00, 33.25it/s]\n"
          ]
        },
        {
          "name": "stdout",
          "output_type": "stream",
          "text": [
            "Moving model to device:  cpu\n"
          ]
        },
        {
          "name": "stderr",
          "output_type": "stream",
          "text": [
            "Chain 11: 100%|██████████| 25/25 [00:00<00:00, 33.95it/s]\n"
          ]
        },
        {
          "name": "stdout",
          "output_type": "stream",
          "text": [
            "Moving model to device:  cpu\n"
          ]
        },
        {
          "name": "stderr",
          "output_type": "stream",
          "text": [
            "Chain 12: 100%|██████████| 25/25 [00:00<00:00, 33.29it/s]\n"
          ]
        },
        {
          "name": "stdout",
          "output_type": "stream",
          "text": [
            "Moving model to device:  cpu\n"
          ]
        },
        {
          "name": "stderr",
          "output_type": "stream",
          "text": [
            "Chain 13: 100%|██████████| 25/25 [00:00<00:00, 30.90it/s]\n"
          ]
        },
        {
          "name": "stdout",
          "output_type": "stream",
          "text": [
            "Moving model to device:  cpu\n"
          ]
        },
        {
          "name": "stderr",
          "output_type": "stream",
          "text": [
            "Chain 14: 100%|██████████| 25/25 [00:00<00:00, 33.46it/s]\n"
          ]
        },
        {
          "name": "stdout",
          "output_type": "stream",
          "text": [
            "result = 774.5713500976562\n",
            "Moving model to device:  cpu\n",
            "Moving model to device:  cpu\n",
            "Moving model to device:  cpu\n"
          ]
        },
        {
          "name": "stderr",
          "output_type": "stream",
          "text": [
            "Chain 0: 100%|██████████| 25/25 [00:00<00:00, 34.56it/s]\n"
          ]
        },
        {
          "name": "stdout",
          "output_type": "stream",
          "text": [
            "Moving model to device:  cpu\n"
          ]
        },
        {
          "name": "stderr",
          "output_type": "stream",
          "text": [
            "Chain 1: 100%|██████████| 25/25 [00:00<00:00, 33.16it/s]\n"
          ]
        },
        {
          "name": "stdout",
          "output_type": "stream",
          "text": [
            "Moving model to device:  cpu\n"
          ]
        },
        {
          "name": "stderr",
          "output_type": "stream",
          "text": [
            "Chain 2: 100%|██████████| 25/25 [00:01<00:00, 24.45it/s]\n"
          ]
        },
        {
          "name": "stdout",
          "output_type": "stream",
          "text": [
            "Moving model to device:  cpu\n"
          ]
        },
        {
          "name": "stderr",
          "output_type": "stream",
          "text": [
            "Chain 3: 100%|██████████| 25/25 [00:00<00:00, 33.99it/s]\n"
          ]
        },
        {
          "name": "stdout",
          "output_type": "stream",
          "text": [
            "Moving model to device:  cpu\n"
          ]
        },
        {
          "name": "stderr",
          "output_type": "stream",
          "text": [
            "Chain 4: 100%|██████████| 25/25 [00:00<00:00, 32.81it/s]\n"
          ]
        },
        {
          "name": "stdout",
          "output_type": "stream",
          "text": [
            "Moving model to device:  cpu\n"
          ]
        },
        {
          "name": "stderr",
          "output_type": "stream",
          "text": [
            "Chain 5: 100%|██████████| 25/25 [00:00<00:00, 33.65it/s]\n"
          ]
        },
        {
          "name": "stdout",
          "output_type": "stream",
          "text": [
            "Moving model to device:  cpu\n"
          ]
        },
        {
          "name": "stderr",
          "output_type": "stream",
          "text": [
            "Chain 6: 100%|██████████| 25/25 [00:00<00:00, 33.69it/s]\n"
          ]
        },
        {
          "name": "stdout",
          "output_type": "stream",
          "text": [
            "Moving model to device:  cpu\n"
          ]
        },
        {
          "name": "stderr",
          "output_type": "stream",
          "text": [
            "Chain 7: 100%|██████████| 25/25 [00:00<00:00, 30.28it/s]\n"
          ]
        },
        {
          "name": "stdout",
          "output_type": "stream",
          "text": [
            "Moving model to device:  cpu\n"
          ]
        },
        {
          "name": "stderr",
          "output_type": "stream",
          "text": [
            "Chain 8: 100%|██████████| 25/25 [00:00<00:00, 33.34it/s]\n"
          ]
        },
        {
          "name": "stdout",
          "output_type": "stream",
          "text": [
            "Moving model to device:  cpu\n"
          ]
        },
        {
          "name": "stderr",
          "output_type": "stream",
          "text": [
            "Chain 9: 100%|██████████| 25/25 [00:00<00:00, 34.12it/s]\n"
          ]
        },
        {
          "name": "stdout",
          "output_type": "stream",
          "text": [
            "Moving model to device:  cpu\n"
          ]
        },
        {
          "name": "stderr",
          "output_type": "stream",
          "text": [
            "Chain 10: 100%|██████████| 25/25 [00:00<00:00, 33.31it/s]\n"
          ]
        },
        {
          "name": "stdout",
          "output_type": "stream",
          "text": [
            "Moving model to device:  cpu\n"
          ]
        },
        {
          "name": "stderr",
          "output_type": "stream",
          "text": [
            "Chain 11: 100%|██████████| 25/25 [00:00<00:00, 31.51it/s]\n"
          ]
        },
        {
          "name": "stdout",
          "output_type": "stream",
          "text": [
            "Moving model to device:  cpu\n"
          ]
        },
        {
          "name": "stderr",
          "output_type": "stream",
          "text": [
            "Chain 12: 100%|██████████| 25/25 [00:00<00:00, 33.00it/s]\n"
          ]
        },
        {
          "name": "stdout",
          "output_type": "stream",
          "text": [
            "Moving model to device:  cpu\n"
          ]
        },
        {
          "name": "stderr",
          "output_type": "stream",
          "text": [
            "Chain 13: 100%|██████████| 25/25 [00:00<00:00, 34.17it/s]\n"
          ]
        },
        {
          "name": "stdout",
          "output_type": "stream",
          "text": [
            "Moving model to device:  cpu\n"
          ]
        },
        {
          "name": "stderr",
          "output_type": "stream",
          "text": [
            "Chain 14: 100%|██████████| 25/25 [00:00<00:00, 34.24it/s]\n"
          ]
        },
        {
          "name": "stdout",
          "output_type": "stream",
          "text": [
            "result = 778.2013549804688\n",
            "Moving model to device:  cpu\n",
            "Moving model to device:  cpu\n",
            "Moving model to device:  cpu\n"
          ]
        },
        {
          "name": "stderr",
          "output_type": "stream",
          "text": [
            "Chain 0: 100%|██████████| 25/25 [00:00<00:00, 33.51it/s]\n"
          ]
        },
        {
          "name": "stdout",
          "output_type": "stream",
          "text": [
            "Moving model to device:  cpu\n"
          ]
        },
        {
          "name": "stderr",
          "output_type": "stream",
          "text": [
            "Chain 1: 100%|██████████| 25/25 [00:00<00:00, 30.00it/s]\n"
          ]
        },
        {
          "name": "stdout",
          "output_type": "stream",
          "text": [
            "Moving model to device:  cpu\n"
          ]
        },
        {
          "name": "stderr",
          "output_type": "stream",
          "text": [
            "Chain 2: 100%|██████████| 25/25 [00:00<00:00, 27.60it/s]\n"
          ]
        },
        {
          "name": "stdout",
          "output_type": "stream",
          "text": [
            "Moving model to device:  cpu\n"
          ]
        },
        {
          "name": "stderr",
          "output_type": "stream",
          "text": [
            "Chain 3: 100%|██████████| 25/25 [00:00<00:00, 33.92it/s]\n"
          ]
        },
        {
          "name": "stdout",
          "output_type": "stream",
          "text": [
            "Moving model to device:  cpu\n"
          ]
        },
        {
          "name": "stderr",
          "output_type": "stream",
          "text": [
            "Chain 4: 100%|██████████| 25/25 [00:00<00:00, 33.69it/s]\n"
          ]
        },
        {
          "name": "stdout",
          "output_type": "stream",
          "text": [
            "Moving model to device:  cpu\n"
          ]
        },
        {
          "name": "stderr",
          "output_type": "stream",
          "text": [
            "Chain 5: 100%|██████████| 25/25 [00:00<00:00, 31.20it/s]\n"
          ]
        },
        {
          "name": "stdout",
          "output_type": "stream",
          "text": [
            "Moving model to device:  cpu\n"
          ]
        },
        {
          "name": "stderr",
          "output_type": "stream",
          "text": [
            "Chain 6: 100%|██████████| 25/25 [00:00<00:00, 32.78it/s]\n"
          ]
        },
        {
          "name": "stdout",
          "output_type": "stream",
          "text": [
            "Moving model to device:  cpu\n"
          ]
        },
        {
          "name": "stderr",
          "output_type": "stream",
          "text": [
            "Chain 7: 100%|██████████| 25/25 [00:00<00:00, 32.18it/s]\n"
          ]
        },
        {
          "name": "stdout",
          "output_type": "stream",
          "text": [
            "Moving model to device:  cpu\n"
          ]
        },
        {
          "name": "stderr",
          "output_type": "stream",
          "text": [
            "Chain 8: 100%|██████████| 25/25 [00:00<00:00, 33.21it/s]\n"
          ]
        },
        {
          "name": "stdout",
          "output_type": "stream",
          "text": [
            "Moving model to device:  cpu\n"
          ]
        },
        {
          "name": "stderr",
          "output_type": "stream",
          "text": [
            "Chain 9: 100%|██████████| 25/25 [00:00<00:00, 33.53it/s]\n"
          ]
        },
        {
          "name": "stdout",
          "output_type": "stream",
          "text": [
            "Moving model to device:  cpu\n"
          ]
        },
        {
          "name": "stderr",
          "output_type": "stream",
          "text": [
            "Chain 10: 100%|██████████| 25/25 [00:00<00:00, 31.08it/s]\n"
          ]
        },
        {
          "name": "stdout",
          "output_type": "stream",
          "text": [
            "Moving model to device:  cpu\n"
          ]
        },
        {
          "name": "stderr",
          "output_type": "stream",
          "text": [
            "Chain 11: 100%|██████████| 25/25 [00:00<00:00, 33.81it/s]\n"
          ]
        },
        {
          "name": "stdout",
          "output_type": "stream",
          "text": [
            "Moving model to device:  cpu\n"
          ]
        },
        {
          "name": "stderr",
          "output_type": "stream",
          "text": [
            "Chain 12: 100%|██████████| 25/25 [00:00<00:00, 34.02it/s]\n"
          ]
        },
        {
          "name": "stdout",
          "output_type": "stream",
          "text": [
            "Moving model to device:  cpu\n"
          ]
        },
        {
          "name": "stderr",
          "output_type": "stream",
          "text": [
            "Chain 13: 100%|██████████| 25/25 [00:00<00:00, 30.70it/s]\n"
          ]
        },
        {
          "name": "stdout",
          "output_type": "stream",
          "text": [
            "Moving model to device:  cpu\n"
          ]
        },
        {
          "name": "stderr",
          "output_type": "stream",
          "text": [
            "Chain 14: 100%|██████████| 25/25 [00:00<00:00, 29.78it/s]\n"
          ]
        },
        {
          "name": "stdout",
          "output_type": "stream",
          "text": [
            "result = 782.1234130859375\n",
            "Moving model to device:  cpu\n",
            "Moving model to device:  cpu\n",
            "Moving model to device:  cpu\n"
          ]
        },
        {
          "name": "stderr",
          "output_type": "stream",
          "text": [
            "Chain 0: 100%|██████████| 25/25 [00:00<00:00, 32.13it/s]\n"
          ]
        },
        {
          "name": "stdout",
          "output_type": "stream",
          "text": [
            "Moving model to device:  cpu\n"
          ]
        },
        {
          "name": "stderr",
          "output_type": "stream",
          "text": [
            "Chain 1: 100%|██████████| 25/25 [00:00<00:00, 27.80it/s]\n"
          ]
        },
        {
          "name": "stdout",
          "output_type": "stream",
          "text": [
            "Moving model to device:  cpu\n"
          ]
        },
        {
          "name": "stderr",
          "output_type": "stream",
          "text": [
            "Chain 2: 100%|██████████| 25/25 [00:00<00:00, 33.19it/s]\n"
          ]
        },
        {
          "name": "stdout",
          "output_type": "stream",
          "text": [
            "Moving model to device:  cpu\n"
          ]
        },
        {
          "name": "stderr",
          "output_type": "stream",
          "text": [
            "Chain 3: 100%|██████████| 25/25 [00:00<00:00, 33.60it/s]\n"
          ]
        },
        {
          "name": "stdout",
          "output_type": "stream",
          "text": [
            "Moving model to device:  cpu\n"
          ]
        },
        {
          "name": "stderr",
          "output_type": "stream",
          "text": [
            "Chain 4: 100%|██████████| 25/25 [00:00<00:00, 30.97it/s]\n"
          ]
        },
        {
          "name": "stdout",
          "output_type": "stream",
          "text": [
            "Moving model to device:  cpu\n"
          ]
        },
        {
          "name": "stderr",
          "output_type": "stream",
          "text": [
            "Chain 5: 100%|██████████| 25/25 [00:00<00:00, 32.64it/s]\n"
          ]
        },
        {
          "name": "stdout",
          "output_type": "stream",
          "text": [
            "Moving model to device:  cpu\n"
          ]
        },
        {
          "name": "stderr",
          "output_type": "stream",
          "text": [
            "Chain 6: 100%|██████████| 25/25 [00:00<00:00, 34.37it/s]\n"
          ]
        },
        {
          "name": "stdout",
          "output_type": "stream",
          "text": [
            "Moving model to device:  cpu\n"
          ]
        },
        {
          "name": "stderr",
          "output_type": "stream",
          "text": [
            "Chain 7: 100%|██████████| 25/25 [00:00<00:00, 33.46it/s]\n"
          ]
        },
        {
          "name": "stdout",
          "output_type": "stream",
          "text": [
            "Moving model to device:  cpu\n"
          ]
        },
        {
          "name": "stderr",
          "output_type": "stream",
          "text": [
            "Chain 8: 100%|██████████| 25/25 [00:00<00:00, 33.68it/s]\n"
          ]
        },
        {
          "name": "stdout",
          "output_type": "stream",
          "text": [
            "Moving model to device:  cpu\n"
          ]
        },
        {
          "name": "stderr",
          "output_type": "stream",
          "text": [
            "Chain 9: 100%|██████████| 25/25 [00:00<00:00, 31.63it/s]\n"
          ]
        },
        {
          "name": "stdout",
          "output_type": "stream",
          "text": [
            "Moving model to device:  cpu\n"
          ]
        },
        {
          "name": "stderr",
          "output_type": "stream",
          "text": [
            "Chain 10: 100%|██████████| 25/25 [00:00<00:00, 34.06it/s]\n"
          ]
        },
        {
          "name": "stdout",
          "output_type": "stream",
          "text": [
            "Moving model to device:  cpu\n"
          ]
        },
        {
          "name": "stderr",
          "output_type": "stream",
          "text": [
            "Chain 11: 100%|██████████| 25/25 [00:00<00:00, 33.32it/s]\n"
          ]
        },
        {
          "name": "stdout",
          "output_type": "stream",
          "text": [
            "Moving model to device:  cpu\n"
          ]
        },
        {
          "name": "stderr",
          "output_type": "stream",
          "text": [
            "Chain 12: 100%|██████████| 25/25 [00:00<00:00, 33.55it/s]\n"
          ]
        },
        {
          "name": "stdout",
          "output_type": "stream",
          "text": [
            "Moving model to device:  cpu\n"
          ]
        },
        {
          "name": "stderr",
          "output_type": "stream",
          "text": [
            "Chain 13: 100%|██████████| 25/25 [00:00<00:00, 30.86it/s]\n"
          ]
        },
        {
          "name": "stdout",
          "output_type": "stream",
          "text": [
            "Moving model to device:  cpu\n"
          ]
        },
        {
          "name": "stderr",
          "output_type": "stream",
          "text": [
            "Chain 14: 100%|██████████| 25/25 [00:00<00:00, 33.49it/s]\n"
          ]
        },
        {
          "name": "stdout",
          "output_type": "stream",
          "text": [
            "result = 785.4961547851562\n",
            "Moving model to device:  cpu\n",
            "Moving model to device:  cpu\n",
            "Moving model to device:  cpu\n"
          ]
        },
        {
          "name": "stderr",
          "output_type": "stream",
          "text": [
            "Chain 0: 100%|██████████| 25/25 [00:00<00:00, 34.00it/s]\n"
          ]
        },
        {
          "name": "stdout",
          "output_type": "stream",
          "text": [
            "Moving model to device:  cpu\n"
          ]
        },
        {
          "name": "stderr",
          "output_type": "stream",
          "text": [
            "Chain 1: 100%|██████████| 25/25 [00:00<00:00, 27.36it/s]\n"
          ]
        },
        {
          "name": "stdout",
          "output_type": "stream",
          "text": [
            "Moving model to device:  cpu\n"
          ]
        },
        {
          "name": "stderr",
          "output_type": "stream",
          "text": [
            "Chain 2: 100%|██████████| 25/25 [00:00<00:00, 33.83it/s]\n"
          ]
        },
        {
          "name": "stdout",
          "output_type": "stream",
          "text": [
            "Moving model to device:  cpu\n"
          ]
        },
        {
          "name": "stderr",
          "output_type": "stream",
          "text": [
            "Chain 3: 100%|██████████| 25/25 [00:00<00:00, 30.27it/s]\n"
          ]
        },
        {
          "name": "stdout",
          "output_type": "stream",
          "text": [
            "Moving model to device:  cpu\n"
          ]
        },
        {
          "name": "stderr",
          "output_type": "stream",
          "text": [
            "Chain 4: 100%|██████████| 25/25 [00:00<00:00, 33.57it/s]\n"
          ]
        },
        {
          "name": "stdout",
          "output_type": "stream",
          "text": [
            "Moving model to device:  cpu\n"
          ]
        },
        {
          "name": "stderr",
          "output_type": "stream",
          "text": [
            "Chain 5: 100%|██████████| 25/25 [00:00<00:00, 33.11it/s]\n"
          ]
        },
        {
          "name": "stdout",
          "output_type": "stream",
          "text": [
            "Moving model to device:  cpu\n"
          ]
        },
        {
          "name": "stderr",
          "output_type": "stream",
          "text": [
            "Chain 6: 100%|██████████| 25/25 [00:00<00:00, 32.72it/s]\n"
          ]
        },
        {
          "name": "stdout",
          "output_type": "stream",
          "text": [
            "Moving model to device:  cpu\n"
          ]
        },
        {
          "name": "stderr",
          "output_type": "stream",
          "text": [
            "Chain 7: 100%|██████████| 25/25 [00:00<00:00, 30.72it/s]\n"
          ]
        },
        {
          "name": "stdout",
          "output_type": "stream",
          "text": [
            "Moving model to device:  cpu\n"
          ]
        },
        {
          "name": "stderr",
          "output_type": "stream",
          "text": [
            "Chain 8: 100%|██████████| 25/25 [00:00<00:00, 32.60it/s]\n"
          ]
        },
        {
          "name": "stdout",
          "output_type": "stream",
          "text": [
            "Moving model to device:  cpu\n"
          ]
        },
        {
          "name": "stderr",
          "output_type": "stream",
          "text": [
            "Chain 9: 100%|██████████| 25/25 [00:00<00:00, 33.21it/s]\n"
          ]
        },
        {
          "name": "stdout",
          "output_type": "stream",
          "text": [
            "Moving model to device:  cpu\n"
          ]
        },
        {
          "name": "stderr",
          "output_type": "stream",
          "text": [
            "Chain 10: 100%|██████████| 25/25 [00:00<00:00, 34.01it/s]\n"
          ]
        },
        {
          "name": "stdout",
          "output_type": "stream",
          "text": [
            "Moving model to device:  cpu\n"
          ]
        },
        {
          "name": "stderr",
          "output_type": "stream",
          "text": [
            "Chain 11: 100%|██████████| 25/25 [00:00<00:00, 33.09it/s]\n"
          ]
        },
        {
          "name": "stdout",
          "output_type": "stream",
          "text": [
            "Moving model to device:  cpu\n"
          ]
        },
        {
          "name": "stderr",
          "output_type": "stream",
          "text": [
            "Chain 12: 100%|██████████| 25/25 [00:00<00:00, 30.87it/s]\n"
          ]
        },
        {
          "name": "stdout",
          "output_type": "stream",
          "text": [
            "Moving model to device:  cpu\n"
          ]
        },
        {
          "name": "stderr",
          "output_type": "stream",
          "text": [
            "Chain 13: 100%|██████████| 25/25 [00:00<00:00, 32.82it/s]\n"
          ]
        },
        {
          "name": "stdout",
          "output_type": "stream",
          "text": [
            "Moving model to device:  cpu\n"
          ]
        },
        {
          "name": "stderr",
          "output_type": "stream",
          "text": [
            "Chain 14: 100%|██████████| 25/25 [00:00<00:00, 32.35it/s]"
          ]
        },
        {
          "name": "stdout",
          "output_type": "stream",
          "text": [
            "result = 791.514404296875\n"
          ]
        },
        {
          "name": "stderr",
          "output_type": "stream",
          "text": [
            "\n"
          ]
        },
        {
          "data": {
            "text/html": [
              "        <script type=\"text/javascript\">\n",
              "        window.PlotlyConfig = {MathJaxConfig: 'local'};\n",
              "        if (window.MathJax && window.MathJax.Hub && window.MathJax.Hub.Config) {window.MathJax.Hub.Config({SVG: {font: \"STIX-Web\"}});}\n",
              "        if (typeof require !== 'undefined') {\n",
              "        require.undef(\"plotly\");\n",
              "        requirejs.config({\n",
              "            paths: {\n",
              "                'plotly': ['https://cdn.plot.ly/plotly-2.35.0.min']\n",
              "            }\n",
              "        });\n",
              "        require(['plotly'], function(Plotly) {\n",
              "            window._Plotly = Plotly;\n",
              "        });\n",
              "        }\n",
              "        </script>\n",
              "        "
            ]
          },
          "metadata": {},
          "output_type": "display_data"
        },
        {
          "data": {
            "text/html": [
              "<div>                            <div id=\"b090d736-e402-49be-b397-c1524abb69f2\" class=\"plotly-graph-div\" style=\"height:525px; width:100%;\"></div>            <script type=\"text/javascript\">                require([\"plotly\"], function(Plotly) {                    window.PLOTLYENV=window.PLOTLYENV || {};                                    if (document.getElementById(\"b090d736-e402-49be-b397-c1524abb69f2\")) {                    Plotly.newPlot(                        \"b090d736-e402-49be-b397-c1524abb69f2\",                        [{\"hovertemplate\":\"Epoch=%{x}\\u003cbr\\u003eLLC=%{y}\\u003cextra\\u003e\\u003c\\u002fextra\\u003e\",\"legendgroup\":\"\",\"line\":{\"color\":\"#636efa\",\"dash\":\"solid\"},\"marker\":{\"symbol\":\"circle\"},\"mode\":\"lines\",\"name\":\"\",\"orientation\":\"v\",\"showlegend\":false,\"x\":[0,1,2,3,4,5,6,7,8,9,10,11,12,13,14,15,16,17,18,19,20,21,22,23,24,25,26,27,28,29,30,31,32,33,34,35,36,37,38,39],\"xaxis\":\"x\",\"y\":[378.1568603515625,632.3897094726562,679.1881103515625,687.9039306640625,684.4478759765625,697.6310424804688,696.1800537109375,693.1669311523438,689.7379760742188,680.7289428710938,683.0399780273438,613.356689453125,691.0194091796875,577.3773193359375,693.2532348632812,480.97296142578125,699.0858154296875,712.9981079101562,717.8961791992188,723.312744140625,732.8577880859375,740.9212646484375,756.6350708007812,764.4609985351562,770.5904541015625,779.5470581054688,772.6959228515625,777.8515014648438,776.8673706054688,784.8438720703125,786.1798095703125,782.5722045898438,779.452392578125,774.8599853515625,772.6307373046875,774.5713500976562,778.2013549804688,782.1234130859375,785.4961547851562,791.514404296875],\"yaxis\":\"y\",\"type\":\"scatter\"}],                        {\"template\":{\"data\":{\"histogram2dcontour\":[{\"type\":\"histogram2dcontour\",\"colorbar\":{\"outlinewidth\":0,\"ticks\":\"\"},\"colorscale\":[[0.0,\"#0d0887\"],[0.1111111111111111,\"#46039f\"],[0.2222222222222222,\"#7201a8\"],[0.3333333333333333,\"#9c179e\"],[0.4444444444444444,\"#bd3786\"],[0.5555555555555556,\"#d8576b\"],[0.6666666666666666,\"#ed7953\"],[0.7777777777777778,\"#fb9f3a\"],[0.8888888888888888,\"#fdca26\"],[1.0,\"#f0f921\"]]}],\"choropleth\":[{\"type\":\"choropleth\",\"colorbar\":{\"outlinewidth\":0,\"ticks\":\"\"}}],\"histogram2d\":[{\"type\":\"histogram2d\",\"colorbar\":{\"outlinewidth\":0,\"ticks\":\"\"},\"colorscale\":[[0.0,\"#0d0887\"],[0.1111111111111111,\"#46039f\"],[0.2222222222222222,\"#7201a8\"],[0.3333333333333333,\"#9c179e\"],[0.4444444444444444,\"#bd3786\"],[0.5555555555555556,\"#d8576b\"],[0.6666666666666666,\"#ed7953\"],[0.7777777777777778,\"#fb9f3a\"],[0.8888888888888888,\"#fdca26\"],[1.0,\"#f0f921\"]]}],\"heatmap\":[{\"type\":\"heatmap\",\"colorbar\":{\"outlinewidth\":0,\"ticks\":\"\"},\"colorscale\":[[0.0,\"#0d0887\"],[0.1111111111111111,\"#46039f\"],[0.2222222222222222,\"#7201a8\"],[0.3333333333333333,\"#9c179e\"],[0.4444444444444444,\"#bd3786\"],[0.5555555555555556,\"#d8576b\"],[0.6666666666666666,\"#ed7953\"],[0.7777777777777778,\"#fb9f3a\"],[0.8888888888888888,\"#fdca26\"],[1.0,\"#f0f921\"]]}],\"heatmapgl\":[{\"type\":\"heatmapgl\",\"colorbar\":{\"outlinewidth\":0,\"ticks\":\"\"},\"colorscale\":[[0.0,\"#0d0887\"],[0.1111111111111111,\"#46039f\"],[0.2222222222222222,\"#7201a8\"],[0.3333333333333333,\"#9c179e\"],[0.4444444444444444,\"#bd3786\"],[0.5555555555555556,\"#d8576b\"],[0.6666666666666666,\"#ed7953\"],[0.7777777777777778,\"#fb9f3a\"],[0.8888888888888888,\"#fdca26\"],[1.0,\"#f0f921\"]]}],\"contourcarpet\":[{\"type\":\"contourcarpet\",\"colorbar\":{\"outlinewidth\":0,\"ticks\":\"\"}}],\"contour\":[{\"type\":\"contour\",\"colorbar\":{\"outlinewidth\":0,\"ticks\":\"\"},\"colorscale\":[[0.0,\"#0d0887\"],[0.1111111111111111,\"#46039f\"],[0.2222222222222222,\"#7201a8\"],[0.3333333333333333,\"#9c179e\"],[0.4444444444444444,\"#bd3786\"],[0.5555555555555556,\"#d8576b\"],[0.6666666666666666,\"#ed7953\"],[0.7777777777777778,\"#fb9f3a\"],[0.8888888888888888,\"#fdca26\"],[1.0,\"#f0f921\"]]}],\"surface\":[{\"type\":\"surface\",\"colorbar\":{\"outlinewidth\":0,\"ticks\":\"\"},\"colorscale\":[[0.0,\"#0d0887\"],[0.1111111111111111,\"#46039f\"],[0.2222222222222222,\"#7201a8\"],[0.3333333333333333,\"#9c179e\"],[0.4444444444444444,\"#bd3786\"],[0.5555555555555556,\"#d8576b\"],[0.6666666666666666,\"#ed7953\"],[0.7777777777777778,\"#fb9f3a\"],[0.8888888888888888,\"#fdca26\"],[1.0,\"#f0f921\"]]}],\"mesh3d\":[{\"type\":\"mesh3d\",\"colorbar\":{\"outlinewidth\":0,\"ticks\":\"\"}}],\"scatter\":[{\"fillpattern\":{\"fillmode\":\"overlay\",\"size\":10,\"solidity\":0.2},\"type\":\"scatter\"}],\"parcoords\":[{\"type\":\"parcoords\",\"line\":{\"colorbar\":{\"outlinewidth\":0,\"ticks\":\"\"}}}],\"scatterpolargl\":[{\"type\":\"scatterpolargl\",\"marker\":{\"colorbar\":{\"outlinewidth\":0,\"ticks\":\"\"}}}],\"bar\":[{\"error_x\":{\"color\":\"#2a3f5f\"},\"error_y\":{\"color\":\"#2a3f5f\"},\"marker\":{\"line\":{\"color\":\"#E5ECF6\",\"width\":0.5},\"pattern\":{\"fillmode\":\"overlay\",\"size\":10,\"solidity\":0.2}},\"type\":\"bar\"}],\"scattergeo\":[{\"type\":\"scattergeo\",\"marker\":{\"colorbar\":{\"outlinewidth\":0,\"ticks\":\"\"}}}],\"scatterpolar\":[{\"type\":\"scatterpolar\",\"marker\":{\"colorbar\":{\"outlinewidth\":0,\"ticks\":\"\"}}}],\"histogram\":[{\"marker\":{\"pattern\":{\"fillmode\":\"overlay\",\"size\":10,\"solidity\":0.2}},\"type\":\"histogram\"}],\"scattergl\":[{\"type\":\"scattergl\",\"marker\":{\"colorbar\":{\"outlinewidth\":0,\"ticks\":\"\"}}}],\"scatter3d\":[{\"type\":\"scatter3d\",\"line\":{\"colorbar\":{\"outlinewidth\":0,\"ticks\":\"\"}},\"marker\":{\"colorbar\":{\"outlinewidth\":0,\"ticks\":\"\"}}}],\"scattermapbox\":[{\"type\":\"scattermapbox\",\"marker\":{\"colorbar\":{\"outlinewidth\":0,\"ticks\":\"\"}}}],\"scatterternary\":[{\"type\":\"scatterternary\",\"marker\":{\"colorbar\":{\"outlinewidth\":0,\"ticks\":\"\"}}}],\"scattercarpet\":[{\"type\":\"scattercarpet\",\"marker\":{\"colorbar\":{\"outlinewidth\":0,\"ticks\":\"\"}}}],\"carpet\":[{\"aaxis\":{\"endlinecolor\":\"#2a3f5f\",\"gridcolor\":\"white\",\"linecolor\":\"white\",\"minorgridcolor\":\"white\",\"startlinecolor\":\"#2a3f5f\"},\"baxis\":{\"endlinecolor\":\"#2a3f5f\",\"gridcolor\":\"white\",\"linecolor\":\"white\",\"minorgridcolor\":\"white\",\"startlinecolor\":\"#2a3f5f\"},\"type\":\"carpet\"}],\"table\":[{\"cells\":{\"fill\":{\"color\":\"#EBF0F8\"},\"line\":{\"color\":\"white\"}},\"header\":{\"fill\":{\"color\":\"#C8D4E3\"},\"line\":{\"color\":\"white\"}},\"type\":\"table\"}],\"barpolar\":[{\"marker\":{\"line\":{\"color\":\"#E5ECF6\",\"width\":0.5},\"pattern\":{\"fillmode\":\"overlay\",\"size\":10,\"solidity\":0.2}},\"type\":\"barpolar\"}],\"pie\":[{\"automargin\":true,\"type\":\"pie\"}]},\"layout\":{\"autotypenumbers\":\"strict\",\"colorway\":[\"#636efa\",\"#EF553B\",\"#00cc96\",\"#ab63fa\",\"#FFA15A\",\"#19d3f3\",\"#FF6692\",\"#B6E880\",\"#FF97FF\",\"#FECB52\"],\"font\":{\"color\":\"#2a3f5f\"},\"hovermode\":\"closest\",\"hoverlabel\":{\"align\":\"left\"},\"paper_bgcolor\":\"white\",\"plot_bgcolor\":\"#E5ECF6\",\"polar\":{\"bgcolor\":\"#E5ECF6\",\"angularaxis\":{\"gridcolor\":\"white\",\"linecolor\":\"white\",\"ticks\":\"\"},\"radialaxis\":{\"gridcolor\":\"white\",\"linecolor\":\"white\",\"ticks\":\"\"}},\"ternary\":{\"bgcolor\":\"#E5ECF6\",\"aaxis\":{\"gridcolor\":\"white\",\"linecolor\":\"white\",\"ticks\":\"\"},\"baxis\":{\"gridcolor\":\"white\",\"linecolor\":\"white\",\"ticks\":\"\"},\"caxis\":{\"gridcolor\":\"white\",\"linecolor\":\"white\",\"ticks\":\"\"}},\"coloraxis\":{\"colorbar\":{\"outlinewidth\":0,\"ticks\":\"\"}},\"colorscale\":{\"sequential\":[[0.0,\"#0d0887\"],[0.1111111111111111,\"#46039f\"],[0.2222222222222222,\"#7201a8\"],[0.3333333333333333,\"#9c179e\"],[0.4444444444444444,\"#bd3786\"],[0.5555555555555556,\"#d8576b\"],[0.6666666666666666,\"#ed7953\"],[0.7777777777777778,\"#fb9f3a\"],[0.8888888888888888,\"#fdca26\"],[1.0,\"#f0f921\"]],\"sequentialminus\":[[0.0,\"#0d0887\"],[0.1111111111111111,\"#46039f\"],[0.2222222222222222,\"#7201a8\"],[0.3333333333333333,\"#9c179e\"],[0.4444444444444444,\"#bd3786\"],[0.5555555555555556,\"#d8576b\"],[0.6666666666666666,\"#ed7953\"],[0.7777777777777778,\"#fb9f3a\"],[0.8888888888888888,\"#fdca26\"],[1.0,\"#f0f921\"]],\"diverging\":[[0,\"#8e0152\"],[0.1,\"#c51b7d\"],[0.2,\"#de77ae\"],[0.3,\"#f1b6da\"],[0.4,\"#fde0ef\"],[0.5,\"#f7f7f7\"],[0.6,\"#e6f5d0\"],[0.7,\"#b8e186\"],[0.8,\"#7fbc41\"],[0.9,\"#4d9221\"],[1,\"#276419\"]]},\"xaxis\":{\"gridcolor\":\"white\",\"linecolor\":\"white\",\"ticks\":\"\",\"title\":{\"standoff\":15,\"font\":{\"size\":20}},\"zerolinecolor\":\"white\",\"automargin\":true,\"zerolinewidth\":2},\"yaxis\":{\"gridcolor\":\"white\",\"linecolor\":\"white\",\"ticks\":\"\",\"title\":{\"standoff\":15,\"font\":{\"size\":20}},\"zerolinecolor\":\"white\",\"automargin\":true,\"zerolinewidth\":2},\"scene\":{\"xaxis\":{\"backgroundcolor\":\"#E5ECF6\",\"gridcolor\":\"white\",\"linecolor\":\"white\",\"showbackground\":true,\"ticks\":\"\",\"zerolinecolor\":\"white\",\"gridwidth\":2},\"yaxis\":{\"backgroundcolor\":\"#E5ECF6\",\"gridcolor\":\"white\",\"linecolor\":\"white\",\"showbackground\":true,\"ticks\":\"\",\"zerolinecolor\":\"white\",\"gridwidth\":2},\"zaxis\":{\"backgroundcolor\":\"#E5ECF6\",\"gridcolor\":\"white\",\"linecolor\":\"white\",\"showbackground\":true,\"ticks\":\"\",\"zerolinecolor\":\"white\",\"gridwidth\":2}},\"shapedefaults\":{\"line\":{\"color\":\"#2a3f5f\"}},\"annotationdefaults\":{\"arrowcolor\":\"#2a3f5f\",\"arrowhead\":0,\"arrowwidth\":1},\"geo\":{\"bgcolor\":\"white\",\"landcolor\":\"#E5ECF6\",\"subunitcolor\":\"white\",\"showland\":true,\"showlakes\":true,\"lakecolor\":\"white\"},\"title\":{\"x\":0.05,\"font\":{\"size\":30}},\"mapbox\":{\"style\":\"light\"}}},\"xaxis\":{\"anchor\":\"y\",\"domain\":[0.0,1.0],\"title\":{\"text\":\"Epoch\"}},\"yaxis\":{\"anchor\":\"x\",\"domain\":[0.0,1.0],\"title\":{\"text\":\"LLC\"}},\"legend\":{\"tracegroupgap\":0},\"title\":{\"text\":\"Learning Coefficient Estimates\"},\"updatemenus\":[{\"active\":-1,\"buttons\":[{\"args\":[{\"xaxis.type\":\"log\"}],\"args2\":[{\"xaxis.type\":\"linear\"}],\"label\":\"Log x-axis\",\"method\":\"relayout\"}],\"type\":\"buttons\",\"x\":-0.1,\"y\":1.0},{\"active\":-1,\"buttons\":[{\"args\":[{\"yaxis.type\":\"log\"}],\"args2\":[{\"yaxis.type\":\"linear\"}],\"label\":\"Log y-axis\",\"method\":\"relayout\"}],\"type\":\"buttons\",\"x\":-0.1,\"y\":0.85}]},                        {\"responsive\": true}                    ).then(function(){\n",
              "                            \n",
              "var gd = document.getElementById('b090d736-e402-49be-b397-c1524abb69f2');\n",
              "var x = new MutationObserver(function (mutations, observer) {{\n",
              "        var display = window.getComputedStyle(gd).display;\n",
              "        if (!display || display === 'none') {{\n",
              "            console.log([gd, 'removed!']);\n",
              "            Plotly.purge(gd);\n",
              "            observer.disconnect();\n",
              "        }}\n",
              "}});\n",
              "\n",
              "// Listen for the removal of the full notebook cells\n",
              "var notebookContainer = gd.closest('#notebook-container');\n",
              "if (notebookContainer) {{\n",
              "    x.observe(notebookContainer, {childList: true});\n",
              "}}\n",
              "\n",
              "// Listen for the clearing of the current output cell\n",
              "var outputEl = gd.closest('.output');\n",
              "if (outputEl) {{\n",
              "    x.observe(outputEl, {childList: true});\n",
              "}}\n",
              "\n",
              "                        })                };                });            </script>        </div>"
            ]
          },
          "metadata": {},
          "output_type": "display_data"
        }
      ],
      "source": [
        "from devinterp.slt.sampler import estimate_learning_coeff_with_summary, estimate_learning_coeff, SGLD\n",
        "from devinterp.utils import plot_trace\n",
        "\n",
        "def evaluate(model, data):\n",
        "    inputs, outputs = data\n",
        "\n",
        "    return loss_fn(model(inputs), outputs), {\n",
        "        \"logits\": model(inputs)\n",
        "    }\n",
        "\n",
        "llc_estimates = []\n",
        "\n",
        "for saved_model in tqdm.tqdm(model_checkpoints):\n",
        "    model.load_state_dict(saved_model)\n",
        "    result = estimate_learning_coeff(\n",
        "                model,\n",
        "                loader=train_loader,\n",
        "                evaluate=evaluate,\n",
        "                sampling_method=SGLD,\n",
        "                optimizer_kwargs=dict(lr=5e-4, localization=100.0),\n",
        "                num_chains=15,           # How many independent chains to run\n",
        "                num_draws=5,            # How many samples to draw per chain\n",
        "                num_burnin_steps=20,    # How many samples to discard at the beginning of each chain\n",
        "                num_steps_bw_draws=1,   # How many steps to take between each sample\n",
        "                device=device,\n",
        "                #online=True,\n",
        "            )\n",
        "    llc_estimates.append(result)\n",
        "    print(f\"result = {result}\")\n",
        "\n",
        "# Graph the LLC estimates\n",
        "line(llc_estimates, xaxis=\"Epoch\", yaxis=\"LLC\", title=\"Learning Coefficient Estimates\", log_y=False, toggle_x=True, toggle_y=True)"
      ]
    },
    {
      "cell_type": "code",
      "execution_count": 315,
      "metadata": {},
      "outputs": [
        {
          "data": {
            "text/html": [
              "<div>                            <div id=\"12aff56d-2c4b-4cd5-90c1-e324162b5087\" class=\"plotly-graph-div\" style=\"height:525px; width:100%;\"></div>            <script type=\"text/javascript\">                require([\"plotly\"], function(Plotly) {                    window.PLOTLYENV=window.PLOTLYENV || {};                                    if (document.getElementById(\"12aff56d-2c4b-4cd5-90c1-e324162b5087\")) {                    Plotly.newPlot(                        \"12aff56d-2c4b-4cd5-90c1-e324162b5087\",                        [{\"hovertemplate\":\"Epoch=%{x}\\u003cbr\\u003eLLC=%{y}\\u003cextra\\u003e\\u003c\\u002fextra\\u003e\",\"legendgroup\":\"\",\"line\":{\"color\":\"#636efa\",\"dash\":\"solid\"},\"marker\":{\"symbol\":\"circle\"},\"mode\":\"lines\",\"name\":\"\",\"orientation\":\"v\",\"showlegend\":false,\"x\":[0,1,2,3,4,5,6,7,8,9,10,11,12,13,14,15,16,17,18,19,20,21,22,23,24,25,26,27,28,29,30,31,32,33,34,35,36,37,38,39],\"xaxis\":\"x\",\"y\":[378.1568603515625,632.3897094726562,679.1881103515625,687.9039306640625,684.4478759765625,697.6310424804688,696.1800537109375,693.1669311523438,689.7379760742188,680.7289428710938,683.0399780273438,613.356689453125,691.0194091796875,577.3773193359375,693.2532348632812,480.97296142578125,699.0858154296875,712.9981079101562,717.8961791992188,723.312744140625,732.8577880859375,740.9212646484375,756.6350708007812,764.4609985351562,770.5904541015625,779.5470581054688,772.6959228515625,777.8515014648438,776.8673706054688,784.8438720703125,786.1798095703125,782.5722045898438,779.452392578125,774.8599853515625,772.6307373046875,774.5713500976562,778.2013549804688,782.1234130859375,785.4961547851562,791.514404296875],\"yaxis\":\"y\",\"type\":\"scatter\"}],                        {\"template\":{\"data\":{\"histogram2dcontour\":[{\"type\":\"histogram2dcontour\",\"colorbar\":{\"outlinewidth\":0,\"ticks\":\"\"},\"colorscale\":[[0.0,\"#0d0887\"],[0.1111111111111111,\"#46039f\"],[0.2222222222222222,\"#7201a8\"],[0.3333333333333333,\"#9c179e\"],[0.4444444444444444,\"#bd3786\"],[0.5555555555555556,\"#d8576b\"],[0.6666666666666666,\"#ed7953\"],[0.7777777777777778,\"#fb9f3a\"],[0.8888888888888888,\"#fdca26\"],[1.0,\"#f0f921\"]]}],\"choropleth\":[{\"type\":\"choropleth\",\"colorbar\":{\"outlinewidth\":0,\"ticks\":\"\"}}],\"histogram2d\":[{\"type\":\"histogram2d\",\"colorbar\":{\"outlinewidth\":0,\"ticks\":\"\"},\"colorscale\":[[0.0,\"#0d0887\"],[0.1111111111111111,\"#46039f\"],[0.2222222222222222,\"#7201a8\"],[0.3333333333333333,\"#9c179e\"],[0.4444444444444444,\"#bd3786\"],[0.5555555555555556,\"#d8576b\"],[0.6666666666666666,\"#ed7953\"],[0.7777777777777778,\"#fb9f3a\"],[0.8888888888888888,\"#fdca26\"],[1.0,\"#f0f921\"]]}],\"heatmap\":[{\"type\":\"heatmap\",\"colorbar\":{\"outlinewidth\":0,\"ticks\":\"\"},\"colorscale\":[[0.0,\"#0d0887\"],[0.1111111111111111,\"#46039f\"],[0.2222222222222222,\"#7201a8\"],[0.3333333333333333,\"#9c179e\"],[0.4444444444444444,\"#bd3786\"],[0.5555555555555556,\"#d8576b\"],[0.6666666666666666,\"#ed7953\"],[0.7777777777777778,\"#fb9f3a\"],[0.8888888888888888,\"#fdca26\"],[1.0,\"#f0f921\"]]}],\"heatmapgl\":[{\"type\":\"heatmapgl\",\"colorbar\":{\"outlinewidth\":0,\"ticks\":\"\"},\"colorscale\":[[0.0,\"#0d0887\"],[0.1111111111111111,\"#46039f\"],[0.2222222222222222,\"#7201a8\"],[0.3333333333333333,\"#9c179e\"],[0.4444444444444444,\"#bd3786\"],[0.5555555555555556,\"#d8576b\"],[0.6666666666666666,\"#ed7953\"],[0.7777777777777778,\"#fb9f3a\"],[0.8888888888888888,\"#fdca26\"],[1.0,\"#f0f921\"]]}],\"contourcarpet\":[{\"type\":\"contourcarpet\",\"colorbar\":{\"outlinewidth\":0,\"ticks\":\"\"}}],\"contour\":[{\"type\":\"contour\",\"colorbar\":{\"outlinewidth\":0,\"ticks\":\"\"},\"colorscale\":[[0.0,\"#0d0887\"],[0.1111111111111111,\"#46039f\"],[0.2222222222222222,\"#7201a8\"],[0.3333333333333333,\"#9c179e\"],[0.4444444444444444,\"#bd3786\"],[0.5555555555555556,\"#d8576b\"],[0.6666666666666666,\"#ed7953\"],[0.7777777777777778,\"#fb9f3a\"],[0.8888888888888888,\"#fdca26\"],[1.0,\"#f0f921\"]]}],\"surface\":[{\"type\":\"surface\",\"colorbar\":{\"outlinewidth\":0,\"ticks\":\"\"},\"colorscale\":[[0.0,\"#0d0887\"],[0.1111111111111111,\"#46039f\"],[0.2222222222222222,\"#7201a8\"],[0.3333333333333333,\"#9c179e\"],[0.4444444444444444,\"#bd3786\"],[0.5555555555555556,\"#d8576b\"],[0.6666666666666666,\"#ed7953\"],[0.7777777777777778,\"#fb9f3a\"],[0.8888888888888888,\"#fdca26\"],[1.0,\"#f0f921\"]]}],\"mesh3d\":[{\"type\":\"mesh3d\",\"colorbar\":{\"outlinewidth\":0,\"ticks\":\"\"}}],\"scatter\":[{\"fillpattern\":{\"fillmode\":\"overlay\",\"size\":10,\"solidity\":0.2},\"type\":\"scatter\"}],\"parcoords\":[{\"type\":\"parcoords\",\"line\":{\"colorbar\":{\"outlinewidth\":0,\"ticks\":\"\"}}}],\"scatterpolargl\":[{\"type\":\"scatterpolargl\",\"marker\":{\"colorbar\":{\"outlinewidth\":0,\"ticks\":\"\"}}}],\"bar\":[{\"error_x\":{\"color\":\"#2a3f5f\"},\"error_y\":{\"color\":\"#2a3f5f\"},\"marker\":{\"line\":{\"color\":\"#E5ECF6\",\"width\":0.5},\"pattern\":{\"fillmode\":\"overlay\",\"size\":10,\"solidity\":0.2}},\"type\":\"bar\"}],\"scattergeo\":[{\"type\":\"scattergeo\",\"marker\":{\"colorbar\":{\"outlinewidth\":0,\"ticks\":\"\"}}}],\"scatterpolar\":[{\"type\":\"scatterpolar\",\"marker\":{\"colorbar\":{\"outlinewidth\":0,\"ticks\":\"\"}}}],\"histogram\":[{\"marker\":{\"pattern\":{\"fillmode\":\"overlay\",\"size\":10,\"solidity\":0.2}},\"type\":\"histogram\"}],\"scattergl\":[{\"type\":\"scattergl\",\"marker\":{\"colorbar\":{\"outlinewidth\":0,\"ticks\":\"\"}}}],\"scatter3d\":[{\"type\":\"scatter3d\",\"line\":{\"colorbar\":{\"outlinewidth\":0,\"ticks\":\"\"}},\"marker\":{\"colorbar\":{\"outlinewidth\":0,\"ticks\":\"\"}}}],\"scattermapbox\":[{\"type\":\"scattermapbox\",\"marker\":{\"colorbar\":{\"outlinewidth\":0,\"ticks\":\"\"}}}],\"scatterternary\":[{\"type\":\"scatterternary\",\"marker\":{\"colorbar\":{\"outlinewidth\":0,\"ticks\":\"\"}}}],\"scattercarpet\":[{\"type\":\"scattercarpet\",\"marker\":{\"colorbar\":{\"outlinewidth\":0,\"ticks\":\"\"}}}],\"carpet\":[{\"aaxis\":{\"endlinecolor\":\"#2a3f5f\",\"gridcolor\":\"white\",\"linecolor\":\"white\",\"minorgridcolor\":\"white\",\"startlinecolor\":\"#2a3f5f\"},\"baxis\":{\"endlinecolor\":\"#2a3f5f\",\"gridcolor\":\"white\",\"linecolor\":\"white\",\"minorgridcolor\":\"white\",\"startlinecolor\":\"#2a3f5f\"},\"type\":\"carpet\"}],\"table\":[{\"cells\":{\"fill\":{\"color\":\"#EBF0F8\"},\"line\":{\"color\":\"white\"}},\"header\":{\"fill\":{\"color\":\"#C8D4E3\"},\"line\":{\"color\":\"white\"}},\"type\":\"table\"}],\"barpolar\":[{\"marker\":{\"line\":{\"color\":\"#E5ECF6\",\"width\":0.5},\"pattern\":{\"fillmode\":\"overlay\",\"size\":10,\"solidity\":0.2}},\"type\":\"barpolar\"}],\"pie\":[{\"automargin\":true,\"type\":\"pie\"}]},\"layout\":{\"autotypenumbers\":\"strict\",\"colorway\":[\"#636efa\",\"#EF553B\",\"#00cc96\",\"#ab63fa\",\"#FFA15A\",\"#19d3f3\",\"#FF6692\",\"#B6E880\",\"#FF97FF\",\"#FECB52\"],\"font\":{\"color\":\"#2a3f5f\"},\"hovermode\":\"closest\",\"hoverlabel\":{\"align\":\"left\"},\"paper_bgcolor\":\"white\",\"plot_bgcolor\":\"#E5ECF6\",\"polar\":{\"bgcolor\":\"#E5ECF6\",\"angularaxis\":{\"gridcolor\":\"white\",\"linecolor\":\"white\",\"ticks\":\"\"},\"radialaxis\":{\"gridcolor\":\"white\",\"linecolor\":\"white\",\"ticks\":\"\"}},\"ternary\":{\"bgcolor\":\"#E5ECF6\",\"aaxis\":{\"gridcolor\":\"white\",\"linecolor\":\"white\",\"ticks\":\"\"},\"baxis\":{\"gridcolor\":\"white\",\"linecolor\":\"white\",\"ticks\":\"\"},\"caxis\":{\"gridcolor\":\"white\",\"linecolor\":\"white\",\"ticks\":\"\"}},\"coloraxis\":{\"colorbar\":{\"outlinewidth\":0,\"ticks\":\"\"}},\"colorscale\":{\"sequential\":[[0.0,\"#0d0887\"],[0.1111111111111111,\"#46039f\"],[0.2222222222222222,\"#7201a8\"],[0.3333333333333333,\"#9c179e\"],[0.4444444444444444,\"#bd3786\"],[0.5555555555555556,\"#d8576b\"],[0.6666666666666666,\"#ed7953\"],[0.7777777777777778,\"#fb9f3a\"],[0.8888888888888888,\"#fdca26\"],[1.0,\"#f0f921\"]],\"sequentialminus\":[[0.0,\"#0d0887\"],[0.1111111111111111,\"#46039f\"],[0.2222222222222222,\"#7201a8\"],[0.3333333333333333,\"#9c179e\"],[0.4444444444444444,\"#bd3786\"],[0.5555555555555556,\"#d8576b\"],[0.6666666666666666,\"#ed7953\"],[0.7777777777777778,\"#fb9f3a\"],[0.8888888888888888,\"#fdca26\"],[1.0,\"#f0f921\"]],\"diverging\":[[0,\"#8e0152\"],[0.1,\"#c51b7d\"],[0.2,\"#de77ae\"],[0.3,\"#f1b6da\"],[0.4,\"#fde0ef\"],[0.5,\"#f7f7f7\"],[0.6,\"#e6f5d0\"],[0.7,\"#b8e186\"],[0.8,\"#7fbc41\"],[0.9,\"#4d9221\"],[1,\"#276419\"]]},\"xaxis\":{\"gridcolor\":\"white\",\"linecolor\":\"white\",\"ticks\":\"\",\"title\":{\"standoff\":15,\"font\":{\"size\":20}},\"zerolinecolor\":\"white\",\"automargin\":true,\"zerolinewidth\":2},\"yaxis\":{\"gridcolor\":\"white\",\"linecolor\":\"white\",\"ticks\":\"\",\"title\":{\"standoff\":15,\"font\":{\"size\":20}},\"zerolinecolor\":\"white\",\"automargin\":true,\"zerolinewidth\":2},\"scene\":{\"xaxis\":{\"backgroundcolor\":\"#E5ECF6\",\"gridcolor\":\"white\",\"linecolor\":\"white\",\"showbackground\":true,\"ticks\":\"\",\"zerolinecolor\":\"white\",\"gridwidth\":2},\"yaxis\":{\"backgroundcolor\":\"#E5ECF6\",\"gridcolor\":\"white\",\"linecolor\":\"white\",\"showbackground\":true,\"ticks\":\"\",\"zerolinecolor\":\"white\",\"gridwidth\":2},\"zaxis\":{\"backgroundcolor\":\"#E5ECF6\",\"gridcolor\":\"white\",\"linecolor\":\"white\",\"showbackground\":true,\"ticks\":\"\",\"zerolinecolor\":\"white\",\"gridwidth\":2}},\"shapedefaults\":{\"line\":{\"color\":\"#2a3f5f\"}},\"annotationdefaults\":{\"arrowcolor\":\"#2a3f5f\",\"arrowhead\":0,\"arrowwidth\":1},\"geo\":{\"bgcolor\":\"white\",\"landcolor\":\"#E5ECF6\",\"subunitcolor\":\"white\",\"showland\":true,\"showlakes\":true,\"lakecolor\":\"white\"},\"title\":{\"x\":0.05,\"font\":{\"size\":30}},\"mapbox\":{\"style\":\"light\"}}},\"xaxis\":{\"anchor\":\"y\",\"domain\":[0.0,1.0],\"title\":{\"text\":\"Epoch\"}},\"yaxis\":{\"anchor\":\"x\",\"domain\":[0.0,1.0],\"title\":{\"text\":\"LLC\"}},\"legend\":{\"tracegroupgap\":0},\"title\":{\"text\":\"Learning Coefficient Estimates\"},\"updatemenus\":[{\"active\":-1,\"buttons\":[{\"args\":[{\"xaxis.type\":\"log\"}],\"args2\":[{\"xaxis.type\":\"linear\"}],\"label\":\"Log x-axis\",\"method\":\"relayout\"}],\"type\":\"buttons\",\"x\":-0.1,\"y\":1.0},{\"active\":-1,\"buttons\":[{\"args\":[{\"yaxis.type\":\"log\"}],\"args2\":[{\"yaxis.type\":\"linear\"}],\"label\":\"Log y-axis\",\"method\":\"relayout\"}],\"type\":\"buttons\",\"x\":-0.1,\"y\":0.85}]},                        {\"responsive\": true}                    ).then(function(){\n",
              "                            \n",
              "var gd = document.getElementById('12aff56d-2c4b-4cd5-90c1-e324162b5087');\n",
              "var x = new MutationObserver(function (mutations, observer) {{\n",
              "        var display = window.getComputedStyle(gd).display;\n",
              "        if (!display || display === 'none') {{\n",
              "            console.log([gd, 'removed!']);\n",
              "            Plotly.purge(gd);\n",
              "            observer.disconnect();\n",
              "        }}\n",
              "}});\n",
              "\n",
              "// Listen for the removal of the full notebook cells\n",
              "var notebookContainer = gd.closest('#notebook-container');\n",
              "if (notebookContainer) {{\n",
              "    x.observe(notebookContainer, {childList: true});\n",
              "}}\n",
              "\n",
              "// Listen for the clearing of the current output cell\n",
              "var outputEl = gd.closest('.output');\n",
              "if (outputEl) {{\n",
              "    x.observe(outputEl, {childList: true});\n",
              "}}\n",
              "\n",
              "                        })                };                });            </script>        </div>"
            ]
          },
          "metadata": {},
          "output_type": "display_data"
        }
      ],
      "source": [
        "line(llc_estimates, xaxis=\"Epoch\", yaxis=\"LLC\", title=\"Learning Coefficient Estimates\", log_y=False, toggle_x=True, toggle_y=True)"
      ]
    },
    {
      "cell_type": "code",
      "execution_count": 319,
      "metadata": {},
      "outputs": [
        {
          "data": {
            "image/png": "[encoded data removed]",
            "text/plain": [
              "<Figure size 1200x600 with 2 Axes>"
            ]
          },
          "metadata": {},
          "output_type": "display_data"
        }
      ],
      "source": [
        "import seaborn as sns\n",
        "import matplotlib.pyplot as plt\n",
        "import numpy as np\n",
        "\n",
        "# Assuming you have your data prepared as before\n",
        "epochs = np.arange(0, 4000, 10)\n",
        "lc_epochs = np.arange(0, 4000, 100)\n",
        "\n",
        "# Set up the plot\n",
        "plt.figure(figsize=(12, 6))\n",
        "sns.set_style(\"ticks\")\n",
        "\n",
        "# Create the main axis\n",
        "ax1 = plt.gca()\n",
        "\n",
        "# Plot loss curves\n",
        "ax1.plot(epochs, test_losses_avg[::10], color=colors[0], label='Test Loss', linewidth=2)\n",
        "ax1.plot(epochs, train_losses_avg[::10], color=colors[1], label='Train Loss', linewidth=2)\n",
        "#ax1.plot(epochs, add_test_losses_avg, color=colors[2], label='Addition Only Test Loss', linewidth=2)\n",
        "#ax1.plot(epochs, multi_test_losses_avg, color=colors[3], label='Multiplication Only Test Loss', linewidth=2)\n",
        "\n",
        "# Set up the second y-axis for learning coefficient\n",
        "ax2 = ax1.twinx()\n",
        "ax2.plot(lc_epochs, llc_estimates[:4000], color=colors[4], linestyle='--', label='Learning Coefficient', linewidth=2)\n",
        "\n",
        "# Customize the plot\n",
        "ax1.set_xlabel('Epoch', fontsize=12)\n",
        "ax1.set_ylabel('Rolling Avg Loss', fontsize=12)\n",
        "ax2.set_ylabel('Learning Coefficient', fontsize=12)\n",
        "plt.title(f\"Loss and LLC During Training - {addition_frac*100:.0f}% Addition\", fontsize=14)\n",
        "\n",
        "# Adjust tick parameters\n",
        "ax1.tick_params(axis='both', which='major', labelsize=10)\n",
        "ax2.tick_params(axis='y', which='major', labelsize=10)\n",
        "\n",
        "# Create a combined legend\n",
        "lines1, labels1 = ax1.get_legend_handles_labels()\n",
        "lines2, labels2 = ax2.get_legend_handles_labels()\n",
        "ax1.legend(lines1 + lines2, labels1 + labels2, loc='center right') # bbox_to_anchor=(1.1, 1), fontsize=10)\n",
        "\n",
        "plt.tight_layout()\n",
        "plt.show()"
      ]
    }
  ],
  "metadata": {
    "colab": {
      "provenance": [],
      "toc_visible": true
    },
    "kernelspec": {
      "display_name": "base",
      "language": "python",
      "name": "python3"
    },
    "language_info": {
      "codemirror_mode": {
        "name": "ipython",
        "version": 3
      },
      "file_extension": ".py",
      "mimetype": "text/x-python",
      "name": "python",
      "nbconvert_exporter": "python",
      "pygments_lexer": "ipython3",
      "version": "3.12.5"
    },
    "orig_nbformat": 4,
    "vscode": {
      "interpreter": {
        "hash": "8859a5491331dba93123a91c2831400aced845b502848170e05fcb48b2c144be"
      }
    }
  },
  "nbformat": 4,
  "nbformat_minor": 0
}
